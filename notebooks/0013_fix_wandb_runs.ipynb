{
 "cells": [
  {
   "cell_type": "code",
   "execution_count": 1,
   "metadata": {},
   "outputs": [],
   "source": [
    "import wandb"
   ]
  },
  {
   "cell_type": "code",
   "execution_count": 5,
   "metadata": {},
   "outputs": [],
   "source": [
    "api = wandb.Api()"
   ]
  },
  {
   "cell_type": "code",
   "execution_count": 6,
   "outputs": [],
   "source": [
    "summary_metrics_max = [\n",
    "    \"F1\",\n",
    "    \"MCC\",\n",
    "    \"TNR\",\n",
    "    \"TNR\",\n",
    "    \"TPR\",\n",
    "    \"acc\",\n",
    "    \"balanced_acc\",\n",
    "    \"max_ba\",\n",
    "    \"max_f1\",\n",
    "    \"max_mcc\",\n",
    "    \"roc_auc\",\n",
    "    \"roc_auc_0.001FPR\",\n",
    "    \"roc_auc_0.01FPR\",\n",
    "    \"roc_auc_0.1FPR\",\n",
    "    \"tpr_eq_tnr\",\n",
    "    \"trk.double_majority\",\n",
    "    \"adjusted_rand\",\n",
    "    \"completeness\",\n",
    "    \"trk.lhc\",\n",
    "    \"homogeneity\",\n",
    "    \"trk.perfect\",\n",
    "]\n",
    "summary_metrics_min = [\n",
    "    \"FNR\", \"FPR\"\n",
    "]"
   ],
   "metadata": {
    "collapsed": false
   }
  },
  {
   "cell_type": "code",
   "execution_count": 7,
   "metadata": {},
   "outputs": [],
   "source": [
    "def update_summary_metrics(run):\n",
    "    history = run.history()\n",
    "    for key in run.summary.keys():\n",
    "        if any((part in key for part in summary_metrics_max)):\n",
    "            run.summary[key] = history[key].max()\n",
    "        elif any((part in key for part in summary_metrics_min)):\n",
    "            run.summary[key] = history[key].min()\n",
    "    run.summary.update()"
   ]
  },
  {
   "cell_type": "code",
   "execution_count": 8,
   "metadata": {},
   "outputs": [],
   "source": [
    "runs = api.runs('gnn_tracking/gnn_tracking', {\n",
    "    \"$and\": [{\n",
    "    'created_at': {\n",
    "        \"$gt\": '2023-01-28'\n",
    "        }\n",
    "    }]\n",
    "})"
   ]
  },
  {
   "cell_type": "markdown",
   "source": [],
   "metadata": {
    "collapsed": false
   }
  },
  {
   "cell_type": "code",
   "execution_count": 9,
   "metadata": {},
   "outputs": [
    {
     "name": "stderr",
     "output_type": "stream",
     "text": [
      "100%|██████████| 214/214 [00:33<00:00,  6.35it/s]\n"
     ]
    }
   ],
   "source": [
    "from tqdm import tqdm\n",
    "\n",
    "for run in tqdm(runs):\n",
    "    update_summary_metrics(run)"
   ]
  },
  {
   "cell_type": "code",
   "execution_count": null,
   "metadata": {},
   "outputs": [],
   "source": []
  }
 ],
 "metadata": {
  "kernelspec": {
   "display_name": "Python 3 (ipykernel)",
   "language": "python",
   "name": "python3"
  },
  "language_info": {
   "codemirror_mode": {
    "name": "ipython",
    "version": 3
   },
   "file_extension": ".py",
   "mimetype": "text/x-python",
   "name": "python",
   "nbconvert_exporter": "python",
   "pygments_lexer": "ipython3",
   "version": "3.9.0"
  }
 },
 "nbformat": 4,
 "nbformat_minor": 1
}
