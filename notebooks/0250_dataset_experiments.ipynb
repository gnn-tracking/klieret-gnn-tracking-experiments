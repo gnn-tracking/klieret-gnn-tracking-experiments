{
 "cells": [
  {
   "cell_type": "code",
   "execution_count": 12,
   "metadata": {},
   "outputs": [
    {
     "name": "stdout",
     "output_type": "stream",
     "text": [
      "The autoreload extension is already loaded. To reload it, use:\n",
      "  %reload_ext autoreload\n"
     ]
    }
   ],
   "source": [
    "from gnn_tracking.graph_construction.graph_builder import TrackingDataset\n",
    "from gnn_tracking.utils.log import logger\n",
    "import time\n",
    "%load_ext autoreload\n",
    "%autoreload 1"
   ]
  },
  {
   "cell_type": "code",
   "execution_count": 2,
   "metadata": {},
   "outputs": [
    {
     "name": "stderr",
     "output_type": "stream",
     "text": [
      "\u001b[32m[16:02:28] INFO: DataLoader will load 2 graphs (out of 2 available).\u001b[0m\n",
      "\u001b[36m[16:02:28] DEBUG: First graph is /Users/fuchur/Documents/23/git_sync/test-data/data/graphs/data1_s0.pt, last graph is /Users/fuchur/Documents/23/git_sync/test-data/data/graphs/data1_s1.pt\u001b[0m\n"
     ]
    }
   ],
   "source": [
    "td = TrackingDataset(\n",
    "    \"/Users/fuchur/Documents/23/git_sync/test-data/data/graphs/\"\n",
    ")"
   ]
  },
  {
   "cell_type": "code",
   "execution_count": 3,
   "metadata": {},
   "outputs": [
    {
     "name": "stderr",
     "output_type": "stream",
     "text": [
      "\u001b[36m[16:02:29] DEBUG: Get 1\u001b[0m\n"
     ]
    },
    {
     "data": {
      "text/plain": [
       "Data(x=[750, 6], edge_index=[2, 5796], edge_attr=[5796, 4], y=[5796], pt=[750], particle_id=[750], reconstructable=[750], sector=[750], evtid=[1], s=[1])"
      ]
     },
     "execution_count": 3,
     "metadata": {},
     "output_type": "execute_result"
    }
   ],
   "source": [
    "td[1]"
   ]
  },
  {
   "cell_type": "code",
   "execution_count": 4,
   "metadata": {},
   "outputs": [],
   "source": [
    "from torch_geometric.loader import DataLoader\n"
   ]
  },
  {
   "cell_type": "code",
   "execution_count": 15,
   "metadata": {},
   "outputs": [],
   "source": [
    "dl = DataLoader(td, num_workers=2)"
   ]
  },
  {
   "attachments": {},
   "cell_type": "markdown",
   "metadata": {},
   "source": [
    "## Check parallel loading "
   ]
  },
  {
   "cell_type": "code",
   "execution_count": 16,
   "metadata": {},
   "outputs": [
    {
     "name": "stderr",
     "output_type": "stream",
     "text": [
      "\u001b[36m[16:05:50] DEBUG: Get 1\u001b[0m\n",
      "\u001b[36m[16:05:50] DEBUG: Get 0\u001b[0m\n",
      "\u001b[32m[16:05:50] INFO: i=0\u001b[0m\n",
      "\u001b[32m[16:05:50] INFO: Sleeping\u001b[0m\n",
      "\u001b[32m[16:05:55] INFO: About to head into next iteration\u001b[0m\n",
      "\u001b[32m[16:05:55] INFO: i=1\u001b[0m\n",
      "\u001b[32m[16:05:55] INFO: Sleeping\u001b[0m\n",
      "\u001b[32m[16:06:00] INFO: About to head into next iteration\u001b[0m\n"
     ]
    }
   ],
   "source": [
    "for i, data in enumerate(dl):\n",
    "    logger.info(f\"{i=}\")\n",
    "    logger.info(\"Sleeping\")\n",
    "    time.sleep(5)\n",
    "    logger.info(\"About to head into next iteration\")"
   ]
  },
  {
   "cell_type": "code",
   "execution_count": 17,
   "metadata": {},
   "outputs": [
    {
     "data": {
      "text/plain": [
       "DataBatch(x=[750, 6], edge_index=[2, 5796], edge_attr=[5796, 4], y=[5796], pt=[750], particle_id=[750], reconstructable=[750], sector=[750], evtid=[1], s=[1], batch=[750], ptr=[2])"
      ]
     },
     "execution_count": 17,
     "metadata": {},
     "output_type": "execute_result"
    }
   ],
   "source": [
    "data"
   ]
  },
  {
   "cell_type": "code",
   "execution_count": null,
   "metadata": {},
   "outputs": [],
   "source": []
  }
 ],
 "metadata": {
  "kernelspec": {
   "display_name": "gnn",
   "language": "python",
   "name": "python3"
  },
  "language_info": {
   "codemirror_mode": {
    "name": "ipython",
    "version": 3
   },
   "file_extension": ".py",
   "mimetype": "text/x-python",
   "name": "python",
   "nbconvert_exporter": "python",
   "pygments_lexer": "ipython3",
   "version": "3.9.0"
  },
  "orig_nbformat": 4
 },
 "nbformat": 4,
 "nbformat_minor": 2
}
