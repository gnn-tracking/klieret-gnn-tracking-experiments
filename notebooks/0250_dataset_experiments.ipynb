{
 "cells": [
  {
   "cell_type": "code",
   "execution_count": 1,
   "metadata": {},
   "outputs": [],
   "source": [
    "from gnn_tracking.utils.loading import TrackingDataset\n",
    "from gnn_tracking.utils.log import logger\n",
    "import time\n",
    "%load_ext autoreload\n",
    "%autoreload 1"
   ]
  },
  {
   "cell_type": "code",
   "execution_count": null,
   "metadata": {},
   "outputs": [
    {
     "name": "stderr",
     "output_type": "stream",
     "text": [
      "\u001B[32m[17:28:03] INFO: DataLoader will load 2 graphs (out of 2 available).\u001B[0m\n",
      "\u001B[36m[17:28:03] DEBUG: First graph is /Users/fuchur/Documents/23/git_sync/test-data/data/graphs/data1_s0.pt, last graph is /Users/fuchur/Documents/23/git_sync/test-data/data/graphs/data1_s1.pt\u001B[0m\n"
     ]
    }
   ],
   "source": [
    "td = TrackingDataset(\n",
    "    \"/Users/fuchur/Documents/23/git_sync/test-data/data/graphs/\"\n",
    ")"
   ]
  },
  {
   "cell_type": "code",
   "execution_count": null,
   "metadata": {},
   "outputs": [
    {
     "data": {
      "text/plain": [
       "Data(x=[750, 6], edge_index=[2, 5796], edge_attr=[5796, 4], y=[5796], pt=[750], particle_id=[750], reconstructable=[750], sector=[750], evtid=[1], s=[1])"
      ]
     },
     "execution_count": 6,
     "metadata": {},
     "output_type": "execute_result"
    }
   ],
   "source": [
    "td[1]"
   ]
  },
  {
   "cell_type": "code",
   "execution_count": null,
   "metadata": {},
   "outputs": [],
   "source": [
    "from torch_geometric.loader import DataLoader\n"
   ]
  },
  {
   "cell_type": "code",
   "execution_count": null,
   "metadata": {},
   "outputs": [],
   "source": [
    "dl = DataLoader(td, num_workers=2)"
   ]
  },
  {
   "attachments": {},
   "cell_type": "markdown",
   "metadata": {},
   "source": [
    "## Check parallel loading "
   ]
  },
  {
   "cell_type": "code",
   "execution_count": 10,
   "metadata": {},
   "outputs": [
    {
     "name": "stderr",
     "output_type": "stream",
     "text": [
      "\u001B[32m[17:28:14] INFO: i=0\u001B[0m\n",
      "\u001B[32m[17:28:14] INFO: Sleeping\u001B[0m\n",
      "\u001B[32m[17:28:16] INFO: About to head into next iteration\u001B[0m\n",
      "\u001B[32m[17:28:16] INFO: i=1\u001B[0m\n",
      "\u001B[32m[17:28:16] INFO: Sleeping\u001B[0m\n",
      "\u001B[32m[17:28:18] INFO: About to head into next iteration\u001B[0m\n"
     ]
    }
   ],
   "source": [
    "for i, data in enumerate(dl):\n",
    "    logger.info(f\"{i=}\")\n",
    "    logger.info(\"Sleeping\")\n",
    "    time.sleep(2)\n",
    "    logger.info(\"About to head into next iteration\")"
   ]
  },
  {
   "cell_type": "code",
   "execution_count": 11,
   "metadata": {},
   "outputs": [
    {
     "data": {
      "text/plain": [
       "DataBatch(x=[750, 6], edge_index=[2, 5796], edge_attr=[5796, 4], y=[5796], pt=[750], particle_id=[750], reconstructable=[750], sector=[750], evtid=[1], s=[1], batch=[750], ptr=[2])"
      ]
     },
     "execution_count": 11,
     "metadata": {},
     "output_type": "execute_result"
    }
   ],
   "source": [
    "data"
   ]
  },
  {
   "cell_type": "code",
   "execution_count": 12,
   "metadata": {},
   "outputs": [],
   "source": [
    "from torch.utils.data import random_split"
   ]
  },
  {
   "cell_type": "code",
   "execution_count": 16,
   "metadata": {},
   "outputs": [
    {
     "data": {
      "text/plain": [
       "2"
      ]
     },
     "execution_count": 16,
     "metadata": {},
     "output_type": "execute_result"
    }
   ],
   "source": [
    "len(td)"
   ]
  },
  {
   "cell_type": "code",
   "execution_count": 17,
   "metadata": {},
   "outputs": [
    {
     "ename": "ValueError",
     "evalue": "Sum of input lengths does not equal the length of the input dataset!",
     "output_type": "error",
     "traceback": [
      "\u001B[0;31m---------------------------------------------------------------------------\u001B[0m",
      "\u001B[0;31mValueError\u001B[0m                                Traceback (most recent call last)",
      "\u001B[1;32m/Users/fuchur/Documents/22/git_sync/gnn-tracking-experiments/notebooks/0250_dataset_experiments.ipynb Cell 11\u001B[0m in \u001B[0;36m1\n\u001B[0;32m----> <a href='vscode-notebook-cell:/Users/fuchur/Documents/22/git_sync/gnn-tracking-experiments/notebooks/0250_dataset_experiments.ipynb#X12sZmlsZQ%3D%3D?line=0'>1</a>\u001B[0m random_split(td, [\u001B[39m0.\u001B[39m, \u001B[39m1.\u001B[39m])\n",
      "File \u001B[0;32m~/.miniconda3/envs/gnn/lib/python3.9/site-packages/torch/utils/data/dataset.py:311\u001B[0m, in \u001B[0;36mrandom_split\u001B[0;34m(dataset, lengths, generator)\u001B[0m\n\u001B[1;32m    309\u001B[0m \u001B[39m# Cannot verify that dataset is Sized\u001B[39;00m\n\u001B[1;32m    310\u001B[0m \u001B[39mif\u001B[39;00m \u001B[39msum\u001B[39m(lengths) \u001B[39m!=\u001B[39m \u001B[39mlen\u001B[39m(dataset):    \u001B[39m# type: ignore[arg-type]\u001B[39;00m\n\u001B[0;32m--> 311\u001B[0m     \u001B[39mraise\u001B[39;00m \u001B[39mValueError\u001B[39;00m(\u001B[39m\"\u001B[39m\u001B[39mSum of input lengths does not equal the length of the input dataset!\u001B[39m\u001B[39m\"\u001B[39m)\n\u001B[1;32m    313\u001B[0m indices \u001B[39m=\u001B[39m randperm(\u001B[39msum\u001B[39m(lengths), generator\u001B[39m=\u001B[39mgenerator)\u001B[39m.\u001B[39mtolist()\n\u001B[1;32m    314\u001B[0m \u001B[39mreturn\u001B[39;00m [Subset(dataset, indices[offset \u001B[39m-\u001B[39m length : offset]) \u001B[39mfor\u001B[39;00m offset, length \u001B[39min\u001B[39;00m \u001B[39mzip\u001B[39m(_accumulate(lengths), lengths)]\n",
      "\u001B[0;31mValueError\u001B[0m: Sum of input lengths does not equal the length of the input dataset!"
     ]
    }
   ],
   "source": [
    "random_split(td, [0., 1.])"
   ]
  },
  {
   "cell_type": "code",
   "execution_count": 18,
   "metadata": {},
   "outputs": [],
   "source": [
    "import torch"
   ]
  },
  {
   "cell_type": "code",
   "execution_count": 20,
   "metadata": {},
   "outputs": [
    {
     "data": {
      "text/plain": [
       "'1.12.0'"
      ]
     },
     "execution_count": 20,
     "metadata": {},
     "output_type": "execute_result"
    }
   ],
   "source": [
    "torch.__version__"
   ]
  },
  {
   "cell_type": "code",
   "execution_count": null,
   "metadata": {},
   "outputs": [],
   "source": []
  }
 ],
 "metadata": {
  "kernelspec": {
   "display_name": "gnn",
   "language": "python",
   "name": "python3"
  },
  "language_info": {
   "codemirror_mode": {
    "name": "ipython",
    "version": 3
   },
   "file_extension": ".py",
   "mimetype": "text/x-python",
   "name": "python",
   "nbconvert_exporter": "python",
   "pygments_lexer": "ipython3",
   "version": "3.9.0"
  },
  "orig_nbformat": 4
 },
 "nbformat": 4,
 "nbformat_minor": 2
}
