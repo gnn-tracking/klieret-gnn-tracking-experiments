{
 "cells": [
  {
   "cell_type": "code",
   "execution_count": 6,
   "metadata": {
    "collapsed": true
   },
   "outputs": [],
   "source": [
    "from __future__ import annotations\n",
    "\n",
    "from typing import Any\n",
    "\n",
    "from gnn_tracking.models.track_condensation_networks import PerfectECGraphTCN\n",
    "from gnn_tracking.training.dynamiclossweights import NormalizeAt\n",
    "from gnn_tracking.utils.dictionaries import subdict_with_prefix_stripped\n",
    "from torch import nn\n",
    "\n",
    "import numpy as np\n",
    "from celluloid import Camera\n",
    "\n",
    "from gnn_tracking_hpo.config import auto_suggest_if_not_fixed, get_metadata\n",
    "from gnn_tracking_hpo.trainable import TCNTrainable, suggest_default_values"
   ]
  },
  {
   "cell_type": "code",
   "execution_count": 7,
   "outputs": [],
   "source": [
    "class DynamicTCNTrainable(TCNTrainable):\n",
    "    def get_loss_functions(self) -> dict[str, Any]:\n",
    "        return {\n",
    "            \"potential\": self.get_potential_loss_function(),\n",
    "            \"background\": self.get_background_loss_function(),\n",
    "        }\n",
    "\n",
    "    def get_cluster_functions(self) -> dict[str, Any]:\n",
    "        return {}\n",
    "\n",
    "    def get_loss_weights(self):\n",
    "        relative_weights = [\n",
    "            {},\n",
    "            subdict_with_prefix_stripped(self.tc, \"rlw_\"),\n",
    "        ]\n",
    "        return NormalizeAt(\n",
    "            at=[0, 1],\n",
    "            relative_weights=relative_weights,\n",
    "        )\n",
    "\n",
    "    def get_model(self) -> nn.Module:\n",
    "        return PerfectECGraphTCN(\n",
    "            node_indim=6, edge_indim=4, **subdict_with_prefix_stripped(self.tc, \"m_\"),\n",
    "        )\n",
    "        pass\n"
   ],
   "metadata": {
    "collapsed": false
   }
  },
  {
   "cell_type": "code",
   "execution_count": 8,
   "outputs": [],
   "source": [
    "def get_config(\n",
    ") -> dict[str, Any]:\n",
    "    config = get_metadata()\n",
    "\n",
    "    def d(key, *args, **kwargs):\n",
    "        auto_suggest_if_not_fixed(key, config, None, *args, **kwargs)\n",
    "\n",
    "    d(\"sector\", 9)\n",
    "    d(\"n_graphs_train\", 20)\n",
    "    d(\"n_graphs_val\", 10)\n",
    "    d(\"n_graphs_test\", 1)\n",
    "    d(\"training_pt_thld\", 0.3)\n",
    "    d(\"training_without_noise\", False)\n",
    "    d(\"batch_size\", 1)\n",
    "    d(\"m_h_outdim\", 2)\n",
    "    d(\"m_ec_tnr\", 1)\n",
    "    d(\"m_ec_tpr\", 0.6)\n",
    "\n",
    "\n",
    "    suggest_default_values(config, None, perfect_ec=True)\n",
    "    return config"
   ],
   "metadata": {
    "collapsed": false
   }
  },
  {
   "cell_type": "code",
   "execution_count": 9,
   "outputs": [],
   "source": [
    "config = get_config()"
   ],
   "metadata": {
    "collapsed": false
   }
  },
  {
   "cell_type": "code",
   "execution_count": 67,
   "outputs": [],
   "source": [
    "from gnn_tracking.training.tcn_trainer import TCNTrainer\n",
    "from torch_geometric.data import Data\n",
    "\n",
    "\n",
    "class FixedDataLatentSpacePlotCollector:\n",
    "    def __init__(self, data: Data, apply_truth_cuts=True):\n",
    "        \"\"\"This hook for collecting data for latent space animations\n",
    "        is the most precise/detailed one, because it evaluates one\n",
    "        graph after every single batch.\n",
    "        The downside: It slows down training significantly because it\n",
    "        doubles the evaluations that need to be done.\n",
    "\n",
    "        Args:\n",
    "            data:\n",
    "            apply_truth_cuts:\n",
    "        \"\"\"\n",
    "        self.latent_spaces = []\n",
    "        self.latent_epoch = []\n",
    "        self.latent_batch_index = []\n",
    "        self.data = data\n",
    "        self.apply_truth_cuts = apply_truth_cuts\n",
    "\n",
    "    @staticmethod\n",
    "    def should_snapshot(epoch: int, batch_index: int) -> bool:\n",
    "        \"\"\"Implement this to avoid performance degradation by\n",
    "        only taking snapshot every nth epoch/batch\n",
    "        \"\"\"\n",
    "        return True\n",
    "\n",
    "    def __call__(self, trainer: TCNTrainer, epoch: int, batch_index: int, model_output: int, data: Data):\n",
    "        if not self.should_snapshot(epoch, batch_index):\n",
    "            return\n",
    "        test_model_output = trainer.evaluate_model(self.data, apply_truth_cuts=self.apply_truth_cuts)\n",
    "        self.latent_spaces.append(test_model_output[\"x\"].detach().numpy())\n",
    "        self.latent_epoch.append(epoch)\n",
    "        self.latent_batch_index.append(batch_index)"
   ],
   "metadata": {
    "collapsed": false
   }
  },
  {
   "cell_type": "code",
   "execution_count": 21,
   "outputs": [
    {
     "name": "stderr",
     "output_type": "stream",
     "text": [
      "\u001B[36mDEBUG: Got config\n",
      "{'attr_pt_thld': 0.9,\n",
      " 'batch_size': 1,\n",
      " 'gnn_tracking_experiments_hash': 'efed91462fea5b9ef534ef30dc6d21ee7188bf18',\n",
      " 'gnn_tracking_hash': '299adb94b814860c454c255a503a512f510f40cb',\n",
      " 'lr': 0.0005,\n",
      " 'm_L_hc': 3,\n",
      " 'm_alpha_hc': 0.5,\n",
      " 'm_e_dim': 4,\n",
      " 'm_ec_tnr': 1,\n",
      " 'm_ec_tpr': 0.6,\n",
      " 'm_h_dim': 5,\n",
      " 'm_h_outdim': 2,\n",
      " 'm_hidden_dim': 40,\n",
      " 'n_graphs_test': 1,\n",
      " 'n_graphs_train': 20,\n",
      " 'n_graphs_val': 10,\n",
      " 'optimizer': 'adam',\n",
      " 'q_min': 0.01,\n",
      " 'sb': 0.1,\n",
      " 'scheduler': None,\n",
      " 'sector': 9,\n",
      " 'test': False,\n",
      " 'training_pt_thld': 0.3,\n",
      " 'training_without_noise': False}\u001B[0m\n",
      "\u001B[32mINFO: Loading data to cpu memory\u001B[0m\n",
      "\u001B[32mINFO: Loading 31 graphs (out of 371 available).\u001B[0m\n",
      "\u001B[36mDEBUG: Parameters for data loaders: {'batch_size': 1, 'num_workers': 12}\u001B[0m\n",
      "\u001B[32mINFO: Using device cpu\u001B[0m\n"
     ]
    }
   ],
   "source": [
    "trainable = DynamicTCNTrainable(config)\n",
    "trainer = trainable.trainer"
   ],
   "metadata": {
    "collapsed": false
   }
  },
  {
   "cell_type": "code",
   "execution_count": 22,
   "outputs": [],
   "source": [
    "import torch\n",
    "trainer = trainable.trainer\n",
    "sel = 5\n",
    "\n",
    "with torch.no_grad():\n",
    "    loader = trainer.val_loader\n",
    "    for idx, data in enumerate(loader):\n",
    "        if idx < sel:\n",
    "            continue\n",
    "        # model_output = trainer.evaluate_model(data, mask_pids_reco=False)\n",
    "        if idx == sel:\n",
    "            break\n",
    "\n",
    "test_data_point = data"
   ],
   "metadata": {
    "collapsed": false
   }
  },
  {
   "cell_type": "code",
   "execution_count": 23,
   "outputs": [],
   "source": [
    "collector = FixedDataLatentSpacePlotCollector(data)\n",
    "trainer.add_hook(collector, \"batch\")"
   ],
   "metadata": {
    "collapsed": false
   }
  },
  {
   "cell_type": "code",
   "execution_count": 64,
   "outputs": [],
   "source": [
    "trainer.test_step = lambda *args, **kwargs: {}"
   ],
   "metadata": {
    "collapsed": false
   }
  },
  {
   "cell_type": "code",
   "execution_count": 65,
   "outputs": [
    {
     "name": "stderr",
     "output_type": "stream",
     "text": [
      "\u001B[32mINFO: Epoch 14 (    0/20): background_weighted=   1.09291, potential_attractive_weighted=   0.00066, potential_repulsive_weighted=   0.59107\u001B[0m\n",
      "\u001B[32mINFO: Epoch 14 (   10/20): background_weighted=   1.09832, potential_attractive_weighted=   0.00076, potential_repulsive_weighted=   0.62400\u001B[0m\n",
      "\u001B[32mINFO: Training for epoch 14 took 2.16 seconds\u001B[0m\n",
      "\u001B[32mINFO: Test step for epoch 14 took 0.00 seconds\u001B[0m\n",
      "\u001B[32mINFO: Results 14: \n",
      "+----+-------------------------------------+-----------+\n",
      "|    | Metric                              |     Value |\n",
      "+====+=====================================+===========+\n",
      "|    | background_train                    |   0.58573 |\n",
      "|    | background_weighted_train           |   1.09821 |\n",
      "|    | potential_attractive_train          |   0.00000 |\n",
      "|    | potential_attractive_weighted_train |   0.00075 |\n",
      "|    | potential_repulsive_train           | 169.25667 |\n",
      "|    | potential_repulsive_weighted_train  |   0.54591 |\n",
      "|    | total_train                         |   1.64488 |\n",
      "+----+-------------------------------------+-----------+\u001B[0m\n",
      "\u001B[32mINFO: Epoch 15 (    0/20): background_weighted=   1.10465, potential_attractive_weighted=   0.00077, potential_repulsive_weighted=   0.63640\u001B[0m\n",
      "\u001B[32mINFO: Epoch 15 (   10/20): background_weighted=   1.11221, potential_attractive_weighted=   0.00091, potential_repulsive_weighted=   0.48902\u001B[0m\n",
      "\u001B[32mINFO: Training for epoch 15 took 2.13 seconds\u001B[0m\n",
      "\u001B[32mINFO: Test step for epoch 15 took 0.00 seconds\u001B[0m\n",
      "\u001B[32mINFO: Results 15: \n",
      "+----+-------------------------------------+-----------+\n",
      "|    | Metric                              |     Value |\n",
      "+====+=====================================+===========+\n",
      "|    | background_train                    |   0.59339 |\n",
      "|    | background_weighted_train           |   1.11256 |\n",
      "|    | potential_attractive_train          |   0.00000 |\n",
      "|    | potential_attractive_weighted_train |   0.00106 |\n",
      "|    | potential_repulsive_train           | 152.10206 |\n",
      "|    | potential_repulsive_weighted_train  |   0.49058 |\n",
      "|    | total_train                         |   1.60421 |\n",
      "+----+-------------------------------------+-----------+\u001B[0m\n",
      "\u001B[32mINFO: Epoch 16 (    0/20): background_weighted=   1.12151, potential_attractive_weighted=   0.00112, potential_repulsive_weighted=   0.42365\u001B[0m\n",
      "\u001B[32mINFO: Epoch 16 (   10/20): background_weighted=   1.13761, potential_attractive_weighted=   0.00172, potential_repulsive_weighted=   0.34593\u001B[0m\n",
      "\u001B[32mINFO: Training for epoch 16 took 2.17 seconds\u001B[0m\n",
      "\u001B[32mINFO: Test step for epoch 16 took 0.00 seconds\u001B[0m\n",
      "\u001B[32mINFO: Results 16: \n",
      "+----+-------------------------------------+-----------+\n",
      "|    | Metric                              |     Value |\n",
      "+====+=====================================+===========+\n",
      "|    | background_train                    |   0.60776 |\n",
      "|    | background_weighted_train           |   1.13950 |\n",
      "|    | potential_attractive_train          |   0.00000 |\n",
      "|    | potential_attractive_weighted_train |   0.00260 |\n",
      "|    | potential_repulsive_train           | 114.44617 |\n",
      "|    | potential_repulsive_weighted_train  |   0.36913 |\n",
      "|    | total_train                         |   1.51123 |\n",
      "+----+-------------------------------------+-----------+\u001B[0m\n",
      "\u001B[32mINFO: Epoch 17 (    0/20): background_weighted=   1.16847, potential_attractive_weighted=   0.00593, potential_repulsive_weighted=   0.26556\u001B[0m\n",
      "\u001B[32mINFO: Epoch 17 (   10/20): background_weighted=   1.24846, potential_attractive_weighted=   0.00319, potential_repulsive_weighted=   0.13525\u001B[0m\n",
      "\u001B[32mINFO: Training for epoch 17 took 2.30 seconds\u001B[0m\n",
      "\u001B[32mINFO: Test step for epoch 17 took 0.00 seconds\u001B[0m\n",
      "\u001B[32mINFO: Results 17: \n",
      "+----+-------------------------------------+----------+\n",
      "|    | Metric                              |    Value |\n",
      "+====+=====================================+==========+\n",
      "|    | background_train                    |  0.65517 |\n",
      "|    | background_weighted_train           |  1.22840 |\n",
      "|    | potential_attractive_train          |  0.00000 |\n",
      "|    | potential_attractive_weighted_train |  0.00349 |\n",
      "|    | potential_repulsive_train           | 43.83133 |\n",
      "|    | potential_repulsive_weighted_train  |  0.14137 |\n",
      "|    | total_train                         |  1.37326 |\n",
      "+----+-------------------------------------+----------+\u001B[0m\n",
      "\u001B[32mINFO: Epoch 18 (    0/20): background_weighted=   1.29225, potential_attractive_weighted=   0.00149, potential_repulsive_weighted=   0.06854\u001B[0m\n",
      "\u001B[32mINFO: Epoch 18 (   10/20): background_weighted=   1.23628, potential_attractive_weighted=   0.00135, potential_repulsive_weighted=   0.12338\u001B[0m\n",
      "\u001B[32mINFO: Training for epoch 18 took 2.16 seconds\u001B[0m\n",
      "\u001B[32mINFO: Test step for epoch 18 took 0.00 seconds\u001B[0m\n",
      "\u001B[32mINFO: Results 18: \n",
      "+----+-------------------------------------+----------+\n",
      "|    | Metric                              |    Value |\n",
      "+====+=====================================+==========+\n",
      "|    | background_train                    |  0.66647 |\n",
      "|    | background_weighted_train           |  1.24958 |\n",
      "|    | potential_attractive_train          |  0.00000 |\n",
      "|    | potential_attractive_weighted_train |  0.00132 |\n",
      "|    | potential_repulsive_train           | 33.42771 |\n",
      "|    | potential_repulsive_weighted_train  |  0.10782 |\n",
      "|    | total_train                         |  1.35872 |\n",
      "+----+-------------------------------------+----------+\u001B[0m\n",
      "\u001B[32mINFO: Epoch 19 (    0/20): background_weighted=   1.25101, potential_attractive_weighted=   0.00092, potential_repulsive_weighted=   0.11301\u001B[0m\n",
      "\u001B[32mINFO: Epoch 19 (   10/20): background_weighted=   1.24139, potential_attractive_weighted=   0.00061, potential_repulsive_weighted=   0.09836\u001B[0m\n",
      "\u001B[32mINFO: Training for epoch 19 took 2.09 seconds\u001B[0m\n",
      "\u001B[32mINFO: Test step for epoch 19 took 0.00 seconds\u001B[0m\n",
      "\u001B[32mINFO: Results 19: \n",
      "+----+-------------------------------------+----------+\n",
      "|    | Metric                              |    Value |\n",
      "+====+=====================================+==========+\n",
      "|    | background_train                    |  0.65670 |\n",
      "|    | background_weighted_train           |  1.23127 |\n",
      "|    | potential_attractive_train          |  0.00000 |\n",
      "|    | potential_attractive_weighted_train |  0.00068 |\n",
      "|    | potential_repulsive_train           | 38.01004 |\n",
      "|    | potential_repulsive_weighted_train  |  0.12260 |\n",
      "|    | total_train                         |  1.35455 |\n",
      "+----+-------------------------------------+----------+\u001B[0m\n",
      "\u001B[32mINFO: Epoch 20 (    0/20): background_weighted=   1.22521, potential_attractive_weighted=   0.00047, potential_repulsive_weighted=   0.13495\u001B[0m\n",
      "\u001B[32mINFO: Epoch 20 (   10/20): background_weighted=   1.24036, potential_attractive_weighted=   0.00070, potential_repulsive_weighted=   0.12839\u001B[0m\n",
      "\u001B[32mINFO: Training for epoch 20 took 2.17 seconds\u001B[0m\n",
      "\u001B[32mINFO: Test step for epoch 20 took 0.00 seconds\u001B[0m\n",
      "\u001B[32mINFO: Results 20: \n",
      "+----+-------------------------------------+----------+\n",
      "|    | Metric                              |    Value |\n",
      "+====+=====================================+==========+\n",
      "|    | background_train                    |  0.65609 |\n",
      "|    | background_weighted_train           |  1.23013 |\n",
      "|    | potential_attractive_train          |  0.00000 |\n",
      "|    | potential_attractive_weighted_train |  0.00079 |\n",
      "|    | potential_repulsive_train           | 36.53331 |\n",
      "|    | potential_repulsive_weighted_train  |  0.11783 |\n",
      "|    | total_train                         |  1.34876 |\n",
      "+----+-------------------------------------+----------+\u001B[0m\n",
      "\u001B[32mINFO: Epoch 21 (    0/20): background_weighted=   1.24300, potential_attractive_weighted=   0.00108, potential_repulsive_weighted=   0.12478\u001B[0m\n",
      "\u001B[32mINFO: Epoch 21 (   10/20): background_weighted=   1.23166, potential_attractive_weighted=   0.00039, potential_repulsive_weighted=   0.09911\u001B[0m\n",
      "\u001B[32mINFO: Training for epoch 21 took 2.16 seconds\u001B[0m\n",
      "\u001B[32mINFO: Test step for epoch 21 took 0.00 seconds\u001B[0m\n",
      "\u001B[32mINFO: Results 21: \n",
      "+----+-------------------------------------+----------+\n",
      "|    | Metric                              |    Value |\n",
      "+====+=====================================+==========+\n",
      "|    | background_train                    |  0.65110 |\n",
      "|    | background_weighted_train           |  1.22077 |\n",
      "|    | potential_attractive_train          |  0.00000 |\n",
      "|    | potential_attractive_weighted_train |  0.00060 |\n",
      "|    | potential_repulsive_train           | 38.68987 |\n",
      "|    | potential_repulsive_weighted_train  |  0.12479 |\n",
      "|    | total_train                         |  1.34616 |\n",
      "+----+-------------------------------------+----------+\u001B[0m\n",
      "\u001B[32mINFO: Epoch 22 (    0/20): background_weighted=   1.20312, potential_attractive_weighted=   0.00069, potential_repulsive_weighted=   0.13557\u001B[0m\n",
      "\u001B[32mINFO: Epoch 22 (   10/20): background_weighted=   1.20819, potential_attractive_weighted=   0.00058, potential_repulsive_weighted=   0.10757\u001B[0m\n",
      "\u001B[32mINFO: Training for epoch 22 took 2.17 seconds\u001B[0m\n",
      "\u001B[32mINFO: Test step for epoch 22 took 0.00 seconds\u001B[0m\n",
      "\u001B[32mINFO: Results 22: \n",
      "+----+-------------------------------------+----------+\n",
      "|    | Metric                              |    Value |\n",
      "+====+=====================================+==========+\n",
      "|    | background_train                    |  0.65065 |\n",
      "|    | background_weighted_train           |  1.21993 |\n",
      "|    | potential_attractive_train          |  0.00000 |\n",
      "|    | potential_attractive_weighted_train |  0.00048 |\n",
      "|    | potential_repulsive_train           | 37.86434 |\n",
      "|    | potential_repulsive_weighted_train  |  0.12213 |\n",
      "|    | total_train                         |  1.34254 |\n",
      "+----+-------------------------------------+----------+\u001B[0m\n",
      "\u001B[32mINFO: Epoch 23 (    0/20): background_weighted=   1.21305, potential_attractive_weighted=   0.00031, potential_repulsive_weighted=   0.14227\u001B[0m\n",
      "\u001B[32mINFO: Epoch 23 (   10/20): background_weighted=   1.20819, potential_attractive_weighted=   0.00141, potential_repulsive_weighted=   0.12028\u001B[0m\n",
      "\u001B[32mINFO: Training for epoch 23 took 2.09 seconds\u001B[0m\n",
      "\u001B[32mINFO: Test step for epoch 23 took 0.00 seconds\u001B[0m\n",
      "\u001B[32mINFO: Results 23: \n",
      "+----+-------------------------------------+----------+\n",
      "|    | Metric                              |    Value |\n",
      "+====+=====================================+==========+\n",
      "|    | background_train                    |  0.64621 |\n",
      "|    | background_weighted_train           |  1.21160 |\n",
      "|    | potential_attractive_train          |  0.00000 |\n",
      "|    | potential_attractive_weighted_train |  0.00051 |\n",
      "|    | potential_repulsive_train           | 39.84225 |\n",
      "|    | potential_repulsive_weighted_train  |  0.12851 |\n",
      "|    | total_train                         |  1.34062 |\n",
      "+----+-------------------------------------+----------+\u001B[0m\n",
      "\u001B[32mINFO: Epoch 24 (    0/20): background_weighted=   1.21292, potential_attractive_weighted=   0.00105, potential_repulsive_weighted=   0.14477\u001B[0m\n",
      "\u001B[32mINFO: Epoch 24 (   10/20): background_weighted=   1.21212, potential_attractive_weighted=   0.00297, potential_repulsive_weighted=   0.15896\u001B[0m\n",
      "\u001B[32mINFO: Training for epoch 24 took 2.13 seconds\u001B[0m\n",
      "\u001B[32mINFO: Test step for epoch 24 took 0.00 seconds\u001B[0m\n",
      "\u001B[32mINFO: Results 24: \n",
      "+----+-------------------------------------+----------+\n",
      "|    | Metric                              |    Value |\n",
      "+====+=====================================+==========+\n",
      "|    | background_train                    |  0.64458 |\n",
      "|    | background_weighted_train           |  1.20854 |\n",
      "|    | potential_attractive_train          |  0.00000 |\n",
      "|    | potential_attractive_weighted_train |  0.00265 |\n",
      "|    | potential_repulsive_train           | 40.55356 |\n",
      "|    | potential_repulsive_weighted_train  |  0.13080 |\n",
      "|    | total_train                         |  1.34199 |\n",
      "+----+-------------------------------------+----------+\u001B[0m\n",
      "\u001B[32mINFO: Epoch 25 (    0/20): background_weighted=   1.20696, potential_attractive_weighted=   0.00410, potential_repulsive_weighted=   0.10834\u001B[0m\n",
      "\u001B[32mINFO: Epoch 25 (   10/20): background_weighted=   1.19281, potential_attractive_weighted=   0.00564, potential_repulsive_weighted=   0.11463\u001B[0m\n",
      "\u001B[32mINFO: Training for epoch 25 took 2.21 seconds\u001B[0m\n",
      "\u001B[32mINFO: Test step for epoch 25 took 0.00 seconds\u001B[0m\n",
      "\u001B[32mINFO: Results 25: \n",
      "+----+-------------------------------------+----------+\n",
      "|    | Metric                              |    Value |\n",
      "+====+=====================================+==========+\n",
      "|    | background_train                    |  0.63962 |\n",
      "|    | background_weighted_train           |  1.19925 |\n",
      "|    | potential_attractive_train          |  0.00000 |\n",
      "|    | potential_attractive_weighted_train |  0.00489 |\n",
      "|    | potential_repulsive_train           | 42.01542 |\n",
      "|    | potential_repulsive_weighted_train  |  0.13551 |\n",
      "|    | total_train                         |  1.33966 |\n",
      "+----+-------------------------------------+----------+\u001B[0m\n",
      "\u001B[32mINFO: Epoch 26 (    0/20): background_weighted=   1.20173, potential_attractive_weighted=   0.00124, potential_repulsive_weighted=   0.11817\u001B[0m\n",
      "\u001B[32mINFO: Epoch 26 (   10/20): background_weighted=   1.19899, potential_attractive_weighted=   0.00073, potential_repulsive_weighted=   0.11025\u001B[0m\n",
      "\u001B[32mINFO: Training for epoch 26 took 2.13 seconds\u001B[0m\n",
      "\u001B[32mINFO: Test step for epoch 26 took 0.00 seconds\u001B[0m\n",
      "\u001B[32mINFO: Results 26: \n",
      "+----+-------------------------------------+----------+\n",
      "|    | Metric                              |    Value |\n",
      "+====+=====================================+==========+\n",
      "|    | background_train                    |  0.63937 |\n",
      "|    | background_weighted_train           |  1.19877 |\n",
      "|    | potential_attractive_train          |  0.00000 |\n",
      "|    | potential_attractive_weighted_train |  0.00201 |\n",
      "|    | potential_repulsive_train           | 41.91309 |\n",
      "|    | potential_repulsive_weighted_train  |  0.13518 |\n",
      "|    | total_train                         |  1.33596 |\n",
      "+----+-------------------------------------+----------+\u001B[0m\n",
      "\u001B[32mINFO: Epoch 27 (    0/20): background_weighted=   1.17614, potential_attractive_weighted=   0.00051, potential_repulsive_weighted=   0.16152\u001B[0m\n",
      "\u001B[32mINFO: Epoch 27 (   10/20): background_weighted=   1.21114, potential_attractive_weighted=   0.00054, potential_repulsive_weighted=   0.14782\u001B[0m\n",
      "\u001B[32mINFO: Training for epoch 27 took 2.14 seconds\u001B[0m\n",
      "\u001B[32mINFO: Test step for epoch 27 took 0.00 seconds\u001B[0m\n",
      "\u001B[32mINFO: Results 27: \n",
      "+----+-------------------------------------+----------+\n",
      "|    | Metric                              |    Value |\n",
      "+====+=====================================+==========+\n",
      "|    | background_train                    |  0.63680 |\n",
      "|    | background_weighted_train           |  1.19395 |\n",
      "|    | potential_attractive_train          |  0.00000 |\n",
      "|    | potential_attractive_weighted_train |  0.00067 |\n",
      "|    | potential_repulsive_train           | 41.18607 |\n",
      "|    | potential_repulsive_weighted_train  |  0.13284 |\n",
      "|    | total_train                         |  1.32746 |\n",
      "+----+-------------------------------------+----------+\u001B[0m\n",
      "\u001B[32mINFO: Epoch 28 (    0/20): background_weighted=   1.18609, potential_attractive_weighted=   0.00065, potential_repulsive_weighted=   0.15825\u001B[0m\n",
      "\u001B[32mINFO: Epoch 28 (   10/20): background_weighted=   1.19450, potential_attractive_weighted=   0.00048, potential_repulsive_weighted=   0.11044\u001B[0m\n",
      "\u001B[32mINFO: Training for epoch 28 took 2.13 seconds\u001B[0m\n",
      "\u001B[32mINFO: Test step for epoch 28 took 0.00 seconds\u001B[0m\n",
      "\u001B[32mINFO: Results 28: \n",
      "+----+-------------------------------------+----------+\n",
      "|    | Metric                              |    Value |\n",
      "+====+=====================================+==========+\n",
      "|    | background_train                    |  0.63012 |\n",
      "|    | background_weighted_train           |  1.18144 |\n",
      "|    | potential_attractive_train          |  0.00000 |\n",
      "|    | potential_attractive_weighted_train |  0.00068 |\n",
      "|    | potential_repulsive_train           | 43.91296 |\n",
      "|    | potential_repulsive_weighted_train  |  0.14163 |\n",
      "|    | total_train                         |  1.32375 |\n",
      "+----+-------------------------------------+----------+\u001B[0m\n"
     ]
    }
   ],
   "source": [
    "for i in range(15):\n",
    "    trainable.step()"
   ],
   "metadata": {
    "collapsed": false
   }
  },
  {
   "cell_type": "code",
   "execution_count": 51,
   "outputs": [],
   "source": [
    "def get_color_mapper(selected_values, colors: Sequence|None=None):\n",
    "    if colors is None:\n",
    "        colors = plt.rcParams[\"axes.prop_cycle\"].by_key()[\"color\"]\n",
    "\n",
    "    if len(selected_values) > len(colors):\n",
    "        raise ValueError(f\"Only up to {len(colors)} values can be selected.\")\n",
    "\n",
    "    cm = np.vectorize(colors.__getitem__)\n",
    "    vm = np.vectorize({p.item(): i for i, p in enumerate(selected_values)}.get)\n",
    "\n",
    "    def mapper(values):\n",
    "        mv = vm(values)\n",
    "        print(mv, colors)\n",
    "        return cm(mv)\n",
    "\n",
    "    return mapper"
   ],
   "metadata": {
    "collapsed": false
   }
  },
  {
   "cell_type": "code",
   "execution_count": 52,
   "outputs": [],
   "source": [
    "selected_pids = np.random.choice(collector.data.particle_id[collector.data.pt > 1 & collector.data.reconstructable], 10)\n",
    "cm = get_color_mapper(selected_pids)"
   ],
   "metadata": {
    "collapsed": false
   }
  },
  {
   "cell_type": "code",
   "execution_count": 54,
   "outputs": [
    {
     "name": "stdout",
     "output_type": "stream",
     "text": [
      "0 ['#1f77b4', '#ff7f0e', '#2ca02c', '#d62728', '#9467bd', '#8c564b', '#e377c2', '#7f7f7f', '#bcbd22', '#17becf']\n"
     ]
    },
    {
     "data": {
      "text/plain": "array('#1f77b4', dtype='<U7')"
     },
     "execution_count": 54,
     "metadata": {},
     "output_type": "execute_result"
    }
   ],
   "source": [
    "cm(selected_pids[0])"
   ],
   "metadata": {
    "collapsed": false
   }
  },
  {
   "cell_type": "code",
   "execution_count": 66,
   "outputs": [
    {
     "name": "stdout",
     "output_type": "stream",
     "text": [
      "[5 5 5 5 3 5 3 5 5 3 5 3 5 5 3 5 2 4 3 3 2 4 2 4 2 4 4 6 6 9 1 6 0 6 9 9 1\n",
      " 6 9 1 6 9 0 1 9 1 9 1 6 6 9 1 0 0 1 6 9 1 6 9 1 0 0 1 9 9 6 0 0 1 9 9] ['#1f77b4', '#ff7f0e', '#2ca02c', '#d62728', '#9467bd', '#8c564b', '#e377c2', '#7f7f7f', '#bcbd22', '#17becf']\n"
     ]
    },
    {
     "data": {
      "text/plain": "<Figure size 640x480 with 1 Axes>",
      "image/png": "[encoded data removed]"
     },
     "metadata": {},
     "output_type": "display_data"
    }
   ],
   "source": [
    "import matplotlib.pyplot as plt\n",
    "fig, ax = plt.subplots()\n",
    "camera = Camera(fig)\n",
    "tqdm = lambda x: x\n",
    "# todo: add if statement here\n",
    "truth_cut_pids = collector.data.particle_id[trainer._get_training_mask(collector.data)[0]]\n",
    "selected_mask = np.isin(truth_cut_pids.numpy(), selected_pids)\n",
    "colors = cm(truth_cut_pids[np.isin(truth_cut_pids.numpy(), selected_pids)])\n",
    "for latent, epoch, batch in tqdm(zip(collector.latent_spaces, collector.latent_epoch, collector.latent_batch_index)):\n",
    "    mu = np.mean(latent, axis=0)\n",
    "    std = np.std(latent, axis=0)\n",
    "    latent -= mu\n",
    "    latent /= std\n",
    "    label = f\"epoch={epoch}, batch={batch}\"\n",
    "    ax.scatter(latent[~selected_mask][:, 0], latent[~selected_mask][:, 1], s=2, color=\"black\", alpha=0.5)\n",
    "    ax.scatter(latent[selected_mask][:, 0], latent[selected_mask][:, 1], s=10, color=colors, alpha=1)\n",
    "    ax.text(.01, .99, label, ha='left', va='top', transform=ax.transAxes)\n",
    "    camera.snap()\n",
    "anim = camera.animate(blit=True, interval=80)\n",
    "anim.save('scatter.mp4')"
   ],
   "metadata": {
    "collapsed": false
   }
  },
  {
   "cell_type": "code",
   "execution_count": 179,
   "outputs": [],
   "source": [
    "from matplotlib import animation\n",
    "\n",
    "\n",
    "class AnimatedScatterLatent(object):\n",
    "    def __init__(self, data):\n",
    "        \"\"\"An animated scatter plot using matplotlib.animations.FuncAnimation.\"\"\"\n",
    "        self.data = data\n",
    "        self.fig, self.ax = plt.subplots()\n",
    "        self.ani = animation.FuncAnimation(\n",
    "            self.fig,\n",
    "            self.update,\n",
    "            interval=5,\n",
    "            frames=self.data,\n",
    "            init_func=self.setup_plot,\n",
    "            blit=False,\n",
    "        )\n",
    "\n",
    "    def setup_plot(self):\n",
    "        \"\"\"Initial drawing of the scatter plot.\"\"\"\n",
    "        self.scat = self.ax.scatter(self.data[0][:, 0], self.data[0][:, 1])\n",
    "        return self.scat,\n",
    "\n",
    "    def update(self, data):\n",
    "        \"\"\"Update the scatter plot.\"\"\"\n",
    "        self.scat.set_offsets(data)\n",
    "        self.ax.relim()\n",
    "        self.ax.autoscale_view()\n",
    "        return scat,\n"
   ],
   "metadata": {
    "collapsed": false
   }
  },
  {
   "cell_type": "code",
   "execution_count": 180,
   "outputs": [
    {
     "data": {
      "text/plain": "<Figure size 640x480 with 1 Axes>",
      "image/png": "[encoded data removed]"
     },
     "metadata": {},
     "output_type": "display_data"
    }
   ],
   "source": [
    "da = AnimatedScatterLatent(trainer.latent_spaces)\n",
    "FFwriter = animation.FFMpegWriter(fps=10)\n",
    "da.ani.save('scatter2.mp4', writer = FFwriter)"
   ],
   "metadata": {
    "collapsed": false
   }
  },
  {
   "cell_type": "code",
   "execution_count": null,
   "outputs": [],
   "source": [
    "\n",
    "\n",
    "x = model_output[\"x\"]"
   ],
   "metadata": {
    "collapsed": false
   }
  },
  {
   "cell_type": "code",
   "execution_count": null,
   "outputs": [],
   "source": [
    "import matplotlib.pyplot as plt\n",
    "plt.scatter(x[:, 0], x[:, 1], s=2)"
   ],
   "metadata": {
    "collapsed": false
   }
  }
 ],
 "metadata": {
  "kernelspec": {
   "display_name": "Python 3",
   "language": "python",
   "name": "python3"
  },
  "language_info": {
   "codemirror_mode": {
    "name": "ipython",
    "version": 2
   },
   "file_extension": ".py",
   "mimetype": "text/x-python",
   "name": "python",
   "nbconvert_exporter": "python",
   "pygments_lexer": "ipython2",
   "version": "2.7.6"
  }
 },
 "nbformat": 4,
 "nbformat_minor": 0
}
