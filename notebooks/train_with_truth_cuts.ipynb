{
 "cells": [
  {
   "cell_type": "code",
   "execution_count": 1,
   "metadata": {
    "collapsed": true
   },
   "outputs": [],
   "source": [
    "from functools import partial\n",
    "from typing import Any\n",
    "\n",
    "import click\n",
    "import optuna\n",
    "from gnn_tracking.models.track_condensation_networks import PerfectECGraphTCN\n",
    "from gnn_tracking.training.dynamiclossweights import NormalizeAt\n",
    "from gnn_tracking.utils.dictionaries import subdict_with_prefix_stripped\n",
    "from torch import nn\n",
    "\n",
    "from gnn_tracking_hpo.config import auto_suggest_if_not_fixed, get_metadata\n",
    "from gnn_tracking_hpo.trainable import TCNTrainable, suggest_default_values\n",
    "from gnn_tracking_hpo.tune import common_options, main"
   ]
  },
  {
   "cell_type": "code",
   "execution_count": 2,
   "outputs": [],
   "source": [
    "class DynamicTCNTrainable(TCNTrainable):\n",
    "    def get_loss_functions(self) -> dict[str, Any]:\n",
    "        return {\n",
    "            \"potential\": self.get_potential_loss_function(),\n",
    "            \"background\": self.get_background_loss_function(),\n",
    "        }\n",
    "\n",
    "    def get_cluster_functions(self) -> dict[str, Any]:\n",
    "        return {}\n",
    "\n",
    "    def get_loss_weights(self):\n",
    "        relative_weights = [\n",
    "            {},\n",
    "            subdict_with_prefix_stripped(self.tc, \"rlw_\"),\n",
    "        ]\n",
    "        return NormalizeAt(\n",
    "            at=[0, 1],\n",
    "            relative_weights=relative_weights,\n",
    "        )\n",
    "\n",
    "    def get_model(self) -> nn.Module:\n",
    "        return PerfectECGraphTCN(\n",
    "            node_indim=6, edge_indim=4, **subdict_with_prefix_stripped(self.tc, \"m_\"),\n",
    "        )\n",
    "        pass\n"
   ],
   "metadata": {
    "collapsed": false
   }
  },
  {
   "cell_type": "code",
   "execution_count": 39,
   "outputs": [],
   "source": [
    "def get_config(\n",
    ") -> dict[str, Any]:\n",
    "    config = get_metadata()\n",
    "\n",
    "    def d(key, *args, **kwargs):\n",
    "        auto_suggest_if_not_fixed(key, config, None, *args, **kwargs)\n",
    "\n",
    "    d(\"sector\", 9)\n",
    "    d(\"n_graphs_train\", 20)\n",
    "    d(\"n_graphs_val\", 10)\n",
    "    d(\"n_graphs_test\", 1)\n",
    "    d(\"training_pt_thld\", 0.3)\n",
    "    d(\"training_without_noise\", False)\n",
    "    d(\"batch_size\", 1)\n",
    "    d(\"m_h_outdim\", 2)\n",
    "    d(\"m_ec_tnr\", 1)\n",
    "    d(\"m_ec_tpr\", 0.6)\n",
    "\n",
    "\n",
    "    suggest_default_values(config, None, perfect_ec=True)\n",
    "    return config"
   ],
   "metadata": {
    "collapsed": false
   }
  },
  {
   "cell_type": "code",
   "execution_count": 40,
   "outputs": [],
   "source": [
    "config = get_config()"
   ],
   "metadata": {
    "collapsed": false
   }
  },
  {
   "cell_type": "code",
   "execution_count": 47,
   "outputs": [
    {
     "data": {
      "text/plain": "5"
     },
     "execution_count": 47,
     "metadata": {},
     "output_type": "execute_result"
    }
   ],
   "source": [
    "config[\"m_h_dim\"]"
   ],
   "metadata": {
    "collapsed": false
   }
  },
  {
   "cell_type": "code",
   "execution_count": 41,
   "outputs": [],
   "source": [
    "def collect_latent_spaces(trainer, model_output):\n",
    "    if not hasattr(trainer, \"latent_spaces\"):\n",
    "        trainer.latent_spaces = []\n",
    "    trainer.latent_spaces.append(model_output[\"x\"])"
   ],
   "metadata": {
    "collapsed": false
   }
  },
  {
   "cell_type": "code",
   "execution_count": 42,
   "outputs": [
    {
     "name": "stderr",
     "output_type": "stream",
     "text": [
      "\u001B[36mDEBUG: Got config\n",
      "{'attr_pt_thld': 0.9,\n",
      " 'batch_size': 1,\n",
      " 'gnn_tracking_experiments_hash': 'efed91462fea5b9ef534ef30dc6d21ee7188bf18',\n",
      " 'gnn_tracking_hash': 'c0c61a844424802edf8c84e8b4a518e8d4d663c8',\n",
      " 'lr': 0.0005,\n",
      " 'm_L_hc': 3,\n",
      " 'm_alpha_hc': 0.5,\n",
      " 'm_e_dim': 4,\n",
      " 'm_ec_tnr': 1,\n",
      " 'm_ec_tpr': 0.6,\n",
      " 'm_h_dim': 5,\n",
      " 'm_h_outdim': 2,\n",
      " 'm_hidden_dim': 40,\n",
      " 'n_graphs_test': 1,\n",
      " 'n_graphs_train': 20,\n",
      " 'n_graphs_val': 10,\n",
      " 'optimizer': 'adam',\n",
      " 'q_min': 0.01,\n",
      " 'sb': 0.1,\n",
      " 'scheduler': None,\n",
      " 'sector': 9,\n",
      " 'test': False,\n",
      " 'training_pt_thld': 0.3,\n",
      " 'training_without_noise': False}\u001B[0m\n",
      "\u001B[32mINFO: Loading data to cpu memory\u001B[0m\n",
      "\u001B[32mINFO: Loading 31 graphs (out of 371 available).\u001B[0m\n",
      "\u001B[36mDEBUG: Parameters for data loaders: {'batch_size': 1, 'num_workers': 12}\u001B[0m\n",
      "/scratch/gpfs/kl5675/miniconda3/envs/gnn/lib/python3.10/site-packages/torch/utils/data/dataloader.py:557: UserWarning: This DataLoader will create 12 worker processes in total. Our suggested max number of worker in current system is 1, which is smaller than what this DataLoader is going to create. Please be aware that excessive worker creation might get DataLoader running slow or even freeze, lower the worker number to avoid potential slowness/freeze if necessary.\n",
      "  warnings.warn(_create_warning_msg(\n",
      "\u001B[32mINFO: Using device cpu\u001B[0m\n"
     ]
    }
   ],
   "source": [
    "trainable = DynamicTCNTrainable(config)\n",
    "# trainable.trainer.add_hook(collect_latent_spaces, \"batch\")"
   ],
   "metadata": {
    "collapsed": false
   }
  },
  {
   "cell_type": "code",
   "execution_count": 43,
   "outputs": [
    {
     "name": "stderr",
     "output_type": "stream",
     "text": [
      "\u001B[32mINFO: Epoch  1 (    0/20): background_weighted=   0.49984, potential_attractive_weighted=   0.00001, potential_repulsive_weighted= 456.79977\u001B[0m\n",
      "\u001B[32mINFO: Epoch  1 (   10/20): background_weighted=   0.52277, potential_attractive_weighted=   0.00003, potential_repulsive_weighted= 357.77109\u001B[0m\n",
      "\u001B[32mINFO: Training for epoch 1 took 4.76 seconds\u001B[0m\n",
      "/scratch/gpfs/kl5675/miniconda3/envs/gnn/lib/python3.10/site-packages/torch/utils/data/dataloader.py:557: UserWarning: This DataLoader will create 12 worker processes in total. Our suggested max number of worker in current system is 1, which is smaller than what this DataLoader is going to create. Please be aware that excessive worker creation might get DataLoader running slow or even freeze, lower the worker number to avoid potential slowness/freeze if necessary.\n",
      "  warnings.warn(_create_warning_msg(\n",
      "/scratch/gpfs/kl5675/miniconda3/envs/gnn/lib/python3.10/site-packages/torch/utils/data/dataloader.py:557: UserWarning: This DataLoader will create 12 worker processes in total. Our suggested max number of worker in current system is 1, which is smaller than what this DataLoader is going to create. Please be aware that excessive worker creation might get DataLoader running slow or even freeze, lower the worker number to avoid potential slowness/freeze if necessary.\n",
      "  warnings.warn(_create_warning_msg(\n",
      "\u001B[32mINFO: Test step for epoch 1 took 7.33 seconds\u001B[0m\n",
      "\u001B[32mINFO: Results 1: \n",
      "+-----+-------------------------------------+-----------+\n",
      "|     | Metric                              |     Value |\n",
      "+=====+=====================================+===========+\n",
      "|     | FNR_pt1.5                           |   0.39037 |\n",
      "|     | FPR_pt1.5                           |   0.00000 |\n",
      "|     | TNR_pt1.5                           |   1.00000 |\n",
      "| --> | TPR_pt1.5                           |   0.60963 |\n",
      "|     | acc_pt1.5                           |   0.98975 |\n",
      "|     | background                          |   0.54012 |\n",
      "|     | background_train                    |   0.52058 |\n",
      "|     | background_weighted                 |   1.03753 |\n",
      "|     | background_weighted_train           |   0.52058 |\n",
      "|     | potential_attractive                |   0.00015 |\n",
      "|     | potential_attractive_train          |   0.00006 |\n",
      "|     | potential_attractive_weighted       |   2.53928 |\n",
      "|     | potential_attractive_weighted_train |   0.00006 |\n",
      "|     | potential_repulsive                 | 462.22877 |\n",
      "|     | potential_repulsive_train           | 350.48996 |\n",
      "|     | potential_repulsive_weighted        |   1.31881 |\n",
      "|     | potential_repulsive_weighted_train  | 350.48996 |\n",
      "|     | tc_FNR_pt1.5                        |   0.40017 |\n",
      "|     | tc_FPR_pt1.5                        |   0.00000 |\n",
      "|     | tc_TNR_pt1.5                        |   1.00000 |\n",
      "| --> | tc_TPR_pt1.5                        |   0.59983 |\n",
      "|     | tc_acc_pt1.5                        |   0.98467 |\n",
      "|     | tc_background                       |   0.48871 |\n",
      "|     | tc_background_weighted              |   0.93877 |\n",
      "|     | tc_potential_attractive             |   0.00015 |\n",
      "|     | tc_potential_attractive_weighted    |   2.53986 |\n",
      "|     | tc_potential_repulsive              | 298.61588 |\n",
      "|     | tc_potential_repulsive_weighted     |   0.85200 |\n",
      "|     | tc_total                            |   4.33062 |\n",
      "|     | total                               |   4.89562 |\n",
      "|     | total_train                         | 351.01060 |\n",
      "+-----+-------------------------------------+-----------+\u001B[0m\n"
     ]
    }
   ],
   "source": [
    "for i in range(1):\n",
    "    trainable.step()"
   ],
   "metadata": {
    "collapsed": false
   }
  },
  {
   "cell_type": "code",
   "execution_count": 44,
   "outputs": [
    {
     "name": "stderr",
     "output_type": "stream",
     "text": [
      "/scratch/gpfs/kl5675/miniconda3/envs/gnn/lib/python3.10/site-packages/torch/utils/data/dataloader.py:557: UserWarning: This DataLoader will create 12 worker processes in total. Our suggested max number of worker in current system is 1, which is smaller than what this DataLoader is going to create. Please be aware that excessive worker creation might get DataLoader running slow or even freeze, lower the worker number to avoid potential slowness/freeze if necessary.\n",
      "  warnings.warn(_create_warning_msg(\n"
     ]
    }
   ],
   "source": [
    "import torch\n",
    "trainer = trainable.trainer\n",
    "sel = 5\n",
    "\n",
    "with torch.no_grad():\n",
    "    loader = trainer.val_loader\n",
    "    for idx, data in enumerate(loader):\n",
    "        if idx < sel:\n",
    "            continue\n",
    "        model_output = trainer.evaluate_model(data, mask_pids_reco=False)\n",
    "        if idx == sel:\n",
    "            break\n",
    "\n",
    "x = model_output[\"x\"]"
   ],
   "metadata": {
    "collapsed": false
   }
  },
  {
   "cell_type": "code",
   "execution_count": 45,
   "outputs": [
    {
     "data": {
      "text/plain": "<matplotlib.collections.PathCollection at 0x14a9156135e0>"
     },
     "execution_count": 45,
     "metadata": {},
     "output_type": "execute_result"
    },
    {
     "data": {
      "text/plain": "<Figure size 640x480 with 1 Axes>",
      "image/png": "[encoded data removed]"
     },
     "metadata": {},
     "output_type": "display_data"
    }
   ],
   "source": [
    "import matplotlib.pyplot as plt\n",
    "plt.scatter(x[:, 0], x[:, 1], s=2)"
   ],
   "metadata": {
    "collapsed": false
   }
  },
  {
   "cell_type": "code",
   "execution_count": 27,
   "outputs": [
    {
     "data": {
      "text/plain": "(array([1023.,  705.,  244.,  153.,   64.,   30.,   12.,   17.,    2.,\n           6.]),\n array([0.        , 0.354682  , 0.709364  , 1.06404603, 1.41872799,\n        1.77340996, 2.12809205, 2.48277402, 2.83745599, 3.19213796,\n        3.54681993]),\n <BarContainer object of 10 artists>)"
     },
     "execution_count": 27,
     "metadata": {},
     "output_type": "execute_result"
    },
    {
     "data": {
      "text/plain": "<Figure size 640x480 with 1 Axes>",
      "image/png": "[encoded data removed]"
     },
     "metadata": {},
     "output_type": "display_data"
    }
   ],
   "source": [
    "from matplotlib import pyplot as plt\n",
    "\n",
    "plt.hist(data.pt)"
   ],
   "metadata": {
    "collapsed": false
   }
  },
  {
   "cell_type": "code",
   "execution_count": null,
   "outputs": [],
   "source": [
    "\n"
   ],
   "metadata": {
    "collapsed": false
   }
  }
 ],
 "metadata": {
  "kernelspec": {
   "display_name": "Python 3",
   "language": "python",
   "name": "python3"
  },
  "language_info": {
   "codemirror_mode": {
    "name": "ipython",
    "version": 2
   },
   "file_extension": ".py",
   "mimetype": "text/x-python",
   "name": "python",
   "nbconvert_exporter": "python",
   "pygments_lexer": "ipython2",
   "version": "2.7.6"
  }
 },
 "nbformat": 4,
 "nbformat_minor": 0
}
