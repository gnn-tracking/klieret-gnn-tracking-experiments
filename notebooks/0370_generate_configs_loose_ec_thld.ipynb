{
 "cells": [
  {
   "cell_type": "code",
   "execution_count": 1,
   "metadata": {
    "collapsed": true
   },
   "outputs": [],
   "source": [
    "from gnn_tracking_hpo.util.paths import add_scripts_path\n",
    "import optuna\n",
    "from pathlib import Path\n",
    "import json\n",
    "import random\n",
    "add_scripts_path()\n",
    "\n",
    "from tune_tcn import suggest_config"
   ]
  },
  {
   "cell_type": "code",
   "execution_count": 2,
   "outputs": [
    {
     "name": "stderr",
     "output_type": "stream",
     "text": [
      "\u001B[32m[I 2023-05-18 16:06:51,690]\u001B[0m A new study created in memory with name: no-name-41f96456-44d3-4a87-a4bf-ff727211bbf2\u001B[0m\n",
      "\u001B[33m[16:06:51] WARNING: Repository /Users/fuchur/Documents/22/git_sync/gnn_tracking/src/gnn_tracking is dirty, commit hash may not be accurate.\u001B[0m\n",
      "\u001B[33m[16:06:51] WARNING: Repository /Users/fuchur/Documents/22/git_sync/gnn_tracking_hpo/src/gnn_tracking_hpo is dirty, commit hash may not be accurate.\u001B[0m\n"
     ]
    }
   ],
   "source": [
    "\n",
    "\n",
    "study = optuna.create_study()\n",
    "trial = study.ask()\n",
    "fixed = suggest_config(trial, ec_project=\"ec-smaller\", ec_hash=\"2cd19772\")"
   ],
   "metadata": {
    "collapsed": false
   }
  },
  {
   "cell_type": "code",
   "execution_count": 3,
   "outputs": [
    {
     "data": {
      "text/plain": "{'test': False,\n 'gnn_tracking_hash': 'bfa77d1c24f91b4c0b7917ff04896dd4c559c1f4',\n 'gnn_tracking_experiments_hash': 'd030a9c9febae84f09a39f9e3aae26adf66c2e7a',\n 'train_data_dir': ['/scratch/gpfs/IOJALVO/gnn-tracking/object_condensation/graphs_v1/part_1',\n  '/scratch/gpfs/IOJALVO/gnn-tracking/object_condensation/graphs_v1/part_2',\n  '/scratch/gpfs/IOJALVO/gnn-tracking/object_condensation/graphs_v1/part_3',\n  '/scratch/gpfs/IOJALVO/gnn-tracking/object_condensation/graphs_v1/part_4',\n  '/scratch/gpfs/IOJALVO/gnn-tracking/object_condensation/graphs_v1/part_5',\n  '/scratch/gpfs/IOJALVO/gnn-tracking/object_condensation/graphs_v1/part_6',\n  '/scratch/gpfs/IOJALVO/gnn-tracking/object_condensation/graphs_v1/part_7',\n  '/scratch/gpfs/IOJALVO/gnn-tracking/object_condensation/graphs_v1/part_8'],\n 'val_data_dir': '/scratch/gpfs/IOJALVO/gnn-tracking/object_condensation/graphs_v1/part_9',\n 'n_graphs_train': 247776,\n 'n_graphs_val': 200,\n 'sector': None,\n 'm_mask_orphan_nodes': True,\n 'm_use_ec_embeddings_for_hc': True,\n 'm_feed_edge_weights': True,\n 'ec_project': 'ec-smaller',\n 'ec_hash': '2cd19772',\n 'ec_epoch': -1,\n 'batch_size': 5,\n 'lw_potential_attractive': 1.0,\n 'm_hidden_dim': 64,\n 'm_h_dim': 64,\n 'm_e_dim': 64,\n 'attr_pt_thld': 0.9,\n 'q_min': 0.34,\n 'sb': 0.09,\n 'm_alpha_hc': 0.63,\n 'lw_background': 0.0041,\n 'm_h_outdim': 12,\n 'ec_freeze': True,\n 'repulsive_radius_threshold': 3.7,\n 'node_indim': 7,\n 'edge_indim': 4,\n 'ec_pt_thld': 0.0,\n '_val_batch_size': 1,\n 'lw_edge': 1.0,\n 'ec_loss': 'focal',\n 'focal_alpha': 0.25,\n 'focal_gamma': 2.0,\n 'optimizer': 'adam',\n 'adam_beta1': 0.9,\n 'adam_beta2': 0.999,\n 'adam_eps': 1e-08,\n 'adam_weight_decay': 0.0,\n 'adam_amsgrad': False,\n 'scheduler': None}"
     },
     "execution_count": 3,
     "metadata": {},
     "output_type": "execute_result"
    }
   ],
   "source": [
    "fixed"
   ],
   "metadata": {
    "collapsed": false
   }
  },
  {
   "cell_type": "code",
   "execution_count": 4,
   "outputs": [],
   "source": [
    "outdir = Path(\"/Users/fuchur/Documents/22/git_sync/gnn_tracking_hpo/config/\")\n",
    "outdir.mkdir(exist_ok=True, parents=True)"
   ],
   "metadata": {
    "collapsed": false
   }
  },
  {
   "cell_type": "code",
   "execution_count": 5,
   "outputs": [],
   "source": [
    "grid = {\n",
    "    \"m_L_hc\": [3, 6],\n",
    "    \"m_ec_threshold\": [0.25, 0.27, 0.29],\n",
    "    \"lw_potential_repulsive\": [0.28, 0.32, 0.36],\n",
    "}"
   ],
   "metadata": {
    "collapsed": false
   }
  },
  {
   "cell_type": "code",
   "execution_count": 20,
   "outputs": [],
   "source": [
    "from copy import deepcopy\n",
    "import itertools\n",
    "\n",
    "\n",
    "def get_configs(grid, fixed):\n",
    "    _configs = list(itertools.product(*grid.values()))\n",
    "    configs = []\n",
    "    for _c in _configs:\n",
    "        c = deepcopy(fixed)\n",
    "        c.update({k: v for k, v in zip(grid.keys(), _c)})\n",
    "        configs.append(c)\n",
    "    return configs"
   ],
   "metadata": {
    "collapsed": false
   }
  },
  {
   "cell_type": "code",
   "execution_count": 24,
   "outputs": [
    {
     "name": "stdout",
     "output_type": "stream",
     "text": [
      "18\n"
     ]
    }
   ],
   "source": [
    "configs = get_configs(grid, fixed)\n",
    "print(len(configs))"
   ],
   "metadata": {
    "collapsed": false
   }
  },
  {
   "cell_type": "code",
   "execution_count": 25,
   "outputs": [],
   "source": [
    "for i, config in enumerate(configs, start=73):\n",
    "    with open(outdir / f\"config_{i}.json\", \"w\") as f:\n",
    "        json.dump(config, f, indent=4)"
   ],
   "metadata": {
    "collapsed": false
   }
  },
  {
   "cell_type": "code",
   "execution_count": null,
   "outputs": [],
   "source": [],
   "metadata": {
    "collapsed": false
   }
  }
 ],
 "metadata": {
  "kernelspec": {
   "display_name": "Python 3",
   "language": "python",
   "name": "python3"
  },
  "language_info": {
   "codemirror_mode": {
    "name": "ipython",
    "version": 2
   },
   "file_extension": ".py",
   "mimetype": "text/x-python",
   "name": "python",
   "nbconvert_exporter": "python",
   "pygments_lexer": "ipython2",
   "version": "2.7.6"
  }
 },
 "nbformat": 4,
 "nbformat_minor": 0
}
