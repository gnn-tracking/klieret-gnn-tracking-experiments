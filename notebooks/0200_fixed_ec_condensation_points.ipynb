{
 "cells": [
  {
   "cell_type": "code",
   "execution_count": 1,
   "outputs": [],
   "source": [
    "from importlib import reload\n",
    "import gnn_tracking_hpo\n",
    "reload(gnn_tracking_hpo)\n",
    "\n",
    "from gnn_tracking_hpo.util.paths import add_scripts_path, find_checkpoint\n",
    "\n",
    "add_scripts_path()"
   ],
   "metadata": {
    "collapsed": false
   }
  },
  {
   "cell_type": "code",
   "execution_count": 2,
   "outputs": [],
   "source": [
    "from tune_fixed_ec import PretrainedECTrainable"
   ],
   "metadata": {
    "collapsed": false
   }
  },
  {
   "cell_type": "code",
   "execution_count": 3,
   "outputs": [],
   "source": [
    "PretrainedECTrainable._device = \"cpu\""
   ],
   "metadata": {
    "collapsed": false
   }
  },
  {
   "cell_type": "code",
   "execution_count": 4,
   "outputs": [],
   "source": [
    "project = \"fixed-ec-51f87ec0\"\n",
    "hash = \"af5b5461\""
   ],
   "metadata": {
    "collapsed": false
   }
  },
  {
   "cell_type": "code",
   "execution_count": 5,
   "outputs": [
    {
     "name": "stderr",
     "output_type": "stream",
     "text": [
      "\u001B[36m[11:09:54 gnnt_hpo] DEBUG: Loading config from /home/kl5675/ray_results/fixed-ec-51f87ec0/PretrainedECTrainable_af5b5461_4_attr_pt_thld=0.6079,batch_size=5,ec_epoch=32,ec_hash=51f87ec0,ec_project=ec,ec_pt_thld=0.0000,gnn_2023-02-01_10-37-15/params.json\u001B[0m\n"
     ]
    }
   ],
   "source": [
    "from gnn_tracking_hpo.util.paths import get_config\n",
    "\n",
    "config = get_config(project, hash)\n",
    "config[\"n_graphs_train\"] = 1\n",
    "config[\"n_graphs_val\"] = 1\n",
    "config[\"n_graphs_test\"] = 1\n",
    "config[\"ec_epoch\"] = -1\n",
    "# config[\"m_ec_threshold\"] = 0.0"
   ],
   "metadata": {
    "collapsed": false
   }
  },
  {
   "cell_type": "code",
   "execution_count": 6,
   "outputs": [
    {
     "name": "stderr",
     "output_type": "stream",
     "text": [
      "\u001B[32m[11:09:54 gnnt_hpo] INFO: Initializing pre-trained EC\u001B[0m\n",
      "\u001B[36m[11:09:56 gnnt_hpo] DEBUG: Loading config from /home/kl5675/ray_results/ec/ECTrainable_51f87ec0_1_batch_size=5,ec_pt_thld=0.7711,focal_alpha=0.3824,focal_gamma=2.5581,gnn_tracking_experiments_hash=f2480a9a_2023-01-30_23-14-13/params.json\u001B[0m\n",
      "\u001B[32m[11:09:57 gnnt_hpo] INFO: I'm running on a node with job ID=45725815\u001B[0m\n",
      "\u001B[33m[11:09:57 gnnt_hpo] WARNING: Dispatcher ID was not set. This should be set by the dispatcher as a class attribute to the trainable.\u001B[0m\n",
      "\u001B[32m[11:09:57 gnnt_hpo] INFO: The ID of my dispatcher is 0\u001B[0m\n",
      "\u001B[36m[11:09:57 SlurmControl] DEBUG: Refreshing control config from /home/kl5675/ray_slurm_control.yaml\u001B[0m\n",
      "\u001B[36m[11:09:57 gnnt_hpo] DEBUG: Got config\n",
      "{'batch_size': 5,\n",
      " 'ec_loss': 'focal',\n",
      " 'ec_pt_thld': 0.7710612479097784,\n",
      " 'focal_alpha': 0.3824243521658318,\n",
      " 'focal_gamma': 2.5581270116033084,\n",
      " 'gnn_tracking_experiments_hash': 'f2480a9ace4e343690a7d852cb8a5026d146484d',\n",
      " 'gnn_tracking_hash': '289dbf3026f58d1e6d154fe6e3aa40d06aded58c',\n",
      " 'lr': 0.0004929040972127238,\n",
      " 'lw_edge': 1.0,\n",
      " 'm_L_ec': 6,\n",
      " 'm_alpha_ec': 0.7244467015688769,\n",
      " 'm_e_dim': 4,\n",
      " 'm_h_dim': 5,\n",
      " 'm_hidden_dim': 176,\n",
      " 'm_interaction_edge_hidden_dim': 96,\n",
      " 'm_interaction_node_hidden_dim': 46,\n",
      " 'n_graphs_test': 1,\n",
      " 'n_graphs_train': 1,\n",
      " 'n_graphs_val': 1,\n",
      " 'optimizer': 'adam',\n",
      " 'scheduler': None,\n",
      " 'sector': None,\n",
      " 'test': False,\n",
      " 'training_pt_thld': 0.09467829745642475,\n",
      " 'training_without_noise': False,\n",
      " 'training_without_non_reconstructable': False}\u001B[0m\n",
      "\u001B[36m[11:09:57 gnnt_hpo] DEBUG: Getting loaders\u001B[0m\n",
      "\u001B[36m[11:09:57 gnnt_hpo] DEBUG: Loading graphs from /tigress/jdezoort/object_condensation/graphs\u001B[0m\n",
      "\u001B[32m[11:09:57 gnnt_hpo] INFO: Loading data to cpu memory\u001B[0m\n",
      "\u001B[33m[11:09:57] WARNING: Only using one process to load graphs to CPU memory. This might be slow.\u001B[0m\n",
      "\u001B[32m[11:09:58] INFO: Loading 3 graphs (out of 12480 available).\u001B[0m\n",
      "\u001B[36m[11:09:58] DEBUG: First graph is data21000_s0.pt, last graph is data21000_s10.pt\u001B[0m\n",
      "\u001B[36m[11:09:59 gnnt_hpo] DEBUG: Parameters for data loader 'train': {'batch_size': 5, 'num_workers': 12, 'shuffle': True, 'pin_memory': True}\u001B[0m\n",
      "/scratch/gpfs/kl5675/miniconda3/envs/gnn/lib/python3.10/site-packages/torch/utils/data/dataloader.py:557: UserWarning: This DataLoader will create 12 worker processes in total. Our suggested max number of worker in current system is 6, which is smaller than what this DataLoader is going to create. Please be aware that excessive worker creation might get DataLoader running slow or even freeze, lower the worker number to avoid potential slowness/freeze if necessary.\n",
      "  warnings.warn(_create_warning_msg(\n",
      "\u001B[36m[11:09:59 gnnt_hpo] DEBUG: Parameters for data loader 'val': {'batch_size': 5, 'num_workers': 12, 'shuffle': False, 'pin_memory': True}\u001B[0m\n",
      "\u001B[36m[11:09:59 gnnt_hpo] DEBUG: Parameters for data loader 'test': {'batch_size': 5, 'num_workers': 12, 'shuffle': False, 'pin_memory': True}\u001B[0m\n",
      "\u001B[32m[11:09:59 TCNTrainer] INFO: Using device cpu\u001B[0m\n",
      "\u001B[36m[11:09:59 gnnt_hpo] DEBUG: Loading checkpoint from /home/kl5675/ray_results/ec/ECTrainable_51f87ec0_1_batch_size=5,ec_pt_thld=0.7711,focal_alpha=0.3824,focal_gamma=2.5581,gnn_tracking_experiments_hash=f2480a9a_2023-01-30_23-14-13/checkpoint_000040/checkpoint.pt\u001B[0m\n",
      "\u001B[32m[11:09:59 gnnt_hpo] INFO: Pre-trained EC initialized\u001B[0m\n",
      "\u001B[32m[11:09:59 gnnt_hpo] INFO: I'm running on a node with job ID=45725815\u001B[0m\n",
      "\u001B[33m[11:09:59 gnnt_hpo] WARNING: Dispatcher ID was not set. This should be set by the dispatcher as a class attribute to the trainable.\u001B[0m\n",
      "\u001B[32m[11:09:59 gnnt_hpo] INFO: The ID of my dispatcher is 0\u001B[0m\n",
      "\u001B[36m[11:09:59 SlurmControl] DEBUG: Refreshing control config from /home/kl5675/ray_slurm_control.yaml\u001B[0m\n",
      "\u001B[36m[11:09:59 gnnt_hpo] DEBUG: Got config\n",
      "{'attr_pt_thld': 0.6078966557589193,\n",
      " 'batch_size': 5,\n",
      " 'ec_epoch': -1,\n",
      " 'ec_hash': '51f87ec0',\n",
      " 'ec_project': 'ec',\n",
      " 'ec_pt_thld': 0.0,\n",
      " 'gnn_tracking_experiments_hash': 'dfb7e2198916749d5e72269db05deb2fa5e70512',\n",
      " 'gnn_tracking_hash': '289dbf3026f58d1e6d154fe6e3aa40d06aded58c',\n",
      " 'lr': 0.0004739919171797444,\n",
      " 'lw_background': 0.004082575457776501,\n",
      " 'lw_potential_attractive': 1.0,\n",
      " 'lw_potential_repulsive': 0.16320725986849355,\n",
      " 'm_L_hc': 7,\n",
      " 'm_alpha_hc': 0.6294401345562727,\n",
      " 'm_e_dim': 5,\n",
      " 'm_ec_threshold': 0.35095518424745553,\n",
      " 'm_h_dim': 6,\n",
      " 'm_h_outdim': 7,\n",
      " 'm_hidden_dim': 155,\n",
      " 'm_interaction_edge_hidden_dim': 71,\n",
      " 'm_interaction_node_hidden_dim': 46,\n",
      " 'm_mask_orphan_nodes': True,\n",
      " 'n_graphs_test': 1,\n",
      " 'n_graphs_train': 1,\n",
      " 'n_graphs_val': 1,\n",
      " 'optimizer': 'adam',\n",
      " 'q_min': 0.3435617061464181,\n",
      " 'repulsive_radius_threshold': 3.6961419668746616,\n",
      " 'sb': 0.0902769250856608,\n",
      " 'scheduler': None,\n",
      " 'sector': None,\n",
      " 'test': False,\n",
      " 'training_pt_thld': 0.0,\n",
      " 'training_without_noise': False,\n",
      " 'training_without_non_reconstructable': False}\u001B[0m\n",
      "\u001B[36m[11:09:59 gnnt_hpo] DEBUG: Getting loaders\u001B[0m\n",
      "\u001B[36m[11:09:59 gnnt_hpo] DEBUG: Loading graphs from /tigress/jdezoort/object_condensation/graphs\u001B[0m\n",
      "\u001B[32m[11:09:59 gnnt_hpo] INFO: Loading data to cpu memory\u001B[0m\n",
      "\u001B[33m[11:09:59] WARNING: Only using one process to load graphs to CPU memory. This might be slow.\u001B[0m\n",
      "\u001B[32m[11:09:59] INFO: Loading 3 graphs (out of 12480 available).\u001B[0m\n",
      "\u001B[36m[11:09:59] DEBUG: First graph is data21000_s0.pt, last graph is data21000_s10.pt\u001B[0m\n",
      "\u001B[36m[11:09:59 gnnt_hpo] DEBUG: Parameters for data loader 'train': {'batch_size': 5, 'num_workers': 12, 'shuffle': True, 'pin_memory': True}\u001B[0m\n",
      "\u001B[36m[11:09:59 gnnt_hpo] DEBUG: Parameters for data loader 'val': {'batch_size': 5, 'num_workers': 12, 'shuffle': False, 'pin_memory': True}\u001B[0m\n",
      "\u001B[36m[11:09:59 gnnt_hpo] DEBUG: Parameters for data loader 'test': {'batch_size': 5, 'num_workers': 12, 'shuffle': False, 'pin_memory': True}\u001B[0m\n",
      "\u001B[32m[11:09:59 TCNTrainer] INFO: Using device cpu\u001B[0m\n",
      "\u001B[36m[11:10:00 gnnt_hpo] DEBUG: Loading checkpoint from /home/kl5675/ray_results/fixed-ec-51f87ec0/PretrainedECTrainable_af5b5461_4_attr_pt_thld=0.6079,batch_size=5,ec_epoch=32,ec_hash=51f87ec0,ec_project=ec,ec_pt_thld=0.0000,gnn_2023-02-01_10-37-15/checkpoint_000024/checkpoint.pt\u001B[0m\n"
     ]
    }
   ],
   "source": [
    "trainable = PretrainedECTrainable(config)\n",
    "\n",
    "trainable.load_checkpoint(find_checkpoint(project, hash, -1), device=\"cpu\")"
   ],
   "metadata": {
    "collapsed": false
   }
  },
  {
   "cell_type": "code",
   "execution_count": 7,
   "outputs": [],
   "source": [
    "#results = trainable.trainer.test_step()"
   ],
   "metadata": {
    "collapsed": false
   }
  },
  {
   "cell_type": "code",
   "execution_count": 8,
   "outputs": [],
   "source": [
    "#trainable.trainer._log_losses(results)"
   ],
   "metadata": {
    "collapsed": false
   }
  },
  {
   "cell_type": "code",
   "execution_count": 9,
   "outputs": [
    {
     "name": "stderr",
     "output_type": "stream",
     "text": [
      "\u001B[32m[11:10:00] INFO: Loading 10 graphs (out of 3200 available).\u001B[0m\n",
      "\u001B[36m[11:10:00] DEBUG: First graph is data29004_s0.pt, last graph is data29004_s17.pt\u001B[0m\n"
     ]
    }
   ],
   "source": [
    "from gnn_tracking.graph_construction.graph_builder import load_graphs\n",
    "\n",
    "graphs = load_graphs(\"/scratch/gpfs/kl5675/data/gnn_tracking/graphs/training_part09\", stop=10, n_processes=6)"
   ],
   "metadata": {
    "collapsed": false
   }
  },
  {
   "cell_type": "code",
   "execution_count": 10,
   "outputs": [],
   "source": [
    "from torch_geometric.loader import DataLoader\n",
    "\n",
    "loader = DataLoader(graphs, num_workers=6)"
   ],
   "metadata": {
    "collapsed": false
   }
  },
  {
   "cell_type": "code",
   "execution_count": 39,
   "outputs": [
    {
     "name": "stderr",
     "output_type": "stream",
     "text": [
      "100%|██████████████████████████████████████████████████████████████████████████████████████████████████| 10/10 [00:07<00:00,  1.27it/s]\n"
     ]
    }
   ],
   "source": [
    "import torch\n",
    "from tqdm import tqdm\n",
    "\n",
    "\n",
    "trainer = trainable.trainer\n",
    "trainer.model.eval()\n",
    "\n",
    "study_input = []\n",
    "\n",
    "interesting_keys = [\"x\", \"beta\", \"particle_id\", \"ec_hit_mask\"]\n",
    "\n",
    "stop = None\n",
    "with torch.no_grad():\n",
    "    for idx, data in tqdm(enumerate(loader), total=len(graphs)):\n",
    "        model_output = trainer.evaluate_model(data, mask_pids_reco=False)\n",
    "        study_input.append(\n",
    "            {key: model_output[key].cpu().numpy() for key in interesting_keys}\n",
    "        )\n",
    "        if idx == stop:\n",
    "            break"
   ],
   "metadata": {
    "collapsed": false
   }
  },
  {
   "cell_type": "code",
   "execution_count": 40,
   "outputs": [],
   "source": [
    "import matplotlib.pyplot as plt\n",
    "import copy\n",
    "import numpy as np"
   ],
   "metadata": {
    "collapsed": false
   }
  },
  {
   "cell_type": "code",
   "execution_count": 43,
   "outputs": [],
   "source": [
    "masked_study_input = copy.deepcopy(study_input)\n",
    "for key in [\"particle_id\"]:\n",
    "    for item in masked_study_input:\n",
    "        item[key] = item[key][item[\"ec_hit_mask\"]]\n",
    "for item in masked_study_input:\n",
    "    item[\"r\"] = item[\"x\"][:, 0]"
   ],
   "metadata": {
    "collapsed": false
   }
  },
  {
   "cell_type": "code",
   "execution_count": 46,
   "outputs": [],
   "source": [
    "fc = masked_study_input[0]\n",
    "\n",
    "selected_pids = np.random.choice(fc[\"particle_id\"], 10)"
   ],
   "metadata": {
    "collapsed": false
   }
  },
  {
   "cell_type": "code",
   "execution_count": 55,
   "outputs": [
    {
     "data": {
      "text/plain": "(array([ 38.,  37.,  69.,  71.,  75.,  94., 116.,  42.,  46.,  32.]),\n array([-6.86926889, -6.02433825, -5.1794076 , -4.33447695, -3.48954606,\n        -2.64461541, -1.79968464, -0.95475394, -0.10982323,  0.73510748,\n         1.58003819]),\n <BarContainer object of 10 artists>)"
     },
     "execution_count": 55,
     "metadata": {},
     "output_type": "execute_result"
    },
    {
     "data": {
      "text/plain": "<Figure size 640x480 with 1 Axes>",
      "image/png": "[encoded data removed]"
     },
     "metadata": {},
     "output_type": "display_data"
    }
   ],
   "source": [
    "plt.hist(fc[\"x\"][:, 3])"
   ],
   "metadata": {
    "collapsed": false
   }
  },
  {
   "cell_type": "code",
   "execution_count": 58,
   "outputs": [
    {
     "data": {
      "text/plain": "<Figure size 640x480 with 1 Axes>",
      "image/png": "[encoded data removed]"
     },
     "metadata": {},
     "output_type": "display_data"
    }
   ],
   "source": [
    "fig, ax = plt.subplots()\n",
    "for ipid, pid in enumerate(selected_pids):\n",
    "    mask = fc[\"particle_id\"] == pid\n",
    "    xs = fc[\"r\"][mask]\n",
    "    ys = np.array([ipid] * mask.sum())\n",
    "    condensation_beta = np.max(fc[\"beta\"][mask])\n",
    "    is_condensation_mask = fc[\"beta\"][mask] == condensation_beta\n",
    "    ax.scatter(xs[~is_condensation_mask], ys[~is_condensation_mask], marker=\"x\", color=\"gray\")\n",
    "    ax.scatter(xs[is_condensation_mask], ys[is_condensation_mask], marker=\"x\", color=\"red\")"
   ],
   "metadata": {
    "collapsed": false
   }
  },
  {
   "cell_type": "code",
   "execution_count": null,
   "outputs": [],
   "source": [
    "[~is_condensation_mask]"
   ],
   "metadata": {
    "collapsed": false
   }
  }
 ],
 "metadata": {
  "kernelspec": {
   "display_name": "Python 3",
   "language": "python",
   "name": "python3"
  },
  "language_info": {
   "codemirror_mode": {
    "name": "ipython",
    "version": 2
   },
   "file_extension": ".py",
   "mimetype": "text/x-python",
   "name": "python",
   "nbconvert_exporter": "python",
   "pygments_lexer": "ipython2",
   "version": "2.7.6"
  }
 },
 "nbformat": 4,
 "nbformat_minor": 0
}
