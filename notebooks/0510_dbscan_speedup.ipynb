{
 "cells": [
  {
   "cell_type": "code",
   "execution_count": 121,
   "metadata": {
    "collapsed": true
   },
   "outputs": [],
   "source": [
    "import pydantic\n",
    "import cudf\n",
    "import cugraph\n",
    "\n",
    "from gnn_tracking.training.ml import MLModule\n",
    "from pathlib import Path\n",
    "from torch_cluster import radius_graph\n",
    "import pandas as pd\n",
    "import torch\n",
    "from gnn_tracking.utils.timing import Timer\n"
   ]
  },
  {
   "cell_type": "code",
   "execution_count": 2,
   "outputs": [],
   "source": [
    "\n",
    "model_exchange_path = Path(\n",
    "    \"/scratch/gpfs/IOJALVO/gnn-tracking/object_condensation/model_exchange\"\n",
    ")"
   ],
   "metadata": {
    "collapsed": false
   }
  },
  {
   "cell_type": "code",
   "execution_count": 3,
   "outputs": [],
   "source": [
    "from gnn_tracking.utils.loading import TrackingDataModule\n",
    "\n",
    "dm = TrackingDataModule(\n",
    "    train=dict(\n",
    "        dirs=[\n",
    "            \"/scratch/gpfs/IOJALVO/gnn-tracking/object_condensation/point_clouds_v5/part_1/\"\n",
    "        ],\n",
    "        # If you run into memory issues, reduce this\n",
    "    ),\n",
    "    val=dict(\n",
    "        dirs=[\n",
    "            \"/scratch/gpfs/IOJALVO/gnn-tracking/object_condensation/point_clouds_v5/part_9/\"\n",
    "        ],\n",
    "        stop=1\n",
    "    ),\n",
    ")"
   ],
   "metadata": {
    "collapsed": false
   }
  },
  {
   "cell_type": "code",
   "execution_count": 6,
   "outputs": [
    {
     "name": "stderr",
     "output_type": "stream",
     "text": [
      "\u001B[32m[15:22:56] INFO: DataLoader will load 900 graphs (out of 900 available).\u001B[0m\n",
      "\u001B[36m[15:22:56] DEBUG: First graph is /scratch/gpfs/IOJALVO/gnn-tracking/object_condensation/point_clouds_v5/part_1/data21000_s0.pt, last graph is /scratch/gpfs/IOJALVO/gnn-tracking/object_condensation/point_clouds_v5/part_1/data21999_s0.pt\u001B[0m\n",
      "\u001B[32m[15:22:56] INFO: DataLoader will load 1 graphs (out of 1000 available).\u001B[0m\n",
      "\u001B[36m[15:22:56] DEBUG: First graph is /scratch/gpfs/IOJALVO/gnn-tracking/object_condensation/point_clouds_v5/part_9/data29000_s0.pt, last graph is /scratch/gpfs/IOJALVO/gnn-tracking/object_condensation/point_clouds_v5/part_9/data29000_s0.pt\u001B[0m\n"
     ]
    }
   ],
   "source": [
    "dm.setup(stage=\"fit\")"
   ],
   "metadata": {
    "collapsed": false
   }
  },
  {
   "cell_type": "code",
   "execution_count": 5,
   "outputs": [
    {
     "name": "stderr",
     "output_type": "stream",
     "text": [
      "\u001B[36m[15:22:49] DEBUG: Getting class GraphConstructionFCNN from module gnn_tracking.models.graph_construction\u001B[0m\n",
      "\u001B[36m[15:22:49] DEBUG: Getting class GraphConstructionHingeEmbeddingLoss from module gnn_tracking.metrics.losses\u001B[0m\n"
     ]
    }
   ],
   "source": [
    "model = MLModule.load_from_checkpoint(model_exchange_path / \"gc\" / \"gc-7dce6aff.ckpt\")"
   ],
   "metadata": {
    "collapsed": false
   }
  },
  {
   "cell_type": "code",
   "execution_count": 118,
   "outputs": [
    {
     "data": {
      "text/plain": "64253"
     },
     "execution_count": 118,
     "metadata": {},
     "output_type": "execute_result"
    }
   ],
   "source": [
    "data = dm.datasets[\"train\"][1]\n",
    "out = model(data)\n",
    "len(data.x)"
   ],
   "metadata": {
    "collapsed": false
   }
  },
  {
   "cell_type": "code",
   "execution_count": 119,
   "outputs": [],
   "source": [
    "h = out[\"H\"].detach()"
   ],
   "metadata": {
    "collapsed": false
   }
  },
  {
   "cell_type": "code",
   "execution_count": 27,
   "outputs": [],
   "source": [
    "def torch_to_cudf(tensor_dict):\n",
    "    return cudf.DataFrame(\n",
    "        {\n",
    "            k: cudf.from_dlpack(torch.utils.dlpack.to_dlpack(v))\n",
    "            for k, v in tensor_dict.items()\n",
    "        }\n",
    "    )"
   ],
   "metadata": {
    "collapsed": false
   }
  },
  {
   "cell_type": "code",
   "execution_count": 126,
   "outputs": [],
   "source": [
    "\n",
    "\n",
    "def collect_cluster_labels_gpu(h, radius=1):\n",
    "    t = Timer()\n",
    "    times = []\n",
    "    h = h.detach()\n",
    "    times.append(t())\n",
    "    edge_index = radius_graph(h, r=radius)\n",
    "    times.append(t())\n",
    "    edge_df = torch_to_cudf({\"source\": edge_index[0], \"destination\": edge_index[1]})\n",
    "    times.append(t())\n",
    "    cug = cugraph.Graph()\n",
    "    times.append(t())\n",
    "    cug.from_cudf_edgelist(edge_df)\n",
    "    times.append(t())\n",
    "    cc_df = cugraph.connected_components(cug)\n",
    "    times.append(t())\n",
    "    return cc_df[\"labels\"], times"
   ],
   "metadata": {
    "collapsed": false
   }
  },
  {
   "cell_type": "code",
   "execution_count": 127,
   "outputs": [
    {
     "data": {
      "text/plain": "[0.00013352197129279375,\n 0.9061640180298127,\n 0.003115369996521622,\n 1.6160018276423216e-05,\n 0.03164340299554169,\n 0.029617635998874903]"
     },
     "execution_count": 127,
     "metadata": {},
     "output_type": "execute_result"
    }
   ],
   "source": [
    "collect_cluster_labels_gpu(h, radius=1)[1]"
   ],
   "metadata": {
    "collapsed": false
   }
  },
  {
   "cell_type": "code",
   "execution_count": 128,
   "outputs": [],
   "source": [
    "from gnn_tracking.postprocessing.dbscanscanner import dbscan"
   ],
   "metadata": {
    "collapsed": false
   }
  },
  {
   "cell_type": "code",
   "execution_count": 129,
   "outputs": [
    {
     "data": {
      "text/plain": "0.8104133940069005"
     },
     "execution_count": 129,
     "metadata": {},
     "output_type": "execute_result"
    }
   ],
   "source": [
    "t = Timer()\n",
    "labels = torch.Tensor(dbscan(h, eps=0.3)).to(\"cuda\")\n",
    "t()"
   ],
   "metadata": {
    "collapsed": false
   }
  },
  {
   "cell_type": "code",
   "execution_count": 130,
   "outputs": [
    {
     "data": {
      "text/plain": "3913"
     },
     "execution_count": 130,
     "metadata": {},
     "output_type": "execute_result"
    }
   ],
   "source": [
    "len(labels.unique())"
   ],
   "metadata": {
    "collapsed": false
   }
  },
  {
   "cell_type": "code",
   "execution_count": 131,
   "outputs": [
    {
     "data": {
      "text/plain": "Data(x=[59357, 14], edge_index=[2, 203759], y=[0], layer=[59357], particle_id=[59357], pt=[59357], reconstructable=[59357], sector=[59357])"
     },
     "execution_count": 131,
     "metadata": {},
     "output_type": "execute_result"
    }
   ],
   "source": [
    "dm.datasets[\"val\"][0]"
   ],
   "metadata": {
    "collapsed": false
   }
  },
  {
   "cell_type": "code",
   "execution_count": 132,
   "outputs": [],
   "source": [
    "cdf = torch_to_cudf({\"c\": labels, \"id\": data.particle_id})\n",
    "df = pd.DataFrame({\"c\": labels.cpu().numpy(), \"id\": data.particle_id.cpu().numpy()})"
   ],
   "metadata": {
    "collapsed": false
   }
  },
  {
   "cell_type": "code",
   "execution_count": 133,
   "outputs": [
    {
     "data": {
      "text/plain": "64253"
     },
     "execution_count": 133,
     "metadata": {},
     "output_type": "execute_result"
    }
   ],
   "source": [
    "len(df)"
   ],
   "metadata": {
    "collapsed": false
   }
  },
  {
   "cell_type": "code",
   "execution_count": 137,
   "outputs": [],
   "source": [
    "from collections import Counter\n",
    "import pandas as pd\n",
    "import numpy as np\n",
    "\n",
    "\n",
    "def tracking_metric_df_cuda(h_df: pd.DataFrame, predicted_count_thld=3) -> pd.DataFrame:\n",
    "    \"\"\"Label clusters as double majority/perfect/LHC.\n",
    "\n",
    "    Args:\n",
    "        h_df: Hit information dataframe\n",
    "        predicted_count_thld: Number of hits a cluster must have to be considered a\n",
    "            valid cluster\n",
    "\n",
    "    Returns:\n",
    "        cluster dataframe with columns such as \"double_majority\" etc.\n",
    "    \"\"\"\n",
    "    # For each cluster, we determine the true PID that is associated with the most\n",
    "    # hits in that cluster.\n",
    "    # Here we make use of the fact that `df.value_counts` sorts by the count.\n",
    "    # That means that if we group by the cluster and take the first line\n",
    "    # for each of the counts, we have the most popular PID for each cluster.\n",
    "    # The resulting dataframe now has both the most popular PID (\"id\" column) and the\n",
    "    # number of times it appears (\"0\" column).\n",
    "    # This strategy is a significantly (!) faster version than doing\n",
    "    # c_id.groupby(\"c\").agg(lambda x: x.mode()[0]) etc.\n",
    "    pid_counts = h_df[[\"c\", \"id\"]].value_counts().reset_index()\n",
    "\n",
    "    # Compatibility issue with pandas 2.0 (2.0 uses 'count')\n",
    "    _count_key = 0 if 0 in pid_counts.columns else \"count\"\n",
    "\n",
    "    pid_counts_grouped = pid_counts.groupby(\"c\")\n",
    "    c_df = pid_counts_grouped.first().rename(\n",
    "        {\"id\": \"maj_pid\", _count_key: \"maj_hits\"}, axis=1\n",
    "    )\n",
    "    # Number of hits per cluster\n",
    "    c_df[\"cluster_size\"] = pid_counts_grouped[_count_key].sum()\n",
    "    # Assume that negative cluster labels mean that the cluster was labeled as\n",
    "    # invalid\n",
    "    predicted_counts = h_df[\"c\"].value_counts()\n",
    "    unique_predicted = predicted_counts.index\n",
    "    # Cluster mask: all clusters that are not labeled as noise and have minimum number\n",
    "    # of hits.\n",
    "    c_df[\"valid_cluster\"] = (unique_predicted >= 0) & (\n",
    "        predicted_counts >= predicted_count_thld\n",
    "    )\n",
    "\n",
    "    # Properties associated to PID. This is pretty trivial, but since everything is\n",
    "    # passed by hit, rather than by PID, we need to get rid of \"duplicates\"\n",
    "    particle_properties = list(\n",
    "        {\"pt\", \"reconstructable\", \"eta\"}.intersection(h_df.columns)\n",
    "    )\n",
    "    # Could to .first() for pt/reconstructable, but we want to average over eta\n",
    "    pid_to_props = (\n",
    "        h_df[[\"id\", *particle_properties]].groupby(\"id\")[particle_properties].mean()\n",
    "    )\n",
    "    c_df = c_df.merge(\n",
    "        pid_to_props, left_on=\"maj_pid\", right_index=True\n",
    "    ).rename(columns={key: f\"maj_{key}\" for key in particle_properties})\n",
    "\n",
    "    # For each PID: Number of hits (in any cluster)\n",
    "    pid_to_count = h_df[\"id\"].value_counts()\n",
    "    # For each cluster: Take most popular PID of that cluster and get number of hits of\n",
    "    # that PID (in any cluster)\n",
    "    c_df[\"maj_pid_hits\"] = c_df[\"maj_pid\"].map(pid_to_count)\n",
    "\n",
    "    # For each cluster: Fraction of hits that have the most popular PID\n",
    "    c_df[\"maj_frac\"] = (c_df[\"maj_hits\"] / c_df[\"cluster_size\"]).fillna(0)\n",
    "    # For each cluster: Take the most popular PID of that cluster. What fraction of\n",
    "    # the corresponding hits is in this cluster?\n",
    "    c_df[\"maj_pid_frac\"] = (c_df[\"maj_hits\"] / c_df[\"maj_pid_hits\"]).fillna(0)\n",
    "\n",
    "    c_df[\"perfect_match\"] = (\n",
    "        (c_df[\"maj_pid_hits\"] == c_df[\"maj_hits\"])\n",
    "        & (c_df[\"maj_frac\"] > 0.99)\n",
    "        & c_df[\"valid_cluster\"]\n",
    "    )\n",
    "    c_df[\"double_majority\"] = (\n",
    "        (c_df[\"maj_pid_frac\"] > 0.5) & (c_df[\"maj_frac\"] > 0.5) & c_df[\"valid_cluster\"]\n",
    "    )\n",
    "    c_df[\"lhc_match\"] = (c_df[\"maj_frac\"] > 0.75) & c_df[\"valid_cluster\"]\n",
    "    return c_df"
   ],
   "metadata": {
    "collapsed": false
   }
  },
  {
   "cell_type": "code",
   "execution_count": 138,
   "outputs": [
    {
     "data": {
      "text/plain": "0.022539139026775956"
     },
     "execution_count": 138,
     "metadata": {},
     "output_type": "execute_result"
    }
   ],
   "source": [
    "t = Timer()\n",
    "tracking_metric_df_cuda(cdf)\n",
    "t()"
   ],
   "metadata": {
    "collapsed": false
   }
  },
  {
   "cell_type": "code",
   "execution_count": 139,
   "outputs": [
    {
     "data": {
      "text/plain": "0.02637749002315104"
     },
     "execution_count": 139,
     "metadata": {},
     "output_type": "execute_result"
    }
   ],
   "source": [
    "from gnn_tracking.metrics.cluster_metrics import tracking_metric_df\n",
    "t = Timer()\n",
    "tracking_metric_df(df)\n",
    "t()"
   ],
   "metadata": {
    "collapsed": false
   }
  },
  {
   "cell_type": "code",
   "execution_count": 141,
   "outputs": [
    {
     "data": {
      "text/plain": "torch.Size([64253, 8])"
     },
     "execution_count": 141,
     "metadata": {},
     "output_type": "execute_result"
    }
   ],
   "source": [
    "h.shape"
   ],
   "metadata": {
    "collapsed": false
   }
  },
  {
   "cell_type": "code",
   "execution_count": 144,
   "outputs": [],
   "source": [
    "def tensor_to_cudf(t):\n",
    "    return torch_to_cudf({\"i\": t[:, i].squeeze() for i in range(t.shape[1])})"
   ],
   "metadata": {
    "collapsed": false
   }
  },
  {
   "cell_type": "code",
   "execution_count": 145,
   "outputs": [
    {
     "ename": "RuntimeError",
     "evalue": "CUDF failure at: /opt/conda/conda-bld/work/cpp/src/interop/dlpack.cpp:156: from_dlpack of 1D DLTensor only for unit-stride data",
     "output_type": "error",
     "traceback": [
      "\u001B[0;31m---------------------------------------------------------------------------\u001B[0m",
      "\u001B[0;31mRuntimeError\u001B[0m                              Traceback (most recent call last)",
      "Cell \u001B[0;32mIn[145], line 1\u001B[0m\n\u001B[0;32m----> 1\u001B[0m \u001B[43mtensor_to_cudf\u001B[49m\u001B[43m(\u001B[49m\u001B[43mh\u001B[49m\u001B[43m)\u001B[49m\n",
      "Cell \u001B[0;32mIn[144], line 2\u001B[0m, in \u001B[0;36mtensor_to_cudf\u001B[0;34m(t)\u001B[0m\n\u001B[1;32m      1\u001B[0m \u001B[38;5;28;01mdef\u001B[39;00m \u001B[38;5;21mtensor_to_cudf\u001B[39m(t):\n\u001B[0;32m----> 2\u001B[0m     \u001B[38;5;28;01mreturn\u001B[39;00m \u001B[43mtorch_to_cudf\u001B[49m\u001B[43m(\u001B[49m\u001B[43m{\u001B[49m\u001B[38;5;124;43m\"\u001B[39;49m\u001B[38;5;124;43mi\u001B[39;49m\u001B[38;5;124;43m\"\u001B[39;49m\u001B[43m:\u001B[49m\u001B[43m \u001B[49m\u001B[43mt\u001B[49m\u001B[43m[\u001B[49m\u001B[43m:\u001B[49m\u001B[43m,\u001B[49m\u001B[43m \u001B[49m\u001B[43mi\u001B[49m\u001B[43m]\u001B[49m\u001B[38;5;241;43m.\u001B[39;49m\u001B[43msqueeze\u001B[49m\u001B[43m(\u001B[49m\u001B[43m)\u001B[49m\u001B[43m \u001B[49m\u001B[38;5;28;43;01mfor\u001B[39;49;00m\u001B[43m \u001B[49m\u001B[43mi\u001B[49m\u001B[43m \u001B[49m\u001B[38;5;129;43;01min\u001B[39;49;00m\u001B[43m \u001B[49m\u001B[38;5;28;43mrange\u001B[39;49m\u001B[43m(\u001B[49m\u001B[43mt\u001B[49m\u001B[38;5;241;43m.\u001B[39;49m\u001B[43mshape\u001B[49m\u001B[43m[\u001B[49m\u001B[38;5;241;43m1\u001B[39;49m\u001B[43m]\u001B[49m\u001B[43m)\u001B[49m\u001B[43m}\u001B[49m\u001B[43m)\u001B[49m\n",
      "Cell \u001B[0;32mIn[27], line 3\u001B[0m, in \u001B[0;36mtorch_to_cudf\u001B[0;34m(tensor_dict)\u001B[0m\n\u001B[1;32m      1\u001B[0m \u001B[38;5;28;01mdef\u001B[39;00m \u001B[38;5;21mtorch_to_cudf\u001B[39m(tensor_dict):\n\u001B[1;32m      2\u001B[0m     \u001B[38;5;28;01mreturn\u001B[39;00m cudf\u001B[38;5;241m.\u001B[39mDataFrame(\n\u001B[0;32m----> 3\u001B[0m         {\n\u001B[1;32m      4\u001B[0m             k: cudf\u001B[38;5;241m.\u001B[39mfrom_dlpack(torch\u001B[38;5;241m.\u001B[39mutils\u001B[38;5;241m.\u001B[39mdlpack\u001B[38;5;241m.\u001B[39mto_dlpack(v))\n\u001B[1;32m      5\u001B[0m             \u001B[38;5;28;01mfor\u001B[39;00m k, v \u001B[38;5;129;01min\u001B[39;00m tensor_dict\u001B[38;5;241m.\u001B[39mitems()\n\u001B[1;32m      6\u001B[0m         }\n\u001B[1;32m      7\u001B[0m     )\n",
      "Cell \u001B[0;32mIn[27], line 4\u001B[0m, in \u001B[0;36m<dictcomp>\u001B[0;34m(.0)\u001B[0m\n\u001B[1;32m      1\u001B[0m \u001B[38;5;28;01mdef\u001B[39;00m \u001B[38;5;21mtorch_to_cudf\u001B[39m(tensor_dict):\n\u001B[1;32m      2\u001B[0m     \u001B[38;5;28;01mreturn\u001B[39;00m cudf\u001B[38;5;241m.\u001B[39mDataFrame(\n\u001B[1;32m      3\u001B[0m         {\n\u001B[0;32m----> 4\u001B[0m             k: \u001B[43mcudf\u001B[49m\u001B[38;5;241;43m.\u001B[39;49m\u001B[43mfrom_dlpack\u001B[49m\u001B[43m(\u001B[49m\u001B[43mtorch\u001B[49m\u001B[38;5;241;43m.\u001B[39;49m\u001B[43mutils\u001B[49m\u001B[38;5;241;43m.\u001B[39;49m\u001B[43mdlpack\u001B[49m\u001B[38;5;241;43m.\u001B[39;49m\u001B[43mto_dlpack\u001B[49m\u001B[43m(\u001B[49m\u001B[43mv\u001B[49m\u001B[43m)\u001B[49m\u001B[43m)\u001B[49m\n\u001B[1;32m      5\u001B[0m             \u001B[38;5;28;01mfor\u001B[39;00m k, v \u001B[38;5;129;01min\u001B[39;00m tensor_dict\u001B[38;5;241m.\u001B[39mitems()\n\u001B[1;32m      6\u001B[0m         }\n\u001B[1;32m      7\u001B[0m     )\n",
      "File \u001B[0;32m/scratch/gpfs/kl5675/micromamba/envs/gnn/lib/python3.10/site-packages/cudf/io/dlpack.py:37\u001B[0m, in \u001B[0;36mfrom_dlpack\u001B[0;34m(pycapsule_obj)\u001B[0m\n\u001B[1;32m     10\u001B[0m \u001B[38;5;28;01mdef\u001B[39;00m \u001B[38;5;21mfrom_dlpack\u001B[39m(pycapsule_obj):\n\u001B[1;32m     11\u001B[0m \u001B[38;5;250m    \u001B[39m\u001B[38;5;124;03m\"\"\"Converts from a DLPack tensor to a cuDF object.\u001B[39;00m\n\u001B[1;32m     12\u001B[0m \n\u001B[1;32m     13\u001B[0m \u001B[38;5;124;03m    DLPack is an open-source memory tensor structure:\u001B[39;00m\n\u001B[0;32m   (...)\u001B[0m\n\u001B[1;32m     34\u001B[0m \u001B[38;5;124;03m    tensor is row-major, transpose it before passing it to this function.\u001B[39;00m\n\u001B[1;32m     35\u001B[0m \u001B[38;5;124;03m    \"\"\"\u001B[39;00m\n\u001B[0;32m---> 37\u001B[0m     columns \u001B[38;5;241m=\u001B[39m \u001B[43mlibdlpack\u001B[49m\u001B[38;5;241;43m.\u001B[39;49m\u001B[43mfrom_dlpack\u001B[49m\u001B[43m(\u001B[49m\u001B[43mpycapsule_obj\u001B[49m\u001B[43m)\u001B[49m\n\u001B[1;32m     38\u001B[0m     column_names \u001B[38;5;241m=\u001B[39m \u001B[38;5;28mrange\u001B[39m(\u001B[38;5;28mlen\u001B[39m(columns))\n\u001B[1;32m     40\u001B[0m     \u001B[38;5;28;01mif\u001B[39;00m \u001B[38;5;28mlen\u001B[39m(columns) \u001B[38;5;241m==\u001B[39m \u001B[38;5;241m1\u001B[39m:\n",
      "File \u001B[0;32minterop.pyx:38\u001B[0m, in \u001B[0;36mcudf._lib.interop.from_dlpack\u001B[0;34m()\u001B[0m\n",
      "\u001B[0;31mRuntimeError\u001B[0m: CUDF failure at: /opt/conda/conda-bld/work/cpp/src/interop/dlpack.cpp:156: from_dlpack of 1D DLTensor only for unit-stride data"
     ]
    }
   ],
   "source": [
    "tensor_to_cudf(h)"
   ],
   "metadata": {
    "collapsed": false
   }
  },
  {
   "cell_type": "code",
   "execution_count": 147,
   "outputs": [
    {
     "data": {
      "text/plain": "torch.Size([64253])"
     },
     "execution_count": 147,
     "metadata": {},
     "output_type": "execute_result"
    }
   ],
   "source": [
    "h[:, 1].shape"
   ],
   "metadata": {
    "collapsed": false
   }
  },
  {
   "cell_type": "code",
   "execution_count": 227,
   "outputs": [
    {
     "data": {
      "text/plain": "1.5837182860122994"
     },
     "execution_count": 227,
     "metadata": {},
     "output_type": "execute_result"
    }
   ],
   "source": [
    "t = Timer()\n",
    "cuh = cudf.from_dlpack(torch.utils.dlpack.to_dlpack(h.T)).T\n",
    "t()"
   ],
   "metadata": {
    "collapsed": false
   }
  },
  {
   "cell_type": "code",
   "execution_count": null,
   "outputs": [],
   "source": [
    "_ = torch.utils.dlpack.to_dlpack(h)"
   ],
   "metadata": {
    "collapsed": false,
    "pycharm": {
     "is_executing": true
    }
   }
  },
  {
   "cell_type": "code",
   "execution_count": 174,
   "outputs": [
    {
     "data": {
      "text/plain": "(64253, 8)"
     },
     "execution_count": 174,
     "metadata": {},
     "output_type": "execute_result"
    }
   ],
   "source": [
    "cuh.shape"
   ],
   "metadata": {
    "collapsed": false
   }
  },
  {
   "cell_type": "code",
   "execution_count": 161,
   "outputs": [],
   "source": [
    "import cuml"
   ],
   "metadata": {
    "collapsed": false
   }
  },
  {
   "cell_type": "code",
   "execution_count": 162,
   "outputs": [],
   "source": [
    "from cuml.cluster import DBSCAN"
   ],
   "metadata": {
    "collapsed": false
   }
  },
  {
   "cell_type": "code",
   "execution_count": 182,
   "outputs": [],
   "source": [
    "cpid= cudf.from_dlpack(torch.utils.dlpack.to_dlpack(data.particle_id))"
   ],
   "metadata": {
    "collapsed": false
   }
  },
  {
   "cell_type": "code",
   "execution_count": 220,
   "outputs": [],
   "source": [
    "def get_dm(radius=1, ):\n",
    "    dbscan = DBSCAN(eps=radius, min_samples=1)\n",
    "    r = dbscan.fit(cuh, out_dtype='int64')\n",
    "    labels = r.labels_\n",
    "    tdf = cudf.DataFrame({\"c\": labels, \"id\": cpid})\n",
    "    tmdf = tracking_metric_df_cuda(tdf)\n",
    "    return tmdf[\"double_majority\"].sum()\n"
   ],
   "metadata": {
    "collapsed": false
   }
  },
  {
   "cell_type": "code",
   "execution_count": 221,
   "outputs": [
    {
     "data": {
      "text/plain": "8.76749270799337"
     },
     "execution_count": 221,
     "metadata": {},
     "output_type": "execute_result"
    }
   ],
   "source": [
    "t = Timer()\n",
    "results = []\n",
    "eps = np.linspace(0.01, 1., 100)\n",
    "for r in eps:\n",
    "    results.append(get_dm(r))\n",
    "t()"
   ],
   "metadata": {
    "collapsed": false
   }
  },
  {
   "cell_type": "code",
   "execution_count": 222,
   "outputs": [
    {
     "data": {
      "text/plain": "[<matplotlib.lines.Line2D at 0x1547094d75b0>]"
     },
     "execution_count": 222,
     "metadata": {},
     "output_type": "execute_result"
    },
    {
     "data": {
      "text/plain": "<Figure size 640x480 with 1 Axes>",
      "image/png": "[encoded data removed]"
     },
     "metadata": {},
     "output_type": "display_data"
    }
   ],
   "source": [
    "import matplotlib.pyplot as plt\n",
    "plt.plot(eps, results)"
   ],
   "metadata": {
    "collapsed": false
   }
  },
  {
   "cell_type": "code",
   "execution_count": null,
   "outputs": [],
   "source": [
    "# import optuna\n",
    "#\n",
    "#\n",
    "# def objective(trial):\n",
    "#     eps = trial.suggest_float('eps', 0, 1)\n",
    "#     return get_dm(radius=eps)\n",
    "#\n",
    "#\n",
    "# study = optuna.create_study(direction='maximize')\n",
    "# t = Timer()\n",
    "# study.optimize(objective, n_trials=50)\n",
    "# t()"
   ],
   "metadata": {
    "collapsed": false
   }
  },
  {
   "cell_type": "code",
   "execution_count": 169,
   "outputs": [
    {
     "data": {
      "text/plain": "64253"
     },
     "execution_count": 169,
     "metadata": {},
     "output_type": "execute_result"
    }
   ],
   "source": [
    "\n",
    "len(r.labels_)"
   ],
   "metadata": {
    "collapsed": false
   }
  },
  {
   "cell_type": "code",
   "execution_count": 151,
   "outputs": [
    {
     "data": {
      "text/plain": "torch.Size([64253])"
     },
     "execution_count": 151,
     "metadata": {},
     "output_type": "execute_result"
    }
   ],
   "source": [
    "h[:, 0].shape"
   ],
   "metadata": {
    "collapsed": false
   }
  },
  {
   "cell_type": "code",
   "execution_count": 152,
   "outputs": [
    {
     "data": {
      "text/plain": "torch.Size([64253])"
     },
     "execution_count": 152,
     "metadata": {},
     "output_type": "execute_result"
    }
   ],
   "source": [
    "h[:, 0].squeeze().shape"
   ],
   "metadata": {
    "collapsed": false
   }
  },
  {
   "cell_type": "code",
   "execution_count": null,
   "outputs": [],
   "source": [],
   "metadata": {
    "collapsed": false
   }
  }
 ],
 "metadata": {
  "kernelspec": {
   "display_name": "Python 3",
   "language": "python",
   "name": "python3"
  },
  "language_info": {
   "codemirror_mode": {
    "name": "ipython",
    "version": 2
   },
   "file_extension": ".py",
   "mimetype": "text/x-python",
   "name": "python",
   "nbconvert_exporter": "python",
   "pygments_lexer": "ipython2",
   "version": "2.7.6"
  }
 },
 "nbformat": 4,
 "nbformat_minor": 0
}
