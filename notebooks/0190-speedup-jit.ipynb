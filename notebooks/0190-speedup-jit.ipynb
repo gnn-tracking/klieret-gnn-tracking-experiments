{
 "cells": [
  {
   "cell_type": "code",
   "execution_count": 1,
   "metadata": {
    "collapsed": true
   },
   "outputs": [],
   "source": [
    "from gnn_tracking.metrics.losses import binary_focal_loss\n",
    "import torch\n",
    "import time"
   ]
  },
  {
   "cell_type": "code",
   "execution_count": 2,
   "outputs": [],
   "source": [
    "n = int(1e9)\n"
   ],
   "metadata": {
    "collapsed": false
   }
  },
  {
   "cell_type": "code",
   "execution_count": 5,
   "outputs": [
    {
     "name": "stderr",
     "output_type": "stream",
     "text": [
      "\u001B[33m[15:47:55] WARNING: Masking 9917/1000000000 as outliers in focal loss\u001B[0m\n",
      "\u001B[36m[15:47:55] DEBUG: tensor([0.9684, 0.2078, 0.9617, 0.7449, 0.7366, 0.8370, 0.3795, 0.1392, 0.7383,\n",
      "        0.1610], device='cuda:0')\u001B[0m\n",
      "\u001B[36m[15:47:55] DEBUG: tensor([0.9684, 0.2078, 0.9617, 0.7449, 0.7366, 0.8370, 0.3795, 0.1392, 0.7383,\n",
      "        0.1610], device='cuda:0')\u001B[0m\n",
      "\u001B[33m[15:47:55] WARNING: Masking 9901/1000000000 as outliers in focal loss\u001B[0m\n",
      "\u001B[36m[15:47:55] DEBUG: tensor([0.0371, 0.2699, 0.5786, 0.0656, 0.4074, 0.0130, 0.9415, 0.6172, 0.1557,\n",
      "        0.4469], device='cuda:0')\u001B[0m\n",
      "\u001B[36m[15:47:55] DEBUG: tensor([0.0371, 0.2699, 0.5786, 0.0656, 0.4074, 0.0130, 0.9415, 0.6172, 0.1557,\n",
      "        0.4469], device='cuda:0')\u001B[0m\n",
      "\u001B[33m[15:47:55] WARNING: Masking 10153/1000000000 as outliers in focal loss\u001B[0m\n",
      "\u001B[36m[15:47:55] DEBUG: tensor([0.0345, 0.3698, 0.3155, 0.5507, 0.1668, 0.9732, 0.3922, 0.3342, 0.4241,\n",
      "        0.3211], device='cuda:0')\u001B[0m\n",
      "\u001B[36m[15:47:55] DEBUG: tensor([0.0345, 0.3698, 0.3155, 0.5507, 0.1668, 0.9732, 0.3922, 0.3342, 0.4241,\n",
      "        0.3211], device='cuda:0')\u001B[0m\n",
      "\u001B[33m[15:47:56] WARNING: Masking 10065/1000000000 as outliers in focal loss\u001B[0m\n",
      "\u001B[36m[15:47:56] DEBUG: tensor([0.6572, 0.5522, 0.3895, 0.0964, 0.7758, 0.6944, 0.4077, 0.0773, 0.3284,\n",
      "        0.8266], device='cuda:0')\u001B[0m\n",
      "\u001B[36m[15:47:56] DEBUG: tensor([0.6572, 0.5522, 0.3895, 0.0964, 0.7758, 0.6944, 0.4077, 0.0773, 0.3284,\n",
      "        0.8266], device='cuda:0')\u001B[0m\n",
      "\u001B[33m[15:47:56] WARNING: Masking 9857/1000000000 as outliers in focal loss\u001B[0m\n",
      "\u001B[36m[15:47:56] DEBUG: tensor([0.0830, 0.8378, 0.8149, 0.0273, 0.3016, 0.8935, 0.9001, 0.6820, 0.8457,\n",
      "        0.5833], device='cuda:0')\u001B[0m\n",
      "\u001B[36m[15:47:56] DEBUG: tensor([0.0830, 0.8378, 0.8149, 0.0273, 0.3016, 0.8935, 0.9001, 0.6820, 0.8457,\n",
      "        0.5833], device='cuda:0')\u001B[0m\n",
      "\u001B[33m[15:47:56] WARNING: Masking 9918/1000000000 as outliers in focal loss\u001B[0m\n",
      "\u001B[36m[15:47:56] DEBUG: tensor([0.7217, 0.7382, 0.9155, 0.6784, 0.3204, 0.7390, 0.8375, 0.1215, 0.1394,\n",
      "        0.4397], device='cuda:0')\u001B[0m\n",
      "\u001B[36m[15:47:56] DEBUG: tensor([0.7217, 0.7382, 0.9155, 0.6784, 0.3204, 0.7390, 0.8375, 0.1215, 0.1394,\n",
      "        0.4397], device='cuda:0')\u001B[0m\n",
      "\u001B[33m[15:47:56] WARNING: Masking 9885/1000000000 as outliers in focal loss\u001B[0m\n",
      "\u001B[36m[15:47:56] DEBUG: tensor([0.8348, 0.5385, 0.9297, 0.9632, 0.7705, 0.7140, 0.8121, 0.1454, 0.5276,\n",
      "        0.0603], device='cuda:0')\u001B[0m\n",
      "\u001B[36m[15:47:56] DEBUG: tensor([0.8348, 0.5385, 0.9297, 0.9632, 0.7705, 0.7140, 0.8121, 0.1454, 0.5276,\n",
      "        0.0603], device='cuda:0')\u001B[0m\n",
      "\u001B[33m[15:47:57] WARNING: Masking 9987/1000000000 as outliers in focal loss\u001B[0m\n",
      "\u001B[36m[15:47:57] DEBUG: tensor([0.1808, 0.3783, 0.1700, 0.4923, 0.2719, 0.2524, 0.0007, 0.1454, 0.3941,\n",
      "        0.6437], device='cuda:0')\u001B[0m\n",
      "\u001B[36m[15:47:57] DEBUG: tensor([0.1808, 0.3783, 0.1700, 0.4923, 0.2719, 0.2524, 0.0007, 0.1454, 0.3941,\n",
      "        0.6437], device='cuda:0')\u001B[0m\n",
      "\u001B[33m[15:47:57] WARNING: Masking 10033/1000000000 as outliers in focal loss\u001B[0m\n",
      "\u001B[36m[15:47:57] DEBUG: tensor([0.1902, 0.6409, 0.4757, 0.8102, 0.8078, 0.4435, 0.8760, 0.7246, 0.4320,\n",
      "        0.2327], device='cuda:0')\u001B[0m\n",
      "\u001B[36m[15:47:57] DEBUG: tensor([0.1902, 0.6409, 0.4757, 0.8102, 0.8078, 0.4435, 0.8760, 0.7246, 0.4320,\n",
      "        0.2327], device='cuda:0')\u001B[0m\n",
      "\u001B[33m[15:47:57] WARNING: Masking 10087/1000000000 as outliers in focal loss\u001B[0m\n",
      "\u001B[36m[15:47:57] DEBUG: tensor([0.7625, 0.9514, 0.7980, 0.5807, 0.7590, 0.5773, 0.6302, 0.5680, 0.8511,\n",
      "        0.1550], device='cuda:0')\u001B[0m\n",
      "\u001B[36m[15:47:57] DEBUG: tensor([0.7625, 0.9514, 0.7980, 0.5807, 0.7590, 0.5773, 0.6302, 0.5680, 0.8511,\n",
      "        0.1550], device='cuda:0')\u001B[0m\n",
      "\u001B[33m[15:47:57] WARNING: Masking 9957/1000000000 as outliers in focal loss\u001B[0m\n",
      "\u001B[36m[15:47:57] DEBUG: tensor([0.5767, 0.3405, 0.2368, 0.8940, 0.1123, 0.1455, 0.1855, 0.4549, 0.9585,\n",
      "        0.1503], device='cuda:0')\u001B[0m\n",
      "\u001B[36m[15:47:57] DEBUG: tensor([0.5767, 0.3405, 0.2368, 0.8940, 0.1123, 0.1455, 0.1855, 0.4549, 0.9585,\n",
      "        0.1503], device='cuda:0')\u001B[0m\n",
      "\u001B[33m[15:47:58] WARNING: Masking 10089/1000000000 as outliers in focal loss\u001B[0m\n",
      "\u001B[36m[15:47:58] DEBUG: tensor([0.8031, 0.9878, 0.3220, 0.9146, 0.7240, 0.6609, 0.2532, 0.9666, 0.2085,\n",
      "        0.5461], device='cuda:0')\u001B[0m\n",
      "\u001B[36m[15:47:58] DEBUG: tensor([0.8031, 0.9878, 0.3220, 0.9146, 0.7240, 0.6609, 0.2532, 0.9666, 0.2085,\n",
      "        0.5461], device='cuda:0')\u001B[0m\n",
      "\u001B[33m[15:47:58] WARNING: Masking 10187/1000000000 as outliers in focal loss\u001B[0m\n",
      "\u001B[36m[15:47:58] DEBUG: tensor([0.6651, 0.5310, 0.6171, 0.0361, 0.3711, 0.8340, 0.2276, 0.1908, 0.1739,\n",
      "        0.4655], device='cuda:0')\u001B[0m\n",
      "\u001B[36m[15:47:58] DEBUG: tensor([0.6651, 0.5310, 0.6171, 0.0361, 0.3711, 0.8340, 0.2276, 0.1908, 0.1739,\n",
      "        0.4655], device='cuda:0')\u001B[0m\n",
      "\u001B[33m[15:47:58] WARNING: Masking 9891/1000000000 as outliers in focal loss\u001B[0m\n",
      "\u001B[36m[15:47:58] DEBUG: tensor([0.9059, 0.1796, 0.8440, 0.8112, 0.8613, 0.0433, 0.8990, 0.8708, 0.0049,\n",
      "        0.7190], device='cuda:0')\u001B[0m\n",
      "\u001B[36m[15:47:58] DEBUG: tensor([0.9059, 0.1796, 0.8440, 0.8112, 0.8613, 0.0433, 0.8990, 0.8708, 0.0049,\n",
      "        0.7190], device='cuda:0')\u001B[0m\n",
      "\u001B[33m[15:47:58] WARNING: Masking 10020/1000000000 as outliers in focal loss\u001B[0m\n",
      "\u001B[36m[15:47:58] DEBUG: tensor([0.5563, 0.1037, 0.8181, 0.3712, 0.7439, 0.0853, 0.4687, 0.3005, 0.5631,\n",
      "        0.2370], device='cuda:0')\u001B[0m\n",
      "\u001B[36m[15:47:58] DEBUG: tensor([0.5563, 0.1037, 0.8181, 0.3712, 0.7439, 0.0853, 0.4687, 0.3005, 0.5631,\n",
      "        0.2370], device='cuda:0')\u001B[0m\n",
      "\u001B[33m[15:47:59] WARNING: Masking 10044/1000000000 as outliers in focal loss\u001B[0m\n",
      "\u001B[36m[15:47:59] DEBUG: tensor([0.0730, 0.2749, 0.0538, 0.5036, 0.5525, 0.2205, 0.5023, 0.3444, 0.2516,\n",
      "        0.1503], device='cuda:0')\u001B[0m\n",
      "\u001B[36m[15:47:59] DEBUG: tensor([0.0730, 0.2749, 0.0538, 0.5036, 0.5525, 0.2205, 0.5023, 0.3444, 0.2516,\n",
      "        0.1503], device='cuda:0')\u001B[0m\n",
      "\u001B[33m[15:47:59] WARNING: Masking 9980/1000000000 as outliers in focal loss\u001B[0m\n",
      "\u001B[36m[15:47:59] DEBUG: tensor([0.7785, 0.5608, 0.4663, 0.2268, 0.6634, 0.5110, 0.7154, 0.7259, 0.9793,\n",
      "        0.5565], device='cuda:0')\u001B[0m\n",
      "\u001B[36m[15:47:59] DEBUG: tensor([0.7785, 0.5608, 0.4663, 0.2268, 0.6634, 0.5110, 0.7154, 0.7259, 0.9793,\n",
      "        0.5565], device='cuda:0')\u001B[0m\n",
      "\u001B[33m[15:47:59] WARNING: Masking 10073/1000000000 as outliers in focal loss\u001B[0m\n",
      "\u001B[36m[15:47:59] DEBUG: tensor([0.3832, 0.7125, 0.5373, 0.3655, 0.8063, 0.4293, 0.3639, 0.5771, 0.1396,\n",
      "        0.7196], device='cuda:0')\u001B[0m\n",
      "\u001B[36m[15:47:59] DEBUG: tensor([0.3832, 0.7125, 0.5373, 0.3655, 0.8063, 0.4293, 0.3639, 0.5771, 0.1396,\n",
      "        0.7196], device='cuda:0')\u001B[0m\n",
      "\u001B[33m[15:47:59] WARNING: Masking 10055/1000000000 as outliers in focal loss\u001B[0m\n",
      "\u001B[36m[15:47:59] DEBUG: tensor([0.3138, 0.2426, 0.5783, 0.1410, 0.7936, 0.2195, 0.3035, 0.9266, 0.5084,\n",
      "        0.9067], device='cuda:0')\u001B[0m\n",
      "\u001B[36m[15:47:59] DEBUG: tensor([0.3138, 0.2426, 0.5783, 0.1410, 0.7936, 0.2195, 0.3035, 0.9266, 0.5084,\n",
      "        0.9067], device='cuda:0')\u001B[0m\n",
      "\u001B[33m[15:48:00] WARNING: Masking 9994/1000000000 as outliers in focal loss\u001B[0m\n",
      "\u001B[36m[15:48:00] DEBUG: tensor([0.1041, 0.1563, 0.4663, 0.7096, 0.3362, 0.2737, 0.6940, 0.4264, 0.5393,\n",
      "        0.5396], device='cuda:0')\u001B[0m\n",
      "\u001B[36m[15:48:00] DEBUG: tensor([0.1041, 0.1563, 0.4663, 0.7096, 0.3362, 0.2737, 0.6940, 0.4264, 0.5393,\n",
      "        0.5396], device='cuda:0')\u001B[0m\n",
      "\u001B[33m[15:48:00] WARNING: Masking 10015/1000000000 as outliers in focal loss\u001B[0m\n",
      "\u001B[36m[15:48:00] DEBUG: tensor([0.9198, 0.7625, 0.1451, 0.0794, 0.2470, 0.7702, 0.7421, 0.2286, 0.2856,\n",
      "        0.5562], device='cuda:0')\u001B[0m\n",
      "\u001B[36m[15:48:00] DEBUG: tensor([0.9198, 0.7625, 0.1451, 0.0794, 0.2470, 0.7702, 0.7421, 0.2286, 0.2856,\n",
      "        0.5562], device='cuda:0')\u001B[0m\n",
      "\u001B[33m[15:48:00] WARNING: Masking 9783/1000000000 as outliers in focal loss\u001B[0m\n",
      "\u001B[36m[15:48:00] DEBUG: tensor([0.1124, 0.5732, 0.9186, 0.4973, 0.2671, 0.8567, 0.8588, 0.6290, 0.6266,\n",
      "        0.9731], device='cuda:0')\u001B[0m\n",
      "\u001B[36m[15:48:00] DEBUG: tensor([0.1124, 0.5732, 0.9186, 0.4973, 0.2671, 0.8567, 0.8588, 0.6290, 0.6266,\n",
      "        0.9731], device='cuda:0')\u001B[0m\n",
      "\u001B[33m[15:48:00] WARNING: Masking 9984/1000000000 as outliers in focal loss\u001B[0m\n",
      "\u001B[36m[15:48:00] DEBUG: tensor([0.0183, 0.5650, 0.1500, 0.0372, 0.4769, 0.3800, 0.6639, 0.0273, 0.1509,\n",
      "        0.5088], device='cuda:0')\u001B[0m\n",
      "\u001B[36m[15:48:01] DEBUG: tensor([0.0183, 0.5650, 0.1500, 0.0372, 0.4769, 0.3800, 0.6639, 0.0273, 0.1509,\n",
      "        0.5088], device='cuda:0')\u001B[0m\n",
      "\u001B[33m[15:48:01] WARNING: Masking 10035/1000000000 as outliers in focal loss\u001B[0m\n",
      "\u001B[36m[15:48:01] DEBUG: tensor([0.0740, 0.9144, 0.9751, 0.2218, 0.7971, 0.2431, 0.3795, 0.2034, 0.6097,\n",
      "        0.2073], device='cuda:0')\u001B[0m\n",
      "\u001B[36m[15:48:01] DEBUG: tensor([0.0740, 0.9144, 0.9751, 0.2218, 0.7971, 0.2431, 0.3795, 0.2034, 0.6097,\n",
      "        0.2073], device='cuda:0')\u001B[0m\n",
      "\u001B[33m[15:48:01] WARNING: Masking 9998/1000000000 as outliers in focal loss\u001B[0m\n",
      "\u001B[36m[15:48:01] DEBUG: tensor([0.5436, 0.7518, 0.5930, 0.1549, 0.4579, 0.2922, 0.7258, 0.8034, 0.7746,\n",
      "        0.8031], device='cuda:0')\u001B[0m\n",
      "\u001B[36m[15:48:01] DEBUG: tensor([0.5436, 0.7518, 0.5930, 0.1549, 0.4579, 0.2922, 0.7258, 0.8034, 0.7746,\n",
      "        0.8031], device='cuda:0')\u001B[0m\n",
      "\u001B[33m[15:48:01] WARNING: Masking 9955/1000000000 as outliers in focal loss\u001B[0m\n",
      "\u001B[36m[15:48:01] DEBUG: tensor([0.6441, 0.9303, 0.4506, 0.0710, 0.2349, 0.1918, 0.7238, 0.6646, 0.2620,\n",
      "        0.3804], device='cuda:0')\u001B[0m\n",
      "\u001B[36m[15:48:01] DEBUG: tensor([0.6441, 0.9303, 0.4506, 0.0710, 0.2349, 0.1918, 0.7238, 0.6646, 0.2620,\n",
      "        0.3804], device='cuda:0')\u001B[0m\n",
      "\u001B[33m[15:48:02] WARNING: Masking 9991/1000000000 as outliers in focal loss\u001B[0m\n",
      "\u001B[36m[15:48:02] DEBUG: tensor([0.4989, 0.2340, 0.0569, 0.1994, 0.2473, 0.1691, 0.6017, 0.4847, 0.4880,\n",
      "        0.4586], device='cuda:0')\u001B[0m\n",
      "\u001B[36m[15:48:02] DEBUG: tensor([0.4989, 0.2340, 0.0569, 0.1994, 0.2473, 0.1691, 0.6017, 0.4847, 0.4880,\n",
      "        0.4586], device='cuda:0')\u001B[0m\n",
      "\u001B[33m[15:48:02] WARNING: Masking 10018/1000000000 as outliers in focal loss\u001B[0m\n",
      "\u001B[36m[15:48:02] DEBUG: tensor([0.6739, 0.5666, 0.0528, 0.3123, 0.7954, 0.3600, 0.2666, 0.8183, 0.2408,\n",
      "        0.6777], device='cuda:0')\u001B[0m\n",
      "\u001B[36m[15:48:02] DEBUG: tensor([0.6739, 0.5666, 0.0528, 0.3123, 0.7954, 0.3600, 0.2666, 0.8183, 0.2408,\n",
      "        0.6777], device='cuda:0')\u001B[0m\n",
      "\u001B[33m[15:48:02] WARNING: Masking 10068/1000000000 as outliers in focal loss\u001B[0m\n",
      "\u001B[36m[15:48:02] DEBUG: tensor([0.8696, 0.7463, 0.0553, 0.8575, 0.8150, 0.9031, 0.0570, 0.2244, 0.3075,\n",
      "        0.5599], device='cuda:0')\u001B[0m\n",
      "\u001B[36m[15:48:02] DEBUG: tensor([0.8696, 0.7463, 0.0553, 0.8575, 0.8150, 0.9031, 0.0570, 0.2244, 0.3075,\n",
      "        0.5599], device='cuda:0')\u001B[0m\n",
      "\u001B[33m[15:48:02] WARNING: Masking 10113/1000000000 as outliers in focal loss\u001B[0m\n",
      "\u001B[36m[15:48:02] DEBUG: tensor([0.2299, 0.9564, 0.5064, 0.6759, 0.5521, 0.2330, 0.4120, 0.9947, 0.7524,\n",
      "        0.9938], device='cuda:0')\u001B[0m\n",
      "\u001B[36m[15:48:02] DEBUG: tensor([0.2299, 0.9564, 0.5064, 0.6759, 0.5521, 0.2330, 0.4120, 0.9947, 0.7524,\n",
      "        0.9938], device='cuda:0')\u001B[0m\n"
     ]
    },
    {
     "name": "stdout",
     "output_type": "stream",
     "text": [
      "-7.624078035354614\n"
     ]
    }
   ],
   "source": [
    "start = time.time()\n",
    "for _ in range(30):\n",
    "    inpt = torch.rand(size=(n,), device=\"cuda\")\n",
    "    binary_focal_loss(inpt=inpt, target=inpt, alpha=0.3, pos_weight=inpt, gamma=2.)\n",
    "print(start - time.time())"
   ],
   "metadata": {
    "collapsed": false
   }
  },
  {
   "cell_type": "code",
   "execution_count": 4,
   "outputs": [],
   "source": [
    "from torch import Tensor as T\n",
    "from torch.nn.functional import relu\n"
   ],
   "metadata": {
    "collapsed": false
   }
  },
  {
   "cell_type": "code",
   "execution_count": 29,
   "outputs": [],
   "source": [
    "\n",
    "@torch.jit.script\n",
    "def _condensation_loss(\n",
    "        *, beta: T, x: T, particle_id: T, mask: T, q_min: float, radius_threshold: float\n",
    ") -> dict[str, T]:\n",
    "    pids = torch.unique(particle_id[particle_id > 0])\n",
    "    # n_nodes x n_pids\n",
    "    pid_masks = particle_id[:, None] == pids[None, :]  # type: ignore\n",
    "\n",
    "    q = torch.arctanh(beta) ** 2 + q_min\n",
    "    alphas = torch.argmax(q[:, None] * pid_masks, dim=0)\n",
    "    x_alphas = x[alphas].transpose(0, 1)\n",
    "    q_alphas = q[alphas][None, None, :]\n",
    "\n",
    "    diff = x[:, :, None] - x_alphas[None, :, :]\n",
    "    norm_sq = torch.sum(diff**2, dim=1)\n",
    "\n",
    "    # Attractive potential\n",
    "    va = q[:, None] * pid_masks * (norm_sq * q_alphas).squeeze(dim=0)\n",
    "    # Repulsive potential\n",
    "    vr = (\n",
    "            q[:, None]\n",
    "            * (~pid_masks)\n",
    "            * (\n",
    "                    relu(radius_threshold - torch.sqrt(norm_sq + 1e-8)) * q_alphas\n",
    "            ).squeeze(dim=0)\n",
    "    )\n",
    "\n",
    "    return {\n",
    "        \"attractive\": torch.sum(torch.mean(va[mask], dim=0)),\n",
    "        \"repulsive\": torch.sum(torch.mean(vr, dim=0)),\n",
    "    }\n"
   ],
   "metadata": {
    "collapsed": false
   }
  },
  {
   "cell_type": "code",
   "execution_count": 31,
   "outputs": [
    {
     "data": {
      "text/plain": "{'attractive': tensor(15.0197), 'repulsive': tensor(1642.4094)}"
     },
     "execution_count": 31,
     "metadata": {},
     "output_type": "execute_result"
    }
   ],
   "source": [
    "_condensation_loss(beta=beta, x=x, particle_id=particle_id, q_min=0.5, radius_threshold=1.5, mask=mask)"
   ],
   "metadata": {
    "collapsed": false
   }
  },
  {
   "cell_type": "code",
   "execution_count": 32,
   "outputs": [
    {
     "name": "stdout",
     "output_type": "stream",
     "text": [
      "4.599055767059326\n"
     ]
    }
   ],
   "source": [
    "a = time.time()\n",
    "n = int(1e5)\n",
    "beta = torch.rand(size=(n,))\n",
    "x=torch.rand(size=(n,4))\n",
    "particle_id = (100*torch.rand(size=(n,))).long()\n",
    "mask = beta > 0\n",
    "for _ in range(100):\n",
    "    _condensation_loss(beta=beta, x=x, particle_id=particle_id, q_min=0.5, radius_threshold=1.5, mask=mask)\n",
    "print(time.time() - a)"
   ],
   "metadata": {
    "collapsed": false
   }
  },
  {
   "cell_type": "code",
   "execution_count": 34,
   "outputs": [
    {
     "data": {
      "text/plain": "0.6969696969696969"
     },
     "execution_count": 34,
     "metadata": {},
     "output_type": "execute_result"
    }
   ],
   "source": [
    "4.6/6.6"
   ],
   "metadata": {
    "collapsed": false
   }
  },
  {
   "cell_type": "code",
   "execution_count": null,
   "outputs": [],
   "source": [],
   "metadata": {
    "collapsed": false
   }
  }
 ],
 "metadata": {
  "kernelspec": {
   "display_name": "Python 3",
   "language": "python",
   "name": "python3"
  },
  "language_info": {
   "codemirror_mode": {
    "name": "ipython",
    "version": 2
   },
   "file_extension": ".py",
   "mimetype": "text/x-python",
   "name": "python",
   "nbconvert_exporter": "python",
   "pygments_lexer": "ipython2",
   "version": "2.7.6"
  }
 },
 "nbformat": 4,
 "nbformat_minor": 0
}
