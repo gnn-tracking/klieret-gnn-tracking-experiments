{
 "cells": [
  {
   "cell_type": "code",
   "execution_count": null,
   "metadata": {
    "pycharm": {
     "name": "#%%\n"
    }
   },
   "outputs": [],
   "source": [
    "from pathlib import Path\n",
    "from trackml.dataset import load_event"
   ]
  },
  {
   "cell_type": "code",
   "execution_count": null,
   "metadata": {
    "pycharm": {
     "name": "#%%\n"
    }
   },
   "outputs": [],
   "source": [
    "indir = Path(\"/tigress\") / \"jdezoort\" / \"codalab\" / \"train_1\""
   ]
  },
  {
   "cell_type": "code",
   "execution_count": null,
   "metadata": {
    "pycharm": {
     "name": "#%%\n"
    }
   },
   "outputs": [],
   "source": [
    "truncated_files = list(Path(indir).glob(\"event000021354*\"))"
   ]
  },
  {
   "cell_type": "code",
   "execution_count": null,
   "metadata": {
    "pycharm": {
     "name": "#%%\n"
    }
   },
   "outputs": [],
   "source": [
    "truncated_files"
   ]
  },
  {
   "cell_type": "code",
   "execution_count": null,
   "metadata": {
    "pycharm": {
     "name": "#%%\n"
    }
   },
   "outputs": [],
   "source": [
    "hits, cells, particles, truth = load_event(\n",
    "    indir / \"event000021354\",\n",
    ")"
   ]
  },
  {
   "cell_type": "code",
   "execution_count": null,
   "metadata": {
    "pycharm": {
     "name": "#%%\n"
    }
   },
   "outputs": [],
   "source": [
    "extracted_pids = particles[\"particle_id\"].sample(frac=0.05).to_list()"
   ]
  },
  {
   "cell_type": "code",
   "execution_count": null,
   "metadata": {
    "pycharm": {
     "name": "#%%\n"
    }
   },
   "outputs": [],
   "source": [
    "extracted_pids"
   ]
  },
  {
   "cell_type": "code",
   "execution_count": null,
   "metadata": {
    "pycharm": {
     "name": "#%%\n"
    }
   },
   "outputs": [],
   "source": [
    "f_noise = 0.15  # roughly the same as initial dataset"
   ]
  },
  {
   "cell_type": "code",
   "execution_count": null,
   "metadata": {
    "pycharm": {
     "name": "#%%\n"
    }
   },
   "outputs": [],
   "source": [
    "extracted_hit_ids = truth[truth[\"particle_id\"].isin(extracted_pids)][\"hit_id\"].to_list()\n",
    "n_noise = int(f_noise / (1 - f_noise) * len(extracted_hit_ids))\n",
    "extracted_hit_ids += (\n",
    "    truth[truth[\"particle_id\"] == 0].sample(n=n_noise)[\"hit_id\"].to_list()\n",
    ")"
   ]
  },
  {
   "cell_type": "code",
   "execution_count": null,
   "metadata": {
    "pycharm": {
     "name": "#%%\n"
    }
   },
   "outputs": [],
   "source": [
    "s_hits = hits[hits[\"hit_id\"].isin(extracted_hit_ids)].copy()\n",
    "s_cells = cells[cells[\"hit_id\"].isin(extracted_hit_ids)].copy()\n",
    "s_particles = particles[particles[\"particle_id\"].isin(extracted_pids + [0])].copy()\n",
    "s_truth = truth[truth[\"hit_id\"].isin(extracted_hit_ids)].copy()"
   ]
  },
  {
   "cell_type": "code",
   "execution_count": null,
   "metadata": {
    "pycharm": {
     "name": "#%%\n"
    }
   },
   "outputs": [],
   "source": [
    "out_dir = Path(\".\") / \"test_data\"\n",
    "out_name = \"test_event000000001\"\n",
    "out_dir.mkdir(parents=True, exist_ok=True)"
   ]
  },
  {
   "cell_type": "code",
   "execution_count": null,
   "metadata": {
    "pycharm": {
     "name": "#%%\n"
    }
   },
   "outputs": [],
   "source": [
    "s_hits.to_csv(out_dir / f\"{out_name}-hits.csv.gz\", index=False, compression=\"gzip\")\n",
    "s_cells.to_csv(out_dir / f\"{out_name}-cells.csv.gz\", index=False, compression=\"gzip\")\n",
    "s_particles.to_csv(\n",
    "    out_dir / f\"{out_name}-particles.csv.gz\", index=False, compression=\"gzip\"\n",
    ")\n",
    "s_truth.to_csv(out_dir / f\"{out_name}-truth.csv.gz\", index=False, compression=\"gzip\")"
   ]
  },
  {
   "cell_type": "code",
   "execution_count": null,
   "metadata": {
    "pycharm": {
     "name": "#%%\n"
    }
   },
   "outputs": [],
   "source": [
    "hits, cells, particles, truth = load_event(\n",
    "    out_dir / \"test_001\",\n",
    ")"
   ]
  },
  {
   "cell_type": "code",
   "execution_count": null,
   "metadata": {
    "pycharm": {
     "name": "#%%\n"
    }
   },
   "outputs": [],
   "source": []
  }
 ],
 "metadata": {
  "kernelspec": {
   "display_name": "Python 3",
   "language": "python",
   "name": "python3"
  },
  "language_info": {
   "codemirror_mode": {
    "name": "ipython",
    "version": 2
   },
   "file_extension": ".py",
   "mimetype": "text/x-python",
   "name": "python",
   "nbconvert_exporter": "python",
   "pygments_lexer": "ipython2",
   "version": "2.7.6"
  }
 },
 "nbformat": 4,
 "nbformat_minor": 0
}
