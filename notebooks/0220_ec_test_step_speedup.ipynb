{
 "cells": [
  {
   "cell_type": "code",
   "execution_count": 7,
   "outputs": [],
   "source": [
    "from typing import DefaultDict\n",
    "\n",
    "import pandas as pd\n",
    "\n",
    "from gnn_tracking.metrics.binary_classification import BinaryClassificationStats\n",
    "from gnn_tracking_hpo.util.paths import add_scripts_path\n",
    "\n",
    "import matplotlib.pyplot as plt\n",
    "import copy\n",
    "import numpy as np\n",
    "from gnn_tracking.graph_construction.graph_builder import load_graphs\n",
    "from torch_geometric.loader import DataLoader\n",
    "import torch\n",
    "from tqdm import tqdm\n",
    "add_scripts_path()\n",
    "import collections\n"
   ],
   "metadata": {
    "collapsed": false
   }
  },
  {
   "cell_type": "code",
   "execution_count": 8,
   "outputs": [],
   "source": [
    "from tune_ec import ECTrainable"
   ],
   "metadata": {
    "collapsed": false
   }
  },
  {
   "cell_type": "markdown",
   "source": [
    "## Load model"
   ],
   "metadata": {
    "collapsed": false
   }
  },
  {
   "cell_type": "code",
   "execution_count": 9,
   "outputs": [
    {
     "name": "stderr",
     "output_type": "stream",
     "text": [
      "\u001B[36m[13:50:06 gnnt_hpo] DEBUG: Loading config from /home/kl5675/ray_results/ec_tc04/ECTrainable_0450a5df_1_val_batch_size=40,adam_amsgrad=False,adam_beta1=0.9682,adam_beta2=0.9986,adam_eps=0.0000,adam_weight_decay=_2023-03-09_12-16-31/params.json\u001B[0m\n",
      "\u001B[32m[13:50:06 gnnt_hpo] INFO: I'm running on a node with job ID=46112165\u001B[0m\n",
      "\u001B[33m[13:50:06 gnnt_hpo] WARNING: Dispatcher ID was not set. This should be set by the dispatcher as a class attribute to the trainable.\u001B[0m\n",
      "\u001B[32m[13:50:06 gnnt_hpo] INFO: The ID of my dispatcher is 0\u001B[0m\n",
      "\u001B[33m[13:50:06 SlurmControl] WARNING: Control file /home/kl5675/ray_slurm_control.yaml does not exist\u001B[0m\n",
      "\u001B[36m[13:50:06 gnnt_hpo] DEBUG: Got config\n",
      "┌──────────────────────────────────────┬───────────────────────────────────────────────────────────────┐\n",
      "│ _val_batch_size                      │ 40                                                            │\n",
      "│ adam_amsgrad                         │ False                                                         │\n",
      "│ adam_beta1                           │ 0.9681533655563015                                            │\n",
      "│ adam_beta2                           │ 0.9986372465566375                                            │\n",
      "│ adam_eps                             │ 2.8002741710468633e-09                                        │\n",
      "│ adam_weight_decay                    │ 0.0                                                           │\n",
      "│ batch_size                           │ 50                                                            │\n",
      "│ ec_loss                              │ haughty_focal                                                 │\n",
      "│ ec_pt_thld                           │ 0.6642967893422735                                            │\n",
      "│ focal_alpha                          │ 0.2782834870313522                                            │\n",
      "│ focal_gamma                          │ 4.321017849273679                                             │\n",
      "│ gnn_tracking_experiments_hash        │ fe48a49692111105fc7f69265667a1a3a67c4bce                      │\n",
      "│ gnn_tracking_hash                    │ 645db7e3aef422c44bce8c306810b445943a3b1d                      │\n",
      "│ lr                                   │ 0.0009386392062443921                                         │\n",
      "│ lw_edge                              │ 1.0                                                           │\n",
      "│ m_L_ec                               │ 8                                                             │\n",
      "│ m_alpha_ec                           │ 0.6084508756509931                                            │\n",
      "│ m_e_dim                              │ 4                                                             │\n",
      "│ m_h_dim                              │ 5                                                             │\n",
      "│ m_hidden_dim                         │ 37                                                            │\n",
      "│ m_interaction_edge_hidden_dim        │ 42                                                            │\n",
      "│ m_interaction_node_hidden_dim        │ 59                                                            │\n",
      "│ n_graphs_test                        │ 100                                                           │\n",
      "│ n_graphs_train                       │ 1                                                             │\n",
      "│ n_graphs_val                         │ 100                                                           │\n",
      "│ optimizer                            │ adam                                                          │\n",
      "│ scheduler                            │                                                               │\n",
      "│ sector                               │                                                               │\n",
      "│ test                                 │ False                                                         │\n",
      "│ train_data_dir                       │ /tigress/jdezoort/object_condensation/graphs_v0/part1_pt0.4   │\n",
      "│ training_pt_thld                     │ 0.0                                                           │\n",
      "│ training_without_noise               │ False                                                         │\n",
      "│ training_without_non_reconstructable │ False                                                         │\n",
      "│ val_data_dir                         │ /scratch/gpfs/kl5675/data/gnn_tracking/graphs/training_part09 │\n",
      "└──────────────────────────────────────┴───────────────────────────────────────────────────────────────┘\u001B[0m\n",
      "\u001B[36m[13:50:06 gnnt_hpo] DEBUG: Getting loaders\u001B[0m\n",
      "\u001B[36m[13:50:06 gnnt_hpo] DEBUG: Loading graphs from /tigress/jdezoort/object_condensation/graphs_v0/part1_pt0.4\u001B[0m\n",
      "\u001B[32m[13:50:06 gnnt_hpo] INFO: Loading training data to cpu memory\u001B[0m\n",
      "\u001B[32m[13:50:06] INFO: Loading 1 graphs (out of 12476 available).\u001B[0m\n",
      "\u001B[36m[13:50:06] DEBUG: First graph is data21000_s0.pt, last graph is data21000_s0.pt\u001B[0m\n",
      "\u001B[32m[13:50:06 gnnt_hpo] INFO: Loading validation data to cpu memory\u001B[0m\n",
      "\u001B[32m[13:50:06] INFO: Loading 100 graphs (out of 3200 available).\u001B[0m\n",
      "\u001B[36m[13:50:06] DEBUG: First graph is data29004_s0.pt, last graph is data29032_s11.pt\u001B[0m\n",
      "\u001B[36m[13:50:06 gnnt_hpo] DEBUG: Parameters for data loader 'train': {'batch_size': 50, 'num_workers': 1, 'shuffle': True, 'pin_memory': True}\u001B[0m\n",
      "\u001B[36m[13:50:06 gnnt_hpo] DEBUG: Parameters for data loader 'val': {'batch_size': 40, 'num_workers': 12, 'shuffle': False, 'pin_memory': True}\u001B[0m\n",
      "\u001B[36m[13:50:06 gnnt_hpo] DEBUG: Parameters for data loader 'test': {'batch_size': 40, 'num_workers': 1, 'shuffle': False, 'pin_memory': True}\u001B[0m\n",
      "\u001B[32m[13:50:06 TCNTrainer] INFO: Using device cuda\u001B[0m\n",
      "\u001B[36m[13:50:06 gnnt_hpo] DEBUG: Loading checkpoint from /home/kl5675/ray_results/ec_tc04/ECTrainable_0450a5df_1_val_batch_size=40,adam_amsgrad=False,adam_beta1=0.9682,adam_beta2=0.9986,adam_eps=0.0000,adam_weight_decay=_2023-03-09_12-16-31/checkpoint_000039/checkpoint.pt\u001B[0m\n"
     ]
    }
   ],
   "source": [
    "trainable = ECTrainable.reinstate(\"ec_tc04\", \"0450a5df\", epoch=-1, config_override={\"n_graphs_train\": 1, \"n_graphs_test\": 100})"
   ],
   "metadata": {
    "collapsed": false
   }
  },
  {
   "cell_type": "code",
   "execution_count": 22,
   "outputs": [],
   "source": [
    "\n",
    "\n",
    "from gnn_tracking.utils.timing import Timer\n",
    "from gnn_tracking.utils.nomenclature import denote_pt\n",
    "from gnn_tracking.metrics.binary_classification import get_maximized_bcs\n",
    "\n",
    "from gnn_tracking.metrics.binary_classification import roc_auc_score\n",
    "\n",
    "\n",
    "@torch.no_grad()\n",
    "def single_test_step(\n",
    "    self, val=True, apply_truth_cuts=False, max_batches= None\n",
    ") -> dict[str, float]:\n",
    "    \"\"\"Test the model on the validation or test set\n",
    "\n",
    "    Args:\n",
    "        val: Use validation dataset rather than test dataset\n",
    "        apply_truth_cuts: Apply truth cuts (e.g., truth level pt cut) during\n",
    "            the evaluation\n",
    "        max_batches: Only process this many batches per epoch (useful for testing)\n",
    "\n",
    "    Returns:\n",
    "        Dictionary of metrics\n",
    "    \"\"\"\n",
    "    self.model.eval()\n",
    "\n",
    "    # We connect part of the data in CPU memory for clustering & evaluation\n",
    "    cluster_eval_input: DefaultDict[\n",
    "        str, list[np.ndarray]\n",
    "    ] = collections.defaultdict(list)\n",
    "\n",
    "    batch_metrics = collections.defaultdict(list)\n",
    "    loader = self.val_loader if val else self.test_loader\n",
    "    timer = Timer()\n",
    "    for _batch_idx, data in enumerate(loader):\n",
    "        if max_batches and _batch_idx > max_batches:\n",
    "            break\n",
    "        timer()\n",
    "        data = data.to(self.device)\n",
    "        print(\"to\", timer())\n",
    "        model_output = self.evaluate_model(\n",
    "            data, mask_pids_reco=False, apply_truth_cuts=apply_truth_cuts\n",
    "        )\n",
    "        print(\"eval\", timer())\n",
    "        batch_loss, these_batch_losses = self.get_batch_losses(model_output)\n",
    "        print(\"losses\", timer())\n",
    "        batch_metrics[\"total\"].append(batch_loss.item())\n",
    "        for key, value in these_batch_losses.items():\n",
    "            batch_metrics[key].append(value.item())\n",
    "            batch_metrics[f\"{key}_weighted\"].append(\n",
    "                value.item() * self._loss_weight_setter[key]\n",
    "            )\n",
    "        for key, value in self.evaluate_ec_metrics(\n",
    "            model_output,\n",
    "        ).items():\n",
    "            batch_metrics[key].append(value)\n",
    "        print(\"ec metrics\", timer())\n",
    "\n",
    "\n",
    "\n",
    "    # Merge all metrics in one big dictionary\n",
    "    metrics: dict[str, float] = (\n",
    "        {k: np.nanmean(v) for k, v in batch_metrics.items()}\n",
    "        | {\n",
    "            f\"{k}_std\": np.nanstd(v, ddof=1).item()\n",
    "            for k, v in batch_metrics.items()\n",
    "        }\n",
    "        | self._evaluate_cluster_metrics(cluster_eval_input)\n",
    "    )\n",
    "\n",
    "    self.test_loss.append(pd.DataFrame(metrics, index=[self._epoch]))\n",
    "    for hook in self._test_hooks:\n",
    "        hook(self, metrics)\n",
    "    return metrics\n",
    "\n",
    "\n",
    "\n",
    "@torch.no_grad()\n",
    "def evaluate_ec_metrics_with_pt_thld(\n",
    "    self, model_output: dict[str, torch.Tensor], pt_min: float, ec_threshold: float\n",
    ") -> dict[str, float]:\n",
    "    \"\"\"Evaluate edge classification metrics for a given pt threshold and\n",
    "    EC threshold.\n",
    "\n",
    "    Args:\n",
    "        model_output: Output of the model\n",
    "        pt_min: pt threshold: We discard all edges where both nodes have\n",
    "            `pt <= pt_min` before evaluating any metric.\n",
    "        ec_threshold: EC threshold\n",
    "\n",
    "    Returns:\n",
    "        Dictionary of metrics\n",
    "    \"\"\"\n",
    "    timer = Timer()\n",
    "    edge_pt_mask = self._edge_pt_mask(\n",
    "        model_output[\"edge_index\"], model_output[\"pt\"], pt_min\n",
    "    )\n",
    "    print(\"edge_pt_mask\", timer())\n",
    "    predicted = model_output[\"w\"][edge_pt_mask]\n",
    "    true = model_output[\"y\"][edge_pt_mask].long()\n",
    "    print(\"retrieve\", timer())\n",
    "\n",
    "    bcs = BinaryClassificationStats(\n",
    "        output=predicted,\n",
    "        y=true,\n",
    "        thld=ec_threshold,\n",
    "    )\n",
    "    metrics = bcs.get_all()\n",
    "    print(\"bcs\", timer())\n",
    "\n",
    "    metrics |= get_maximized_bcs(output=predicted, y=true)\n",
    "    print(\"maximized\", timer())\n",
    "\n",
    "    from torchmetrics.classification import BinaryAUROC\n",
    "\n",
    "    metrics[\"roc_auc\"] = BinaryAUROC()(preds=predicted, target=true).item()\n",
    "    for max_fpr in [\n",
    "        0.001,\n",
    "        0.01,\n",
    "        0.1,\n",
    "    ]:\n",
    "        metrics[f\"roc_auc_{max_fpr}FPR\"] = BinaryAUROC(max_fpr=max_fpr)(preds=predicted, target=true).item()\n",
    "    print(\"roc\", timer())\n",
    "    return {denote_pt(k, pt_min): v for k, v in metrics.items()}\n",
    "\n",
    "@torch.no_grad()\n",
    "def evaluate_ec_metrics(\n",
    "    self, model_output: dict[str, torch.Tensor], ec_threshold= None\n",
    ") -> dict[str, float]:\n",
    "    \"\"\"Evaluate edge classification metrics for all pt thresholds.\"\"\"\n",
    "    if ec_threshold is None:\n",
    "        ec_threshold = self.ec_threshold\n",
    "    if model_output[\"w\"] is None:\n",
    "        return {}\n",
    "    ret = {}\n",
    "    for pt_min in self.ec_eval_pt_thlds:\n",
    "        ret.update(\n",
    "            self.evaluate_ec_metrics_with_pt_thld(\n",
    "                model_output, pt_min, ec_threshold=ec_threshold\n",
    "            )\n",
    "        )\n",
    "    return ret\n"
   ],
   "metadata": {
    "collapsed": false
   }
  },
  {
   "cell_type": "code",
   "execution_count": 23,
   "outputs": [],
   "source": [
    "\n",
    "trainable.trainer.single_test_step = single_test_step.__get__(trainable.trainer)\n",
    "trainable.trainer.evaluate_ec_metrics = evaluate_ec_metrics.__get__(trainable.trainer)\n",
    "trainable.trainer.evaluate_ec_metrics_with_pt_thld = evaluate_ec_metrics_with_pt_thld.__get__(trainable.trainer)"
   ],
   "metadata": {
    "collapsed": false
   }
  },
  {
   "cell_type": "code",
   "execution_count": 24,
   "outputs": [
    {
     "name": "stderr",
     "output_type": "stream",
     "text": [
      "/scratch/gpfs/kl5675/miniconda3/envs/gnn2/lib/python3.10/site-packages/torch/utils/data/dataloader.py:557: UserWarning: This DataLoader will create 12 worker processes in total. Our suggested max number of worker in current system is 6, which is smaller than what this DataLoader is going to create. Please be aware that excessive worker creation might get DataLoader running slow or even freeze, lower the worker number to avoid potential slowness/freeze if necessary.\n",
      "  warnings.warn(_create_warning_msg(\n"
     ]
    },
    {
     "name": "stdout",
     "output_type": "stream",
     "text": [
      "to 0.008508029859513044\n",
      "eval 0.27220815513283014\n",
      "losses 0.04457372194156051\n",
      "edge_pt_mask 7.415888831019402e-05\n",
      "retrieve 0.0003614271990954876\n",
      "bcs 0.0009067277424037457\n",
      "maximized 0.13637115713208914\n",
      "roc 0.010998062789440155\n",
      "edge_pt_mask 7.122429087758064e-05\n",
      "retrieve 0.0003327326849102974\n",
      "bcs 0.0005731731653213501\n",
      "maximized 0.09709221124649048\n",
      "roc 0.007886095903813839\n",
      "edge_pt_mask 7.050298154354095e-05\n",
      "retrieve 0.0002961037680506706\n",
      "bcs 0.00037442101165652275\n",
      "maximized 0.061729167122393847\n",
      "roc 0.005216727964580059\n",
      "edge_pt_mask 6.903894245624542e-05\n",
      "retrieve 0.0002932990901172161\n",
      "bcs 0.00033126072958111763\n",
      "maximized 0.054693051148205996\n",
      "roc 0.004458197858184576\n",
      "edge_pt_mask 6.843777373433113e-05\n",
      "retrieve 0.00028972234576940536\n",
      "bcs 0.0003193686716258526\n",
      "maximized 0.05346680525690317\n",
      "roc 0.0041329991072416306\n",
      "ec metrics 0.44308759504929185\n",
      "to 0.009095221292227507\n",
      "eval 0.45257940562441945\n",
      "losses 0.05233839340507984\n",
      "edge_pt_mask 6.410013884305954e-05\n",
      "retrieve 0.00042120786383748055\n",
      "bcs 0.0009845839813351631\n",
      "maximized 0.1547045912593603\n",
      "roc 0.01238029170781374\n",
      "edge_pt_mask 6.749667227268219e-05\n",
      "retrieve 0.0003773071803152561\n",
      "bcs 0.000698526855558157\n",
      "maximized 0.1128805372864008\n",
      "roc 0.008819865062832832\n",
      "edge_pt_mask 6.688479334115982e-05\n",
      "retrieve 0.0003531910479068756\n",
      "bcs 0.0004396038129925728\n",
      "maximized 0.06939863692969084\n",
      "roc 0.005831429269164801\n",
      "edge_pt_mask 6.919028237462044e-05\n",
      "retrieve 0.0003348756581544876\n",
      "bcs 0.0003585619851946831\n",
      "maximized 0.054144805297255516\n",
      "roc 0.0047130947932600975\n",
      "edge_pt_mask 6.811786442995071e-05\n",
      "retrieve 0.0003166128881275654\n",
      "bcs 0.00034016696736216545\n",
      "maximized 0.054347984958440065\n",
      "roc 0.004262462258338928\n",
      "ec metrics 0.4888118295930326\n",
      "to 0.0037340926937758923\n",
      "eval 0.12648227531462908\n",
      "losses 0.020482773892581463\n",
      "edge_pt_mask 5.9312209486961365e-05\n",
      "retrieve 0.00019908184185624123\n",
      "bcs 0.0004333718679845333\n",
      "maximized 0.07644612435251474\n",
      "roc 0.006256574764847755\n",
      "edge_pt_mask 6.650527939200401e-05\n",
      "retrieve 0.00017928471788764\n",
      "bcs 0.0003436040133237839\n",
      "maximized 0.06186325801536441\n",
      "roc 0.005117753054946661\n",
      "edge_pt_mask 7.711397483944893e-05\n",
      "retrieve 0.000158045906573534\n",
      "bcs 0.00030423887073993683\n",
      "maximized 0.05406173039227724\n",
      "roc 0.00433638971298933\n",
      "edge_pt_mask 6.80270604789257e-05\n",
      "retrieve 0.0001589176245033741\n",
      "bcs 0.00029616430401802063\n",
      "maximized 0.053414417896419764\n",
      "roc 0.004044943954795599\n",
      "edge_pt_mask 6.731599569320679e-05\n",
      "retrieve 0.00015541119500994682\n",
      "bcs 0.00029361993074417114\n",
      "maximized 0.05174830695614219\n",
      "roc 0.0038679130375385284\n",
      "ec metrics 0.3262914437800646\n"
     ]
    },
    {
     "data": {
      "text/plain": "{'total': 0.00047760493665312725,\n 'edge': 0.00047760493665312725,\n 'edge_weighted': 0.00047760493665312725,\n 'acc': 0.9837633310778052,\n 'TPR': 0.5470888409619671,\n 'TNR': 0.999328839469452,\n 'FPR': 0.0006711605305479777,\n 'FNR': 0.452911159038033,\n 'balanced_acc': 0.7732088402157095,\n 'F1': 0.6987311722693793,\n 'MCC': 0.7207973697414006,\n 'max_ba': 0.8551049386261279,\n 'max_ba_loc': 0.28140702843666077,\n 'max_f1': 0.728826307626561,\n 'max_f1_loc': 0.428810715675354,\n 'max_mcc': 0.7358555924619411,\n 'max_mcc_loc': 0.44723618030548096,\n 'tpr_eq_tnr': 0.843746644894534,\n 'tpr_eq_tnr_loc': 0.18592964112758636,\n 'roc_auc': 0.9439328908920288,\n 'roc_auc_0.001FPR': 0.7535172502199808,\n 'roc_auc_0.01FPR': 0.8133438030878702,\n 'roc_auc_0.1FPR': 0.8655538360277811,\n 'acc_pt0.5': 0.990975553924148,\n 'TPR_pt0.5': 0.6469986095441717,\n 'TNR_pt0.5': 0.9996246531279915,\n 'FPR_pt0.5': 0.0003753468720084944,\n 'FNR_pt0.5': 0.3530013904558283,\n 'balanced_acc_pt0.5': 0.8233116313360815,\n 'F1_pt0.5': 0.7786164654184774,\n 'MCC_pt0.5': 0.7914409011521265,\n 'max_ba_pt0.5': 0.9163655016052045,\n 'max_ba_loc_pt0.5': 0.251256267229716,\n 'max_f1_pt0.5': 0.7858627218314673,\n 'max_f1_loc_pt0.5': 0.4556113878885905,\n 'max_mcc_pt0.5': 0.794206623325286,\n 'max_mcc_loc_pt0.5': 0.47236181298891705,\n 'tpr_eq_tnr_pt0.5': 0.9161085952513277,\n 'tpr_eq_tnr_loc_pt0.5': 0.25795644521713257,\n 'roc_auc_pt0.5': 0.9813572565714518,\n 'roc_auc_0.001FPR_pt0.5': 0.8204055825869242,\n 'roc_auc_0.01FPR_pt0.5': 0.8578631480534872,\n 'roc_auc_0.1FPR_pt0.5': 0.9227747718493143,\n 'acc_pt0.9': 0.9926345606925047,\n 'TPR_pt0.9': 0.6613135869294418,\n 'TNR_pt0.9': 0.9997111712356354,\n 'FPR_pt0.9': 0.0002888287643646582,\n 'FNR_pt0.9': 0.33868641307055825,\n 'balanced_acc_pt0.9': 0.8305123790825385,\n 'F1_pt0.9': 0.7896901811114535,\n 'MCC_pt0.9': 0.8018729542844768,\n 'max_ba_pt0.9': 0.949937401242711,\n 'max_ba_loc_pt0.9': 0.27135677138964337,\n 'max_f1_pt0.9': 0.7953402754480324,\n 'max_f1_loc_pt0.9': 0.45896147688229877,\n 'max_mcc_pt0.9': 0.8034050275859541,\n 'max_mcc_loc_pt0.9': 0.4807370106379191,\n 'tpr_eq_tnr_pt0.9': 0.9467910623804355,\n 'tpr_eq_tnr_loc_pt0.9': 0.29145727554957074,\n 'roc_auc_pt0.9': 0.9906502962112427,\n 'roc_auc_0.001FPR_pt0.9': 0.8319158752759298,\n 'roc_auc_0.01FPR_pt0.9': 0.8711883425712585,\n 'roc_auc_0.1FPR_pt0.9': 0.9534807006518046,\n 'acc_pt1.2': 0.9928337212842945,\n 'TPR_pt1.2': 0.663389826744361,\n 'TNR_pt1.2': 0.9997118092061412,\n 'FPR_pt1.2': 0.0002881907938587986,\n 'FNR_pt1.2': 0.336610173255639,\n 'balanced_acc_pt1.2': 0.8315508179752511,\n 'F1_pt1.2': 0.7910087634558901,\n 'MCC_pt1.2': 0.8030541690980836,\n 'max_ba_pt1.2': 0.9512023167985312,\n 'max_ba_loc_pt1.2': 0.2713567813237508,\n 'max_f1_pt1.2': 0.7968049460021785,\n 'max_f1_loc_pt1.2': 0.45896147688229877,\n 'max_mcc_pt1.2': 0.8046524003880057,\n 'max_mcc_loc_pt1.2': 0.4773869315783183,\n 'tpr_eq_tnr_pt1.2': 0.9472216385543032,\n 'tpr_eq_tnr_loc_pt1.2': 0.2931323250134786,\n 'roc_auc_pt1.2': 0.9910180370012919,\n 'roc_auc_0.001FPR_pt1.2': 0.8332739075024923,\n 'roc_auc_0.01FPR_pt1.2': 0.8724221189816793,\n 'roc_auc_0.1FPR_pt1.2': 0.9541908105214437,\n 'acc_pt1.5': 0.9929404919457184,\n 'TPR_pt1.5': 0.6520579597365767,\n 'TNR_pt1.5': 0.9997198051752738,\n 'FPR_pt1.5': 0.0002801948247261405,\n 'FNR_pt1.5': 0.3479420402634233,\n 'balanced_acc_pt1.5': 0.8258888824559252,\n 'F1_pt1.5': 0.782654765924482,\n 'MCC_pt1.5': 0.7958929114710408,\n 'max_ba_pt1.5': 0.9514297642472688,\n 'max_ba_loc_pt1.5': 0.2696817417939504,\n 'max_f1_pt1.5': 0.7894960046653248,\n 'max_f1_loc_pt1.5': 0.45728643735249835,\n 'max_mcc_pt1.5': 0.7980388645431197,\n 'max_mcc_loc_pt1.5': 0.47236180305480957,\n 'tpr_eq_tnr_pt1.5': 0.9467644792011973,\n 'tpr_eq_tnr_loc_pt1.5': 0.2931323250134786,\n 'roc_auc_pt1.5': 0.990843653678894,\n 'roc_auc_0.001FPR_pt1.5': 0.8280767202377319,\n 'roc_auc_0.01FPR_pt1.5': 0.8684757153193156,\n 'roc_auc_0.1FPR_pt1.5': 0.9530531764030457,\n 'total_std': 4.4504727653681106e-06,\n 'edge_std': 4.4504727653681106e-06,\n 'edge_weighted_std': 4.4504727653681106e-06,\n 'acc_std': 0.0006551679157513253,\n 'TPR_std': 0.007978442306946871,\n 'TNR_std': 4.513181204302331e-05,\n 'FPR_std': 4.513181204299497e-05,\n 'FNR_std': 0.007978442306946878,\n 'balanced_acc_std': 0.003977031481195475,\n 'F1_std': 0.006536258115715011,\n 'MCC_std': 0.00526788475573348,\n 'max_ba_std': 0.0011465088970572294,\n 'max_ba_loc_std': 0.008703760710901804,\n 'max_f1_std': 0.005924448899912553,\n 'max_f1_loc_std': 0.0029012535703006014,\n 'max_mcc_std': 0.005061203512800679,\n 'max_mcc_loc_std': 0.0,\n 'tpr_eq_tnr_std': 0.0015245630144197528,\n 'tpr_eq_tnr_loc_std': 0.0,\n 'roc_auc_std': 0.0007724282995286463,\n 'roc_auc_0.001FPR_std': 0.003776508293066067,\n 'roc_auc_0.01FPR_std': 0.0030757203682176,\n 'roc_auc_0.1FPR_std': 0.0016779099432877548,\n 'acc_pt0.5_std': 0.0003748062171244038,\n 'TPR_pt0.5_std': 0.0068273508307178455,\n 'TNR_pt0.5_std': 4.8027703500794646e-05,\n 'FPR_pt0.5_std': 4.802770350077091e-05,\n 'FNR_pt0.5_std': 0.0068273508307178455,\n 'balanced_acc_pt0.5_std': 0.0033914844120233106,\n 'F1_pt0.5_std': 0.004421722497066051,\n 'MCC_pt0.5_std': 0.0034524307126240134,\n 'max_ba_pt0.5_std': 0.0017874251921841649,\n 'max_ba_loc_pt0.5_std': 0.0132952309924924,\n 'max_f1_pt0.5_std': 0.004842710379665586,\n 'max_f1_loc_pt0.5_std': 0.005802524346980056,\n 'max_mcc_pt0.5_std': 0.003900182723930297,\n 'max_mcc_loc_pt0.5_std': 0.005025133490569804,\n 'tpr_eq_tnr_pt0.5_std': 0.0019719584864384613,\n 'tpr_eq_tnr_loc_pt0.5_std': 0.0029012535703006014,\n 'roc_auc_pt0.5_std': 0.0008433516465948044,\n 'roc_auc_0.001FPR_pt0.5_std': 0.0016508520719540017,\n 'roc_auc_0.01FPR_pt0.5_std': 0.003989468179237808,\n 'roc_auc_0.1FPR_pt0.5_std': 0.003804671455804158,\n 'acc_pt0.9_std': 0.00019858867146899662,\n 'TPR_pt0.9_std': 0.0033113852907436605,\n 'TNR_pt0.9_std': 1.8975148230175337e-05,\n 'FPR_pt0.9_std': 1.897514823020167e-05,\n 'FNR_pt0.9_std': 0.0033113852907436857,\n 'balanced_acc_pt0.9_std': 0.0016641164101600838,\n 'F1_pt0.9_std': 0.0030135507861949254,\n 'MCC_pt0.9_std': 0.002768901903115286,\n 'max_ba_pt0.9_std': 0.0016491380240080797,\n 'max_ba_loc_pt0.9_std': 0.010050252079967367,\n 'max_f1_pt0.9_std': 0.0041740806821842615,\n 'max_f1_loc_pt0.9_std': 0.007676008444161737,\n 'max_mcc_pt0.9_std': 0.0028888385605755395,\n 'max_mcc_loc_pt0.9_std': 0.0029012363639217484,\n 'tpr_eq_tnr_pt0.9_std': 0.002442499791013006,\n 'tpr_eq_tnr_loc_pt0.9_std': 0.005025133490569804,\n 'roc_auc_pt0.9_std': 0.0005726493036144685,\n 'roc_auc_0.001FPR_pt0.9_std': 0.0020888271619954207,\n 'roc_auc_0.01FPR_pt0.9_std': 0.004438222173452591,\n 'roc_auc_0.1FPR_pt0.9_std': 0.0038540746860739657,\n 'acc_pt1.2_std': 0.00024736980032208334,\n 'TPR_pt1.2_std': 0.014242030581546864,\n 'TNR_pt1.2_std': 1.7091567137908623e-05,\n 'FPR_pt1.2_std': 1.7091567137883507e-05,\n 'FNR_pt1.2_std': 0.014242030581546864,\n 'balanced_acc_pt1.2_std': 0.007114650555722004,\n 'F1_pt1.2_std': 0.01023444991247657,\n 'MCC_pt1.2_std': 0.008784955055448577,\n 'max_ba_pt1.2_std': 0.0033898766183476305,\n 'max_ba_loc_pt1.2_std': 0.0132952309924924,\n 'max_f1_pt1.2_std': 0.009866009388494601,\n 'max_f1_loc_pt1.2_std': 0.007676008444161737,\n 'max_mcc_pt1.2_std': 0.008918123169636563,\n 'max_mcc_loc_pt1.2_std': 0.005025118589430703,\n 'tpr_eq_tnr_pt1.2_std': 0.004519019627504362,\n 'tpr_eq_tnr_loc_pt1.2_std': 0.005802524346980056,\n 'roc_auc_pt1.2_std': 0.0012097484753936815,\n 'roc_auc_0.001FPR_pt1.2_std': 0.008398317697240495,\n 'roc_auc_0.01FPR_pt1.2_std': 0.008602819976076856,\n 'roc_auc_0.1FPR_pt1.2_std': 0.0066725360355896724,\n 'acc_pt1.5_std': 0.00025449658214052274,\n 'TPR_pt1.5_std': 0.013540835575693709,\n 'TNR_pt1.5_std': 5.137224434895946e-05,\n 'FPR_pt1.5_std': 5.137224434895795e-05,\n 'FNR_pt1.5_std': 0.013540835575693704,\n 'balanced_acc_pt1.5_std': 0.006769288921460311,\n 'F1_pt1.5_std': 0.010483866987194309,\n 'MCC_pt1.5_std': 0.009135561100214476,\n 'max_ba_pt1.5_std': 0.004002381191672732,\n 'max_ba_loc_pt1.5_std': 0.011605031487581258,\n 'max_f1_pt1.5_std': 0.011997846734577749,\n 'max_f1_loc_pt1.5_std': 0.005025133490569804,\n 'max_mcc_pt1.5_std': 0.009211224034988147,\n 'max_mcc_loc_pt1.5_std': 0.008703760710901804,\n 'tpr_eq_tnr_pt1.5_std': 0.005660613807121013,\n 'tpr_eq_tnr_loc_pt1.5_std': 0.005802524346980056,\n 'roc_auc_pt1.5_std': 0.0015192663053598906,\n 'roc_auc_0.001FPR_pt1.5_std': 0.006225888422810679,\n 'roc_auc_0.01FPR_pt1.5_std': 0.009609454467484476,\n 'roc_auc_0.1FPR_pt1.5_std': 0.008254549433927522}"
     },
     "execution_count": 24,
     "metadata": {},
     "output_type": "execute_result"
    }
   ],
   "source": [
    "trainable.trainer.test_step()"
   ],
   "metadata": {
    "collapsed": false
   }
  },
  {
   "cell_type": "code",
   "execution_count": 86,
   "outputs": [],
   "source": [
    "class Test:\n",
    "    def test(self, a):\n",
    "        print(f\"a {a}\")"
   ],
   "metadata": {
    "collapsed": false
   }
  },
  {
   "cell_type": "code",
   "execution_count": 87,
   "outputs": [
    {
     "name": "stdout",
     "output_type": "stream",
     "text": [
      "a 5\n"
     ]
    }
   ],
   "source": [
    "Test().test(5)"
   ],
   "metadata": {
    "collapsed": false
   }
  },
  {
   "cell_type": "code",
   "execution_count": 88,
   "outputs": [],
   "source": [
    "def mytest(self, a):\n",
    "    print(f\"my test a {a}\")"
   ],
   "metadata": {
    "collapsed": false
   }
  },
  {
   "cell_type": "code",
   "execution_count": 89,
   "outputs": [],
   "source": [
    "t = Test()\n",
    "t.test = addself(mytest, t)"
   ],
   "metadata": {
    "collapsed": false
   }
  },
  {
   "cell_type": "code",
   "execution_count": 91,
   "outputs": [
    {
     "name": "stdout",
     "output_type": "stream",
     "text": [
      "my test a 3\n"
     ]
    }
   ],
   "source": [
    "t.test(a=3)"
   ],
   "metadata": {
    "collapsed": false
   }
  },
  {
   "cell_type": "code",
   "execution_count": null,
   "outputs": [],
   "source": [],
   "metadata": {
    "collapsed": false
   }
  }
 ],
 "metadata": {
  "kernelspec": {
   "display_name": "Python 3",
   "language": "python",
   "name": "python3"
  },
  "language_info": {
   "codemirror_mode": {
    "name": "ipython",
    "version": 2
   },
   "file_extension": ".py",
   "mimetype": "text/x-python",
   "name": "python",
   "nbconvert_exporter": "python",
   "pygments_lexer": "ipython2",
   "version": "2.7.6"
  }
 },
 "nbformat": 4,
 "nbformat_minor": 0
}
