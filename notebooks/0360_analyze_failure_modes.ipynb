{
 "cells": [
  {
   "cell_type": "code",
   "execution_count": 1,
   "outputs": [],
   "source": [
    "from torch_geometric.data import Data\n",
    "%load_ext autoreload\n",
    "%autoreload 1\n",
    "%aimport gnn_tracking_hpo.trainable\n",
    "from gnn_tracking_hpo.trainable import PretrainedECTCNTrainable, ECTrainable\n",
    "from gnn_tracking.postprocessing.dbscanscanner import dbscan\n",
    "import matplotlib.pyplot as plt\n",
    "import numpy as np\n",
    "\n",
    "\n",
    "plt.style.use('sss1.mplstyle')\n",
    "\n"
   ],
   "metadata": {
    "collapsed": false
   }
  },
  {
   "cell_type": "code",
   "execution_count": 2,
   "outputs": [
    {
     "name": "stderr",
     "output_type": "stream",
     "text": [
      "\u001B[36m[20:21:21 HPO] DEBUG: Loading config from /home/kl5675/ray_results/ec/ContinuedECTrainable_613118cb_1_val_batch_size=5,batch_size=5,cycliclr_gamma=1,cycliclr_mode=triangular2,cycliclr_step_size_down=1_2023-05-04_15-48-20/params.json\u001B[0m\n"
     ]
    }
   ],
   "source": [
    "from gnn_tracking_hpo.defaults import legacy_config_compatibility, \\\n",
    "    suggest_default_values\n",
    "\n",
    "from gnn_tracking_hpo.util.paths import get_config\n",
    "\n",
    "config = legacy_config_compatibility(get_config(\"ec\", \"613118cb\"))\n",
    "\n",
    "suggest_default_values(config, hc=\"none\")"
   ],
   "metadata": {
    "collapsed": false
   }
  },
  {
   "cell_type": "code",
   "execution_count": 3,
   "outputs": [],
   "source": [
    "config[\"_val_batch_size\"] = 1 # !!!!!!!!!!!!!"
   ],
   "metadata": {
    "collapsed": false
   }
  },
  {
   "cell_type": "code",
   "execution_count": 4,
   "outputs": [
    {
     "name": "stderr",
     "output_type": "stream",
     "text": [
      "\u001B[32m[20:21:21 HPO] INFO: I'm running on a node with job ID=48063026\u001B[0m\n",
      "\u001B[33m[20:21:21 HPO] WARNING: Dispatcher ID was not set. This should be set by the dispatcher as a class attribute to the trainable.\u001B[0m\n",
      "\u001B[32m[20:21:21 HPO] INFO: The ID of my dispatcher is 0\u001B[0m\n",
      "\u001B[36m[20:21:21 SlurmControl] DEBUG: Refreshing control config from /home/kl5675/ray_slurm_control.yaml\u001B[0m\n",
      "\u001B[36m[20:21:21 HPO] DEBUG: Got config\n",
      "┌────────────────────────────────────┬──────────────────────────────────────────┐\n",
      "│ _val_batch_size                    │ 1                                        │\n",
      "│ batch_size                         │ 5                                        │\n",
      "│ cycliclr_gamma                     │ 1                                        │\n",
      "│ cycliclr_mode                      │ triangular2                              │\n",
      "│ cycliclr_step_size_down            │ 1200                                     │\n",
      "│ cycliclr_step_size_up              │ 1200                                     │\n",
      "│ ec_epoch                           │ -1                                       │\n",
      "│ ec_hash                            │ cc4e1c09                                 │\n",
      "│ ec_loss                            │ haughty_focal                            │\n",
      "│ ec_project                         │ ec                                       │\n",
      "│ ec_pt_thld                         │ 0.9                                      │\n",
      "│ edge_indim                         │ 4                                        │\n",
      "│ focal_alpha                        │ 0.4293073941173353                       │\n",
      "│ focal_gamma                        │ 3.5286618939223295                       │\n",
      "│ gnn_tracking_experiments_hash      │ 4433d05f1dd691f79dc986cd8e7447efb3f2fd60 │\n",
      "│ gnn_tracking_hash                  │ d4747cc97355085922836b303a881286bb82cc15 │\n",
      "│ lr                                 │ 5e-05                                    │\n",
      "│ lw_edge                            │ 1.0                                      │\n",
      "│ m_L_ec                             │ 6                                        │\n",
      "│ m_alpha                            │ 0.5                                      │\n",
      "│ m_hidden_dim                       │ 120                                      │\n",
      "│ m_interaction_edge_dim             │ 120                                      │\n",
      "│ m_interaction_node_dim             │ 120                                      │\n",
      "│ m_residual_type                    │ skip1                                    │\n",
      "│ m_use_intermediate_edge_embeddings │ True                                     │\n",
      "│ m_use_node_embedding               │ True                                     │\n",
      "│ max_lr                             │ 0.00662010389033068                      │\n",
      "│ n_graphs_train                     │ 247776                                   │\n",
      "│ n_graphs_val                       │ 320                                      │\n",
      "│ node_indim                         │ 7                                        │\n",
      "│ optimizer                          │ sgd                                      │\n",
      "│ scheduler                          │ cycliclr                                 │\n",
      "│ sector                             │ None                                     │\n",
      "│ sgd_dampening                      │ 0.0                                      │\n",
      "│ sgd_momentum                       │ 0.2                                      │\n",
      "│ sgd_nesterov                       │ False                                    │\n",
      "│ sgd_weight_decay                   │ 0.0                                      │\n",
      "│ test                               │ False                                    │\n",
      "│ train_data_dir                     │ ['/scratch/gpfs/IOJALVO/gnn-tracking/obj │\n",
      "│ val_data_dir                       │ /scratch/gpfs/IOJALVO/gnn-tracking/objec │\n",
      "└────────────────────────────────────┴──────────────────────────────────────────┘\u001B[0m\n",
      "\u001B[32m[20:21:21 HPO] INFO: Initializing pre-trained model\u001B[0m\n",
      "\u001B[36m[20:21:21 HPO] DEBUG: Loading config from /home/kl5675/ray_results/ec/ContinuedECTrainable_cc4e1c09_7_val_batch_size=5,batch_size=5,ec_epoch=-1,ec_hash=50029d0b,ec_loss=haughty_focal,ec_project=ec,ec__2023-05-04_12-29-26/params.json\u001B[0m\n",
      "\u001B[32m[20:21:21 HPO] INFO: I'm running on a node with job ID=48063026\u001B[0m\n",
      "\u001B[33m[20:21:21 HPO] WARNING: Dispatcher ID was not set. This should be set by the dispatcher as a class attribute to the trainable.\u001B[0m\n",
      "\u001B[32m[20:21:21 HPO] INFO: The ID of my dispatcher is 0\u001B[0m\n",
      "\u001B[36m[20:21:21 SlurmControl] DEBUG: Refreshing control config from /home/kl5675/ray_slurm_control.yaml\u001B[0m\n",
      "\u001B[36m[20:21:21 HPO] DEBUG: Got config\n",
      "┌────────────────────────────────────┬──────────────────────────────────────────┐\n",
      "│ _no_data                           │ True                                     │\n",
      "│ _val_batch_size                    │ 5                                        │\n",
      "│ batch_size                         │ 5                                        │\n",
      "│ ec_epoch                           │ -1                                       │\n",
      "│ ec_hash                            │ 50029d0b                                 │\n",
      "│ ec_loss                            │ haughty_focal                            │\n",
      "│ ec_project                         │ ec                                       │\n",
      "│ ec_pt_thld                         │ 0.9                                      │\n",
      "│ edge_indim                         │ 4                                        │\n",
      "│ exponentiallr_gamma                │ 0.9186589690017306                       │\n",
      "│ focal_alpha                        │ 0.38872935911916046                      │\n",
      "│ focal_gamma                        │ 3.7675099603157918                       │\n",
      "│ gnn_tracking_experiments_hash      │ a1fa82d132d717e9b9f838b6e11a9513347f1d09 │\n",
      "│ gnn_tracking_hash                  │ d4747cc97355085922836b303a881286bb82cc15 │\n",
      "│ lr                                 │ 0.0005049708111368507                    │\n",
      "│ lw_edge                            │ 1.0                                      │\n",
      "│ m_L_ec                             │ 6                                        │\n",
      "│ m_alpha                            │ 0.5                                      │\n",
      "│ m_hidden_dim                       │ 120                                      │\n",
      "│ m_interaction_edge_dim             │ 120                                      │\n",
      "│ m_interaction_node_dim             │ 120                                      │\n",
      "│ m_residual_type                    │ skip1                                    │\n",
      "│ m_use_intermediate_edge_embeddings │ True                                     │\n",
      "│ m_use_node_embedding               │ True                                     │\n",
      "│ n_graphs_train                     │ 247776                                   │\n",
      "│ n_graphs_val                       │ 320                                      │\n",
      "│ node_indim                         │ 7                                        │\n",
      "│ optimizer                          │ sgd                                      │\n",
      "│ scheduler                          │ exponentiallr                            │\n",
      "│ sector                             │ None                                     │\n",
      "│ sgd_dampening                      │ 0.0                                      │\n",
      "│ sgd_momentum                       │ 0.8869599547157091                       │\n",
      "│ sgd_nesterov                       │ False                                    │\n",
      "│ sgd_weight_decay                   │ 0.0                                      │\n",
      "│ test                               │ False                                    │\n",
      "│ train_data_dir                     │ ['/scratch/gpfs/IOJALVO/gnn-tracking/obj │\n",
      "│ val_data_dir                       │ /scratch/gpfs/IOJALVO/gnn-tracking/objec │\n",
      "└────────────────────────────────────┴──────────────────────────────────────────┘\u001B[0m\n",
      "\u001B[32m[20:21:21 HPO] INFO: Initializing pre-trained model\u001B[0m\n",
      "\u001B[36m[20:21:21 HPO] DEBUG: Loading config from /home/kl5675/ray_results/ec/ContinuedECTrainable_50029d0b_22_val_batch_size=5,adam_amsgrad=False,adam_beta1=0.9000,adam_beta2=0.9990,adam_eps=0.0000,adam_weig_2023-05-03_20-53-07/params.json\u001B[0m\n",
      "\u001B[32m[20:21:21 HPO] INFO: I'm running on a node with job ID=48063026\u001B[0m\n",
      "\u001B[33m[20:21:21 HPO] WARNING: Dispatcher ID was not set. This should be set by the dispatcher as a class attribute to the trainable.\u001B[0m\n",
      "\u001B[32m[20:21:21 HPO] INFO: The ID of my dispatcher is 0\u001B[0m\n",
      "\u001B[36m[20:21:21 SlurmControl] DEBUG: Refreshing control config from /home/kl5675/ray_slurm_control.yaml\u001B[0m\n",
      "\u001B[36m[20:21:21 HPO] DEBUG: Got config\n",
      "┌────────────────────────────────────┬──────────────────────────────────────────┐\n",
      "│ _no_data                           │ True                                     │\n",
      "│ _val_batch_size                    │ 5                                        │\n",
      "│ adam_amsgrad                       │ False                                    │\n",
      "│ adam_beta1                         │ 0.9                                      │\n",
      "│ adam_beta2                         │ 0.999                                    │\n",
      "│ adam_eps                           │ 1e-08                                    │\n",
      "│ adam_weight_decay                  │ 0.0                                      │\n",
      "│ batch_size                         │ 5                                        │\n",
      "│ ec_epoch                           │ -1                                       │\n",
      "│ ec_hash                            │ 759be1c8                                 │\n",
      "│ ec_loss                            │ haughty_focal                            │\n",
      "│ ec_project                         │ ec_230502                                │\n",
      "│ ec_pt_thld                         │ 0.8696476682340163                       │\n",
      "│ edge_indim                         │ 4                                        │\n",
      "│ focal_alpha                        │ 0.3966639332867394                       │\n",
      "│ focal_gamma                        │ 3.9912747796867887                       │\n",
      "│ gnn_tracking_experiments_hash      │ ce8610a6745e138c63f3dbd8ab3cbb71b2f37e3e │\n",
      "│ gnn_tracking_hash                  │ d4747cc97355085922836b303a881286bb82cc15 │\n",
      "│ lr                                 │ 5e-05                                    │\n",
      "│ lw_edge                            │ 1.0                                      │\n",
      "│ m_L_ec                             │ 6                                        │\n",
      "│ m_alpha                            │ 0.5                                      │\n",
      "│ m_hidden_dim                       │ 120                                      │\n",
      "│ m_interaction_edge_dim             │ 120                                      │\n",
      "│ m_interaction_node_dim             │ 120                                      │\n",
      "│ m_residual_type                    │ skip1                                    │\n",
      "│ m_use_intermediate_edge_embeddings │ True                                     │\n",
      "│ m_use_node_embedding               │ True                                     │\n",
      "│ n_graphs_train                     │ 247776                                   │\n",
      "│ n_graphs_val                       │ 320                                      │\n",
      "│ node_indim                         │ 7                                        │\n",
      "│ optimizer                          │ adam                                     │\n",
      "│ scheduler                          │ None                                     │\n",
      "│ sector                             │ None                                     │\n",
      "│ test                               │ False                                    │\n",
      "│ train_data_dir                     │ ['/scratch/gpfs/IOJALVO/gnn-tracking/obj │\n",
      "│ val_data_dir                       │ /scratch/gpfs/IOJALVO/gnn-tracking/objec │\n",
      "└────────────────────────────────────┴──────────────────────────────────────────┘\u001B[0m\n",
      "\u001B[32m[20:21:21 HPO] INFO: Initializing pre-trained model\u001B[0m\n",
      "\u001B[36m[20:21:21 HPO] DEBUG: Loading config from /home/kl5675/ray_results/ec_230502/ECTrainable_759be1c8_11_val_batch_size=5,adam_amsgrad=False,adam_beta1=0.9067,adam_beta2=0.9815,adam_eps=0.0000,adam_epsilon=0.000_2023-05-02_22-10-26/params.json\u001B[0m\n",
      "\u001B[33m[20:21:21 HPO] WARNING: Removing key adam_epsilon\u001B[0m\n",
      "\u001B[32m[20:21:21 HPO] INFO: I'm running on a node with job ID=48063026\u001B[0m\n",
      "\u001B[33m[20:21:21 HPO] WARNING: Dispatcher ID was not set. This should be set by the dispatcher as a class attribute to the trainable.\u001B[0m\n",
      "\u001B[32m[20:21:21 HPO] INFO: The ID of my dispatcher is 0\u001B[0m\n",
      "\u001B[36m[20:21:21 SlurmControl] DEBUG: Refreshing control config from /home/kl5675/ray_slurm_control.yaml\u001B[0m\n",
      "\u001B[36m[20:21:21 HPO] DEBUG: Got config\n",
      "┌────────────────────────────────────┬──────────────────────────────────────────┐\n",
      "│ _no_data                           │ True                                     │\n",
      "│ _val_batch_size                    │ 5                                        │\n",
      "│ adam_amsgrad                       │ False                                    │\n",
      "│ adam_beta1                         │ 0.9066819878345389                       │\n",
      "│ adam_beta2                         │ 0.9815208854722784                       │\n",
      "│ adam_eps                           │ 1e-08                                    │\n",
      "│ adam_weight_decay                  │ 0                                        │\n",
      "│ batch_size                         │ 5                                        │\n",
      "│ ec_loss                            │ haughty_focal                            │\n",
      "│ ec_pt_thld                         │ 0.8292467946621858                       │\n",
      "│ edge_indim                         │ 4                                        │\n",
      "│ focal_alpha                        │ 0.430815829482855                        │\n",
      "│ focal_gamma                        │ 3.781611232231564                        │\n",
      "│ gnn_tracking_experiments_hash      │ 0bda3f290fe901728bdd1e8d2de15844105a2df8 │\n",
      "│ gnn_tracking_hash                  │ d4747cc97355085922836b303a881286bb82cc15 │\n",
      "│ lr                                 │ 0.0007318390296487062                    │\n",
      "│ lw_edge                            │ 1.0                                      │\n",
      "│ m_L_ec                             │ 6                                        │\n",
      "│ m_alpha                            │ 0.5                                      │\n",
      "│ m_hidden_dim                       │ 120                                      │\n",
      "│ m_interaction_edge_dim             │ 120                                      │\n",
      "│ m_interaction_node_dim             │ 120                                      │\n",
      "│ m_residual_type                    │ skip1                                    │\n",
      "│ m_use_intermediate_edge_embeddings │ True                                     │\n",
      "│ m_use_node_embedding               │ True                                     │\n",
      "│ n_graphs_train                     │ 247776                                   │\n",
      "│ n_graphs_val                       │ 320                                      │\n",
      "│ node_indim                         │ 7                                        │\n",
      "│ optimizer                          │ adam                                     │\n",
      "│ scheduler                          │ None                                     │\n",
      "│ sector                             │ None                                     │\n",
      "│ test                               │ False                                    │\n",
      "│ train_data_dir                     │ ['/scratch/gpfs/IOJALVO/gnn-tracking/obj │\n",
      "│ val_data_dir                       │ /scratch/gpfs/IOJALVO/gnn-tracking/objec │\n",
      "└────────────────────────────────────┴──────────────────────────────────────────┘\u001B[0m\n",
      "\u001B[36m[20:21:21 HPO] DEBUG: Getting loaders\u001B[0m\n",
      "\u001B[36m[20:21:21 HPO] DEBUG: Not adding loaders to trainer\u001B[0m\n",
      "\u001B[32m[20:21:21 TCNTrainer] INFO: Using device cpu\u001B[0m\n",
      "\u001B[36m[20:21:21 HPO] DEBUG: Loading checkpoint from /home/kl5675/ray_results/ec_230502/ECTrainable_759be1c8_11_val_batch_size=5,adam_amsgrad=False,adam_beta1=0.9067,adam_beta2=0.9815,adam_eps=0.0000,adam_epsilon=0.000_2023-05-02_22-10-26/checkpoint_000043/checkpoint.pt\u001B[0m\n",
      "\u001B[32m[20:21:21 HPO] INFO: Pre-trained model initialized\u001B[0m\n",
      "\u001B[36m[20:21:21 HPO] DEBUG: Getting loaders\u001B[0m\n",
      "\u001B[36m[20:21:21 HPO] DEBUG: Not adding loaders to trainer\u001B[0m\n",
      "\u001B[32m[20:21:21 TCNTrainer] INFO: Using device cpu\u001B[0m\n",
      "\u001B[36m[20:21:21 HPO] DEBUG: Loading checkpoint from /home/kl5675/ray_results/ec/ContinuedECTrainable_50029d0b_22_val_batch_size=5,adam_amsgrad=False,adam_beta1=0.9000,adam_beta2=0.9990,adam_eps=0.0000,adam_weig_2023-05-03_20-53-07/checkpoint_000013/checkpoint.pt\u001B[0m\n",
      "\u001B[32m[20:21:21 HPO] INFO: Pre-trained model initialized\u001B[0m\n",
      "\u001B[36m[20:21:21 HPO] DEBUG: Getting loaders\u001B[0m\n",
      "\u001B[36m[20:21:21 HPO] DEBUG: Not adding loaders to trainer\u001B[0m\n",
      "\u001B[32m[20:21:21 TCNTrainer] INFO: Using device cpu\u001B[0m\n",
      "\u001B[36m[20:21:21 HPO] DEBUG: Loading checkpoint from /home/kl5675/ray_results/ec/ContinuedECTrainable_cc4e1c09_7_val_batch_size=5,batch_size=5,ec_epoch=-1,ec_hash=50029d0b,ec_loss=haughty_focal,ec_project=ec,ec__2023-05-04_12-29-26/checkpoint_000007/checkpoint.pt\u001B[0m\n",
      "\u001B[32m[20:21:21 HPO] INFO: Pre-trained model initialized\u001B[0m\n",
      "\u001B[36m[20:21:21 HPO] DEBUG: Getting loaders\u001B[0m\n",
      "\u001B[32m[20:21:25] INFO: DataLoader will load 247776 graphs (out of 247776 available).\u001B[0m\n",
      "\u001B[36m[20:21:25] DEBUG: First graph is /scratch/gpfs/IOJALVO/gnn-tracking/object_condensation/graphs_v1/part_1/data21000_s0.pt, last graph is /scratch/gpfs/IOJALVO/gnn-tracking/object_condensation/graphs_v1/part_8/data28999_s9.pt\u001B[0m\n",
      "\u001B[32m[20:21:26] INFO: DataLoader will load 320 graphs (out of 32000 available).\u001B[0m\n",
      "\u001B[36m[20:21:26] DEBUG: First graph is /scratch/gpfs/IOJALVO/gnn-tracking/object_condensation/graphs_v1/part_9/data29000_s0.pt, last graph is /scratch/gpfs/IOJALVO/gnn-tracking/object_condensation/graphs_v1/part_9/data29009_s9.pt\u001B[0m\n",
      "\u001B[36m[20:21:26] DEBUG: Parameters for data loader 'train': {'batch_size': 5, 'num_workers': 6, 'sampler': <torch.utils.data.sampler.RandomSampler object at 0x147c77322f50>, 'pin_memory': True, 'shuffle': None}\u001B[0m\n",
      "\u001B[36m[20:21:26] DEBUG: Parameters for data loader 'val': {'batch_size': 1, 'num_workers': 6, 'sampler': None, 'pin_memory': True, 'shuffle': False}\u001B[0m\n",
      "\u001B[36m[20:21:26] DEBUG: Parameters for data loader 'test': {'batch_size': 1, 'num_workers': 1, 'sampler': None, 'pin_memory': True, 'shuffle': False}\u001B[0m\n",
      "\u001B[32m[20:21:26 TCNTrainer] INFO: Using device cpu\u001B[0m\n",
      "\u001B[32m[20:21:26 HPO] INFO: Setting lr_scheduler_step to batch\u001B[0m\n"
     ]
    }
   ],
   "source": [
    "trainable = ECTrainable(config)"
   ],
   "metadata": {
    "collapsed": false
   }
  },
  {
   "cell_type": "code",
   "execution_count": 5,
   "outputs": [
    {
     "name": "stderr",
     "output_type": "stream",
     "text": [
      "\u001B[36m[20:21:26 HPO] DEBUG: Loading checkpoint from /home/kl5675/ray_results/ec/ContinuedECTrainable_613118cb_1_val_batch_size=5,batch_size=5,cycliclr_gamma=1,cycliclr_mode=triangular2,cycliclr_step_size_down=1_2023-05-04_15-48-20/checkpoint_000001/checkpoint.pt\u001B[0m\n"
     ]
    }
   ],
   "source": [
    "from gnn_tracking_hpo.util.paths import find_checkpoint\n",
    "\n",
    "trainable.load_checkpoint(str(find_checkpoint(\"ec\", \"613118cb\", -1)))"
   ],
   "metadata": {
    "collapsed": false
   }
  },
  {
   "cell_type": "code",
   "execution_count": 6,
   "outputs": [],
   "source": [
    "import torch_geometric\n",
    "%aimport gnn_tracking.analysis\n",
    "from gnn_tracking.analysis.graphs import get_track_graph_info, get_track_graph_info_from_data\n"
   ],
   "metadata": {
    "collapsed": false
   }
  },
  {
   "cell_type": "code",
   "execution_count": 19,
   "outputs": [],
   "source": [
    "thresholds = np.linspace(0, 1., 100)"
   ],
   "metadata": {
    "collapsed": false
   }
  },
  {
   "cell_type": "code",
   "execution_count": 20,
   "outputs": [],
   "source": [
    "%aimport gnn_tracking.analysis.edge_classification\n",
    "from gnn_tracking.analysis.edge_classification import collect_all_ec_stats"
   ],
   "metadata": {
    "collapsed": false
   }
  },
  {
   "cell_type": "code",
   "execution_count": 21,
   "outputs": [
    {
     "name": "stderr",
     "output_type": "stream",
     "text": [
      "/scratch/gpfs/kl5675/micromamba/envs/gnn/lib/python3.10/site-packages/torch_geometric/data/collate.py:145: UserWarning: TypedStorage is deprecated. It will be removed in the future and UntypedStorage will be the only storage class. This should only matter to you if you are using storages directly.  To access UntypedStorage directly, use tensor.untyped_storage() instead of tensor.storage()\n",
      "  storage = elem.storage()._new_shared(numel)\n",
      "/scratch/gpfs/kl5675/micromamba/envs/gnn/lib/python3.10/site-packages/torch_geometric/data/collate.py:145: UserWarning: TypedStorage is deprecated. It will be removed in the future and UntypedStorage will be the only storage class. This should only matter to you if you are using storages directly.  To access UntypedStorage directly, use tensor.untyped_storage() instead of tensor.storage()\n",
      "  storage = elem.storage()._new_shared(numel)\n",
      "/scratch/gpfs/kl5675/micromamba/envs/gnn/lib/python3.10/site-packages/torch_geometric/data/collate.py:145: UserWarning: TypedStorage is deprecated. It will be removed in the future and UntypedStorage will be the only storage class. This should only matter to you if you are using storages directly.  To access UntypedStorage directly, use tensor.untyped_storage() instead of tensor.storage()\n",
      "  storage = elem.storage()._new_shared(numel)\n",
      "/scratch/gpfs/kl5675/micromamba/envs/gnn/lib/python3.10/site-packages/torch_geometric/data/collate.py:145: UserWarning: TypedStorage is deprecated. It will be removed in the future and UntypedStorage will be the only storage class. This should only matter to you if you are using storages directly.  To access UntypedStorage directly, use tensor.untyped_storage() instead of tensor.storage()\n",
      "  storage = elem.storage()._new_shared(numel)\n",
      "/scratch/gpfs/kl5675/micromamba/envs/gnn/lib/python3.10/site-packages/torch_geometric/data/collate.py:145: UserWarning: TypedStorage is deprecated. It will be removed in the future and UntypedStorage will be the only storage class. This should only matter to you if you are using storages directly.  To access UntypedStorage directly, use tensor.untyped_storage() instead of tensor.storage()\n",
      "  storage = elem.storage()._new_shared(numel)\n",
      "/scratch/gpfs/kl5675/micromamba/envs/gnn/lib/python3.10/site-packages/torch_geometric/data/collate.py:145: UserWarning: TypedStorage is deprecated. It will be removed in the future and UntypedStorage will be the only storage class. This should only matter to you if you are using storages directly.  To access UntypedStorage directly, use tensor.untyped_storage() instead of tensor.storage()\n",
      "  storage = elem.storage()._new_shared(numel)\n"
     ]
    },
    {
     "data": {
      "text/plain": "  0%|          | 0/100 [00:00<?, ?it/s]",
      "application/vnd.jupyter.widget-view+json": {
       "version_major": 2,
       "version_minor": 0,
       "model_id": "38138c3ba92d48e88e14b8035b45ff5c"
      }
     },
     "metadata": {},
     "output_type": "display_data"
    },
    {
     "data": {
      "text/plain": "  0%|          | 0/100 [00:00<?, ?it/s]",
      "application/vnd.jupyter.widget-view+json": {
       "version_major": 2,
       "version_minor": 0,
       "model_id": "e2cd3f3a64574eff8d07aa5951f201c7"
      }
     },
     "metadata": {},
     "output_type": "display_data"
    },
    {
     "data": {
      "text/plain": "  0%|          | 0/100 [00:00<?, ?it/s]",
      "application/vnd.jupyter.widget-view+json": {
       "version_major": 2,
       "version_minor": 0,
       "model_id": "f6acc8d3a4364db082a87443be95cdcd"
      }
     },
     "metadata": {},
     "output_type": "display_data"
    },
    {
     "data": {
      "text/plain": "  0%|          | 0/100 [00:00<?, ?it/s]",
      "application/vnd.jupyter.widget-view+json": {
       "version_major": 2,
       "version_minor": 0,
       "model_id": "fd6961ab21bb40d5bb567278db1725b9"
      }
     },
     "metadata": {},
     "output_type": "display_data"
    },
    {
     "data": {
      "text/plain": "  0%|          | 0/100 [00:00<?, ?it/s]",
      "application/vnd.jupyter.widget-view+json": {
       "version_major": 2,
       "version_minor": 0,
       "model_id": "055b9860ce4347afbf3e99ec1cee9434"
      }
     },
     "metadata": {},
     "output_type": "display_data"
    },
    {
     "data": {
      "text/plain": "  0%|          | 0/100 [00:00<?, ?it/s]",
      "application/vnd.jupyter.widget-view+json": {
       "version_major": 2,
       "version_minor": 0,
       "model_id": "04b062bbf48549a383d461e8c1e4b1e4"
      }
     },
     "metadata": {},
     "output_type": "display_data"
    },
    {
     "data": {
      "text/plain": "  0%|          | 0/100 [00:00<?, ?it/s]",
      "application/vnd.jupyter.widget-view+json": {
       "version_major": 2,
       "version_minor": 0,
       "model_id": "de43f32337bd489d9d29d3d68ac97b01"
      }
     },
     "metadata": {},
     "output_type": "display_data"
    },
    {
     "data": {
      "text/plain": "  0%|          | 0/100 [00:00<?, ?it/s]",
      "application/vnd.jupyter.widget-view+json": {
       "version_major": 2,
       "version_minor": 0,
       "model_id": "2f390643c6284f9992c0d809e001c38c"
      }
     },
     "metadata": {},
     "output_type": "display_data"
    },
    {
     "data": {
      "text/plain": "  0%|          | 0/100 [00:00<?, ?it/s]",
      "application/vnd.jupyter.widget-view+json": {
       "version_major": 2,
       "version_minor": 0,
       "model_id": "55dd667d8c7e400fa2e328d8e0cd9e00"
      }
     },
     "metadata": {},
     "output_type": "display_data"
    },
    {
     "data": {
      "text/plain": "  0%|          | 0/100 [00:00<?, ?it/s]",
      "application/vnd.jupyter.widget-view+json": {
       "version_major": 2,
       "version_minor": 0,
       "model_id": "ec2f5f25433744098c85ebea50e5f0bd"
      }
     },
     "metadata": {},
     "output_type": "display_data"
    }
   ],
   "source": [
    "\n",
    "df = collect_all_ec_stats(\n",
    "    model=trainable.trainer.model,\n",
    "    data_loader=trainable.trainer.val_loader,\n",
    "    thresholds=thresholds,\n",
    "    n_batches=10,\n",
    ")"
   ],
   "metadata": {
    "collapsed": false
   }
  },
  {
   "cell_type": "code",
   "execution_count": 15,
   "outputs": [],
   "source": [
    "\n",
    "import pandas as pd\n"
   ],
   "metadata": {
    "collapsed": false
   }
  },
  {
   "cell_type": "code",
   "execution_count": 16,
   "outputs": [],
   "source": [
    "import pandas as pd\n",
    "\n",
    "def get_graph_construction_connectivity(data: Data, pt_thld=0.9):\n",
    "    return get_track_graph_info_from_data(data, w=torch.ones(data.edge_index.shape[1]), threshold=0.5, pt_thld=pt_thld)\n",
    "    # gx = torch_geometric.utils.convert.to_networkx(data, to_undirected=True)\n",
    "    # particle_ids = data.particle_id[\n",
    "    #     (data.particle_id > 0) & (data.pt > pt_thld)\n",
    "    # ].unique()\n",
    "    # results = []\n",
    "    # for pid in particle_ids:\n",
    "    #     results.append(get_track_graph_info(gx, data.particle_id, pid.item()))\n",
    "    # return pd.DataFrame(\n",
    "    #     results,\n",
    "    #     columns=[\n",
    "    #         \"pid\",\n",
    "    #         \"n_hits\",\n",
    "    #         \"n_segments\",\n",
    "    #         \"n_hits_largest_segment\",\n",
    "    #         \"distance_largest_segments\",\n",
    "    #         \"n_hits_largest_component\",\n",
    "    #     ],\n",
    "    # )"
   ],
   "metadata": {
    "collapsed": false
   }
  },
  {
   "cell_type": "code",
   "execution_count": 34,
   "outputs": [
    {
     "data": {
      "text/plain": "{'frac_segment100': 0.8656716417910447,\n 'frac_component100': 0.9253731343283582,\n 'frac_segment50': 1.0,\n 'frac_component50': 1.0,\n 'frac_segment75': 0.9104477611940298,\n 'frac_component75': 0.9552238805970149,\n 'n_segments': 1.1791044776119404,\n 'frac_hits_largest_segment': 0.9536010424070125,\n 'frac_hits_largest_component': 0.9774816394219379}"
     },
     "execution_count": 34,
     "metadata": {},
     "output_type": "execute_result"
    }
   ],
   "source": [
    "summarize_track_graph_info(get_graph_construction_connectivity(next(iter(trainable.trainer.val_loader.dataset)), pt_thld=0.9))"
   ],
   "metadata": {
    "collapsed": false
   }
  },
  {
   "cell_type": "code",
   "execution_count": 33,
   "outputs": [
    {
     "name": "stderr",
     "output_type": "stream",
     "text": [
      "/scratch/gpfs/kl5675/micromamba/envs/gnn/lib/python3.10/site-packages/torch_geometric/data/collate.py:145: UserWarning: TypedStorage is deprecated. It will be removed in the future and UntypedStorage will be the only storage class. This should only matter to you if you are using storages directly.  To access UntypedStorage directly, use tensor.untyped_storage() instead of tensor.storage()\n",
      "  storage = elem.storage()._new_shared(numel)\n",
      "/scratch/gpfs/kl5675/micromamba/envs/gnn/lib/python3.10/site-packages/torch_geometric/data/collate.py:145: UserWarning: TypedStorage is deprecated. It will be removed in the future and UntypedStorage will be the only storage class. This should only matter to you if you are using storages directly.  To access UntypedStorage directly, use tensor.untyped_storage() instead of tensor.storage()\n",
      "  storage = elem.storage()._new_shared(numel)\n",
      "/scratch/gpfs/kl5675/micromamba/envs/gnn/lib/python3.10/site-packages/torch_geometric/data/collate.py:145: UserWarning: TypedStorage is deprecated. It will be removed in the future and UntypedStorage will be the only storage class. This should only matter to you if you are using storages directly.  To access UntypedStorage directly, use tensor.untyped_storage() instead of tensor.storage()\n",
      "  storage = elem.storage()._new_shared(numel)\n",
      "/scratch/gpfs/kl5675/micromamba/envs/gnn/lib/python3.10/site-packages/torch_geometric/data/collate.py:145: UserWarning: TypedStorage is deprecated. It will be removed in the future and UntypedStorage will be the only storage class. This should only matter to you if you are using storages directly.  To access UntypedStorage directly, use tensor.untyped_storage() instead of tensor.storage()\n",
      "  storage = elem.storage()._new_shared(numel)\n",
      "/scratch/gpfs/kl5675/micromamba/envs/gnn/lib/python3.10/site-packages/torch_geometric/data/collate.py:145: UserWarning: TypedStorage is deprecated. It will be removed in the future and UntypedStorage will be the only storage class. This should only matter to you if you are using storages directly.  To access UntypedStorage directly, use tensor.untyped_storage() instead of tensor.storage()\n",
      "  storage = elem.storage()._new_shared(numel)\n",
      "/scratch/gpfs/kl5675/micromamba/envs/gnn/lib/python3.10/site-packages/torch_geometric/data/collate.py:145: UserWarning: TypedStorage is deprecated. It will be removed in the future and UntypedStorage will be the only storage class. This should only matter to you if you are using storages directly.  To access UntypedStorage directly, use tensor.untyped_storage() instead of tensor.storage()\n",
      "  storage = elem.storage()._new_shared(numel)\n"
     ]
    },
    {
     "data": {
      "text/plain": "{'frac_segment100': 0.6993243243243243,\n 'frac_component100': 0.7432432432432432,\n 'frac_segment50': 0.9831081081081081,\n 'frac_component50': 0.9864864864864865,\n 'frac_segment75': 0.7635135135135135,\n 'frac_component75': 0.8006756756756757,\n 'n_segments': 1.3885135135135136,\n 'frac_hits_largest_segment': 0.8808474183474185,\n 'frac_hits_largest_component': 0.9000036281286281}"
     },
     "execution_count": 33,
     "metadata": {},
     "output_type": "execute_result"
    }
   ],
   "source": [
    "summarize_track_graph_info(get_graph_construction_connectivity(next(iter(trainable.trainer.val_loader)), pt_thld=0.9))"
   ],
   "metadata": {
    "collapsed": false
   }
  },
  {
   "cell_type": "code",
   "execution_count": 11,
   "outputs": [],
   "source": [
    "from gnn_tracking.analysis.graphs import summarize_track_graph_info\n",
    "from torch.utils.data import RandomSampler\n",
    "from gnn_tracking.utils.loading import TrackingDataset\n",
    "import torch\n",
    "\n",
    "def get_graph_construction_connectivity_from_path(path, pt_thld=0.9, n_samples=10):\n",
    "    ds = TrackingDataset(path)\n",
    "    generator = torch.Generator()\n",
    "    generator.manual_seed(0)\n",
    "    loader = torch_geometric.data.DataLoader(ds, batch_size=1, sampler=RandomSampler(ds, replacement=True, num_samples=n_samples, generator=generator))\n",
    "    results = []\n",
    "    for data in loader:\n",
    "        results.append(summarize_track_graph_info(get_track_graph_info_from_data(data, w=torch.ones(data.edge_index.shape[1]), threshold=0.5, pt_thld=pt_thld)))\n",
    "    df = pd.DataFrame.from_records(results)\n",
    "    averaged = {\n",
    "        key: df[key].mean() for key in df.columns\n",
    "    } | {\n",
    "        f\"{key}_err\": df[key].std() / np.sqrt(len(df)) for key in df.columns\n",
    "    }\n",
    "    return averaged"
   ],
   "metadata": {
    "collapsed": false
   }
  },
  {
   "cell_type": "code",
   "execution_count": 12,
   "outputs": [
    {
     "name": "stderr",
     "output_type": "stream",
     "text": [
      "\u001B[32m[19:44:30] INFO: DataLoader will load 32000 graphs (out of 32000 available).\u001B[0m\n",
      "\u001B[36m[19:44:30] DEBUG: First graph is /scratch/gpfs/IOJALVO/gnn-tracking/object_condensation/graphs_v1/part_9/data29000_s0.pt, last graph is /scratch/gpfs/IOJALVO/gnn-tracking/object_condensation/graphs_v1/part_9/data29999_s9.pt\u001B[0m\n",
      "/scratch/gpfs/kl5675/micromamba/envs/gnn/lib/python3.10/site-packages/torch_geometric/deprecation.py:22: UserWarning: 'data.DataLoader' is deprecated, use 'loader.DataLoader' instead\n",
      "  warnings.warn(out)\n"
     ]
    },
    {
     "data": {
      "text/plain": "{'frac_segment100': 0.8564237334521516,\n 'frac_component100': 0.8987324539671793,\n 'frac_segment50': 0.9942145333936379,\n 'frac_component50': 0.9971185737976782,\n 'frac_segment75': 0.917251154552677,\n 'frac_component75': 0.9547574648314958,\n 'n_segments': 1.1539473139756453,\n 'frac_hits_largest_segment': 0.9548510438053374,\n 'frac_hits_largest_component': 0.974146412104365,\n 'frac_segment100_err': 0.014115264099647862,\n 'frac_component100_err': 0.009759106304793097,\n 'frac_segment50_err': 0.0031432889256739712,\n 'frac_component50_err': 0.0019225036574811907,\n 'frac_segment75_err': 0.012156441371611868,\n 'frac_component75_err': 0.011484129313748833,\n 'n_segments_err': 0.013238421683500633,\n 'frac_hits_largest_segment_err': 0.004921189459116386,\n 'frac_hits_largest_component_err': 0.004044946918825599}"
     },
     "execution_count": 12,
     "metadata": {},
     "output_type": "execute_result"
    }
   ],
   "source": [
    "get_graph_construction_connectivity_from_path(\"/scratch/gpfs/IOJALVO/gnn-tracking/object_condensation/graphs_v1/part_9/\", n_samples=10)"
   ],
   "metadata": {
    "collapsed": false
   }
  },
  {
   "cell_type": "code",
   "execution_count": 16,
   "outputs": [
    {
     "data": {
      "text/plain": "threshold                         -1.000000\nacc                                0.031506\nTPR                                1.000000\nTNR                                0.000000\nFPR                                1.000000\nFNR                                0.000000\nbalanced_acc                       0.500000\nF1                                 0.061087\nMCC                                0.000000\nacc_thld                           0.161699\nTPR_thld                           1.000000\nTNR_thld                           0.000000\nFPR_thld                           1.000000\nFNR_thld                           0.000000\nbalanced_acc_thld                  0.500000\nF1_thld                            0.278383\nMCC_thld                           0.000000\nfrac_segment100                    0.699324\nfrac_component100                  0.743243\nfrac_segment50                     0.983108\nfrac_component50                   0.986486\nfrac_segment75                     0.763514\nfrac_component75                   0.800676\nn_segments                         1.388514\nfrac_hits_largest_segment          0.880847\nfrac_hits_largest_component        0.900004\nthreshold_err                      0.000000\nacc_err                            0.000000\nTPR_err                            0.000000\nTNR_err                            0.000000\nFPR_err                            0.000000\nFNR_err                            0.000000\nbalanced_acc_err                   0.000000\nF1_err                             0.000000\nMCC_err                            0.000000\nacc_thld_err                       0.000000\nTPR_thld_err                       0.000000\nTNR_thld_err                       0.000000\nFPR_thld_err                       0.000000\nFNR_thld_err                       0.000000\nbalanced_acc_thld_err              0.000000\nF1_thld_err                        0.000000\nMCC_thld_err                       0.000000\nfrac_segment100_err                0.000000\nfrac_component100_err              0.000000\nfrac_segment50_err                 0.000000\nfrac_component50_err               0.000000\nfrac_segment75_err                 0.000000\nfrac_component75_err               0.000000\nn_segments_err                     0.000000\nfrac_hits_largest_segment_err      0.000000\nfrac_hits_largest_component_err    0.000000\nName: 0, dtype: float64"
     },
     "execution_count": 16,
     "metadata": {},
     "output_type": "execute_result"
    }
   ],
   "source": [
    "df.loc[0]"
   ],
   "metadata": {
    "collapsed": false
   }
  },
  {
   "cell_type": "code",
   "execution_count": 22,
   "outputs": [
    {
     "data": {
      "text/plain": "<IPython.core.display.Javascript object>",
      "application/javascript": "/* Put everything inside the global mpl namespace */\n/* global mpl */\nwindow.mpl = {};\n\nmpl.get_websocket_type = function () {\n    if (typeof WebSocket !== 'undefined') {\n        return WebSocket;\n    } else if (typeof MozWebSocket !== 'undefined') {\n        return MozWebSocket;\n    } else {\n        alert(\n            'Your browser does not have WebSocket support. ' +\n                'Please try Chrome, Safari or Firefox ≥ 6. ' +\n                'Firefox 4 and 5 are also supported but you ' +\n                'have to enable WebSockets in about:config.'\n        );\n    }\n};\n\nmpl.figure = function (figure_id, websocket, ondownload, parent_element) {\n    this.id = figure_id;\n\n    this.ws = websocket;\n\n    this.supports_binary = this.ws.binaryType !== undefined;\n\n    if (!this.supports_binary) {\n        var warnings = document.getElementById('mpl-warnings');\n        if (warnings) {\n            warnings.style.display = 'block';\n            warnings.textContent =\n                'This browser does not support binary websocket messages. ' +\n                'Performance may be slow.';\n        }\n    }\n\n    this.imageObj = new Image();\n\n    this.context = undefined;\n    this.message = undefined;\n    this.canvas = undefined;\n    this.rubberband_canvas = undefined;\n    this.rubberband_context = undefined;\n    this.format_dropdown = undefined;\n\n    this.image_mode = 'full';\n\n    this.root = document.createElement('div');\n    this.root.setAttribute('style', 'display: inline-block');\n    this._root_extra_style(this.root);\n\n    parent_element.appendChild(this.root);\n\n    this._init_header(this);\n    this._init_canvas(this);\n    this._init_toolbar(this);\n\n    var fig = this;\n\n    this.waiting = false;\n\n    this.ws.onopen = function () {\n        fig.send_message('supports_binary', { value: fig.supports_binary });\n        fig.send_message('send_image_mode', {});\n        if (fig.ratio !== 1) {\n            fig.send_message('set_device_pixel_ratio', {\n                device_pixel_ratio: fig.ratio,\n            });\n        }\n        fig.send_message('refresh', {});\n    };\n\n    this.imageObj.onload = function () {\n        if (fig.image_mode === 'full') {\n            // Full images could contain transparency (where diff images\n            // almost always do), so we need to clear the canvas so that\n            // there is no ghosting.\n            fig.context.clearRect(0, 0, fig.canvas.width, fig.canvas.height);\n        }\n        fig.context.drawImage(fig.imageObj, 0, 0);\n    };\n\n    this.imageObj.onunload = function () {\n        fig.ws.close();\n    };\n\n    this.ws.onmessage = this._make_on_message_function(this);\n\n    this.ondownload = ondownload;\n};\n\nmpl.figure.prototype._init_header = function () {\n    var titlebar = document.createElement('div');\n    titlebar.classList =\n        'ui-dialog-titlebar ui-widget-header ui-corner-all ui-helper-clearfix';\n    var titletext = document.createElement('div');\n    titletext.classList = 'ui-dialog-title';\n    titletext.setAttribute(\n        'style',\n        'width: 100%; text-align: center; padding: 3px;'\n    );\n    titlebar.appendChild(titletext);\n    this.root.appendChild(titlebar);\n    this.header = titletext;\n};\n\nmpl.figure.prototype._canvas_extra_style = function (_canvas_div) {};\n\nmpl.figure.prototype._root_extra_style = function (_canvas_div) {};\n\nmpl.figure.prototype._init_canvas = function () {\n    var fig = this;\n\n    var canvas_div = (this.canvas_div = document.createElement('div'));\n    canvas_div.setAttribute('tabindex', '0');\n    canvas_div.setAttribute(\n        'style',\n        'border: 1px solid #ddd;' +\n            'box-sizing: content-box;' +\n            'clear: both;' +\n            'min-height: 1px;' +\n            'min-width: 1px;' +\n            'outline: 0;' +\n            'overflow: hidden;' +\n            'position: relative;' +\n            'resize: both;' +\n            'z-index: 2;'\n    );\n\n    function on_keyboard_event_closure(name) {\n        return function (event) {\n            return fig.key_event(event, name);\n        };\n    }\n\n    canvas_div.addEventListener(\n        'keydown',\n        on_keyboard_event_closure('key_press')\n    );\n    canvas_div.addEventListener(\n        'keyup',\n        on_keyboard_event_closure('key_release')\n    );\n\n    this._canvas_extra_style(canvas_div);\n    this.root.appendChild(canvas_div);\n\n    var canvas = (this.canvas = document.createElement('canvas'));\n    canvas.classList.add('mpl-canvas');\n    canvas.setAttribute(\n        'style',\n        'box-sizing: content-box;' +\n            'pointer-events: none;' +\n            'position: relative;' +\n            'z-index: 0;'\n    );\n\n    this.context = canvas.getContext('2d');\n\n    var backingStore =\n        this.context.backingStorePixelRatio ||\n        this.context.webkitBackingStorePixelRatio ||\n        this.context.mozBackingStorePixelRatio ||\n        this.context.msBackingStorePixelRatio ||\n        this.context.oBackingStorePixelRatio ||\n        this.context.backingStorePixelRatio ||\n        1;\n\n    this.ratio = (window.devicePixelRatio || 1) / backingStore;\n\n    var rubberband_canvas = (this.rubberband_canvas = document.createElement(\n        'canvas'\n    ));\n    rubberband_canvas.setAttribute(\n        'style',\n        'box-sizing: content-box;' +\n            'left: 0;' +\n            'pointer-events: none;' +\n            'position: absolute;' +\n            'top: 0;' +\n            'z-index: 1;'\n    );\n\n    // Apply a ponyfill if ResizeObserver is not implemented by browser.\n    if (this.ResizeObserver === undefined) {\n        if (window.ResizeObserver !== undefined) {\n            this.ResizeObserver = window.ResizeObserver;\n        } else {\n            var obs = _JSXTOOLS_RESIZE_OBSERVER({});\n            this.ResizeObserver = obs.ResizeObserver;\n        }\n    }\n\n    this.resizeObserverInstance = new this.ResizeObserver(function (entries) {\n        var nentries = entries.length;\n        for (var i = 0; i < nentries; i++) {\n            var entry = entries[i];\n            var width, height;\n            if (entry.contentBoxSize) {\n                if (entry.contentBoxSize instanceof Array) {\n                    // Chrome 84 implements new version of spec.\n                    width = entry.contentBoxSize[0].inlineSize;\n                    height = entry.contentBoxSize[0].blockSize;\n                } else {\n                    // Firefox implements old version of spec.\n                    width = entry.contentBoxSize.inlineSize;\n                    height = entry.contentBoxSize.blockSize;\n                }\n            } else {\n                // Chrome <84 implements even older version of spec.\n                width = entry.contentRect.width;\n                height = entry.contentRect.height;\n            }\n\n            // Keep the size of the canvas and rubber band canvas in sync with\n            // the canvas container.\n            if (entry.devicePixelContentBoxSize) {\n                // Chrome 84 implements new version of spec.\n                canvas.setAttribute(\n                    'width',\n                    entry.devicePixelContentBoxSize[0].inlineSize\n                );\n                canvas.setAttribute(\n                    'height',\n                    entry.devicePixelContentBoxSize[0].blockSize\n                );\n            } else {\n                canvas.setAttribute('width', width * fig.ratio);\n                canvas.setAttribute('height', height * fig.ratio);\n            }\n            /* This rescales the canvas back to display pixels, so that it\n             * appears correct on HiDPI screens. */\n            canvas.style.width = width + 'px';\n            canvas.style.height = height + 'px';\n\n            rubberband_canvas.setAttribute('width', width);\n            rubberband_canvas.setAttribute('height', height);\n\n            // And update the size in Python. We ignore the initial 0/0 size\n            // that occurs as the element is placed into the DOM, which should\n            // otherwise not happen due to the minimum size styling.\n            if (fig.ws.readyState == 1 && width != 0 && height != 0) {\n                fig.request_resize(width, height);\n            }\n        }\n    });\n    this.resizeObserverInstance.observe(canvas_div);\n\n    function on_mouse_event_closure(name) {\n        /* User Agent sniffing is bad, but WebKit is busted:\n         * https://bugs.webkit.org/show_bug.cgi?id=144526\n         * https://bugs.webkit.org/show_bug.cgi?id=181818\n         * The worst that happens here is that they get an extra browser\n         * selection when dragging, if this check fails to catch them.\n         */\n        var UA = navigator.userAgent;\n        var isWebKit = /AppleWebKit/.test(UA) && !/Chrome/.test(UA);\n        if(isWebKit) {\n            return function (event) {\n                /* This prevents the web browser from automatically changing to\n                 * the text insertion cursor when the button is pressed. We\n                 * want to control all of the cursor setting manually through\n                 * the 'cursor' event from matplotlib */\n                event.preventDefault()\n                return fig.mouse_event(event, name);\n            };\n        } else {\n            return function (event) {\n                return fig.mouse_event(event, name);\n            };\n        }\n    }\n\n    canvas_div.addEventListener(\n        'mousedown',\n        on_mouse_event_closure('button_press')\n    );\n    canvas_div.addEventListener(\n        'mouseup',\n        on_mouse_event_closure('button_release')\n    );\n    canvas_div.addEventListener(\n        'dblclick',\n        on_mouse_event_closure('dblclick')\n    );\n    // Throttle sequential mouse events to 1 every 20ms.\n    canvas_div.addEventListener(\n        'mousemove',\n        on_mouse_event_closure('motion_notify')\n    );\n\n    canvas_div.addEventListener(\n        'mouseenter',\n        on_mouse_event_closure('figure_enter')\n    );\n    canvas_div.addEventListener(\n        'mouseleave',\n        on_mouse_event_closure('figure_leave')\n    );\n\n    canvas_div.addEventListener('wheel', function (event) {\n        if (event.deltaY < 0) {\n            event.step = 1;\n        } else {\n            event.step = -1;\n        }\n        on_mouse_event_closure('scroll')(event);\n    });\n\n    canvas_div.appendChild(canvas);\n    canvas_div.appendChild(rubberband_canvas);\n\n    this.rubberband_context = rubberband_canvas.getContext('2d');\n    this.rubberband_context.strokeStyle = '#000000';\n\n    this._resize_canvas = function (width, height, forward) {\n        if (forward) {\n            canvas_div.style.width = width + 'px';\n            canvas_div.style.height = height + 'px';\n        }\n    };\n\n    // Disable right mouse context menu.\n    canvas_div.addEventListener('contextmenu', function (_e) {\n        event.preventDefault();\n        return false;\n    });\n\n    function set_focus() {\n        canvas.focus();\n        canvas_div.focus();\n    }\n\n    window.setTimeout(set_focus, 100);\n};\n\nmpl.figure.prototype._init_toolbar = function () {\n    var fig = this;\n\n    var toolbar = document.createElement('div');\n    toolbar.classList = 'mpl-toolbar';\n    this.root.appendChild(toolbar);\n\n    function on_click_closure(name) {\n        return function (_event) {\n            return fig.toolbar_button_onclick(name);\n        };\n    }\n\n    function on_mouseover_closure(tooltip) {\n        return function (event) {\n            if (!event.currentTarget.disabled) {\n                return fig.toolbar_button_onmouseover(tooltip);\n            }\n        };\n    }\n\n    fig.buttons = {};\n    var buttonGroup = document.createElement('div');\n    buttonGroup.classList = 'mpl-button-group';\n    for (var toolbar_ind in mpl.toolbar_items) {\n        var name = mpl.toolbar_items[toolbar_ind][0];\n        var tooltip = mpl.toolbar_items[toolbar_ind][1];\n        var image = mpl.toolbar_items[toolbar_ind][2];\n        var method_name = mpl.toolbar_items[toolbar_ind][3];\n\n        if (!name) {\n            /* Instead of a spacer, we start a new button group. */\n            if (buttonGroup.hasChildNodes()) {\n                toolbar.appendChild(buttonGroup);\n            }\n            buttonGroup = document.createElement('div');\n            buttonGroup.classList = 'mpl-button-group';\n            continue;\n        }\n\n        var button = (fig.buttons[name] = document.createElement('button'));\n        button.classList = 'mpl-widget';\n        button.setAttribute('role', 'button');\n        button.setAttribute('aria-disabled', 'false');\n        button.addEventListener('click', on_click_closure(method_name));\n        button.addEventListener('mouseover', on_mouseover_closure(tooltip));\n\n        var icon_img = document.createElement('img');\n        icon_img.src = '_images/' + image + '.png';\n        icon_img.srcset = '_images/' + image + '_large.png 2x';\n        icon_img.alt = tooltip;\n        button.appendChild(icon_img);\n\n        buttonGroup.appendChild(button);\n    }\n\n    if (buttonGroup.hasChildNodes()) {\n        toolbar.appendChild(buttonGroup);\n    }\n\n    var fmt_picker = document.createElement('select');\n    fmt_picker.classList = 'mpl-widget';\n    toolbar.appendChild(fmt_picker);\n    this.format_dropdown = fmt_picker;\n\n    for (var ind in mpl.extensions) {\n        var fmt = mpl.extensions[ind];\n        var option = document.createElement('option');\n        option.selected = fmt === mpl.default_extension;\n        option.innerHTML = fmt;\n        fmt_picker.appendChild(option);\n    }\n\n    var status_bar = document.createElement('span');\n    status_bar.classList = 'mpl-message';\n    toolbar.appendChild(status_bar);\n    this.message = status_bar;\n};\n\nmpl.figure.prototype.request_resize = function (x_pixels, y_pixels) {\n    // Request matplotlib to resize the figure. Matplotlib will then trigger a resize in the client,\n    // which will in turn request a refresh of the image.\n    this.send_message('resize', { width: x_pixels, height: y_pixels });\n};\n\nmpl.figure.prototype.send_message = function (type, properties) {\n    properties['type'] = type;\n    properties['figure_id'] = this.id;\n    this.ws.send(JSON.stringify(properties));\n};\n\nmpl.figure.prototype.send_draw_message = function () {\n    if (!this.waiting) {\n        this.waiting = true;\n        this.ws.send(JSON.stringify({ type: 'draw', figure_id: this.id }));\n    }\n};\n\nmpl.figure.prototype.handle_save = function (fig, _msg) {\n    var format_dropdown = fig.format_dropdown;\n    var format = format_dropdown.options[format_dropdown.selectedIndex].value;\n    fig.ondownload(fig, format);\n};\n\nmpl.figure.prototype.handle_resize = function (fig, msg) {\n    var size = msg['size'];\n    if (size[0] !== fig.canvas.width || size[1] !== fig.canvas.height) {\n        fig._resize_canvas(size[0], size[1], msg['forward']);\n        fig.send_message('refresh', {});\n    }\n};\n\nmpl.figure.prototype.handle_rubberband = function (fig, msg) {\n    var x0 = msg['x0'] / fig.ratio;\n    var y0 = (fig.canvas.height - msg['y0']) / fig.ratio;\n    var x1 = msg['x1'] / fig.ratio;\n    var y1 = (fig.canvas.height - msg['y1']) / fig.ratio;\n    x0 = Math.floor(x0) + 0.5;\n    y0 = Math.floor(y0) + 0.5;\n    x1 = Math.floor(x1) + 0.5;\n    y1 = Math.floor(y1) + 0.5;\n    var min_x = Math.min(x0, x1);\n    var min_y = Math.min(y0, y1);\n    var width = Math.abs(x1 - x0);\n    var height = Math.abs(y1 - y0);\n\n    fig.rubberband_context.clearRect(\n        0,\n        0,\n        fig.canvas.width / fig.ratio,\n        fig.canvas.height / fig.ratio\n    );\n\n    fig.rubberband_context.strokeRect(min_x, min_y, width, height);\n};\n\nmpl.figure.prototype.handle_figure_label = function (fig, msg) {\n    // Updates the figure title.\n    fig.header.textContent = msg['label'];\n};\n\nmpl.figure.prototype.handle_cursor = function (fig, msg) {\n    fig.canvas_div.style.cursor = msg['cursor'];\n};\n\nmpl.figure.prototype.handle_message = function (fig, msg) {\n    fig.message.textContent = msg['message'];\n};\n\nmpl.figure.prototype.handle_draw = function (fig, _msg) {\n    // Request the server to send over a new figure.\n    fig.send_draw_message();\n};\n\nmpl.figure.prototype.handle_image_mode = function (fig, msg) {\n    fig.image_mode = msg['mode'];\n};\n\nmpl.figure.prototype.handle_history_buttons = function (fig, msg) {\n    for (var key in msg) {\n        if (!(key in fig.buttons)) {\n            continue;\n        }\n        fig.buttons[key].disabled = !msg[key];\n        fig.buttons[key].setAttribute('aria-disabled', !msg[key]);\n    }\n};\n\nmpl.figure.prototype.handle_navigate_mode = function (fig, msg) {\n    if (msg['mode'] === 'PAN') {\n        fig.buttons['Pan'].classList.add('active');\n        fig.buttons['Zoom'].classList.remove('active');\n    } else if (msg['mode'] === 'ZOOM') {\n        fig.buttons['Pan'].classList.remove('active');\n        fig.buttons['Zoom'].classList.add('active');\n    } else {\n        fig.buttons['Pan'].classList.remove('active');\n        fig.buttons['Zoom'].classList.remove('active');\n    }\n};\n\nmpl.figure.prototype.updated_canvas_event = function () {\n    // Called whenever the canvas gets updated.\n    this.send_message('ack', {});\n};\n\n// A function to construct a web socket function for onmessage handling.\n// Called in the figure constructor.\nmpl.figure.prototype._make_on_message_function = function (fig) {\n    return function socket_on_message(evt) {\n        if (evt.data instanceof Blob) {\n            var img = evt.data;\n            if (img.type !== 'image/png') {\n                /* FIXME: We get \"Resource interpreted as Image but\n                 * transferred with MIME type text/plain:\" errors on\n                 * Chrome.  But how to set the MIME type?  It doesn't seem\n                 * to be part of the websocket stream */\n                img.type = 'image/png';\n            }\n\n            /* Free the memory for the previous frames */\n            if (fig.imageObj.src) {\n                (window.URL || window.webkitURL).revokeObjectURL(\n                    fig.imageObj.src\n                );\n            }\n\n            fig.imageObj.src = (window.URL || window.webkitURL).createObjectURL(\n                img\n            );\n            fig.updated_canvas_event();\n            fig.waiting = false;\n            return;\n        } else if (\n            typeof evt.data === 'string' &&\n            evt.data.slice(0, 21) === 'data:image/png;base64'\n        ) {\n            fig.imageObj.src = evt.data;\n            fig.updated_canvas_event();\n            fig.waiting = false;\n            return;\n        }\n\n        var msg = JSON.parse(evt.data);\n        var msg_type = msg['type'];\n\n        // Call the  \"handle_{type}\" callback, which takes\n        // the figure and JSON message as its only arguments.\n        try {\n            var callback = fig['handle_' + msg_type];\n        } catch (e) {\n            console.log(\n                \"No handler for the '\" + msg_type + \"' message type: \",\n                msg\n            );\n            return;\n        }\n\n        if (callback) {\n            try {\n                // console.log(\"Handling '\" + msg_type + \"' message: \", msg);\n                callback(fig, msg);\n            } catch (e) {\n                console.log(\n                    \"Exception inside the 'handler_\" + msg_type + \"' callback:\",\n                    e,\n                    e.stack,\n                    msg\n                );\n            }\n        }\n    };\n};\n\nfunction getModifiers(event) {\n    var mods = [];\n    if (event.ctrlKey) {\n        mods.push('ctrl');\n    }\n    if (event.altKey) {\n        mods.push('alt');\n    }\n    if (event.shiftKey) {\n        mods.push('shift');\n    }\n    if (event.metaKey) {\n        mods.push('meta');\n    }\n    return mods;\n}\n\n/*\n * return a copy of an object with only non-object keys\n * we need this to avoid circular references\n * https://stackoverflow.com/a/24161582/3208463\n */\nfunction simpleKeys(original) {\n    return Object.keys(original).reduce(function (obj, key) {\n        if (typeof original[key] !== 'object') {\n            obj[key] = original[key];\n        }\n        return obj;\n    }, {});\n}\n\nmpl.figure.prototype.mouse_event = function (event, name) {\n    if (name === 'button_press') {\n        this.canvas.focus();\n        this.canvas_div.focus();\n    }\n\n    // from https://stackoverflow.com/q/1114465\n    var boundingRect = this.canvas.getBoundingClientRect();\n    var x = (event.clientX - boundingRect.left) * this.ratio;\n    var y = (event.clientY - boundingRect.top) * this.ratio;\n\n    this.send_message(name, {\n        x: x,\n        y: y,\n        button: event.button,\n        step: event.step,\n        modifiers: getModifiers(event),\n        guiEvent: simpleKeys(event),\n    });\n\n    return false;\n};\n\nmpl.figure.prototype._key_event_extra = function (_event, _name) {\n    // Handle any extra behaviour associated with a key event\n};\n\nmpl.figure.prototype.key_event = function (event, name) {\n    // Prevent repeat events\n    if (name === 'key_press') {\n        if (event.key === this._key) {\n            return;\n        } else {\n            this._key = event.key;\n        }\n    }\n    if (name === 'key_release') {\n        this._key = null;\n    }\n\n    var value = '';\n    if (event.ctrlKey && event.key !== 'Control') {\n        value += 'ctrl+';\n    }\n    else if (event.altKey && event.key !== 'Alt') {\n        value += 'alt+';\n    }\n    else if (event.shiftKey && event.key !== 'Shift') {\n        value += 'shift+';\n    }\n\n    value += 'k' + event.key;\n\n    this._key_event_extra(event, name);\n\n    this.send_message(name, { key: value, guiEvent: simpleKeys(event) });\n    return false;\n};\n\nmpl.figure.prototype.toolbar_button_onclick = function (name) {\n    if (name === 'download') {\n        this.handle_save(this, null);\n    } else {\n        this.send_message('toolbar_button', { name: name });\n    }\n};\n\nmpl.figure.prototype.toolbar_button_onmouseover = function (tooltip) {\n    this.message.textContent = tooltip;\n};\n\n///////////////// REMAINING CONTENT GENERATED BY embed_js.py /////////////////\n// prettier-ignore\nvar _JSXTOOLS_RESIZE_OBSERVER=function(A){var t,i=new WeakMap,n=new WeakMap,a=new WeakMap,r=new WeakMap,o=new Set;function s(e){if(!(this instanceof s))throw new TypeError(\"Constructor requires 'new' operator\");i.set(this,e)}function h(){throw new TypeError(\"Function is not a constructor\")}function c(e,t,i,n){e=0 in arguments?Number(arguments[0]):0,t=1 in arguments?Number(arguments[1]):0,i=2 in arguments?Number(arguments[2]):0,n=3 in arguments?Number(arguments[3]):0,this.right=(this.x=this.left=e)+(this.width=i),this.bottom=(this.y=this.top=t)+(this.height=n),Object.freeze(this)}function d(){t=requestAnimationFrame(d);var s=new WeakMap,p=new Set;o.forEach((function(t){r.get(t).forEach((function(i){var r=t instanceof window.SVGElement,o=a.get(t),d=r?0:parseFloat(o.paddingTop),f=r?0:parseFloat(o.paddingRight),l=r?0:parseFloat(o.paddingBottom),u=r?0:parseFloat(o.paddingLeft),g=r?0:parseFloat(o.borderTopWidth),m=r?0:parseFloat(o.borderRightWidth),w=r?0:parseFloat(o.borderBottomWidth),b=u+f,F=d+l,v=(r?0:parseFloat(o.borderLeftWidth))+m,W=g+w,y=r?0:t.offsetHeight-W-t.clientHeight,E=r?0:t.offsetWidth-v-t.clientWidth,R=b+v,z=F+W,M=r?t.width:parseFloat(o.width)-R-E,O=r?t.height:parseFloat(o.height)-z-y;if(n.has(t)){var k=n.get(t);if(k[0]===M&&k[1]===O)return}n.set(t,[M,O]);var S=Object.create(h.prototype);S.target=t,S.contentRect=new c(u,d,M,O),s.has(i)||(s.set(i,[]),p.add(i)),s.get(i).push(S)}))})),p.forEach((function(e){i.get(e).call(e,s.get(e),e)}))}return s.prototype.observe=function(i){if(i instanceof window.Element){r.has(i)||(r.set(i,new Set),o.add(i),a.set(i,window.getComputedStyle(i)));var n=r.get(i);n.has(this)||n.add(this),cancelAnimationFrame(t),t=requestAnimationFrame(d)}},s.prototype.unobserve=function(i){if(i instanceof window.Element&&r.has(i)){var n=r.get(i);n.has(this)&&(n.delete(this),n.size||(r.delete(i),o.delete(i))),n.size||r.delete(i),o.size||cancelAnimationFrame(t)}},A.DOMRectReadOnly=c,A.ResizeObserver=s,A.ResizeObserverEntry=h,A}; // eslint-disable-line\nmpl.toolbar_items = [[\"Home\", \"Reset original view\", \"fa fa-home\", \"home\"], [\"Back\", \"Back to previous view\", \"fa fa-arrow-left\", \"back\"], [\"Forward\", \"Forward to next view\", \"fa fa-arrow-right\", \"forward\"], [\"\", \"\", \"\", \"\"], [\"Pan\", \"Left button pans, Right button zooms\\nx/y fixes axis, CTRL fixes aspect\", \"fa fa-arrows\", \"pan\"], [\"Zoom\", \"Zoom to rectangle\\nx/y fixes axis\", \"fa fa-square-o\", \"zoom\"], [\"\", \"\", \"\", \"\"], [\"Download\", \"Download plot\", \"fa fa-floppy-o\", \"download\"]];\n\nmpl.extensions = [\"eps\", \"jpeg\", \"pgf\", \"pdf\", \"png\", \"ps\", \"raw\", \"svg\", \"tif\", \"webp\"];\n\nmpl.default_extension = \"png\";/* global mpl */\n\nvar comm_websocket_adapter = function (comm) {\n    // Create a \"websocket\"-like object which calls the given IPython comm\n    // object with the appropriate methods. Currently this is a non binary\n    // socket, so there is still some room for performance tuning.\n    var ws = {};\n\n    ws.binaryType = comm.kernel.ws.binaryType;\n    ws.readyState = comm.kernel.ws.readyState;\n    function updateReadyState(_event) {\n        if (comm.kernel.ws) {\n            ws.readyState = comm.kernel.ws.readyState;\n        } else {\n            ws.readyState = 3; // Closed state.\n        }\n    }\n    comm.kernel.ws.addEventListener('open', updateReadyState);\n    comm.kernel.ws.addEventListener('close', updateReadyState);\n    comm.kernel.ws.addEventListener('error', updateReadyState);\n\n    ws.close = function () {\n        comm.close();\n    };\n    ws.send = function (m) {\n        //console.log('sending', m);\n        comm.send(m);\n    };\n    // Register the callback with on_msg.\n    comm.on_msg(function (msg) {\n        //console.log('receiving', msg['content']['data'], msg);\n        var data = msg['content']['data'];\n        if (data['blob'] !== undefined) {\n            data = {\n                data: new Blob(msg['buffers'], { type: data['blob'] }),\n            };\n        }\n        // Pass the mpl event to the overridden (by mpl) onmessage function.\n        ws.onmessage(data);\n    });\n    return ws;\n};\n\nmpl.mpl_figure_comm = function (comm, msg) {\n    // This is the function which gets called when the mpl process\n    // starts-up an IPython Comm through the \"matplotlib\" channel.\n\n    var id = msg.content.data.id;\n    // Get hold of the div created by the display call when the Comm\n    // socket was opened in Python.\n    var element = document.getElementById(id);\n    var ws_proxy = comm_websocket_adapter(comm);\n\n    function ondownload(figure, _format) {\n        window.open(figure.canvas.toDataURL());\n    }\n\n    var fig = new mpl.figure(id, ws_proxy, ondownload, element);\n\n    // Call onopen now - mpl needs it, as it is assuming we've passed it a real\n    // web socket which is closed, not our websocket->open comm proxy.\n    ws_proxy.onopen();\n\n    fig.parent_element = element;\n    fig.cell_info = mpl.find_output_cell(\"<div id='\" + id + \"'></div>\");\n    if (!fig.cell_info) {\n        console.error('Failed to find cell for figure', id, fig);\n        return;\n    }\n    fig.cell_info[0].output_area.element.on(\n        'cleared',\n        { fig: fig },\n        fig._remove_fig_handler\n    );\n};\n\nmpl.figure.prototype.handle_close = function (fig, msg) {\n    var width = fig.canvas.width / fig.ratio;\n    fig.cell_info[0].output_area.element.off(\n        'cleared',\n        fig._remove_fig_handler\n    );\n    fig.resizeObserverInstance.unobserve(fig.canvas_div);\n\n    // Update the output cell to use the data from the current canvas.\n    fig.push_to_output();\n    var dataURL = fig.canvas.toDataURL();\n    // Re-enable the keyboard manager in IPython - without this line, in FF,\n    // the notebook keyboard shortcuts fail.\n    IPython.keyboard_manager.enable();\n    fig.parent_element.innerHTML =\n        '<img src=\"' + dataURL + '\" width=\"' + width + '\">';\n    fig.close_ws(fig, msg);\n};\n\nmpl.figure.prototype.close_ws = function (fig, msg) {\n    fig.send_message('closing', msg);\n    // fig.ws.close()\n};\n\nmpl.figure.prototype.push_to_output = function (_remove_interactive) {\n    // Turn the data on the canvas into data in the output cell.\n    var width = this.canvas.width / this.ratio;\n    var dataURL = this.canvas.toDataURL();\n    this.cell_info[1]['text/html'] =\n        '<img src=\"' + dataURL + '\" width=\"' + width + '\">';\n};\n\nmpl.figure.prototype.updated_canvas_event = function () {\n    // Tell IPython that the notebook contents must change.\n    IPython.notebook.set_dirty(true);\n    this.send_message('ack', {});\n    var fig = this;\n    // Wait a second, then push the new image to the DOM so\n    // that it is saved nicely (might be nice to debounce this).\n    setTimeout(function () {\n        fig.push_to_output();\n    }, 1000);\n};\n\nmpl.figure.prototype._init_toolbar = function () {\n    var fig = this;\n\n    var toolbar = document.createElement('div');\n    toolbar.classList = 'btn-toolbar';\n    this.root.appendChild(toolbar);\n\n    function on_click_closure(name) {\n        return function (_event) {\n            return fig.toolbar_button_onclick(name);\n        };\n    }\n\n    function on_mouseover_closure(tooltip) {\n        return function (event) {\n            if (!event.currentTarget.disabled) {\n                return fig.toolbar_button_onmouseover(tooltip);\n            }\n        };\n    }\n\n    fig.buttons = {};\n    var buttonGroup = document.createElement('div');\n    buttonGroup.classList = 'btn-group';\n    var button;\n    for (var toolbar_ind in mpl.toolbar_items) {\n        var name = mpl.toolbar_items[toolbar_ind][0];\n        var tooltip = mpl.toolbar_items[toolbar_ind][1];\n        var image = mpl.toolbar_items[toolbar_ind][2];\n        var method_name = mpl.toolbar_items[toolbar_ind][3];\n\n        if (!name) {\n            /* Instead of a spacer, we start a new button group. */\n            if (buttonGroup.hasChildNodes()) {\n                toolbar.appendChild(buttonGroup);\n            }\n            buttonGroup = document.createElement('div');\n            buttonGroup.classList = 'btn-group';\n            continue;\n        }\n\n        button = fig.buttons[name] = document.createElement('button');\n        button.classList = 'btn btn-default';\n        button.href = '#';\n        button.title = name;\n        button.innerHTML = '<i class=\"fa ' + image + ' fa-lg\"></i>';\n        button.addEventListener('click', on_click_closure(method_name));\n        button.addEventListener('mouseover', on_mouseover_closure(tooltip));\n        buttonGroup.appendChild(button);\n    }\n\n    if (buttonGroup.hasChildNodes()) {\n        toolbar.appendChild(buttonGroup);\n    }\n\n    // Add the status bar.\n    var status_bar = document.createElement('span');\n    status_bar.classList = 'mpl-message pull-right';\n    toolbar.appendChild(status_bar);\n    this.message = status_bar;\n\n    // Add the close button to the window.\n    var buttongrp = document.createElement('div');\n    buttongrp.classList = 'btn-group inline pull-right';\n    button = document.createElement('button');\n    button.classList = 'btn btn-mini btn-primary';\n    button.href = '#';\n    button.title = 'Stop Interaction';\n    button.innerHTML = '<i class=\"fa fa-power-off icon-remove icon-large\"></i>';\n    button.addEventListener('click', function (_evt) {\n        fig.handle_close(fig, {});\n    });\n    button.addEventListener(\n        'mouseover',\n        on_mouseover_closure('Stop Interaction')\n    );\n    buttongrp.appendChild(button);\n    var titlebar = this.root.querySelector('.ui-dialog-titlebar');\n    titlebar.insertBefore(buttongrp, titlebar.firstChild);\n};\n\nmpl.figure.prototype._remove_fig_handler = function (event) {\n    var fig = event.data.fig;\n    if (event.target !== this) {\n        // Ignore bubbled events from children.\n        return;\n    }\n    fig.close_ws(fig, {});\n};\n\nmpl.figure.prototype._root_extra_style = function (el) {\n    el.style.boxSizing = 'content-box'; // override notebook setting of border-box.\n};\n\nmpl.figure.prototype._canvas_extra_style = function (el) {\n    // this is important to make the div 'focusable\n    el.setAttribute('tabindex', 0);\n    // reach out to IPython and tell the keyboard manager to turn it's self\n    // off when our div gets focus\n\n    // location in version 3\n    if (IPython.notebook.keyboard_manager) {\n        IPython.notebook.keyboard_manager.register_events(el);\n    } else {\n        // location in version 2\n        IPython.keyboard_manager.register_events(el);\n    }\n};\n\nmpl.figure.prototype._key_event_extra = function (event, _name) {\n    // Check for shift+enter\n    if (event.shiftKey && event.which === 13) {\n        this.canvas_div.blur();\n        // select the cell after this one\n        var index = IPython.notebook.find_cell_index(this.cell_info[0]);\n        IPython.notebook.select(index + 1);\n    }\n};\n\nmpl.figure.prototype.handle_save = function (fig, _msg) {\n    fig.ondownload(fig, null);\n};\n\nmpl.find_output_cell = function (html_output) {\n    // Return the cell and output element which can be found *uniquely* in the notebook.\n    // Note - this is a bit hacky, but it is done because the \"notebook_saving.Notebook\"\n    // IPython event is triggered only after the cells have been serialised, which for\n    // our purposes (turning an active figure into a static one), is too late.\n    var cells = IPython.notebook.get_cells();\n    var ncells = cells.length;\n    for (var i = 0; i < ncells; i++) {\n        var cell = cells[i];\n        if (cell.cell_type === 'code') {\n            for (var j = 0; j < cell.output_area.outputs.length; j++) {\n                var data = cell.output_area.outputs[j];\n                if (data.data) {\n                    // IPython >= 3 moved mimebundle to data attribute of output\n                    data = data.data;\n                }\n                if (data['text/html'] === html_output) {\n                    return [cell, data, j];\n                }\n            }\n        }\n    }\n};\n\n// Register the function which deals with the matplotlib target/channel.\n// The kernel may be null if the page has been refreshed.\nif (IPython.notebook.kernel !== null) {\n    IPython.notebook.kernel.comm_manager.register_target(\n        'matplotlib',\n        mpl.mpl_figure_comm\n    );\n}\n"
     },
     "metadata": {},
     "output_type": "display_data"
    },
    {
     "data": {
      "text/plain": "<IPython.core.display.HTML object>",
      "text/html": "<div id='318749e2-5aa7-46fb-aa85-39d7bc4d3846'></div>"
     },
     "metadata": {},
     "output_type": "display_data"
    }
   ],
   "source": [
    "from gnn_tracking.analysis.edge_classification import ThresholdTrackInfoPlot\n",
    "%matplotlib notebook\n",
    "ttip = ThresholdTrackInfoPlot(df)\n",
    "ttip.plot()"
   ],
   "metadata": {
    "collapsed": false
   }
  },
  {
   "cell_type": "code",
   "execution_count": 39,
   "outputs": [],
   "source": [
    "from sklearn.manifold import TSNE\n",
    "import torch\n",
    "\n",
    "%aimport gnn_tracking\n",
    "%aimport gnn_tracking.analysis.latent\n",
    "import gnn_tracking\n",
    "import gnn_tracking.analysis\n",
    "import gnn_tracking.analysis.latent\n",
    "from gnn_tracking.analysis.latent import SelectedPidsPlot"
   ],
   "metadata": {
    "collapsed": false
   }
  },
  {
   "cell_type": "code",
   "execution_count": 122,
   "outputs": [],
   "source": [
    "def get_spp_input(trainer, idx):\n",
    "    data = trainer.val_loader.dataset[idx]\n",
    "    trainer.model.eval()\n",
    "    with torch.no_grad():\n",
    "        model_output = trainer.evaluate_model(data)\n",
    "    x = model_output[\"x\"]\n",
    "    pid = model_output[\"particle_id\"]\n",
    "    labels = dbscan(x)\n",
    "    x_tsne = TSNE(n_components=2, learning_rate='auto', init='random', perplexity=3).fit_transform(x)\n",
    "    return {\n",
    "        \"condensation_space\": x[:, :2],\n",
    "        \"particle_id\": pid,\n",
    "        \"labels\": torch.Tensor(labels),\n",
    "        \"ec_hit_mask\": model_output[\"ec_hit_mask\"],\n",
    "        \"input_node_features\": data.x,\n",
    "    }, data"
   ],
   "metadata": {
    "collapsed": false
   }
  },
  {
   "cell_type": "code",
   "execution_count": 123,
   "outputs": [],
   "source": [
    "spp_input, data = get_spp_input(trainable.trainer, 0)"
   ],
   "metadata": {
    "collapsed": false
   }
  },
  {
   "cell_type": "code",
   "execution_count": 130,
   "outputs": [
    {
     "data": {
      "text/plain": "0                     153\n549442178196176896     17\n621502589732651008     15\n409832788770947072     15\n648522538229432320     15\n                     ... \n607988492315656192      1\n22524182906544130       1\n364792119589613570      1\n837674959546359810      1\n49542138521714688       1\nLength: 466, dtype: int64"
     },
     "execution_count": 130,
     "metadata": {},
     "output_type": "execute_result"
    }
   ],
   "source": [
    "import pandas as pd\n",
    "pd.Series(data.particle_id).value_counts()"
   ],
   "metadata": {
    "collapsed": false
   }
  },
  {
   "cell_type": "code",
   "execution_count": 139,
   "outputs": [],
   "source": [
    "random_pids = np.random.choice(spp_input[\"particle_id\"][(spp_input[\"particle_id\"] > 0) & (data.pt > 0.9)], 7, replace=False)"
   ],
   "metadata": {
    "collapsed": false
   }
  },
  {
   "cell_type": "code",
   "execution_count": 131,
   "outputs": [
    {
     "data": {
      "text/plain": "array([806146738481004544, 553943441361338368,                  0,\n       806146738481004544, 553943441361338368, 306251990206251008,\n       607993027801120768])"
     },
     "execution_count": 131,
     "metadata": {},
     "output_type": "execute_result"
    }
   ],
   "source": [
    "random_pids"
   ],
   "metadata": {
    "collapsed": false
   }
  },
  {
   "cell_type": "code",
   "execution_count": 142,
   "outputs": [
    {
     "data": {
      "text/plain": "<Figure size 640x480 with 1 Axes>",
      "image/png": "[encoded data removed]"
     },
     "metadata": {},
     "output_type": "display_data"
    }
   ],
   "source": [
    "%matplotlib inline\n",
    "fig, ax = plt.subplots()\n",
    "for i in range(8):\n",
    "    ax.scatter([i], [i])"
   ],
   "metadata": {
    "collapsed": false
   }
  },
  {
   "cell_type": "code",
   "execution_count": 140,
   "outputs": [
    {
     "data": {
      "text/plain": "<Figure size 1000x500 with 2 Axes>",
      "image/png": "[encoded data removed]"
     },
     "metadata": {},
     "output_type": "display_data"
    }
   ],
   "source": [
    "spp = SelectedPidsPlot(**spp_input, selected_pids=torch.Tensor(random_pids))\n",
    "fig, axs = plt.subplots(ncols=2, figsize=(10, 5))\n",
    "spp.plot_other_hit_latent(axs[0])\n",
    "spp.plot_selected_pid_latent(axs[0])\n",
    "spp.plot_collateral_latent(axs[0])\n",
    "spp.plot_other_hit_ep(axs[1])\n",
    "spp.plot_selected_pid_ep(axs[1])\n",
    "spp.plot_collateral_ep(axs[1])"
   ],
   "metadata": {
    "collapsed": false
   }
  },
  {
   "cell_type": "code",
   "execution_count": 103,
   "outputs": [],
   "source": [
    "from gnn_tracking.analysis.graphs import get_track_graph_info_from_data\n",
    "\n",
    "tgi_df = get_track_graph_info_from_data(data, trainable.trainer.model._gtcn.ec(data)[\"W\"], threshold=trainable.trainer.model._gtcn.threshold)"
   ],
   "metadata": {
    "collapsed": false
   }
  },
  {
   "cell_type": "code",
   "execution_count": 104,
   "outputs": [
    {
     "data": {
      "text/plain": "                    n_hits  n_segments  n_hits_largest_segment  \\\npid                                                              \n4521535410798592        11           1                      11   \n4532942843936768         1           1                       1   \n9012490654449664         4           2                       3   \n9036748629737472         9           1                       9   \n22521571549642752        5           1                       5   \n...                    ...         ...                     ...   \n774619616944062464       1           1                       1   \n806146738481004544      14           1                      14   \n837679701173469184       3           3                       1   \n842173886232526848       3           3                       1   \n842174229829910528       3           1                       3   \n\n                    distance_largest_segments  n_hits_largest_component  \npid                                                                      \n4521535410798592                          0.0                        11  \n4532942843936768                          0.0                         1  \n9012490654449664                          inf                         3  \n9036748629737472                          0.0                         9  \n22521571549642752                         0.0                         5  \n...                                       ...                       ...  \n774619616944062464                        0.0                         1  \n806146738481004544                        0.0                        14  \n837679701173469184                        inf                         1  \n842173886232526848                        inf                         1  \n842174229829910528                        0.0                         3  \n\n[67 rows x 5 columns]",
      "text/html": "<div>\n<style scoped>\n    .dataframe tbody tr th:only-of-type {\n        vertical-align: middle;\n    }\n\n    .dataframe tbody tr th {\n        vertical-align: top;\n    }\n\n    .dataframe thead th {\n        text-align: right;\n    }\n</style>\n<table border=\"1\" class=\"dataframe\">\n  <thead>\n    <tr style=\"text-align: right;\">\n      <th></th>\n      <th>n_hits</th>\n      <th>n_segments</th>\n      <th>n_hits_largest_segment</th>\n      <th>distance_largest_segments</th>\n      <th>n_hits_largest_component</th>\n    </tr>\n    <tr>\n      <th>pid</th>\n      <th></th>\n      <th></th>\n      <th></th>\n      <th></th>\n      <th></th>\n    </tr>\n  </thead>\n  <tbody>\n    <tr>\n      <th>4521535410798592</th>\n      <td>11</td>\n      <td>1</td>\n      <td>11</td>\n      <td>0.0</td>\n      <td>11</td>\n    </tr>\n    <tr>\n      <th>4532942843936768</th>\n      <td>1</td>\n      <td>1</td>\n      <td>1</td>\n      <td>0.0</td>\n      <td>1</td>\n    </tr>\n    <tr>\n      <th>9012490654449664</th>\n      <td>4</td>\n      <td>2</td>\n      <td>3</td>\n      <td>inf</td>\n      <td>3</td>\n    </tr>\n    <tr>\n      <th>9036748629737472</th>\n      <td>9</td>\n      <td>1</td>\n      <td>9</td>\n      <td>0.0</td>\n      <td>9</td>\n    </tr>\n    <tr>\n      <th>22521571549642752</th>\n      <td>5</td>\n      <td>1</td>\n      <td>5</td>\n      <td>0.0</td>\n      <td>5</td>\n    </tr>\n    <tr>\n      <th>...</th>\n      <td>...</td>\n      <td>...</td>\n      <td>...</td>\n      <td>...</td>\n      <td>...</td>\n    </tr>\n    <tr>\n      <th>774619616944062464</th>\n      <td>1</td>\n      <td>1</td>\n      <td>1</td>\n      <td>0.0</td>\n      <td>1</td>\n    </tr>\n    <tr>\n      <th>806146738481004544</th>\n      <td>14</td>\n      <td>1</td>\n      <td>14</td>\n      <td>0.0</td>\n      <td>14</td>\n    </tr>\n    <tr>\n      <th>837679701173469184</th>\n      <td>3</td>\n      <td>3</td>\n      <td>1</td>\n      <td>inf</td>\n      <td>1</td>\n    </tr>\n    <tr>\n      <th>842173886232526848</th>\n      <td>3</td>\n      <td>3</td>\n      <td>1</td>\n      <td>inf</td>\n      <td>1</td>\n    </tr>\n    <tr>\n      <th>842174229829910528</th>\n      <td>3</td>\n      <td>1</td>\n      <td>3</td>\n      <td>0.0</td>\n      <td>3</td>\n    </tr>\n  </tbody>\n</table>\n<p>67 rows × 5 columns</p>\n</div>"
     },
     "execution_count": 104,
     "metadata": {},
     "output_type": "execute_result"
    }
   ],
   "source": [
    "tgi_df.set_index(\"pid\")"
   ],
   "metadata": {
    "collapsed": false
   }
  },
  {
   "cell_type": "code",
   "execution_count": 110,
   "outputs": [
    {
     "ename": "KeyError",
     "evalue": "4532942843936768",
     "output_type": "error",
     "traceback": [
      "\u001B[0;31m---------------------------------------------------------------------------\u001B[0m",
      "\u001B[0;31mValueError\u001B[0m                                Traceback (most recent call last)",
      "File \u001B[0;32m/scratch/gpfs/kl5675/micromamba/envs/gnn/lib/python3.10/site-packages/pandas/core/indexes/range.py:391\u001B[0m, in \u001B[0;36mRangeIndex.get_loc\u001B[0;34m(self, key, method, tolerance)\u001B[0m\n\u001B[1;32m    390\u001B[0m \u001B[38;5;28;01mtry\u001B[39;00m:\n\u001B[0;32m--> 391\u001B[0m     \u001B[38;5;28;01mreturn\u001B[39;00m \u001B[38;5;28;43mself\u001B[39;49m\u001B[38;5;241;43m.\u001B[39;49m\u001B[43m_range\u001B[49m\u001B[38;5;241;43m.\u001B[39;49m\u001B[43mindex\u001B[49m\u001B[43m(\u001B[49m\u001B[43mnew_key\u001B[49m\u001B[43m)\u001B[49m\n\u001B[1;32m    392\u001B[0m \u001B[38;5;28;01mexcept\u001B[39;00m \u001B[38;5;167;01mValueError\u001B[39;00m \u001B[38;5;28;01mas\u001B[39;00m err:\n",
      "\u001B[0;31mValueError\u001B[0m: 4532942843936768 is not in range",
      "\nThe above exception was the direct cause of the following exception:\n",
      "\u001B[0;31mKeyError\u001B[0m                                  Traceback (most recent call last)",
      "Cell \u001B[0;32mIn[110], line 1\u001B[0m\n\u001B[0;32m----> 1\u001B[0m \u001B[43mtgi_df\u001B[49m\u001B[38;5;241;43m.\u001B[39;49m\u001B[43mloc\u001B[49m\u001B[43m[\u001B[49m\u001B[38;5;241;43m4532942843936768\u001B[39;49m\u001B[43m]\u001B[49m\n",
      "File \u001B[0;32m/scratch/gpfs/kl5675/micromamba/envs/gnn/lib/python3.10/site-packages/pandas/core/indexing.py:1073\u001B[0m, in \u001B[0;36m_LocationIndexer.__getitem__\u001B[0;34m(self, key)\u001B[0m\n\u001B[1;32m   1070\u001B[0m axis \u001B[38;5;241m=\u001B[39m \u001B[38;5;28mself\u001B[39m\u001B[38;5;241m.\u001B[39maxis \u001B[38;5;129;01mor\u001B[39;00m \u001B[38;5;241m0\u001B[39m\n\u001B[1;32m   1072\u001B[0m maybe_callable \u001B[38;5;241m=\u001B[39m com\u001B[38;5;241m.\u001B[39mapply_if_callable(key, \u001B[38;5;28mself\u001B[39m\u001B[38;5;241m.\u001B[39mobj)\n\u001B[0;32m-> 1073\u001B[0m \u001B[38;5;28;01mreturn\u001B[39;00m \u001B[38;5;28;43mself\u001B[39;49m\u001B[38;5;241;43m.\u001B[39;49m\u001B[43m_getitem_axis\u001B[49m\u001B[43m(\u001B[49m\u001B[43mmaybe_callable\u001B[49m\u001B[43m,\u001B[49m\u001B[43m \u001B[49m\u001B[43maxis\u001B[49m\u001B[38;5;241;43m=\u001B[39;49m\u001B[43maxis\u001B[49m\u001B[43m)\u001B[49m\n",
      "File \u001B[0;32m/scratch/gpfs/kl5675/micromamba/envs/gnn/lib/python3.10/site-packages/pandas/core/indexing.py:1312\u001B[0m, in \u001B[0;36m_LocIndexer._getitem_axis\u001B[0;34m(self, key, axis)\u001B[0m\n\u001B[1;32m   1310\u001B[0m \u001B[38;5;66;03m# fall thru to straight lookup\u001B[39;00m\n\u001B[1;32m   1311\u001B[0m \u001B[38;5;28mself\u001B[39m\u001B[38;5;241m.\u001B[39m_validate_key(key, axis)\n\u001B[0;32m-> 1312\u001B[0m \u001B[38;5;28;01mreturn\u001B[39;00m \u001B[38;5;28;43mself\u001B[39;49m\u001B[38;5;241;43m.\u001B[39;49m\u001B[43m_get_label\u001B[49m\u001B[43m(\u001B[49m\u001B[43mkey\u001B[49m\u001B[43m,\u001B[49m\u001B[43m \u001B[49m\u001B[43maxis\u001B[49m\u001B[38;5;241;43m=\u001B[39;49m\u001B[43maxis\u001B[49m\u001B[43m)\u001B[49m\n",
      "File \u001B[0;32m/scratch/gpfs/kl5675/micromamba/envs/gnn/lib/python3.10/site-packages/pandas/core/indexing.py:1260\u001B[0m, in \u001B[0;36m_LocIndexer._get_label\u001B[0;34m(self, label, axis)\u001B[0m\n\u001B[1;32m   1258\u001B[0m \u001B[38;5;28;01mdef\u001B[39;00m \u001B[38;5;21m_get_label\u001B[39m(\u001B[38;5;28mself\u001B[39m, label, axis: \u001B[38;5;28mint\u001B[39m):\n\u001B[1;32m   1259\u001B[0m     \u001B[38;5;66;03m# GH#5567 this will fail if the label is not present in the axis.\u001B[39;00m\n\u001B[0;32m-> 1260\u001B[0m     \u001B[38;5;28;01mreturn\u001B[39;00m \u001B[38;5;28;43mself\u001B[39;49m\u001B[38;5;241;43m.\u001B[39;49m\u001B[43mobj\u001B[49m\u001B[38;5;241;43m.\u001B[39;49m\u001B[43mxs\u001B[49m\u001B[43m(\u001B[49m\u001B[43mlabel\u001B[49m\u001B[43m,\u001B[49m\u001B[43m \u001B[49m\u001B[43maxis\u001B[49m\u001B[38;5;241;43m=\u001B[39;49m\u001B[43maxis\u001B[49m\u001B[43m)\u001B[49m\n",
      "File \u001B[0;32m/scratch/gpfs/kl5675/micromamba/envs/gnn/lib/python3.10/site-packages/pandas/core/generic.py:4056\u001B[0m, in \u001B[0;36mNDFrame.xs\u001B[0;34m(self, key, axis, level, drop_level)\u001B[0m\n\u001B[1;32m   4054\u001B[0m             new_index \u001B[38;5;241m=\u001B[39m index[loc]\n\u001B[1;32m   4055\u001B[0m \u001B[38;5;28;01melse\u001B[39;00m:\n\u001B[0;32m-> 4056\u001B[0m     loc \u001B[38;5;241m=\u001B[39m \u001B[43mindex\u001B[49m\u001B[38;5;241;43m.\u001B[39;49m\u001B[43mget_loc\u001B[49m\u001B[43m(\u001B[49m\u001B[43mkey\u001B[49m\u001B[43m)\u001B[49m\n\u001B[1;32m   4058\u001B[0m     \u001B[38;5;28;01mif\u001B[39;00m \u001B[38;5;28misinstance\u001B[39m(loc, np\u001B[38;5;241m.\u001B[39mndarray):\n\u001B[1;32m   4059\u001B[0m         \u001B[38;5;28;01mif\u001B[39;00m loc\u001B[38;5;241m.\u001B[39mdtype \u001B[38;5;241m==\u001B[39m np\u001B[38;5;241m.\u001B[39mbool_:\n",
      "File \u001B[0;32m/scratch/gpfs/kl5675/micromamba/envs/gnn/lib/python3.10/site-packages/pandas/core/indexes/range.py:393\u001B[0m, in \u001B[0;36mRangeIndex.get_loc\u001B[0;34m(self, key, method, tolerance)\u001B[0m\n\u001B[1;32m    391\u001B[0m         \u001B[38;5;28;01mreturn\u001B[39;00m \u001B[38;5;28mself\u001B[39m\u001B[38;5;241m.\u001B[39m_range\u001B[38;5;241m.\u001B[39mindex(new_key)\n\u001B[1;32m    392\u001B[0m     \u001B[38;5;28;01mexcept\u001B[39;00m \u001B[38;5;167;01mValueError\u001B[39;00m \u001B[38;5;28;01mas\u001B[39;00m err:\n\u001B[0;32m--> 393\u001B[0m         \u001B[38;5;28;01mraise\u001B[39;00m \u001B[38;5;167;01mKeyError\u001B[39;00m(key) \u001B[38;5;28;01mfrom\u001B[39;00m \u001B[38;5;21;01merr\u001B[39;00m\n\u001B[1;32m    394\u001B[0m \u001B[38;5;28mself\u001B[39m\u001B[38;5;241m.\u001B[39m_check_indexing_error(key)\n\u001B[1;32m    395\u001B[0m \u001B[38;5;28;01mraise\u001B[39;00m \u001B[38;5;167;01mKeyError\u001B[39;00m(key)\n",
      "\u001B[0;31mKeyError\u001B[0m: 4532942843936768"
     ]
    }
   ],
   "source": [
    "tgi_df.loc[4532942843936768]"
   ],
   "metadata": {
    "collapsed": false
   }
  },
  {
   "cell_type": "code",
   "execution_count": 106,
   "outputs": [
    {
     "data": {
      "text/plain": "[94577035283791872,\n 409829421516587008,\n 432347076056055808,\n 517915606415048704,\n 72095252311179264,\n 9012490654449664,\n 283737496762712064]"
     },
     "execution_count": 106,
     "metadata": {},
     "output_type": "execute_result"
    }
   ],
   "source": [
    "random_pids.tolist()"
   ],
   "metadata": {
    "collapsed": false
   }
  },
  {
   "cell_type": "code",
   "execution_count": 109,
   "outputs": [
    {
     "data": {
      "text/plain": "True"
     },
     "execution_count": 109,
     "metadata": {},
     "output_type": "execute_result"
    }
   ],
   "source": [
    "4532942843936768 in tgi_df[\"pid\"].to_list()"
   ],
   "metadata": {
    "collapsed": false
   }
  },
  {
   "cell_type": "code",
   "execution_count": null,
   "outputs": [],
   "source": [],
   "metadata": {
    "collapsed": false
   }
  }
 ],
 "metadata": {
  "kernelspec": {
   "display_name": "Python 3",
   "language": "python",
   "name": "python3"
  },
  "language_info": {
   "codemirror_mode": {
    "name": "ipython",
    "version": 2
   },
   "file_extension": ".py",
   "mimetype": "text/x-python",
   "name": "python",
   "nbconvert_exporter": "python",
   "pygments_lexer": "ipython2",
   "version": "2.7.6"
  }
 },
 "nbformat": 4,
 "nbformat_minor": 0
}
