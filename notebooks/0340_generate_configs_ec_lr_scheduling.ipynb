{
 "cells": [
  {
   "cell_type": "markdown",
   "source": [
    "# Generating configs for width 64 model"
   ],
   "metadata": {
    "collapsed": false
   }
  },
  {
   "cell_type": "code",
   "execution_count": 9,
   "metadata": {
    "collapsed": true
   },
   "outputs": [],
   "source": [
    "fixed = {\n",
    "    \"m_L_ec\": 6,\n",
    "    \"sector\": None,\n",
    "    \"ec_loss\": \"haughty_focal\",\n",
    "    \"lw_edge\": 1,\n",
    "    \"m_alpha\": 0.5,\n",
    "    \"adam_eps\": 1e-08,\n",
    "    \"optimizer\": \"adam\",\n",
    "    \"adam_beta1\": 0.9,\n",
    "    \"adam_beta2\": 0.999,\n",
    "    \"batch_size\": 5,\n",
    "    \"ec_pt_thld\": 0.9,\n",
    "    \"edge_indim\": 4,\n",
    "    \"node_indim\": 7,\n",
    "    \"focal_alpha\": 0.3966639332867394,\n",
    "    \"focal_gamma\": 3.9912747796867887,\n",
    "    \"adam_amsgrad\": False,\n",
    "    \"n_graphs_val\": 320,\n",
    "    \"val_data_dir\": \"/scratch/gpfs/IOJALVO/gnn-tracking/object_condensation/graphs_v1/part_9\",\n",
    "    \"n_graphs_train\": 247776,\n",
    "    \"train_data_dir\": [\n",
    "        \"/scratch/gpfs/IOJALVO/gnn-tracking/object_condensation/graphs_v1/part_1\",\n",
    "        \"/scratch/gpfs/IOJALVO/gnn-tracking/object_condensation/graphs_v1/part_2\",\n",
    "        \"/scratch/gpfs/IOJALVO/gnn-tracking/object_condensation/graphs_v1/part_3\",\n",
    "        \"/scratch/gpfs/IOJALVO/gnn-tracking/object_condensation/graphs_v1/part_4\",\n",
    "        \"/scratch/gpfs/IOJALVO/gnn-tracking/object_condensation/graphs_v1/part_5\",\n",
    "        \"/scratch/gpfs/IOJALVO/gnn-tracking/object_condensation/graphs_v1/part_6\",\n",
    "        \"/scratch/gpfs/IOJALVO/gnn-tracking/object_condensation/graphs_v1/part_7\",\n",
    "        \"/scratch/gpfs/IOJALVO/gnn-tracking/object_condensation/graphs_v1/part_8\"\n",
    "    ],\n",
    "    \"m_residual_type\": \"skip1\",\n",
    "    \"adam_weight_decay\": 0,\n",
    "    \"m_use_node_embedding\": True,\n",
    "    \"m_use_intermediate_edge_embeddings\": True,\n",
    "}"
   ]
  },
  {
   "cell_type": "code",
   "execution_count": 10,
   "outputs": [],
   "source": [
    "from itertools import product"
   ],
   "metadata": {
    "collapsed": false
   }
  },
  {
   "cell_type": "code",
   "execution_count": 11,
   "outputs": [],
   "source": [
    "def get_scheduler_config(scheduler, start_lr, end_lr, t_max):\n",
    "    if scheduler == \"cosineannealinglr\":\n",
    "        return {\n",
    "            \"scheduler\": scheduler,\n",
    "            \"cosineannealinglr_T_max\": t_max,\n",
    "            \"lr\": start_lr,\n",
    "            \"cosineannealinglr_eta_min\": end_lr,\n",
    "        }\n",
    "    elif scheduler == \"linearlr\":\n",
    "        return {\n",
    "            \"scheduler\": scheduler,\n",
    "            \"linearlr_total_iters\": t_max,\n",
    "            \"lr\": start_lr,\n",
    "            \"linearlr_start_factor\": 1,\n",
    "            \"linearlr_end_factor\": end_lr / start_lr,\n",
    "        }\n",
    "    else:\n",
    "        raise ValueError(f\"Unknown scheduler {scheduler}\")"
   ],
   "metadata": {
    "collapsed": false
   }
  },
  {
   "cell_type": "code",
   "execution_count": 12,
   "outputs": [],
   "source": [
    "from pathlib import Path\n",
    "import json\n",
    "import random\n",
    "\n",
    "outdir = Path(\"/Users/fuchur/Documents/22/git_sync/gnn_tracking_hpo/config/\")\n",
    "outdir.mkdir(exist_ok=True, parents=True)"
   ],
   "metadata": {
    "collapsed": false
   }
  },
  {
   "cell_type": "code",
   "execution_count": 13,
   "outputs": [],
   "source": [
    "dims = [64]\n",
    "start_lrs = [1e-3, 8e-4]\n",
    "end_lrs = [1e-5, 5e-5]\n",
    "beta1s = [0.9, 0.99]\n",
    "schedulers = [\"cosineannealinglr\"]\n",
    "t_maxs = [50]"
   ],
   "metadata": {
    "collapsed": false
   }
  },
  {
   "cell_type": "code",
   "execution_count": 14,
   "outputs": [
    {
     "name": "stdout",
     "output_type": "stream",
     "text": [
      "Generated 8 configs\n"
     ]
    }
   ],
   "source": [
    "variants = list(product(dims, start_lrs, end_lrs, schedulers, t_maxs, beta1s))\n",
    "random.seed(42)\n",
    "random.shuffle(variants)\n",
    "\n",
    "configs = []\n",
    "for dim, start_lr, end_lr, scheduler, t_max, beta1 in variants:\n",
    "    config = fixed.copy()\n",
    "    config.update(get_scheduler_config(scheduler, start_lr, end_lr, t_max))\n",
    "    config[\"m_interaction_edge_dim\"] = dim\n",
    "    config[\"m_interaction_node_dim\"] = dim\n",
    "    config[\"m_hidden_dim\"] = dim\n",
    "    config[\"adam_beta1\"] = beta1\n",
    "    configs.append(config)\n",
    "print(f\"Generated {len(configs)} configs\")"
   ],
   "metadata": {
    "collapsed": false
   }
  },
  {
   "cell_type": "code",
   "execution_count": 15,
   "outputs": [],
   "source": [
    "for i, config in enumerate(configs, start=65):\n",
    "    with open(outdir / f\"config_{i}.json\", \"w\") as f:\n",
    "        json.dump(config, f, indent=4)"
   ],
   "metadata": {
    "collapsed": false
   }
  },
  {
   "cell_type": "code",
   "execution_count": null,
   "outputs": [],
   "source": [],
   "metadata": {
    "collapsed": false
   }
  }
 ],
 "metadata": {
  "kernelspec": {
   "display_name": "Python 3",
   "language": "python",
   "name": "python3"
  },
  "language_info": {
   "codemirror_mode": {
    "name": "ipython",
    "version": 2
   },
   "file_extension": ".py",
   "mimetype": "text/x-python",
   "name": "python",
   "nbconvert_exporter": "python",
   "pygments_lexer": "ipython2",
   "version": "2.7.6"
  }
 },
 "nbformat": 4,
 "nbformat_minor": 0
}
