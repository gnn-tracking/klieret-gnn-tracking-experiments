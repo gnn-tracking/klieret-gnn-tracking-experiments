{
 "cells": [
  {
   "cell_type": "code",
   "execution_count": null,
   "id": "3f600c81",
   "metadata": {},
   "outputs": [],
   "source": [
    "import sys\n",
    "from pathlib import Path\n",
    "\n",
    "sys.path.append(str(Path(\".\").resolve().parent / \"scripts\"))"
   ]
  },
  {
   "cell_type": "code",
   "execution_count": null,
   "id": "de0ec1da",
   "metadata": {},
   "outputs": [],
   "source": [
    "from tune import TCNTrainable\n",
    "import json"
   ]
  },
  {
   "cell_type": "code",
   "execution_count": null,
   "id": "2ab1a04b",
   "metadata": {},
   "outputs": [],
   "source": [
    "r_basepath = Path(\n",
    "    \"/home/kl5675/ray_results/tcn/TCNTrainable_cb57b007_3_lr=0.0004,lw_background=0.0500,lw_edge=500,lw_potential_attractive=372.8325,lw_potential_repulsive=62.8898_2022-10-03_21-49-33\"\n",
    ")\n",
    "config = json.loads((r_basepath / \"params.json\").read_text())"
   ]
  },
  {
   "cell_type": "code",
   "execution_count": null,
   "id": "f8049f40",
   "metadata": {},
   "outputs": [],
   "source": [
    "trainable = TCNTrainable(config)\n",
    "trainable.load_checkpoint(\n",
    "    r_basepath / \"checkpoint_000020\" / \"checkpoint.pt\", device=\"cpu\"\n",
    ")"
   ]
  },
  {
   "cell_type": "code",
   "execution_count": null,
   "id": "1310f3d1",
   "metadata": {},
   "outputs": [],
   "source": [
    "trainable.trainer.max_batches_for_clustering = 100"
   ]
  },
  {
   "cell_type": "code",
   "execution_count": null,
   "id": "ce87cf00",
   "metadata": {},
   "outputs": [],
   "source": [
    "trainable.trainer.test_step(\n",
    "    pt_thlds=[\n",
    "        0.0,\n",
    "        0.5,\n",
    "        1,\n",
    "        1.5,\n",
    "        2.0,\n",
    "    ]\n",
    ")"
   ]
  },
  {
   "cell_type": "code",
   "execution_count": null,
   "id": "9b70bf36",
   "metadata": {},
   "outputs": [],
   "source": []
  }
 ],
 "metadata": {
  "kernelspec": {
   "display_name": "Python 3 (ipykernel)",
   "language": "python",
   "name": "python3"
  },
  "language_info": {
   "codemirror_mode": {
    "name": "ipython",
    "version": 3
   },
   "file_extension": ".py",
   "mimetype": "text/x-python",
   "name": "python",
   "nbconvert_exporter": "python",
   "pygments_lexer": "ipython3",
   "version": "3.10.0"
  }
 },
 "nbformat": 4,
 "nbformat_minor": 5
}
