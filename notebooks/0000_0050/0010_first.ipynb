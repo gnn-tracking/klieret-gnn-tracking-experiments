{
 "cells": [
  {
   "cell_type": "code",
   "execution_count": null,
   "metadata": {
    "pycharm": {
     "name": "#%%\n"
    }
   },
   "outputs": [],
   "source": [
    "import numpy as np\n",
    "from trackml.dataset import load_event\n",
    "from pathlib import Path"
   ]
  },
  {
   "cell_type": "code",
   "execution_count": null,
   "metadata": {
    "pycharm": {
     "name": "#%%\n"
    }
   },
   "outputs": [],
   "source": [
    "dataset_path = Path(\"/home/kl5675/data/trackml/codalab\")\n",
    "assert dataset_path.is_dir()"
   ]
  },
  {
   "cell_type": "code",
   "execution_count": null,
   "metadata": {
    "pycharm": {
     "name": "#%%\n"
    }
   },
   "outputs": [],
   "source": [
    "hits, cells, particles, truth = load_event(dataset_path / \"event000021100\")"
   ]
  },
  {
   "cell_type": "code",
   "execution_count": null,
   "metadata": {
    "pycharm": {
     "name": "#%%\n"
    }
   },
   "outputs": [],
   "source": [
    "truth[\"pt\"] = np.sqrt(np.square(truth.tpx) + np.square(truth.tpy))"
   ]
  },
  {
   "cell_type": "code",
   "execution_count": null,
   "metadata": {
    "pycharm": {
     "name": "#%%\n"
    }
   },
   "outputs": [],
   "source": [
    "truth[truth.particle_id != 0].pt.hist()"
   ]
  },
  {
   "cell_type": "code",
   "execution_count": null,
   "metadata": {
    "pycharm": {
     "name": "#%%\n"
    }
   },
   "outputs": [],
   "source": [
    "high_momentum = truth.pt > 7"
   ]
  },
  {
   "cell_type": "code",
   "execution_count": null,
   "metadata": {
    "pycharm": {
     "name": "#%%\n"
    }
   },
   "outputs": [],
   "source": [
    "import matplotlib.pyplot as plt"
   ]
  },
  {
   "cell_type": "code",
   "execution_count": null,
   "metadata": {
    "pycharm": {
     "name": "#%%\n"
    }
   },
   "outputs": [],
   "source": [
    "def plot_hits(hits, truth=None, particle_id=None, ax=None):\n",
    "    if len(hits) > 1e6:\n",
    "        hits = hits.sample(1e6)\n",
    "    if ax is None:\n",
    "        _, ax = plt.subplots()\n",
    "    ax.set_aspect(\"equal\")\n",
    "    if truth is None:\n",
    "        ax.scatter(hits.x, hits.y, s=0.1, c=\"k\")\n",
    "    else:\n",
    "        s = np.full(len(hits), False)\n",
    "        if particle_id is not None:\n",
    "            s = truth.particle_id == particle_id\n",
    "            ax.scatter(\"x\", \"y\", s=30, data=hits[s], color=\"green\")\n",
    "        ax.scatter(\"x\", \"y\", s=0.1, data=hits[(truth.particle_id != 0) & (~s)], color=\"blue\")\n",
    "        ax.scatter(\"x\", \"y\", s=0.1, data=hits[truth.particle_id == 0], color=\"red\")\n",
    "    plt.show()"
   ]
  },
  {
   "cell_type": "code",
   "execution_count": null,
   "metadata": {
    "pycharm": {
     "name": "#%%\n"
    }
   },
   "outputs": [],
   "source": [
    "for i in range(1, 10):\n",
    "    plot_hits(hits[high_momentum], truth[high_momentum], particle_id=truth[high_momentum].particle_id.unique()[i].item())"
   ]
  },
  {
   "cell_type": "code",
   "execution_count": null,
   "metadata": {
    "pycharm": {
     "name": "#%%\n"
    }
   },
   "outputs": [],
   "source": []
  }
 ],
 "metadata": {
  "kernelspec": {
   "display_name": "Python 3",
   "language": "python",
   "name": "python3"
  },
  "language_info": {
   "codemirror_mode": {
    "name": "ipython",
    "version": 2
   },
   "file_extension": ".py",
   "mimetype": "text/x-python",
   "name": "python",
   "nbconvert_exporter": "python",
   "pygments_lexer": "ipython2",
   "version": "2.7.6"
  }
 },
 "nbformat": 4,
 "nbformat_minor": 0
}
