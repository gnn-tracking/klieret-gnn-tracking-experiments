{
 "cells": [
  {
   "cell_type": "code",
   "execution_count": null,
   "metadata": {
    "pycharm": {
     "name": "#%%\n"
    }
   },
   "outputs": [],
   "source": [
    "from matplotlib import pyplot as plt\n",
    "\n",
    "%load_ext autoreload\n",
    "%autoreload 2"
   ]
  },
  {
   "cell_type": "code",
   "execution_count": null,
   "metadata": {
    "pycharm": {
     "name": "#%%\n"
    }
   },
   "outputs": [],
   "source": [
    "# from gnn_tracking.postprocessing.clusterscanner import ClusterHyperParamScanner\n",
    "import optuna\n",
    "import numpy as np\n",
    "from sklearn.cluster import DBSCAN\n",
    "\n",
    "from sklearn.datasets import make_blobs\n",
    "\n",
    "from sklearn import metrics"
   ]
  },
  {
   "cell_type": "code",
   "execution_count": null,
   "metadata": {
    "pycharm": {
     "name": "#%%\n"
    }
   },
   "outputs": [],
   "source": [
    "# def gen_sample():\n",
    "#     # n_clusters = np.random.randint(2, 4)\n",
    "#     # centers = np.random.uniform(0, 5, size=(n_clusters, 2))\n",
    "#     # X, labels_true = make_blobs(\n",
    "#     #     n_samples=750, centers=centers, cluster_std=0.4, random_state=0\n",
    "#     # )\n",
    "#     centers = [[1, 1], [-1, -1], [1, -1]]\n",
    "#     X, labels_true = make_blobs(\n",
    "#         n_samples=750, centers=centers, cluster_std=0.4\n",
    "#     )\n",
    "#     return X, labels_true"
   ]
  },
  {
   "cell_type": "code",
   "execution_count": null,
   "metadata": {
    "pycharm": {
     "name": "#%%\n"
    }
   },
   "outputs": [],
   "source": [
    "from pathlib import Path\n",
    "\n",
    "datadir = Path(\"~/data/gnn_tracking/clust\").expanduser()\n",
    "names = [\n",
    "    \"0_0\",\n",
    "    \"1_5\",\n",
    "    \"2_8\",\n",
    "    \"3_9\",\n",
    "    \"4_15\",\n",
    "    \"5_16\",\n",
    "    \"6_20\",\n",
    "    \"7_25\",\n",
    "    \"8_30\",\n",
    "    \"9_31\",\n",
    "]\n",
    "graphs = []\n",
    "truths = []\n",
    "for name in names:\n",
    "    graphs.append(np.load(datadir / f\"{name}.npy\"))\n",
    "    truths.append(np.load(datadir / f\"t_{name}.npy\"))"
   ]
  },
  {
   "cell_type": "code",
   "execution_count": null,
   "metadata": {
    "pycharm": {
     "name": "#%%\n"
    }
   },
   "outputs": [],
   "source": [
    "truths[0].shape"
   ]
  },
  {
   "cell_type": "code",
   "execution_count": null,
   "metadata": {
    "pycharm": {
     "name": "#%%\n"
    }
   },
   "outputs": [],
   "source": [
    "for i in range(10):\n",
    "    plt.scatter(graphs[i][:, 0], graphs[i][:, 1], c=truths[i])\n",
    "    plt.show()"
   ]
  },
  {
   "cell_type": "code",
   "execution_count": null,
   "metadata": {
    "pycharm": {
     "name": "#%%\n"
    }
   },
   "outputs": [],
   "source": [
    "len(np.unique(truths[0]))"
   ]
  },
  {
   "cell_type": "code",
   "execution_count": null,
   "metadata": {
    "pycharm": {
     "name": "#%%\n"
    }
   },
   "outputs": [],
   "source": [
    "len(truths[0])"
   ]
  },
  {
   "cell_type": "code",
   "execution_count": null,
   "metadata": {
    "pycharm": {
     "name": "#%%\n"
    }
   },
   "outputs": [],
   "source": [
    "from abc import ABC, abstractmethod\n",
    "from typing import Callable\n",
    "import pandas as pd\n",
    "\n",
    "\n",
    "def expensive_metric(*, truth, predicted) -> float:\n",
    "    c_id = pd.DataFrame({\"c\": predicted, \"id\": truth})\n",
    "    clusters = c_id.groupby(\"c\")\n",
    "    # majority_pid = clusters['id'].apply(lambda x: x.mode()[0])\n",
    "    majority_counts = clusters[\"id\"].apply(lambda x: sum(x == x.mode()[0]))\n",
    "    majority_fraction = clusters[\"id\"].apply(lambda x: sum(x == x.mode()[0]) / len(x))\n",
    "    h_id = pd.DataFrame({\"hits\": np.ones(len(predicted)), \"id\": truth})\n",
    "    particles = h_id.groupby(\"id\")\n",
    "    nhits = particles[\"hits\"].apply(lambda x: len(x)).to_dict()\n",
    "    majority_hits = clusters[\"id\"].apply(lambda x: x.mode().map(nhits)[0])\n",
    "    # perfect_match = ((majority_hits==majority_counts) &\n",
    "    #                  (majority_fraction > 0.99))\n",
    "    double_majority = ((majority_counts / majority_hits).fillna(0) > 0.5) & (\n",
    "        majority_fraction > 0.5\n",
    "    )\n",
    "    return sum(double_majority) / len(predicted)"
   ]
  },
  {
   "cell_type": "code",
   "execution_count": null,
   "metadata": {
    "pycharm": {
     "name": "#%%\n"
    }
   },
   "outputs": [],
   "source": [
    "from gnn_tracking.postprocessing.clusterscanner import ClusterHyperParamScanner\n",
    "from gnn_tracking.utils.earlystopping import RelEarlyStopper\n",
    "\n",
    "es = RelEarlyStopper(wait=30, grace=50, change_threshold=0.01, direction=\"max\")\n",
    "\n",
    "\n",
    "def dbscan(graph, eps, min_samples):\n",
    "    return DBSCAN(eps=eps, min_samples=min_samples).fit_predict(graph)\n",
    "\n",
    "\n",
    "def cheap_metric(labels, truth):\n",
    "    return metrics.v_measure_score(truth, labels)\n",
    "\n",
    "\n",
    "chps = ClusterHyperParamScanner(\n",
    "    dbscan,\n",
    "    graphs,\n",
    "    truths,\n",
    "    expensive_metric,\n",
    "    cheap_metric=metrics.v_measure_score,\n",
    "    early_stopping=es,\n",
    ")"
   ]
  },
  {
   "cell_type": "code",
   "execution_count": null,
   "metadata": {
    "pycharm": {
     "name": "#%%\n"
    }
   },
   "outputs": [],
   "source": [
    "study = chps.scan(n_trials=10)"
   ]
  },
  {
   "cell_type": "code",
   "execution_count": null,
   "metadata": {
    "pycharm": {
     "name": "#%%\n"
    }
   },
   "outputs": [],
   "source": [
    "from optuna.visualization import plot_contour"
   ]
  },
  {
   "cell_type": "code",
   "execution_count": null,
   "metadata": {
    "pycharm": {
     "name": "#%%\n"
    }
   },
   "outputs": [],
   "source": [
    "study.best_params"
   ]
  },
  {
   "cell_type": "code",
   "execution_count": null,
   "metadata": {
    "pycharm": {
     "name": "#%%\n"
    }
   },
   "outputs": [],
   "source": [
    "plot_contour(study)"
   ]
  },
  {
   "cell_type": "code",
   "execution_count": null,
   "metadata": {
    "pycharm": {
     "name": "#%%\n"
    }
   },
   "outputs": [],
   "source": [
    "from optuna.visualization import plot_slice\n",
    "\n",
    "plot_slice(study)"
   ]
  },
  {
   "cell_type": "code",
   "execution_count": null,
   "metadata": {
    "pycharm": {
     "name": "#%%\n"
    }
   },
   "outputs": [],
   "source": [
    "from optuna.visualization import plot_optimization_history\n",
    "\n",
    "plot_optimization_history(study)"
   ]
  },
  {
   "cell_type": "code",
   "execution_count": null,
   "metadata": {
    "pycharm": {
     "name": "#%%\n"
    }
   },
   "outputs": [],
   "source": []
  }
 ],
 "metadata": {
  "kernelspec": {
   "display_name": "Python 3",
   "language": "python",
   "name": "python3"
  },
  "language_info": {
   "codemirror_mode": {
    "name": "ipython",
    "version": 2
   },
   "file_extension": ".py",
   "mimetype": "text/x-python",
   "name": "python",
   "nbconvert_exporter": "python",
   "pygments_lexer": "ipython2",
   "version": "2.7.6"
  }
 },
 "nbformat": 4,
 "nbformat_minor": 0
}
