{
 "cells": [
  {
   "cell_type": "code",
   "execution_count": 1,
   "outputs": [],
   "source": [
    "from gnn_tracking_hpo.util.paths import find_checkpoints, add_scripts_path\n",
    "\n",
    "add_scripts_path()"
   ],
   "metadata": {
    "collapsed": false
   }
  },
  {
   "cell_type": "code",
   "execution_count": 2,
   "outputs": [],
   "source": [
    "from gnn_tracking_hpo.util.paths import get_config\n",
    "\n",
    "checkpoint_path = find_checkpoints(\"ec-s9\", \"009d\")[-1]\n",
    "config = get_config(\"ec-s9\", \"009d\")"
   ],
   "metadata": {
    "collapsed": false
   }
  },
  {
   "cell_type": "code",
   "execution_count": 3,
   "outputs": [],
   "source": [
    "config.update({\"n_graphs_train\": 1, \"n_graphs_val\": 100, \"n_graphs_test\": 1})"
   ],
   "metadata": {
    "collapsed": false
   }
  },
  {
   "cell_type": "code",
   "execution_count": 4,
   "outputs": [],
   "source": [
    "from tune_ec_sectorized import ECTrainable"
   ],
   "metadata": {
    "collapsed": false
   }
  },
  {
   "cell_type": "code",
   "execution_count": 5,
   "outputs": [
    {
     "name": "stderr",
     "output_type": "stream",
     "text": [
      "\u001B[36mDEBUG: Got config\n",
      "{'batch_size': 1,\n",
      " 'focal_alpha': 0.7397820322968228,\n",
      " 'focal_gamma': 4,\n",
      " 'gnn_tracking_experiments_hash': '1c4385064cb8472d7070c92d38d2958ab96e7485',\n",
      " 'gnn_tracking_hash': 'd1903e7319ef1dc27f2632d27212ce802d1273e2',\n",
      " 'lr': 0.00010008424753725798,\n",
      " 'lw_edge': 1.0,\n",
      " 'm_L_ec': 7,\n",
      " 'm_alpha_ec': 0.5082980468439962,\n",
      " 'm_e_dim': 4,\n",
      " 'm_h_dim': 5,\n",
      " 'm_hidden_dim': 118,\n",
      " 'm_interaction_edge_hidden_dim': 85,\n",
      " 'm_interaction_node_hidden_dim': 94,\n",
      " 'n_graphs_test': 1,\n",
      " 'n_graphs_train': 1,\n",
      " 'n_graphs_val': 100,\n",
      " 'optimizer': 'adam',\n",
      " 'scheduler': None,\n",
      " 'sector': 9,\n",
      " 'test': False,\n",
      " 'training_pt_thld': 0.0,\n",
      " 'training_without_noise': False,\n",
      " 'training_without_non_reconstructable': False}\u001B[0m\n",
      "\u001B[32mINFO: Loading data to cpu memory\u001B[0m\n",
      "\u001B[32mINFO: Loading 102 graphs (out of 371 available).\u001B[0m\n",
      "\u001B[36mDEBUG: Parameters for data loaders: {'batch_size': 1, 'num_workers': 12}\u001B[0m\n",
      "\u001B[32mINFO: Using device cpu\u001B[0m\n"
     ]
    }
   ],
   "source": [
    "trainable = ECTrainable(config)"
   ],
   "metadata": {
    "collapsed": false
   }
  },
  {
   "cell_type": "code",
   "execution_count": 6,
   "outputs": [],
   "source": [
    "trainable.load_checkpoint(checkpoint_path, device=\"cpu\")"
   ],
   "metadata": {
    "collapsed": false
   }
  },
  {
   "cell_type": "code",
   "execution_count": 7,
   "outputs": [],
   "source": [
    "ec = trainable.trainer.model"
   ],
   "metadata": {
    "collapsed": false
   }
  },
  {
   "cell_type": "code",
   "execution_count": 8,
   "outputs": [],
   "source": [
    "from gnn_tracking.models.edge_classifier import TrainableThldEC\n"
   ],
   "metadata": {
    "collapsed": false
   }
  },
  {
   "cell_type": "code",
   "execution_count": 9,
   "outputs": [],
   "source": [
    "for param in ec.parameters():\n",
    "    param.requires_grad = False"
   ],
   "metadata": {
    "collapsed": false
   }
  },
  {
   "cell_type": "code",
   "execution_count": 20,
   "outputs": [],
   "source": [
    "from torch import Tensor\n",
    "import torch.nn as nn\n",
    "import torch\n",
    "from torch_geometric.data import Data\n",
    "\n",
    "class TrainableThldEC(nn.Module):\n",
    "    def __init__(self, ec: nn.Module):\n",
    "        \"\"\"Edge classifier with a trainable threshold based on an existing\n",
    "        classifier. If the parameters of the existing classifier are fixed, the\n",
    "        threshold is the only trainable parameter.\n",
    "\n",
    "        Args:\n",
    "            ec: Edge classifier\n",
    "        \"\"\"\n",
    "        super().__init__()\n",
    "        self.ec = ec\n",
    "        #: The threshold to use for the edge classifier\n",
    "        self.threshold = nn.parameter.Parameter(torch.tensor(0.5), requires_grad=True)\n",
    "\n",
    "    def _evaluate_ec(self, data) -> Tensor:\n",
    "        r = self.ec(data)\n",
    "        if isinstance(r, dict):\n",
    "            return r[\"W\"]\n",
    "        else:\n",
    "            return r\n",
    "\n",
    "    def forward(self, data: Data) -> Tensor:\n",
    "        # v = torch.minimum(self._evaluate_ec(data) + self.threshold, torch.tensor([1.])).float()  # type: ignore\n",
    "        v = (self._evaluate_ec(data) > self.threshold).float()  # type: ignore\n",
    "        # print(v, type(v), v.dtype)\n",
    "        return v\n"
   ],
   "metadata": {
    "collapsed": false
   }
  },
  {
   "cell_type": "code",
   "execution_count": 21,
   "outputs": [],
   "source": [
    "ttec = TrainableThldEC(ec)"
   ],
   "metadata": {
    "collapsed": false
   }
  },
  {
   "cell_type": "code",
   "execution_count": 22,
   "outputs": [],
   "source": [
    "from gnn_tracking.metrics.losses import EdgeWeightBCELoss\n",
    "from gnn_tracking.models.track_condensation_networks import PreTrainedECGraphTCN\n",
    "from gnn_tracking.utils.dictionaries import subdict_with_prefix_stripped\n",
    "from typing import Any\n",
    "from gnn_tracking_hpo.trainable import TCNTrainable\n",
    "from torch import nn\n",
    "\n",
    "\n",
    "class PretrainedECTrainable(TCNTrainable):\n",
    "    def __init__(self, config: dict[str, Any], ec: nn.Module, **kwargs):\n",
    "        self.ec = ec\n",
    "        super().__init__(config=config, **kwargs)\n",
    "\n",
    "    def get_loss_functions(self) -> dict[str, Any]:\n",
    "        return {\n",
    "            \"potential\": self.get_potential_loss_function(),\n",
    "            \"background\": self.get_background_loss_function(),\n",
    "            \"edge\": self.get_edge_loss_function(),\n",
    "        }\n",
    "\n",
    "    def get_edge_loss_function(self):\n",
    "        return EdgeWeightBCELoss()\n",
    "\n",
    "    def get_cluster_functions(self) -> dict[str, Any]:\n",
    "        return {}\n",
    "\n",
    "    def get_model(self) -> nn.Module:\n",
    "        # todo: add config for ec\n",
    "        return PreTrainedECGraphTCN(self.ec,\n",
    "            node_indim=6, edge_indim=4, **subdict_with_prefix_stripped(self.tc, \"m_\")\n",
    "        )"
   ],
   "metadata": {
    "collapsed": false
   }
  },
  {
   "cell_type": "code",
   "execution_count": 23,
   "outputs": [],
   "source": [
    "from gnn_tracking_hpo.trainable import suggest_default_values\n",
    "from gnn_tracking_hpo.config import get_metadata\n",
    "\n",
    "config = {\n",
    "    \"lr\": 0.0005655795153563859,\n",
    "    \"sb\": 0.12120230680126508,\n",
    "    \"q_min\": 0.3611768519294592,\n",
    "    \"m_L_hc\": 3,\n",
    "    \"sector\": 9,\n",
    "    \"m_e_dim\": 5,\n",
    "    \"m_h_dim\": 7,\n",
    "    \"optimizer\": \"adam\",\n",
    "    \"scheduler\": None,\n",
    "    \"batch_size\": 1,\n",
    "    \"m_alpha_hc\": .9,\n",
    "    \"m_h_outdim\": 2,\n",
    "    \"attr_pt_thld\": 0.5654455552047115,\n",
    "    \"m_hidden_dim\": 116,\n",
    "    \"n_graphs_val\": 69,\n",
    "    \"n_graphs_test\": 1,\n",
    "    \"n_graphs_train\": 300,\n",
    "    \"training_pt_thld\": 0.9,\n",
    "    \"training_without_noise\": True,\n",
    "    \"lw_potential_repulsive\": 1e1,\n",
    "    \"lw_potential_attractive\": 1e6,\n",
    "    \"lw_potential_background\": 1e-2,\n",
    "    \"m_interaction_node_hidden_dim\": 64,\n",
    "    \"m_interaction_edge_hidden_dim\": 64,\n",
    "    \"repulsive_radius_threshold\": 2.,\n",
    "}\n",
    "config.update(get_metadata())\n",
    "suggest_default_values(config, None, perfect_ec=True)\n",
    "# del config[\"m_L_ec\"]\n",
    "# del config[\"m_alpha_ec\"]\n",
    "# del config[\"m_feed_edge_weights\"]\n",
    "del config[\"m_ec_tpr\"]\n",
    "del config[\"m_ec_tnr\"]"
   ],
   "metadata": {
    "collapsed": false
   }
  },
  {
   "cell_type": "code",
   "execution_count": 24,
   "outputs": [
    {
     "name": "stderr",
     "output_type": "stream",
     "text": [
      "\u001B[36mDEBUG: Got config\n",
      "{'attr_pt_thld': 0.5654455552047115,\n",
      " 'batch_size': 1,\n",
      " 'gnn_tracking_experiments_hash': '782c32667357aed7156545ac0fb9ea63aebdcd9c',\n",
      " 'gnn_tracking_hash': '45ed36884f494d32894adb25e9d437910f1276da',\n",
      " 'lr': 0.0005655795153563859,\n",
      " 'lw_potential_attractive': 1000000.0,\n",
      " 'lw_potential_background': 0.01,\n",
      " 'lw_potential_repulsive': 10.0,\n",
      " 'm_L_hc': 3,\n",
      " 'm_alpha_hc': 0.9,\n",
      " 'm_e_dim': 5,\n",
      " 'm_h_dim': 7,\n",
      " 'm_h_outdim': 2,\n",
      " 'm_hidden_dim': 116,\n",
      " 'm_interaction_edge_hidden_dim': 64,\n",
      " 'm_interaction_node_hidden_dim': 64,\n",
      " 'n_graphs_test': 1,\n",
      " 'n_graphs_train': 300,\n",
      " 'n_graphs_val': 69,\n",
      " 'optimizer': 'adam',\n",
      " 'q_min': 0.3611768519294592,\n",
      " 'repulsive_radius_threshold': 2.0,\n",
      " 'sb': 0.12120230680126508,\n",
      " 'scheduler': None,\n",
      " 'sector': 9,\n",
      " 'test': False,\n",
      " 'training_pt_thld': 0.9,\n",
      " 'training_without_noise': True,\n",
      " 'training_without_non_reconstructable': False}\u001B[0m\n",
      "\u001B[32mINFO: Loading data to cpu memory\u001B[0m\n",
      "\u001B[32mINFO: Loading 370 graphs (out of 371 available).\u001B[0m\n",
      "\u001B[36mDEBUG: Parameters for data loaders: {'batch_size': 1, 'num_workers': 12}\u001B[0m\n",
      "\u001B[32mINFO: Using device cpu\u001B[0m\n"
     ]
    }
   ],
   "source": [
    "pt = PretrainedECTrainable(config, ec=ttec)"
   ],
   "metadata": {
    "collapsed": false
   }
  },
  {
   "cell_type": "code",
   "execution_count": 29,
   "outputs": [
    {
     "data": {
      "text/plain": "Parameter containing:\ntensor(0.5000, requires_grad=True)"
     },
     "execution_count": 29,
     "metadata": {},
     "output_type": "execute_result"
    }
   ],
   "source": [
    "pt.ec.threshold"
   ],
   "metadata": {
    "collapsed": false
   }
  },
  {
   "cell_type": "code",
   "execution_count": 26,
   "outputs": [],
   "source": [
    "# for p in pt.trainer.model.parameters():\n",
    "#     try:\n",
    "#         l = len(p)\n",
    "#     except TypeError:\n",
    "#         print(p)\n",
    "#         continue\n",
    "#     if l == 1:\n",
    "#         print(p)"
   ],
   "metadata": {
    "collapsed": false
   }
  },
  {
   "cell_type": "code",
   "execution_count": 27,
   "outputs": [],
   "source": [
    "# import torch\n",
    "#\n",
    "# trainer = pt.trainer\n",
    "# sel = 13\n",
    "# with torch.no_grad():\n",
    "#     loader = trainer.val_loader\n",
    "#     for idx, data in enumerate(loader):\n",
    "#         if idx < sel:\n",
    "#             continue\n",
    "#         model_output = trainer.evaluate_model(data, mask_pids_reco=False)\n",
    "#         if idx == sel:\n",
    "#             break\n",
    "#\n",
    "# mo = pt.trainer.evaluate_model(data)"
   ],
   "metadata": {
    "collapsed": false
   }
  },
  {
   "cell_type": "code",
   "execution_count": 28,
   "outputs": [
    {
     "name": "stderr",
     "output_type": "stream",
     "text": [
      "\u001B[32mINFO: Epoch  0 (    0/300): background_weighted=   0.56950, edge_weighted=   4.12262, potential_attractive_weighted=   0.78956, potential_repulsive_weighted= 629.80835\u001B[0m\n",
      "\u001B[32mINFO: Epoch  0 (   10/300): background_weighted=   0.63197, edge_weighted=   4.88311, potential_attractive_weighted=   0.05217, potential_repulsive_weighted= 400.09098\u001B[0m\n",
      "\u001B[32mINFO: Epoch  0 (   20/300): background_weighted=   0.69406, edge_weighted=   3.98551, potential_attractive_weighted=   0.48126, potential_repulsive_weighted= 387.51053\u001B[0m\n",
      "\u001B[32mINFO: Epoch  0 (   30/300): background_weighted=   0.78658, edge_weighted=   5.60773, potential_attractive_weighted=   4.15615, potential_repulsive_weighted= 157.75028\u001B[0m\n",
      "\u001B[32mINFO: Epoch  0 (   40/300): background_weighted=   0.87497, edge_weighted=   4.43476, potential_attractive_weighted=   7.98965, potential_repulsive_weighted= 162.86625\u001B[0m\n",
      "\u001B[32mINFO: Epoch  0 (   50/300): background_weighted=   0.93234, edge_weighted=   5.09066, potential_attractive_weighted=   8.49865, potential_repulsive_weighted= 175.69309\u001B[0m\n",
      "\u001B[32mINFO: Epoch  0 (   60/300): background_weighted=   0.94991, edge_weighted=   4.96311, potential_attractive_weighted=   3.86797, potential_repulsive_weighted= 136.98174\u001B[0m\n",
      "\u001B[32mINFO: Epoch  0 (   70/300): background_weighted=   0.96334, edge_weighted=   5.09509, potential_attractive_weighted=   2.02561, potential_repulsive_weighted= 159.85326\u001B[0m\n",
      "\u001B[32mINFO: Epoch  0 (   80/300): background_weighted=   0.97257, edge_weighted=   4.30322, potential_attractive_weighted=   1.04142, potential_repulsive_weighted= 190.92730\u001B[0m\n",
      "\u001B[32mINFO: Epoch  0 (   90/300): background_weighted=   0.97949, edge_weighted=   5.24975, potential_attractive_weighted=   0.24984, potential_repulsive_weighted= 198.56522\u001B[0m\n",
      "\u001B[32mINFO: Epoch  0 (  100/300): background_weighted=   0.98757, edge_weighted=   6.21639, potential_attractive_weighted=   0.03784, potential_repulsive_weighted= 167.10358\u001B[0m\n",
      "\u001B[32mINFO: Epoch  0 (  110/300): background_weighted=   0.98666, edge_weighted=   3.67720, potential_attractive_weighted=   0.06545, potential_repulsive_weighted= 172.33923\u001B[0m\n",
      "\u001B[32mINFO: Epoch  0 (  120/300): background_weighted=   0.98762, edge_weighted=   5.80239, potential_attractive_weighted=   0.10546, potential_repulsive_weighted= 114.88347\u001B[0m\n",
      "\u001B[32mINFO: Epoch  0 (  130/300): background_weighted=   0.98998, edge_weighted=   7.09546, potential_attractive_weighted=   0.02986, potential_repulsive_weighted= 122.67618\u001B[0m\n",
      "\u001B[32mINFO: Epoch  0 (  140/300): background_weighted=   0.98042, edge_weighted=   4.38821, potential_attractive_weighted=  23.33053, potential_repulsive_weighted= 210.44842\u001B[0m\n",
      "\u001B[32mINFO: Epoch  0 (  150/300): background_weighted=   0.95652, edge_weighted=   5.10631, potential_attractive_weighted=   0.68434, potential_repulsive_weighted= 176.57450\u001B[0m\n",
      "\u001B[32mINFO: Epoch  0 (  160/300): background_weighted=   0.95296, edge_weighted=   5.98945, potential_attractive_weighted=   0.63787, potential_repulsive_weighted= 142.38564\u001B[0m\n",
      "\u001B[32mINFO: Epoch  0 (  170/300): background_weighted=   0.96530, edge_weighted=   6.09096, potential_attractive_weighted=   0.32615, potential_repulsive_weighted= 138.91059\u001B[0m\n",
      "\u001B[32mINFO: Epoch  0 (  180/300): background_weighted=   0.97633, edge_weighted=   4.94588, potential_attractive_weighted=   0.13046, potential_repulsive_weighted= 177.81374\u001B[0m\n",
      "\u001B[32mINFO: Epoch  0 (  190/300): background_weighted=   0.98219, edge_weighted=   4.68495, potential_attractive_weighted=   0.02722, potential_repulsive_weighted= 185.57852\u001B[0m\n",
      "\u001B[32mINFO: Epoch  0 (  200/300): background_weighted=   0.98305, edge_weighted=   4.79563, potential_attractive_weighted=   0.04361, potential_repulsive_weighted= 133.18734\u001B[0m\n",
      "\u001B[32mINFO: Epoch  0 (  210/300): background_weighted=   0.98922, edge_weighted=   7.44681, potential_attractive_weighted=   0.04681, potential_repulsive_weighted= 135.74946\u001B[0m\n",
      "\u001B[32mINFO: Epoch  0 (  220/300): background_weighted=   0.98938, edge_weighted=   5.31777, potential_attractive_weighted=   0.01830, potential_repulsive_weighted= 133.17919\u001B[0m\n",
      "\u001B[32mINFO: Epoch  0 (  230/300): background_weighted=   0.99201, edge_weighted=   5.10331, potential_attractive_weighted=   0.03867, potential_repulsive_weighted= 156.51929\u001B[0m\n",
      "\u001B[32mINFO: Epoch  0 (  240/300): background_weighted=   0.99253, edge_weighted=   6.23756, potential_attractive_weighted=   0.04345, potential_repulsive_weighted= 114.85243\u001B[0m\n",
      "\u001B[32mINFO: Epoch  0 (  250/300): background_weighted=   0.99397, edge_weighted=   4.12281, potential_attractive_weighted=   0.03600, potential_repulsive_weighted= 140.89540\u001B[0m\n",
      "\u001B[32mINFO: Epoch  0 (  260/300): background_weighted=   0.99473, edge_weighted=   5.32674, potential_attractive_weighted=   0.03269, potential_repulsive_weighted= 133.02325\u001B[0m\n",
      "\u001B[32mINFO: Epoch  0 (  270/300): background_weighted=   0.99503, edge_weighted=   4.43889, potential_attractive_weighted=   0.02949, potential_repulsive_weighted= 182.55049\u001B[0m\n",
      "\u001B[32mINFO: Epoch  0 (  280/300): background_weighted=   0.99601, edge_weighted=   6.25532, potential_attractive_weighted=   0.03797, potential_repulsive_weighted= 153.86251\u001B[0m\n",
      "\u001B[32mINFO: Epoch  0 (  290/300): background_weighted=   0.99528, edge_weighted=   5.37125, potential_attractive_weighted=   0.02115, potential_repulsive_weighted= 119.97196\u001B[0m\n"
     ]
    }
   ],
   "source": [
    "for i in range(1):\n",
    "    pt.trainer.train_step(max_batches=None)"
   ],
   "metadata": {
    "collapsed": false
   }
  },
  {
   "cell_type": "code",
   "execution_count": 18,
   "outputs": [],
   "source": [],
   "metadata": {
    "collapsed": false
   }
  }
 ],
 "metadata": {
  "kernelspec": {
   "display_name": "Python 3",
   "language": "python",
   "name": "python3"
  },
  "language_info": {
   "codemirror_mode": {
    "name": "ipython",
    "version": 2
   },
   "file_extension": ".py",
   "mimetype": "text/x-python",
   "name": "python",
   "nbconvert_exporter": "python",
   "pygments_lexer": "ipython2",
   "version": "2.7.6"
  }
 },
 "nbformat": 4,
 "nbformat_minor": 0
}
