{
 "cells": [
  {
   "cell_type": "code",
   "execution_count": 5,
   "metadata": {
    "collapsed": true
   },
   "outputs": [],
   "source": [
    "import numpy as np\n",
    "import wandb\n",
    "import copy\n",
    "from tqdm import tqdm"
   ]
  },
  {
   "cell_type": "code",
   "execution_count": 6,
   "outputs": [],
   "source": [
    "api = wandb.Api()"
   ],
   "metadata": {
    "collapsed": false
   }
  },
  {
   "cell_type": "code",
   "execution_count": 7,
   "outputs": [],
   "source": [
    "summary_metrics_min = [\n",
    "    f\"n_edges_frac_segment50_{f}\"\n",
    "    for f in [80, 85, 90, 93, 95]\n",
    "]"
   ],
   "metadata": {
    "collapsed": false
   }
  },
  {
   "cell_type": "code",
   "execution_count": 8,
   "outputs": [],
   "source": [
    "def update_summary_metrics(run):\n",
    "    history = run.history()\n",
    "    for key in summary_metrics_min:\n",
    "        try:\n",
    "            current = copy.copy(history[key])\n",
    "            if isinstance(current, str):\n",
    "                continue\n",
    "            current = current.astype('float').to_numpy()\n",
    "            if np.isfinite(current).any():\n",
    "                new = np.nanmean(current).item()\n",
    "                run.summary[key] = new\n",
    "        except KeyError:\n",
    "            pass\n",
    "        except Exception as e:\n",
    "            print(key, run)\n",
    "            raise e\n",
    "        run.summary.update()"
   ],
   "metadata": {
    "collapsed": false
   }
  },
  {
   "cell_type": "code",
   "execution_count": 12,
   "outputs": [
    {
     "name": "stdout",
     "output_type": "stream",
     "text": [
      "Found 73 runs\n"
     ]
    }
   ],
   "source": [
    "runs = list(api.runs('gnn_tracking/gnn_tracking_gc', {\n",
    "    \"$and\": [{\n",
    "    'created_at': {\n",
    "        \"$gt\": '2023-05-31'\n",
    "        }\n",
    "    }]\n",
    "}))\n",
    "print(f\"Found {len(runs)} runs\")"
   ],
   "metadata": {
    "collapsed": false
   }
  },
  {
   "cell_type": "code",
   "execution_count": 14,
   "outputs": [
    {
     "name": "stderr",
     "output_type": "stream",
     "text": [
      "100%|██████████| 73/73 [01:46<00:00,  1.45s/it]\n"
     ]
    }
   ],
   "source": [
    "for run in tqdm(runs):\n",
    "    update_summary_metrics(run)"
   ],
   "metadata": {
    "collapsed": false
   }
  },
  {
   "cell_type": "code",
   "execution_count": null,
   "outputs": [],
   "source": [],
   "metadata": {
    "collapsed": false,
    "pycharm": {
     "is_executing": true
    }
   }
  },
  {
   "cell_type": "code",
   "execution_count": 14,
   "outputs": [],
   "source": [],
   "metadata": {
    "collapsed": false
   }
  }
 ],
 "metadata": {
  "kernelspec": {
   "display_name": "Python 3",
   "language": "python",
   "name": "python3"
  },
  "language_info": {
   "codemirror_mode": {
    "name": "ipython",
    "version": 2
   },
   "file_extension": ".py",
   "mimetype": "text/x-python",
   "name": "python",
   "nbconvert_exporter": "python",
   "pygments_lexer": "ipython2",
   "version": "2.7.6"
  }
 },
 "nbformat": 4,
 "nbformat_minor": 0
}
