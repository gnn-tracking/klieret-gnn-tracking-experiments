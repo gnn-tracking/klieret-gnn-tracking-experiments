{
 "cells": [
  {
   "cell_type": "code",
   "execution_count": 1,
   "metadata": {
    "collapsed": true
   },
   "outputs": [],
   "source": [
    "import numpy as np\n",
    "import wandb\n",
    "import copy\n",
    "from tqdm import tqdm"
   ]
  },
  {
   "cell_type": "code",
   "execution_count": 2,
   "metadata": {
    "collapsed": false
   },
   "outputs": [],
   "source": [
    "api = wandb.Api()"
   ]
  },
  {
   "cell_type": "code",
   "execution_count": 7,
   "metadata": {
    "collapsed": false
   },
   "outputs": [],
   "source": [
    "summary_metrics_min = [ ]\n",
    "summary_metrics_max = [\n",
    "    \"max_frac_segment50\",\n",
    "    \"frac100_at_max_frac_segment50\",\n",
    "]\n",
    "for f in [80, 85, 90, 93, 95]:\n",
    "    summary_metrics_min.append(f\"n_edges_frac_segment50_{f}\")\n",
    "    summary_metrics_max.append(f\"efficiency_at_segment50_{f}\")\n",
    "    summary_metrics_max.append(f\"frac100_at_segment50_{f}\")\n",
    "    summary_metrics_max.append(f\"frac75_at_segment50_{f}\")\n",
    "    summary_metrics_max.append(f\"purity_at_segment50_{f}\")\n",
    "summary_metrics_last = [\n",
    "    \"attractive\",\n",
    "    \"repulsive\",\n",
    "    \"attractive_train\",\n",
    "    \"repulsive_train\",\n",
    "]"
   ]
  },
  {
   "cell_type": "code",
   "execution_count": 8,
   "metadata": {
    "collapsed": false
   },
   "outputs": [],
   "source": [
    "def update_summary_metrics(run):\n",
    "    history = run.history()\n",
    "    for key in summary_metrics_min:\n",
    "        try:\n",
    "            current = copy.copy(history[key])\n",
    "            if isinstance(current, str):\n",
    "                continue\n",
    "            current = current.astype('float').to_numpy()\n",
    "            if np.isfinite(current).any():\n",
    "                new = np.nanmin(current).item()\n",
    "                run.summary[key] = new\n",
    "        except KeyError:\n",
    "            pass\n",
    "        except Exception as e:\n",
    "            print(key, run)\n",
    "            raise e\n",
    "    for key in summary_metrics_max:\n",
    "        try:\n",
    "            current = copy.copy(history[key])\n",
    "            if isinstance(current, str):\n",
    "                continue\n",
    "            current = current.astype('float').to_numpy()\n",
    "            if np.isfinite(current).any():\n",
    "                new = np.nanmax(current).item()\n",
    "                run.summary[key] = new\n",
    "        except KeyError:\n",
    "            pass\n",
    "        except Exception as e:\n",
    "            print(key, run)\n",
    "            raise e\n",
    "    for key in summary_metrics_last:\n",
    "        try:\n",
    "            current = copy.copy(history[key])\n",
    "            if isinstance(current, str):\n",
    "                continue\n",
    "            current = current.astype('float').to_numpy()\n",
    "            if np.isfinite(current).any():\n",
    "                new = current[np.isfinite(current)][-1].item()\n",
    "                run.summary[key] = new\n",
    "        except KeyError:\n",
    "            pass\n",
    "        except Exception as e:\n",
    "            print(key, run)\n",
    "            raise e\n",
    "    run.summary.update()"
   ]
  },
  {
   "cell_type": "code",
   "execution_count": null,
   "metadata": {},
   "outputs": [],
   "source": [
    "wandb.Run.finish()"
   ]
  },
  {
   "cell_type": "code",
   "execution_count": 9,
   "metadata": {
    "collapsed": false
   },
   "outputs": [
    {
     "name": "stdout",
     "output_type": "stream",
     "text": [
      "Found 59 runs\n"
     ]
    }
   ],
   "source": [
    "runs = list(api.runs('gnn_tracking/gnn_tracking_gc', {\n",
    "    \"$and\": [{\n",
    "    'created_at': {\n",
    "        \"$gt\": '2023-12-10'\n",
    "        }\n",
    "    }]\n",
    "}))\n",
    "print(f\"Found {len(runs)} runs\")"
   ]
  },
  {
   "cell_type": "code",
   "execution_count": 10,
   "metadata": {
    "collapsed": false
   },
   "outputs": [
    {
     "name": "stderr",
     "output_type": "stream",
     "text": [
      "100%|██████████| 59/59 [00:32<00:00,  1.81it/s]\n"
     ]
    }
   ],
   "source": [
    "for run in tqdm(runs):\n",
    "    update_summary_metrics(run)"
   ]
  },
  {
   "cell_type": "code",
   "execution_count": null,
   "metadata": {
    "collapsed": false,
    "pycharm": {
     "is_executing": true
    }
   },
   "outputs": [],
   "source": []
  },
  {
   "cell_type": "code",
   "execution_count": 14,
   "metadata": {
    "collapsed": false
   },
   "outputs": [],
   "source": []
  }
 ],
 "metadata": {
  "kernelspec": {
   "display_name": "Python 3",
   "language": "python",
   "name": "python3"
  },
  "language_info": {
   "codemirror_mode": {
    "name": "ipython",
    "version": 3
   },
   "file_extension": ".py",
   "mimetype": "text/x-python",
   "name": "python",
   "nbconvert_exporter": "python",
   "pygments_lexer": "ipython3",
   "version": "3.11.3"
  }
 },
 "nbformat": 4,
 "nbformat_minor": 0
}
