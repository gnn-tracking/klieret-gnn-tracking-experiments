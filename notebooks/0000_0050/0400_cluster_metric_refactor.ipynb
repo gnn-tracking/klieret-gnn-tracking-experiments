{
 "cells": [
  {
   "cell_type": "code",
   "execution_count": 24,
   "metadata": {
    "collapsed": true
   },
   "outputs": [],
   "source": [
    "import pandas as pd\n",
    "import numpy as np"
   ]
  },
  {
   "cell_type": "code",
   "execution_count": 25,
   "outputs": [],
   "source": [
    "rng = np.random.default_rng(42)\n",
    "c_df = pd.DataFrame({\n",
    "    \"maj_pid\": rng.integers(0, 10, 100),\n",
    "})\n",
    "h_df = pd.DataFrame(\n",
    "    {\n",
    "        \"id\": rng.integers(0, 10, 100),\n",
    "        \"pt\": rng.uniform(0, 1, 100),\n",
    "        \"r\": rng.uniform(0, 1, 100),\n",
    "    }\n",
    ")"
   ],
   "metadata": {
    "collapsed": false
   }
  },
  {
   "cell_type": "code",
   "execution_count": 26,
   "outputs": [],
   "source": [
    "pid_to_props = h_df[[\"id\", \"pt\", \"r\"]].groupby(\"id\")[[\"pt\", \"r\"]].first()"
   ],
   "metadata": {
    "collapsed": false
   }
  },
  {
   "cell_type": "code",
   "execution_count": 18,
   "outputs": [],
   "source": [
    "\n",
    "pid_to_pt = pid_to_props[\"pt\"].to_dict()\n",
    "pid_to_r = pid_to_props[\"r\"].to_dict()\n",
    "# For each cluster: Of which pt is the PID with the most hits?\n",
    "c_df[\"maj_pt\"] = c_df[\"maj_pid\"].map(pid_to_pt)"
   ],
   "metadata": {
    "collapsed": false
   }
  },
  {
   "cell_type": "code",
   "execution_count": 19,
   "outputs": [
    {
     "data": {
      "text/plain": "0     0.969176\n1     0.778751\n2     0.272242\n3     0.096391\n4     0.096391\n        ...   \n95    0.455776\n96    0.455776\n97    0.272242\n98    0.272242\n99    0.699707\nName: maj_pt, Length: 100, dtype: float64"
     },
     "execution_count": 19,
     "metadata": {},
     "output_type": "execute_result"
    }
   ],
   "source": [
    "c_df[\"maj_pt\"]"
   ],
   "metadata": {
    "collapsed": false
   }
  },
  {
   "cell_type": "code",
   "execution_count": 27,
   "outputs": [
    {
     "data": {
      "text/plain": "    maj_pid    maj_pt     maj_r\n0         0  0.969176  0.143898\n1         0  0.969176  0.143898\n2         0  0.969176  0.143898\n3         0  0.969176  0.143898\n4         0  0.969176  0.143898\n..      ...       ...       ...\n95        3  0.022804  0.804361\n96        3  0.022804  0.804361\n97        3  0.022804  0.804361\n98        3  0.022804  0.804361\n99        3  0.022804  0.804361\n\n[100 rows x 3 columns]",
      "text/html": "<div>\n<style scoped>\n    .dataframe tbody tr th:only-of-type {\n        vertical-align: middle;\n    }\n\n    .dataframe tbody tr th {\n        vertical-align: top;\n    }\n\n    .dataframe thead th {\n        text-align: right;\n    }\n</style>\n<table border=\"1\" class=\"dataframe\">\n  <thead>\n    <tr style=\"text-align: right;\">\n      <th></th>\n      <th>maj_pid</th>\n      <th>maj_pt</th>\n      <th>maj_r</th>\n    </tr>\n  </thead>\n  <tbody>\n    <tr>\n      <th>0</th>\n      <td>0</td>\n      <td>0.969176</td>\n      <td>0.143898</td>\n    </tr>\n    <tr>\n      <th>1</th>\n      <td>0</td>\n      <td>0.969176</td>\n      <td>0.143898</td>\n    </tr>\n    <tr>\n      <th>2</th>\n      <td>0</td>\n      <td>0.969176</td>\n      <td>0.143898</td>\n    </tr>\n    <tr>\n      <th>3</th>\n      <td>0</td>\n      <td>0.969176</td>\n      <td>0.143898</td>\n    </tr>\n    <tr>\n      <th>4</th>\n      <td>0</td>\n      <td>0.969176</td>\n      <td>0.143898</td>\n    </tr>\n    <tr>\n      <th>...</th>\n      <td>...</td>\n      <td>...</td>\n      <td>...</td>\n    </tr>\n    <tr>\n      <th>95</th>\n      <td>3</td>\n      <td>0.022804</td>\n      <td>0.804361</td>\n    </tr>\n    <tr>\n      <th>96</th>\n      <td>3</td>\n      <td>0.022804</td>\n      <td>0.804361</td>\n    </tr>\n    <tr>\n      <th>97</th>\n      <td>3</td>\n      <td>0.022804</td>\n      <td>0.804361</td>\n    </tr>\n    <tr>\n      <th>98</th>\n      <td>3</td>\n      <td>0.022804</td>\n      <td>0.804361</td>\n    </tr>\n    <tr>\n      <th>99</th>\n      <td>3</td>\n      <td>0.022804</td>\n      <td>0.804361</td>\n    </tr>\n  </tbody>\n</table>\n<p>100 rows × 3 columns</p>\n</div>"
     },
     "execution_count": 27,
     "metadata": {},
     "output_type": "execute_result"
    }
   ],
   "source": [
    "c_df.merge(pid_to_props, left_on=\"maj_pid\", right_on=\"id\", copy=False).rename(\n",
    "    columns={\"pt\": \"maj_pt\", \"r\": \"maj_r\"}\n",
    ")"
   ],
   "metadata": {
    "collapsed": false
   }
  },
  {
   "cell_type": "code",
   "execution_count": null,
   "outputs": [],
   "source": [],
   "metadata": {
    "collapsed": false
   }
  }
 ],
 "metadata": {
  "kernelspec": {
   "display_name": "Python 3",
   "language": "python",
   "name": "python3"
  },
  "language_info": {
   "codemirror_mode": {
    "name": "ipython",
    "version": 2
   },
   "file_extension": ".py",
   "mimetype": "text/x-python",
   "name": "python",
   "nbconvert_exporter": "python",
   "pygments_lexer": "ipython2",
   "version": "2.7.6"
  }
 },
 "nbformat": 4,
 "nbformat_minor": 0
}
