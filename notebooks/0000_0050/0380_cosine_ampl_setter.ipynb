{
 "cells": [
  {
   "cell_type": "code",
   "execution_count": 84,
   "metadata": {
    "collapsed": true
   },
   "outputs": [],
   "source": [
    "from gnn_tracking.utils.log import logger\n",
    "import numpy as np\n",
    "from typing import Any\n",
    "from torch_geometric.data import Data\n",
    "from gnn_tracking.training.lw_setter import LossWeightSetterHook\n",
    "\n",
    "\n",
    "class SineLWSH(LossWeightSetterHook):\n",
    "    def __init__(\n",
    "        self,\n",
    "        loss_name: str|tuple[str, ...],\n",
    "        mean: float,\n",
    "        amplitude: float,\n",
    "        period: int,\n",
    "        amplitude_halflife: float,\n",
    "        n_batches: int,\n",
    "    ):\n",
    "        self._loss_name = loss_name\n",
    "        self._mean = mean\n",
    "        self._amplitude = amplitude\n",
    "        self._period = period\n",
    "        self._amplitude_half_life = amplitude_halflife\n",
    "        self._n_batches = n_batches\n",
    "\n",
    "    def get_lw(self, epoch, batch_idx):\n",
    "        idx = epoch * self._n_batches + batch_idx\n",
    "        amplitude_decay = 0.5**(1/(self._amplitude_half_life * self._n_batches))\n",
    "        amplitude = self._amplitude * amplitude_decay**idx\n",
    "        s = np.sin(2*np.pi * idx / (self._period * self._n_batches))\n",
    "        r = self._mean + amplitude * s\n",
    "        logger.debug(\"Setting loss weight to %f\", r)\n",
    "        return r\n"
   ]
  },
  {
   "cell_type": "code",
   "execution_count": 101,
   "outputs": [],
   "source": [
    "lws = SineLWSH(\"test\", 1, -1, 1, 1/3, 100)"
   ],
   "metadata": {
    "collapsed": false
   }
  },
  {
   "cell_type": "code",
   "execution_count": 102,
   "outputs": [],
   "source": [
    "import matplotlib.pyplot as plt"
   ],
   "metadata": {
    "collapsed": false
   }
  },
  {
   "cell_type": "code",
   "execution_count": 39,
   "outputs": [],
   "source": [
    "from scipy.interpolate import CubicSpline\n",
    "\n",
    "class SmoothNStepLWSH:\n",
    "    def __init__(self, steps: dict[str, float], n_batches: int):\n",
    "        cs = CubicSpline(n_batches * np.array(list(steps)), list(steps.values()))\n",
    "        self._steps = cs(np.arange(0, max(steps.values())*n_batches))\n",
    "        print(len(self._steps))\n",
    "        self._n_batches = n_batches\n",
    "\n",
    "    def get_lw(self, epoch, batch_idx):\n",
    "        idx = epoch * self._n_batches + batch_idx\n",
    "        if idx >= len(self._steps):\n",
    "            return self._steps[-1]\n",
    "        return self._steps[idx]\n"
   ],
   "metadata": {
    "collapsed": false
   }
  },
  {
   "cell_type": "code",
   "execution_count": 50,
   "outputs": [
    {
     "name": "stdout",
     "output_type": "stream",
     "text": [
      "100\n"
     ]
    }
   ],
   "source": [
    "lws = SmoothNStepLWSH({0: 0, 2: 0.5, 3: 1, 10:1}, 100)"
   ],
   "metadata": {
    "collapsed": false
   }
  },
  {
   "cell_type": "code",
   "execution_count": 51,
   "outputs": [],
   "source": [
    "import numpy as np\n",
    "import matplotlib.pyplot as plt"
   ],
   "metadata": {
    "collapsed": false
   }
  },
  {
   "cell_type": "code",
   "execution_count": 52,
   "outputs": [],
   "source": [
    "epoch = 0\n",
    "batch_idx = np.concatenate([np.arange(0, 100), np.arange(0, 100), np.arange(0, 100), np.arange(0, 100)])\n",
    "epoch = np.concatenate([np.full(100, 0), np.full(100, 1), np.full(100, 2), np.full(100, 3)])\n"
   ],
   "metadata": {
    "collapsed": false
   }
  },
  {
   "cell_type": "code",
   "execution_count": 53,
   "outputs": [],
   "source": [
    "results = [lws.get_lw(epoch, idx) for epoch, idx in zip(epoch, batch_idx)]"
   ],
   "metadata": {
    "collapsed": false
   }
  },
  {
   "cell_type": "code",
   "execution_count": 54,
   "outputs": [
    {
     "data": {
      "text/plain": "[<matplotlib.lines.Line2D at 0x1685806d0>]"
     },
     "execution_count": 54,
     "metadata": {},
     "output_type": "execute_result"
    },
    {
     "data": {
      "text/plain": "<Figure size 640x480 with 1 Axes>",
      "image/png": "[encoded data removed]"
     },
     "metadata": {},
     "output_type": "display_data"
    }
   ],
   "source": [
    "plt.plot(batch_idx+epoch*lws._n_batches, results)"
   ],
   "metadata": {
    "collapsed": false
   }
  },
  {
   "cell_type": "code",
   "execution_count": null,
   "outputs": [],
   "source": [],
   "metadata": {
    "collapsed": false
   }
  }
 ],
 "metadata": {
  "kernelspec": {
   "display_name": "Python 3",
   "language": "python",
   "name": "python3"
  },
  "language_info": {
   "codemirror_mode": {
    "name": "ipython",
    "version": 2
   },
   "file_extension": ".py",
   "mimetype": "text/x-python",
   "name": "python",
   "nbconvert_exporter": "python",
   "pygments_lexer": "ipython2",
   "version": "2.7.6"
  }
 },
 "nbformat": 4,
 "nbformat_minor": 0
}
