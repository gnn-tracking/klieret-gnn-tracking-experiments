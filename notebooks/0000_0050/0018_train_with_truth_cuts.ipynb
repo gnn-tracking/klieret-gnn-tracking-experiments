{
 "cells": [
  {
   "cell_type": "code",
   "execution_count": 1,
   "metadata": {
    "collapsed": true
   },
   "outputs": [],
   "source": [
    "\n",
    "\n",
    "from typing import Any\n",
    "\n",
    "from gnn_tracking.models.track_condensation_networks import PerfectECGraphTCN\n",
    "from gnn_tracking.training.dynamiclossweights import NormalizeAt\n",
    "from gnn_tracking.utils.dictionaries import subdict_with_prefix_stripped\n",
    "from torch import nn\n",
    "\n",
    "import numpy as np\n",
    "from celluloid import Camera\n",
    "\n",
    "from gnn_tracking_hpo.config import auto_suggest_if_not_fixed, get_metadata\n",
    "from gnn_tracking_hpo.trainable import TCNTrainable, suggest_default_values"
   ]
  },
  {
   "cell_type": "code",
   "execution_count": 2,
   "outputs": [],
   "source": [
    "class DynamicTCNTrainable(TCNTrainable):\n",
    "    def get_loss_functions(self) -> dict[str, Any]:\n",
    "        return {\n",
    "            \"potential\": self.get_potential_loss_function(),\n",
    "            \"background\": self.get_background_loss_function(),\n",
    "        }\n",
    "\n",
    "    def get_cluster_functions(self) -> dict[str, Any]:\n",
    "        return {}\n",
    "\n",
    "    def get_loss_weights(self):\n",
    "        return subdict_with_prefix_stripped(\n",
    "            self.tc, \"lw\",\n",
    "        )\n",
    "\n",
    "    def get_model(self) -> nn.Module:\n",
    "        return PerfectECGraphTCN(\n",
    "            node_indim=6, edge_indim=4, **subdict_with_prefix_stripped(self.tc, \"m_\"),\n",
    "        )\n",
    "        pass\n"
   ],
   "metadata": {
    "collapsed": false
   }
  },
  {
   "cell_type": "code",
   "execution_count": 3,
   "outputs": [],
   "source": [
    "\n",
    "# def get_config(\n",
    "# ) -> dict[str, Any]:\n",
    "#     config = get_metadata()\n",
    "#\n",
    "#     def d(key, *args, **kwargs):\n",
    "#         auto_suggest_if_not_fixed(key, config, None, *args, **kwargs)\n",
    "#\n",
    "#     d(\"sector\", 9)\n",
    "#     d(\"n_graphs_train\", 100)\n",
    "#     d(\"n_graphs_val\", 10)\n",
    "#     d(\"n_graphs_test\", 1)\n",
    "#     d(\"training_pt_thld\", 0.9)\n",
    "#     d(\"training_without_noise\", True)\n",
    "#     d(\"batch_size\", 1)\n",
    "#     d(\"m_h_outdim\", 2)\n",
    "#     d(\"m_ec_tnr\", 1)\n",
    "#     d(\"m_ec_tpr\", 1)\n",
    "#\n",
    "#     suggest_default_values(config, None, perfect_ec=True)\n",
    "#     return config"
   ],
   "metadata": {
    "collapsed": false
   }
  },
  {
   "cell_type": "code",
   "execution_count": 17,
   "outputs": [
    {
     "name": "stderr",
     "output_type": "stream",
     "text": [
      "\u001B[33mWARNING: Repository is dirty, commit hash may not be accurate.\u001B[0m\n"
     ]
    }
   ],
   "source": [
    "config = {\n",
    "    \"lr\": 0.0005655795153563859,\n",
    "    \"sb\": 0.12120230680126508,\n",
    "    \"q_min\": 0.3611768519294592,\n",
    "    \"m_L_hc\": 3,\n",
    "    \"sector\": 9,\n",
    "    \"m_e_dim\": 5,\n",
    "    \"m_h_dim\": 7,\n",
    "    \"m_ec_tnr\": 1,\n",
    "    \"m_ec_tpr\": 0.8,\n",
    "    \"optimizer\": \"adam\",\n",
    "    \"scheduler\": None,\n",
    "    \"batch_size\": 1,\n",
    "    \"m_alpha_hc\": .9,\n",
    "    \"m_h_outdim\": 2,\n",
    "    \"attr_pt_thld\": 0.5654455552047115,\n",
    "    \"m_hidden_dim\": 116,\n",
    "    \"n_graphs_val\": 69,\n",
    "    \"n_graphs_test\": 1,\n",
    "    \"n_graphs_train\": 300,\n",
    "    \"rlw_background\": 1,\n",
    "    \"training_pt_thld\": 0.9,\n",
    "    \"training_without_noise\": True,\n",
    "    \"lw_potential_repulsive\": 1e1,\n",
    "    \"lw_potential_attractive\": 1e6,\n",
    "    \"lw_potential_background\": 1e-2,\n",
    "    \"m_interaction_node_hidden_dim\": 64,\n",
    "    \"m_interaction_edge_hidden_dim\": 64,\n",
    "    \"repulsive_radius_threshold\": 2.,\n",
    "}\n",
    "config.update(get_metadata())\n",
    "suggest_default_values(config, None, perfect_ec=True)"
   ],
   "metadata": {
    "collapsed": false
   }
  },
  {
   "cell_type": "code",
   "execution_count": 18,
   "outputs": [
    {
     "name": "stdout",
     "output_type": "stream",
     "text": [
      "{'attr_pt_thld': 0.5654455552047115,\n",
      " 'batch_size': 1,\n",
      " 'gnn_tracking_experiments_hash': '3e12a2e9d710353d43c37e163c7b121a10c49605',\n",
      " 'gnn_tracking_hash': '92ca9743c80bc79d866cf2c52d86f38645e33ffe',\n",
      " 'lr': 0.0005655795153563859,\n",
      " 'lw_potential_attractive': 1000000.0,\n",
      " 'lw_potential_background': 0.01,\n",
      " 'lw_potential_repulsive': 10.0,\n",
      " 'm_L_hc': 3,\n",
      " 'm_alpha_hc': 0.9,\n",
      " 'm_e_dim': 5,\n",
      " 'm_ec_tnr': 1,\n",
      " 'm_ec_tpr': 0.8,\n",
      " 'm_h_dim': 7,\n",
      " 'm_h_outdim': 2,\n",
      " 'm_hidden_dim': 116,\n",
      " 'm_interaction_edge_hidden_dim': 64,\n",
      " 'm_interaction_node_hidden_dim': 64,\n",
      " 'n_graphs_test': 1,\n",
      " 'n_graphs_train': 300,\n",
      " 'n_graphs_val': 69,\n",
      " 'optimizer': 'adam',\n",
      " 'q_min': 0.3611768519294592,\n",
      " 'repulsive_radius_threshold': 2.0,\n",
      " 'rlw_background': 1,\n",
      " 'sb': 0.12120230680126508,\n",
      " 'scheduler': None,\n",
      " 'sector': 9,\n",
      " 'test': False,\n",
      " 'training_pt_thld': 0.9,\n",
      " 'training_without_noise': True}\n"
     ]
    }
   ],
   "source": [
    "import pprint\n",
    "pprint.pprint(config)"
   ],
   "metadata": {
    "collapsed": false
   }
  },
  {
   "cell_type": "code",
   "execution_count": 19,
   "outputs": [],
   "source": [
    "from gnn_tracking.training.tcn_trainer import TCNTrainer\n",
    "from torch_geometric.data import Data\n",
    "\n",
    "\n",
    "class FixedDataLatentSpacePlotCollector:\n",
    "    def __init__(self, data: Data, apply_truth_cuts=True):\n",
    "        \"\"\"This hook for collecting data for latent space animations\n",
    "        is the most precise/detailed one, because it evaluates one\n",
    "        graph after every single batch.\n",
    "        The downside: It slows down training significantly because it\n",
    "        doubles the evaluations that need to be done.\n",
    "\n",
    "        Args:\n",
    "            data:\n",
    "            apply_truth_cuts:\n",
    "        \"\"\"\n",
    "        self.latent_spaces = []\n",
    "        self.pid = None\n",
    "        self.epochs = []\n",
    "        self.batch_indices = []\n",
    "        self.data = data\n",
    "        self.apply_truth_cuts = apply_truth_cuts\n",
    "        self.batch_losses = []\n",
    "\n",
    "    @staticmethod\n",
    "    def should_snapshot(epoch: int, batch: int) -> bool:\n",
    "        \"\"\"Implement this to avoid performance degradation by\n",
    "        only taking snapshot every nth epoch/batch\n",
    "        \"\"\"\n",
    "        if epoch <= 2 and (batch % 3) != 0:\n",
    "            return False\n",
    "        if epoch >= 2 and (batch % 40) != 0:\n",
    "            return False\n",
    "        return True\n",
    "\n",
    "    def __call__(self, trainer: TCNTrainer, epoch: int, batch_index: int, model_output: int, data: Data):\n",
    "        if not self.should_snapshot(epoch, batch_index):\n",
    "            return\n",
    "        test_model_output = trainer.evaluate_model(self.data, apply_truth_cuts=self.apply_truth_cuts)\n",
    "        self.batch_losses.append(trainer.get_batch_losses(test_model_output))\n",
    "        if self.pid is None:\n",
    "            self.pid = test_model_output[\"particle_id\"]\n",
    "        self.latent_spaces.append(test_model_output[\"x\"].detach().cpu().numpy())\n",
    "        self.epochs.append(epoch)\n",
    "        self.batch_indices.append(batch_index)"
   ],
   "metadata": {
    "collapsed": false
   }
  },
  {
   "cell_type": "code",
   "execution_count": 36,
   "outputs": [
    {
     "name": "stderr",
     "output_type": "stream",
     "text": [
      "\u001B[36mDEBUG: Got config\n",
      "{'attr_pt_thld': 0.5654455552047115,\n",
      " 'batch_size': 1,\n",
      " 'gnn_tracking_experiments_hash': '3e12a2e9d710353d43c37e163c7b121a10c49605',\n",
      " 'gnn_tracking_hash': '92ca9743c80bc79d866cf2c52d86f38645e33ffe',\n",
      " 'lr': 0.0005655795153563859,\n",
      " 'lw_potential_attractive': 1000000.0,\n",
      " 'lw_potential_background': 0.01,\n",
      " 'lw_potential_repulsive': 10.0,\n",
      " 'm_L_hc': 3,\n",
      " 'm_alpha_hc': 0.9,\n",
      " 'm_e_dim': 5,\n",
      " 'm_ec_tnr': 1,\n",
      " 'm_ec_tpr': 0.8,\n",
      " 'm_h_dim': 7,\n",
      " 'm_h_outdim': 2,\n",
      " 'm_hidden_dim': 116,\n",
      " 'm_interaction_edge_hidden_dim': 64,\n",
      " 'm_interaction_node_hidden_dim': 64,\n",
      " 'n_graphs_test': 1,\n",
      " 'n_graphs_train': 300,\n",
      " 'n_graphs_val': 69,\n",
      " 'optimizer': 'adam',\n",
      " 'q_min': 0.3611768519294592,\n",
      " 'repulsive_radius_threshold': 2.0,\n",
      " 'rlw_background': 1,\n",
      " 'sb': 0.12120230680126508,\n",
      " 'scheduler': None,\n",
      " 'sector': 9,\n",
      " 'test': False,\n",
      " 'training_pt_thld': 0.9,\n",
      " 'training_without_noise': True}\u001B[0m\n",
      "\u001B[32mINFO: Loading data to cpu memory\u001B[0m\n",
      "\u001B[32mINFO: Loading 370 graphs (out of 371 available).\u001B[0m\n",
      "\u001B[36mDEBUG: Parameters for data loaders: {'batch_size': 1, 'num_workers': 12}\u001B[0m\n",
      "\u001B[32mINFO: Using device cuda\u001B[0m\n"
     ]
    }
   ],
   "source": [
    "trainable = DynamicTCNTrainable(config)\n",
    "trainer = trainable.trainer"
   ],
   "metadata": {
    "collapsed": false
   }
  },
  {
   "cell_type": "code",
   "execution_count": 37,
   "outputs": [],
   "source": [
    "import torch\n",
    "trainer = trainable.trainer\n",
    "sel = 5\n",
    "\n",
    "with torch.no_grad():\n",
    "    loader = trainer.val_loader\n",
    "    for idx, data in enumerate(loader):\n",
    "        if idx < sel:\n",
    "            continue\n",
    "        # model_output = trainer.evaluate_model(data, mask_pids_reco=False)\n",
    "        if idx == sel:\n",
    "            break\n",
    "\n",
    "test_data_point = data"
   ],
   "metadata": {
    "collapsed": false
   }
  },
  {
   "cell_type": "code",
   "execution_count": 38,
   "outputs": [],
   "source": [
    "collector = FixedDataLatentSpacePlotCollector(data)\n",
    "trainer.add_hook(collector, \"batch\")\n",
    "collector_ntc = FixedDataLatentSpacePlotCollector(data, apply_truth_cuts=False)\n",
    "trainer.add_hook(collector_ntc, \"batch\")\n"
   ],
   "metadata": {
    "collapsed": false
   }
  },
  {
   "cell_type": "code",
   "execution_count": 39,
   "outputs": [],
   "source": [
    "# trainer.test_step = lambda *args, **kwargs: {}\n",
    "trainer.skip_test_during_training = True"
   ],
   "metadata": {
    "collapsed": false
   }
  },
  {
   "cell_type": "code",
   "execution_count": 68,
   "outputs": [
    {
     "name": "stderr",
     "output_type": "stream",
     "text": [
      "\u001B[32mINFO: Training for epoch 43 took 2.39 seconds\u001B[0m\n"
     ]
    },
    {
     "ename": "RuntimeError",
     "evalue": "CUDA out of memory. Tried to allocate 2.00 MiB (GPU 0; 39.45 GiB total capacity; 38.05 GiB already allocated; 2.25 MiB free; 38.26 GiB reserved in total by PyTorch) If reserved memory is >> allocated memory try setting max_split_size_mb to avoid fragmentation.  See documentation for Memory Management and PYTORCH_CUDA_ALLOC_CONF",
     "output_type": "error",
     "traceback": [
      "\u001B[0;31m---------------------------------------------------------------------------\u001B[0m",
      "\u001B[0;31mRuntimeError\u001B[0m                              Traceback (most recent call last)",
      "Cell \u001B[0;32mIn [68], line 2\u001B[0m\n\u001B[1;32m      1\u001B[0m \u001B[38;5;28;01mfor\u001B[39;00m i \u001B[38;5;129;01min\u001B[39;00m \u001B[38;5;28mrange\u001B[39m(\u001B[38;5;241m25\u001B[39m):\n\u001B[0;32m----> 2\u001B[0m     \u001B[43mtrainable\u001B[49m\u001B[38;5;241;43m.\u001B[39;49m\u001B[43mstep\u001B[49m\u001B[43m(\u001B[49m\u001B[43m)\u001B[49m\n",
      "File \u001B[0;32m~/Documents/22/git_sync/hpo/src/gnn_tracking_hpo/trainable.py:311\u001B[0m, in \u001B[0;36mTCNTrainable.step\u001B[0;34m(self)\u001B[0m\n\u001B[1;32m    310\u001B[0m \u001B[38;5;28;01mdef\u001B[39;00m \u001B[38;5;21mstep\u001B[39m(\u001B[38;5;28mself\u001B[39m):\n\u001B[0;32m--> 311\u001B[0m     \u001B[38;5;28;01mreturn\u001B[39;00m \u001B[38;5;28;43mself\u001B[39;49m\u001B[38;5;241;43m.\u001B[39;49m\u001B[43mtrainer\u001B[49m\u001B[38;5;241;43m.\u001B[39;49m\u001B[43mstep\u001B[49m\u001B[43m(\u001B[49m\u001B[43mmax_batches\u001B[49m\u001B[38;5;241;43m=\u001B[39;49m\u001B[38;5;28;43;01mNone\u001B[39;49;00m\u001B[43m \u001B[49m\u001B[38;5;28;43;01mif\u001B[39;49;00m\u001B[43m \u001B[49m\u001B[38;5;129;43;01mnot\u001B[39;49;00m\u001B[43m \u001B[49m\u001B[38;5;28;43mself\u001B[39;49m\u001B[38;5;241;43m.\u001B[39;49m\u001B[43mtc\u001B[49m\u001B[43m[\u001B[49m\u001B[38;5;124;43m\"\u001B[39;49m\u001B[38;5;124;43mtest\u001B[39;49m\u001B[38;5;124;43m\"\u001B[39;49m\u001B[43m]\u001B[49m\u001B[43m \u001B[49m\u001B[38;5;28;43;01melse\u001B[39;49;00m\u001B[43m \u001B[49m\u001B[38;5;241;43m1\u001B[39;49m\u001B[43m)\u001B[49m\n",
      "File \u001B[0;32m~/Documents/22/git_sync/gnn_tracking/src/gnn_tracking/training/tcn_trainer.py:521\u001B[0m, in \u001B[0;36mTCNTrainer.step\u001B[0;34m(self, max_batches)\u001B[0m\n\u001B[1;32m    519\u001B[0m \u001B[38;5;28mself\u001B[39m\u001B[38;5;241m.\u001B[39m_epoch \u001B[38;5;241m+\u001B[39m\u001B[38;5;241m=\u001B[39m \u001B[38;5;241m1\u001B[39m\n\u001B[1;32m    520\u001B[0m \u001B[38;5;28;01mwith\u001B[39;00m timing(\u001B[38;5;124mf\u001B[39m\u001B[38;5;124m\"\u001B[39m\u001B[38;5;124mTraining for epoch \u001B[39m\u001B[38;5;132;01m{\u001B[39;00m\u001B[38;5;28mself\u001B[39m\u001B[38;5;241m.\u001B[39m_epoch\u001B[38;5;132;01m}\u001B[39;00m\u001B[38;5;124m\"\u001B[39m):\n\u001B[0;32m--> 521\u001B[0m     train_losses \u001B[38;5;241m=\u001B[39m \u001B[38;5;28;43mself\u001B[39;49m\u001B[38;5;241;43m.\u001B[39;49m\u001B[43mtrain_step\u001B[49m\u001B[43m(\u001B[49m\u001B[43mmax_batches\u001B[49m\u001B[38;5;241;43m=\u001B[39;49m\u001B[43mmax_batches\u001B[49m\u001B[43m)\u001B[49m\n\u001B[1;32m    522\u001B[0m \u001B[38;5;28;01mif\u001B[39;00m \u001B[38;5;129;01mnot\u001B[39;00m \u001B[38;5;28mself\u001B[39m\u001B[38;5;241m.\u001B[39mskip_test_during_training:\n\u001B[1;32m    523\u001B[0m     \u001B[38;5;28;01mwith\u001B[39;00m timing(\u001B[38;5;124mf\u001B[39m\u001B[38;5;124m\"\u001B[39m\u001B[38;5;124mTest step for epoch \u001B[39m\u001B[38;5;132;01m{\u001B[39;00m\u001B[38;5;28mself\u001B[39m\u001B[38;5;241m.\u001B[39m_epoch\u001B[38;5;132;01m}\u001B[39;00m\u001B[38;5;124m\"\u001B[39m):\n",
      "File \u001B[0;32m~/Documents/22/git_sync/gnn_tracking/src/gnn_tracking/training/tcn_trainer.py:381\u001B[0m, in \u001B[0;36mTCNTrainer.train_step\u001B[0;34m(self, max_batches)\u001B[0m\n\u001B[1;32m    379\u001B[0m \u001B[38;5;28;01mif\u001B[39;00m max_batches \u001B[38;5;129;01mand\u001B[39;00m batch_idx \u001B[38;5;241m>\u001B[39m max_batches:\n\u001B[1;32m    380\u001B[0m     \u001B[38;5;28;01mbreak\u001B[39;00m\n\u001B[0;32m--> 381\u001B[0m model_output \u001B[38;5;241m=\u001B[39m \u001B[38;5;28;43mself\u001B[39;49m\u001B[38;5;241;43m.\u001B[39;49m\u001B[43mevaluate_model\u001B[49m\u001B[43m(\u001B[49m\u001B[43mdata\u001B[49m\u001B[43m,\u001B[49m\u001B[43m \u001B[49m\u001B[43mapply_truth_cuts\u001B[49m\u001B[38;5;241;43m=\u001B[39;49m\u001B[38;5;28;43;01mTrue\u001B[39;49;00m\u001B[43m)\u001B[49m\n\u001B[1;32m    382\u001B[0m \u001B[38;5;28;01mfor\u001B[39;00m hook \u001B[38;5;129;01min\u001B[39;00m \u001B[38;5;28mself\u001B[39m\u001B[38;5;241m.\u001B[39m_batch_hooks:\n\u001B[1;32m    383\u001B[0m     hook(\u001B[38;5;28mself\u001B[39m, \u001B[38;5;28mself\u001B[39m\u001B[38;5;241m.\u001B[39m_epoch, batch_idx, model_output, data)\n",
      "File \u001B[0;32m~/Documents/22/git_sync/gnn_tracking/src/gnn_tracking/training/tcn_trainer.py:260\u001B[0m, in \u001B[0;36mTCNTrainer.evaluate_model\u001B[0;34m(self, data, mask_pids_reco, apply_truth_cuts)\u001B[0m\n\u001B[1;32m    258\u001B[0m     node_mask, edge_mask \u001B[38;5;241m=\u001B[39m \u001B[38;5;28mself\u001B[39m\u001B[38;5;241m.\u001B[39m_get_training_mask(data)\n\u001B[1;32m    259\u001B[0m     data \u001B[38;5;241m=\u001B[39m \u001B[38;5;28mself\u001B[39m\u001B[38;5;241m.\u001B[39m_apply_mask(data, node_mask, edge_mask)\n\u001B[0;32m--> 260\u001B[0m     out \u001B[38;5;241m=\u001B[39m \u001B[38;5;28;43mself\u001B[39;49m\u001B[38;5;241;43m.\u001B[39;49m\u001B[43mmodel\u001B[49m\u001B[43m(\u001B[49m\u001B[43mdata\u001B[49m\u001B[43m)\u001B[49m\n\u001B[1;32m    261\u001B[0m \u001B[38;5;28;01melse\u001B[39;00m:\n\u001B[1;32m    262\u001B[0m     out \u001B[38;5;241m=\u001B[39m \u001B[38;5;28mself\u001B[39m\u001B[38;5;241m.\u001B[39mmodel(data)\n",
      "File \u001B[0;32m/scratch/gpfs/kl5675/miniconda3/envs/gnn/lib/python3.10/site-packages/torch/nn/modules/module.py:1130\u001B[0m, in \u001B[0;36mModule._call_impl\u001B[0;34m(self, *input, **kwargs)\u001B[0m\n\u001B[1;32m   1126\u001B[0m \u001B[38;5;66;03m# If we don't have any hooks, we want to skip the rest of the logic in\u001B[39;00m\n\u001B[1;32m   1127\u001B[0m \u001B[38;5;66;03m# this function, and just call forward.\u001B[39;00m\n\u001B[1;32m   1128\u001B[0m \u001B[38;5;28;01mif\u001B[39;00m \u001B[38;5;129;01mnot\u001B[39;00m (\u001B[38;5;28mself\u001B[39m\u001B[38;5;241m.\u001B[39m_backward_hooks \u001B[38;5;129;01mor\u001B[39;00m \u001B[38;5;28mself\u001B[39m\u001B[38;5;241m.\u001B[39m_forward_hooks \u001B[38;5;129;01mor\u001B[39;00m \u001B[38;5;28mself\u001B[39m\u001B[38;5;241m.\u001B[39m_forward_pre_hooks \u001B[38;5;129;01mor\u001B[39;00m _global_backward_hooks\n\u001B[1;32m   1129\u001B[0m         \u001B[38;5;129;01mor\u001B[39;00m _global_forward_hooks \u001B[38;5;129;01mor\u001B[39;00m _global_forward_pre_hooks):\n\u001B[0;32m-> 1130\u001B[0m     \u001B[38;5;28;01mreturn\u001B[39;00m \u001B[43mforward_call\u001B[49m\u001B[43m(\u001B[49m\u001B[38;5;241;43m*\u001B[39;49m\u001B[38;5;28;43minput\u001B[39;49m\u001B[43m,\u001B[49m\u001B[43m \u001B[49m\u001B[38;5;241;43m*\u001B[39;49m\u001B[38;5;241;43m*\u001B[39;49m\u001B[43mkwargs\u001B[49m\u001B[43m)\u001B[49m\n\u001B[1;32m   1131\u001B[0m \u001B[38;5;66;03m# Do not call functions when jit is used\u001B[39;00m\n\u001B[1;32m   1132\u001B[0m full_backward_hooks, non_full_backward_hooks \u001B[38;5;241m=\u001B[39m [], []\n",
      "File \u001B[0;32m~/Documents/22/git_sync/gnn_tracking/src/gnn_tracking/models/track_condensation_networks.py:372\u001B[0m, in \u001B[0;36mPerfectECGraphTCN.forward\u001B[0;34m(self, data)\u001B[0m\n\u001B[1;32m    368\u001B[0m \u001B[38;5;28;01mdef\u001B[39;00m \u001B[38;5;21mforward\u001B[39m(\n\u001B[1;32m    369\u001B[0m     \u001B[38;5;28mself\u001B[39m,\n\u001B[1;32m    370\u001B[0m     data: Data,\n\u001B[1;32m    371\u001B[0m ) \u001B[38;5;241m-\u001B[39m\u001B[38;5;241m>\u001B[39m \u001B[38;5;28mdict\u001B[39m[\u001B[38;5;28mstr\u001B[39m, Tensor]:\n\u001B[0;32m--> 372\u001B[0m     \u001B[38;5;28;01mreturn\u001B[39;00m \u001B[38;5;28;43mself\u001B[39;49m\u001B[38;5;241;43m.\u001B[39;49m\u001B[43m_gtcn\u001B[49m\u001B[38;5;241;43m.\u001B[39;49m\u001B[43mforward\u001B[49m\u001B[43m(\u001B[49m\u001B[43mdata\u001B[49m\u001B[38;5;241;43m=\u001B[39;49m\u001B[43mdata\u001B[49m\u001B[43m)\u001B[49m\n",
      "File \u001B[0;32m~/Documents/22/git_sync/gnn_tracking/src/gnn_tracking/models/track_condensation_networks.py:206\u001B[0m, in \u001B[0;36mModularGraphTCN.forward\u001B[0;34m(self, data)\u001B[0m\n\u001B[1;32m    204\u001B[0m h_hc \u001B[38;5;241m=\u001B[39m \u001B[38;5;28mself\u001B[39m\u001B[38;5;241m.\u001B[39mrelu(\u001B[38;5;28mself\u001B[39m\u001B[38;5;241m.\u001B[39mhc_node_encoder(x))\n\u001B[1;32m    205\u001B[0m edge_attr_hc \u001B[38;5;241m=\u001B[39m \u001B[38;5;28mself\u001B[39m\u001B[38;5;241m.\u001B[39mrelu(\u001B[38;5;28mself\u001B[39m\u001B[38;5;241m.\u001B[39mhc_edge_encoder(edge_attr))\n\u001B[0;32m--> 206\u001B[0m h_hc, _, edge_attrs_hc \u001B[38;5;241m=\u001B[39m \u001B[38;5;28;43mself\u001B[39;49m\u001B[38;5;241;43m.\u001B[39;49m\u001B[43mhc_in\u001B[49m\u001B[43m(\u001B[49m\u001B[43mh_hc\u001B[49m\u001B[43m,\u001B[49m\u001B[43m \u001B[49m\u001B[43medge_index\u001B[49m\u001B[43m,\u001B[49m\u001B[43m \u001B[49m\u001B[43medge_attr_hc\u001B[49m\u001B[43m)\u001B[49m\n\u001B[1;32m    207\u001B[0m beta \u001B[38;5;241m=\u001B[39m torch\u001B[38;5;241m.\u001B[39msigmoid(\u001B[38;5;28mself\u001B[39m\u001B[38;5;241m.\u001B[39mp_beta(h_hc))\n\u001B[1;32m    208\u001B[0m \u001B[38;5;66;03m# protect against nans\u001B[39;00m\n",
      "File \u001B[0;32m/scratch/gpfs/kl5675/miniconda3/envs/gnn/lib/python3.10/site-packages/torch/nn/modules/module.py:1130\u001B[0m, in \u001B[0;36mModule._call_impl\u001B[0;34m(self, *input, **kwargs)\u001B[0m\n\u001B[1;32m   1126\u001B[0m \u001B[38;5;66;03m# If we don't have any hooks, we want to skip the rest of the logic in\u001B[39;00m\n\u001B[1;32m   1127\u001B[0m \u001B[38;5;66;03m# this function, and just call forward.\u001B[39;00m\n\u001B[1;32m   1128\u001B[0m \u001B[38;5;28;01mif\u001B[39;00m \u001B[38;5;129;01mnot\u001B[39;00m (\u001B[38;5;28mself\u001B[39m\u001B[38;5;241m.\u001B[39m_backward_hooks \u001B[38;5;129;01mor\u001B[39;00m \u001B[38;5;28mself\u001B[39m\u001B[38;5;241m.\u001B[39m_forward_hooks \u001B[38;5;129;01mor\u001B[39;00m \u001B[38;5;28mself\u001B[39m\u001B[38;5;241m.\u001B[39m_forward_pre_hooks \u001B[38;5;129;01mor\u001B[39;00m _global_backward_hooks\n\u001B[1;32m   1129\u001B[0m         \u001B[38;5;129;01mor\u001B[39;00m _global_forward_hooks \u001B[38;5;129;01mor\u001B[39;00m _global_forward_pre_hooks):\n\u001B[0;32m-> 1130\u001B[0m     \u001B[38;5;28;01mreturn\u001B[39;00m \u001B[43mforward_call\u001B[49m\u001B[43m(\u001B[49m\u001B[38;5;241;43m*\u001B[39;49m\u001B[38;5;28;43minput\u001B[39;49m\u001B[43m,\u001B[49m\u001B[43m \u001B[49m\u001B[38;5;241;43m*\u001B[39;49m\u001B[38;5;241;43m*\u001B[39;49m\u001B[43mkwargs\u001B[49m\u001B[43m)\u001B[49m\n\u001B[1;32m   1131\u001B[0m \u001B[38;5;66;03m# Do not call functions when jit is used\u001B[39;00m\n\u001B[1;32m   1132\u001B[0m full_backward_hooks, non_full_backward_hooks \u001B[38;5;241m=\u001B[39m [], []\n",
      "File \u001B[0;32m~/Documents/22/git_sync/gnn_tracking/src/gnn_tracking/models/resin.py:170\u001B[0m, in \u001B[0;36mResIN.forward\u001B[0;34m(self, h, edge_index, edge_attr)\u001B[0m\n\u001B[1;32m    168\u001B[0m hs \u001B[38;5;241m=\u001B[39m [h]\n\u001B[1;32m    169\u001B[0m \u001B[38;5;28;01mfor\u001B[39;00m layer, re \u001B[38;5;129;01min\u001B[39;00m \u001B[38;5;28mzip\u001B[39m(\u001B[38;5;28mself\u001B[39m\u001B[38;5;241m.\u001B[39mlayers, \u001B[38;5;28mself\u001B[39m\u001B[38;5;241m.\u001B[39mresidue_encoders):\n\u001B[0;32m--> 170\u001B[0m     delta_h, edge_attr \u001B[38;5;241m=\u001B[39m \u001B[43mlayer\u001B[49m\u001B[43m(\u001B[49m\u001B[43mh\u001B[49m\u001B[43m,\u001B[49m\u001B[43m \u001B[49m\u001B[43medge_index\u001B[49m\u001B[43m,\u001B[49m\u001B[43m \u001B[49m\u001B[43medge_attr\u001B[49m\u001B[43m)\u001B[49m\n\u001B[1;32m    171\u001B[0m     \u001B[38;5;28;01mif\u001B[39;00m re \u001B[38;5;129;01mis\u001B[39;00m \u001B[38;5;28;01mNone\u001B[39;00m:\n\u001B[1;32m    172\u001B[0m         h_ec \u001B[38;5;241m=\u001B[39m h\n",
      "File \u001B[0;32m/scratch/gpfs/kl5675/miniconda3/envs/gnn/lib/python3.10/site-packages/torch/nn/modules/module.py:1130\u001B[0m, in \u001B[0;36mModule._call_impl\u001B[0;34m(self, *input, **kwargs)\u001B[0m\n\u001B[1;32m   1126\u001B[0m \u001B[38;5;66;03m# If we don't have any hooks, we want to skip the rest of the logic in\u001B[39;00m\n\u001B[1;32m   1127\u001B[0m \u001B[38;5;66;03m# this function, and just call forward.\u001B[39;00m\n\u001B[1;32m   1128\u001B[0m \u001B[38;5;28;01mif\u001B[39;00m \u001B[38;5;129;01mnot\u001B[39;00m (\u001B[38;5;28mself\u001B[39m\u001B[38;5;241m.\u001B[39m_backward_hooks \u001B[38;5;129;01mor\u001B[39;00m \u001B[38;5;28mself\u001B[39m\u001B[38;5;241m.\u001B[39m_forward_hooks \u001B[38;5;129;01mor\u001B[39;00m \u001B[38;5;28mself\u001B[39m\u001B[38;5;241m.\u001B[39m_forward_pre_hooks \u001B[38;5;129;01mor\u001B[39;00m _global_backward_hooks\n\u001B[1;32m   1129\u001B[0m         \u001B[38;5;129;01mor\u001B[39;00m _global_forward_hooks \u001B[38;5;129;01mor\u001B[39;00m _global_forward_pre_hooks):\n\u001B[0;32m-> 1130\u001B[0m     \u001B[38;5;28;01mreturn\u001B[39;00m \u001B[43mforward_call\u001B[49m\u001B[43m(\u001B[49m\u001B[38;5;241;43m*\u001B[39;49m\u001B[38;5;28;43minput\u001B[39;49m\u001B[43m,\u001B[49m\u001B[43m \u001B[49m\u001B[38;5;241;43m*\u001B[39;49m\u001B[38;5;241;43m*\u001B[39;49m\u001B[43mkwargs\u001B[49m\u001B[43m)\u001B[49m\n\u001B[1;32m   1131\u001B[0m \u001B[38;5;66;03m# Do not call functions when jit is used\u001B[39;00m\n\u001B[1;32m   1132\u001B[0m full_backward_hooks, non_full_backward_hooks \u001B[38;5;241m=\u001B[39m [], []\n",
      "File \u001B[0;32m~/Documents/22/git_sync/gnn_tracking/src/gnn_tracking/models/interaction_network.py:48\u001B[0m, in \u001B[0;36mInteractionNetwork.forward\u001B[0;34m(self, x, edge_index, edge_attr)\u001B[0m\n\u001B[1;32m     45\u001B[0m \u001B[38;5;28;01mdef\u001B[39;00m \u001B[38;5;21mforward\u001B[39m(\n\u001B[1;32m     46\u001B[0m     \u001B[38;5;28mself\u001B[39m, x: Tensor, edge_index: Tensor, edge_attr: Tensor\n\u001B[1;32m     47\u001B[0m ) \u001B[38;5;241m-\u001B[39m\u001B[38;5;241m>\u001B[39m \u001B[38;5;28mtuple\u001B[39m[Tensor, Tensor]:\n\u001B[0;32m---> 48\u001B[0m     x_tilde \u001B[38;5;241m=\u001B[39m \u001B[38;5;28;43mself\u001B[39;49m\u001B[38;5;241;43m.\u001B[39;49m\u001B[43mpropagate\u001B[49m\u001B[43m(\u001B[49m\u001B[43medge_index\u001B[49m\u001B[43m,\u001B[49m\u001B[43m \u001B[49m\u001B[43mx\u001B[49m\u001B[38;5;241;43m=\u001B[39;49m\u001B[43mx\u001B[49m\u001B[43m,\u001B[49m\u001B[43m \u001B[49m\u001B[43medge_attr\u001B[49m\u001B[38;5;241;43m=\u001B[39;49m\u001B[43medge_attr\u001B[49m\u001B[43m,\u001B[49m\u001B[43m \u001B[49m\u001B[43msize\u001B[49m\u001B[38;5;241;43m=\u001B[39;49m\u001B[38;5;28;43;01mNone\u001B[39;49;00m\u001B[43m)\u001B[49m\n\u001B[1;32m     49\u001B[0m     \u001B[38;5;28;01mreturn\u001B[39;00m x_tilde, \u001B[38;5;28mself\u001B[39m\u001B[38;5;241m.\u001B[39mE_tilde\n",
      "File \u001B[0;32m/scratch/gpfs/kl5675/miniconda3/envs/gnn/lib/python3.10/site-packages/torch_geometric/nn/conv/message_passing.py:374\u001B[0m, in \u001B[0;36mMessagePassing.propagate\u001B[0;34m(self, edge_index, size, **kwargs)\u001B[0m\n\u001B[1;32m    372\u001B[0m     \u001B[38;5;28;01mif\u001B[39;00m res \u001B[38;5;129;01mis\u001B[39;00m \u001B[38;5;129;01mnot\u001B[39;00m \u001B[38;5;28;01mNone\u001B[39;00m:\n\u001B[1;32m    373\u001B[0m         msg_kwargs \u001B[38;5;241m=\u001B[39m res[\u001B[38;5;241m0\u001B[39m] \u001B[38;5;28;01mif\u001B[39;00m \u001B[38;5;28misinstance\u001B[39m(res, \u001B[38;5;28mtuple\u001B[39m) \u001B[38;5;28;01melse\u001B[39;00m res\n\u001B[0;32m--> 374\u001B[0m out \u001B[38;5;241m=\u001B[39m \u001B[38;5;28;43mself\u001B[39;49m\u001B[38;5;241;43m.\u001B[39;49m\u001B[43mmessage\u001B[49m\u001B[43m(\u001B[49m\u001B[38;5;241;43m*\u001B[39;49m\u001B[38;5;241;43m*\u001B[39;49m\u001B[43mmsg_kwargs\u001B[49m\u001B[43m)\u001B[49m\n\u001B[1;32m    375\u001B[0m \u001B[38;5;28;01mfor\u001B[39;00m hook \u001B[38;5;129;01min\u001B[39;00m \u001B[38;5;28mself\u001B[39m\u001B[38;5;241m.\u001B[39m_message_forward_hooks\u001B[38;5;241m.\u001B[39mvalues():\n\u001B[1;32m    376\u001B[0m     res \u001B[38;5;241m=\u001B[39m hook(\u001B[38;5;28mself\u001B[39m, (msg_kwargs, ), out)\n",
      "File \u001B[0;32m~/Documents/22/git_sync/gnn_tracking/src/gnn_tracking/models/interaction_network.py:54\u001B[0m, in \u001B[0;36mInteractionNetwork.message\u001B[0;34m(self, x_i, x_j, edge_attr)\u001B[0m\n\u001B[1;32m     51\u001B[0m \u001B[38;5;28;01mdef\u001B[39;00m \u001B[38;5;21mmessage\u001B[39m(\u001B[38;5;28mself\u001B[39m, x_i, x_j, edge_attr):\n\u001B[1;32m     52\u001B[0m     \u001B[38;5;66;03m# x_i --> incoming, x_j --> outgoing\u001B[39;00m\n\u001B[1;32m     53\u001B[0m     m \u001B[38;5;241m=\u001B[39m torch\u001B[38;5;241m.\u001B[39mcat([x_i, x_j, edge_attr], dim\u001B[38;5;241m=\u001B[39m\u001B[38;5;241m1\u001B[39m)\n\u001B[0;32m---> 54\u001B[0m     \u001B[38;5;28mself\u001B[39m\u001B[38;5;241m.\u001B[39mE_tilde \u001B[38;5;241m=\u001B[39m \u001B[38;5;28;43mself\u001B[39;49m\u001B[38;5;241;43m.\u001B[39;49m\u001B[43mrelational_model\u001B[49m\u001B[43m(\u001B[49m\u001B[43mm\u001B[49m\u001B[43m)\u001B[49m\n\u001B[1;32m     55\u001B[0m     \u001B[38;5;28;01mreturn\u001B[39;00m \u001B[38;5;28mself\u001B[39m\u001B[38;5;241m.\u001B[39mE_tilde\n",
      "File \u001B[0;32m/scratch/gpfs/kl5675/miniconda3/envs/gnn/lib/python3.10/site-packages/torch/nn/modules/module.py:1130\u001B[0m, in \u001B[0;36mModule._call_impl\u001B[0;34m(self, *input, **kwargs)\u001B[0m\n\u001B[1;32m   1126\u001B[0m \u001B[38;5;66;03m# If we don't have any hooks, we want to skip the rest of the logic in\u001B[39;00m\n\u001B[1;32m   1127\u001B[0m \u001B[38;5;66;03m# this function, and just call forward.\u001B[39;00m\n\u001B[1;32m   1128\u001B[0m \u001B[38;5;28;01mif\u001B[39;00m \u001B[38;5;129;01mnot\u001B[39;00m (\u001B[38;5;28mself\u001B[39m\u001B[38;5;241m.\u001B[39m_backward_hooks \u001B[38;5;129;01mor\u001B[39;00m \u001B[38;5;28mself\u001B[39m\u001B[38;5;241m.\u001B[39m_forward_hooks \u001B[38;5;129;01mor\u001B[39;00m \u001B[38;5;28mself\u001B[39m\u001B[38;5;241m.\u001B[39m_forward_pre_hooks \u001B[38;5;129;01mor\u001B[39;00m _global_backward_hooks\n\u001B[1;32m   1129\u001B[0m         \u001B[38;5;129;01mor\u001B[39;00m _global_forward_hooks \u001B[38;5;129;01mor\u001B[39;00m _global_forward_pre_hooks):\n\u001B[0;32m-> 1130\u001B[0m     \u001B[38;5;28;01mreturn\u001B[39;00m \u001B[43mforward_call\u001B[49m\u001B[43m(\u001B[49m\u001B[38;5;241;43m*\u001B[39;49m\u001B[38;5;28;43minput\u001B[39;49m\u001B[43m,\u001B[49m\u001B[43m \u001B[49m\u001B[38;5;241;43m*\u001B[39;49m\u001B[38;5;241;43m*\u001B[39;49m\u001B[43mkwargs\u001B[49m\u001B[43m)\u001B[49m\n\u001B[1;32m   1131\u001B[0m \u001B[38;5;66;03m# Do not call functions when jit is used\u001B[39;00m\n\u001B[1;32m   1132\u001B[0m full_backward_hooks, non_full_backward_hooks \u001B[38;5;241m=\u001B[39m [], []\n",
      "File \u001B[0;32m~/Documents/22/git_sync/gnn_tracking/src/gnn_tracking/models/mlp.py:46\u001B[0m, in \u001B[0;36mMLP.forward\u001B[0;34m(self, x)\u001B[0m\n\u001B[1;32m     44\u001B[0m \u001B[38;5;28;01mdef\u001B[39;00m \u001B[38;5;21mforward\u001B[39m(\u001B[38;5;28mself\u001B[39m, x):\n\u001B[1;32m     45\u001B[0m     \u001B[38;5;28;01mfor\u001B[39;00m layer \u001B[38;5;129;01min\u001B[39;00m \u001B[38;5;28mself\u001B[39m\u001B[38;5;241m.\u001B[39mlayers:\n\u001B[0;32m---> 46\u001B[0m         x \u001B[38;5;241m=\u001B[39m \u001B[43mlayer\u001B[49m\u001B[43m(\u001B[49m\u001B[43mx\u001B[49m\u001B[43m)\u001B[49m\n\u001B[1;32m     47\u001B[0m     \u001B[38;5;28;01mreturn\u001B[39;00m x\n",
      "File \u001B[0;32m/scratch/gpfs/kl5675/miniconda3/envs/gnn/lib/python3.10/site-packages/torch/nn/modules/module.py:1130\u001B[0m, in \u001B[0;36mModule._call_impl\u001B[0;34m(self, *input, **kwargs)\u001B[0m\n\u001B[1;32m   1126\u001B[0m \u001B[38;5;66;03m# If we don't have any hooks, we want to skip the rest of the logic in\u001B[39;00m\n\u001B[1;32m   1127\u001B[0m \u001B[38;5;66;03m# this function, and just call forward.\u001B[39;00m\n\u001B[1;32m   1128\u001B[0m \u001B[38;5;28;01mif\u001B[39;00m \u001B[38;5;129;01mnot\u001B[39;00m (\u001B[38;5;28mself\u001B[39m\u001B[38;5;241m.\u001B[39m_backward_hooks \u001B[38;5;129;01mor\u001B[39;00m \u001B[38;5;28mself\u001B[39m\u001B[38;5;241m.\u001B[39m_forward_hooks \u001B[38;5;129;01mor\u001B[39;00m \u001B[38;5;28mself\u001B[39m\u001B[38;5;241m.\u001B[39m_forward_pre_hooks \u001B[38;5;129;01mor\u001B[39;00m _global_backward_hooks\n\u001B[1;32m   1129\u001B[0m         \u001B[38;5;129;01mor\u001B[39;00m _global_forward_hooks \u001B[38;5;129;01mor\u001B[39;00m _global_forward_pre_hooks):\n\u001B[0;32m-> 1130\u001B[0m     \u001B[38;5;28;01mreturn\u001B[39;00m \u001B[43mforward_call\u001B[49m\u001B[43m(\u001B[49m\u001B[38;5;241;43m*\u001B[39;49m\u001B[38;5;28;43minput\u001B[39;49m\u001B[43m,\u001B[49m\u001B[43m \u001B[49m\u001B[38;5;241;43m*\u001B[39;49m\u001B[38;5;241;43m*\u001B[39;49m\u001B[43mkwargs\u001B[49m\u001B[43m)\u001B[49m\n\u001B[1;32m   1131\u001B[0m \u001B[38;5;66;03m# Do not call functions when jit is used\u001B[39;00m\n\u001B[1;32m   1132\u001B[0m full_backward_hooks, non_full_backward_hooks \u001B[38;5;241m=\u001B[39m [], []\n",
      "File \u001B[0;32m/scratch/gpfs/kl5675/miniconda3/envs/gnn/lib/python3.10/site-packages/torch/nn/modules/linear.py:114\u001B[0m, in \u001B[0;36mLinear.forward\u001B[0;34m(self, input)\u001B[0m\n\u001B[1;32m    113\u001B[0m \u001B[38;5;28;01mdef\u001B[39;00m \u001B[38;5;21mforward\u001B[39m(\u001B[38;5;28mself\u001B[39m, \u001B[38;5;28minput\u001B[39m: Tensor) \u001B[38;5;241m-\u001B[39m\u001B[38;5;241m>\u001B[39m Tensor:\n\u001B[0;32m--> 114\u001B[0m     \u001B[38;5;28;01mreturn\u001B[39;00m \u001B[43mF\u001B[49m\u001B[38;5;241;43m.\u001B[39;49m\u001B[43mlinear\u001B[49m\u001B[43m(\u001B[49m\u001B[38;5;28;43minput\u001B[39;49m\u001B[43m,\u001B[49m\u001B[43m \u001B[49m\u001B[38;5;28;43mself\u001B[39;49m\u001B[38;5;241;43m.\u001B[39;49m\u001B[43mweight\u001B[49m\u001B[43m,\u001B[49m\u001B[43m \u001B[49m\u001B[38;5;28;43mself\u001B[39;49m\u001B[38;5;241;43m.\u001B[39;49m\u001B[43mbias\u001B[49m\u001B[43m)\u001B[49m\n",
      "\u001B[0;31mRuntimeError\u001B[0m: CUDA out of memory. Tried to allocate 2.00 MiB (GPU 0; 39.45 GiB total capacity; 38.05 GiB already allocated; 2.25 MiB free; 38.26 GiB reserved in total by PyTorch) If reserved memory is >> allocated memory try setting max_split_size_mb to avoid fragmentation.  See documentation for Memory Management and PYTORCH_CUDA_ALLOC_CONF"
     ]
    }
   ],
   "source": [
    "for i in range(25):\n",
    "    trainable.step()"
   ],
   "metadata": {
    "collapsed": false
   }
  },
  {
   "cell_type": "code",
   "execution_count": null,
   "outputs": [],
   "source": [
    "from functools import partial\n",
    "from gnn_tracking.postprocessing.dbscanscanner import dbscan_scan\n",
    "\n",
    "trainer.clustering_functions = {\n",
    "    \"dbscan\": partial(dbscan_scan, n_trials=20, n_jobs=12)\n",
    "}\n",
    "TCNTrainer.test_step(trainer, apply_truth_cuts=True)"
   ],
   "metadata": {
    "collapsed": false
   }
  },
  {
   "cell_type": "code",
   "execution_count": null,
   "outputs": [],
   "source": [
    "import matplotlib.pyplot as plt"
   ],
   "metadata": {
    "collapsed": false
   }
  },
  {
   "cell_type": "code",
   "execution_count": null,
   "outputs": [],
   "source": [
    "def get_color_mapper(selected_values, colors: Sequence|None=None):\n",
    "    if colors is None:\n",
    "        colors = plt.rcParams[\"axes.prop_cycle\"].by_key()[\"color\"]\n",
    "\n",
    "    if len(selected_values) > len(colors):\n",
    "        raise ValueError(f\"Only up to {len(colors)} values can be selected.\")\n",
    "\n",
    "    cm = np.vectorize(colors.__getitem__)\n",
    "    vm = np.vectorize({p.item(): i for i, p in enumerate(selected_values)}.get)\n",
    "\n",
    "    def mapper(values):\n",
    "        mv = vm(values)\n",
    "        return cm(mv)\n",
    "\n",
    "    return mapper"
   ],
   "metadata": {
    "collapsed": false
   }
  },
  {
   "cell_type": "code",
   "execution_count": null,
   "outputs": [],
   "source": [
    "\n",
    "selected_pids = np.random.choice(collector_ntc.data.particle_id.cpu()[collector_ntc.data.pt.cpu() > 1 & collector_ntc.data.reconstructable.cpu()], 10)\n",
    "cm = get_color_mapper(selected_pids)"
   ],
   "metadata": {
    "collapsed": false
   }
  },
  {
   "cell_type": "code",
   "execution_count": null,
   "outputs": [],
   "source": [
    "import matplotlib.pyplot as plt\n",
    "fig, ax = plt.subplots()\n",
    "camera = Camera(fig)\n",
    "# todo: add if statement here\n",
    "truth_cut_pids = collector_ntc.data.particle_id.cpu()#[trainer._get_training_mask(collector_ntc.data)[0]]\n",
    "selected_mask = np.isin(truth_cut_pids.cpu().numpy(), selected_pids)\n",
    "colors = cm(truth_cut_pids[np.isin(truth_cut_pids.cpu().numpy(), selected_pids)])\n",
    "from tqdm import tqdm_notebook as tqdm\n",
    "\n",
    "for latent, epoch, batch in tqdm(list(zip(collector_ntc.latent_spaces, collector_ntc.epochs, collector_ntc.batch_indices))):\n",
    "    if epoch <= 2 and (batch % 3) != 0:\n",
    "        continue\n",
    "    if epoch >= 2 and (batch % 40) != 0:\n",
    "        continue\n",
    "    if epoch >= 10 and (batch % 80) != 0:\n",
    "        continue\n",
    "    mu = np.mean(latent, axis=0)\n",
    "    std = np.std(latent, axis=0)\n",
    "    latent -= mu\n",
    "    latent /= std\n",
    "    label = f\"epoch={epoch}, batch={batch}\"\n",
    "    ax.scatter(latent[~selected_mask][:, 0], latent[~selected_mask][:, 1], s=2, color=\"black\", alpha=0.5)\n",
    "    ax.scatter(latent[selected_mask][:, 0], latent[selected_mask][:, 1], s=10, color=colors, alpha=1)\n",
    "    ax.text(.01, .99, label, ha='left', va='top', transform=ax.transAxes)\n",
    "    camera.snap()\n",
    "anim = camera.animate(blit=True, interval=80)\n",
    "print(\"saving\")\n",
    "anim.save('scatter_ntc.mp4')\n",
    "print(\"done\")"
   ],
   "metadata": {
    "collapsed": false
   }
  },
  {
   "cell_type": "code",
   "execution_count": null,
   "outputs": [],
   "source": [
    "truth_cut_pids.shape"
   ],
   "metadata": {
    "collapsed": false
   }
  },
  {
   "cell_type": "code",
   "execution_count": null,
   "outputs": [],
   "source": [
    "class AnimateLatentSpaceDynamics:\n",
    "    def __init__(self, latent_spaces, epochs, batch_indices, pids):\n",
    "        pass\n",
    "\n",
    "    @classmethod\n",
    "    def from_collector(cls):\n",
    "        pass"
   ],
   "metadata": {
    "collapsed": false
   }
  },
  {
   "cell_type": "code",
   "execution_count": null,
   "outputs": [],
   "source": [
    "print(\"test\")"
   ],
   "metadata": {
    "collapsed": false
   }
  },
  {
   "cell_type": "code",
   "execution_count": null,
   "outputs": [],
   "source": [
    "with torch.no_grad():\n",
    "    model_output = trainer.evaluate_model(collector.data, mask_pids_reco=False)\n",
    "x = model_output[\"x\"]\n",
    "pid = model_output[\"particle_id\"]\n",
    "pt = model_output[\"pt\"]"
   ],
   "metadata": {
    "collapsed": false
   }
  },
  {
   "cell_type": "code",
   "execution_count": 121,
   "outputs": [
    {
     "data": {
      "text/plain": "<matplotlib.collections.PathCollection at 0x1519906f9450>"
     },
     "execution_count": 121,
     "metadata": {},
     "output_type": "execute_result"
    },
    {
     "data": {
      "text/plain": "<Figure size 640x480 with 1 Axes>",
      "image/png": "[encoded data removed]"
     },
     "metadata": {},
     "output_type": "display_data"
    }
   ],
   "source": [
    "\n",
    "selected_pids = np.random.choice(pid,  1)\n",
    "# cm = get_color_mapper(selected_pids)\n",
    "mask = np.isin(pid, selected_pids)\n",
    "plt.scatter(x[:, 0][~mask], x[:, 1][~mask], s=2, c=\"silver\")\n",
    "plt.scatter(x[:, 0][mask], x[:, 1][mask], s=2,  c=\"red\")"
   ],
   "metadata": {
    "collapsed": false
   }
  }
 ],
 "metadata": {
  "kernelspec": {
   "display_name": "Python 3",
   "language": "python",
   "name": "python3"
  },
  "language_info": {
   "codemirror_mode": {
    "name": "ipython",
    "version": 2
   },
   "file_extension": ".py",
   "mimetype": "text/x-python",
   "name": "python",
   "nbconvert_exporter": "python",
   "pygments_lexer": "ipython2",
   "version": "2.7.6"
  }
 },
 "nbformat": 4,
 "nbformat_minor": 0
}
