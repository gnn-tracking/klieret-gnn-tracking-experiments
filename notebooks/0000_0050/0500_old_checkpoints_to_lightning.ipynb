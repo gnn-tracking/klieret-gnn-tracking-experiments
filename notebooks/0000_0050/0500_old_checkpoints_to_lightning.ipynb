{
 "cells": [
  {
   "cell_type": "markdown",
   "source": [
    "# Making old trained models compatible with lightning"
   ],
   "metadata": {
    "collapsed": false
   }
  },
  {
   "cell_type": "markdown",
   "source": [
    "TC: https://wandb.ai/gnn_tracking/gnn_tracking/runs/04b2e3ce/\n",
    "GC: https://wandb.ai/gnn_tracking/gnn_tracking_gc/runs/7dce6aff\n",
    "EC: https://wandb.ai/gnn_tracking/gnn_tracking_ec/runs/ddff435e"
   ],
   "metadata": {
    "collapsed": false
   }
  },
  {
   "cell_type": "code",
   "execution_count": 7,
   "outputs": [],
   "source": [
    "%load_ext autoreload\n",
    "%autoreload 2\n",
    "\n",
    "from gnn_tracking.models.graph_construction import GraphConstructionFCNN\n",
    "from gnn_tracking.utils.loading import TrackingDataModule\n",
    "import torch\n",
    "from gnn_tracking.training.ml import MLModule\n",
    "from functools import partial\n",
    "from gnn_tracking.metrics.losses import GraphConstructionHingeEmbeddingLoss, \\\n",
    "    HaughtyFocalLoss\n",
    "from pytorch_lightning import Trainer\n",
    "from gnn_tracking.training.ec import ECModule\n",
    "from gnn_tracking.models.edge_classifier import ec_from_chkpt\n",
    "import pprint\n",
    "from gnn_tracking.models.graph_construction import MLGraphConstruction\n",
    "from gnn_tracking.training.tc import TCModule"
   ],
   "metadata": {
    "collapsed": false
   }
  },
  {
   "cell_type": "code",
   "execution_count": 41,
   "outputs": [],
   "source": [
    "dm = TrackingDataModule(\n",
    "    train=dict(\n",
    "        dirs=[\n",
    "            \"/scratch/gpfs/IOJALVO/gnn-tracking/object_condensation/point_clouds_v5/part_1/\"\n",
    "        ],\n",
    "        # If you run into memory issues, reduce this\n",
    "    ),\n",
    "    val=dict(\n",
    "        dirs=[\n",
    "            \"/scratch/gpfs/IOJALVO/gnn-tracking/object_condensation/point_clouds_v5/part_9/\"\n",
    "        ],\n",
    "        stop=5\n",
    "    ),\n",
    ")"
   ],
   "metadata": {
    "collapsed": false
   }
  },
  {
   "cell_type": "code",
   "execution_count": 9,
   "outputs": [
    {
     "name": "stderr",
     "output_type": "stream",
     "text": [
      "\u001B[32m[17:24:56] INFO: DataLoader will load 900 graphs (out of 900 available).\u001B[0m\n",
      "\u001B[36m[17:24:56] DEBUG: First graph is /scratch/gpfs/IOJALVO/gnn-tracking/object_condensation/point_clouds_v5/part_1/data21000_s0.pt, last graph is /scratch/gpfs/IOJALVO/gnn-tracking/object_condensation/point_clouds_v5/part_1/data21999_s0.pt\u001B[0m\n",
      "\u001B[32m[17:24:56] INFO: DataLoader will load 1 graphs (out of 1000 available).\u001B[0m\n",
      "\u001B[36m[17:24:56] DEBUG: First graph is /scratch/gpfs/IOJALVO/gnn-tracking/object_condensation/point_clouds_v5/part_9/data29000_s0.pt, last graph is /scratch/gpfs/IOJALVO/gnn-tracking/object_condensation/point_clouds_v5/part_9/data29000_s0.pt\u001B[0m\n"
     ]
    }
   ],
   "source": [
    "dm.setup(stage=\"fit\")"
   ],
   "metadata": {
    "collapsed": false
   }
  },
  {
   "cell_type": "code",
   "execution_count": 10,
   "outputs": [],
   "source": [
    "from pathlib import Path\n",
    "\n",
    "model_exchange_path = Path(\n",
    "    \"/scratch/gpfs/IOJALVO/gnn-tracking/object_condensation/model_exchange\"\n",
    ")"
   ],
   "metadata": {
    "collapsed": false
   }
  },
  {
   "cell_type": "markdown",
   "source": [
    "## ML"
   ],
   "metadata": {
    "collapsed": false
   }
  },
  {
   "cell_type": "code",
   "execution_count": 5,
   "outputs": [],
   "source": [
    "gc = GraphConstructionFCNN(in_dim=14, out_dim=8, depth=6, hidden_dim=512, beta=0.4)\n"
   ],
   "metadata": {
    "collapsed": false
   }
  },
  {
   "cell_type": "code",
   "execution_count": 10,
   "outputs": [
    {
     "data": {
      "text/plain": "<All keys matched successfully>"
     },
     "execution_count": 10,
     "metadata": {},
     "output_type": "execute_result"
    }
   ],
   "source": [
    "\n",
    "ckpt = torch.load(\"/home/kl5675/ray_results/gc-hinge-sq-sq-cells/GCTrainable_7dce6aff_24_val_batch_size=1,adam_amsgrad=False,adam_beta1=0.9000,adam_beta2=0.9990,adam_eps=0.0000,adam_weight_decay=_2023-06-08_13-32-02/checkpoint_000009/checkpoint.pt\", map_location=\"cpu\")\n",
    "state_dct = ckpt[\"model_state_dict\"]\n",
    "state_dct = {f\"_{key}\": value for key, value in state_dct.items()}\n",
    "gc.load_state_dict(state_dct)"
   ],
   "metadata": {
    "collapsed": false
   }
  },
  {
   "cell_type": "code",
   "execution_count": 11,
   "outputs": [],
   "source": [
    "\n",
    "lmodel = MLModule(\n",
    "    model=gc,\n",
    "    loss_fct=GraphConstructionHingeEmbeddingLoss(max_num_neighbors=256, r_emb=1, attr_pt_thld=0.9),\n",
    "    lw_repulsive=0.001953029788887701,  # loss weight, see below\n",
    "    optimizer=partial(torch.optim.Adam, lr=1e-3),\n",
    ")"
   ],
   "metadata": {
    "collapsed": false
   }
  },
  {
   "cell_type": "code",
   "execution_count": 12,
   "outputs": [
    {
     "name": "stderr",
     "output_type": "stream",
     "text": [
      "/scratch/gpfs/kl5675/micromamba/envs/gnn/lib/python3.10/site-packages/lightning_fabric/plugins/environments/slurm.py:165: PossibleUserWarning: The `srun` command is available on your system but is not used. HINT: If your intention is to run Lightning on SLURM, prepend your python command with `srun` like so: srun python /scratch/gpfs/kl5675/micromamba/envs/gnn/lib/python3 ...\n",
      "  rank_zero_warn(\n",
      "GPU available: True (cuda), used: False\n",
      "TPU available: False, using: 0 TPU cores\n",
      "IPU available: False, using: 0 IPUs\n",
      "HPU available: False, using: 0 HPUs\n",
      "/scratch/gpfs/kl5675/micromamba/envs/gnn/lib/python3.10/site-packages/pytorch_lightning/trainer/setup.py:176: PossibleUserWarning: GPU available but not used. Set `accelerator` and `devices` using `Trainer(accelerator='gpu', devices=1)`.\n",
      "  rank_zero_warn(\n"
     ]
    }
   ],
   "source": [
    "\n",
    "trainer = Trainer(accelerator=\"cpu\", max_epochs=0)"
   ],
   "metadata": {
    "collapsed": false
   }
  },
  {
   "cell_type": "code",
   "execution_count": 13,
   "outputs": [
    {
     "name": "stderr",
     "output_type": "stream",
     "text": [
      "/scratch/gpfs/kl5675/micromamba/envs/gnn/lib/python3.10/site-packages/lightning_fabric/plugins/environments/slurm.py:165: PossibleUserWarning: The `srun` command is available on your system but is not used. HINT: If your intention is to run Lightning on SLURM, prepend your python command with `srun` like so: srun python /scratch/gpfs/kl5675/micromamba/envs/gnn/lib/python3 ...\n",
      "  rank_zero_warn(\n",
      "\u001B[32m[16:29:05] INFO: DataLoader will load 900 graphs (out of 900 available).\u001B[0m\n",
      "\u001B[36m[16:29:05] DEBUG: First graph is /scratch/gpfs/IOJALVO/gnn-tracking/object_condensation/point_clouds_v5/part_1/data21000_s0.pt, last graph is /scratch/gpfs/IOJALVO/gnn-tracking/object_condensation/point_clouds_v5/part_1/data21999_s0.pt\u001B[0m\n",
      "\u001B[32m[16:29:05] INFO: DataLoader will load 5 graphs (out of 1000 available).\u001B[0m\n",
      "\u001B[36m[16:29:05] DEBUG: First graph is /scratch/gpfs/IOJALVO/gnn-tracking/object_condensation/point_clouds_v5/part_9/data29000_s0.pt, last graph is /scratch/gpfs/IOJALVO/gnn-tracking/object_condensation/point_clouds_v5/part_9/data29004_s0.pt\u001B[0m\n",
      "\n",
      "  | Name     | Type                                | Params\n",
      "-----------------------------------------------------------------\n",
      "0 | model    | GraphConstructionFCNN               | 1.3 M \n",
      "1 | loss_fct | GraphConstructionHingeEmbeddingLoss | 0     \n",
      "-----------------------------------------------------------------\n",
      "1.3 M     Trainable params\n",
      "0         Non-trainable params\n",
      "1.3 M     Total params\n",
      "5.288     Total estimated model params size (MB)\n"
     ]
    },
    {
     "data": {
      "text/plain": "Sanity Checking: 0it [00:00, ?it/s]",
      "application/vnd.jupyter.widget-view+json": {
       "version_major": 2,
       "version_minor": 0,
       "model_id": "b8b6de9033de49b485b56b9f3a9c8877"
      }
     },
     "metadata": {},
     "output_type": "display_data"
    },
    {
     "name": "stderr",
     "output_type": "stream",
     "text": [
      "/scratch/gpfs/kl5675/micromamba/envs/gnn/lib/python3.10/site-packages/pytorch_lightning/trainer/connectors/data_connector.py:432: PossibleUserWarning: The dataloader, val_dataloader, does not have many workers which may be a bottleneck. Consider increasing the value of the `num_workers` argument` (try 128 which is the number of cpus on this machine) in the `DataLoader` init to improve performance.\n",
      "  rank_zero_warn(\n",
      "/scratch/gpfs/kl5675/micromamba/envs/gnn/lib/python3.10/site-packages/pytorch_lightning/trainer/connectors/data_connector.py:432: PossibleUserWarning: The dataloader, train_dataloader, does not have many workers which may be a bottleneck. Consider increasing the value of the `num_workers` argument` (try 128 which is the number of cpus on this machine) in the `DataLoader` init to improve performance.\n",
      "  rank_zero_warn(\n",
      "`Trainer.fit` stopped: `max_epochs=0` reached.\n"
     ]
    }
   ],
   "source": [
    "trainer.fit(lmodel, dm)"
   ],
   "metadata": {
    "collapsed": false
   }
  },
  {
   "cell_type": "code",
   "execution_count": 14,
   "outputs": [],
   "source": [
    "trainer.save_checkpoint(model_exchange_path / \"gc-7dce6aff.ckpt\")"
   ],
   "metadata": {
    "collapsed": false
   }
  },
  {
   "cell_type": "code",
   "execution_count": 16,
   "outputs": [
    {
     "data": {
      "text/plain": "\"loss_fct\":     {'class_path': 'gnn_tracking.metrics.losses.GraphConstructionHingeEmbeddingLoss', 'init_args': {'r_emb': 1, 'max_num_neighbors': 256, 'attr_pt_thld': 0.9, 'p_attr': 1, 'p_rep': 1}}\n\"lw_repulsive\": 0.001953029788887701\n\"model\":        {'class_path': 'gnn_tracking.models.graph_construction.GraphConstructionFCNN', 'init_args': {'in_dim': 14, 'hidden_dim': 512, 'out_dim': 8, 'depth': 6, 'beta': 0.4}}\n\"preproc\":      None"
     },
     "execution_count": 16,
     "metadata": {},
     "output_type": "execute_result"
    }
   ],
   "source": [
    "lmodel.hparams"
   ],
   "metadata": {
    "collapsed": false
   }
  },
  {
   "cell_type": "markdown",
   "source": [
    "## Trying to restore"
   ],
   "metadata": {
    "collapsed": false
   }
  },
  {
   "cell_type": "code",
   "execution_count": 11,
   "outputs": [
    {
     "name": "stderr",
     "output_type": "stream",
     "text": [
      "\u001B[36m[17:24:59] DEBUG: Getting class MLModule from module gnn_tracking.training.ml\u001B[0m\n",
      "\u001B[36m[17:24:59] DEBUG: Loading checkpoint /scratch/gpfs/IOJALVO/gnn-tracking/object_condensation/model_exchange/gc/gc-7dce6aff.ckpt\u001B[0m\n",
      "\u001B[36m[17:24:59] DEBUG: Getting class GraphConstructionFCNN from module gnn_tracking.models.graph_construction\u001B[0m\n",
      "\u001B[36m[17:24:59] DEBUG: Getting class GraphConstructionHingeEmbeddingLoss from module gnn_tracking.metrics.losses\u001B[0m\n",
      "\u001B[36m[17:24:59] DEBUG: Checkpoint loaded. Model ready to go.\u001B[0m\n"
     ]
    }
   ],
   "source": [
    "lmodel = MLGraphConstruction.from_chkpt(\n",
    "    ml_chkpt_path=model_exchange_path / \"gc\" / \"gc-7dce6aff.ckpt\",\n",
    "    ml_freeze=False,\n",
    ")"
   ],
   "metadata": {
    "collapsed": false
   }
  },
  {
   "cell_type": "code",
   "execution_count": 12,
   "outputs": [],
   "source": [
    "out = lmodel(dm.datasets[\"val\"][0])"
   ],
   "metadata": {
    "collapsed": false
   }
  },
  {
   "cell_type": "code",
   "execution_count": 19,
   "outputs": [
    {
     "data": {
      "text/plain": "Data(x=[59357, 14], edge_index=[2, 7837097], edge_attr=[7837097, 28], y=[7837097], pt=[59357], particle_id=[59357], sector=[59357], reconstructable=[59357])"
     },
     "execution_count": 19,
     "metadata": {},
     "output_type": "execute_result"
    }
   ],
   "source": [
    "out"
   ],
   "metadata": {
    "collapsed": false
   }
  },
  {
   "cell_type": "markdown",
   "source": [
    "## EC"
   ],
   "metadata": {
    "collapsed": false
   }
  },
  {
   "cell_type": "code",
   "execution_count": 6,
   "outputs": [],
   "source": [
    "from gnn_tracking.models.edge_classifier import ECForGraphTCN\n",
    "\n",
    "model = ECForGraphTCN(\n",
    "    node_indim=14+8,\n",
    "    edge_indim=(14+8)*2,\n",
    "    interaction_node_dim=128,\n",
    "    interaction_edge_dim=128,\n",
    "    hidden_dim=128,\n",
    "    L_ec=3,\n",
    "    alpha=0.35,\n",
    "    use_intermediate_edge_embeddings=False,\n",
    "    use_node_embedding=True,\n",
    ")\n"
   ],
   "metadata": {
    "collapsed": false
   }
  },
  {
   "cell_type": "code",
   "execution_count": 7,
   "outputs": [
    {
     "data": {
      "text/plain": "<All keys matched successfully>"
     },
     "execution_count": 7,
     "metadata": {},
     "output_type": "execute_result"
    }
   ],
   "source": [
    "ckpt = torch.load(\"/home/kl5675/ray_results/ds-ef-7dce6aff/GCWithECTrainable_ddff435e_1_val_batch_size=1,adam_amsgrad=False,adam_beta1=0.9000,adam_beta2=0.9990,adam_eps=0.0000,adam_weight_d_2023-06-10_16-10-21/checkpoint_000083/checkpoint.pt\", map_location=\"cpu\")\n",
    "state_dct = ckpt[\"model_state_dict\"]\n",
    "model.load_state_dict(state_dct)"
   ],
   "metadata": {
    "collapsed": false
   }
  },
  {
   "cell_type": "code",
   "execution_count": 8,
   "outputs": [
    {
     "name": "stderr",
     "output_type": "stream",
     "text": [
      "\u001B[36m[16:33:24] DEBUG: Getting class MLModule from module gnn_tracking.training.ml\u001B[0m\n",
      "\u001B[36m[16:33:24] DEBUG: Loading checkpoint /scratch/gpfs/IOJALVO/gnn-tracking/object_condensation/model_exchange/gc/gc-7dce6aff.ckpt\u001B[0m\n",
      "\u001B[36m[16:33:24] DEBUG: Getting class GraphConstructionFCNN from module gnn_tracking.models.graph_construction\u001B[0m\n",
      "\u001B[36m[16:33:24] DEBUG: Getting class GraphConstructionHingeEmbeddingLoss from module gnn_tracking.metrics.losses\u001B[0m\n",
      "\u001B[36m[16:33:24] DEBUG: Checkpoint loaded. Model ready to go.\u001B[0m\n"
     ]
    }
   ],
   "source": [
    "\n",
    "\n",
    "lmodel = ECModule(\n",
    "    model=model,\n",
    "    loss_fct=HaughtyFocalLoss(alpha=0.5, gamma=2),\n",
    "    preproc=MLGraphConstruction.from_chkpt(\n",
    "        ml_chkpt_path=model_exchange_path / \"gc\" / \"gc-7dce6aff.ckpt\",\n",
    "        use_embedding_features=True,\n",
    "    )\n",
    ")"
   ],
   "metadata": {
    "collapsed": false
   }
  },
  {
   "cell_type": "code",
   "execution_count": 9,
   "outputs": [
    {
     "name": "stderr",
     "output_type": "stream",
     "text": [
      "/scratch/gpfs/kl5675/micromamba/envs/gnn/lib/python3.10/site-packages/lightning_fabric/plugins/environments/slurm.py:165: PossibleUserWarning: The `srun` command is available on your system but is not used. HINT: If your intention is to run Lightning on SLURM, prepend your python command with `srun` like so: srun python /scratch/gpfs/kl5675/micromamba/envs/gnn/lib/python3 ...\n",
      "  rank_zero_warn(\n",
      "GPU available: True (cuda), used: False\n",
      "TPU available: False, using: 0 TPU cores\n",
      "IPU available: False, using: 0 IPUs\n",
      "HPU available: False, using: 0 HPUs\n",
      "/scratch/gpfs/kl5675/micromamba/envs/gnn/lib/python3.10/site-packages/pytorch_lightning/trainer/setup.py:176: PossibleUserWarning: GPU available but not used. Set `accelerator` and `devices` using `Trainer(accelerator='gpu', devices=1)`.\n",
      "  rank_zero_warn(\n"
     ]
    }
   ],
   "source": [
    "trainer = Trainer(accelerator=\"cpu\", max_epochs=0, num_sanity_val_steps=0)"
   ],
   "metadata": {
    "collapsed": false
   }
  },
  {
   "cell_type": "code",
   "execution_count": 10,
   "outputs": [
    {
     "name": "stderr",
     "output_type": "stream",
     "text": [
      "/scratch/gpfs/kl5675/micromamba/envs/gnn/lib/python3.10/site-packages/lightning_fabric/plugins/environments/slurm.py:165: PossibleUserWarning: The `srun` command is available on your system but is not used. HINT: If your intention is to run Lightning on SLURM, prepend your python command with `srun` like so: srun python /scratch/gpfs/kl5675/micromamba/envs/gnn/lib/python3 ...\n",
      "  rank_zero_warn(\n",
      "\u001B[32m[16:33:26] INFO: DataLoader will load 900 graphs (out of 900 available).\u001B[0m\n",
      "\u001B[36m[16:33:26] DEBUG: First graph is /scratch/gpfs/IOJALVO/gnn-tracking/object_condensation/point_clouds_v5/part_1/data21000_s0.pt, last graph is /scratch/gpfs/IOJALVO/gnn-tracking/object_condensation/point_clouds_v5/part_1/data21999_s0.pt\u001B[0m\n",
      "\u001B[32m[16:33:26] INFO: DataLoader will load 5 graphs (out of 1000 available).\u001B[0m\n",
      "\u001B[36m[16:33:26] DEBUG: First graph is /scratch/gpfs/IOJALVO/gnn-tracking/object_condensation/point_clouds_v5/part_9/data29000_s0.pt, last graph is /scratch/gpfs/IOJALVO/gnn-tracking/object_condensation/point_clouds_v5/part_9/data29004_s0.pt\u001B[0m\n",
      "\n",
      "  | Name     | Type                | Params\n",
      "-------------------------------------------------\n",
      "0 | model    | ECForGraphTCN       | 551 K \n",
      "1 | preproc  | MLGraphConstruction | 1.3 M \n",
      "2 | loss_fct | HaughtyFocalLoss    | 0     \n",
      "-------------------------------------------------\n",
      "551 K     Trainable params\n",
      "1.3 M     Non-trainable params\n",
      "1.9 M     Total params\n",
      "7.495     Total estimated model params size (MB)\n",
      "/scratch/gpfs/kl5675/micromamba/envs/gnn/lib/python3.10/site-packages/pytorch_lightning/trainer/connectors/data_connector.py:432: PossibleUserWarning: The dataloader, train_dataloader, does not have many workers which may be a bottleneck. Consider increasing the value of the `num_workers` argument` (try 128 which is the number of cpus on this machine) in the `DataLoader` init to improve performance.\n",
      "  rank_zero_warn(\n",
      "`Trainer.fit` stopped: `max_epochs=0` reached.\n"
     ]
    }
   ],
   "source": [
    "trainer.fit(lmodel, dm)"
   ],
   "metadata": {
    "collapsed": false
   }
  },
  {
   "cell_type": "code",
   "execution_count": 11,
   "outputs": [],
   "source": [
    "trainer.save_checkpoint(model_exchange_path / \"ec\" / \"ec-ddff435e.ckpt\")"
   ],
   "metadata": {
    "collapsed": false
   }
  },
  {
   "cell_type": "markdown",
   "source": [
    "### Try restore"
   ],
   "metadata": {
    "collapsed": false
   }
  },
  {
   "cell_type": "code",
   "execution_count": 15,
   "outputs": [
    {
     "name": "stderr",
     "output_type": "stream",
     "text": [
      "\u001B[36m[17:25:28] DEBUG: Getting class MLModule from module gnn_tracking.training.ml\u001B[0m\n",
      "\u001B[36m[17:25:28] DEBUG: Loading checkpoint /scratch/gpfs/IOJALVO/gnn-tracking/object_condensation/model_exchange/gc/gc-7dce6aff.ckpt\u001B[0m\n",
      "\u001B[36m[17:25:28] DEBUG: Getting class GraphConstructionFCNN from module gnn_tracking.models.graph_construction\u001B[0m\n",
      "\u001B[36m[17:25:28] DEBUG: Getting class GraphConstructionHingeEmbeddingLoss from module gnn_tracking.metrics.losses\u001B[0m\n",
      "\u001B[36m[17:25:28] DEBUG: Checkpoint loaded. Model ready to go.\u001B[0m\n",
      "\u001B[36m[17:25:28] DEBUG: Getting class ECModule from module gnn_tracking.training.ec\u001B[0m\n",
      "\u001B[36m[17:25:28] DEBUG: Loading checkpoint /scratch/gpfs/IOJALVO/gnn-tracking/object_condensation/model_exchange/ec/ec-ddff435e.ckpt\u001B[0m\n",
      "\u001B[36m[17:25:28] DEBUG: Getting class ECForGraphTCN from module gnn_tracking.models.edge_classifier\u001B[0m\n",
      "\u001B[36m[17:25:28] DEBUG: Getting class MLGraphConstruction from module gnn_tracking.models.graph_construction\u001B[0m\n",
      "\u001B[36m[17:25:28] DEBUG: Getting class GraphConstructionFCNN from module gnn_tracking.models.graph_construction\u001B[0m\n",
      "\u001B[36m[17:25:28] DEBUG: Getting class HaughtyFocalLoss from module gnn_tracking.metrics.losses\u001B[0m\n",
      "\u001B[36m[17:25:28] DEBUG: Checkpoint loaded. Model ready to go.\u001B[0m\n"
     ]
    },
    {
     "data": {
      "text/plain": "MLGraphConstruction(\n  (_ml): GraphConstructionFCNN(\n    (_encoder): Linear(in_features=14, out_features=512, bias=False)\n    (_decoder): Linear(in_features=512, out_features=8, bias=False)\n    (_layers): ModuleList(\n      (0-4): 5 x Linear(in_features=512, out_features=512, bias=False)\n    )\n  )\n  (_ef): ECForGraphTCN(\n    (relu): ReLU()\n    (ec_node_encoder): MLP(\n      (layers): ModuleList(\n        (0): Linear(in_features=22, out_features=128, bias=False)\n        (1): ReLU()\n        (2): Linear(in_features=128, out_features=128, bias=False)\n      )\n    )\n    (ec_edge_encoder): MLP(\n      (layers): ModuleList(\n        (0): Linear(in_features=44, out_features=128, bias=False)\n        (1): ReLU()\n        (2): Linear(in_features=128, out_features=128, bias=False)\n      )\n    )\n    (ec_resin): ResIN(\n      (network): Skip1ResidualNetwork(\n        (layers): ModuleList(\n          (0-2): 3 x InteractionNetwork()\n        )\n      )\n    )\n    (W): MLP(\n      (layers): ModuleList(\n        (0): Linear(in_features=384, out_features=128, bias=True)\n        (1): ReLU()\n        (2): Linear(in_features=128, out_features=128, bias=True)\n        (3): ReLU()\n        (4): Linear(in_features=128, out_features=1, bias=True)\n      )\n    )\n  )\n)"
     },
     "execution_count": 15,
     "metadata": {},
     "output_type": "execute_result"
    }
   ],
   "source": [
    "MLGraphConstruction.from_chkpt(\n",
    "    ml_chkpt_path=model_exchange_path / \"gc\" / \"gc-7dce6aff.ckpt\",\n",
    "    ec_chkpt_path=model_exchange_path / \"ec\" / \"ec-ddff435e.ckpt\",\n",
    "    use_embedding_features=True,\n",
    "    ec_threshold=0.5,\n",
    ")"
   ],
   "metadata": {
    "collapsed": false
   }
  },
  {
   "cell_type": "code",
   "execution_count": 13,
   "outputs": [
    {
     "name": "stderr",
     "output_type": "stream",
     "text": [
      "\u001B[36m[16:34:44] DEBUG: Getting class ECModule from module gnn_tracking.training.ec\u001B[0m\n",
      "\u001B[36m[16:34:44] DEBUG: Loading checkpoint /scratch/gpfs/IOJALVO/gnn-tracking/object_condensation/model_exchange/ec/ec-ddff435e.ckpt\u001B[0m\n",
      "\u001B[36m[16:34:44] DEBUG: Getting class ECForGraphTCN from module gnn_tracking.models.edge_classifier\u001B[0m\n",
      "\u001B[36m[16:34:44] DEBUG: Getting class MLGraphConstruction from module gnn_tracking.models.graph_construction\u001B[0m\n",
      "\u001B[36m[16:34:44] DEBUG: Getting class GraphConstructionFCNN from module gnn_tracking.models.graph_construction\u001B[0m\n",
      "\u001B[36m[16:34:44] DEBUG: Getting class HaughtyFocalLoss from module gnn_tracking.metrics.losses\u001B[0m\n",
      "\u001B[36m[16:34:44] DEBUG: Checkpoint loaded. Model ready to go.\u001B[0m\n"
     ]
    }
   ],
   "source": [
    "\n",
    "ec_restored = ec_from_chkpt(model_exchange_path / \"ec\" / \"ec-ddff435e.ckpt\")"
   ],
   "metadata": {
    "collapsed": false
   }
  },
  {
   "cell_type": "markdown",
   "source": [
    "## TC"
   ],
   "metadata": {
    "collapsed": false
   }
  },
  {
   "cell_type": "code",
   "execution_count": 24,
   "outputs": [
    {
     "name": "stderr",
     "output_type": "stream",
     "text": [
      "\u001B[36m[17:32:26] DEBUG: Getting class ECModule from module gnn_tracking.training.ec\u001B[0m\n",
      "\u001B[36m[17:32:26] DEBUG: Loading checkpoint /scratch/gpfs/IOJALVO/gnn-tracking/object_condensation/model_exchange/ec/ec-ddff435e.ckpt\u001B[0m\n",
      "\u001B[36m[17:32:26] DEBUG: Getting class ECForGraphTCN from module gnn_tracking.models.edge_classifier\u001B[0m\n",
      "\u001B[36m[17:32:26] DEBUG: Getting class MLGraphConstruction from module gnn_tracking.models.graph_construction\u001B[0m\n",
      "\u001B[36m[17:32:26] DEBUG: Getting class GraphConstructionFCNN from module gnn_tracking.models.graph_construction\u001B[0m\n",
      "\u001B[36m[17:32:26] DEBUG: Getting class HaughtyFocalLoss from module gnn_tracking.metrics.losses\u001B[0m\n",
      "\u001B[36m[17:32:26] DEBUG: Checkpoint loaded. Model ready to go.\u001B[0m\n",
      "/scratch/gpfs/kl5675/micromamba/envs/gnn/lib/python3.10/site-packages/pytorch_lightning/utilities/parsing.py:196: UserWarning: Attribute 'ec' is an instance of `nn.Module` and is already saved during checkpointing. It is recommended to ignore them using `self.save_hyperparameters(ignore=['ec'])`.\n",
      "  rank_zero_warn(\n",
      "/scratch/gpfs/kl5675/micromamba/envs/gnn/lib/python3.10/site-packages/pytorch_lightning/utilities/parsing.py:196: UserWarning: Attribute 'hc_in' is an instance of `nn.Module` and is already saved during checkpointing. It is recommended to ignore them using `self.save_hyperparameters(ignore=['hc_in'])`.\n",
      "  rank_zero_warn(\n"
     ]
    }
   ],
   "source": [
    "from pytorch_lightning.core.mixins import HyperparametersMixin\n",
    "from gnn_tracking.models.track_condensation_networks import GraphTCN, \\\n",
    "    PreTrainedECGraphTCN\n",
    "\n",
    "# class MockEC():\n",
    "#     latent_dim=(128, 128)\n",
    "\n",
    "model = PreTrainedECGraphTCN(\n",
    "    ec=ec_from_chkpt(model_exchange_path / \"ec\" / \"ec-ddff435e.ckpt\"),\n",
    "    node_indim=22,\n",
    "    edge_indim=44,\n",
    "    h_dim=192,\n",
    "    e_dim=192,\n",
    "    h_outdim=12,\n",
    "    hidden_dim=192,\n",
    "    L_hc=3,\n",
    "    feed_edge_weights=True,\n",
    "    ec_threshold=0.2,\n",
    "    mask_orphan_nodes=False,\n",
    "    use_ec_embeddings_for_hc=True,\n",
    "\n",
    ")"
   ],
   "metadata": {
    "collapsed": false
   }
  },
  {
   "cell_type": "code",
   "execution_count": 25,
   "outputs": [
    {
     "data": {
      "text/plain": "\"L_hc\":                     3\n\"alpha_hc\":                 0.5\n\"e_dim\":                    192\n\"ec\":                       {'class_path': 'gnn_tracking.models.edge_classifier.ECForGraphTCN', 'init_args': {'node_indim': 22, 'edge_indim': 44, 'interaction_node_dim': 128, 'interaction_edge_dim': 128, 'hidden_dim': 128, 'L_ec': 3, 'alpha': 0.35, 'residual_type': 'skip1', 'use_intermediate_edge_embeddings': False, 'use_node_embedding': True, 'residual_kwargs': None}}\n\"ec_threshold\":             0.2\n\"edge_indim\":               44\n\"feed_edge_weights\":        True\n\"h_dim\":                    192\n\"h_outdim\":                 12\n\"hidden_dim\":               192\n\"mask_orphan_nodes\":        False\n\"node_indim\":               22\n\"use_ec_embeddings_for_hc\": True"
     },
     "execution_count": 25,
     "metadata": {},
     "output_type": "execute_result"
    }
   ],
   "source": [
    "model.hparams"
   ],
   "metadata": {
    "collapsed": false
   }
  },
  {
   "cell_type": "code",
   "execution_count": 26,
   "outputs": [
    {
     "data": {
      "text/plain": "_IncompatibleKeys(missing_keys=['_gtcn.ec.ec_node_encoder.layers.0.weight', '_gtcn.ec.ec_node_encoder.layers.2.weight', '_gtcn.ec.ec_edge_encoder.layers.0.weight', '_gtcn.ec.ec_edge_encoder.layers.2.weight', '_gtcn.ec.ec_resin.network.layers.0.relational_model.layers.0.weight', '_gtcn.ec.ec_resin.network.layers.0.relational_model.layers.0.bias', '_gtcn.ec.ec_resin.network.layers.0.relational_model.layers.2.weight', '_gtcn.ec.ec_resin.network.layers.0.relational_model.layers.2.bias', '_gtcn.ec.ec_resin.network.layers.0.relational_model.layers.4.weight', '_gtcn.ec.ec_resin.network.layers.0.relational_model.layers.4.bias', '_gtcn.ec.ec_resin.network.layers.0.object_model.layers.0.weight', '_gtcn.ec.ec_resin.network.layers.0.object_model.layers.0.bias', '_gtcn.ec.ec_resin.network.layers.0.object_model.layers.2.weight', '_gtcn.ec.ec_resin.network.layers.0.object_model.layers.2.bias', '_gtcn.ec.ec_resin.network.layers.0.object_model.layers.4.weight', '_gtcn.ec.ec_resin.network.layers.0.object_model.layers.4.bias', '_gtcn.ec.ec_resin.network.layers.1.relational_model.layers.0.weight', '_gtcn.ec.ec_resin.network.layers.1.relational_model.layers.0.bias', '_gtcn.ec.ec_resin.network.layers.1.relational_model.layers.2.weight', '_gtcn.ec.ec_resin.network.layers.1.relational_model.layers.2.bias', '_gtcn.ec.ec_resin.network.layers.1.relational_model.layers.4.weight', '_gtcn.ec.ec_resin.network.layers.1.relational_model.layers.4.bias', '_gtcn.ec.ec_resin.network.layers.1.object_model.layers.0.weight', '_gtcn.ec.ec_resin.network.layers.1.object_model.layers.0.bias', '_gtcn.ec.ec_resin.network.layers.1.object_model.layers.2.weight', '_gtcn.ec.ec_resin.network.layers.1.object_model.layers.2.bias', '_gtcn.ec.ec_resin.network.layers.1.object_model.layers.4.weight', '_gtcn.ec.ec_resin.network.layers.1.object_model.layers.4.bias', '_gtcn.ec.ec_resin.network.layers.2.relational_model.layers.0.weight', '_gtcn.ec.ec_resin.network.layers.2.relational_model.layers.0.bias', '_gtcn.ec.ec_resin.network.layers.2.relational_model.layers.2.weight', '_gtcn.ec.ec_resin.network.layers.2.relational_model.layers.2.bias', '_gtcn.ec.ec_resin.network.layers.2.relational_model.layers.4.weight', '_gtcn.ec.ec_resin.network.layers.2.relational_model.layers.4.bias', '_gtcn.ec.ec_resin.network.layers.2.object_model.layers.0.weight', '_gtcn.ec.ec_resin.network.layers.2.object_model.layers.0.bias', '_gtcn.ec.ec_resin.network.layers.2.object_model.layers.2.weight', '_gtcn.ec.ec_resin.network.layers.2.object_model.layers.2.bias', '_gtcn.ec.ec_resin.network.layers.2.object_model.layers.4.weight', '_gtcn.ec.ec_resin.network.layers.2.object_model.layers.4.bias', '_gtcn.ec.W.layers.0.weight', '_gtcn.ec.W.layers.0.bias', '_gtcn.ec.W.layers.2.weight', '_gtcn.ec.W.layers.2.bias', '_gtcn.ec.W.layers.4.weight', '_gtcn.ec.W.layers.4.bias'], unexpected_keys=[])"
     },
     "execution_count": 26,
     "metadata": {},
     "output_type": "execute_result"
    }
   ],
   "source": [
    "ckpt = torch.load(\"/home/kl5675/ray_results/613788bb-continued/TCNFromGCTrainable_04b2e3ce_2_val_batch_size=1,adam_amsgrad=False,adam_beta1=0.9000,adam_beta2=0.9990,adam_eps=0.0000,adam_weight__2023-06-14_23-29-18/checkpoint_000018/checkpoint.pt\", map_location=\"cpu\")\n",
    "state_dct = {k: v for k, v in ckpt[\"model_state_dict\"].items() if not k.startswith(\"_gtcn.ec\")}\n",
    "model.load_state_dict(state_dct, strict=False)"
   ],
   "metadata": {
    "collapsed": false
   }
  },
  {
   "cell_type": "code",
   "execution_count": 51,
   "outputs": [
    {
     "name": "stderr",
     "output_type": "stream",
     "text": [
      "\u001B[36m[17:38:35] DEBUG: Getting class MLModule from module gnn_tracking.training.ml\u001B[0m\n",
      "\u001B[36m[17:38:35] DEBUG: Loading checkpoint /scratch/gpfs/IOJALVO/gnn-tracking/object_condensation/model_exchange/gc/gc-7dce6aff.ckpt\u001B[0m\n",
      "\u001B[36m[17:38:35] DEBUG: Getting class GraphConstructionFCNN from module gnn_tracking.models.graph_construction\u001B[0m\n",
      "\u001B[36m[17:38:35] DEBUG: Getting class GraphConstructionHingeEmbeddingLoss from module gnn_tracking.metrics.losses\u001B[0m\n",
      "\u001B[36m[17:38:35] DEBUG: Checkpoint loaded. Model ready to go.\u001B[0m\n"
     ]
    }
   ],
   "source": [
    "\n",
    "from gnn_tracking.postprocessing.dbscanscanner import DBSCANHyperParamScanner\n",
    "\n",
    "lmodel = TCModule(\n",
    "    model=model,\n",
    "    lw_repulsive=0.743380428762342,\n",
    "    lw_background=0.0041,\n",
    "    preproc=MLGraphConstruction.from_chkpt(\n",
    "        ml_chkpt_path=model_exchange_path / \"gc\" / \"gc-7dce6aff.ckpt\",\n",
    "        use_embedding_features=True,\n",
    "        max_num_neighbors=64,\n",
    "        max_radius=0.8,\n",
    "    ),\n",
    "    cluster_scanner=DBSCANHyperParamScanner(n_trials=20, n_jobs=6),\n",
    ")"
   ],
   "metadata": {
    "collapsed": false
   }
  },
  {
   "cell_type": "code",
   "execution_count": 52,
   "outputs": [
    {
     "name": "stdout",
     "output_type": "stream",
     "text": [
      "{'background_loss': {'class_path': 'gnn_tracking.metrics.losses.BackgroundLoss',\n",
      "                     'init_args': {'sb': 0.1}},\n",
      " 'cluster_scanner': {'class_path': 'gnn_tracking.postprocessing.dbscanscanner.DBSCANHyperParamScanner',\n",
      "                     'init_args': {'eps_range': (1e-05, 1.0),\n",
      "                                   'guide': 'trk.double_majority_pt0.9',\n",
      "                                   'min_samples_range': (1, 1),\n",
      "                                   'n_jobs': 6,\n",
      "                                   'n_trials': 20}},\n",
      " 'lw_background': 0.0041,\n",
      " 'lw_repulsive': 0.743380428762342,\n",
      " 'model': {'class_path': 'gnn_tracking.models.track_condensation_networks.PreTrainedECGraphTCN',\n",
      "           'init_args': {'L_hc': 3,\n",
      "                         'alpha_hc': 0.5,\n",
      "                         'e_dim': 192,\n",
      "                         'ec': {'class_path': 'gnn_tracking.models.edge_classifier.ECForGraphTCN',\n",
      "                                'init_args': {'L_ec': 3,\n",
      "                                              'alpha': 0.35,\n",
      "                                              'edge_indim': 44,\n",
      "                                              'hidden_dim': 128,\n",
      "                                              'interaction_edge_dim': 128,\n",
      "                                              'interaction_node_dim': 128,\n",
      "                                              'node_indim': 22,\n",
      "                                              'residual_kwargs': None,\n",
      "                                              'residual_type': 'skip1',\n",
      "                                              'use_intermediate_edge_embeddings': False,\n",
      "                                              'use_node_embedding': True}},\n",
      "                         'ec_threshold': 0.2,\n",
      "                         'edge_indim': 44,\n",
      "                         'feed_edge_weights': True,\n",
      "                         'h_dim': 192,\n",
      "                         'h_outdim': 12,\n",
      "                         'hidden_dim': 192,\n",
      "                         'mask_orphan_nodes': False,\n",
      "                         'node_indim': 22,\n",
      "                         'use_ec_embeddings_for_hc': True}},\n",
      " 'potential_loss': {'class_path': 'gnn_tracking.metrics.losses.PotentialLoss',\n",
      "                    'init_args': {'attr_pt_thld': 0.9,\n",
      "                                  'q_min': 0.01,\n",
      "                                  'radius_threshold': 1.0}},\n",
      " 'preproc': {'class_path': 'gnn_tracking.models.graph_construction.MLGraphConstruction',\n",
      "             'init_args': {'build_edge_features': True,\n",
      "                           'ec': None,\n",
      "                           'ec_freeze': True,\n",
      "                           'ec_threshold': None,\n",
      "                           'max_num_neighbors': 64,\n",
      "                           'max_radius': 0.8,\n",
      "                           'ml': {'class_path': 'gnn_tracking.models.graph_construction.GraphConstructionFCNN',\n",
      "                                  'init_args': {'beta': 0.4,\n",
      "                                                'depth': 6,\n",
      "                                                'hidden_dim': 512,\n",
      "                                                'in_dim': 14,\n",
      "                                                'out_dim': 8}},\n",
      "                           'ml_freeze': True,\n",
      "                           'ratio_of_false': None,\n",
      "                           'use_embedding_features': True}}}\n"
     ]
    }
   ],
   "source": [
    "pprint.pprint(dict(lmodel.hparams))"
   ],
   "metadata": {
    "collapsed": false
   }
  },
  {
   "cell_type": "code",
   "execution_count": 54,
   "outputs": [
    {
     "name": "stderr",
     "output_type": "stream",
     "text": [
      "/scratch/gpfs/kl5675/micromamba/envs/gnn/lib/python3.10/site-packages/lightning_fabric/plugins/environments/slurm.py:165: PossibleUserWarning: The `srun` command is available on your system but is not used. HINT: If your intention is to run Lightning on SLURM, prepend your python command with `srun` like so: srun python /scratch/gpfs/kl5675/micromamba/envs/gnn/lib/python3 ...\n",
      "  rank_zero_warn(\n",
      "GPU available: True (cuda), used: False\n",
      "TPU available: False, using: 0 TPU cores\n",
      "IPU available: False, using: 0 IPUs\n",
      "HPU available: False, using: 0 HPUs\n",
      "/scratch/gpfs/kl5675/micromamba/envs/gnn/lib/python3.10/site-packages/pytorch_lightning/trainer/setup.py:176: PossibleUserWarning: GPU available but not used. Set `accelerator` and `devices` using `Trainer(accelerator='gpu', devices=1)`.\n",
      "  rank_zero_warn(\n"
     ]
    }
   ],
   "source": [
    "trainer = Trainer(accelerator=\"cpu\", max_steps=0, num_sanity_val_steps=0)"
   ],
   "metadata": {
    "collapsed": false
   }
  },
  {
   "cell_type": "code",
   "execution_count": 55,
   "outputs": [
    {
     "name": "stderr",
     "output_type": "stream",
     "text": [
      "\u001B[32m[17:38:46] INFO: DataLoader will load 900 graphs (out of 900 available).\u001B[0m\n",
      "\u001B[36m[17:38:46] DEBUG: First graph is /scratch/gpfs/IOJALVO/gnn-tracking/object_condensation/point_clouds_v5/part_1/data21000_s0.pt, last graph is /scratch/gpfs/IOJALVO/gnn-tracking/object_condensation/point_clouds_v5/part_1/data21999_s0.pt\u001B[0m\n",
      "\u001B[32m[17:38:46] INFO: DataLoader will load 5 graphs (out of 1000 available).\u001B[0m\n",
      "\u001B[36m[17:38:46] DEBUG: First graph is /scratch/gpfs/IOJALVO/gnn-tracking/object_condensation/point_clouds_v5/part_9/data29000_s0.pt, last graph is /scratch/gpfs/IOJALVO/gnn-tracking/object_condensation/point_clouds_v5/part_9/data29004_s0.pt\u001B[0m\n",
      "\n",
      "  | Name            | Type                 | Params\n",
      "---------------------------------------------------------\n",
      "0 | model           | PreTrainedECGraphTCN | 1.8 M \n",
      "1 | preproc         | MLGraphConstruction  | 1.3 M \n",
      "2 | potential_loss  | PotentialLoss        | 0     \n",
      "3 | background_loss | BackgroundLoss       | 0     \n",
      "---------------------------------------------------------\n",
      "1.3 M     Trainable params\n",
      "1.9 M     Non-trainable params\n",
      "3.2 M     Total params\n",
      "12.636    Total estimated model params size (MB)\n",
      "/scratch/gpfs/kl5675/micromamba/envs/gnn/lib/python3.10/site-packages/pytorch_lightning/trainer/connectors/data_connector.py:432: PossibleUserWarning: The dataloader, train_dataloader, does not have many workers which may be a bottleneck. Consider increasing the value of the `num_workers` argument` (try 48 which is the number of cpus on this machine) in the `DataLoader` init to improve performance.\n",
      "  rank_zero_warn(\n",
      "`Trainer.fit` stopped: `max_steps=0` reached.\n"
     ]
    }
   ],
   "source": [
    "trainer.fit(lmodel, dm)"
   ],
   "metadata": {
    "collapsed": false
   }
  },
  {
   "cell_type": "code",
   "execution_count": 56,
   "outputs": [],
   "source": [
    "trainer.save_checkpoint(model_exchange_path / \"tc\" / \"tc-04b2e3ce.ckpt\")"
   ],
   "metadata": {
    "collapsed": false
   }
  },
  {
   "cell_type": "markdown",
   "source": [
    "## Try restore"
   ],
   "metadata": {
    "collapsed": false
   }
  },
  {
   "cell_type": "code",
   "execution_count": 57,
   "outputs": [
    {
     "name": "stderr",
     "output_type": "stream",
     "text": [
      "\u001B[36m[17:38:48] DEBUG: Getting class PreTrainedECGraphTCN from module gnn_tracking.models.track_condensation_networks\u001B[0m\n",
      "\u001B[36m[17:38:48] DEBUG: Getting class ECForGraphTCN from module gnn_tracking.models.edge_classifier\u001B[0m\n",
      "/scratch/gpfs/kl5675/micromamba/envs/gnn/lib/python3.10/site-packages/pytorch_lightning/utilities/parsing.py:196: UserWarning: Attribute 'ec' is an instance of `nn.Module` and is already saved during checkpointing. It is recommended to ignore them using `self.save_hyperparameters(ignore=['ec'])`.\n",
      "  rank_zero_warn(\n",
      "/scratch/gpfs/kl5675/micromamba/envs/gnn/lib/python3.10/site-packages/pytorch_lightning/utilities/parsing.py:196: UserWarning: Attribute 'hc_in' is an instance of `nn.Module` and is already saved during checkpointing. It is recommended to ignore them using `self.save_hyperparameters(ignore=['hc_in'])`.\n",
      "  rank_zero_warn(\n",
      "\u001B[36m[17:38:48] DEBUG: Getting class MLGraphConstruction from module gnn_tracking.models.graph_construction\u001B[0m\n",
      "\u001B[36m[17:38:48] DEBUG: Getting class GraphConstructionFCNN from module gnn_tracking.models.graph_construction\u001B[0m\n",
      "\u001B[36m[17:38:48] DEBUG: Getting class PotentialLoss from module gnn_tracking.metrics.losses\u001B[0m\n",
      "\u001B[36m[17:38:48] DEBUG: Getting class BackgroundLoss from module gnn_tracking.metrics.losses\u001B[0m\n",
      "\u001B[36m[17:38:48] DEBUG: Getting class DBSCANHyperParamScanner from module gnn_tracking.postprocessing.dbscanscanner\u001B[0m\n"
     ]
    }
   ],
   "source": [
    "lmodel = TCModule.load_from_checkpoint(\n",
    "    model_exchange_path / \"tc\" / \"tc-04b2e3ce.ckpt\",\n",
    ")"
   ],
   "metadata": {
    "collapsed": false
   }
  },
  {
   "cell_type": "code",
   "execution_count": 62,
   "outputs": [
    {
     "data": {
      "text/plain": "\u001B[1m{\u001B[0m\n\u001B[2;32m│   \u001B[0m\u001B[32m'model'\u001B[0m: \u001B[1m{\u001B[0m\n\u001B[2;32m│   │   \u001B[0m\u001B[32m'class_path'\u001B[0m: \u001B[32m'gnn_tracking.models.track_condensation_networks.PreTrainedECGraphTCN'\u001B[0m,\n\u001B[2;32m│   │   \u001B[0m\u001B[32m'init_args'\u001B[0m: \u001B[1m{\u001B[0m\n\u001B[2;32m│   │   │   \u001B[0m\u001B[32m'node_indim'\u001B[0m: \u001B[1;36m22\u001B[0m,\n\u001B[2;32m│   │   │   \u001B[0m\u001B[32m'edge_indim'\u001B[0m: \u001B[1;36m44\u001B[0m,\n\u001B[2;32m│   │   │   \u001B[0m\u001B[32m'h_dim'\u001B[0m: \u001B[1;36m192\u001B[0m,\n\u001B[2;32m│   │   │   \u001B[0m\u001B[32m'e_dim'\u001B[0m: \u001B[1;36m192\u001B[0m,\n\u001B[2;32m│   │   │   \u001B[0m\u001B[32m'h_outdim'\u001B[0m: \u001B[1;36m12\u001B[0m,\n\u001B[2;32m│   │   │   \u001B[0m\u001B[32m'hidden_dim'\u001B[0m: \u001B[1;36m192\u001B[0m,\n\u001B[2;32m│   │   │   \u001B[0m\u001B[32m'L_hc'\u001B[0m: \u001B[1;36m3\u001B[0m,\n\u001B[2;32m│   │   │   \u001B[0m\u001B[32m'alpha_hc'\u001B[0m: \u001B[1;36m0.5\u001B[0m,\n\u001B[2;32m│   │   │   \u001B[0m\u001B[32m'feed_edge_weights'\u001B[0m: \u001B[3;92mTrue\u001B[0m,\n\u001B[2;32m│   │   │   \u001B[0m\u001B[32m'ec_threshold'\u001B[0m: \u001B[1;36m0.2\u001B[0m,\n\u001B[2;32m│   │   │   \u001B[0m\u001B[32m'mask_orphan_nodes'\u001B[0m: \u001B[3;91mFalse\u001B[0m,\n\u001B[2;32m│   │   │   \u001B[0m\u001B[32m'use_ec_embeddings_for_hc'\u001B[0m: \u001B[3;92mTrue\u001B[0m,\n\u001B[2;32m│   │   │   \u001B[0m\u001B[32m'ec'\u001B[0m: \u001B[1m{\u001B[0m\n\u001B[2;32m│   │   │   │   \u001B[0m\u001B[32m'class_path'\u001B[0m: \u001B[32m'gnn_tracking.models.edge_classifier.ECForGraphTCN'\u001B[0m,\n\u001B[2;32m│   │   │   │   \u001B[0m\u001B[32m'init_args'\u001B[0m: \u001B[1m{\u001B[0m\n\u001B[2;32m│   │   │   │   │   \u001B[0m\u001B[32m'node_indim'\u001B[0m: \u001B[1;36m22\u001B[0m,\n\u001B[2;32m│   │   │   │   │   \u001B[0m\u001B[32m'edge_indim'\u001B[0m: \u001B[1;36m44\u001B[0m,\n\u001B[2;32m│   │   │   │   │   \u001B[0m\u001B[32m'interaction_node_dim'\u001B[0m: \u001B[1;36m128\u001B[0m,\n\u001B[2;32m│   │   │   │   │   \u001B[0m\u001B[32m'interaction_edge_dim'\u001B[0m: \u001B[1;36m128\u001B[0m,\n\u001B[2;32m│   │   │   │   │   \u001B[0m\u001B[32m'hidden_dim'\u001B[0m: \u001B[1;36m128\u001B[0m,\n\u001B[2;32m│   │   │   │   │   \u001B[0m\u001B[32m'L_ec'\u001B[0m: \u001B[1;36m3\u001B[0m,\n\u001B[2;32m│   │   │   │   │   \u001B[0m\u001B[32m'alpha'\u001B[0m: \u001B[1;36m0.35\u001B[0m,\n\u001B[2;32m│   │   │   │   │   \u001B[0m\u001B[32m'residual_type'\u001B[0m: \u001B[32m'skip1'\u001B[0m,\n\u001B[2;32m│   │   │   │   │   \u001B[0m\u001B[32m'use_intermediate_edge_embeddings'\u001B[0m: \u001B[3;91mFalse\u001B[0m,\n\u001B[2;32m│   │   │   │   │   \u001B[0m\u001B[32m'use_node_embedding'\u001B[0m: \u001B[3;92mTrue\u001B[0m,\n\u001B[2;32m│   │   │   │   │   \u001B[0m\u001B[32m'residual_kwargs'\u001B[0m: \u001B[3;35mNone\u001B[0m\n\u001B[2;32m│   │   │   │   \u001B[0m\u001B[1m}\u001B[0m\n\u001B[2;32m│   │   │   \u001B[0m\u001B[1m}\u001B[0m\n\u001B[2;32m│   │   \u001B[0m\u001B[1m}\u001B[0m\n\u001B[2;32m│   \u001B[0m\u001B[1m}\u001B[0m,\n\u001B[2;32m│   \u001B[0m\u001B[32m'preproc'\u001B[0m: \u001B[1m{\u001B[0m\n\u001B[2;32m│   │   \u001B[0m\u001B[32m'class_path'\u001B[0m: \u001B[32m'gnn_tracking.models.graph_construction.MLGraphConstruction'\u001B[0m,\n\u001B[2;32m│   │   \u001B[0m\u001B[32m'init_args'\u001B[0m: \u001B[1m{\u001B[0m\n\u001B[2;32m│   │   │   \u001B[0m\u001B[32m'max_radius'\u001B[0m: \u001B[1;36m0.8\u001B[0m,\n\u001B[2;32m│   │   │   \u001B[0m\u001B[32m'max_num_neighbors'\u001B[0m: \u001B[1;36m64\u001B[0m,\n\u001B[2;32m│   │   │   \u001B[0m\u001B[32m'use_embedding_features'\u001B[0m: \u001B[3;92mTrue\u001B[0m,\n\u001B[2;32m│   │   │   \u001B[0m\u001B[32m'ratio_of_false'\u001B[0m: \u001B[3;35mNone\u001B[0m,\n\u001B[2;32m│   │   │   \u001B[0m\u001B[32m'build_edge_features'\u001B[0m: \u001B[3;92mTrue\u001B[0m,\n\u001B[2;32m│   │   │   \u001B[0m\u001B[32m'ec_threshold'\u001B[0m: \u001B[3;35mNone\u001B[0m,\n\u001B[2;32m│   │   │   \u001B[0m\u001B[32m'ml_freeze'\u001B[0m: \u001B[3;92mTrue\u001B[0m,\n\u001B[2;32m│   │   │   \u001B[0m\u001B[32m'ec_freeze'\u001B[0m: \u001B[3;92mTrue\u001B[0m,\n\u001B[2;32m│   │   │   \u001B[0m\u001B[32m'ml'\u001B[0m: \u001B[1m{\u001B[0m\n\u001B[2;32m│   │   │   │   \u001B[0m\u001B[32m'class_path'\u001B[0m: \u001B[32m'gnn_tracking.models.graph_construction.GraphConstructionFCNN'\u001B[0m,\n\u001B[2;32m│   │   │   │   \u001B[0m\u001B[32m'init_args'\u001B[0m: \u001B[1m{\u001B[0m\u001B[32m'in_dim'\u001B[0m: \u001B[1;36m14\u001B[0m, \u001B[32m'hidden_dim'\u001B[0m: \u001B[1;36m512\u001B[0m, \u001B[32m'out_dim'\u001B[0m: \u001B[1;36m8\u001B[0m, \u001B[32m'depth'\u001B[0m: \u001B[1;36m6\u001B[0m, \u001B[32m'beta'\u001B[0m: \u001B[1;36m0.4\u001B[0m\u001B[1m}\u001B[0m\n\u001B[2;32m│   │   │   \u001B[0m\u001B[1m}\u001B[0m,\n\u001B[2;32m│   │   │   \u001B[0m\u001B[32m'ec'\u001B[0m: \u001B[3;35mNone\u001B[0m\n\u001B[2;32m│   │   \u001B[0m\u001B[1m}\u001B[0m\n\u001B[2;32m│   \u001B[0m\u001B[1m}\u001B[0m,\n\u001B[2;32m│   \u001B[0m\u001B[32m'lw_repulsive'\u001B[0m: \u001B[1;36m0.743380428762342\u001B[0m,\n\u001B[2;32m│   \u001B[0m\u001B[32m'lw_background'\u001B[0m: \u001B[1;36m0.0041\u001B[0m,\n\u001B[2;32m│   \u001B[0m\u001B[32m'potential_loss'\u001B[0m: \u001B[1m{\u001B[0m\n\u001B[2;32m│   │   \u001B[0m\u001B[32m'class_path'\u001B[0m: \u001B[32m'gnn_tracking.metrics.losses.PotentialLoss'\u001B[0m,\n\u001B[2;32m│   │   \u001B[0m\u001B[32m'init_args'\u001B[0m: \u001B[1m{\u001B[0m\u001B[32m'q_min'\u001B[0m: \u001B[1;36m0.01\u001B[0m, \u001B[32m'radius_threshold'\u001B[0m: \u001B[1;36m1.0\u001B[0m, \u001B[32m'attr_pt_thld'\u001B[0m: \u001B[1;36m0.9\u001B[0m\u001B[1m}\u001B[0m\n\u001B[2;32m│   \u001B[0m\u001B[1m}\u001B[0m,\n\u001B[2;32m│   \u001B[0m\u001B[32m'background_loss'\u001B[0m: \u001B[1m{\u001B[0m\u001B[32m'class_path'\u001B[0m: \u001B[32m'gnn_tracking.metrics.losses.BackgroundLoss'\u001B[0m, \u001B[32m'init_args'\u001B[0m: \u001B[1m{\u001B[0m\u001B[32m'sb'\u001B[0m: \u001B[1;36m0.1\u001B[0m\u001B[1m}\u001B[0m\u001B[1m}\u001B[0m,\n\u001B[2;32m│   \u001B[0m\u001B[32m'cluster_scanner'\u001B[0m: \u001B[1m{\u001B[0m\n\u001B[2;32m│   │   \u001B[0m\u001B[32m'class_path'\u001B[0m: \u001B[32m'gnn_tracking.postprocessing.dbscanscanner.DBSCANHyperParamScanner'\u001B[0m,\n\u001B[2;32m│   │   \u001B[0m\u001B[32m'init_args'\u001B[0m: \u001B[1m{\u001B[0m\n\u001B[2;32m│   │   │   \u001B[0m\u001B[32m'eps_range'\u001B[0m: \u001B[1m(\u001B[0m\u001B[1;36m1e-05\u001B[0m, \u001B[1;36m1.0\u001B[0m\u001B[1m)\u001B[0m,\n\u001B[2;32m│   │   │   \u001B[0m\u001B[32m'min_samples_range'\u001B[0m: \u001B[1m(\u001B[0m\u001B[1;36m1\u001B[0m, \u001B[1;36m1\u001B[0m\u001B[1m)\u001B[0m,\n\u001B[2;32m│   │   │   \u001B[0m\u001B[32m'n_jobs'\u001B[0m: \u001B[1;36m6\u001B[0m,\n\u001B[2;32m│   │   │   \u001B[0m\u001B[32m'guide'\u001B[0m: \u001B[32m'trk.double_majority_pt0.9'\u001B[0m,\n\u001B[2;32m│   │   │   \u001B[0m\u001B[32m'n_trials'\u001B[0m: \u001B[1;36m20\u001B[0m\n\u001B[2;32m│   │   \u001B[0m\u001B[1m}\u001B[0m\n\u001B[2;32m│   \u001B[0m\u001B[1m}\u001B[0m\n\u001B[1m}\u001B[0m\n",
      "text/html": "<pre style=\"white-space:pre;overflow-x:auto;line-height:normal;font-family:Menlo,'DejaVu Sans Mono',consolas,'Courier New',monospace\"><span style=\"font-weight: bold\">{</span>\n<span style=\"color: #7fbf7f; text-decoration-color: #7fbf7f\">│   </span><span style=\"color: #008000; text-decoration-color: #008000\">'model'</span>: <span style=\"font-weight: bold\">{</span>\n<span style=\"color: #7fbf7f; text-decoration-color: #7fbf7f\">│   │   </span><span style=\"color: #008000; text-decoration-color: #008000\">'class_path'</span>: <span style=\"color: #008000; text-decoration-color: #008000\">'gnn_tracking.models.track_condensation_networks.PreTrainedECGraphTCN'</span>,\n<span style=\"color: #7fbf7f; text-decoration-color: #7fbf7f\">│   │   </span><span style=\"color: #008000; text-decoration-color: #008000\">'init_args'</span>: <span style=\"font-weight: bold\">{</span>\n<span style=\"color: #7fbf7f; text-decoration-color: #7fbf7f\">│   │   │   </span><span style=\"color: #008000; text-decoration-color: #008000\">'node_indim'</span>: <span style=\"color: #008080; text-decoration-color: #008080; font-weight: bold\">22</span>,\n<span style=\"color: #7fbf7f; text-decoration-color: #7fbf7f\">│   │   │   </span><span style=\"color: #008000; text-decoration-color: #008000\">'edge_indim'</span>: <span style=\"color: #008080; text-decoration-color: #008080; font-weight: bold\">44</span>,\n<span style=\"color: #7fbf7f; text-decoration-color: #7fbf7f\">│   │   │   </span><span style=\"color: #008000; text-decoration-color: #008000\">'h_dim'</span>: <span style=\"color: #008080; text-decoration-color: #008080; font-weight: bold\">192</span>,\n<span style=\"color: #7fbf7f; text-decoration-color: #7fbf7f\">│   │   │   </span><span style=\"color: #008000; text-decoration-color: #008000\">'e_dim'</span>: <span style=\"color: #008080; text-decoration-color: #008080; font-weight: bold\">192</span>,\n<span style=\"color: #7fbf7f; text-decoration-color: #7fbf7f\">│   │   │   </span><span style=\"color: #008000; text-decoration-color: #008000\">'h_outdim'</span>: <span style=\"color: #008080; text-decoration-color: #008080; font-weight: bold\">12</span>,\n<span style=\"color: #7fbf7f; text-decoration-color: #7fbf7f\">│   │   │   </span><span style=\"color: #008000; text-decoration-color: #008000\">'hidden_dim'</span>: <span style=\"color: #008080; text-decoration-color: #008080; font-weight: bold\">192</span>,\n<span style=\"color: #7fbf7f; text-decoration-color: #7fbf7f\">│   │   │   </span><span style=\"color: #008000; text-decoration-color: #008000\">'L_hc'</span>: <span style=\"color: #008080; text-decoration-color: #008080; font-weight: bold\">3</span>,\n<span style=\"color: #7fbf7f; text-decoration-color: #7fbf7f\">│   │   │   </span><span style=\"color: #008000; text-decoration-color: #008000\">'alpha_hc'</span>: <span style=\"color: #008080; text-decoration-color: #008080; font-weight: bold\">0.5</span>,\n<span style=\"color: #7fbf7f; text-decoration-color: #7fbf7f\">│   │   │   </span><span style=\"color: #008000; text-decoration-color: #008000\">'feed_edge_weights'</span>: <span style=\"color: #00ff00; text-decoration-color: #00ff00; font-style: italic\">True</span>,\n<span style=\"color: #7fbf7f; text-decoration-color: #7fbf7f\">│   │   │   </span><span style=\"color: #008000; text-decoration-color: #008000\">'ec_threshold'</span>: <span style=\"color: #008080; text-decoration-color: #008080; font-weight: bold\">0.2</span>,\n<span style=\"color: #7fbf7f; text-decoration-color: #7fbf7f\">│   │   │   </span><span style=\"color: #008000; text-decoration-color: #008000\">'mask_orphan_nodes'</span>: <span style=\"color: #ff0000; text-decoration-color: #ff0000; font-style: italic\">False</span>,\n<span style=\"color: #7fbf7f; text-decoration-color: #7fbf7f\">│   │   │   </span><span style=\"color: #008000; text-decoration-color: #008000\">'use_ec_embeddings_for_hc'</span>: <span style=\"color: #00ff00; text-decoration-color: #00ff00; font-style: italic\">True</span>,\n<span style=\"color: #7fbf7f; text-decoration-color: #7fbf7f\">│   │   │   </span><span style=\"color: #008000; text-decoration-color: #008000\">'ec'</span>: <span style=\"font-weight: bold\">{</span>\n<span style=\"color: #7fbf7f; text-decoration-color: #7fbf7f\">│   │   │   │   </span><span style=\"color: #008000; text-decoration-color: #008000\">'class_path'</span>: <span style=\"color: #008000; text-decoration-color: #008000\">'gnn_tracking.models.edge_classifier.ECForGraphTCN'</span>,\n<span style=\"color: #7fbf7f; text-decoration-color: #7fbf7f\">│   │   │   │   </span><span style=\"color: #008000; text-decoration-color: #008000\">'init_args'</span>: <span style=\"font-weight: bold\">{</span>\n<span style=\"color: #7fbf7f; text-decoration-color: #7fbf7f\">│   │   │   │   │   </span><span style=\"color: #008000; text-decoration-color: #008000\">'node_indim'</span>: <span style=\"color: #008080; text-decoration-color: #008080; font-weight: bold\">22</span>,\n<span style=\"color: #7fbf7f; text-decoration-color: #7fbf7f\">│   │   │   │   │   </span><span style=\"color: #008000; text-decoration-color: #008000\">'edge_indim'</span>: <span style=\"color: #008080; text-decoration-color: #008080; font-weight: bold\">44</span>,\n<span style=\"color: #7fbf7f; text-decoration-color: #7fbf7f\">│   │   │   │   │   </span><span style=\"color: #008000; text-decoration-color: #008000\">'interaction_node_dim'</span>: <span style=\"color: #008080; text-decoration-color: #008080; font-weight: bold\">128</span>,\n<span style=\"color: #7fbf7f; text-decoration-color: #7fbf7f\">│   │   │   │   │   </span><span style=\"color: #008000; text-decoration-color: #008000\">'interaction_edge_dim'</span>: <span style=\"color: #008080; text-decoration-color: #008080; font-weight: bold\">128</span>,\n<span style=\"color: #7fbf7f; text-decoration-color: #7fbf7f\">│   │   │   │   │   </span><span style=\"color: #008000; text-decoration-color: #008000\">'hidden_dim'</span>: <span style=\"color: #008080; text-decoration-color: #008080; font-weight: bold\">128</span>,\n<span style=\"color: #7fbf7f; text-decoration-color: #7fbf7f\">│   │   │   │   │   </span><span style=\"color: #008000; text-decoration-color: #008000\">'L_ec'</span>: <span style=\"color: #008080; text-decoration-color: #008080; font-weight: bold\">3</span>,\n<span style=\"color: #7fbf7f; text-decoration-color: #7fbf7f\">│   │   │   │   │   </span><span style=\"color: #008000; text-decoration-color: #008000\">'alpha'</span>: <span style=\"color: #008080; text-decoration-color: #008080; font-weight: bold\">0.35</span>,\n<span style=\"color: #7fbf7f; text-decoration-color: #7fbf7f\">│   │   │   │   │   </span><span style=\"color: #008000; text-decoration-color: #008000\">'residual_type'</span>: <span style=\"color: #008000; text-decoration-color: #008000\">'skip1'</span>,\n<span style=\"color: #7fbf7f; text-decoration-color: #7fbf7f\">│   │   │   │   │   </span><span style=\"color: #008000; text-decoration-color: #008000\">'use_intermediate_edge_embeddings'</span>: <span style=\"color: #ff0000; text-decoration-color: #ff0000; font-style: italic\">False</span>,\n<span style=\"color: #7fbf7f; text-decoration-color: #7fbf7f\">│   │   │   │   │   </span><span style=\"color: #008000; text-decoration-color: #008000\">'use_node_embedding'</span>: <span style=\"color: #00ff00; text-decoration-color: #00ff00; font-style: italic\">True</span>,\n<span style=\"color: #7fbf7f; text-decoration-color: #7fbf7f\">│   │   │   │   │   </span><span style=\"color: #008000; text-decoration-color: #008000\">'residual_kwargs'</span>: <span style=\"color: #800080; text-decoration-color: #800080; font-style: italic\">None</span>\n<span style=\"color: #7fbf7f; text-decoration-color: #7fbf7f\">│   │   │   │   </span><span style=\"font-weight: bold\">}</span>\n<span style=\"color: #7fbf7f; text-decoration-color: #7fbf7f\">│   │   │   </span><span style=\"font-weight: bold\">}</span>\n<span style=\"color: #7fbf7f; text-decoration-color: #7fbf7f\">│   │   </span><span style=\"font-weight: bold\">}</span>\n<span style=\"color: #7fbf7f; text-decoration-color: #7fbf7f\">│   </span><span style=\"font-weight: bold\">}</span>,\n<span style=\"color: #7fbf7f; text-decoration-color: #7fbf7f\">│   </span><span style=\"color: #008000; text-decoration-color: #008000\">'preproc'</span>: <span style=\"font-weight: bold\">{</span>\n<span style=\"color: #7fbf7f; text-decoration-color: #7fbf7f\">│   │   </span><span style=\"color: #008000; text-decoration-color: #008000\">'class_path'</span>: <span style=\"color: #008000; text-decoration-color: #008000\">'gnn_tracking.models.graph_construction.MLGraphConstruction'</span>,\n<span style=\"color: #7fbf7f; text-decoration-color: #7fbf7f\">│   │   </span><span style=\"color: #008000; text-decoration-color: #008000\">'init_args'</span>: <span style=\"font-weight: bold\">{</span>\n<span style=\"color: #7fbf7f; text-decoration-color: #7fbf7f\">│   │   │   </span><span style=\"color: #008000; text-decoration-color: #008000\">'max_radius'</span>: <span style=\"color: #008080; text-decoration-color: #008080; font-weight: bold\">0.8</span>,\n<span style=\"color: #7fbf7f; text-decoration-color: #7fbf7f\">│   │   │   </span><span style=\"color: #008000; text-decoration-color: #008000\">'max_num_neighbors'</span>: <span style=\"color: #008080; text-decoration-color: #008080; font-weight: bold\">64</span>,\n<span style=\"color: #7fbf7f; text-decoration-color: #7fbf7f\">│   │   │   </span><span style=\"color: #008000; text-decoration-color: #008000\">'use_embedding_features'</span>: <span style=\"color: #00ff00; text-decoration-color: #00ff00; font-style: italic\">True</span>,\n<span style=\"color: #7fbf7f; text-decoration-color: #7fbf7f\">│   │   │   </span><span style=\"color: #008000; text-decoration-color: #008000\">'ratio_of_false'</span>: <span style=\"color: #800080; text-decoration-color: #800080; font-style: italic\">None</span>,\n<span style=\"color: #7fbf7f; text-decoration-color: #7fbf7f\">│   │   │   </span><span style=\"color: #008000; text-decoration-color: #008000\">'build_edge_features'</span>: <span style=\"color: #00ff00; text-decoration-color: #00ff00; font-style: italic\">True</span>,\n<span style=\"color: #7fbf7f; text-decoration-color: #7fbf7f\">│   │   │   </span><span style=\"color: #008000; text-decoration-color: #008000\">'ec_threshold'</span>: <span style=\"color: #800080; text-decoration-color: #800080; font-style: italic\">None</span>,\n<span style=\"color: #7fbf7f; text-decoration-color: #7fbf7f\">│   │   │   </span><span style=\"color: #008000; text-decoration-color: #008000\">'ml_freeze'</span>: <span style=\"color: #00ff00; text-decoration-color: #00ff00; font-style: italic\">True</span>,\n<span style=\"color: #7fbf7f; text-decoration-color: #7fbf7f\">│   │   │   </span><span style=\"color: #008000; text-decoration-color: #008000\">'ec_freeze'</span>: <span style=\"color: #00ff00; text-decoration-color: #00ff00; font-style: italic\">True</span>,\n<span style=\"color: #7fbf7f; text-decoration-color: #7fbf7f\">│   │   │   </span><span style=\"color: #008000; text-decoration-color: #008000\">'ml'</span>: <span style=\"font-weight: bold\">{</span>\n<span style=\"color: #7fbf7f; text-decoration-color: #7fbf7f\">│   │   │   │   </span><span style=\"color: #008000; text-decoration-color: #008000\">'class_path'</span>: <span style=\"color: #008000; text-decoration-color: #008000\">'gnn_tracking.models.graph_construction.GraphConstructionFCNN'</span>,\n<span style=\"color: #7fbf7f; text-decoration-color: #7fbf7f\">│   │   │   │   </span><span style=\"color: #008000; text-decoration-color: #008000\">'init_args'</span>: <span style=\"font-weight: bold\">{</span><span style=\"color: #008000; text-decoration-color: #008000\">'in_dim'</span>: <span style=\"color: #008080; text-decoration-color: #008080; font-weight: bold\">14</span>, <span style=\"color: #008000; text-decoration-color: #008000\">'hidden_dim'</span>: <span style=\"color: #008080; text-decoration-color: #008080; font-weight: bold\">512</span>, <span style=\"color: #008000; text-decoration-color: #008000\">'out_dim'</span>: <span style=\"color: #008080; text-decoration-color: #008080; font-weight: bold\">8</span>, <span style=\"color: #008000; text-decoration-color: #008000\">'depth'</span>: <span style=\"color: #008080; text-decoration-color: #008080; font-weight: bold\">6</span>, <span style=\"color: #008000; text-decoration-color: #008000\">'beta'</span>: <span style=\"color: #008080; text-decoration-color: #008080; font-weight: bold\">0.4</span><span style=\"font-weight: bold\">}</span>\n<span style=\"color: #7fbf7f; text-decoration-color: #7fbf7f\">│   │   │   </span><span style=\"font-weight: bold\">}</span>,\n<span style=\"color: #7fbf7f; text-decoration-color: #7fbf7f\">│   │   │   </span><span style=\"color: #008000; text-decoration-color: #008000\">'ec'</span>: <span style=\"color: #800080; text-decoration-color: #800080; font-style: italic\">None</span>\n<span style=\"color: #7fbf7f; text-decoration-color: #7fbf7f\">│   │   </span><span style=\"font-weight: bold\">}</span>\n<span style=\"color: #7fbf7f; text-decoration-color: #7fbf7f\">│   </span><span style=\"font-weight: bold\">}</span>,\n<span style=\"color: #7fbf7f; text-decoration-color: #7fbf7f\">│   </span><span style=\"color: #008000; text-decoration-color: #008000\">'lw_repulsive'</span>: <span style=\"color: #008080; text-decoration-color: #008080; font-weight: bold\">0.743380428762342</span>,\n<span style=\"color: #7fbf7f; text-decoration-color: #7fbf7f\">│   </span><span style=\"color: #008000; text-decoration-color: #008000\">'lw_background'</span>: <span style=\"color: #008080; text-decoration-color: #008080; font-weight: bold\">0.0041</span>,\n<span style=\"color: #7fbf7f; text-decoration-color: #7fbf7f\">│   </span><span style=\"color: #008000; text-decoration-color: #008000\">'potential_loss'</span>: <span style=\"font-weight: bold\">{</span>\n<span style=\"color: #7fbf7f; text-decoration-color: #7fbf7f\">│   │   </span><span style=\"color: #008000; text-decoration-color: #008000\">'class_path'</span>: <span style=\"color: #008000; text-decoration-color: #008000\">'gnn_tracking.metrics.losses.PotentialLoss'</span>,\n<span style=\"color: #7fbf7f; text-decoration-color: #7fbf7f\">│   │   </span><span style=\"color: #008000; text-decoration-color: #008000\">'init_args'</span>: <span style=\"font-weight: bold\">{</span><span style=\"color: #008000; text-decoration-color: #008000\">'q_min'</span>: <span style=\"color: #008080; text-decoration-color: #008080; font-weight: bold\">0.01</span>, <span style=\"color: #008000; text-decoration-color: #008000\">'radius_threshold'</span>: <span style=\"color: #008080; text-decoration-color: #008080; font-weight: bold\">1.0</span>, <span style=\"color: #008000; text-decoration-color: #008000\">'attr_pt_thld'</span>: <span style=\"color: #008080; text-decoration-color: #008080; font-weight: bold\">0.9</span><span style=\"font-weight: bold\">}</span>\n<span style=\"color: #7fbf7f; text-decoration-color: #7fbf7f\">│   </span><span style=\"font-weight: bold\">}</span>,\n<span style=\"color: #7fbf7f; text-decoration-color: #7fbf7f\">│   </span><span style=\"color: #008000; text-decoration-color: #008000\">'background_loss'</span>: <span style=\"font-weight: bold\">{</span><span style=\"color: #008000; text-decoration-color: #008000\">'class_path'</span>: <span style=\"color: #008000; text-decoration-color: #008000\">'gnn_tracking.metrics.losses.BackgroundLoss'</span>, <span style=\"color: #008000; text-decoration-color: #008000\">'init_args'</span>: <span style=\"font-weight: bold\">{</span><span style=\"color: #008000; text-decoration-color: #008000\">'sb'</span>: <span style=\"color: #008080; text-decoration-color: #008080; font-weight: bold\">0.1</span><span style=\"font-weight: bold\">}}</span>,\n<span style=\"color: #7fbf7f; text-decoration-color: #7fbf7f\">│   </span><span style=\"color: #008000; text-decoration-color: #008000\">'cluster_scanner'</span>: <span style=\"font-weight: bold\">{</span>\n<span style=\"color: #7fbf7f; text-decoration-color: #7fbf7f\">│   │   </span><span style=\"color: #008000; text-decoration-color: #008000\">'class_path'</span>: <span style=\"color: #008000; text-decoration-color: #008000\">'gnn_tracking.postprocessing.dbscanscanner.DBSCANHyperParamScanner'</span>,\n<span style=\"color: #7fbf7f; text-decoration-color: #7fbf7f\">│   │   </span><span style=\"color: #008000; text-decoration-color: #008000\">'init_args'</span>: <span style=\"font-weight: bold\">{</span>\n<span style=\"color: #7fbf7f; text-decoration-color: #7fbf7f\">│   │   │   </span><span style=\"color: #008000; text-decoration-color: #008000\">'eps_range'</span>: <span style=\"font-weight: bold\">(</span><span style=\"color: #008080; text-decoration-color: #008080; font-weight: bold\">1e-05</span>, <span style=\"color: #008080; text-decoration-color: #008080; font-weight: bold\">1.0</span><span style=\"font-weight: bold\">)</span>,\n<span style=\"color: #7fbf7f; text-decoration-color: #7fbf7f\">│   │   │   </span><span style=\"color: #008000; text-decoration-color: #008000\">'min_samples_range'</span>: <span style=\"font-weight: bold\">(</span><span style=\"color: #008080; text-decoration-color: #008080; font-weight: bold\">1</span>, <span style=\"color: #008080; text-decoration-color: #008080; font-weight: bold\">1</span><span style=\"font-weight: bold\">)</span>,\n<span style=\"color: #7fbf7f; text-decoration-color: #7fbf7f\">│   │   │   </span><span style=\"color: #008000; text-decoration-color: #008000\">'n_jobs'</span>: <span style=\"color: #008080; text-decoration-color: #008080; font-weight: bold\">6</span>,\n<span style=\"color: #7fbf7f; text-decoration-color: #7fbf7f\">│   │   │   </span><span style=\"color: #008000; text-decoration-color: #008000\">'guide'</span>: <span style=\"color: #008000; text-decoration-color: #008000\">'trk.double_majority_pt0.9'</span>,\n<span style=\"color: #7fbf7f; text-decoration-color: #7fbf7f\">│   │   │   </span><span style=\"color: #008000; text-decoration-color: #008000\">'n_trials'</span>: <span style=\"color: #008080; text-decoration-color: #008080; font-weight: bold\">20</span>\n<span style=\"color: #7fbf7f; text-decoration-color: #7fbf7f\">│   │   </span><span style=\"font-weight: bold\">}</span>\n<span style=\"color: #7fbf7f; text-decoration-color: #7fbf7f\">│   </span><span style=\"font-weight: bold\">}</span>\n<span style=\"font-weight: bold\">}</span>\n</pre>\n"
     },
     "metadata": {},
     "output_type": "display_data"
    }
   ],
   "source": [
    "from rich.pretty import pprint\n",
    "\n",
    "pprint(dict(lmodel.hparams), )"
   ],
   "metadata": {
    "collapsed": false
   }
  },
  {
   "cell_type": "code",
   "execution_count": 59,
   "outputs": [
    {
     "name": "stderr",
     "output_type": "stream",
     "text": [
      "/scratch/gpfs/kl5675/micromamba/envs/gnn/lib/python3.10/site-packages/lightning_fabric/plugins/environments/slurm.py:165: PossibleUserWarning: The `srun` command is available on your system but is not used. HINT: If your intention is to run Lightning on SLURM, prepend your python command with `srun` like so: srun python /scratch/gpfs/kl5675/micromamba/envs/gnn/lib/python3 ...\n",
      "  rank_zero_warn(\n",
      "GPU available: True (cuda), used: True\n",
      "TPU available: False, using: 0 TPU cores\n",
      "IPU available: False, using: 0 IPUs\n",
      "HPU available: False, using: 0 HPUs\n"
     ]
    }
   ],
   "source": [
    "trainer = Trainer(accelerator=\"gpu\", max_steps=100, num_sanity_val_steps=0)"
   ],
   "metadata": {
    "collapsed": false
   }
  },
  {
   "cell_type": "code",
   "execution_count": 40,
   "outputs": [
    {
     "name": "stderr",
     "output_type": "stream",
     "text": [
      "You are using a CUDA device ('NVIDIA A100-SXM4-80GB') that has Tensor Cores. To properly utilize them, you should set `torch.set_float32_matmul_precision('medium' | 'high')` which will trade-off precision for performance. For more details, read https://pytorch.org/docs/stable/generated/torch.set_float32_matmul_precision.html#torch.set_float32_matmul_precision\n",
      "\u001B[32m[17:33:22] INFO: DataLoader will load 900 graphs (out of 900 available).\u001B[0m\n",
      "\u001B[36m[17:33:22] DEBUG: First graph is /scratch/gpfs/IOJALVO/gnn-tracking/object_condensation/point_clouds_v5/part_1/data21000_s0.pt, last graph is /scratch/gpfs/IOJALVO/gnn-tracking/object_condensation/point_clouds_v5/part_1/data21999_s0.pt\u001B[0m\n",
      "\u001B[32m[17:33:22] INFO: DataLoader will load 1 graphs (out of 1000 available).\u001B[0m\n",
      "\u001B[36m[17:33:22] DEBUG: First graph is /scratch/gpfs/IOJALVO/gnn-tracking/object_condensation/point_clouds_v5/part_9/data29000_s0.pt, last graph is /scratch/gpfs/IOJALVO/gnn-tracking/object_condensation/point_clouds_v5/part_9/data29000_s0.pt\u001B[0m\n",
      "LOCAL_RANK: 0 - CUDA_VISIBLE_DEVICES: [0]\n",
      "\n",
      "  | Name            | Type                 | Params\n",
      "---------------------------------------------------------\n",
      "0 | model           | PreTrainedECGraphTCN | 1.8 M \n",
      "1 | preproc         | MLGraphConstruction  | 1.3 M \n",
      "2 | potential_loss  | PotentialLoss        | 0     \n",
      "3 | background_loss | BackgroundLoss       | 0     \n",
      "---------------------------------------------------------\n",
      "1.8 M     Trainable params\n",
      "1.3 M     Non-trainable params\n",
      "3.2 M     Total params\n",
      "12.636    Total estimated model params size (MB)\n"
     ]
    },
    {
     "data": {
      "text/plain": "Training: 0it [00:00, ?it/s]",
      "application/vnd.jupyter.widget-view+json": {
       "version_major": 2,
       "version_minor": 0,
       "model_id": "610d333237ed4b49b07f7a6ebab684d6"
      }
     },
     "metadata": {},
     "output_type": "display_data"
    },
    {
     "name": "stderr",
     "output_type": "stream",
     "text": [
      "\u001B[33m[17:33:29] WARNING: WARNING: ran out of memory (OOM), skipping batch. If this happens frequently, decrease the batch size. Will abort if we get 10 consecutive OOM errors.\u001B[0m\n",
      "\u001B[33m[17:33:34] WARNING: WARNING: ran out of memory (OOM), skipping batch. If this happens frequently, decrease the batch size. Will abort if we get 10 consecutive OOM errors.\u001B[0m\n",
      "\u001B[33m[17:33:41] WARNING: WARNING: ran out of memory (OOM), skipping batch. If this happens frequently, decrease the batch size. Will abort if we get 10 consecutive OOM errors.\u001B[0m\n",
      "\u001B[33m[17:33:47] WARNING: WARNING: ran out of memory (OOM), skipping batch. If this happens frequently, decrease the batch size. Will abort if we get 10 consecutive OOM errors.\u001B[0m\n",
      "\u001B[33m[17:33:51] WARNING: WARNING: ran out of memory (OOM), skipping batch. If this happens frequently, decrease the batch size. Will abort if we get 10 consecutive OOM errors.\u001B[0m\n",
      "\u001B[33m[17:34:04] WARNING: WARNING: ran out of memory (OOM), skipping batch. If this happens frequently, decrease the batch size. Will abort if we get 10 consecutive OOM errors.\u001B[0m\n",
      "\u001B[33m[17:34:22] WARNING: WARNING: ran out of memory (OOM), skipping batch. If this happens frequently, decrease the batch size. Will abort if we get 10 consecutive OOM errors.\u001B[0m\n",
      "\u001B[33m[17:34:24] WARNING: WARNING: ran out of memory (OOM), skipping batch. If this happens frequently, decrease the batch size. Will abort if we get 10 consecutive OOM errors.\u001B[0m\n",
      "\u001B[33m[17:34:26] WARNING: WARNING: ran out of memory (OOM), skipping batch. If this happens frequently, decrease the batch size. Will abort if we get 10 consecutive OOM errors.\u001B[0m\n",
      "/scratch/gpfs/kl5675/micromamba/envs/gnn/lib/python3.10/site-packages/pytorch_lightning/trainer/call.py:52: UserWarning: Detected KeyboardInterrupt, attempting graceful shutdown...\n",
      "  rank_zero_warn(\"Detected KeyboardInterrupt, attempting graceful shutdown...\")\n"
     ]
    }
   ],
   "source": [
    "trainer.fit(lmodel, dm)"
   ],
   "metadata": {
    "collapsed": false
   }
  },
  {
   "cell_type": "code",
   "execution_count": 60,
   "outputs": [
    {
     "name": "stderr",
     "output_type": "stream",
     "text": [
      "\u001B[32m[17:39:05] INFO: DataLoader will load 5 graphs (out of 1000 available).\u001B[0m\n",
      "\u001B[36m[17:39:05] DEBUG: First graph is /scratch/gpfs/IOJALVO/gnn-tracking/object_condensation/point_clouds_v5/part_9/data29000_s0.pt, last graph is /scratch/gpfs/IOJALVO/gnn-tracking/object_condensation/point_clouds_v5/part_9/data29004_s0.pt\u001B[0m\n"
     ]
    }
   ],
   "source": [
    "dm.setup(\"validate\")"
   ],
   "metadata": {
    "collapsed": false
   }
  },
  {
   "cell_type": "code",
   "execution_count": 61,
   "outputs": [
    {
     "name": "stderr",
     "output_type": "stream",
     "text": [
      "/scratch/gpfs/kl5675/micromamba/envs/gnn/lib/python3.10/site-packages/pytorch_lightning/trainer/connectors/checkpoint_connector.py:189: UserWarning: .validate(ckpt_path=\"last\") is set, but there is no last checkpoint available. No checkpoint will be loaded.\n",
      "  rank_zero_warn(\n",
      "You are using a CUDA device ('NVIDIA A100-SXM4-80GB') that has Tensor Cores. To properly utilize them, you should set `torch.set_float32_matmul_precision('medium' | 'high')` which will trade-off precision for performance. For more details, read https://pytorch.org/docs/stable/generated/torch.set_float32_matmul_precision.html#torch.set_float32_matmul_precision\n",
      "\u001B[32m[17:39:05] INFO: DataLoader will load 5 graphs (out of 1000 available).\u001B[0m\n",
      "\u001B[36m[17:39:05] DEBUG: First graph is /scratch/gpfs/IOJALVO/gnn-tracking/object_condensation/point_clouds_v5/part_9/data29000_s0.pt, last graph is /scratch/gpfs/IOJALVO/gnn-tracking/object_condensation/point_clouds_v5/part_9/data29004_s0.pt\u001B[0m\n",
      "LOCAL_RANK: 0 - CUDA_VISIBLE_DEVICES: [0]\n",
      "/scratch/gpfs/kl5675/micromamba/envs/gnn/lib/python3.10/site-packages/pytorch_lightning/trainer/connectors/data_connector.py:432: PossibleUserWarning: The dataloader, val_dataloader, does not have many workers which may be a bottleneck. Consider increasing the value of the `num_workers` argument` (try 48 which is the number of cpus on this machine) in the `DataLoader` init to improve performance.\n",
      "  rank_zero_warn(\n"
     ]
    },
    {
     "data": {
      "text/plain": "Validation: 0it [00:00, ?it/s]",
      "application/vnd.jupyter.widget-view+json": {
       "version_major": 2,
       "version_minor": 0,
       "model_id": "88a65fe85f494886876554e49d0bc875"
      }
     },
     "metadata": {},
     "output_type": "display_data"
    },
    {
     "name": "stderr",
     "output_type": "stream",
     "text": [
      "\u001B[36m[17:39:13 ClusterHP] DEBUG: Starting from params: {}\u001B[0m\n",
      "\u001B[32m[17:39:13 ClusterHP] INFO: Starting hyperparameter scan for clustering\u001B[0m\n",
      "\u001B[36m[17:39:18 ClusterHP] DEBUG: Evaluated {'eps': 0.2049804544112404, 'min_samples': 1}: 0.7014782803132903\u001B[0m\n",
      "\u001B[36m[17:39:23 ClusterHP] DEBUG: Evaluated {'eps': 0.15190959634811918, 'min_samples': 1}: 0.49863744176644553\u001B[0m\n",
      "\u001B[36m[17:39:28 ClusterHP] DEBUG: Evaluated {'eps': 0.519082719358773, 'min_samples': 1}: 0.8585183619846294\u001B[0m\n",
      "\u001B[36m[17:39:31 ClusterHP] DEBUG: Evaluated {'eps': 0.5809714917578661, 'min_samples': 1}: 0.8172594076081499\u001B[0m\n",
      "\u001B[36m[17:39:33 ClusterHP] DEBUG: Evaluated {'eps': 0.1971795917526922, 'min_samples': 1}: 0.6796676483704633\u001B[0m\n",
      "\u001B[36m[17:39:33 ClusterHP] DEBUG: Evaluated {'eps': 0.4084848020408636, 'min_samples': 1}: 0.8916953972180843\u001B[0m\n",
      "\u001B[36m[17:39:34 ClusterHP] DEBUG: Evaluated {'eps': 0.015105911698334206, 'min_samples': 1}: 0.0\u001B[0m\n",
      "\u001B[36m[17:39:42 ClusterHP] DEBUG: Evaluated {'eps': 0.32878847832290337, 'min_samples': 1}: 0.8744153624910472\u001B[0m\n",
      "\u001B[36m[17:39:43 ClusterHP] DEBUG: Evaluated {'eps': 0.7698647148410672, 'min_samples': 1}: 0.586981508762314\u001B[0m\n",
      "\u001B[36m[17:39:45 ClusterHP] DEBUG: Evaluated {'eps': 0.005044418204476183, 'min_samples': 1}: 0.0\u001B[0m\n",
      "\u001B[36m[17:39:51 ClusterHP] DEBUG: Evaluated {'eps': 0.8637279474003422, 'min_samples': 1}: 0.4509968023834993\u001B[0m\n",
      "\u001B[36m[17:40:00 ClusterHP] DEBUG: Evaluated {'eps': 0.9655312002892196, 'min_samples': 1}: 0.3234532991296442\u001B[0m\n",
      "\u001B[36m[17:40:00 ClusterHP] DEBUG: Evaluated {'eps': 0.3834474066777604, 'min_samples': 1}: 0.8888321580522712\u001B[0m\n",
      "\u001B[36m[17:40:02 ClusterHP] DEBUG: Evaluated {'eps': 0.7573195682962516, 'min_samples': 1}: 0.6068888627361155\u001B[0m\n",
      "\u001B[36m[17:40:05 ClusterHP] DEBUG: Evaluated {'eps': 0.6512957957885481, 'min_samples': 1}: 0.7449327004414517\u001B[0m\n",
      "\u001B[36m[17:40:10 ClusterHP] DEBUG: Evaluated {'eps': 0.383394955233131, 'min_samples': 1}: 0.8886964728419592\u001B[0m\n",
      "\u001B[36m[17:40:11 ClusterHP] DEBUG: Evaluated {'eps': 0.4052324144517348, 'min_samples': 1}: 0.8915951136591653\u001B[0m\n",
      "\u001B[36m[17:40:11 ClusterHP] DEBUG: Evaluated {'eps': 0.3706163696085262, 'min_samples': 1}: 0.8876903867145174\u001B[0m\n",
      "\u001B[36m[17:40:13 ClusterHP] DEBUG: Evaluated {'eps': 0.8961245574307417, 'min_samples': 1}: 0.41202445375290014\u001B[0m\n",
      "\u001B[36m[17:40:34 ClusterHP] DEBUG: Evaluated {'eps': 0.9964994164652696, 'min_samples': 1}: 0.2859391368604947\u001B[0m\n",
      "\u001B[36m[17:40:34 ClusterHP] DEBUG: Evaluating all metrics for best clustering\u001B[0m\n",
      "\u001B[36m[17:40:44 ClusterHP] DEBUG: Evaluating metrics took 10.651698 seconds: Clustering time: 9.938308, total metric eval: 0.703081, individual: v_measure: 0.11860335106030107, homogeneity: 0.11169688194058836, completeness: 0.11175684595946223, trk: 0.23236749414354563, adjusted_rand: 0.06490393506828696, fowlkes_mallows: 0.06375217018648982\u001B[0m\n",
      "\u001B[36m[17:40:44 ClusterHP] DEBUG: Variance among 20 trials is 0.290696. Min/max: 0.000000/0.891695\u001B[0m\n",
      "\u001B[32m[17:40:44 ClusterHP] INFO: Clustering hyperparameter scan & metric evaluation took 91.4758172830334\u001B[0m\n",
      "/scratch/gpfs/kl5675/micromamba/envs/gnn/lib/python3.10/site-packages/pytorch_lightning/trainer/connectors/logger_connector/result.py:212: UserWarning: You called `self.log('best_dbscan_min_samples', ...)` in your `validation_step` but the value needs to be floating point. Converting it to torch.float32.\n",
      "  warning_cache.warn(\n",
      "NaN or Inf found in input tensor.\n",
      "NaN or Inf found in input tensor.\n",
      "NaN or Inf found in input tensor.\n",
      "NaN or Inf found in input tensor.\n",
      "NaN or Inf found in input tensor.\n",
      "NaN or Inf found in input tensor.\n",
      "NaN or Inf found in input tensor.\n",
      "NaN or Inf found in input tensor.\n",
      "NaN or Inf found in input tensor.\n",
      "NaN or Inf found in input tensor.\n",
      "NaN or Inf found in input tensor.\n",
      "NaN or Inf found in input tensor.\n",
      "NaN or Inf found in input tensor.\n",
      "NaN or Inf found in input tensor.\n",
      "NaN or Inf found in input tensor.\n",
      "NaN or Inf found in input tensor.\n",
      "NaN or Inf found in input tensor.\n",
      "NaN or Inf found in input tensor.\n",
      "NaN or Inf found in input tensor.\n",
      "NaN or Inf found in input tensor.\n",
      "NaN or Inf found in input tensor.\n",
      "NaN or Inf found in input tensor.\n",
      "NaN or Inf found in input tensor.\n",
      "NaN or Inf found in input tensor.\n",
      "NaN or Inf found in input tensor.\n",
      "NaN or Inf found in input tensor.\n",
      "NaN or Inf found in input tensor.\n",
      "NaN or Inf found in input tensor.\n",
      "NaN or Inf found in input tensor.\n",
      "NaN or Inf found in input tensor.\n",
      "NaN or Inf found in input tensor.\n",
      "NaN or Inf found in input tensor.\n",
      "NaN or Inf found in input tensor.\n",
      "NaN or Inf found in input tensor.\n",
      "NaN or Inf found in input tensor.\n",
      "NaN or Inf found in input tensor.\n",
      "NaN or Inf found in input tensor.\n",
      "NaN or Inf found in input tensor.\n",
      "NaN or Inf found in input tensor.\n"
     ]
    },
    {
     "data": {
      "text/plain": "┏━━━━━━━━━━━━━━━━━━━━━━━━━━━━━━━━━━━━━━━━┳━━━━━━━━━━━━━━━━━━━━━━━━━━━━━━━━━━━━━━━━┓\n┃\u001B[1m \u001B[0m\u001B[1m           Validate metric            \u001B[0m\u001B[1m \u001B[0m┃\u001B[1m \u001B[0m\u001B[1m             DataLoader 0             \u001B[0m\u001B[1m \u001B[0m┃\n┡━━━━━━━━━━━━━━━━━━━━━━━━━━━━━━━━━━━━━━━━╇━━━━━━━━━━━━━━━━━━━━━━━━━━━━━━━━━━━━━━━━┩\n│\u001B[36m \u001B[0m\u001B[36m            adjusted_rand             \u001B[0m\u001B[36m \u001B[0m│\u001B[35m \u001B[0m\u001B[35m         0.03215637058019638          \u001B[0m\u001B[35m \u001B[0m│\n│\u001B[36m \u001B[0m\u001B[36m          adjusted_rand_std           \u001B[0m\u001B[36m \u001B[0m│\u001B[35m \u001B[0m\u001B[35m        0.0037478802260011435         \u001B[0m\u001B[35m \u001B[0m│\n│\u001B[36m \u001B[0m\u001B[36m        adjusted_rand_std_std         \u001B[0m\u001B[36m \u001B[0m│\u001B[35m \u001B[0m\u001B[35m                 nan                  \u001B[0m\u001B[35m \u001B[0m│\n│\u001B[36m \u001B[0m\u001B[36m              attractive              \u001B[0m\u001B[36m \u001B[0m│\u001B[35m \u001B[0m\u001B[35m        1.3140039300196804e-05        \u001B[0m\u001B[35m \u001B[0m│\n│\u001B[36m \u001B[0m\u001B[36m            attractive_std            \u001B[0m\u001B[36m \u001B[0m│\u001B[35m \u001B[0m\u001B[35m        2.9810652790729364e-07        \u001B[0m\u001B[35m \u001B[0m│\n│\u001B[36m \u001B[0m\u001B[36m         attractive_weighted          \u001B[0m\u001B[36m \u001B[0m│\u001B[35m \u001B[0m\u001B[35m        1.3140039300196804e-05        \u001B[0m\u001B[35m \u001B[0m│\n│\u001B[36m \u001B[0m\u001B[36m       attractive_weighted_std        \u001B[0m\u001B[36m \u001B[0m│\u001B[35m \u001B[0m\u001B[35m        2.9810652790729364e-07        \u001B[0m\u001B[35m \u001B[0m│\n│\u001B[36m \u001B[0m\u001B[36m              background              \u001B[0m\u001B[36m \u001B[0m│\u001B[35m \u001B[0m\u001B[35m                 1.0                  \u001B[0m\u001B[35m \u001B[0m│\n│\u001B[36m \u001B[0m\u001B[36m            background_std            \u001B[0m\u001B[36m \u001B[0m│\u001B[35m \u001B[0m\u001B[35m        1.332800358966324e-08         \u001B[0m\u001B[35m \u001B[0m│\n│\u001B[36m \u001B[0m\u001B[36m         background_weighted          \u001B[0m\u001B[36m \u001B[0m│\u001B[35m \u001B[0m\u001B[35m         0.00409999955445528          \u001B[0m\u001B[35m \u001B[0m│\n│\u001B[36m \u001B[0m\u001B[36m       background_weighted_std        \u001B[0m\u001B[36m \u001B[0m│\u001B[35m \u001B[0m\u001B[35m        1.0412502804424406e-10        \u001B[0m\u001B[35m \u001B[0m│\n│\u001B[36m \u001B[0m\u001B[36m           best_dbscan_eps            \u001B[0m\u001B[36m \u001B[0m│\u001B[35m \u001B[0m\u001B[35m          0.4084848165512085          \u001B[0m\u001B[35m \u001B[0m│\n│\u001B[36m \u001B[0m\u001B[36m         best_dbscan_eps_std          \u001B[0m\u001B[36m \u001B[0m│\u001B[35m \u001B[0m\u001B[35m                 nan                  \u001B[0m\u001B[35m \u001B[0m│\n│\u001B[36m \u001B[0m\u001B[36m       best_dbscan_min_samples        \u001B[0m\u001B[36m \u001B[0m│\u001B[35m \u001B[0m\u001B[35m                 1.0                  \u001B[0m\u001B[35m \u001B[0m│\n│\u001B[36m \u001B[0m\u001B[36m     best_dbscan_min_samples_std      \u001B[0m\u001B[36m \u001B[0m│\u001B[35m \u001B[0m\u001B[35m                 nan                  \u001B[0m\u001B[35m \u001B[0m│\n│\u001B[36m \u001B[0m\u001B[36m             completeness             \u001B[0m\u001B[36m \u001B[0m│\u001B[35m \u001B[0m\u001B[35m          0.8834384679794312          \u001B[0m\u001B[35m \u001B[0m│\n│\u001B[36m \u001B[0m\u001B[36m           completeness_std           \u001B[0m\u001B[36m \u001B[0m│\u001B[35m \u001B[0m\u001B[35m         0.003333359956741333         \u001B[0m\u001B[35m \u001B[0m│\n│\u001B[36m \u001B[0m\u001B[36m         completeness_std_std         \u001B[0m\u001B[36m \u001B[0m│\u001B[35m \u001B[0m\u001B[35m                 nan                  \u001B[0m\u001B[35m \u001B[0m│\n│\u001B[36m \u001B[0m\u001B[36m           fowlkes_mallows            \u001B[0m\u001B[36m \u001B[0m│\u001B[35m \u001B[0m\u001B[35m         0.03728548809885979          \u001B[0m\u001B[35m \u001B[0m│\n│\u001B[36m \u001B[0m\u001B[36m         fowlkes_mallows_std          \u001B[0m\u001B[36m \u001B[0m│\u001B[35m \u001B[0m\u001B[35m        0.0034563906956464052         \u001B[0m\u001B[35m \u001B[0m│\n│\u001B[36m \u001B[0m\u001B[36m       fowlkes_mallows_std_std        \u001B[0m\u001B[36m \u001B[0m│\u001B[35m \u001B[0m\u001B[35m                 nan                  \u001B[0m\u001B[35m \u001B[0m│\n│\u001B[36m \u001B[0m\u001B[36m             homogeneity              \u001B[0m\u001B[36m \u001B[0m│\u001B[35m \u001B[0m\u001B[35m          0.9336580634117126          \u001B[0m\u001B[35m \u001B[0m│\n│\u001B[36m \u001B[0m\u001B[36m           homogeneity_std            \u001B[0m\u001B[36m \u001B[0m│\u001B[35m \u001B[0m\u001B[35m         0.006325864233076572         \u001B[0m\u001B[35m \u001B[0m│\n│\u001B[36m \u001B[0m\u001B[36m         homogeneity_std_std          \u001B[0m\u001B[36m \u001B[0m│\u001B[35m \u001B[0m\u001B[35m                 nan                  \u001B[0m\u001B[35m \u001B[0m│\n│\u001B[36m \u001B[0m\u001B[36m              repulsive               \u001B[0m\u001B[36m \u001B[0m│\u001B[35m \u001B[0m\u001B[35m        2.991704059240874e-05         \u001B[0m\u001B[35m \u001B[0m│\n│\u001B[36m \u001B[0m\u001B[36m            repulsive_std             \u001B[0m\u001B[36m \u001B[0m│\u001B[35m \u001B[0m\u001B[35m        1.1564778787942487e-06        \u001B[0m\u001B[35m \u001B[0m│\n│\u001B[36m \u001B[0m\u001B[36m          repulsive_weighted          \u001B[0m\u001B[36m \u001B[0m│\u001B[35m \u001B[0m\u001B[35m        2.223974297521636e-05         \u001B[0m\u001B[35m \u001B[0m│\n│\u001B[36m \u001B[0m\u001B[36m        repulsive_weighted_std        \u001B[0m\u001B[36m \u001B[0m│\u001B[35m \u001B[0m\u001B[35m        8.597029932388978e-07         \u001B[0m\u001B[35m \u001B[0m│\n│\u001B[36m \u001B[0m\u001B[36m                total                 \u001B[0m\u001B[36m \u001B[0m│\u001B[35m \u001B[0m\u001B[35m         0.004135379567742348         \u001B[0m\u001B[35m \u001B[0m│\n│\u001B[36m \u001B[0m\u001B[36m              total_std               \u001B[0m\u001B[36m \u001B[0m│\u001B[35m \u001B[0m\u001B[35m        1.1014168421752402e-06        \u001B[0m\u001B[35m \u001B[0m│\n│\u001B[36m \u001B[0m\u001B[36m         trk.double_majority          \u001B[0m\u001B[36m \u001B[0m│\u001B[35m \u001B[0m\u001B[35m          0.5153970718383789          \u001B[0m\u001B[35m \u001B[0m│\n│\u001B[36m \u001B[0m\u001B[36m      trk.double_majority_pt0.5       \u001B[0m\u001B[36m \u001B[0m│\u001B[35m \u001B[0m\u001B[35m          0.7771095037460327          \u001B[0m\u001B[35m \u001B[0m│\n│\u001B[36m \u001B[0m\u001B[36m    trk.double_majority_pt0.5_std     \u001B[0m\u001B[36m \u001B[0m│\u001B[35m \u001B[0m\u001B[35m         0.011594889685511589         \u001B[0m\u001B[35m \u001B[0m│\n│\u001B[36m \u001B[0m\u001B[36m  trk.double_majority_pt0.5_std_std   \u001B[0m\u001B[36m \u001B[0m│\u001B[35m \u001B[0m\u001B[35m                 nan                  \u001B[0m\u001B[35m \u001B[0m│\n│\u001B[36m \u001B[0m\u001B[36m      trk.double_majority_pt0.9       \u001B[0m\u001B[36m \u001B[0m│\u001B[35m \u001B[0m\u001B[35m          0.8916953802108765          \u001B[0m\u001B[35m \u001B[0m│\n│\u001B[36m \u001B[0m\u001B[36m    trk.double_majority_pt0.9_std     \u001B[0m\u001B[36m \u001B[0m│\u001B[35m \u001B[0m\u001B[35m         0.012939689680933952         \u001B[0m\u001B[35m \u001B[0m│\n│\u001B[36m \u001B[0m\u001B[36m  trk.double_majority_pt0.9_std_std   \u001B[0m\u001B[36m \u001B[0m│\u001B[35m \u001B[0m\u001B[35m                 nan                  \u001B[0m\u001B[35m \u001B[0m│\n│\u001B[36m \u001B[0m\u001B[36m      trk.double_majority_pt1.5       \u001B[0m\u001B[36m \u001B[0m│\u001B[35m \u001B[0m\u001B[35m          0.8886311054229736          \u001B[0m\u001B[35m \u001B[0m│\n│\u001B[36m \u001B[0m\u001B[36m    trk.double_majority_pt1.5_std     \u001B[0m\u001B[36m \u001B[0m│\u001B[35m \u001B[0m\u001B[35m         0.025097912177443504         \u001B[0m\u001B[35m \u001B[0m│\n│\u001B[36m \u001B[0m\u001B[36m  trk.double_majority_pt1.5_std_std   \u001B[0m\u001B[36m \u001B[0m│\u001B[35m \u001B[0m\u001B[35m                 nan                  \u001B[0m\u001B[35m \u001B[0m│\n│\u001B[36m \u001B[0m\u001B[36m       trk.double_majority_std        \u001B[0m\u001B[36m \u001B[0m│\u001B[35m \u001B[0m\u001B[35m          0.0091920280829072          \u001B[0m\u001B[35m \u001B[0m│\n│\u001B[36m \u001B[0m\u001B[36m     trk.double_majority_std_std      \u001B[0m\u001B[36m \u001B[0m│\u001B[35m \u001B[0m\u001B[35m                 nan                  \u001B[0m\u001B[35m \u001B[0m│\n│\u001B[36m \u001B[0m\u001B[36m       trk.fake_double_majority       \u001B[0m\u001B[36m \u001B[0m│\u001B[35m \u001B[0m\u001B[35m          0.108233243227005           \u001B[0m\u001B[35m \u001B[0m│\n│\u001B[36m \u001B[0m\u001B[36m    trk.fake_double_majority_pt0.5    \u001B[0m\u001B[36m \u001B[0m│\u001B[35m \u001B[0m\u001B[35m         0.053272224962711334         \u001B[0m\u001B[35m \u001B[0m│\n│\u001B[36m \u001B[0m\u001B[36m  trk.fake_double_majority_pt0.5_std  \u001B[0m\u001B[36m \u001B[0m│\u001B[35m \u001B[0m\u001B[35m         0.006096450611948967         \u001B[0m\u001B[35m \u001B[0m│\n│\u001B[36m \u001B[0m\u001B[36mtrk.fake_double_majority_pt0.5_std_std\u001B[0m\u001B[36m \u001B[0m│\u001B[35m \u001B[0m\u001B[35m                 nan                  \u001B[0m\u001B[35m \u001B[0m│\n│\u001B[36m \u001B[0m\u001B[36m    trk.fake_double_majority_pt0.9    \u001B[0m\u001B[36m \u001B[0m│\u001B[35m \u001B[0m\u001B[35m         0.031642500311136246         \u001B[0m\u001B[35m \u001B[0m│\n│\u001B[36m \u001B[0m\u001B[36m  trk.fake_double_majority_pt0.9_std  \u001B[0m\u001B[36m \u001B[0m│\u001B[35m \u001B[0m\u001B[35m         0.006022522691637278         \u001B[0m\u001B[35m \u001B[0m│\n│\u001B[36m \u001B[0m\u001B[36mtrk.fake_double_majority_pt0.9_std_std\u001B[0m\u001B[36m \u001B[0m│\u001B[35m \u001B[0m\u001B[35m                 nan                  \u001B[0m\u001B[35m \u001B[0m│\n│\u001B[36m \u001B[0m\u001B[36m    trk.fake_double_majority_pt1.5    \u001B[0m\u001B[36m \u001B[0m│\u001B[35m \u001B[0m\u001B[35m         0.032783232629299164         \u001B[0m\u001B[35m \u001B[0m│\n│\u001B[36m \u001B[0m\u001B[36m  trk.fake_double_majority_pt1.5_std  \u001B[0m\u001B[36m \u001B[0m│\u001B[35m \u001B[0m\u001B[35m         0.010677038691937923         \u001B[0m\u001B[35m \u001B[0m│\n│\u001B[36m \u001B[0m\u001B[36mtrk.fake_double_majority_pt1.5_std_std\u001B[0m\u001B[36m \u001B[0m│\u001B[35m \u001B[0m\u001B[35m                 nan                  \u001B[0m\u001B[35m \u001B[0m│\n│\u001B[36m \u001B[0m\u001B[36m     trk.fake_double_majority_std     \u001B[0m\u001B[36m \u001B[0m│\u001B[35m \u001B[0m\u001B[35m         0.006013914942741394         \u001B[0m\u001B[35m \u001B[0m│\n│\u001B[36m \u001B[0m\u001B[36m   trk.fake_double_majority_std_std   \u001B[0m\u001B[36m \u001B[0m│\u001B[35m \u001B[0m\u001B[35m                 nan                  \u001B[0m\u001B[35m \u001B[0m│\n│\u001B[36m \u001B[0m\u001B[36m             trk.fake_lhc             \u001B[0m\u001B[36m \u001B[0m│\u001B[35m \u001B[0m\u001B[35m         0.09621964395046234          \u001B[0m\u001B[35m \u001B[0m│\n│\u001B[36m \u001B[0m\u001B[36m          trk.fake_lhc_pt0.5          \u001B[0m\u001B[36m \u001B[0m│\u001B[35m \u001B[0m\u001B[35m         0.07092168182134628          \u001B[0m\u001B[35m \u001B[0m│\n│\u001B[36m \u001B[0m\u001B[36m        trk.fake_lhc_pt0.5_std        \u001B[0m\u001B[36m \u001B[0m│\u001B[35m \u001B[0m\u001B[35m         0.006022730376571417         \u001B[0m\u001B[35m \u001B[0m│\n│\u001B[36m \u001B[0m\u001B[36m      trk.fake_lhc_pt0.5_std_std      \u001B[0m\u001B[36m \u001B[0m│\u001B[35m \u001B[0m\u001B[35m                 nan                  \u001B[0m\u001B[35m \u001B[0m│\n│\u001B[36m \u001B[0m\u001B[36m          trk.fake_lhc_pt0.9          \u001B[0m\u001B[36m \u001B[0m│\u001B[35m \u001B[0m\u001B[35m         0.06880097091197968          \u001B[0m\u001B[35m \u001B[0m│\n│\u001B[36m \u001B[0m\u001B[36m        trk.fake_lhc_pt0.9_std        \u001B[0m\u001B[36m \u001B[0m│\u001B[35m \u001B[0m\u001B[35m         0.00855198409408331          \u001B[0m\u001B[35m \u001B[0m│\n│\u001B[36m \u001B[0m\u001B[36m      trk.fake_lhc_pt0.9_std_std      \u001B[0m\u001B[36m \u001B[0m│\u001B[35m \u001B[0m\u001B[35m                 nan                  \u001B[0m\u001B[35m \u001B[0m│\n│\u001B[36m \u001B[0m\u001B[36m          trk.fake_lhc_pt1.5          \u001B[0m\u001B[36m \u001B[0m│\u001B[35m \u001B[0m\u001B[35m         0.07488689571619034          \u001B[0m\u001B[35m \u001B[0m│\n│\u001B[36m \u001B[0m\u001B[36m        trk.fake_lhc_pt1.5_std        \u001B[0m\u001B[36m \u001B[0m│\u001B[35m \u001B[0m\u001B[35m         0.014487575739622116         \u001B[0m\u001B[35m \u001B[0m│\n│\u001B[36m \u001B[0m\u001B[36m      trk.fake_lhc_pt1.5_std_std      \u001B[0m\u001B[36m \u001B[0m│\u001B[35m \u001B[0m\u001B[35m                 nan                  \u001B[0m\u001B[35m \u001B[0m│\n│\u001B[36m \u001B[0m\u001B[36m           trk.fake_lhc_std           \u001B[0m\u001B[36m \u001B[0m│\u001B[35m \u001B[0m\u001B[35m         0.00645527383312583          \u001B[0m\u001B[35m \u001B[0m│\n│\u001B[36m \u001B[0m\u001B[36m         trk.fake_lhc_std_std         \u001B[0m\u001B[36m \u001B[0m│\u001B[35m \u001B[0m\u001B[35m                 nan                  \u001B[0m\u001B[35m \u001B[0m│\n│\u001B[36m \u001B[0m\u001B[36m           trk.fake_perfect           \u001B[0m\u001B[36m \u001B[0m│\u001B[35m \u001B[0m\u001B[35m          0.3460858464241028          \u001B[0m\u001B[35m \u001B[0m│\n│\u001B[36m \u001B[0m\u001B[36m        trk.fake_perfect_pt0.5        \u001B[0m\u001B[36m \u001B[0m│\u001B[35m \u001B[0m\u001B[35m          0.3490477204322815          \u001B[0m\u001B[35m \u001B[0m│\n│\u001B[36m \u001B[0m\u001B[36m      trk.fake_perfect_pt0.5_std      \u001B[0m\u001B[36m \u001B[0m│\u001B[35m \u001B[0m\u001B[35m         0.01000886969268322          \u001B[0m\u001B[35m \u001B[0m│\n│\u001B[36m \u001B[0m\u001B[36m    trk.fake_perfect_pt0.5_std_std    \u001B[0m\u001B[36m \u001B[0m│\u001B[35m \u001B[0m\u001B[35m                 nan                  \u001B[0m\u001B[35m \u001B[0m│\n│\u001B[36m \u001B[0m\u001B[36m        trk.fake_perfect_pt0.9        \u001B[0m\u001B[36m \u001B[0m│\u001B[35m \u001B[0m\u001B[35m          0.3048778772354126          \u001B[0m\u001B[35m \u001B[0m│\n│\u001B[36m \u001B[0m\u001B[36m      trk.fake_perfect_pt0.9_std      \u001B[0m\u001B[36m \u001B[0m│\u001B[35m \u001B[0m\u001B[35m         0.009610865265130997         \u001B[0m\u001B[35m \u001B[0m│\n│\u001B[36m \u001B[0m\u001B[36m    trk.fake_perfect_pt0.9_std_std    \u001B[0m\u001B[36m \u001B[0m│\u001B[35m \u001B[0m\u001B[35m                 nan                  \u001B[0m\u001B[35m \u001B[0m│\n│\u001B[36m \u001B[0m\u001B[36m        trk.fake_perfect_pt1.5        \u001B[0m\u001B[36m \u001B[0m│\u001B[35m \u001B[0m\u001B[35m           0.29221311211586           \u001B[0m\u001B[35m \u001B[0m│\n│\u001B[36m \u001B[0m\u001B[36m      trk.fake_perfect_pt1.5_std      \u001B[0m\u001B[36m \u001B[0m│\u001B[35m \u001B[0m\u001B[35m         0.01744161918759346          \u001B[0m\u001B[35m \u001B[0m│\n│\u001B[36m \u001B[0m\u001B[36m    trk.fake_perfect_pt1.5_std_std    \u001B[0m\u001B[36m \u001B[0m│\u001B[35m \u001B[0m\u001B[35m                 nan                  \u001B[0m\u001B[35m \u001B[0m│\n│\u001B[36m \u001B[0m\u001B[36m         trk.fake_perfect_std         \u001B[0m\u001B[36m \u001B[0m│\u001B[35m \u001B[0m\u001B[35m         0.006446595303714275         \u001B[0m\u001B[35m \u001B[0m│\n│\u001B[36m \u001B[0m\u001B[36m       trk.fake_perfect_std_std       \u001B[0m\u001B[36m \u001B[0m│\u001B[35m \u001B[0m\u001B[35m                 nan                  \u001B[0m\u001B[35m \u001B[0m│\n│\u001B[36m \u001B[0m\u001B[36m               trk.lhc                \u001B[0m\u001B[36m \u001B[0m│\u001B[35m \u001B[0m\u001B[35m          0.9037803411483765          \u001B[0m\u001B[35m \u001B[0m│\n│\u001B[36m \u001B[0m\u001B[36m            trk.lhc_pt0.5             \u001B[0m\u001B[36m \u001B[0m│\u001B[35m \u001B[0m\u001B[35m          0.9290783405303955          \u001B[0m\u001B[35m \u001B[0m│\n│\u001B[36m \u001B[0m\u001B[36m          trk.lhc_pt0.5_std           \u001B[0m\u001B[36m \u001B[0m│\u001B[35m \u001B[0m\u001B[35m         0.006022730376571417         \u001B[0m\u001B[35m \u001B[0m│\n│\u001B[36m \u001B[0m\u001B[36m        trk.lhc_pt0.5_std_std         \u001B[0m\u001B[36m \u001B[0m│\u001B[35m \u001B[0m\u001B[35m                 nan                  \u001B[0m\u001B[35m \u001B[0m│\n│\u001B[36m \u001B[0m\u001B[36m            trk.lhc_pt0.9             \u001B[0m\u001B[36m \u001B[0m│\u001B[35m \u001B[0m\u001B[35m          0.9311990141868591          \u001B[0m\u001B[35m \u001B[0m│\n│\u001B[36m \u001B[0m\u001B[36m          trk.lhc_pt0.9_std           \u001B[0m\u001B[36m \u001B[0m│\u001B[35m \u001B[0m\u001B[35m         0.00855198409408331          \u001B[0m\u001B[35m \u001B[0m│\n│\u001B[36m \u001B[0m\u001B[36m        trk.lhc_pt0.9_std_std         \u001B[0m\u001B[36m \u001B[0m│\u001B[35m \u001B[0m\u001B[35m                 nan                  \u001B[0m\u001B[35m \u001B[0m│\n│\u001B[36m \u001B[0m\u001B[36m            trk.lhc_pt1.5             \u001B[0m\u001B[36m \u001B[0m│\u001B[35m \u001B[0m\u001B[35m          0.9251130819320679          \u001B[0m\u001B[35m \u001B[0m│\n│\u001B[36m \u001B[0m\u001B[36m          trk.lhc_pt1.5_std           \u001B[0m\u001B[36m \u001B[0m│\u001B[35m \u001B[0m\u001B[35m         0.014487575739622116         \u001B[0m\u001B[35m \u001B[0m│\n│\u001B[36m \u001B[0m\u001B[36m        trk.lhc_pt1.5_std_std         \u001B[0m\u001B[36m \u001B[0m│\u001B[35m \u001B[0m\u001B[35m                 nan                  \u001B[0m\u001B[35m \u001B[0m│\n│\u001B[36m \u001B[0m\u001B[36m             trk.lhc_std              \u001B[0m\u001B[36m \u001B[0m│\u001B[35m \u001B[0m\u001B[35m         0.00645527383312583          \u001B[0m\u001B[35m \u001B[0m│\n│\u001B[36m \u001B[0m\u001B[36m           trk.lhc_std_std            \u001B[0m\u001B[36m \u001B[0m│\u001B[35m \u001B[0m\u001B[35m                 nan                  \u001B[0m\u001B[35m \u001B[0m│\n│\u001B[36m \u001B[0m\u001B[36m        trk.n_cleaned_clusters        \u001B[0m\u001B[36m \u001B[0m│\u001B[35m \u001B[0m\u001B[35m           4767.60009765625           \u001B[0m\u001B[35m \u001B[0m│\n│\u001B[36m \u001B[0m\u001B[36m     trk.n_cleaned_clusters_pt0.5     \u001B[0m\u001B[36m \u001B[0m│\u001B[35m \u001B[0m\u001B[35m                2834.0                \u001B[0m\u001B[35m \u001B[0m│\n│\u001B[36m \u001B[0m\u001B[36m   trk.n_cleaned_clusters_pt0.5_std   \u001B[0m\u001B[36m \u001B[0m│\u001B[35m \u001B[0m\u001B[35m          228.37579345703125          \u001B[0m\u001B[35m \u001B[0m│\n│\u001B[36m \u001B[0m\u001B[36m trk.n_cleaned_clusters_pt0.5_std_std \u001B[0m\u001B[36m \u001B[0m│\u001B[35m \u001B[0m\u001B[35m                 nan                  \u001B[0m\u001B[35m \u001B[0m│\n│\u001B[36m \u001B[0m\u001B[36m     trk.n_cleaned_clusters_pt0.9     \u001B[0m\u001B[36m \u001B[0m│\u001B[35m \u001B[0m\u001B[35m          1295.5999755859375          \u001B[0m\u001B[35m \u001B[0m│\n│\u001B[36m \u001B[0m\u001B[36m   trk.n_cleaned_clusters_pt0.9_std   \u001B[0m\u001B[36m \u001B[0m│\u001B[35m \u001B[0m\u001B[35m          104.6102294921875           \u001B[0m\u001B[35m \u001B[0m│\n│\u001B[36m \u001B[0m\u001B[36m trk.n_cleaned_clusters_pt0.9_std_std \u001B[0m\u001B[36m \u001B[0m│\u001B[35m \u001B[0m\u001B[35m                 nan                  \u001B[0m\u001B[35m \u001B[0m│\n│\u001B[36m \u001B[0m\u001B[36m     trk.n_cleaned_clusters_pt1.5     \u001B[0m\u001B[36m \u001B[0m│\u001B[35m \u001B[0m\u001B[35m          465.6000061035156           \u001B[0m\u001B[35m \u001B[0m│\n│\u001B[36m \u001B[0m\u001B[36m   trk.n_cleaned_clusters_pt1.5_std   \u001B[0m\u001B[36m \u001B[0m│\u001B[35m \u001B[0m\u001B[35m          25.21507453918457           \u001B[0m\u001B[35m \u001B[0m│\n│\u001B[36m \u001B[0m\u001B[36m trk.n_cleaned_clusters_pt1.5_std_std \u001B[0m\u001B[36m \u001B[0m│\u001B[35m \u001B[0m\u001B[35m                 nan                  \u001B[0m\u001B[35m \u001B[0m│\n│\u001B[36m \u001B[0m\u001B[36m      trk.n_cleaned_clusters_std      \u001B[0m\u001B[36m \u001B[0m│\u001B[35m \u001B[0m\u001B[35m          344.6705627441406           \u001B[0m\u001B[35m \u001B[0m│\n│\u001B[36m \u001B[0m\u001B[36m    trk.n_cleaned_clusters_std_std    \u001B[0m\u001B[36m \u001B[0m│\u001B[35m \u001B[0m\u001B[35m                 nan                  \u001B[0m\u001B[35m \u001B[0m│\n│\u001B[36m \u001B[0m\u001B[36m           trk.n_particles            \u001B[0m\u001B[36m \u001B[0m│\u001B[35m \u001B[0m\u001B[35m           7648.39990234375           \u001B[0m\u001B[35m \u001B[0m│\n│\u001B[36m \u001B[0m\u001B[36m        trk.n_particles_pt0.5         \u001B[0m\u001B[36m \u001B[0m│\u001B[35m \u001B[0m\u001B[35m          3414.800048828125           \u001B[0m\u001B[35m \u001B[0m│\n│\u001B[36m \u001B[0m\u001B[36m      trk.n_particles_pt0.5_std       \u001B[0m\u001B[36m \u001B[0m│\u001B[35m \u001B[0m\u001B[35m           303.50732421875            \u001B[0m\u001B[35m \u001B[0m│\n│\u001B[36m \u001B[0m\u001B[36m    trk.n_particles_pt0.5_std_std     \u001B[0m\u001B[36m \u001B[0m│\u001B[35m \u001B[0m\u001B[35m                 nan                  \u001B[0m\u001B[35m \u001B[0m│\n│\u001B[36m \u001B[0m\u001B[36m        trk.n_particles_pt0.9         \u001B[0m\u001B[36m \u001B[0m│\u001B[35m \u001B[0m\u001B[35m                1404.0                \u001B[0m\u001B[35m \u001B[0m│\n│\u001B[36m \u001B[0m\u001B[36m      trk.n_particles_pt0.9_std       \u001B[0m\u001B[36m \u001B[0m│\u001B[35m \u001B[0m\u001B[35m          124.31411743164062          \u001B[0m\u001B[35m \u001B[0m│\n│\u001B[36m \u001B[0m\u001B[36m    trk.n_particles_pt0.9_std_std     \u001B[0m\u001B[36m \u001B[0m│\u001B[35m \u001B[0m\u001B[35m                 nan                  \u001B[0m\u001B[35m \u001B[0m│\n│\u001B[36m \u001B[0m\u001B[36m        trk.n_particles_pt1.5         \u001B[0m\u001B[36m \u001B[0m│\u001B[35m \u001B[0m\u001B[35m          505.79998779296875          \u001B[0m\u001B[35m \u001B[0m│\n│\u001B[36m \u001B[0m\u001B[36m      trk.n_particles_pt1.5_std       \u001B[0m\u001B[36m \u001B[0m│\u001B[35m \u001B[0m\u001B[35m          34.25930404663086           \u001B[0m\u001B[35m \u001B[0m│\n│\u001B[36m \u001B[0m\u001B[36m    trk.n_particles_pt1.5_std_std     \u001B[0m\u001B[36m \u001B[0m│\u001B[35m \u001B[0m\u001B[35m                 nan                  \u001B[0m\u001B[35m \u001B[0m│\n│\u001B[36m \u001B[0m\u001B[36m         trk.n_particles_std          \u001B[0m\u001B[36m \u001B[0m│\u001B[35m \u001B[0m\u001B[35m           605.31005859375            \u001B[0m\u001B[35m \u001B[0m│\n│\u001B[36m \u001B[0m\u001B[36m       trk.n_particles_std_std        \u001B[0m\u001B[36m \u001B[0m│\u001B[35m \u001B[0m\u001B[35m                 nan                  \u001B[0m\u001B[35m \u001B[0m│\n│\u001B[36m \u001B[0m\u001B[36m             trk.perfect              \u001B[0m\u001B[36m \u001B[0m│\u001B[35m \u001B[0m\u001B[35m          0.2775444984436035          \u001B[0m\u001B[35m \u001B[0m│\n│\u001B[36m \u001B[0m\u001B[36m          trk.perfect_pt0.5           \u001B[0m\u001B[36m \u001B[0m│\u001B[35m \u001B[0m\u001B[35m         0.48133400082588196          \u001B[0m\u001B[35m \u001B[0m│\n│\u001B[36m \u001B[0m\u001B[36m        trk.perfect_pt0.5_std         \u001B[0m\u001B[36m \u001B[0m│\u001B[35m \u001B[0m\u001B[35m         0.014491725713014603         \u001B[0m\u001B[35m \u001B[0m│\n│\u001B[36m \u001B[0m\u001B[36m      trk.perfect_pt0.5_std_std       \u001B[0m\u001B[36m \u001B[0m│\u001B[35m \u001B[0m\u001B[35m                 nan                  \u001B[0m\u001B[35m \u001B[0m│\n│\u001B[36m \u001B[0m\u001B[36m          trk.perfect_pt0.9           \u001B[0m\u001B[36m \u001B[0m│\u001B[35m \u001B[0m\u001B[35m          0.6184599995613098          \u001B[0m\u001B[35m \u001B[0m│\n│\u001B[36m \u001B[0m\u001B[36m        trk.perfect_pt0.9_std         \u001B[0m\u001B[36m \u001B[0m│\u001B[35m \u001B[0m\u001B[35m         0.00985307339578867          \u001B[0m\u001B[35m \u001B[0m│\n│\u001B[36m \u001B[0m\u001B[36m      trk.perfect_pt0.9_std_std       \u001B[0m\u001B[36m \u001B[0m│\u001B[35m \u001B[0m\u001B[35m                 nan                  \u001B[0m\u001B[35m \u001B[0m│\n│\u001B[36m \u001B[0m\u001B[36m          trk.perfect_pt1.5           \u001B[0m\u001B[36m \u001B[0m│\u001B[35m \u001B[0m\u001B[35m          0.6292012333869934          \u001B[0m\u001B[35m \u001B[0m│\n│\u001B[36m \u001B[0m\u001B[36m        trk.perfect_pt1.5_std         \u001B[0m\u001B[36m \u001B[0m│\u001B[35m \u001B[0m\u001B[35m         0.02919030375778675          \u001B[0m\u001B[35m \u001B[0m│\n│\u001B[36m \u001B[0m\u001B[36m      trk.perfect_pt1.5_std_std       \u001B[0m\u001B[36m \u001B[0m│\u001B[35m \u001B[0m\u001B[35m                 nan                  \u001B[0m\u001B[35m \u001B[0m│\n│\u001B[36m \u001B[0m\u001B[36m           trk.perfect_std            \u001B[0m\u001B[36m \u001B[0m│\u001B[35m \u001B[0m\u001B[35m         0.007609145250171423         \u001B[0m\u001B[35m \u001B[0m│\n│\u001B[36m \u001B[0m\u001B[36m         trk.perfect_std_std          \u001B[0m\u001B[36m \u001B[0m│\u001B[35m \u001B[0m\u001B[35m                 nan                  \u001B[0m\u001B[35m \u001B[0m│\n│\u001B[36m \u001B[0m\u001B[36m              v_measure               \u001B[0m\u001B[36m \u001B[0m│\u001B[35m \u001B[0m\u001B[35m          0.9078373908996582          \u001B[0m\u001B[35m \u001B[0m│\n│\u001B[36m \u001B[0m\u001B[36m            v_measure_std             \u001B[0m\u001B[36m \u001B[0m│\u001B[35m \u001B[0m\u001B[35m        0.0022742273285984993         \u001B[0m\u001B[35m \u001B[0m│\n│\u001B[36m \u001B[0m\u001B[36m          v_measure_std_std           \u001B[0m\u001B[36m \u001B[0m│\u001B[35m \u001B[0m\u001B[35m                 nan                  \u001B[0m\u001B[35m \u001B[0m│\n└────────────────────────────────────────┴────────────────────────────────────────┘\n",
      "text/html": "<pre style=\"white-space:pre;overflow-x:auto;line-height:normal;font-family:Menlo,'DejaVu Sans Mono',consolas,'Courier New',monospace\">┏━━━━━━━━━━━━━━━━━━━━━━━━━━━━━━━━━━━━━━━━┳━━━━━━━━━━━━━━━━━━━━━━━━━━━━━━━━━━━━━━━━┓\n┃<span style=\"font-weight: bold\">            Validate metric             </span>┃<span style=\"font-weight: bold\">              DataLoader 0              </span>┃\n┡━━━━━━━━━━━━━━━━━━━━━━━━━━━━━━━━━━━━━━━━╇━━━━━━━━━━━━━━━━━━━━━━━━━━━━━━━━━━━━━━━━┩\n│<span style=\"color: #008080; text-decoration-color: #008080\">             adjusted_rand              </span>│<span style=\"color: #800080; text-decoration-color: #800080\">          0.03215637058019638           </span>│\n│<span style=\"color: #008080; text-decoration-color: #008080\">           adjusted_rand_std            </span>│<span style=\"color: #800080; text-decoration-color: #800080\">         0.0037478802260011435          </span>│\n│<span style=\"color: #008080; text-decoration-color: #008080\">         adjusted_rand_std_std          </span>│<span style=\"color: #800080; text-decoration-color: #800080\">                  nan                   </span>│\n│<span style=\"color: #008080; text-decoration-color: #008080\">               attractive               </span>│<span style=\"color: #800080; text-decoration-color: #800080\">         1.3140039300196804e-05         </span>│\n│<span style=\"color: #008080; text-decoration-color: #008080\">             attractive_std             </span>│<span style=\"color: #800080; text-decoration-color: #800080\">         2.9810652790729364e-07         </span>│\n│<span style=\"color: #008080; text-decoration-color: #008080\">          attractive_weighted           </span>│<span style=\"color: #800080; text-decoration-color: #800080\">         1.3140039300196804e-05         </span>│\n│<span style=\"color: #008080; text-decoration-color: #008080\">        attractive_weighted_std         </span>│<span style=\"color: #800080; text-decoration-color: #800080\">         2.9810652790729364e-07         </span>│\n│<span style=\"color: #008080; text-decoration-color: #008080\">               background               </span>│<span style=\"color: #800080; text-decoration-color: #800080\">                  1.0                   </span>│\n│<span style=\"color: #008080; text-decoration-color: #008080\">             background_std             </span>│<span style=\"color: #800080; text-decoration-color: #800080\">         1.332800358966324e-08          </span>│\n│<span style=\"color: #008080; text-decoration-color: #008080\">          background_weighted           </span>│<span style=\"color: #800080; text-decoration-color: #800080\">          0.00409999955445528           </span>│\n│<span style=\"color: #008080; text-decoration-color: #008080\">        background_weighted_std         </span>│<span style=\"color: #800080; text-decoration-color: #800080\">         1.0412502804424406e-10         </span>│\n│<span style=\"color: #008080; text-decoration-color: #008080\">            best_dbscan_eps             </span>│<span style=\"color: #800080; text-decoration-color: #800080\">           0.4084848165512085           </span>│\n│<span style=\"color: #008080; text-decoration-color: #008080\">          best_dbscan_eps_std           </span>│<span style=\"color: #800080; text-decoration-color: #800080\">                  nan                   </span>│\n│<span style=\"color: #008080; text-decoration-color: #008080\">        best_dbscan_min_samples         </span>│<span style=\"color: #800080; text-decoration-color: #800080\">                  1.0                   </span>│\n│<span style=\"color: #008080; text-decoration-color: #008080\">      best_dbscan_min_samples_std       </span>│<span style=\"color: #800080; text-decoration-color: #800080\">                  nan                   </span>│\n│<span style=\"color: #008080; text-decoration-color: #008080\">              completeness              </span>│<span style=\"color: #800080; text-decoration-color: #800080\">           0.8834384679794312           </span>│\n│<span style=\"color: #008080; text-decoration-color: #008080\">            completeness_std            </span>│<span style=\"color: #800080; text-decoration-color: #800080\">          0.003333359956741333          </span>│\n│<span style=\"color: #008080; text-decoration-color: #008080\">          completeness_std_std          </span>│<span style=\"color: #800080; text-decoration-color: #800080\">                  nan                   </span>│\n│<span style=\"color: #008080; text-decoration-color: #008080\">            fowlkes_mallows             </span>│<span style=\"color: #800080; text-decoration-color: #800080\">          0.03728548809885979           </span>│\n│<span style=\"color: #008080; text-decoration-color: #008080\">          fowlkes_mallows_std           </span>│<span style=\"color: #800080; text-decoration-color: #800080\">         0.0034563906956464052          </span>│\n│<span style=\"color: #008080; text-decoration-color: #008080\">        fowlkes_mallows_std_std         </span>│<span style=\"color: #800080; text-decoration-color: #800080\">                  nan                   </span>│\n│<span style=\"color: #008080; text-decoration-color: #008080\">              homogeneity               </span>│<span style=\"color: #800080; text-decoration-color: #800080\">           0.9336580634117126           </span>│\n│<span style=\"color: #008080; text-decoration-color: #008080\">            homogeneity_std             </span>│<span style=\"color: #800080; text-decoration-color: #800080\">          0.006325864233076572          </span>│\n│<span style=\"color: #008080; text-decoration-color: #008080\">          homogeneity_std_std           </span>│<span style=\"color: #800080; text-decoration-color: #800080\">                  nan                   </span>│\n│<span style=\"color: #008080; text-decoration-color: #008080\">               repulsive                </span>│<span style=\"color: #800080; text-decoration-color: #800080\">         2.991704059240874e-05          </span>│\n│<span style=\"color: #008080; text-decoration-color: #008080\">             repulsive_std              </span>│<span style=\"color: #800080; text-decoration-color: #800080\">         1.1564778787942487e-06         </span>│\n│<span style=\"color: #008080; text-decoration-color: #008080\">           repulsive_weighted           </span>│<span style=\"color: #800080; text-decoration-color: #800080\">         2.223974297521636e-05          </span>│\n│<span style=\"color: #008080; text-decoration-color: #008080\">         repulsive_weighted_std         </span>│<span style=\"color: #800080; text-decoration-color: #800080\">         8.597029932388978e-07          </span>│\n│<span style=\"color: #008080; text-decoration-color: #008080\">                 total                  </span>│<span style=\"color: #800080; text-decoration-color: #800080\">          0.004135379567742348          </span>│\n│<span style=\"color: #008080; text-decoration-color: #008080\">               total_std                </span>│<span style=\"color: #800080; text-decoration-color: #800080\">         1.1014168421752402e-06         </span>│\n│<span style=\"color: #008080; text-decoration-color: #008080\">          trk.double_majority           </span>│<span style=\"color: #800080; text-decoration-color: #800080\">           0.5153970718383789           </span>│\n│<span style=\"color: #008080; text-decoration-color: #008080\">       trk.double_majority_pt0.5        </span>│<span style=\"color: #800080; text-decoration-color: #800080\">           0.7771095037460327           </span>│\n│<span style=\"color: #008080; text-decoration-color: #008080\">     trk.double_majority_pt0.5_std      </span>│<span style=\"color: #800080; text-decoration-color: #800080\">          0.011594889685511589          </span>│\n│<span style=\"color: #008080; text-decoration-color: #008080\">   trk.double_majority_pt0.5_std_std    </span>│<span style=\"color: #800080; text-decoration-color: #800080\">                  nan                   </span>│\n│<span style=\"color: #008080; text-decoration-color: #008080\">       trk.double_majority_pt0.9        </span>│<span style=\"color: #800080; text-decoration-color: #800080\">           0.8916953802108765           </span>│\n│<span style=\"color: #008080; text-decoration-color: #008080\">     trk.double_majority_pt0.9_std      </span>│<span style=\"color: #800080; text-decoration-color: #800080\">          0.012939689680933952          </span>│\n│<span style=\"color: #008080; text-decoration-color: #008080\">   trk.double_majority_pt0.9_std_std    </span>│<span style=\"color: #800080; text-decoration-color: #800080\">                  nan                   </span>│\n│<span style=\"color: #008080; text-decoration-color: #008080\">       trk.double_majority_pt1.5        </span>│<span style=\"color: #800080; text-decoration-color: #800080\">           0.8886311054229736           </span>│\n│<span style=\"color: #008080; text-decoration-color: #008080\">     trk.double_majority_pt1.5_std      </span>│<span style=\"color: #800080; text-decoration-color: #800080\">          0.025097912177443504          </span>│\n│<span style=\"color: #008080; text-decoration-color: #008080\">   trk.double_majority_pt1.5_std_std    </span>│<span style=\"color: #800080; text-decoration-color: #800080\">                  nan                   </span>│\n│<span style=\"color: #008080; text-decoration-color: #008080\">        trk.double_majority_std         </span>│<span style=\"color: #800080; text-decoration-color: #800080\">           0.0091920280829072           </span>│\n│<span style=\"color: #008080; text-decoration-color: #008080\">      trk.double_majority_std_std       </span>│<span style=\"color: #800080; text-decoration-color: #800080\">                  nan                   </span>│\n│<span style=\"color: #008080; text-decoration-color: #008080\">        trk.fake_double_majority        </span>│<span style=\"color: #800080; text-decoration-color: #800080\">           0.108233243227005            </span>│\n│<span style=\"color: #008080; text-decoration-color: #008080\">     trk.fake_double_majority_pt0.5     </span>│<span style=\"color: #800080; text-decoration-color: #800080\">          0.053272224962711334          </span>│\n│<span style=\"color: #008080; text-decoration-color: #008080\">   trk.fake_double_majority_pt0.5_std   </span>│<span style=\"color: #800080; text-decoration-color: #800080\">          0.006096450611948967          </span>│\n│<span style=\"color: #008080; text-decoration-color: #008080\"> trk.fake_double_majority_pt0.5_std_std </span>│<span style=\"color: #800080; text-decoration-color: #800080\">                  nan                   </span>│\n│<span style=\"color: #008080; text-decoration-color: #008080\">     trk.fake_double_majority_pt0.9     </span>│<span style=\"color: #800080; text-decoration-color: #800080\">          0.031642500311136246          </span>│\n│<span style=\"color: #008080; text-decoration-color: #008080\">   trk.fake_double_majority_pt0.9_std   </span>│<span style=\"color: #800080; text-decoration-color: #800080\">          0.006022522691637278          </span>│\n│<span style=\"color: #008080; text-decoration-color: #008080\"> trk.fake_double_majority_pt0.9_std_std </span>│<span style=\"color: #800080; text-decoration-color: #800080\">                  nan                   </span>│\n│<span style=\"color: #008080; text-decoration-color: #008080\">     trk.fake_double_majority_pt1.5     </span>│<span style=\"color: #800080; text-decoration-color: #800080\">          0.032783232629299164          </span>│\n│<span style=\"color: #008080; text-decoration-color: #008080\">   trk.fake_double_majority_pt1.5_std   </span>│<span style=\"color: #800080; text-decoration-color: #800080\">          0.010677038691937923          </span>│\n│<span style=\"color: #008080; text-decoration-color: #008080\"> trk.fake_double_majority_pt1.5_std_std </span>│<span style=\"color: #800080; text-decoration-color: #800080\">                  nan                   </span>│\n│<span style=\"color: #008080; text-decoration-color: #008080\">      trk.fake_double_majority_std      </span>│<span style=\"color: #800080; text-decoration-color: #800080\">          0.006013914942741394          </span>│\n│<span style=\"color: #008080; text-decoration-color: #008080\">    trk.fake_double_majority_std_std    </span>│<span style=\"color: #800080; text-decoration-color: #800080\">                  nan                   </span>│\n│<span style=\"color: #008080; text-decoration-color: #008080\">              trk.fake_lhc              </span>│<span style=\"color: #800080; text-decoration-color: #800080\">          0.09621964395046234           </span>│\n│<span style=\"color: #008080; text-decoration-color: #008080\">           trk.fake_lhc_pt0.5           </span>│<span style=\"color: #800080; text-decoration-color: #800080\">          0.07092168182134628           </span>│\n│<span style=\"color: #008080; text-decoration-color: #008080\">         trk.fake_lhc_pt0.5_std         </span>│<span style=\"color: #800080; text-decoration-color: #800080\">          0.006022730376571417          </span>│\n│<span style=\"color: #008080; text-decoration-color: #008080\">       trk.fake_lhc_pt0.5_std_std       </span>│<span style=\"color: #800080; text-decoration-color: #800080\">                  nan                   </span>│\n│<span style=\"color: #008080; text-decoration-color: #008080\">           trk.fake_lhc_pt0.9           </span>│<span style=\"color: #800080; text-decoration-color: #800080\">          0.06880097091197968           </span>│\n│<span style=\"color: #008080; text-decoration-color: #008080\">         trk.fake_lhc_pt0.9_std         </span>│<span style=\"color: #800080; text-decoration-color: #800080\">          0.00855198409408331           </span>│\n│<span style=\"color: #008080; text-decoration-color: #008080\">       trk.fake_lhc_pt0.9_std_std       </span>│<span style=\"color: #800080; text-decoration-color: #800080\">                  nan                   </span>│\n│<span style=\"color: #008080; text-decoration-color: #008080\">           trk.fake_lhc_pt1.5           </span>│<span style=\"color: #800080; text-decoration-color: #800080\">          0.07488689571619034           </span>│\n│<span style=\"color: #008080; text-decoration-color: #008080\">         trk.fake_lhc_pt1.5_std         </span>│<span style=\"color: #800080; text-decoration-color: #800080\">          0.014487575739622116          </span>│\n│<span style=\"color: #008080; text-decoration-color: #008080\">       trk.fake_lhc_pt1.5_std_std       </span>│<span style=\"color: #800080; text-decoration-color: #800080\">                  nan                   </span>│\n│<span style=\"color: #008080; text-decoration-color: #008080\">            trk.fake_lhc_std            </span>│<span style=\"color: #800080; text-decoration-color: #800080\">          0.00645527383312583           </span>│\n│<span style=\"color: #008080; text-decoration-color: #008080\">          trk.fake_lhc_std_std          </span>│<span style=\"color: #800080; text-decoration-color: #800080\">                  nan                   </span>│\n│<span style=\"color: #008080; text-decoration-color: #008080\">            trk.fake_perfect            </span>│<span style=\"color: #800080; text-decoration-color: #800080\">           0.3460858464241028           </span>│\n│<span style=\"color: #008080; text-decoration-color: #008080\">         trk.fake_perfect_pt0.5         </span>│<span style=\"color: #800080; text-decoration-color: #800080\">           0.3490477204322815           </span>│\n│<span style=\"color: #008080; text-decoration-color: #008080\">       trk.fake_perfect_pt0.5_std       </span>│<span style=\"color: #800080; text-decoration-color: #800080\">          0.01000886969268322           </span>│\n│<span style=\"color: #008080; text-decoration-color: #008080\">     trk.fake_perfect_pt0.5_std_std     </span>│<span style=\"color: #800080; text-decoration-color: #800080\">                  nan                   </span>│\n│<span style=\"color: #008080; text-decoration-color: #008080\">         trk.fake_perfect_pt0.9         </span>│<span style=\"color: #800080; text-decoration-color: #800080\">           0.3048778772354126           </span>│\n│<span style=\"color: #008080; text-decoration-color: #008080\">       trk.fake_perfect_pt0.9_std       </span>│<span style=\"color: #800080; text-decoration-color: #800080\">          0.009610865265130997          </span>│\n│<span style=\"color: #008080; text-decoration-color: #008080\">     trk.fake_perfect_pt0.9_std_std     </span>│<span style=\"color: #800080; text-decoration-color: #800080\">                  nan                   </span>│\n│<span style=\"color: #008080; text-decoration-color: #008080\">         trk.fake_perfect_pt1.5         </span>│<span style=\"color: #800080; text-decoration-color: #800080\">            0.29221311211586            </span>│\n│<span style=\"color: #008080; text-decoration-color: #008080\">       trk.fake_perfect_pt1.5_std       </span>│<span style=\"color: #800080; text-decoration-color: #800080\">          0.01744161918759346           </span>│\n│<span style=\"color: #008080; text-decoration-color: #008080\">     trk.fake_perfect_pt1.5_std_std     </span>│<span style=\"color: #800080; text-decoration-color: #800080\">                  nan                   </span>│\n│<span style=\"color: #008080; text-decoration-color: #008080\">          trk.fake_perfect_std          </span>│<span style=\"color: #800080; text-decoration-color: #800080\">          0.006446595303714275          </span>│\n│<span style=\"color: #008080; text-decoration-color: #008080\">        trk.fake_perfect_std_std        </span>│<span style=\"color: #800080; text-decoration-color: #800080\">                  nan                   </span>│\n│<span style=\"color: #008080; text-decoration-color: #008080\">                trk.lhc                 </span>│<span style=\"color: #800080; text-decoration-color: #800080\">           0.9037803411483765           </span>│\n│<span style=\"color: #008080; text-decoration-color: #008080\">             trk.lhc_pt0.5              </span>│<span style=\"color: #800080; text-decoration-color: #800080\">           0.9290783405303955           </span>│\n│<span style=\"color: #008080; text-decoration-color: #008080\">           trk.lhc_pt0.5_std            </span>│<span style=\"color: #800080; text-decoration-color: #800080\">          0.006022730376571417          </span>│\n│<span style=\"color: #008080; text-decoration-color: #008080\">         trk.lhc_pt0.5_std_std          </span>│<span style=\"color: #800080; text-decoration-color: #800080\">                  nan                   </span>│\n│<span style=\"color: #008080; text-decoration-color: #008080\">             trk.lhc_pt0.9              </span>│<span style=\"color: #800080; text-decoration-color: #800080\">           0.9311990141868591           </span>│\n│<span style=\"color: #008080; text-decoration-color: #008080\">           trk.lhc_pt0.9_std            </span>│<span style=\"color: #800080; text-decoration-color: #800080\">          0.00855198409408331           </span>│\n│<span style=\"color: #008080; text-decoration-color: #008080\">         trk.lhc_pt0.9_std_std          </span>│<span style=\"color: #800080; text-decoration-color: #800080\">                  nan                   </span>│\n│<span style=\"color: #008080; text-decoration-color: #008080\">             trk.lhc_pt1.5              </span>│<span style=\"color: #800080; text-decoration-color: #800080\">           0.9251130819320679           </span>│\n│<span style=\"color: #008080; text-decoration-color: #008080\">           trk.lhc_pt1.5_std            </span>│<span style=\"color: #800080; text-decoration-color: #800080\">          0.014487575739622116          </span>│\n│<span style=\"color: #008080; text-decoration-color: #008080\">         trk.lhc_pt1.5_std_std          </span>│<span style=\"color: #800080; text-decoration-color: #800080\">                  nan                   </span>│\n│<span style=\"color: #008080; text-decoration-color: #008080\">              trk.lhc_std               </span>│<span style=\"color: #800080; text-decoration-color: #800080\">          0.00645527383312583           </span>│\n│<span style=\"color: #008080; text-decoration-color: #008080\">            trk.lhc_std_std             </span>│<span style=\"color: #800080; text-decoration-color: #800080\">                  nan                   </span>│\n│<span style=\"color: #008080; text-decoration-color: #008080\">         trk.n_cleaned_clusters         </span>│<span style=\"color: #800080; text-decoration-color: #800080\">            4767.60009765625            </span>│\n│<span style=\"color: #008080; text-decoration-color: #008080\">      trk.n_cleaned_clusters_pt0.5      </span>│<span style=\"color: #800080; text-decoration-color: #800080\">                 2834.0                 </span>│\n│<span style=\"color: #008080; text-decoration-color: #008080\">    trk.n_cleaned_clusters_pt0.5_std    </span>│<span style=\"color: #800080; text-decoration-color: #800080\">           228.37579345703125           </span>│\n│<span style=\"color: #008080; text-decoration-color: #008080\">  trk.n_cleaned_clusters_pt0.5_std_std  </span>│<span style=\"color: #800080; text-decoration-color: #800080\">                  nan                   </span>│\n│<span style=\"color: #008080; text-decoration-color: #008080\">      trk.n_cleaned_clusters_pt0.9      </span>│<span style=\"color: #800080; text-decoration-color: #800080\">           1295.5999755859375           </span>│\n│<span style=\"color: #008080; text-decoration-color: #008080\">    trk.n_cleaned_clusters_pt0.9_std    </span>│<span style=\"color: #800080; text-decoration-color: #800080\">           104.6102294921875            </span>│\n│<span style=\"color: #008080; text-decoration-color: #008080\">  trk.n_cleaned_clusters_pt0.9_std_std  </span>│<span style=\"color: #800080; text-decoration-color: #800080\">                  nan                   </span>│\n│<span style=\"color: #008080; text-decoration-color: #008080\">      trk.n_cleaned_clusters_pt1.5      </span>│<span style=\"color: #800080; text-decoration-color: #800080\">           465.6000061035156            </span>│\n│<span style=\"color: #008080; text-decoration-color: #008080\">    trk.n_cleaned_clusters_pt1.5_std    </span>│<span style=\"color: #800080; text-decoration-color: #800080\">           25.21507453918457            </span>│\n│<span style=\"color: #008080; text-decoration-color: #008080\">  trk.n_cleaned_clusters_pt1.5_std_std  </span>│<span style=\"color: #800080; text-decoration-color: #800080\">                  nan                   </span>│\n│<span style=\"color: #008080; text-decoration-color: #008080\">       trk.n_cleaned_clusters_std       </span>│<span style=\"color: #800080; text-decoration-color: #800080\">           344.6705627441406            </span>│\n│<span style=\"color: #008080; text-decoration-color: #008080\">     trk.n_cleaned_clusters_std_std     </span>│<span style=\"color: #800080; text-decoration-color: #800080\">                  nan                   </span>│\n│<span style=\"color: #008080; text-decoration-color: #008080\">            trk.n_particles             </span>│<span style=\"color: #800080; text-decoration-color: #800080\">            7648.39990234375            </span>│\n│<span style=\"color: #008080; text-decoration-color: #008080\">         trk.n_particles_pt0.5          </span>│<span style=\"color: #800080; text-decoration-color: #800080\">           3414.800048828125            </span>│\n│<span style=\"color: #008080; text-decoration-color: #008080\">       trk.n_particles_pt0.5_std        </span>│<span style=\"color: #800080; text-decoration-color: #800080\">            303.50732421875             </span>│\n│<span style=\"color: #008080; text-decoration-color: #008080\">     trk.n_particles_pt0.5_std_std      </span>│<span style=\"color: #800080; text-decoration-color: #800080\">                  nan                   </span>│\n│<span style=\"color: #008080; text-decoration-color: #008080\">         trk.n_particles_pt0.9          </span>│<span style=\"color: #800080; text-decoration-color: #800080\">                 1404.0                 </span>│\n│<span style=\"color: #008080; text-decoration-color: #008080\">       trk.n_particles_pt0.9_std        </span>│<span style=\"color: #800080; text-decoration-color: #800080\">           124.31411743164062           </span>│\n│<span style=\"color: #008080; text-decoration-color: #008080\">     trk.n_particles_pt0.9_std_std      </span>│<span style=\"color: #800080; text-decoration-color: #800080\">                  nan                   </span>│\n│<span style=\"color: #008080; text-decoration-color: #008080\">         trk.n_particles_pt1.5          </span>│<span style=\"color: #800080; text-decoration-color: #800080\">           505.79998779296875           </span>│\n│<span style=\"color: #008080; text-decoration-color: #008080\">       trk.n_particles_pt1.5_std        </span>│<span style=\"color: #800080; text-decoration-color: #800080\">           34.25930404663086            </span>│\n│<span style=\"color: #008080; text-decoration-color: #008080\">     trk.n_particles_pt1.5_std_std      </span>│<span style=\"color: #800080; text-decoration-color: #800080\">                  nan                   </span>│\n│<span style=\"color: #008080; text-decoration-color: #008080\">          trk.n_particles_std           </span>│<span style=\"color: #800080; text-decoration-color: #800080\">            605.31005859375             </span>│\n│<span style=\"color: #008080; text-decoration-color: #008080\">        trk.n_particles_std_std         </span>│<span style=\"color: #800080; text-decoration-color: #800080\">                  nan                   </span>│\n│<span style=\"color: #008080; text-decoration-color: #008080\">              trk.perfect               </span>│<span style=\"color: #800080; text-decoration-color: #800080\">           0.2775444984436035           </span>│\n│<span style=\"color: #008080; text-decoration-color: #008080\">           trk.perfect_pt0.5            </span>│<span style=\"color: #800080; text-decoration-color: #800080\">          0.48133400082588196           </span>│\n│<span style=\"color: #008080; text-decoration-color: #008080\">         trk.perfect_pt0.5_std          </span>│<span style=\"color: #800080; text-decoration-color: #800080\">          0.014491725713014603          </span>│\n│<span style=\"color: #008080; text-decoration-color: #008080\">       trk.perfect_pt0.5_std_std        </span>│<span style=\"color: #800080; text-decoration-color: #800080\">                  nan                   </span>│\n│<span style=\"color: #008080; text-decoration-color: #008080\">           trk.perfect_pt0.9            </span>│<span style=\"color: #800080; text-decoration-color: #800080\">           0.6184599995613098           </span>│\n│<span style=\"color: #008080; text-decoration-color: #008080\">         trk.perfect_pt0.9_std          </span>│<span style=\"color: #800080; text-decoration-color: #800080\">          0.00985307339578867           </span>│\n│<span style=\"color: #008080; text-decoration-color: #008080\">       trk.perfect_pt0.9_std_std        </span>│<span style=\"color: #800080; text-decoration-color: #800080\">                  nan                   </span>│\n│<span style=\"color: #008080; text-decoration-color: #008080\">           trk.perfect_pt1.5            </span>│<span style=\"color: #800080; text-decoration-color: #800080\">           0.6292012333869934           </span>│\n│<span style=\"color: #008080; text-decoration-color: #008080\">         trk.perfect_pt1.5_std          </span>│<span style=\"color: #800080; text-decoration-color: #800080\">          0.02919030375778675           </span>│\n│<span style=\"color: #008080; text-decoration-color: #008080\">       trk.perfect_pt1.5_std_std        </span>│<span style=\"color: #800080; text-decoration-color: #800080\">                  nan                   </span>│\n│<span style=\"color: #008080; text-decoration-color: #008080\">            trk.perfect_std             </span>│<span style=\"color: #800080; text-decoration-color: #800080\">          0.007609145250171423          </span>│\n│<span style=\"color: #008080; text-decoration-color: #008080\">          trk.perfect_std_std           </span>│<span style=\"color: #800080; text-decoration-color: #800080\">                  nan                   </span>│\n│<span style=\"color: #008080; text-decoration-color: #008080\">               v_measure                </span>│<span style=\"color: #800080; text-decoration-color: #800080\">           0.9078373908996582           </span>│\n│<span style=\"color: #008080; text-decoration-color: #008080\">             v_measure_std              </span>│<span style=\"color: #800080; text-decoration-color: #800080\">         0.0022742273285984993          </span>│\n│<span style=\"color: #008080; text-decoration-color: #008080\">           v_measure_std_std            </span>│<span style=\"color: #800080; text-decoration-color: #800080\">                  nan                   </span>│\n└────────────────────────────────────────┴────────────────────────────────────────┘\n</pre>\n"
     },
     "metadata": {},
     "output_type": "display_data"
    },
    {
     "data": {
      "text/plain": "[{'attractive': 1.3140039300196804e-05,\n  'repulsive': 2.991704059240874e-05,\n  'background': 1.0,\n  'attractive_weighted': 1.3140039300196804e-05,\n  'repulsive_weighted': 2.223974297521636e-05,\n  'background_weighted': 0.00409999955445528,\n  'total': 0.004135379567742348,\n  'v_measure': 0.9078373908996582,\n  'homogeneity': 0.9336580634117126,\n  'completeness': 0.8834384679794312,\n  'trk.n_particles': 7648.39990234375,\n  'trk.n_cleaned_clusters': 4767.60009765625,\n  'trk.perfect': 0.2775444984436035,\n  'trk.double_majority': 0.5153970718383789,\n  'trk.lhc': 0.9037803411483765,\n  'trk.fake_perfect': 0.3460858464241028,\n  'trk.fake_double_majority': 0.108233243227005,\n  'trk.fake_lhc': 0.09621964395046234,\n  'trk.n_particles_pt0.5': 3414.800048828125,\n  'trk.n_cleaned_clusters_pt0.5': 2834.0,\n  'trk.perfect_pt0.5': 0.48133400082588196,\n  'trk.double_majority_pt0.5': 0.7771095037460327,\n  'trk.lhc_pt0.5': 0.9290783405303955,\n  'trk.fake_perfect_pt0.5': 0.3490477204322815,\n  'trk.fake_double_majority_pt0.5': 0.053272224962711334,\n  'trk.fake_lhc_pt0.5': 0.07092168182134628,\n  'trk.n_particles_pt0.9': 1404.0,\n  'trk.n_cleaned_clusters_pt0.9': 1295.5999755859375,\n  'trk.perfect_pt0.9': 0.6184599995613098,\n  'trk.double_majority_pt0.9': 0.8916953802108765,\n  'trk.lhc_pt0.9': 0.9311990141868591,\n  'trk.fake_perfect_pt0.9': 0.3048778772354126,\n  'trk.fake_double_majority_pt0.9': 0.031642500311136246,\n  'trk.fake_lhc_pt0.9': 0.06880097091197968,\n  'trk.n_particles_pt1.5': 505.79998779296875,\n  'trk.n_cleaned_clusters_pt1.5': 465.6000061035156,\n  'trk.perfect_pt1.5': 0.6292012333869934,\n  'trk.double_majority_pt1.5': 0.8886311054229736,\n  'trk.lhc_pt1.5': 0.9251130819320679,\n  'trk.fake_perfect_pt1.5': 0.29221311211586,\n  'trk.fake_double_majority_pt1.5': 0.032783232629299164,\n  'trk.fake_lhc_pt1.5': 0.07488689571619034,\n  'adjusted_rand': 0.03215637058019638,\n  'fowlkes_mallows': 0.03728548809885979,\n  'v_measure_std': 0.0022742273285984993,\n  'homogeneity_std': 0.006325864233076572,\n  'completeness_std': 0.003333359956741333,\n  'trk.n_particles_std': 605.31005859375,\n  'trk.n_cleaned_clusters_std': 344.6705627441406,\n  'trk.perfect_std': 0.007609145250171423,\n  'trk.double_majority_std': 0.0091920280829072,\n  'trk.lhc_std': 0.00645527383312583,\n  'trk.fake_perfect_std': 0.006446595303714275,\n  'trk.fake_double_majority_std': 0.006013914942741394,\n  'trk.fake_lhc_std': 0.00645527383312583,\n  'trk.n_particles_pt0.5_std': 303.50732421875,\n  'trk.n_cleaned_clusters_pt0.5_std': 228.37579345703125,\n  'trk.perfect_pt0.5_std': 0.014491725713014603,\n  'trk.double_majority_pt0.5_std': 0.011594889685511589,\n  'trk.lhc_pt0.5_std': 0.006022730376571417,\n  'trk.fake_perfect_pt0.5_std': 0.01000886969268322,\n  'trk.fake_double_majority_pt0.5_std': 0.006096450611948967,\n  'trk.fake_lhc_pt0.5_std': 0.006022730376571417,\n  'trk.n_particles_pt0.9_std': 124.31411743164062,\n  'trk.n_cleaned_clusters_pt0.9_std': 104.6102294921875,\n  'trk.perfect_pt0.9_std': 0.00985307339578867,\n  'trk.double_majority_pt0.9_std': 0.012939689680933952,\n  'trk.lhc_pt0.9_std': 0.00855198409408331,\n  'trk.fake_perfect_pt0.9_std': 0.009610865265130997,\n  'trk.fake_double_majority_pt0.9_std': 0.006022522691637278,\n  'trk.fake_lhc_pt0.9_std': 0.00855198409408331,\n  'trk.n_particles_pt1.5_std': 34.25930404663086,\n  'trk.n_cleaned_clusters_pt1.5_std': 25.21507453918457,\n  'trk.perfect_pt1.5_std': 0.02919030375778675,\n  'trk.double_majority_pt1.5_std': 0.025097912177443504,\n  'trk.lhc_pt1.5_std': 0.014487575739622116,\n  'trk.fake_perfect_pt1.5_std': 0.01744161918759346,\n  'trk.fake_double_majority_pt1.5_std': 0.010677038691937923,\n  'trk.fake_lhc_pt1.5_std': 0.014487575739622116,\n  'adjusted_rand_std': 0.0037478802260011435,\n  'fowlkes_mallows_std': 0.0034563906956464052,\n  'best_dbscan_eps': 0.4084848165512085,\n  'best_dbscan_min_samples': 1.0,\n  'attractive_std': 2.9810652790729364e-07,\n  'repulsive_std': 1.1564778787942487e-06,\n  'background_std': 1.332800358966324e-08,\n  'attractive_weighted_std': 2.9810652790729364e-07,\n  'repulsive_weighted_std': 8.597029932388978e-07,\n  'background_weighted_std': 1.0412502804424406e-10,\n  'total_std': 1.1014168421752402e-06,\n  'v_measure_std_std': nan,\n  'homogeneity_std_std': nan,\n  'completeness_std_std': nan,\n  'trk.n_particles_std_std': nan,\n  'trk.n_cleaned_clusters_std_std': nan,\n  'trk.perfect_std_std': nan,\n  'trk.double_majority_std_std': nan,\n  'trk.lhc_std_std': nan,\n  'trk.fake_perfect_std_std': nan,\n  'trk.fake_double_majority_std_std': nan,\n  'trk.fake_lhc_std_std': nan,\n  'trk.n_particles_pt0.5_std_std': nan,\n  'trk.n_cleaned_clusters_pt0.5_std_std': nan,\n  'trk.perfect_pt0.5_std_std': nan,\n  'trk.double_majority_pt0.5_std_std': nan,\n  'trk.lhc_pt0.5_std_std': nan,\n  'trk.fake_perfect_pt0.5_std_std': nan,\n  'trk.fake_double_majority_pt0.5_std_std': nan,\n  'trk.fake_lhc_pt0.5_std_std': nan,\n  'trk.n_particles_pt0.9_std_std': nan,\n  'trk.n_cleaned_clusters_pt0.9_std_std': nan,\n  'trk.perfect_pt0.9_std_std': nan,\n  'trk.double_majority_pt0.9_std_std': nan,\n  'trk.lhc_pt0.9_std_std': nan,\n  'trk.fake_perfect_pt0.9_std_std': nan,\n  'trk.fake_double_majority_pt0.9_std_std': nan,\n  'trk.fake_lhc_pt0.9_std_std': nan,\n  'trk.n_particles_pt1.5_std_std': nan,\n  'trk.n_cleaned_clusters_pt1.5_std_std': nan,\n  'trk.perfect_pt1.5_std_std': nan,\n  'trk.double_majority_pt1.5_std_std': nan,\n  'trk.lhc_pt1.5_std_std': nan,\n  'trk.fake_perfect_pt1.5_std_std': nan,\n  'trk.fake_double_majority_pt1.5_std_std': nan,\n  'trk.fake_lhc_pt1.5_std_std': nan,\n  'adjusted_rand_std_std': nan,\n  'fowlkes_mallows_std_std': nan,\n  'best_dbscan_eps_std': nan,\n  'best_dbscan_min_samples_std': nan}]"
     },
     "execution_count": 61,
     "metadata": {},
     "output_type": "execute_result"
    }
   ],
   "source": [
    "trainer.validate(lmodel, dm, ckpt_path=\"last\")"
   ],
   "metadata": {
    "collapsed": false
   }
  }
 ],
 "metadata": {
  "kernelspec": {
   "display_name": "Python 3",
   "language": "python",
   "name": "python3"
  },
  "language_info": {
   "codemirror_mode": {
    "name": "ipython",
    "version": 2
   },
   "file_extension": ".py",
   "mimetype": "text/x-python",
   "name": "python",
   "nbconvert_exporter": "python",
   "pygments_lexer": "ipython2",
   "version": "2.7.6"
  }
 },
 "nbformat": 4,
 "nbformat_minor": 0
}
