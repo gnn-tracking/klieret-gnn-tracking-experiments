{
 "cells": [
  {
   "cell_type": "code",
   "execution_count": 1,
   "outputs": [
    {
     "name": "stdout",
     "output_type": "stream",
     "text": [
      "hw\n"
     ]
    }
   ],
   "source": [
    "from gnn_tracking.utils.graph_masks import edge_subgraph\n",
    "\n",
    "print(\"hw\")"
   ],
   "metadata": {
    "collapsed": false
   }
  },
  {
   "cell_type": "code",
   "execution_count": 2,
   "outputs": [],
   "source": [
    "# from importlib import reload\n",
    "# import gnn_tracking_hpo\n",
    "# reload(gnn_tracking_hpo)\n",
    "\n",
    "from gnn_tracking_hpo.util.paths import add_scripts_path\n",
    "from gnn_tracking_hpo.util.paths import find_checkpoint, get_config"
   ],
   "metadata": {
    "collapsed": false
   }
  },
  {
   "cell_type": "code",
   "execution_count": 3,
   "outputs": [],
   "source": [
    "\n",
    "add_scripts_path()"
   ],
   "metadata": {
    "collapsed": false
   }
  },
  {
   "cell_type": "code",
   "execution_count": 4,
   "outputs": [],
   "source": [
    "\n",
    "from tune_ec import ECTrainable\n"
   ],
   "metadata": {
    "collapsed": false
   }
  },
  {
   "cell_type": "code",
   "execution_count": 5,
   "outputs": [
    {
     "name": "stderr",
     "output_type": "stream",
     "text": [
      "\u001B[36m[19:36:36 gnnt_hpo] DEBUG: Loading config from /home/kl5675/ray_results/ec/ECTrainable_a94b24d1_1_val_batch_size=5,adam_amsgrad=False,adam_beta1=0.9000,adam_beta2=0.9990,adam_eps=0.0000,adam_weight_decay=0_2023-04-12_22-10-45/params.json\u001B[0m\n",
      "\u001B[32m[19:36:37 gnnt_hpo] INFO: I'm running on a node with job ID=46961762\u001B[0m\n",
      "\u001B[33m[19:36:37 gnnt_hpo] WARNING: Dispatcher ID was not set. This should be set by the dispatcher as a class attribute to the trainable.\u001B[0m\n",
      "\u001B[32m[19:36:37 gnnt_hpo] INFO: The ID of my dispatcher is 0\u001B[0m\n",
      "\u001B[36m[19:36:37 SlurmControl] DEBUG: Refreshing control config from /home/kl5675/ray_slurm_control.yaml\u001B[0m\n",
      "\u001B[36m[19:36:37 gnnt_hpo] DEBUG: Got config\n",
      "┌──────────────────────────────────────┬──────────────────────────────────────────┐\n",
      "│ _val_batch_size                      │ 5                                        │\n",
      "│ adam_amsgrad                         │ False                                    │\n",
      "│ adam_beta1                           │ 0.9                                      │\n",
      "│ adam_beta2                           │ 0.999                                    │\n",
      "│ adam_eps                             │ 1e-08                                    │\n",
      "│ adam_weight_decay                    │ 0.0                                      │\n",
      "│ batch_size                           │ 5                                        │\n",
      "│ ec_loss                              │ haughty_focal                            │\n",
      "│ ec_pt_thld                           │ 0.8145532232268194                       │\n",
      "│ focal_alpha                          │ 0.45                                     │\n",
      "│ focal_gamma                          │ 3.5                                      │\n",
      "│ gnn_tracking_experiments_hash        │ a63c12f7995466673e948f3338fc9bbbc9dc7b49 │\n",
      "│ gnn_tracking_hash                    │ c3b6b479b2f54f00b581c82bfd40fa6380ad17d6 │\n",
      "│ lr                                   │ 0.0006402252927288013                    │\n",
      "│ lw_edge                              │ 1.0                                      │\n",
      "│ m_L_ec                               │ 6                                        │\n",
      "│ m_alpha                              │ 0.7588635192855735                       │\n",
      "│ m_hidden_dim                         │ 120                                      │\n",
      "│ m_interaction_edge_dim               │ 120                                      │\n",
      "│ m_interaction_node_dim               │ 120                                      │\n",
      "│ m_residual_type                      │ skip1                                    │\n",
      "│ m_use_intermediate_edge_embeddings   │ True                                     │\n",
      "│ m_use_node_embedding                 │ True                                     │\n",
      "│ n_graphs_test                        │ 1                                        │\n",
      "│ n_graphs_train                       │ 1                                        │\n",
      "│ n_graphs_val                         │ 100                                      │\n",
      "│ optimizer                            │ adam                                     │\n",
      "│ scheduler                            │ None                                     │\n",
      "│ sector                               │ None                                     │\n",
      "│ test                                 │ False                                    │\n",
      "│ train_data_dir                       │ ['/scratch/gpfs/IOJALVO/gnn-tracking/obj │\n",
      "│ training_pt_thld                     │ 0.0                                      │\n",
      "│ training_without_noise               │ False                                    │\n",
      "│ training_without_non_reconstructable │ False                                    │\n",
      "│ val_data_dir                         │ /scratch/gpfs/IOJALVO/gnn-tracking/objec │\n",
      "└──────────────────────────────────────┴──────────────────────────────────────────┘\u001B[0m\n",
      "\u001B[36m[19:36:37 gnnt_hpo] DEBUG: Getting loaders\u001B[0m\n",
      "\u001B[32m[19:36:40] INFO: DataLoader will load 1 graphs (out of 247776 available).\u001B[0m\n",
      "\u001B[36m[19:36:40] DEBUG: First graph is /scratch/gpfs/IOJALVO/gnn-tracking/object_condensation/graphs_v1/part_1/data21000_s0.pt, last graph is /scratch/gpfs/IOJALVO/gnn-tracking/object_condensation/graphs_v1/part_1/data21000_s0.pt\u001B[0m\n",
      "\u001B[32m[19:36:40] INFO: DataLoader will load 100 graphs (out of 32000 available).\u001B[0m\n",
      "\u001B[36m[19:36:40] DEBUG: First graph is /scratch/gpfs/IOJALVO/gnn-tracking/object_condensation/graphs_v1/part_9/data29000_s0.pt, last graph is /scratch/gpfs/IOJALVO/gnn-tracking/object_condensation/graphs_v1/part_9/data29003_s11.pt\u001B[0m\n",
      "\u001B[36m[19:36:40] DEBUG: Parameters for data loader 'train': {'batch_size': 5, 'num_workers': 1, 'sampler': <torch.utils.data.sampler.RandomSampler object at 0x14d38e81b730>, 'pin_memory': True}\u001B[0m\n",
      "\u001B[36m[19:36:40] DEBUG: Parameters for data loader 'val': {'batch_size': 5, 'num_workers': 12, 'sampler': None, 'pin_memory': True}\u001B[0m\n",
      "/scratch/gpfs/kl5675/micromamba/envs/gnn/lib/python3.10/site-packages/torch/utils/data/dataloader.py:561: UserWarning: This DataLoader will create 12 worker processes in total. Our suggested max number of worker in current system is 3, which is smaller than what this DataLoader is going to create. Please be aware that excessive worker creation might get DataLoader running slow or even freeze, lower the worker number to avoid potential slowness/freeze if necessary.\n",
      "  warnings.warn(_create_warning_msg(\n",
      "\u001B[36m[19:36:40] DEBUG: Parameters for data loader 'test': {'batch_size': 5, 'num_workers': 1, 'sampler': None, 'pin_memory': True}\u001B[0m\n",
      "\u001B[32m[19:36:40 TCNTrainer] INFO: Using device cpu\u001B[0m\n",
      "\u001B[36m[19:36:40 gnnt_hpo] DEBUG: Loading checkpoint from /home/kl5675/ray_results/ec/ECTrainable_a94b24d1_1_val_batch_size=5,adam_amsgrad=False,adam_beta1=0.9000,adam_beta2=0.9990,adam_eps=0.0000,adam_weight_decay=0_2023-04-12_22-10-45/checkpoint_000048/checkpoint.pt\u001B[0m\n"
     ]
    }
   ],
   "source": [
    "d = \"ec\"\n",
    "hash = \"a94b24d1\"\n",
    "checkpoint_path = find_checkpoint(d, hash)\n",
    "config = get_config(d, hash)\n",
    "config.update({\"n_graphs_train\": 1, \"n_graphs_val\": 100, \"n_graphs_test\": 1})\n",
    "trainable = ECTrainable(config)\n",
    "trainable.load_checkpoint(checkpoint_path, device=\"cpu\")"
   ],
   "metadata": {
    "collapsed": false
   }
  },
  {
   "cell_type": "code",
   "execution_count": 6,
   "outputs": [],
   "source": [
    "from gnn_tracking.training.tcn_trainer import TCNTrainer\n",
    "\n",
    "trainer: TCNTrainer = trainable.trainer"
   ],
   "metadata": {
    "collapsed": false
   }
  },
  {
   "cell_type": "code",
   "execution_count": 10,
   "outputs": [
    {
     "name": "stderr",
     "output_type": "stream",
     "text": [
      "/scratch/gpfs/kl5675/micromamba/envs/gnn/lib/python3.10/site-packages/torch/utils/data/dataloader.py:561: UserWarning: This DataLoader will create 12 worker processes in total. Our suggested max number of worker in current system is 3, which is smaller than what this DataLoader is going to create. Please be aware that excessive worker creation might get DataLoader running slow or even freeze, lower the worker number to avoid potential slowness/freeze if necessary.\n",
      "  warnings.warn(_create_warning_msg(\n",
      "/scratch/gpfs/kl5675/micromamba/envs/gnn/lib/python3.10/site-packages/torch_geometric/data/collate.py:145: UserWarning: TypedStorage is deprecated. It will be removed in the future and UntypedStorage will be the only storage class. This should only matter to you if you are using storages directly.  To access UntypedStorage directly, use tensor.untyped_storage() instead of tensor.storage()\n",
      "  storage = elem.storage()._new_shared(numel)\n",
      "/scratch/gpfs/kl5675/micromamba/envs/gnn/lib/python3.10/site-packages/torch_geometric/data/collate.py:145: UserWarning: TypedStorage is deprecated. It will be removed in the future and UntypedStorage will be the only storage class. This should only matter to you if you are using storages directly.  To access UntypedStorage directly, use tensor.untyped_storage() instead of tensor.storage()\n",
      "  storage = elem.storage()._new_shared(numel)\n",
      "/scratch/gpfs/kl5675/micromamba/envs/gnn/lib/python3.10/site-packages/torch_geometric/data/collate.py:145: UserWarning: TypedStorage is deprecated. It will be removed in the future and UntypedStorage will be the only storage class. This should only matter to you if you are using storages directly.  To access UntypedStorage directly, use tensor.untyped_storage() instead of tensor.storage()\n",
      "  storage = elem.storage()._new_shared(numel)\n",
      "/scratch/gpfs/kl5675/micromamba/envs/gnn/lib/python3.10/site-packages/torch_geometric/data/collate.py:145: UserWarning: TypedStorage is deprecated. It will be removed in the future and UntypedStorage will be the only storage class. This should only matter to you if you are using storages directly.  To access UntypedStorage directly, use tensor.untyped_storage() instead of tensor.storage()\n",
      "  storage = elem.storage()._new_shared(numel)\n",
      "/scratch/gpfs/kl5675/micromamba/envs/gnn/lib/python3.10/site-packages/torch_geometric/data/collate.py:145: UserWarning: TypedStorage is deprecated. It will be removed in the future and UntypedStorage will be the only storage class. This should only matter to you if you are using storages directly.  To access UntypedStorage directly, use tensor.untyped_storage() instead of tensor.storage()\n",
      "  storage = elem.storage()._new_shared(numel)\n",
      "/scratch/gpfs/kl5675/micromamba/envs/gnn/lib/python3.10/site-packages/torch_geometric/data/collate.py:145: UserWarning: TypedStorage is deprecated. It will be removed in the future and UntypedStorage will be the only storage class. This should only matter to you if you are using storages directly.  To access UntypedStorage directly, use tensor.untyped_storage() instead of tensor.storage()\n",
      "  storage = elem.storage()._new_shared(numel)\n",
      "/scratch/gpfs/kl5675/micromamba/envs/gnn/lib/python3.10/site-packages/torch_geometric/data/collate.py:145: UserWarning: TypedStorage is deprecated. It will be removed in the future and UntypedStorage will be the only storage class. This should only matter to you if you are using storages directly.  To access UntypedStorage directly, use tensor.untyped_storage() instead of tensor.storage()\n",
      "  storage = elem.storage()._new_shared(numel)\n",
      "/scratch/gpfs/kl5675/micromamba/envs/gnn/lib/python3.10/site-packages/torch_geometric/data/collate.py:145: UserWarning: TypedStorage is deprecated. It will be removed in the future and UntypedStorage will be the only storage class. This should only matter to you if you are using storages directly.  To access UntypedStorage directly, use tensor.untyped_storage() instead of tensor.storage()\n",
      "  storage = elem.storage()._new_shared(numel)\n",
      "/scratch/gpfs/kl5675/micromamba/envs/gnn/lib/python3.10/site-packages/torch_geometric/data/collate.py:145: UserWarning: TypedStorage is deprecated. It will be removed in the future and UntypedStorage will be the only storage class. This should only matter to you if you are using storages directly.  To access UntypedStorage directly, use tensor.untyped_storage() instead of tensor.storage()\n",
      "  storage = elem.storage()._new_shared(numel)\n",
      "/scratch/gpfs/kl5675/micromamba/envs/gnn/lib/python3.10/site-packages/torch_geometric/data/collate.py:145: UserWarning: TypedStorage is deprecated. It will be removed in the future and UntypedStorage will be the only storage class. This should only matter to you if you are using storages directly.  To access UntypedStorage directly, use tensor.untyped_storage() instead of tensor.storage()\n",
      "  storage = elem.storage()._new_shared(numel)\n",
      "/scratch/gpfs/kl5675/micromamba/envs/gnn/lib/python3.10/site-packages/torch_geometric/data/collate.py:145: UserWarning: TypedStorage is deprecated. It will be removed in the future and UntypedStorage will be the only storage class. This should only matter to you if you are using storages directly.  To access UntypedStorage directly, use tensor.untyped_storage() instead of tensor.storage()\n",
      "  storage = elem.storage()._new_shared(numel)\n",
      "/scratch/gpfs/kl5675/micromamba/envs/gnn/lib/python3.10/site-packages/torch_geometric/data/collate.py:145: UserWarning: TypedStorage is deprecated. It will be removed in the future and UntypedStorage will be the only storage class. This should only matter to you if you are using storages directly.  To access UntypedStorage directly, use tensor.untyped_storage() instead of tensor.storage()\n",
      "  storage = elem.storage()._new_shared(numel)\n"
     ]
    }
   ],
   "source": [
    "from torch_geometric.utils import index_to_mask\n",
    "import torch\n",
    "\n",
    "trainer.model.eval()\n",
    "\n",
    "sel = 3\n",
    "with torch.no_grad():\n",
    "    loader = trainer.val_loader\n",
    "    for idx, data in enumerate(loader):\n",
    "        if idx < sel:\n",
    "            continue\n",
    "        model_output = trainer.evaluate_model(data, mask_pids_reco=False)\n",
    "        # edge_mask = (data.edge_weights > self.threshold).squeeze()\n",
    "        # data = edge_subgraph(data, edge_mask)\n",
    "        # connected_nodes = data.edge_index.flatten().unique()\n",
    "        # hit_mask = index_to_mask(connected_nodes, size=data.num_nodes)\n",
    "        if idx == sel:\n",
    "            break"
   ],
   "metadata": {
    "collapsed": false
   }
  },
  {
   "cell_type": "code",
   "execution_count": 11,
   "outputs": [],
   "source": [
    "import numpy as np\n"
   ],
   "metadata": {
    "collapsed": false
   }
  },
  {
   "cell_type": "code",
   "execution_count": 12,
   "outputs": [],
   "source": [
    "w = model_output[\"w\"]"
   ],
   "metadata": {
    "collapsed": false
   }
  },
  {
   "cell_type": "code",
   "execution_count": 13,
   "outputs": [],
   "source": [
    "edge_index = model_output[\"edge_index\"]"
   ],
   "metadata": {
    "collapsed": false
   }
  },
  {
   "cell_type": "code",
   "execution_count": 14,
   "outputs": [],
   "source": [
    "from gnn_tracking.metrics.losses import falsify_low_pt_edges\n",
    "\n",
    "fixed_y = falsify_low_pt_edges(y=model_output[\"y\"], edge_index=edge_index, pt=model_output[\"pt\"], pt_thld=0.9)"
   ],
   "metadata": {
    "collapsed": false
   }
  },
  {
   "cell_type": "code",
   "execution_count": 15,
   "outputs": [],
   "source": [
    "from gnn_tracking.metrics.binary_classification import BinaryClassificationStats"
   ],
   "metadata": {
    "collapsed": false
   }
  },
  {
   "cell_type": "code",
   "execution_count": 16,
   "outputs": [],
   "source": [
    "from torch import Tensor as T\n",
    "\n",
    "def get_edge_mask_from_node_mask(node_mask: T, edge_index: T) -> T:\n",
    "    return node_mask[edge_index[0].long()] & node_mask[edge_index[1].long()]\n"
   ],
   "metadata": {
    "collapsed": false
   }
  },
  {
   "cell_type": "code",
   "execution_count": 17,
   "outputs": [],
   "source": [
    "# from gnn_tracking.utils.graph_masks import get_edge_mask_from_node_mask\n",
    "\n",
    "\n",
    "def get_n_unconnected(\n",
    "    pts: torch.Tensor, edge_index: torch.Tensor, pt_thld=0.\n",
    ") -> int:\n",
    "    mask = pts > pt_thld\n",
    "    n_nodes = mask.sum()\n",
    "    node_count_indices = torch.unique(\n",
    "        edge_index[:, get_edge_mask_from_node_mask(mask, edge_index)].flatten()\n",
    "    )\n",
    "    return n_nodes - len(node_count_indices)"
   ],
   "metadata": {
    "collapsed": false
   }
  },
  {
   "cell_type": "code",
   "execution_count": 18,
   "outputs": [
    {
     "data": {
      "text/plain": "tensor(0.1439)"
     },
     "execution_count": 18,
     "metadata": {},
     "output_type": "execute_result"
    }
   ],
   "source": [
    "get_n_unconnected(data.pt, data.edge_index[:, w > 0.5], 0.9) / (data.pt > 0.9).sum()"
   ],
   "metadata": {
    "collapsed": false
   }
  },
  {
   "cell_type": "code",
   "execution_count": 19,
   "outputs": [],
   "source": [
    "thlds = np.linspace(0, 0.4, 20)\n",
    "f = [get_n_unconnected(data.pt, edge_index[:, w>thld]) / len(data.x) for thld in thlds]\n",
    "f5 = [get_n_unconnected(data.pt, edge_index[:, w>thld], 0.5) / (data.pt > 0.5).sum() for thld in thlds]\n",
    "f9 = [get_n_unconnected(data.pt, edge_index[:, w>thld], 0.9) / (data.pt > 0.9).sum() for thld in thlds]\n",
    "f15 = [get_n_unconnected(data.pt, edge_index[:, w>thld], 1.5) / (data.pt > 1.5).sum() for thld in thlds]\n",
    "\n",
    "\n",
    "def getter(bcs):\n",
    "    # return (bcs.TP + bcs.FP)/len(bcs._y), bcs.TPR, bcs.TNR\n",
    "    return bcs.TPR, bcs.FPR\n",
    "\n",
    "items = np.array([getter(BinaryClassificationStats(output=w, y=fixed_y.long(), thld=thld)) for thld in thlds]).T"
   ],
   "metadata": {
    "collapsed": false
   }
  },
  {
   "cell_type": "code",
   "execution_count": 20,
   "outputs": [
    {
     "data": {
      "text/plain": "<matplotlib.legend.Legend at 0x14d382b7b790>"
     },
     "execution_count": 20,
     "metadata": {},
     "output_type": "execute_result"
    },
    {
     "data": {
      "text/plain": "<Figure size 640x480 with 1 Axes>",
      "image/png": "[encoded data removed]"
     },
     "metadata": {},
     "output_type": "display_data"
    }
   ],
   "source": [
    "from matplotlib import pyplot as plt\n",
    "fig, ax = plt.subplots()\n",
    "ax.plot(thlds, f, label=\"unconnected\")\n",
    "ax.plot(thlds, f5, label=\"unconnected (pt > 0.5)\")\n",
    "ax.plot(thlds, f9, label=\"unconnected (pt > 0.9)\")\n",
    "ax.plot(thlds, f15, label=\"unconnected (pt > 1.5)\")\n",
    "ax.plot(thlds, items[0], label=\"TPR\")\n",
    "ax.plot(thlds, items[1], label=\"FPR\")\n",
    "ax.set_xlabel(\"Threshold for classifier\")\n",
    "ax.axvline(0.266, color=\"k\", ls=\":\")\n",
    "ax.legend()"
   ],
   "metadata": {
    "collapsed": false
   }
  },
  {
   "cell_type": "code",
   "execution_count": 23,
   "outputs": [
    {
     "data": {
      "text/plain": "(tensor(0.3319), tensor(0.0654))"
     },
     "execution_count": 23,
     "metadata": {},
     "output_type": "execute_result"
    }
   ],
   "source": [
    "thld = 0.266\n",
    "get_n_unconnected(data.pt, edge_index[:, w>0.266]) / len(data.x), get_n_unconnected(data.pt, edge_index[:, w>thld], 0.9) / (data.pt > 0.9).sum()"
   ],
   "metadata": {
    "collapsed": false
   }
  },
  {
   "cell_type": "code",
   "execution_count": null,
   "outputs": [],
   "source": [],
   "metadata": {
    "collapsed": false
   }
  }
 ],
 "metadata": {
  "kernelspec": {
   "display_name": "Python 3",
   "language": "python",
   "name": "python3"
  },
  "language_info": {
   "codemirror_mode": {
    "name": "ipython",
    "version": 2
   },
   "file_extension": ".py",
   "mimetype": "text/x-python",
   "name": "python",
   "nbconvert_exporter": "python",
   "pygments_lexer": "ipython2",
   "version": "2.7.6"
  }
 },
 "nbformat": 4,
 "nbformat_minor": 0
}
