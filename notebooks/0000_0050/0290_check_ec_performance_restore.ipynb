{
 "cells": [
  {
   "cell_type": "markdown",
   "source": [
    "# Check performance of EC after restore\n",
    "\n",
    "Later hijacked to test memory consumption on unsectorized data.\n"
   ],
   "metadata": {
    "collapsed": false
   }
  },
  {
   "cell_type": "markdown",
   "source": [],
   "metadata": {
    "collapsed": false
   }
  },
  {
   "cell_type": "code",
   "execution_count": 1,
   "outputs": [],
   "source": [
    "from gnn_tracking_hpo.util.paths import add_scripts_path\n",
    "\n",
    "add_scripts_path()\n",
    "from gnn_tracking_hpo.util.paths import get_config, find_checkpoint\n",
    "from gnn_tracking_hpo.trainable import legacy_config_compatibility\n",
    "# import os\n"
   ],
   "metadata": {
    "collapsed": false
   }
  },
  {
   "cell_type": "code",
   "execution_count": 2,
   "outputs": [
    {
     "name": "stderr",
     "output_type": "stream",
     "text": [
      "\u001B[36m[12:22:19] DEBUG: Popen(['git', 'version'], cwd=/home/kl5675/Documents/23/git_sync/hpo/scripts, universal_newlines=False, shell=None, istream=None)\u001B[0m\n",
      "\u001B[36m[12:22:19] DEBUG: Popen(['git', 'version'], cwd=/home/kl5675/Documents/23/git_sync/hpo/scripts, universal_newlines=False, shell=None, istream=None)\u001B[0m\n",
      "\u001B[36m[12:22:20] DEBUG: Trying paths: ['/home/kl5675/.docker/config.json', '/home/kl5675/.dockercfg']\u001B[0m\n",
      "\u001B[36m[12:22:20] DEBUG: No config file found\u001B[0m\n"
     ]
    }
   ],
   "source": [
    "from tune_ec import ECTrainable\n",
    "\n",
    "# os.environ[\"GNN_TRACKING_DEVICE\"] = \"cpu\""
   ],
   "metadata": {
    "collapsed": false
   }
  },
  {
   "cell_type": "code",
   "execution_count": 3,
   "outputs": [],
   "source": [
    "import torch"
   ],
   "metadata": {
    "collapsed": false
   }
  },
  {
   "cell_type": "code",
   "execution_count": 4,
   "outputs": [],
   "source": [
    "torch.cuda.empty_cache()"
   ],
   "metadata": {
    "collapsed": false
   }
  },
  {
   "cell_type": "code",
   "execution_count": 5,
   "outputs": [
    {
     "data": {
      "text/plain": "(0.0, 0.0)"
     },
     "execution_count": 5,
     "metadata": {},
     "output_type": "execute_result"
    }
   ],
   "source": [
    "torch.cuda.memory_reserved(0) / 1e9, torch.cuda.memory_allocated(0) / 1e9\n"
   ],
   "metadata": {
    "collapsed": false
   }
  },
  {
   "cell_type": "code",
   "execution_count": 6,
   "outputs": [
    {
     "data": {
      "text/plain": "(84220641280, 85174321152)"
     },
     "execution_count": 6,
     "metadata": {},
     "output_type": "execute_result"
    }
   ],
   "source": [
    "torch.cuda.mem_get_info()"
   ],
   "metadata": {
    "collapsed": false
   }
  },
  {
   "cell_type": "markdown",
   "source": [
    "## Load model (explicitly)"
   ],
   "metadata": {
    "collapsed": false
   }
  },
  {
   "cell_type": "code",
   "execution_count": 7,
   "outputs": [
    {
     "name": "stderr",
     "output_type": "stream",
     "text": [
      "\u001B[36m[12:22:34 HPO] DEBUG: Loading config from /home/kl5675/ray_results/ec/ECTrainable_a94b24d1_1_val_batch_size=5,adam_amsgrad=False,adam_beta1=0.9000,adam_beta2=0.9990,adam_eps=0.0000,adam_weight_decay=0_2023-04-12_22-10-45/params.json\u001B[0m\n",
      "\u001B[36m[12:22:34] DEBUG: Loading config from /home/kl5675/ray_results/ec/ECTrainable_a94b24d1_1_val_batch_size=5,adam_amsgrad=False,adam_beta1=0.9000,adam_beta2=0.9990,adam_eps=0.0000,adam_weight_decay=0_2023-04-12_22-10-45/params.json\u001B[0m\n"
     ]
    }
   ],
   "source": [
    "project = \"ec\"\n",
    "hash = \"a94b24d1\"\n",
    "epoch=-1\n",
    "config = legacy_config_compatibility(get_config(project, hash))"
   ],
   "metadata": {
    "collapsed": false
   }
  },
  {
   "cell_type": "code",
   "execution_count": 8,
   "outputs": [
    {
     "data": {
      "text/plain": "{'_val_batch_size': 5,\n 'adam_amsgrad': False,\n 'adam_beta1': 0.9,\n 'adam_beta2': 0.999,\n 'adam_eps': 1e-08,\n 'adam_weight_decay': 0.0,\n 'batch_size': 5,\n 'ec_loss': 'haughty_focal',\n 'ec_pt_thld': 0.8145532232268194,\n 'focal_alpha': 0.45,\n 'focal_gamma': 3.5,\n 'gnn_tracking_experiments_hash': 'a63c12f7995466673e948f3338fc9bbbc9dc7b49',\n 'gnn_tracking_hash': 'c3b6b479b2f54f00b581c82bfd40fa6380ad17d6',\n 'lr': 0.0006402252927288013,\n 'lw_edge': 1.0,\n 'm_L_ec': 6,\n 'm_alpha': 0.7588635192855735,\n 'm_hidden_dim': 120,\n 'm_interaction_edge_dim': 120,\n 'm_interaction_node_dim': 120,\n 'm_residual_type': 'skip1',\n 'm_use_intermediate_edge_embeddings': True,\n 'm_use_node_embedding': True,\n 'n_graphs_train': 247776,\n 'n_graphs_val': 100,\n 'optimizer': 'adam',\n 'scheduler': None,\n 'sector': None,\n 'test': False,\n 'train_data_dir': ['/scratch/gpfs/IOJALVO/gnn-tracking/object_condensation/graphs_v1/part_1',\n  '/scratch/gpfs/IOJALVO/gnn-tracking/object_condensation/graphs_v1/part_2',\n  '/scratch/gpfs/IOJALVO/gnn-tracking/object_condensation/graphs_v1/part_3',\n  '/scratch/gpfs/IOJALVO/gnn-tracking/object_condensation/graphs_v1/part_4',\n  '/scratch/gpfs/IOJALVO/gnn-tracking/object_condensation/graphs_v1/part_5',\n  '/scratch/gpfs/IOJALVO/gnn-tracking/object_condensation/graphs_v1/part_6',\n  '/scratch/gpfs/IOJALVO/gnn-tracking/object_condensation/graphs_v1/part_7',\n  '/scratch/gpfs/IOJALVO/gnn-tracking/object_condensation/graphs_v1/part_8'],\n 'training_pt_thld': 0.0,\n 'training_without_noise': False,\n 'training_without_non_reconstructable': False,\n 'val_data_dir': '/scratch/gpfs/IOJALVO/gnn-tracking/object_condensation/graphs_v1/part_9'}"
     },
     "execution_count": 8,
     "metadata": {},
     "output_type": "execute_result"
    }
   ],
   "source": [
    "config"
   ],
   "metadata": {
    "collapsed": false
   }
  },
  {
   "cell_type": "code",
   "execution_count": 9,
   "outputs": [],
   "source": [
    "config[\"batch_size\"] = 1\n",
    "config[\"train_data_dir\"] = \"/scratch/gpfs/IOJALVO/gnn-tracking/object_condensation/graphs_v2/test\"\n",
    "config[\"val_data_dir\"] = \"/scratch/gpfs/IOJALVO/gnn-tracking/object_condensation/graphs_v2/test\"\n",
    "config[\"n_graphs_train\"] = 3\n",
    "config[\"n_graphs_val\"] = 3\n",
    "config[\"_val_batch_size\"] = 1"
   ],
   "metadata": {
    "collapsed": false
   }
  },
  {
   "cell_type": "code",
   "execution_count": 10,
   "outputs": [
    {
     "data": {
      "text/plain": "{'_val_batch_size': 1,\n 'adam_amsgrad': False,\n 'adam_beta1': 0.9,\n 'adam_beta2': 0.999,\n 'adam_eps': 1e-08,\n 'adam_weight_decay': 0.0,\n 'batch_size': 1,\n 'ec_loss': 'haughty_focal',\n 'ec_pt_thld': 0.8145532232268194,\n 'focal_alpha': 0.45,\n 'focal_gamma': 3.5,\n 'gnn_tracking_experiments_hash': 'a63c12f7995466673e948f3338fc9bbbc9dc7b49',\n 'gnn_tracking_hash': 'c3b6b479b2f54f00b581c82bfd40fa6380ad17d6',\n 'lr': 0.0006402252927288013,\n 'lw_edge': 1.0,\n 'm_L_ec': 6,\n 'm_alpha': 0.7588635192855735,\n 'm_hidden_dim': 120,\n 'm_interaction_edge_dim': 120,\n 'm_interaction_node_dim': 120,\n 'm_residual_type': 'skip1',\n 'm_use_intermediate_edge_embeddings': True,\n 'm_use_node_embedding': True,\n 'n_graphs_train': 3,\n 'n_graphs_val': 3,\n 'optimizer': 'adam',\n 'scheduler': None,\n 'sector': None,\n 'test': False,\n 'train_data_dir': '/scratch/gpfs/IOJALVO/gnn-tracking/object_condensation/graphs_v2/test',\n 'training_pt_thld': 0.0,\n 'training_without_noise': False,\n 'training_without_non_reconstructable': False,\n 'val_data_dir': '/scratch/gpfs/IOJALVO/gnn-tracking/object_condensation/graphs_v2/test'}"
     },
     "execution_count": 10,
     "metadata": {},
     "output_type": "execute_result"
    }
   ],
   "source": [
    "config"
   ],
   "metadata": {
    "collapsed": false
   }
  },
  {
   "cell_type": "code",
   "execution_count": 11,
   "outputs": [
    {
     "name": "stderr",
     "output_type": "stream",
     "text": [
      "\u001B[32m[12:22:35 HPO] INFO: I'm running on a node with job ID=47218475\u001B[0m\n",
      "\u001B[32m[12:22:35] INFO: I'm running on a node with job ID=47218475\u001B[0m\n",
      "\u001B[33m[12:22:35 HPO] WARNING: Dispatcher ID was not set. This should be set by the dispatcher as a class attribute to the trainable.\u001B[0m\n",
      "\u001B[33m[12:22:35] WARNING: Dispatcher ID was not set. This should be set by the dispatcher as a class attribute to the trainable.\u001B[0m\n",
      "\u001B[32m[12:22:35 HPO] INFO: The ID of my dispatcher is 0\u001B[0m\n",
      "\u001B[32m[12:22:35] INFO: The ID of my dispatcher is 0\u001B[0m\n",
      "\u001B[36m[12:22:35 SlurmControl] DEBUG: Refreshing control config from /home/kl5675/ray_slurm_control.yaml\u001B[0m\n",
      "\u001B[36m[12:22:35] DEBUG: Refreshing control config from /home/kl5675/ray_slurm_control.yaml\u001B[0m\n",
      "\u001B[36m[12:22:35 HPO] DEBUG: Got config\n",
      "┌──────────────────────────────────────┬──────────────────────────────────────────┐\n",
      "│ _val_batch_size                      │ 1                                        │\n",
      "│ adam_amsgrad                         │ False                                    │\n",
      "│ adam_beta1                           │ 0.9                                      │\n",
      "│ adam_beta2                           │ 0.999                                    │\n",
      "│ adam_eps                             │ 1e-08                                    │\n",
      "│ adam_weight_decay                    │ 0.0                                      │\n",
      "│ batch_size                           │ 1                                        │\n",
      "│ ec_loss                              │ haughty_focal                            │\n",
      "│ ec_pt_thld                           │ 0.8145532232268194                       │\n",
      "│ focal_alpha                          │ 0.45                                     │\n",
      "│ focal_gamma                          │ 3.5                                      │\n",
      "│ gnn_tracking_experiments_hash        │ a63c12f7995466673e948f3338fc9bbbc9dc7b49 │\n",
      "│ gnn_tracking_hash                    │ c3b6b479b2f54f00b581c82bfd40fa6380ad17d6 │\n",
      "│ lr                                   │ 0.0006402252927288013                    │\n",
      "│ lw_edge                              │ 1.0                                      │\n",
      "│ m_L_ec                               │ 6                                        │\n",
      "│ m_alpha                              │ 0.7588635192855735                       │\n",
      "│ m_hidden_dim                         │ 120                                      │\n",
      "│ m_interaction_edge_dim               │ 120                                      │\n",
      "│ m_interaction_node_dim               │ 120                                      │\n",
      "│ m_residual_type                      │ skip1                                    │\n",
      "│ m_use_intermediate_edge_embeddings   │ True                                     │\n",
      "│ m_use_node_embedding                 │ True                                     │\n",
      "│ n_graphs_train                       │ 3                                        │\n",
      "│ n_graphs_val                         │ 3                                        │\n",
      "│ optimizer                            │ adam                                     │\n",
      "│ scheduler                            │ None                                     │\n",
      "│ sector                               │ None                                     │\n",
      "│ test                                 │ False                                    │\n",
      "│ train_data_dir                       │ /scratch/gpfs/IOJALVO/gnn-tracking/objec │\n",
      "│ training_pt_thld                     │ 0.0                                      │\n",
      "│ training_without_noise               │ False                                    │\n",
      "│ training_without_non_reconstructable │ False                                    │\n",
      "│ val_data_dir                         │ /scratch/gpfs/IOJALVO/gnn-tracking/objec │\n",
      "└──────────────────────────────────────┴──────────────────────────────────────────┘\u001B[0m\n",
      "\u001B[36m[12:22:35] DEBUG: Got config\n",
      "┌──────────────────────────────────────┬──────────────────────────────────────────┐\n",
      "│ _val_batch_size                      │ 1                                        │\n",
      "│ adam_amsgrad                         │ False                                    │\n",
      "│ adam_beta1                           │ 0.9                                      │\n",
      "│ adam_beta2                           │ 0.999                                    │\n",
      "│ adam_eps                             │ 1e-08                                    │\n",
      "│ adam_weight_decay                    │ 0.0                                      │\n",
      "│ batch_size                           │ 1                                        │\n",
      "│ ec_loss                              │ haughty_focal                            │\n",
      "│ ec_pt_thld                           │ 0.8145532232268194                       │\n",
      "│ focal_alpha                          │ 0.45                                     │\n",
      "│ focal_gamma                          │ 3.5                                      │\n",
      "│ gnn_tracking_experiments_hash        │ a63c12f7995466673e948f3338fc9bbbc9dc7b49 │\n",
      "│ gnn_tracking_hash                    │ c3b6b479b2f54f00b581c82bfd40fa6380ad17d6 │\n",
      "│ lr                                   │ 0.0006402252927288013                    │\n",
      "│ lw_edge                              │ 1.0                                      │\n",
      "│ m_L_ec                               │ 6                                        │\n",
      "│ m_alpha                              │ 0.7588635192855735                       │\n",
      "│ m_hidden_dim                         │ 120                                      │\n",
      "│ m_interaction_edge_dim               │ 120                                      │\n",
      "│ m_interaction_node_dim               │ 120                                      │\n",
      "│ m_residual_type                      │ skip1                                    │\n",
      "│ m_use_intermediate_edge_embeddings   │ True                                     │\n",
      "│ m_use_node_embedding                 │ True                                     │\n",
      "│ n_graphs_train                       │ 3                                        │\n",
      "│ n_graphs_val                         │ 3                                        │\n",
      "│ optimizer                            │ adam                                     │\n",
      "│ scheduler                            │ None                                     │\n",
      "│ sector                               │ None                                     │\n",
      "│ test                                 │ False                                    │\n",
      "│ train_data_dir                       │ /scratch/gpfs/IOJALVO/gnn-tracking/objec │\n",
      "│ training_pt_thld                     │ 0.0                                      │\n",
      "│ training_without_noise               │ False                                    │\n",
      "│ training_without_non_reconstructable │ False                                    │\n",
      "│ val_data_dir                         │ /scratch/gpfs/IOJALVO/gnn-tracking/objec │\n",
      "└──────────────────────────────────────┴──────────────────────────────────────────┘\u001B[0m\n",
      "\u001B[36m[12:22:35 HPO] DEBUG: Getting loaders\u001B[0m\n",
      "\u001B[36m[12:22:35] DEBUG: Getting loaders\u001B[0m\n",
      "\u001B[32m[12:22:35] INFO: DataLoader will load 3 graphs (out of 16 available).\u001B[0m\n",
      "\u001B[36m[12:22:35] DEBUG: First graph is /scratch/gpfs/IOJALVO/gnn-tracking/object_condensation/graphs_v2/test/data21012_s0.pt, last graph is /scratch/gpfs/IOJALVO/gnn-tracking/object_condensation/graphs_v2/test/data21198_s0.pt\u001B[0m\n",
      "\u001B[32m[12:22:35] INFO: DataLoader will load 3 graphs (out of 16 available).\u001B[0m\n",
      "\u001B[36m[12:22:35] DEBUG: First graph is /scratch/gpfs/IOJALVO/gnn-tracking/object_condensation/graphs_v2/test/data21012_s0.pt, last graph is /scratch/gpfs/IOJALVO/gnn-tracking/object_condensation/graphs_v2/test/data21198_s0.pt\u001B[0m\n",
      "\u001B[36m[12:22:35] DEBUG: Parameters for data loader 'train': {'batch_size': 1, 'num_workers': 3, 'sampler': <torch.utils.data.sampler.RandomSampler object at 0x15297276e980>, 'pin_memory': True}\u001B[0m\n",
      "\u001B[36m[12:22:35] DEBUG: Parameters for data loader 'val': {'batch_size': 1, 'num_workers': 3, 'sampler': None, 'pin_memory': True}\u001B[0m\n",
      "\u001B[36m[12:22:35] DEBUG: Parameters for data loader 'test': {'batch_size': 1, 'num_workers': 1, 'sampler': None, 'pin_memory': True}\u001B[0m\n",
      "\u001B[32m[12:22:35TCNTrainer] INFO: Using device cuda\u001B[0m\n",
      "\u001B[32m[12:22:35] INFO: Using device cuda\u001B[0m\n",
      "\u001B[36m[12:22:35 HPO] DEBUG: Loading checkpoint from /home/kl5675/ray_results/ec/ECTrainable_a94b24d1_1_val_batch_size=5,adam_amsgrad=False,adam_beta1=0.9000,adam_beta2=0.9990,adam_eps=0.0000,adam_weight_decay=0_2023-04-12_22-10-45/checkpoint_000048/checkpoint.pt\u001B[0m\n",
      "\u001B[36m[12:22:35] DEBUG: Loading checkpoint from /home/kl5675/ray_results/ec/ECTrainable_a94b24d1_1_val_batch_size=5,adam_amsgrad=False,adam_beta1=0.9000,adam_beta2=0.9990,adam_eps=0.0000,adam_weight_decay=0_2023-04-12_22-10-45/checkpoint_000048/checkpoint.pt\u001B[0m\n"
     ]
    }
   ],
   "source": [
    "trainable = ECTrainable(config)\n",
    "trainable.load_checkpoint(str(find_checkpoint(project, hash, epoch)))"
   ],
   "metadata": {
    "collapsed": false
   }
  },
  {
   "cell_type": "code",
   "execution_count": 12,
   "outputs": [
    {
     "name": "stderr",
     "output_type": "stream",
     "text": [
      "/scratch/gpfs/kl5675/micromamba/envs/gnn/lib/python3.10/site-packages/torch_geometric/data/collate.py:145: UserWarning: TypedStorage is deprecated. It will be removed in the future and UntypedStorage will be the only storage class. This should only matter to you if you are using storages directly.  To access UntypedStorage directly, use tensor.untyped_storage() instead of tensor.storage()\n",
      "  storage = elem.storage()._new_shared(numel)\n",
      "/scratch/gpfs/kl5675/micromamba/envs/gnn/lib/python3.10/site-packages/torch_geometric/data/collate.py:145: UserWarning: TypedStorage is deprecated. It will be removed in the future and UntypedStorage will be the only storage class. This should only matter to you if you are using storages directly.  To access UntypedStorage directly, use tensor.untyped_storage() instead of tensor.storage()\n",
      "  storage = elem.storage()._new_shared(numel)\n",
      "/scratch/gpfs/kl5675/micromamba/envs/gnn/lib/python3.10/site-packages/torch_geometric/data/collate.py:145: UserWarning: TypedStorage is deprecated. It will be removed in the future and UntypedStorage will be the only storage class. This should only matter to you if you are using storages directly.  To access UntypedStorage directly, use tensor.untyped_storage() instead of tensor.storage()\n",
      "  storage = elem.storage()._new_shared(numel)\n"
     ]
    },
    {
     "name": "stdout",
     "output_type": "stream",
     "text": [
      "here\n",
      "here\n",
      "here\n",
      "here\n",
      "here\n",
      "here\n"
     ]
    },
    {
     "name": "stderr",
     "output_type": "stream",
     "text": [
      "\u001B[33m[12:22:52] WARNING: Masking 188857/6382892 as outliers in focal loss\u001B[0m\n"
     ]
    },
    {
     "name": "stdout",
     "output_type": "stream",
     "text": [
      "here\n",
      "here\n",
      "here\n",
      "here\n",
      "here\n",
      "here\n"
     ]
    },
    {
     "ename": "OutOfMemoryError",
     "evalue": "CUDA out of memory. Tried to allocate 30.79 GiB (GPU 0; 79.32 GiB total capacity; 58.18 GiB already allocated; 2.61 GiB free; 75.47 GiB reserved in total by PyTorch) If reserved memory is >> allocated memory try setting max_split_size_mb to avoid fragmentation.  See documentation for Memory Management and PYTORCH_CUDA_ALLOC_CONF",
     "output_type": "error",
     "traceback": [
      "\u001B[0;31m---------------------------------------------------------------------------\u001B[0m",
      "\u001B[0;31mOutOfMemoryError\u001B[0m                          Traceback (most recent call last)",
      "Cell \u001B[0;32mIn[12], line 1\u001B[0m\n\u001B[0;32m----> 1\u001B[0m \u001B[43mtrainable\u001B[49m\u001B[38;5;241;43m.\u001B[39;49m\u001B[43mtrainer\u001B[49m\u001B[38;5;241;43m.\u001B[39;49m\u001B[43mtest_step\u001B[49m\u001B[43m(\u001B[49m\u001B[43m)\u001B[49m\n",
      "File \u001B[0;32m/scratch/gpfs/kl5675/micromamba/envs/gnn/lib/python3.10/site-packages/torch/utils/_contextlib.py:115\u001B[0m, in \u001B[0;36mcontext_decorator.<locals>.decorate_context\u001B[0;34m(*args, **kwargs)\u001B[0m\n\u001B[1;32m    112\u001B[0m \u001B[38;5;129m@functools\u001B[39m\u001B[38;5;241m.\u001B[39mwraps(func)\n\u001B[1;32m    113\u001B[0m \u001B[38;5;28;01mdef\u001B[39;00m \u001B[38;5;21mdecorate_context\u001B[39m(\u001B[38;5;241m*\u001B[39margs, \u001B[38;5;241m*\u001B[39m\u001B[38;5;241m*\u001B[39mkwargs):\n\u001B[1;32m    114\u001B[0m     \u001B[38;5;28;01mwith\u001B[39;00m ctx_factory():\n\u001B[0;32m--> 115\u001B[0m         \u001B[38;5;28;01mreturn\u001B[39;00m \u001B[43mfunc\u001B[49m\u001B[43m(\u001B[49m\u001B[38;5;241;43m*\u001B[39;49m\u001B[43margs\u001B[49m\u001B[43m,\u001B[49m\u001B[43m \u001B[49m\u001B[38;5;241;43m*\u001B[39;49m\u001B[38;5;241;43m*\u001B[39;49m\u001B[43mkwargs\u001B[49m\u001B[43m)\u001B[49m\n",
      "File \u001B[0;32m~/Documents/23/git_sync/gnn_tracking/src/gnn_tracking/training/tcn_trainer.py:419\u001B[0m, in \u001B[0;36mTCNTrainer.test_step\u001B[0;34m(self, val, max_batches)\u001B[0m\n\u001B[1;32m    417\u001B[0m     \u001B[38;5;28;01mbreak\u001B[39;00m\n\u001B[1;32m    418\u001B[0m data \u001B[38;5;241m=\u001B[39m data\u001B[38;5;241m.\u001B[39mto(\u001B[38;5;28mself\u001B[39m\u001B[38;5;241m.\u001B[39mdevice)\n\u001B[0;32m--> 419\u001B[0m model_output \u001B[38;5;241m=\u001B[39m \u001B[38;5;28;43mself\u001B[39;49m\u001B[38;5;241;43m.\u001B[39;49m\u001B[43mevaluate_model\u001B[49m\u001B[43m(\u001B[49m\n\u001B[1;32m    420\u001B[0m \u001B[43m    \u001B[49m\u001B[43mdata\u001B[49m\u001B[43m,\u001B[49m\n\u001B[1;32m    421\u001B[0m \u001B[43m    \u001B[49m\u001B[43mmask_pids_reco\u001B[49m\u001B[38;5;241;43m=\u001B[39;49m\u001B[38;5;28;43;01mFalse\u001B[39;49;00m\u001B[43m,\u001B[49m\n\u001B[1;32m    422\u001B[0m \u001B[43m\u001B[49m\u001B[43m)\u001B[49m\n\u001B[1;32m    423\u001B[0m batch_loss, these_batch_losses, loss_weights \u001B[38;5;241m=\u001B[39m \u001B[38;5;28mself\u001B[39m\u001B[38;5;241m.\u001B[39mget_batch_losses(\n\u001B[1;32m    424\u001B[0m     model_output\n\u001B[1;32m    425\u001B[0m )\n\u001B[1;32m    427\u001B[0m batch_metrics[\u001B[38;5;124m\"\u001B[39m\u001B[38;5;124mtotal\u001B[39m\u001B[38;5;124m\"\u001B[39m]\u001B[38;5;241m.\u001B[39mappend(batch_loss\u001B[38;5;241m.\u001B[39mitem())\n",
      "File \u001B[0;32m~/Documents/23/git_sync/gnn_tracking/src/gnn_tracking/training/tcn_trainer.py:183\u001B[0m, in \u001B[0;36mTCNTrainer.evaluate_model\u001B[0;34m(self, data, mask_pids_reco)\u001B[0m\n\u001B[1;32m    175\u001B[0m \u001B[38;5;250m\u001B[39m\u001B[38;5;124;03m\"\"\"Evaluate the model on the data and return a dictionary of outputs\u001B[39;00m\n\u001B[1;32m    176\u001B[0m \n\u001B[1;32m    177\u001B[0m \u001B[38;5;124;03mArgs:\u001B[39;00m\n\u001B[1;32m    178\u001B[0m \u001B[38;5;124;03m    data:\u001B[39;00m\n\u001B[1;32m    179\u001B[0m \u001B[38;5;124;03m    mask_pids_reco: If True, mask out PIDs for non-reconstructables\u001B[39;00m\n\u001B[1;32m    180\u001B[0m \u001B[38;5;124;03m\"\"\"\u001B[39;00m\n\u001B[1;32m    181\u001B[0m data \u001B[38;5;241m=\u001B[39m data\u001B[38;5;241m.\u001B[39mto(\u001B[38;5;28mself\u001B[39m\u001B[38;5;241m.\u001B[39mdevice)\n\u001B[0;32m--> 183\u001B[0m out \u001B[38;5;241m=\u001B[39m \u001B[38;5;28;43mself\u001B[39;49m\u001B[38;5;241;43m.\u001B[39;49m\u001B[43mmodel\u001B[49m\u001B[43m(\u001B[49m\u001B[43mdata\u001B[49m\u001B[43m)\u001B[49m\n\u001B[1;32m    185\u001B[0m \u001B[38;5;28;01mif\u001B[39;00m mask_pids_reco:\n\u001B[1;32m    186\u001B[0m     pid_field \u001B[38;5;241m=\u001B[39m data\u001B[38;5;241m.\u001B[39mparticle_id \u001B[38;5;241m*\u001B[39m data\u001B[38;5;241m.\u001B[39mreconstructable\u001B[38;5;241m.\u001B[39mlong()\n",
      "File \u001B[0;32m/scratch/gpfs/kl5675/micromamba/envs/gnn/lib/python3.10/site-packages/torch/nn/modules/module.py:1501\u001B[0m, in \u001B[0;36mModule._call_impl\u001B[0;34m(self, *args, **kwargs)\u001B[0m\n\u001B[1;32m   1496\u001B[0m \u001B[38;5;66;03m# If we don't have any hooks, we want to skip the rest of the logic in\u001B[39;00m\n\u001B[1;32m   1497\u001B[0m \u001B[38;5;66;03m# this function, and just call forward.\u001B[39;00m\n\u001B[1;32m   1498\u001B[0m \u001B[38;5;28;01mif\u001B[39;00m \u001B[38;5;129;01mnot\u001B[39;00m (\u001B[38;5;28mself\u001B[39m\u001B[38;5;241m.\u001B[39m_backward_hooks \u001B[38;5;129;01mor\u001B[39;00m \u001B[38;5;28mself\u001B[39m\u001B[38;5;241m.\u001B[39m_backward_pre_hooks \u001B[38;5;129;01mor\u001B[39;00m \u001B[38;5;28mself\u001B[39m\u001B[38;5;241m.\u001B[39m_forward_hooks \u001B[38;5;129;01mor\u001B[39;00m \u001B[38;5;28mself\u001B[39m\u001B[38;5;241m.\u001B[39m_forward_pre_hooks\n\u001B[1;32m   1499\u001B[0m         \u001B[38;5;129;01mor\u001B[39;00m _global_backward_pre_hooks \u001B[38;5;129;01mor\u001B[39;00m _global_backward_hooks\n\u001B[1;32m   1500\u001B[0m         \u001B[38;5;129;01mor\u001B[39;00m _global_forward_hooks \u001B[38;5;129;01mor\u001B[39;00m _global_forward_pre_hooks):\n\u001B[0;32m-> 1501\u001B[0m     \u001B[38;5;28;01mreturn\u001B[39;00m \u001B[43mforward_call\u001B[49m\u001B[43m(\u001B[49m\u001B[38;5;241;43m*\u001B[39;49m\u001B[43margs\u001B[49m\u001B[43m,\u001B[49m\u001B[43m \u001B[49m\u001B[38;5;241;43m*\u001B[39;49m\u001B[38;5;241;43m*\u001B[39;49m\u001B[43mkwargs\u001B[49m\u001B[43m)\u001B[49m\n\u001B[1;32m   1502\u001B[0m \u001B[38;5;66;03m# Do not call functions when jit is used\u001B[39;00m\n\u001B[1;32m   1503\u001B[0m full_backward_hooks, non_full_backward_hooks \u001B[38;5;241m=\u001B[39m [], []\n",
      "File \u001B[0;32m~/Documents/23/git_sync/gnn_tracking/src/gnn_tracking/models/edge_classifier.py:147\u001B[0m, in \u001B[0;36mECForGraphTCN.forward\u001B[0;34m(self, data)\u001B[0m\n\u001B[1;32m    145\u001B[0m     h_ec_0 \u001B[38;5;241m=\u001B[39m h_ec[edge_index[\u001B[38;5;241m0\u001B[39m]]\n\u001B[1;32m    146\u001B[0m     h_ec_1 \u001B[38;5;241m=\u001B[39m h_ec[edge_index[\u001B[38;5;241m1\u001B[39m]]\n\u001B[0;32m--> 147\u001B[0m     w_input \u001B[38;5;241m=\u001B[39m \u001B[43mtorch\u001B[49m\u001B[38;5;241;43m.\u001B[39;49m\u001B[43mcat\u001B[49m\u001B[43m(\u001B[49m\u001B[43m[\u001B[49m\u001B[43mh_ec_0\u001B[49m\u001B[43m,\u001B[49m\u001B[43m \u001B[49m\u001B[43mh_ec_1\u001B[49m\u001B[43m,\u001B[49m\u001B[43m \u001B[49m\u001B[43mw_input\u001B[49m\u001B[43m]\u001B[49m\u001B[43m,\u001B[49m\u001B[43m \u001B[49m\u001B[43mdim\u001B[49m\u001B[38;5;241;43m=\u001B[39;49m\u001B[38;5;241;43m1\u001B[39;49m\u001B[43m)\u001B[49m\n\u001B[1;32m    148\u001B[0m edge_weights \u001B[38;5;241m=\u001B[39m torch\u001B[38;5;241m.\u001B[39msigmoid(\u001B[38;5;28mself\u001B[39m\u001B[38;5;241m.\u001B[39mW(w_input))\n\u001B[1;32m    149\u001B[0m \u001B[38;5;28;01mreturn\u001B[39;00m {\n\u001B[1;32m    150\u001B[0m     \u001B[38;5;124m\"\u001B[39m\u001B[38;5;124mW\u001B[39m\u001B[38;5;124m\"\u001B[39m: edge_weights\u001B[38;5;241m.\u001B[39msqueeze(),\n\u001B[1;32m    151\u001B[0m     \u001B[38;5;124m\"\u001B[39m\u001B[38;5;124mnode_embedding\u001B[39m\u001B[38;5;124m\"\u001B[39m: h_ec,\n\u001B[1;32m    152\u001B[0m     \u001B[38;5;124m\"\u001B[39m\u001B[38;5;124medge_embedding\u001B[39m\u001B[38;5;124m\"\u001B[39m: edge_attr_ec,\n\u001B[1;32m    153\u001B[0m }\n",
      "\u001B[0;31mOutOfMemoryError\u001B[0m: CUDA out of memory. Tried to allocate 30.79 GiB (GPU 0; 79.32 GiB total capacity; 58.18 GiB already allocated; 2.61 GiB free; 75.47 GiB reserved in total by PyTorch) If reserved memory is >> allocated memory try setting max_split_size_mb to avoid fragmentation.  See documentation for Memory Management and PYTORCH_CUDA_ALLOC_CONF"
     ]
    }
   ],
   "source": [
    "trainable.trainer.test_step()"
   ],
   "metadata": {
    "collapsed": false
   }
  },
  {
   "cell_type": "code",
   "execution_count": null,
   "outputs": [],
   "source": [],
   "metadata": {
    "collapsed": false
   }
  }
 ],
 "metadata": {
  "kernelspec": {
   "display_name": "Python 3",
   "language": "python",
   "name": "python3"
  },
  "language_info": {
   "codemirror_mode": {
    "name": "ipython",
    "version": 2
   },
   "file_extension": ".py",
   "mimetype": "text/x-python",
   "name": "python",
   "nbconvert_exporter": "python",
   "pygments_lexer": "ipython2",
   "version": "2.7.6"
  }
 },
 "nbformat": 4,
 "nbformat_minor": 0
}
