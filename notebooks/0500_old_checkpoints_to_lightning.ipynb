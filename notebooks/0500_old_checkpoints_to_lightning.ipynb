{
 "cells": [
  {
   "cell_type": "markdown",
   "source": [
    "# Making old trained models compatible with lightning"
   ],
   "metadata": {
    "collapsed": false
   }
  },
  {
   "cell_type": "markdown",
   "source": [
    "TC: https://wandb.ai/gnn_tracking/gnn_tracking/runs/04b2e3ce/\n",
    "GC: https://wandb.ai/gnn_tracking/gnn_tracking_gc/runs/7dce6aff\n",
    "EC: https://wandb.ai/gnn_tracking/gnn_tracking_ec/runs/ddff435e"
   ],
   "metadata": {
    "collapsed": false
   }
  },
  {
   "cell_type": "code",
   "execution_count": 4,
   "outputs": [],
   "source": [
    "%load_ext autoreload\n",
    "%autoreload 2\n",
    "\n",
    "from gnn_tracking.models.graph_construction import GraphConstructionFCNN\n",
    "from gnn_tracking.utils.loading import TrackingDataModule\n",
    "import torch\n",
    "from gnn_tracking.training.ml import MLModule\n",
    "from functools import partial\n",
    "from gnn_tracking.metrics.losses import GraphConstructionHingeEmbeddingLoss, \\\n",
    "    HaughtyFocalLoss\n",
    "from pytorch_lightning import Trainer\n",
    "from gnn_tracking.models.graph_construction import MLGraphConstruction\n",
    "from gnn_tracking.training.ec import ECModule\n",
    "from gnn_tracking.models.edge_classifier import ec_from_chkpt\n",
    "import pprint\n",
    "from gnn_tracking.models.graph_construction import MLGraphConstruction\n",
    "from gnn_tracking.training.tc import TCModule"
   ],
   "metadata": {
    "collapsed": false
   }
  },
  {
   "cell_type": "code",
   "execution_count": 5,
   "outputs": [],
   "source": [
    "dm = TrackingDataModule(\n",
    "    train=dict(\n",
    "        dirs=[\n",
    "            \"/scratch/gpfs/IOJALVO/gnn-tracking/object_condensation/point_clouds_v5/part_1/\"\n",
    "        ],\n",
    "        # If you run into memory issues, reduce this\n",
    "    ),\n",
    "    val=dict(\n",
    "        dirs=[\n",
    "            \"/scratch/gpfs/IOJALVO/gnn-tracking/object_condensation/point_clouds_v5/part_9/\"\n",
    "        ],\n",
    "        stop=1\n",
    "    ),\n",
    ")"
   ],
   "metadata": {
    "collapsed": false
   }
  },
  {
   "cell_type": "code",
   "execution_count": 6,
   "outputs": [
    {
     "name": "stderr",
     "output_type": "stream",
     "text": [
      "\u001B[32m[17:03:12] INFO: DataLoader will load 900 graphs (out of 900 available).\u001B[0m\n",
      "\u001B[36m[17:03:12] DEBUG: First graph is /scratch/gpfs/IOJALVO/gnn-tracking/object_condensation/point_clouds_v5/part_1/data21000_s0.pt, last graph is /scratch/gpfs/IOJALVO/gnn-tracking/object_condensation/point_clouds_v5/part_1/data21999_s0.pt\u001B[0m\n",
      "\u001B[32m[17:03:12] INFO: DataLoader will load 1 graphs (out of 1000 available).\u001B[0m\n",
      "\u001B[36m[17:03:12] DEBUG: First graph is /scratch/gpfs/IOJALVO/gnn-tracking/object_condensation/point_clouds_v5/part_9/data29000_s0.pt, last graph is /scratch/gpfs/IOJALVO/gnn-tracking/object_condensation/point_clouds_v5/part_9/data29000_s0.pt\u001B[0m\n"
     ]
    }
   ],
   "source": [
    "dm.setup(stage=\"fit\")"
   ],
   "metadata": {
    "collapsed": false
   }
  },
  {
   "cell_type": "code",
   "execution_count": 7,
   "outputs": [],
   "source": [
    "from pathlib import Path\n",
    "\n",
    "model_exchange_path = Path(\n",
    "    \"/scratch/gpfs/IOJALVO/gnn-tracking/object_condensation/model_exchange\"\n",
    ")"
   ],
   "metadata": {
    "collapsed": false
   }
  },
  {
   "cell_type": "markdown",
   "source": [
    "## ML"
   ],
   "metadata": {
    "collapsed": false
   }
  },
  {
   "cell_type": "code",
   "execution_count": 5,
   "outputs": [],
   "source": [
    "gc = GraphConstructionFCNN(in_dim=14, out_dim=8, depth=6, hidden_dim=512, beta=0.4)\n"
   ],
   "metadata": {
    "collapsed": false
   }
  },
  {
   "cell_type": "code",
   "execution_count": 10,
   "outputs": [
    {
     "data": {
      "text/plain": "<All keys matched successfully>"
     },
     "execution_count": 10,
     "metadata": {},
     "output_type": "execute_result"
    }
   ],
   "source": [
    "\n",
    "ckpt = torch.load(\"/home/kl5675/ray_results/gc-hinge-sq-sq-cells/GCTrainable_7dce6aff_24_val_batch_size=1,adam_amsgrad=False,adam_beta1=0.9000,adam_beta2=0.9990,adam_eps=0.0000,adam_weight_decay=_2023-06-08_13-32-02/checkpoint_000009/checkpoint.pt\", map_location=\"cpu\")\n",
    "state_dct = ckpt[\"model_state_dict\"]\n",
    "state_dct = {f\"_{key}\": value for key, value in state_dct.items()}\n",
    "gc.load_state_dict(state_dct)"
   ],
   "metadata": {
    "collapsed": false
   }
  },
  {
   "cell_type": "code",
   "execution_count": 11,
   "outputs": [],
   "source": [
    "\n",
    "lmodel = MLModule(\n",
    "    model=gc,\n",
    "    loss_fct=GraphConstructionHingeEmbeddingLoss(max_num_neighbors=256, r_emb=1, attr_pt_thld=0.9),\n",
    "    lw_repulsive=0.001953029788887701,  # loss weight, see below\n",
    "    optimizer=partial(torch.optim.Adam, lr=1e-3),\n",
    ")"
   ],
   "metadata": {
    "collapsed": false
   }
  },
  {
   "cell_type": "code",
   "execution_count": 12,
   "outputs": [
    {
     "name": "stderr",
     "output_type": "stream",
     "text": [
      "/scratch/gpfs/kl5675/micromamba/envs/gnn/lib/python3.10/site-packages/lightning_fabric/plugins/environments/slurm.py:165: PossibleUserWarning: The `srun` command is available on your system but is not used. HINT: If your intention is to run Lightning on SLURM, prepend your python command with `srun` like so: srun python /scratch/gpfs/kl5675/micromamba/envs/gnn/lib/python3 ...\n",
      "  rank_zero_warn(\n",
      "GPU available: True (cuda), used: False\n",
      "TPU available: False, using: 0 TPU cores\n",
      "IPU available: False, using: 0 IPUs\n",
      "HPU available: False, using: 0 HPUs\n",
      "/scratch/gpfs/kl5675/micromamba/envs/gnn/lib/python3.10/site-packages/pytorch_lightning/trainer/setup.py:176: PossibleUserWarning: GPU available but not used. Set `accelerator` and `devices` using `Trainer(accelerator='gpu', devices=1)`.\n",
      "  rank_zero_warn(\n"
     ]
    }
   ],
   "source": [
    "\n",
    "trainer = Trainer(accelerator=\"cpu\", max_epochs=0)"
   ],
   "metadata": {
    "collapsed": false
   }
  },
  {
   "cell_type": "code",
   "execution_count": 13,
   "outputs": [
    {
     "name": "stderr",
     "output_type": "stream",
     "text": [
      "/scratch/gpfs/kl5675/micromamba/envs/gnn/lib/python3.10/site-packages/lightning_fabric/plugins/environments/slurm.py:165: PossibleUserWarning: The `srun` command is available on your system but is not used. HINT: If your intention is to run Lightning on SLURM, prepend your python command with `srun` like so: srun python /scratch/gpfs/kl5675/micromamba/envs/gnn/lib/python3 ...\n",
      "  rank_zero_warn(\n",
      "\u001B[32m[16:29:05] INFO: DataLoader will load 900 graphs (out of 900 available).\u001B[0m\n",
      "\u001B[36m[16:29:05] DEBUG: First graph is /scratch/gpfs/IOJALVO/gnn-tracking/object_condensation/point_clouds_v5/part_1/data21000_s0.pt, last graph is /scratch/gpfs/IOJALVO/gnn-tracking/object_condensation/point_clouds_v5/part_1/data21999_s0.pt\u001B[0m\n",
      "\u001B[32m[16:29:05] INFO: DataLoader will load 5 graphs (out of 1000 available).\u001B[0m\n",
      "\u001B[36m[16:29:05] DEBUG: First graph is /scratch/gpfs/IOJALVO/gnn-tracking/object_condensation/point_clouds_v5/part_9/data29000_s0.pt, last graph is /scratch/gpfs/IOJALVO/gnn-tracking/object_condensation/point_clouds_v5/part_9/data29004_s0.pt\u001B[0m\n",
      "\n",
      "  | Name     | Type                                | Params\n",
      "-----------------------------------------------------------------\n",
      "0 | model    | GraphConstructionFCNN               | 1.3 M \n",
      "1 | loss_fct | GraphConstructionHingeEmbeddingLoss | 0     \n",
      "-----------------------------------------------------------------\n",
      "1.3 M     Trainable params\n",
      "0         Non-trainable params\n",
      "1.3 M     Total params\n",
      "5.288     Total estimated model params size (MB)\n"
     ]
    },
    {
     "data": {
      "text/plain": "Sanity Checking: 0it [00:00, ?it/s]",
      "application/vnd.jupyter.widget-view+json": {
       "version_major": 2,
       "version_minor": 0,
       "model_id": "b8b6de9033de49b485b56b9f3a9c8877"
      }
     },
     "metadata": {},
     "output_type": "display_data"
    },
    {
     "name": "stderr",
     "output_type": "stream",
     "text": [
      "/scratch/gpfs/kl5675/micromamba/envs/gnn/lib/python3.10/site-packages/pytorch_lightning/trainer/connectors/data_connector.py:432: PossibleUserWarning: The dataloader, val_dataloader, does not have many workers which may be a bottleneck. Consider increasing the value of the `num_workers` argument` (try 128 which is the number of cpus on this machine) in the `DataLoader` init to improve performance.\n",
      "  rank_zero_warn(\n",
      "/scratch/gpfs/kl5675/micromamba/envs/gnn/lib/python3.10/site-packages/pytorch_lightning/trainer/connectors/data_connector.py:432: PossibleUserWarning: The dataloader, train_dataloader, does not have many workers which may be a bottleneck. Consider increasing the value of the `num_workers` argument` (try 128 which is the number of cpus on this machine) in the `DataLoader` init to improve performance.\n",
      "  rank_zero_warn(\n",
      "`Trainer.fit` stopped: `max_epochs=0` reached.\n"
     ]
    }
   ],
   "source": [
    "trainer.fit(lmodel, dm)"
   ],
   "metadata": {
    "collapsed": false
   }
  },
  {
   "cell_type": "code",
   "execution_count": 14,
   "outputs": [],
   "source": [
    "trainer.save_checkpoint(model_exchange_path / \"gc-7dce6aff.ckpt\")"
   ],
   "metadata": {
    "collapsed": false
   }
  },
  {
   "cell_type": "code",
   "execution_count": 16,
   "outputs": [
    {
     "data": {
      "text/plain": "\"loss_fct\":     {'class_path': 'gnn_tracking.metrics.losses.GraphConstructionHingeEmbeddingLoss', 'init_args': {'r_emb': 1, 'max_num_neighbors': 256, 'attr_pt_thld': 0.9, 'p_attr': 1, 'p_rep': 1}}\n\"lw_repulsive\": 0.001953029788887701\n\"model\":        {'class_path': 'gnn_tracking.models.graph_construction.GraphConstructionFCNN', 'init_args': {'in_dim': 14, 'hidden_dim': 512, 'out_dim': 8, 'depth': 6, 'beta': 0.4}}\n\"preproc\":      None"
     },
     "execution_count": 16,
     "metadata": {},
     "output_type": "execute_result"
    }
   ],
   "source": [
    "lmodel.hparams"
   ],
   "metadata": {
    "collapsed": false
   }
  },
  {
   "cell_type": "markdown",
   "source": [
    "## Trying to restore"
   ],
   "metadata": {
    "collapsed": false
   }
  },
  {
   "cell_type": "code",
   "execution_count": 17,
   "outputs": [
    {
     "name": "stderr",
     "output_type": "stream",
     "text": [
      "\u001B[36m[16:32:03] DEBUG: Getting class MLModule from module gnn_tracking.training.ml\u001B[0m\n",
      "\u001B[36m[16:32:03] DEBUG: Loading checkpoint /scratch/gpfs/IOJALVO/gnn-tracking/object_condensation/model_exchange/gc/gc-7dce6aff.ckpt\u001B[0m\n",
      "\u001B[36m[16:32:03] DEBUG: Getting class GraphConstructionFCNN from module gnn_tracking.models.graph_construction\u001B[0m\n",
      "\u001B[36m[16:32:03] DEBUG: Getting class GraphConstructionHingeEmbeddingLoss from module gnn_tracking.metrics.losses\u001B[0m\n",
      "\u001B[36m[16:32:03] DEBUG: Checkpoint loaded. Model ready to go.\u001B[0m\n"
     ]
    }
   ],
   "source": [
    "lmodel = MLGraphConstruction.from_chkpt(\n",
    "    ml_chkpt_path=model_exchange_path / \"gc\" / \"gc-7dce6aff.ckpt\",\n",
    "    ml_freeze=False,\n",
    ")"
   ],
   "metadata": {
    "collapsed": false
   }
  },
  {
   "cell_type": "code",
   "execution_count": 18,
   "outputs": [],
   "source": [
    "out = lmodel(dm.datasets[\"val\"][0])"
   ],
   "metadata": {
    "collapsed": false
   }
  },
  {
   "cell_type": "code",
   "execution_count": 19,
   "outputs": [
    {
     "data": {
      "text/plain": "Data(x=[59357, 14], edge_index=[2, 7837097], edge_attr=[7837097, 28], y=[7837097], pt=[59357], particle_id=[59357], sector=[59357], reconstructable=[59357])"
     },
     "execution_count": 19,
     "metadata": {},
     "output_type": "execute_result"
    }
   ],
   "source": [
    "out"
   ],
   "metadata": {
    "collapsed": false
   }
  },
  {
   "cell_type": "markdown",
   "source": [
    "## EC"
   ],
   "metadata": {
    "collapsed": false
   }
  },
  {
   "cell_type": "code",
   "execution_count": 6,
   "outputs": [],
   "source": [
    "from gnn_tracking.models.edge_classifier import ECForGraphTCN\n",
    "\n",
    "model = ECForGraphTCN(\n",
    "    node_indim=14+8,\n",
    "    edge_indim=(14+8)*2,\n",
    "    interaction_node_dim=128,\n",
    "    interaction_edge_dim=128,\n",
    "    hidden_dim=128,\n",
    "    L_ec=3,\n",
    "    alpha=0.35,\n",
    "    use_intermediate_edge_embeddings=False,\n",
    "    use_node_embedding=True,\n",
    ")\n"
   ],
   "metadata": {
    "collapsed": false
   }
  },
  {
   "cell_type": "code",
   "execution_count": 7,
   "outputs": [
    {
     "data": {
      "text/plain": "<All keys matched successfully>"
     },
     "execution_count": 7,
     "metadata": {},
     "output_type": "execute_result"
    }
   ],
   "source": [
    "ckpt = torch.load(\"/home/kl5675/ray_results/ds-ef-7dce6aff/GCWithECTrainable_ddff435e_1_val_batch_size=1,adam_amsgrad=False,adam_beta1=0.9000,adam_beta2=0.9990,adam_eps=0.0000,adam_weight_d_2023-06-10_16-10-21/checkpoint_000083/checkpoint.pt\", map_location=\"cpu\")\n",
    "state_dct = ckpt[\"model_state_dict\"]\n",
    "model.load_state_dict(state_dct)"
   ],
   "metadata": {
    "collapsed": false
   }
  },
  {
   "cell_type": "code",
   "execution_count": 8,
   "outputs": [
    {
     "name": "stderr",
     "output_type": "stream",
     "text": [
      "\u001B[36m[16:33:24] DEBUG: Getting class MLModule from module gnn_tracking.training.ml\u001B[0m\n",
      "\u001B[36m[16:33:24] DEBUG: Loading checkpoint /scratch/gpfs/IOJALVO/gnn-tracking/object_condensation/model_exchange/gc/gc-7dce6aff.ckpt\u001B[0m\n",
      "\u001B[36m[16:33:24] DEBUG: Getting class GraphConstructionFCNN from module gnn_tracking.models.graph_construction\u001B[0m\n",
      "\u001B[36m[16:33:24] DEBUG: Getting class GraphConstructionHingeEmbeddingLoss from module gnn_tracking.metrics.losses\u001B[0m\n",
      "\u001B[36m[16:33:24] DEBUG: Checkpoint loaded. Model ready to go.\u001B[0m\n"
     ]
    }
   ],
   "source": [
    "\n",
    "\n",
    "lmodel = ECModule(\n",
    "    model=model,\n",
    "    loss_fct=HaughtyFocalLoss(alpha=0.5, gamma=2),\n",
    "    preproc=MLGraphConstruction.from_chkpt(\n",
    "        ml_chkpt_path=model_exchange_path / \"gc\" / \"gc-7dce6aff.ckpt\",\n",
    "        use_embedding_features=True,\n",
    "    )\n",
    ")"
   ],
   "metadata": {
    "collapsed": false
   }
  },
  {
   "cell_type": "code",
   "execution_count": 9,
   "outputs": [
    {
     "name": "stderr",
     "output_type": "stream",
     "text": [
      "/scratch/gpfs/kl5675/micromamba/envs/gnn/lib/python3.10/site-packages/lightning_fabric/plugins/environments/slurm.py:165: PossibleUserWarning: The `srun` command is available on your system but is not used. HINT: If your intention is to run Lightning on SLURM, prepend your python command with `srun` like so: srun python /scratch/gpfs/kl5675/micromamba/envs/gnn/lib/python3 ...\n",
      "  rank_zero_warn(\n",
      "GPU available: True (cuda), used: False\n",
      "TPU available: False, using: 0 TPU cores\n",
      "IPU available: False, using: 0 IPUs\n",
      "HPU available: False, using: 0 HPUs\n",
      "/scratch/gpfs/kl5675/micromamba/envs/gnn/lib/python3.10/site-packages/pytorch_lightning/trainer/setup.py:176: PossibleUserWarning: GPU available but not used. Set `accelerator` and `devices` using `Trainer(accelerator='gpu', devices=1)`.\n",
      "  rank_zero_warn(\n"
     ]
    }
   ],
   "source": [
    "trainer = Trainer(accelerator=\"cpu\", max_epochs=0, num_sanity_val_steps=0)"
   ],
   "metadata": {
    "collapsed": false
   }
  },
  {
   "cell_type": "code",
   "execution_count": 10,
   "outputs": [
    {
     "name": "stderr",
     "output_type": "stream",
     "text": [
      "/scratch/gpfs/kl5675/micromamba/envs/gnn/lib/python3.10/site-packages/lightning_fabric/plugins/environments/slurm.py:165: PossibleUserWarning: The `srun` command is available on your system but is not used. HINT: If your intention is to run Lightning on SLURM, prepend your python command with `srun` like so: srun python /scratch/gpfs/kl5675/micromamba/envs/gnn/lib/python3 ...\n",
      "  rank_zero_warn(\n",
      "\u001B[32m[16:33:26] INFO: DataLoader will load 900 graphs (out of 900 available).\u001B[0m\n",
      "\u001B[36m[16:33:26] DEBUG: First graph is /scratch/gpfs/IOJALVO/gnn-tracking/object_condensation/point_clouds_v5/part_1/data21000_s0.pt, last graph is /scratch/gpfs/IOJALVO/gnn-tracking/object_condensation/point_clouds_v5/part_1/data21999_s0.pt\u001B[0m\n",
      "\u001B[32m[16:33:26] INFO: DataLoader will load 5 graphs (out of 1000 available).\u001B[0m\n",
      "\u001B[36m[16:33:26] DEBUG: First graph is /scratch/gpfs/IOJALVO/gnn-tracking/object_condensation/point_clouds_v5/part_9/data29000_s0.pt, last graph is /scratch/gpfs/IOJALVO/gnn-tracking/object_condensation/point_clouds_v5/part_9/data29004_s0.pt\u001B[0m\n",
      "\n",
      "  | Name     | Type                | Params\n",
      "-------------------------------------------------\n",
      "0 | model    | ECForGraphTCN       | 551 K \n",
      "1 | preproc  | MLGraphConstruction | 1.3 M \n",
      "2 | loss_fct | HaughtyFocalLoss    | 0     \n",
      "-------------------------------------------------\n",
      "551 K     Trainable params\n",
      "1.3 M     Non-trainable params\n",
      "1.9 M     Total params\n",
      "7.495     Total estimated model params size (MB)\n",
      "/scratch/gpfs/kl5675/micromamba/envs/gnn/lib/python3.10/site-packages/pytorch_lightning/trainer/connectors/data_connector.py:432: PossibleUserWarning: The dataloader, train_dataloader, does not have many workers which may be a bottleneck. Consider increasing the value of the `num_workers` argument` (try 128 which is the number of cpus on this machine) in the `DataLoader` init to improve performance.\n",
      "  rank_zero_warn(\n",
      "`Trainer.fit` stopped: `max_epochs=0` reached.\n"
     ]
    }
   ],
   "source": [
    "trainer.fit(lmodel, dm)"
   ],
   "metadata": {
    "collapsed": false
   }
  },
  {
   "cell_type": "code",
   "execution_count": 11,
   "outputs": [],
   "source": [
    "trainer.save_checkpoint(model_exchange_path / \"ec\" / \"ec-ddff435e.ckpt\")"
   ],
   "metadata": {
    "collapsed": false
   }
  },
  {
   "cell_type": "markdown",
   "source": [
    "### Try restore"
   ],
   "metadata": {
    "collapsed": false
   }
  },
  {
   "cell_type": "code",
   "execution_count": 12,
   "outputs": [
    {
     "name": "stderr",
     "output_type": "stream",
     "text": [
      "\u001B[36m[16:33:51] DEBUG: Getting class MLModule from module gnn_tracking.training.ml\u001B[0m\n",
      "\u001B[36m[16:33:51] DEBUG: Loading checkpoint /scratch/gpfs/IOJALVO/gnn-tracking/object_condensation/model_exchange/gc/gc-7dce6aff.ckpt\u001B[0m\n",
      "\u001B[36m[16:33:51] DEBUG: Getting class GraphConstructionFCNN from module gnn_tracking.models.graph_construction\u001B[0m\n",
      "\u001B[36m[16:33:51] DEBUG: Getting class GraphConstructionHingeEmbeddingLoss from module gnn_tracking.metrics.losses\u001B[0m\n",
      "\u001B[36m[16:33:51] DEBUG: Checkpoint loaded. Model ready to go.\u001B[0m\n",
      "\u001B[36m[16:33:51] DEBUG: Getting class ECModule from module gnn_tracking.training.ec\u001B[0m\n",
      "\u001B[36m[16:33:51] DEBUG: Loading checkpoint /scratch/gpfs/IOJALVO/gnn-tracking/object_condensation/model_exchange/ec/ec-ddff435e.ckpt\u001B[0m\n",
      "\u001B[36m[16:33:52] DEBUG: Getting class ECForGraphTCN from module gnn_tracking.models.edge_classifier\u001B[0m\n",
      "\u001B[36m[16:33:52] DEBUG: Getting class MLGraphConstruction from module gnn_tracking.models.graph_construction\u001B[0m\n",
      "\u001B[36m[16:33:52] DEBUG: Getting class GraphConstructionFCNN from module gnn_tracking.models.graph_construction\u001B[0m\n",
      "\u001B[36m[16:33:52] DEBUG: Getting class HaughtyFocalLoss from module gnn_tracking.metrics.losses\u001B[0m\n",
      "\u001B[36m[16:33:52] DEBUG: Checkpoint loaded. Model ready to go.\u001B[0m\n"
     ]
    },
    {
     "data": {
      "text/plain": "MLGraphConstruction(\n  (_ml): GraphConstructionFCNN(\n    (_encoder): Linear(in_features=14, out_features=512, bias=False)\n    (_decoder): Linear(in_features=512, out_features=8, bias=False)\n    (_layers): ModuleList(\n      (0-4): 5 x Linear(in_features=512, out_features=512, bias=False)\n    )\n  )\n  (_ef): ECForGraphTCN(\n    (relu): ReLU()\n    (ec_node_encoder): MLP(\n      (layers): ModuleList(\n        (0): Linear(in_features=22, out_features=128, bias=False)\n        (1): ReLU()\n        (2): Linear(in_features=128, out_features=128, bias=False)\n      )\n    )\n    (ec_edge_encoder): MLP(\n      (layers): ModuleList(\n        (0): Linear(in_features=44, out_features=128, bias=False)\n        (1): ReLU()\n        (2): Linear(in_features=128, out_features=128, bias=False)\n      )\n    )\n    (ec_resin): ResIN(\n      (network): Skip1ResidualNetwork(\n        (layers): ModuleList(\n          (0-2): 3 x InteractionNetwork()\n        )\n      )\n    )\n    (W): MLP(\n      (layers): ModuleList(\n        (0): Linear(in_features=384, out_features=128, bias=True)\n        (1): ReLU()\n        (2): Linear(in_features=128, out_features=128, bias=True)\n        (3): ReLU()\n        (4): Linear(in_features=128, out_features=1, bias=True)\n      )\n    )\n  )\n)"
     },
     "execution_count": 12,
     "metadata": {},
     "output_type": "execute_result"
    }
   ],
   "source": [
    "MLGraphConstruction.from_chkpt(\n",
    "    ml_chkpt_path=model_exchange_path / \"gc\" / \"gc-7dce6aff.ckpt\",\n",
    "    ec_chkpt_path=model_exchange_path / \"ec\" / \"ec-ddff435e.ckpt\",\n",
    "    use_embedding_features=True,\n",
    "    ec_thld=0.5,\n",
    ")"
   ],
   "metadata": {
    "collapsed": false
   }
  },
  {
   "cell_type": "code",
   "execution_count": 13,
   "outputs": [
    {
     "name": "stderr",
     "output_type": "stream",
     "text": [
      "\u001B[36m[16:34:44] DEBUG: Getting class ECModule from module gnn_tracking.training.ec\u001B[0m\n",
      "\u001B[36m[16:34:44] DEBUG: Loading checkpoint /scratch/gpfs/IOJALVO/gnn-tracking/object_condensation/model_exchange/ec/ec-ddff435e.ckpt\u001B[0m\n",
      "\u001B[36m[16:34:44] DEBUG: Getting class ECForGraphTCN from module gnn_tracking.models.edge_classifier\u001B[0m\n",
      "\u001B[36m[16:34:44] DEBUG: Getting class MLGraphConstruction from module gnn_tracking.models.graph_construction\u001B[0m\n",
      "\u001B[36m[16:34:44] DEBUG: Getting class GraphConstructionFCNN from module gnn_tracking.models.graph_construction\u001B[0m\n",
      "\u001B[36m[16:34:44] DEBUG: Getting class HaughtyFocalLoss from module gnn_tracking.metrics.losses\u001B[0m\n",
      "\u001B[36m[16:34:44] DEBUG: Checkpoint loaded. Model ready to go.\u001B[0m\n"
     ]
    }
   ],
   "source": [
    "\n",
    "ec_restored = ec_from_chkpt(model_exchange_path / \"ec\" / \"ec-ddff435e.ckpt\")"
   ],
   "metadata": {
    "collapsed": false
   }
  },
  {
   "cell_type": "markdown",
   "source": [
    "## TC"
   ],
   "metadata": {
    "collapsed": false
   }
  },
  {
   "cell_type": "code",
   "execution_count": 9,
   "outputs": [
    {
     "name": "stderr",
     "output_type": "stream",
     "text": [
      "\u001B[36m[16:41:03] DEBUG: Getting class ECModule from module gnn_tracking.training.ec\u001B[0m\n",
      "\u001B[36m[16:41:03] DEBUG: Loading checkpoint /scratch/gpfs/IOJALVO/gnn-tracking/object_condensation/model_exchange/ec/ec-ddff435e.ckpt\u001B[0m\n",
      "\u001B[36m[16:41:03] DEBUG: Getting class ECForGraphTCN from module gnn_tracking.models.edge_classifier\u001B[0m\n",
      "\u001B[36m[16:41:03] DEBUG: Getting class MLGraphConstruction from module gnn_tracking.models.graph_construction\u001B[0m\n",
      "\u001B[36m[16:41:03] DEBUG: Getting class GraphConstructionFCNN from module gnn_tracking.models.graph_construction\u001B[0m\n",
      "\u001B[36m[16:41:03] DEBUG: Getting class HaughtyFocalLoss from module gnn_tracking.metrics.losses\u001B[0m\n",
      "\u001B[36m[16:41:03] DEBUG: Checkpoint loaded. Model ready to go.\u001B[0m\n",
      "/scratch/gpfs/kl5675/micromamba/envs/gnn/lib/python3.10/site-packages/pytorch_lightning/utilities/parsing.py:196: UserWarning: Attribute 'ec' is an instance of `nn.Module` and is already saved during checkpointing. It is recommended to ignore them using `self.save_hyperparameters(ignore=['ec'])`.\n",
      "  rank_zero_warn(\n",
      "/scratch/gpfs/kl5675/micromamba/envs/gnn/lib/python3.10/site-packages/pytorch_lightning/utilities/parsing.py:196: UserWarning: Attribute 'hc_in' is an instance of `nn.Module` and is already saved during checkpointing. It is recommended to ignore them using `self.save_hyperparameters(ignore=['hc_in'])`.\n",
      "  rank_zero_warn(\n"
     ]
    }
   ],
   "source": [
    "from pytorch_lightning.core.mixins import HyperparametersMixin\n",
    "from gnn_tracking.models.track_condensation_networks import GraphTCN, \\\n",
    "    PreTrainedECGraphTCN\n",
    "\n",
    "# class MockEC():\n",
    "#     latent_dim=(128, 128)\n",
    "\n",
    "model = PreTrainedECGraphTCN(\n",
    "    ec=ec_from_chkpt(model_exchange_path / \"ec\" / \"ec-ddff435e.ckpt\"),\n",
    "    node_indim=22,\n",
    "    edge_indim=44,\n",
    "    h_dim=192,\n",
    "    e_dim=192,\n",
    "    h_outdim=12,\n",
    "    hidden_dim=192,\n",
    "    L_hc=3,\n",
    "    feed_edge_weights=True,\n",
    "    ec_threshold=0.2,\n",
    "    mask_orphan_nodes=False,\n",
    "    use_ec_embeddings_for_hc=True,\n",
    "\n",
    ")"
   ],
   "metadata": {
    "collapsed": false
   }
  },
  {
   "cell_type": "code",
   "execution_count": 10,
   "outputs": [
    {
     "data": {
      "text/plain": "\"L_hc\":                     3\n\"alpha_hc\":                 0.5\n\"e_dim\":                    192\n\"ec\":                       {'class_path': 'gnn_tracking.models.edge_classifier.ECForGraphTCN', 'init_args': {'node_indim': 22, 'edge_indim': 44, 'interaction_node_dim': 128, 'interaction_edge_dim': 128, 'hidden_dim': 128, 'L_ec': 3, 'alpha': 0.35, 'residual_type': 'skip1', 'use_intermediate_edge_embeddings': False, 'use_node_embedding': True, 'residual_kwargs': None}}\n\"ec_threshold\":             0.2\n\"edge_indim\":               44\n\"feed_edge_weights\":        True\n\"h_dim\":                    192\n\"h_outdim\":                 12\n\"hidden_dim\":               192\n\"mask_orphan_nodes\":        False\n\"node_indim\":               22\n\"use_ec_embeddings_for_hc\": True"
     },
     "execution_count": 10,
     "metadata": {},
     "output_type": "execute_result"
    }
   ],
   "source": [
    "model.hparams"
   ],
   "metadata": {
    "collapsed": false
   }
  },
  {
   "cell_type": "code",
   "execution_count": 11,
   "outputs": [
    {
     "data": {
      "text/plain": "_IncompatibleKeys(missing_keys=['_gtcn.ec.ec_node_encoder.layers.0.weight', '_gtcn.ec.ec_node_encoder.layers.2.weight', '_gtcn.ec.ec_edge_encoder.layers.0.weight', '_gtcn.ec.ec_edge_encoder.layers.2.weight', '_gtcn.ec.ec_resin.network.layers.0.relational_model.layers.0.weight', '_gtcn.ec.ec_resin.network.layers.0.relational_model.layers.0.bias', '_gtcn.ec.ec_resin.network.layers.0.relational_model.layers.2.weight', '_gtcn.ec.ec_resin.network.layers.0.relational_model.layers.2.bias', '_gtcn.ec.ec_resin.network.layers.0.relational_model.layers.4.weight', '_gtcn.ec.ec_resin.network.layers.0.relational_model.layers.4.bias', '_gtcn.ec.ec_resin.network.layers.0.object_model.layers.0.weight', '_gtcn.ec.ec_resin.network.layers.0.object_model.layers.0.bias', '_gtcn.ec.ec_resin.network.layers.0.object_model.layers.2.weight', '_gtcn.ec.ec_resin.network.layers.0.object_model.layers.2.bias', '_gtcn.ec.ec_resin.network.layers.0.object_model.layers.4.weight', '_gtcn.ec.ec_resin.network.layers.0.object_model.layers.4.bias', '_gtcn.ec.ec_resin.network.layers.1.relational_model.layers.0.weight', '_gtcn.ec.ec_resin.network.layers.1.relational_model.layers.0.bias', '_gtcn.ec.ec_resin.network.layers.1.relational_model.layers.2.weight', '_gtcn.ec.ec_resin.network.layers.1.relational_model.layers.2.bias', '_gtcn.ec.ec_resin.network.layers.1.relational_model.layers.4.weight', '_gtcn.ec.ec_resin.network.layers.1.relational_model.layers.4.bias', '_gtcn.ec.ec_resin.network.layers.1.object_model.layers.0.weight', '_gtcn.ec.ec_resin.network.layers.1.object_model.layers.0.bias', '_gtcn.ec.ec_resin.network.layers.1.object_model.layers.2.weight', '_gtcn.ec.ec_resin.network.layers.1.object_model.layers.2.bias', '_gtcn.ec.ec_resin.network.layers.1.object_model.layers.4.weight', '_gtcn.ec.ec_resin.network.layers.1.object_model.layers.4.bias', '_gtcn.ec.ec_resin.network.layers.2.relational_model.layers.0.weight', '_gtcn.ec.ec_resin.network.layers.2.relational_model.layers.0.bias', '_gtcn.ec.ec_resin.network.layers.2.relational_model.layers.2.weight', '_gtcn.ec.ec_resin.network.layers.2.relational_model.layers.2.bias', '_gtcn.ec.ec_resin.network.layers.2.relational_model.layers.4.weight', '_gtcn.ec.ec_resin.network.layers.2.relational_model.layers.4.bias', '_gtcn.ec.ec_resin.network.layers.2.object_model.layers.0.weight', '_gtcn.ec.ec_resin.network.layers.2.object_model.layers.0.bias', '_gtcn.ec.ec_resin.network.layers.2.object_model.layers.2.weight', '_gtcn.ec.ec_resin.network.layers.2.object_model.layers.2.bias', '_gtcn.ec.ec_resin.network.layers.2.object_model.layers.4.weight', '_gtcn.ec.ec_resin.network.layers.2.object_model.layers.4.bias', '_gtcn.ec.W.layers.0.weight', '_gtcn.ec.W.layers.0.bias', '_gtcn.ec.W.layers.2.weight', '_gtcn.ec.W.layers.2.bias', '_gtcn.ec.W.layers.4.weight', '_gtcn.ec.W.layers.4.bias'], unexpected_keys=[])"
     },
     "execution_count": 11,
     "metadata": {},
     "output_type": "execute_result"
    }
   ],
   "source": [
    "ckpt = torch.load(\"/home/kl5675/ray_results/613788bb-continued/TCNFromGCTrainable_04b2e3ce_2_val_batch_size=1,adam_amsgrad=False,adam_beta1=0.9000,adam_beta2=0.9990,adam_eps=0.0000,adam_weight__2023-06-14_23-29-18/checkpoint_000018/checkpoint.pt\", map_location=\"cpu\")\n",
    "state_dct = {k: v for k, v in ckpt[\"model_state_dict\"].items() if not k.startswith(\"_gtcn.ec\")}\n",
    "model.load_state_dict(state_dct, strict=False)"
   ],
   "metadata": {
    "collapsed": false
   }
  },
  {
   "cell_type": "code",
   "execution_count": 12,
   "outputs": [
    {
     "name": "stderr",
     "output_type": "stream",
     "text": [
      "\u001B[36m[16:41:14] DEBUG: Getting class MLModule from module gnn_tracking.training.ml\u001B[0m\n",
      "\u001B[36m[16:41:14] DEBUG: Loading checkpoint /scratch/gpfs/IOJALVO/gnn-tracking/object_condensation/model_exchange/gc/gc-7dce6aff.ckpt\u001B[0m\n",
      "\u001B[36m[16:41:14] DEBUG: Getting class GraphConstructionFCNN from module gnn_tracking.models.graph_construction\u001B[0m\n",
      "\u001B[36m[16:41:14] DEBUG: Getting class GraphConstructionHingeEmbeddingLoss from module gnn_tracking.metrics.losses\u001B[0m\n",
      "\u001B[36m[16:41:14] DEBUG: Checkpoint loaded. Model ready to go.\u001B[0m\n"
     ]
    }
   ],
   "source": [
    "\n",
    "\n",
    "lmodel = TCModule(\n",
    "    model=model,\n",
    "    lw_repulsive=0.743380428762342,\n",
    "    lw_background=0.0041,\n",
    "    preproc=MLGraphConstruction.from_chkpt(\n",
    "        ml_chkpt_path=model_exchange_path / \"gc\" / \"gc-7dce6aff.ckpt\",\n",
    "        use_embedding_features=True,\n",
    "    )\n",
    ")"
   ],
   "metadata": {
    "collapsed": false
   }
  },
  {
   "cell_type": "code",
   "execution_count": 16,
   "outputs": [
    {
     "name": "stdout",
     "output_type": "stream",
     "text": [
      "{'background_loss': {'class_path': 'gnn_tracking.metrics.losses.BackgroundLoss',\n",
      "                     'init_args': {'sb': 0.1}},\n",
      " 'cluster_scanner': None,\n",
      " 'lw_background': 0.0041,\n",
      " 'lw_repulsive': 0.743380428762342,\n",
      " 'model': {'class_path': 'gnn_tracking.models.track_condensation_networks.PreTrainedECGraphTCN',\n",
      "           'init_args': {'L_hc': 3,\n",
      "                         'alpha_hc': 0.5,\n",
      "                         'e_dim': 192,\n",
      "                         'ec': {'class_path': 'gnn_tracking.models.edge_classifier.ECForGraphTCN',\n",
      "                                'init_args': {'L_ec': 3,\n",
      "                                              'alpha': 0.35,\n",
      "                                              'edge_indim': 44,\n",
      "                                              'hidden_dim': 128,\n",
      "                                              'interaction_edge_dim': 128,\n",
      "                                              'interaction_node_dim': 128,\n",
      "                                              'node_indim': 22,\n",
      "                                              'residual_kwargs': None,\n",
      "                                              'residual_type': 'skip1',\n",
      "                                              'use_intermediate_edge_embeddings': False,\n",
      "                                              'use_node_embedding': True}},\n",
      "                         'ec_threshold': 0.2,\n",
      "                         'edge_indim': 44,\n",
      "                         'feed_edge_weights': True,\n",
      "                         'h_dim': 192,\n",
      "                         'h_outdim': 12,\n",
      "                         'hidden_dim': 192,\n",
      "                         'mask_orphan_nodes': False,\n",
      "                         'node_indim': 22,\n",
      "                         'use_ec_embeddings_for_hc': True}},\n",
      " 'potential_loss': {'class_path': 'gnn_tracking.metrics.losses.PotentialLoss',\n",
      "                    'init_args': {'attr_pt_thld': 0.9,\n",
      "                                  'q_min': 0.01,\n",
      "                                  'radius_threshold': 1.0}},\n",
      " 'preproc': {'class_path': 'gnn_tracking.models.graph_construction.MLGraphConstruction',\n",
      "             'init_args': {'build_edge_features': True,\n",
      "                           'ec': None,\n",
      "                           'ec_threshold': None,\n",
      "                           'max_num_neighbors': 256,\n",
      "                           'max_radius': 1,\n",
      "                           'ml': {'class_path': 'gnn_tracking.models.graph_construction.GraphConstructionFCNN',\n",
      "                                  'init_args': {'beta': 0.4,\n",
      "                                                'depth': 6,\n",
      "                                                'hidden_dim': 512,\n",
      "                                                'in_dim': 14,\n",
      "                                                'out_dim': 8}},\n",
      "                           'ratio_of_false': None,\n",
      "                           'use_embedding_features': True}}}\n"
     ]
    }
   ],
   "source": [
    "\n",
    "\n",
    "pprint.pprint(dict(lmodel.hparams))"
   ],
   "metadata": {
    "collapsed": false
   }
  },
  {
   "cell_type": "code",
   "execution_count": 17,
   "outputs": [
    {
     "name": "stderr",
     "output_type": "stream",
     "text": [
      "/scratch/gpfs/kl5675/micromamba/envs/gnn/lib/python3.10/site-packages/lightning_fabric/plugins/environments/slurm.py:165: PossibleUserWarning: The `srun` command is available on your system but is not used. HINT: If your intention is to run Lightning on SLURM, prepend your python command with `srun` like so: srun python /scratch/gpfs/kl5675/micromamba/envs/gnn/lib/python3 ...\n",
      "  rank_zero_warn(\n",
      "GPU available: True (cuda), used: False\n",
      "TPU available: False, using: 0 TPU cores\n",
      "IPU available: False, using: 0 IPUs\n",
      "HPU available: False, using: 0 HPUs\n",
      "/scratch/gpfs/kl5675/micromamba/envs/gnn/lib/python3.10/site-packages/pytorch_lightning/trainer/setup.py:176: PossibleUserWarning: GPU available but not used. Set `accelerator` and `devices` using `Trainer(accelerator='gpu', devices=1)`.\n",
      "  rank_zero_warn(\n"
     ]
    }
   ],
   "source": [
    "trainer = Trainer(accelerator=\"cpu\", max_steps=0, num_sanity_val_steps=0)"
   ],
   "metadata": {
    "collapsed": false
   }
  },
  {
   "cell_type": "code",
   "execution_count": 18,
   "outputs": [
    {
     "name": "stderr",
     "output_type": "stream",
     "text": [
      "/scratch/gpfs/kl5675/micromamba/envs/gnn/lib/python3.10/site-packages/lightning_fabric/plugins/environments/slurm.py:165: PossibleUserWarning: The `srun` command is available on your system but is not used. HINT: If your intention is to run Lightning on SLURM, prepend your python command with `srun` like so: srun python /scratch/gpfs/kl5675/micromamba/envs/gnn/lib/python3 ...\n",
      "  rank_zero_warn(\n",
      "\u001B[32m[16:42:57] INFO: DataLoader will load 900 graphs (out of 900 available).\u001B[0m\n",
      "\u001B[36m[16:42:57] DEBUG: First graph is /scratch/gpfs/IOJALVO/gnn-tracking/object_condensation/point_clouds_v5/part_1/data21000_s0.pt, last graph is /scratch/gpfs/IOJALVO/gnn-tracking/object_condensation/point_clouds_v5/part_1/data21999_s0.pt\u001B[0m\n",
      "\u001B[32m[16:42:57] INFO: DataLoader will load 5 graphs (out of 1000 available).\u001B[0m\n",
      "\u001B[36m[16:42:57] DEBUG: First graph is /scratch/gpfs/IOJALVO/gnn-tracking/object_condensation/point_clouds_v5/part_9/data29000_s0.pt, last graph is /scratch/gpfs/IOJALVO/gnn-tracking/object_condensation/point_clouds_v5/part_9/data29004_s0.pt\u001B[0m\n",
      "\n",
      "  | Name            | Type                 | Params\n",
      "---------------------------------------------------------\n",
      "0 | model           | PreTrainedECGraphTCN | 1.8 M \n",
      "1 | preproc         | MLGraphConstruction  | 1.3 M \n",
      "2 | potential_loss  | PotentialLoss        | 0     \n",
      "3 | background_loss | BackgroundLoss       | 0     \n",
      "---------------------------------------------------------\n",
      "1.3 M     Trainable params\n",
      "1.9 M     Non-trainable params\n",
      "3.2 M     Total params\n",
      "12.636    Total estimated model params size (MB)\n",
      "/scratch/gpfs/kl5675/micromamba/envs/gnn/lib/python3.10/site-packages/pytorch_lightning/trainer/connectors/data_connector.py:432: PossibleUserWarning: The dataloader, train_dataloader, does not have many workers which may be a bottleneck. Consider increasing the value of the `num_workers` argument` (try 128 which is the number of cpus on this machine) in the `DataLoader` init to improve performance.\n",
      "  rank_zero_warn(\n",
      "`Trainer.fit` stopped: `max_steps=0` reached.\n"
     ]
    }
   ],
   "source": [
    "trainer.fit(lmodel, dm)"
   ],
   "metadata": {
    "collapsed": false
   }
  },
  {
   "cell_type": "code",
   "execution_count": 19,
   "outputs": [],
   "source": [
    "trainer.save_checkpoint(model_exchange_path / \"tc\" / \"tc-04b2e3ce.ckpt\")"
   ],
   "metadata": {
    "collapsed": false
   }
  },
  {
   "cell_type": "markdown",
   "source": [
    "## Try restore"
   ],
   "metadata": {
    "collapsed": false
   }
  },
  {
   "cell_type": "code",
   "execution_count": 8,
   "outputs": [
    {
     "name": "stderr",
     "output_type": "stream",
     "text": [
      "\u001B[36m[17:03:17] DEBUG: Getting class PreTrainedECGraphTCN from module gnn_tracking.models.track_condensation_networks\u001B[0m\n",
      "\u001B[36m[17:03:17] DEBUG: Getting class ECForGraphTCN from module gnn_tracking.models.edge_classifier\u001B[0m\n",
      "/scratch/gpfs/kl5675/micromamba/envs/gnn/lib/python3.10/site-packages/pytorch_lightning/utilities/parsing.py:196: UserWarning: Attribute 'ec' is an instance of `nn.Module` and is already saved during checkpointing. It is recommended to ignore them using `self.save_hyperparameters(ignore=['ec'])`.\n",
      "  rank_zero_warn(\n",
      "/scratch/gpfs/kl5675/micromamba/envs/gnn/lib/python3.10/site-packages/pytorch_lightning/utilities/parsing.py:196: UserWarning: Attribute 'hc_in' is an instance of `nn.Module` and is already saved during checkpointing. It is recommended to ignore them using `self.save_hyperparameters(ignore=['hc_in'])`.\n",
      "  rank_zero_warn(\n",
      "\u001B[36m[17:03:17] DEBUG: Getting class MLGraphConstruction from module gnn_tracking.models.graph_construction\u001B[0m\n",
      "\u001B[36m[17:03:17] DEBUG: Getting class GraphConstructionFCNN from module gnn_tracking.models.graph_construction\u001B[0m\n",
      "\u001B[36m[17:03:17] DEBUG: Getting class PotentialLoss from module gnn_tracking.metrics.losses\u001B[0m\n",
      "\u001B[36m[17:03:17] DEBUG: Getting class BackgroundLoss from module gnn_tracking.metrics.losses\u001B[0m\n"
     ]
    }
   ],
   "source": [
    "lmodel = TCModule.load_from_checkpoint(\n",
    "    model_exchange_path / \"tc\" / \"tc-04b2e3ce.ckpt\"\n",
    ")"
   ],
   "metadata": {
    "collapsed": false
   }
  },
  {
   "cell_type": "code",
   "execution_count": 9,
   "outputs": [
    {
     "name": "stdout",
     "output_type": "stream",
     "text": [
      "{'background_loss': {'class_path': 'gnn_tracking.metrics.losses.BackgroundLoss',\n",
      "                     'init_args': {'sb': 0.1}},\n",
      " 'cluster_scanner': None,\n",
      " 'lw_background': 0.0041,\n",
      " 'lw_repulsive': 0.743380428762342,\n",
      " 'model': {'class_path': 'gnn_tracking.models.track_condensation_networks.PreTrainedECGraphTCN',\n",
      "           'init_args': {'L_hc': 3,\n",
      "                         'alpha_hc': 0.5,\n",
      "                         'e_dim': 192,\n",
      "                         'ec': {'class_path': 'gnn_tracking.models.edge_classifier.ECForGraphTCN',\n",
      "                                'init_args': {'L_ec': 3,\n",
      "                                              'alpha': 0.35,\n",
      "                                              'edge_indim': 44,\n",
      "                                              'hidden_dim': 128,\n",
      "                                              'interaction_edge_dim': 128,\n",
      "                                              'interaction_node_dim': 128,\n",
      "                                              'node_indim': 22,\n",
      "                                              'residual_kwargs': None,\n",
      "                                              'residual_type': 'skip1',\n",
      "                                              'use_intermediate_edge_embeddings': False,\n",
      "                                              'use_node_embedding': True}},\n",
      "                         'ec_threshold': 0.2,\n",
      "                         'edge_indim': 44,\n",
      "                         'feed_edge_weights': True,\n",
      "                         'h_dim': 192,\n",
      "                         'h_outdim': 12,\n",
      "                         'hidden_dim': 192,\n",
      "                         'mask_orphan_nodes': False,\n",
      "                         'node_indim': 22,\n",
      "                         'use_ec_embeddings_for_hc': True}},\n",
      " 'potential_loss': {'class_path': 'gnn_tracking.metrics.losses.PotentialLoss',\n",
      "                    'init_args': {'attr_pt_thld': 0.9,\n",
      "                                  'q_min': 0.01,\n",
      "                                  'radius_threshold': 1.0}},\n",
      " 'preproc': {'class_path': 'gnn_tracking.models.graph_construction.MLGraphConstruction',\n",
      "             'init_args': {'build_edge_features': True,\n",
      "                           'ec': None,\n",
      "                           'ec_threshold': None,\n",
      "                           'max_num_neighbors': 256,\n",
      "                           'max_radius': 1,\n",
      "                           'ml': {'class_path': 'gnn_tracking.models.graph_construction.GraphConstructionFCNN',\n",
      "                                  'init_args': {'beta': 0.4,\n",
      "                                                'depth': 6,\n",
      "                                                'hidden_dim': 512,\n",
      "                                                'in_dim': 14,\n",
      "                                                'out_dim': 8}},\n",
      "                           'ratio_of_false': None,\n",
      "                           'use_embedding_features': True}}}\n"
     ]
    }
   ],
   "source": [
    "pprint.pprint(dict(lmodel.hparams))"
   ],
   "metadata": {
    "collapsed": false
   }
  },
  {
   "cell_type": "code",
   "execution_count": 13,
   "outputs": [
    {
     "name": "stderr",
     "output_type": "stream",
     "text": [
      "/scratch/gpfs/kl5675/micromamba/envs/gnn/lib/python3.10/site-packages/lightning_fabric/plugins/environments/slurm.py:165: PossibleUserWarning: The `srun` command is available on your system but is not used. HINT: If your intention is to run Lightning on SLURM, prepend your python command with `srun` like so: srun python /scratch/gpfs/kl5675/micromamba/envs/gnn/lib/python3 ...\n",
      "  rank_zero_warn(\n",
      "GPU available: True (cuda), used: False\n",
      "TPU available: False, using: 0 TPU cores\n",
      "IPU available: False, using: 0 IPUs\n",
      "HPU available: False, using: 0 HPUs\n",
      "/scratch/gpfs/kl5675/micromamba/envs/gnn/lib/python3.10/site-packages/pytorch_lightning/trainer/setup.py:176: PossibleUserWarning: GPU available but not used. Set `accelerator` and `devices` using `Trainer(accelerator='gpu', devices=1)`.\n",
      "  rank_zero_warn(\n"
     ]
    }
   ],
   "source": [
    "trainer = Trainer(accelerator=\"cpu\", max_steps=1, num_sanity_val_steps=0)"
   ],
   "metadata": {
    "collapsed": false
   }
  },
  {
   "cell_type": "code",
   "execution_count": null,
   "outputs": [
    {
     "name": "stderr",
     "output_type": "stream",
     "text": [
      "/scratch/gpfs/kl5675/micromamba/envs/gnn/lib/python3.10/site-packages/lightning_fabric/plugins/environments/slurm.py:165: PossibleUserWarning: The `srun` command is available on your system but is not used. HINT: If your intention is to run Lightning on SLURM, prepend your python command with `srun` like so: srun python /scratch/gpfs/kl5675/micromamba/envs/gnn/lib/python3 ...\n",
      "  rank_zero_warn(\n",
      "\u001B[32m[17:05:12] INFO: DataLoader will load 900 graphs (out of 900 available).\u001B[0m\n",
      "\u001B[36m[17:05:12] DEBUG: First graph is /scratch/gpfs/IOJALVO/gnn-tracking/object_condensation/point_clouds_v5/part_1/data21000_s0.pt, last graph is /scratch/gpfs/IOJALVO/gnn-tracking/object_condensation/point_clouds_v5/part_1/data21999_s0.pt\u001B[0m\n",
      "\u001B[32m[17:05:12] INFO: DataLoader will load 1 graphs (out of 1000 available).\u001B[0m\n",
      "\u001B[36m[17:05:12] DEBUG: First graph is /scratch/gpfs/IOJALVO/gnn-tracking/object_condensation/point_clouds_v5/part_9/data29000_s0.pt, last graph is /scratch/gpfs/IOJALVO/gnn-tracking/object_condensation/point_clouds_v5/part_9/data29000_s0.pt\u001B[0m\n",
      "\n",
      "  | Name            | Type                 | Params\n",
      "---------------------------------------------------------\n",
      "0 | model           | PreTrainedECGraphTCN | 1.8 M \n",
      "1 | preproc         | MLGraphConstruction  | 1.3 M \n",
      "2 | potential_loss  | PotentialLoss        | 0     \n",
      "3 | background_loss | BackgroundLoss       | 0     \n",
      "---------------------------------------------------------\n",
      "3.2 M     Trainable params\n",
      "0         Non-trainable params\n",
      "3.2 M     Total params\n",
      "12.636    Total estimated model params size (MB)\n",
      "/scratch/gpfs/kl5675/micromamba/envs/gnn/lib/python3.10/site-packages/pytorch_lightning/trainer/connectors/data_connector.py:432: PossibleUserWarning: The dataloader, train_dataloader, does not have many workers which may be a bottleneck. Consider increasing the value of the `num_workers` argument` (try 48 which is the number of cpus on this machine) in the `DataLoader` init to improve performance.\n",
      "  rank_zero_warn(\n",
      "/scratch/gpfs/kl5675/micromamba/envs/gnn/lib/python3.10/site-packages/pytorch_lightning/trainer/connectors/data_connector.py:432: PossibleUserWarning: The dataloader, val_dataloader, does not have many workers which may be a bottleneck. Consider increasing the value of the `num_workers` argument` (try 48 which is the number of cpus on this machine) in the `DataLoader` init to improve performance.\n",
      "  rank_zero_warn(\n"
     ]
    },
    {
     "data": {
      "text/plain": "Training: 0it [00:00, ?it/s]",
      "application/vnd.jupyter.widget-view+json": {
       "version_major": 2,
       "version_minor": 0,
       "model_id": "41bfe19a32da4a38a1220bb93079d6e1"
      }
     },
     "metadata": {},
     "output_type": "display_data"
    }
   ],
   "source": [
    "trainer.fit(lmodel, dm)"
   ],
   "metadata": {
    "collapsed": false,
    "pycharm": {
     "is_executing": true
    }
   }
  },
  {
   "cell_type": "code",
   "execution_count": 1,
   "outputs": [
    {
     "name": "stdout",
     "output_type": "stream",
     "text": [
      "test\n"
     ]
    }
   ],
   "source": [
    "print('test')"
   ],
   "metadata": {
    "collapsed": false
   }
  }
 ],
 "metadata": {
  "kernelspec": {
   "display_name": "Python 3",
   "language": "python",
   "name": "python3"
  },
  "language_info": {
   "codemirror_mode": {
    "name": "ipython",
    "version": 2
   },
   "file_extension": ".py",
   "mimetype": "text/x-python",
   "name": "python",
   "nbconvert_exporter": "python",
   "pygments_lexer": "ipython2",
   "version": "2.7.6"
  }
 },
 "nbformat": 4,
 "nbformat_minor": 0
}
