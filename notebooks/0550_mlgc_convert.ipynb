{
 "cells": [
  {
   "cell_type": "code",
   "execution_count": 1,
   "outputs": [],
   "source": [
    "%load_ext autoreload\n",
    "%autoreload 2\n",
    "\n",
    "from gnn_tracking.training.ml import MLModule\n",
    "from pathlib import Path\n",
    "\n"
   ],
   "metadata": {
    "collapsed": false
   }
  },
  {
   "cell_type": "code",
   "execution_count": 2,
   "outputs": [
    {
     "name": "stderr",
     "output_type": "stream",
     "text": [
      "\u001B[36m[12:56:49] DEBUG: Getting class GraphConstructionFCNN from module gnn_tracking.models.graph_construction\u001B[0m\n",
      "\u001B[36m[12:56:49] DEBUG: Getting class GraphConstructionHingeEmbeddingLoss from module gnn_tracking.metrics.losses\u001B[0m\n"
     ]
    }
   ],
   "source": [
    "model_exchange_path = Path(\n",
    "    \"/scratch/gpfs/IOJALVO/gnn-tracking/object_condensation/model_exchange\"\n",
    ")\n",
    "lmodel = MLModule.load_from_checkpoint(model_exchange_path / \"gc\" / \"gc-7dce6aff.ckpt\")"
   ],
   "metadata": {
    "collapsed": false
   }
  },
  {
   "cell_type": "code",
   "execution_count": 5,
   "outputs": [
    {
     "name": "stderr",
     "output_type": "stream",
     "text": [
      "/scratch/gpfs/kl5675/micromamba/envs/gnn/lib/python3.10/site-packages/pytorch_lightning/utilities/parsing.py:196: UserWarning: Attribute 'model' is an instance of `nn.Module` and is already saved during checkpointing. It is recommended to ignore them using `self.save_hyperparameters(ignore=['model'])`.\n",
      "  rank_zero_warn(\n"
     ]
    }
   ],
   "source": [
    "from gnn_tracking.models.graph_construction import MLGraphConstruction, MLPCTransformer\n",
    "\n",
    "gc = MLPCTransformer(\n",
    "    model=lmodel.model,\n",
    "    original_features=True,\n",
    ")"
   ],
   "metadata": {
    "collapsed": false
   }
  },
  {
   "cell_type": "code",
   "execution_count": 6,
   "outputs": [
    {
     "name": "stderr",
     "output_type": "stream",
     "text": [
      "100%|█████████████████████████████████████████████████████████████████████████████████████████████████████████████████████████████████████████████| 900/900 [07:55<00:00,  1.89it/s]\n"
     ]
    }
   ],
   "source": [
    "from gnn_tracking.graph_construction.ml_graph_builder import MLGraphBuilder\n",
    "\n",
    "gcc = MLGraphBuilder(\n",
    "    gc=gc,\n",
    ")\n",
    "gcc.process_directories(\n",
    "    input_dirs=[\n",
    "        \"/scratch/gpfs/IOJALVO/gnn-tracking/object_condensation/point_clouds_v5/part_1/\"\n",
    "    ],\n",
    "    output_dirs=[\n",
    "        \"/scratch/gpfs/IOJALVO/gnn-tracking/object_condensation/graphs_v4/part_1/\"\n",
    "    ]\n",
    ")"
   ],
   "metadata": {
    "collapsed": false
   }
  },
  {
   "cell_type": "code",
   "execution_count": null,
   "outputs": [],
   "source": [],
   "metadata": {
    "collapsed": false
   }
  }
 ],
 "metadata": {
  "kernelspec": {
   "display_name": "Python 3",
   "language": "python",
   "name": "python3"
  },
  "language_info": {
   "codemirror_mode": {
    "name": "ipython",
    "version": 2
   },
   "file_extension": ".py",
   "mimetype": "text/x-python",
   "name": "python",
   "nbconvert_exporter": "python",
   "pygments_lexer": "ipython2",
   "version": "2.7.6"
  }
 },
 "nbformat": 4,
 "nbformat_minor": 0
}
