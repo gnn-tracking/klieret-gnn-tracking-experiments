{
 "cells": [
  {
   "cell_type": "code",
   "execution_count": 1,
   "metadata": {
    "collapsed": true
   },
   "outputs": [],
   "source": [
    "\n",
    "from gnn_tracking.models.mlp import MLP\n",
    "from torch import Tensor\n",
    "from torch import nn\n",
    "\n",
    "\n",
    "class MetricLearningGraphConstruction(nn.Module):\n",
    "    def __init__(self, *, node_indim: int, outdim: int = 12, n_layers: int, layer_width: int):\n",
    "        super().__init__()\n",
    "        self.encoder = MLP(node_indim, layer_width, layer_width, L=n_layers, include_last_activation=True)\n",
    "        self.beta_nn = MLP(layer_width, 1, layer_width, L=1)\n",
    "        self.latent = MLP(layer_width, outdim, layer_width, L=1, include_last_activation=True)\n",
    "        self.sigmoid = nn.Sigmoid()\n",
    "\n",
    "    def forward(self, data) -> dict[str, Tensor]:\n",
    "        h = self.encoder(data.x)\n",
    "        r = {\n",
    "            \"H\": self.latent(h),\n",
    "            \"B\": self.sigmoid(self.beta_nn(h)).squeeze(),\n",
    "        }\n",
    "        return r\n",
    "\n",
    "%load_ext autoreload\n",
    "%autoreload 2\n"
   ]
  },
  {
   "cell_type": "markdown",
   "source": [],
   "metadata": {
    "collapsed": false
   }
  },
  {
   "cell_type": "code",
   "execution_count": 2,
   "outputs": [
    {
     "name": "stderr",
     "output_type": "stream",
     "text": [
      "\u001B[32m[18:33:42] INFO: DataLoader will load 7743 graphs (out of 7743 available).\u001B[0m\n",
      "\u001B[36m[18:33:42] DEBUG: First graph is /scratch/gpfs/IOJALVO/gnn-tracking/object_condensation/point_clouds_v2/part_1/data21000_s0.pt, last graph is /scratch/gpfs/IOJALVO/gnn-tracking/object_condensation/point_clouds_v2/part_8/data28999_s0.pt\u001B[0m\n",
      "\u001B[32m[18:33:42] INFO: DataLoader will load 1000 graphs (out of 1000 available).\u001B[0m\n",
      "\u001B[36m[18:33:42] DEBUG: First graph is /scratch/gpfs/IOJALVO/gnn-tracking/object_condensation/point_clouds_v2/part_9/data29000_s0.pt, last graph is /scratch/gpfs/IOJALVO/gnn-tracking/object_condensation/point_clouds_v2/part_9/data29999_s0.pt\u001B[0m\n",
      "\u001B[36m[18:33:42] DEBUG: Parameters for data loader 'train': {'batch_size': 1, 'num_workers': 1, 'sampler': <torch.utils.data.sampler.RandomSampler object at 0x146e6f1fcca0>, 'pin_memory': True, 'shuffle': None}\u001B[0m\n",
      "\u001B[36m[18:33:42] DEBUG: Parameters for data loader 'val': {'batch_size': 1, 'num_workers': 1, 'sampler': None, 'pin_memory': True, 'shuffle': False}\u001B[0m\n"
     ]
    }
   ],
   "source": [
    "from gnn_tracking.utils.loading import TrackingDataset, get_loaders\n",
    "\n",
    "ds = TrackingDataset(\n",
    "    [\n",
    "        f\"/scratch/gpfs/IOJALVO/gnn-tracking/object_condensation/point_clouds_v2/part_{i}\"\n",
    "        for i in range(1, 9)\n",
    "    ]\n",
    ")\n",
    "val_ds = TrackingDataset(\n",
    "    \"/scratch/gpfs/IOJALVO/gnn-tracking/object_condensation/point_clouds_v2/part_9\"\n",
    ")\n",
    "loaders = get_loaders({\"train\": ds, \"val\": val_ds}, batch_size=1, max_sample_size=10_000)"
   ],
   "metadata": {
    "collapsed": false
   }
  },
  {
   "cell_type": "code",
   "execution_count": 3,
   "outputs": [],
   "source": [
    "\n",
    "from functools import partial\n",
    "from gnn_tracking.postprocessing.dbscanscanner import dbscan_scan, dbscan\n",
    "from gnn_tracking.metrics.losses import PotentialLoss, BackgroundLoss\n",
    "\n",
    "loss_functions = {\n",
    "    \"potential\": (PotentialLoss(q_min=0.01, radius_threshold=3), {\"attractive\": 1, \"repulsive\": 1e-3}),\n",
    "    \"background\": (BackgroundLoss(sb=1), 0.05),\n",
    "}\n",
    "\n"
   ],
   "metadata": {
    "collapsed": false
   }
  },
  {
   "cell_type": "code",
   "execution_count": 4,
   "outputs": [],
   "source": [
    "\n",
    "from typing import Any\n",
    "from gnn_tracking.metrics.cluster_metrics import common_metrics\n",
    "from gnn_tracking.postprocessing.dbscanscanner import DBSCANHyperParamScanner\n",
    "import numpy as np\n",
    "from gnn_tracking.postprocessing.clusterscanner import ClusterScanResult\n",
    "\n",
    "\n",
    "def simple_scan(\n",
    "    graphs: list[np.ndarray],\n",
    "    truth: list[np.ndarray],\n",
    "    sectors: list[np.ndarray],\n",
    "    pts: list[np.ndarray],\n",
    "    reconstructable: list[np.ndarray],\n",
    "    start_params= None,\n",
    "    node_mask= None,\n",
    "    epoch=None,\n",
    ") -> ClusterScanResult:\n",
    "    if start_params is None:\n",
    "        start_params = {\n",
    "            \"eps\": 0.95,\n",
    "            \"min_samples\": 1,\n",
    "        }\n",
    "    dbss = DBSCANHyperParamScanner(\n",
    "        data=graphs,\n",
    "        truth=truth,\n",
    "        sectors=sectors,\n",
    "        pts=pts,\n",
    "        reconstructable=reconstructable,\n",
    "        guide=\"adjusted_rand\",\n",
    "        metrics={\"adjusted_rand\": common_metrics[\"adjusted_rand\"]},\n",
    "        node_mask=node_mask,\n",
    "        min_samples_range=(1, 1),\n",
    "        eps_range=(0.95, 1.25),\n",
    "    )\n",
    "    return dbss.scan(\n",
    "        n_jobs=3,\n",
    "        n_trials=3,\n",
    "        start_params=start_params,\n",
    "    )\n",
    "\n",
    "cfs = {\n",
    "    \"dbscan\": simple_scan\n",
    "}"
   ],
   "metadata": {
    "collapsed": false
   }
  },
  {
   "cell_type": "code",
   "execution_count": 5,
   "outputs": [
    {
     "name": "stderr",
     "output_type": "stream",
     "text": [
      "\u001B[32m[18:33:43 TCNTrainer] INFO: Using device cuda\u001B[0m\n"
     ]
    }
   ],
   "source": [
    "from gnn_tracking.training.tcn_trainer import TCNTrainer\n",
    "\n",
    "trainer = TCNTrainer(MetricLearningGraphConstruction(node_indim=7, n_layers=6, layer_width=256), loaders, loss_functions, lr=1e-3, cluster_functions=cfs)"
   ],
   "metadata": {
    "collapsed": false
   }
  },
  {
   "cell_type": "code",
   "execution_count": 6,
   "outputs": [],
   "source": [
    "trainer.load_checkpoint(\"230526_181642_model.pt\")"
   ],
   "metadata": {
    "collapsed": false
   }
  },
  {
   "cell_type": "code",
   "execution_count": null,
   "outputs": [
    {
     "name": "stderr",
     "output_type": "stream",
     "text": [
      "/scratch/gpfs/kl5675/micromamba/envs/gnn/lib/python3.10/site-packages/torch_geometric/data/collate.py:145: UserWarning: TypedStorage is deprecated. It will be removed in the future and UntypedStorage will be the only storage class. This should only matter to you if you are using storages directly.  To access UntypedStorage directly, use tensor.untyped_storage() instead of tensor.storage()\n",
      "  storage = elem.storage()._new_shared(numel)\n",
      "\u001B[36m[18:42:16 TCNTrainer] DEBUG: Epoch 3 (    0/10000): Total=   0.03912, potential_attractive=   0.00218, potential_repulsive=   0.00193, background=   0.03501 (weighted)\u001B[0m\n",
      "\u001B[36m[18:42:18 TCNTrainer] DEBUG: Epoch 3 (   10/10000): Total=   0.04028, potential_attractive=   0.00194, potential_repulsive=   0.00117, background=   0.03717 (weighted)\u001B[0m\n",
      "\u001B[36m[18:42:19 TCNTrainer] DEBUG: Epoch 3 (   20/10000): Total=   0.04027, potential_attractive=   0.00215, potential_repulsive=   0.00266, background=   0.03546 (weighted)\u001B[0m\n",
      "\u001B[36m[18:42:21 TCNTrainer] DEBUG: Epoch 3 (   30/10000): Total=   0.03891, potential_attractive=   0.00180, potential_repulsive=   0.00197, background=   0.03514 (weighted)\u001B[0m\n",
      "\u001B[36m[18:42:22 TCNTrainer] DEBUG: Epoch 3 (   40/10000): Total=   0.03948, potential_attractive=   0.00186, potential_repulsive=   0.00221, background=   0.03541 (weighted)\u001B[0m\n",
      "\u001B[36m[18:42:24 TCNTrainer] DEBUG: Epoch 3 (   50/10000): Total=   0.03902, potential_attractive=   0.00193, potential_repulsive=   0.00219, background=   0.03490 (weighted)\u001B[0m\n",
      "\u001B[36m[18:42:25 TCNTrainer] DEBUG: Epoch 3 (   60/10000): Total=   0.03914, potential_attractive=   0.00230, potential_repulsive=   0.00220, background=   0.03464 (weighted)\u001B[0m\n",
      "\u001B[36m[18:42:26 TCNTrainer] DEBUG: Epoch 3 (   70/10000): Total=   0.03912, potential_attractive=   0.00227, potential_repulsive=   0.00199, background=   0.03486 (weighted)\u001B[0m\n",
      "\u001B[36m[18:42:27 TCNTrainer] DEBUG: Epoch 3 (   80/10000): Total=   0.03998, potential_attractive=   0.00330, potential_repulsive=   0.00314, background=   0.03354 (weighted)\u001B[0m\n",
      "\u001B[36m[18:42:28 TCNTrainer] DEBUG: Epoch 3 (   90/10000): Total=   0.04039, potential_attractive=   0.00144, potential_repulsive=   0.00121, background=   0.03774 (weighted)\u001B[0m\n",
      "\u001B[36m[18:42:30 TCNTrainer] DEBUG: Epoch 3 (  100/10000): Total=   0.04080, potential_attractive=   0.00208, potential_repulsive=   0.00284, background=   0.03588 (weighted)\u001B[0m\n",
      "\u001B[36m[18:42:31 TCNTrainer] DEBUG: Epoch 3 (  110/10000): Total=   0.03870, potential_attractive=   0.00128, potential_repulsive=   0.00218, background=   0.03524 (weighted)\u001B[0m\n",
      "\u001B[36m[18:42:32 TCNTrainer] DEBUG: Epoch 3 (  120/10000): Total=   0.03925, potential_attractive=   0.00206, potential_repulsive=   0.00219, background=   0.03501 (weighted)\u001B[0m\n",
      "\u001B[36m[18:42:33 TCNTrainer] DEBUG: Epoch 3 (  130/10000): Total=   0.03949, potential_attractive=   0.00268, potential_repulsive=   0.00242, background=   0.03439 (weighted)\u001B[0m\n",
      "\u001B[36m[18:42:35 TCNTrainer] DEBUG: Epoch 3 (  140/10000): Total=   0.03885, potential_attractive=   0.00223, potential_repulsive=   0.00224, background=   0.03438 (weighted)\u001B[0m\n",
      "\u001B[36m[18:42:36 TCNTrainer] DEBUG: Epoch 3 (  150/10000): Total=   0.03974, potential_attractive=   0.00272, potential_repulsive=   0.00249, background=   0.03453 (weighted)\u001B[0m\n",
      "\u001B[36m[18:42:37 TCNTrainer] DEBUG: Epoch 3 (  160/10000): Total=   0.03934, potential_attractive=   0.00229, potential_repulsive=   0.00181, background=   0.03524 (weighted)\u001B[0m\n",
      "\u001B[36m[18:42:38 TCNTrainer] DEBUG: Epoch 3 (  170/10000): Total=   0.04032, potential_attractive=   0.00245, potential_repulsive=   0.00189, background=   0.03599 (weighted)\u001B[0m\n",
      "\u001B[36m[18:42:39 TCNTrainer] DEBUG: Epoch 3 (  180/10000): Total=   0.03892, potential_attractive=   0.00227, potential_repulsive=   0.00226, background=   0.03439 (weighted)\u001B[0m\n",
      "\u001B[36m[18:42:40 TCNTrainer] DEBUG: Epoch 3 (  190/10000): Total=   0.03770, potential_attractive=   0.00156, potential_repulsive=   0.00190, background=   0.03424 (weighted)\u001B[0m\n",
      "\u001B[36m[18:42:41 TCNTrainer] DEBUG: Epoch 3 (  200/10000): Total=   0.03788, potential_attractive=   0.00157, potential_repulsive=   0.00186, background=   0.03445 (weighted)\u001B[0m\n",
      "\u001B[36m[18:42:42 TCNTrainer] DEBUG: Epoch 3 (  210/10000): Total=   0.03837, potential_attractive=   0.00135, potential_repulsive=   0.00238, background=   0.03463 (weighted)\u001B[0m\n",
      "\u001B[36m[18:42:43 TCNTrainer] DEBUG: Epoch 3 (  220/10000): Total=   0.03914, potential_attractive=   0.00270, potential_repulsive=   0.00201, background=   0.03442 (weighted)\u001B[0m\n",
      "\u001B[36m[18:42:45 TCNTrainer] DEBUG: Epoch 3 (  230/10000): Total=   0.03961, potential_attractive=   0.00261, potential_repulsive=   0.00200, background=   0.03499 (weighted)\u001B[0m\n",
      "\u001B[36m[18:42:46 TCNTrainer] DEBUG: Epoch 3 (  240/10000): Total=   0.03801, potential_attractive=   0.00153, potential_repulsive=   0.00271, background=   0.03377 (weighted)\u001B[0m\n",
      "\u001B[36m[18:42:47 TCNTrainer] DEBUG: Epoch 3 (  250/10000): Total=   0.03803, potential_attractive=   0.00174, potential_repulsive=   0.00228, background=   0.03401 (weighted)\u001B[0m\n",
      "\u001B[36m[18:42:48 TCNTrainer] DEBUG: Epoch 3 (  260/10000): Total=   0.03902, potential_attractive=   0.00176, potential_repulsive=   0.00179, background=   0.03547 (weighted)\u001B[0m\n",
      "\u001B[36m[18:42:49 TCNTrainer] DEBUG: Epoch 3 (  270/10000): Total=   0.05068, potential_attractive=   0.00130, potential_repulsive=   0.00008, background=   0.04930 (weighted)\u001B[0m\n",
      "\u001B[36m[18:42:50 TCNTrainer] DEBUG: Epoch 3 (  280/10000): Total=   0.05089, potential_attractive=   0.00066, potential_repulsive=   0.00024, background=   0.04999 (weighted)\u001B[0m\n",
      "\u001B[36m[18:42:52 TCNTrainer] DEBUG: Epoch 3 (  290/10000): Total=   0.05054, potential_attractive=   0.00038, potential_repulsive=   0.00016, background=   0.05000 (weighted)\u001B[0m\n",
      "\u001B[36m[18:42:53 TCNTrainer] DEBUG: Epoch 3 (  300/10000): Total=   0.05041, potential_attractive=   0.00022, potential_repulsive=   0.00020, background=   0.05000 (weighted)\u001B[0m\n",
      "\u001B[36m[18:42:54 TCNTrainer] DEBUG: Epoch 3 (  310/10000): Total=   0.05029, potential_attractive=   0.00013, potential_repulsive=   0.00017, background=   0.05000 (weighted)\u001B[0m\n",
      "\u001B[36m[18:42:55 TCNTrainer] DEBUG: Epoch 3 (  320/10000): Total=   0.05032, potential_attractive=   0.00014, potential_repulsive=   0.00018, background=   0.05000 (weighted)\u001B[0m\n",
      "\u001B[36m[18:42:56 TCNTrainer] DEBUG: Epoch 3 (  330/10000): Total=   0.05027, potential_attractive=   0.00012, potential_repulsive=   0.00015, background=   0.05000 (weighted)\u001B[0m\n",
      "\u001B[36m[18:42:58 TCNTrainer] DEBUG: Epoch 3 (  340/10000): Total=   0.05026, potential_attractive=   0.00011, potential_repulsive=   0.00015, background=   0.05000 (weighted)\u001B[0m\n",
      "\u001B[36m[18:42:59 TCNTrainer] DEBUG: Epoch 3 (  350/10000): Total=   0.05024, potential_attractive=   0.00011, potential_repulsive=   0.00014, background=   0.05000 (weighted)\u001B[0m\n",
      "\u001B[36m[18:43:01 TCNTrainer] DEBUG: Epoch 3 (  360/10000): Total=   0.05022, potential_attractive=   0.00009, potential_repulsive=   0.00013, background=   0.05000 (weighted)\u001B[0m\n",
      "\u001B[36m[18:43:02 TCNTrainer] DEBUG: Epoch 3 (  370/10000): Total=   0.05022, potential_attractive=   0.00010, potential_repulsive=   0.00012, background=   0.05000 (weighted)\u001B[0m\n",
      "\u001B[36m[18:43:03 TCNTrainer] DEBUG: Epoch 3 (  380/10000): Total=   0.05022, potential_attractive=   0.00010, potential_repulsive=   0.00012, background=   0.05000 (weighted)\u001B[0m\n",
      "\u001B[36m[18:43:04 TCNTrainer] DEBUG: Epoch 3 (  390/10000): Total=   0.05021, potential_attractive=   0.00011, potential_repulsive=   0.00010, background=   0.05000 (weighted)\u001B[0m\n",
      "\u001B[36m[18:43:06 TCNTrainer] DEBUG: Epoch 3 (  400/10000): Total=   0.05021, potential_attractive=   0.00011, potential_repulsive=   0.00011, background=   0.05000 (weighted)\u001B[0m\n",
      "\u001B[36m[18:43:07 TCNTrainer] DEBUG: Epoch 3 (  410/10000): Total=   0.05021, potential_attractive=   0.00010, potential_repulsive=   0.00011, background=   0.05000 (weighted)\u001B[0m\n",
      "\u001B[36m[18:43:08 TCNTrainer] DEBUG: Epoch 3 (  420/10000): Total=   0.05021, potential_attractive=   0.00010, potential_repulsive=   0.00011, background=   0.05000 (weighted)\u001B[0m\n",
      "\u001B[36m[18:43:09 TCNTrainer] DEBUG: Epoch 3 (  430/10000): Total=   0.05020, potential_attractive=   0.00010, potential_repulsive=   0.00011, background=   0.05000 (weighted)\u001B[0m\n",
      "\u001B[36m[18:43:10 TCNTrainer] DEBUG: Epoch 3 (  440/10000): Total=   0.05018, potential_attractive=   0.00008, potential_repulsive=   0.00010, background=   0.05000 (weighted)\u001B[0m\n",
      "\u001B[36m[18:43:11 TCNTrainer] DEBUG: Epoch 3 (  450/10000): Total=   0.05022, potential_attractive=   0.00010, potential_repulsive=   0.00013, background=   0.05000 (weighted)\u001B[0m\n",
      "\u001B[36m[18:43:13 TCNTrainer] DEBUG: Epoch 3 (  460/10000): Total=   0.05013, potential_attractive=   0.00005, potential_repulsive=   0.00008, background=   0.05000 (weighted)\u001B[0m\n",
      "\u001B[36m[18:43:14 TCNTrainer] DEBUG: Epoch 3 (  470/10000): Total=   0.05019, potential_attractive=   0.00007, potential_repulsive=   0.00012, background=   0.05000 (weighted)\u001B[0m\n",
      "\u001B[36m[18:43:15 TCNTrainer] DEBUG: Epoch 3 (  480/10000): Total=   0.05019, potential_attractive=   0.00009, potential_repulsive=   0.00011, background=   0.05000 (weighted)\u001B[0m\n",
      "\u001B[36m[18:43:16 TCNTrainer] DEBUG: Epoch 3 (  490/10000): Total=   0.05017, potential_attractive=   0.00008, potential_repulsive=   0.00010, background=   0.05000 (weighted)\u001B[0m\n",
      "\u001B[36m[18:43:17 TCNTrainer] DEBUG: Epoch 3 (  500/10000): Total=   0.05019, potential_attractive=   0.00009, potential_repulsive=   0.00010, background=   0.04999 (weighted)\u001B[0m\n",
      "\u001B[36m[18:43:18 TCNTrainer] DEBUG: Epoch 3 (  510/10000): Total=   0.05016, potential_attractive=   0.00008, potential_repulsive=   0.00009, background=   0.04999 (weighted)\u001B[0m\n",
      "\u001B[36m[18:43:20 TCNTrainer] DEBUG: Epoch 3 (  520/10000): Total=   0.05017, potential_attractive=   0.00006, potential_repulsive=   0.00012, background=   0.04999 (weighted)\u001B[0m\n",
      "\u001B[36m[18:43:21 TCNTrainer] DEBUG: Epoch 3 (  530/10000): Total=   0.05014, potential_attractive=   0.00008, potential_repulsive=   0.00008, background=   0.04999 (weighted)\u001B[0m\n",
      "\u001B[36m[18:43:22 TCNTrainer] DEBUG: Epoch 3 (  540/10000): Total=   0.05016, potential_attractive=   0.00007, potential_repulsive=   0.00010, background=   0.04999 (weighted)\u001B[0m\n",
      "\u001B[36m[18:43:23 TCNTrainer] DEBUG: Epoch 3 (  550/10000): Total=   0.05014, potential_attractive=   0.00006, potential_repulsive=   0.00009, background=   0.04999 (weighted)\u001B[0m\n",
      "\u001B[36m[18:43:24 TCNTrainer] DEBUG: Epoch 3 (  560/10000): Total=   0.05014, potential_attractive=   0.00007, potential_repulsive=   0.00009, background=   0.04998 (weighted)\u001B[0m\n",
      "\u001B[36m[18:43:25 TCNTrainer] DEBUG: Epoch 3 (  570/10000): Total=   0.05012, potential_attractive=   0.00006, potential_repulsive=   0.00010, background=   0.04997 (weighted)\u001B[0m\n",
      "\u001B[36m[18:43:26 TCNTrainer] DEBUG: Epoch 3 (  580/10000): Total=   0.05012, potential_attractive=   0.00007, potential_repulsive=   0.00010, background=   0.04995 (weighted)\u001B[0m\n",
      "\u001B[36m[18:43:28 TCNTrainer] DEBUG: Epoch 3 (  590/10000): Total=   0.05008, potential_attractive=   0.00009, potential_repulsive=   0.00009, background=   0.04990 (weighted)\u001B[0m\n",
      "\u001B[36m[18:43:29 TCNTrainer] DEBUG: Epoch 3 (  600/10000): Total=   0.04984, potential_attractive=   0.00006, potential_repulsive=   0.00010, background=   0.04969 (weighted)\u001B[0m\n",
      "\u001B[36m[18:43:30 TCNTrainer] DEBUG: Epoch 3 (  610/10000): Total=   0.04909, potential_attractive=   0.00016, potential_repulsive=   0.00025, background=   0.04868 (weighted)\u001B[0m\n",
      "\u001B[36m[18:43:31 TCNTrainer] DEBUG: Epoch 3 (  620/10000): Total=   0.04812, potential_attractive=   0.00028, potential_repulsive=   0.00042, background=   0.04742 (weighted)\u001B[0m\n",
      "\u001B[36m[18:43:33 TCNTrainer] DEBUG: Epoch 3 (  630/10000): Total=   0.04709, potential_attractive=   0.00066, potential_repulsive=   0.00064, background=   0.04579 (weighted)\u001B[0m\n",
      "\u001B[36m[18:43:34 TCNTrainer] DEBUG: Epoch 3 (  640/10000): Total=   0.04643, potential_attractive=   0.00095, potential_repulsive=   0.00081, background=   0.04467 (weighted)\u001B[0m\n",
      "\u001B[36m[18:43:35 TCNTrainer] DEBUG: Epoch 3 (  650/10000): Total=   0.04625, potential_attractive=   0.00109, potential_repulsive=   0.00140, background=   0.04376 (weighted)\u001B[0m\n",
      "\u001B[36m[18:43:36 TCNTrainer] DEBUG: Epoch 3 (  660/10000): Total=   0.04474, potential_attractive=   0.00083, potential_repulsive=   0.00129, background=   0.04262 (weighted)\u001B[0m\n",
      "\u001B[36m[18:43:37 TCNTrainer] DEBUG: Epoch 3 (  670/10000): Total=   0.04482, potential_attractive=   0.00152, potential_repulsive=   0.00125, background=   0.04205 (weighted)\u001B[0m\n",
      "\u001B[36m[18:43:38 TCNTrainer] DEBUG: Epoch 3 (  680/10000): Total=   0.04457, potential_attractive=   0.00155, potential_repulsive=   0.00136, background=   0.04166 (weighted)\u001B[0m\n",
      "\u001B[36m[18:43:39 TCNTrainer] DEBUG: Epoch 3 (  690/10000): Total=   0.04295, potential_attractive=   0.00143, potential_repulsive=   0.00186, background=   0.03965 (weighted)\u001B[0m\n",
      "\u001B[36m[18:43:41 TCNTrainer] DEBUG: Epoch 3 (  700/10000): Total=   0.04182, potential_attractive=   0.00189, potential_repulsive=   0.00194, background=   0.03799 (weighted)\u001B[0m\n",
      "\u001B[36m[18:43:42 TCNTrainer] DEBUG: Epoch 3 (  710/10000): Total=   0.04202, potential_attractive=   0.00193, potential_repulsive=   0.00253, background=   0.03756 (weighted)\u001B[0m\n",
      "\u001B[36m[18:43:43 TCNTrainer] DEBUG: Epoch 3 (  720/10000): Total=   0.04079, potential_attractive=   0.00173, potential_repulsive=   0.00187, background=   0.03719 (weighted)\u001B[0m\n",
      "\u001B[36m[18:43:44 TCNTrainer] DEBUG: Epoch 3 (  730/10000): Total=   0.04170, potential_attractive=   0.00229, potential_repulsive=   0.00208, background=   0.03733 (weighted)\u001B[0m\n",
      "\u001B[36m[18:43:45 TCNTrainer] DEBUG: Epoch 3 (  740/10000): Total=   0.04065, potential_attractive=   0.00184, potential_repulsive=   0.00207, background=   0.03674 (weighted)\u001B[0m\n",
      "\u001B[36m[18:43:46 TCNTrainer] DEBUG: Epoch 3 (  750/10000): Total=   0.04101, potential_attractive=   0.00128, potential_repulsive=   0.00318, background=   0.03655 (weighted)\u001B[0m\n",
      "\u001B[36m[18:43:47 TCNTrainer] DEBUG: Epoch 3 (  760/10000): Total=   0.04055, potential_attractive=   0.00183, potential_repulsive=   0.00211, background=   0.03662 (weighted)\u001B[0m\n",
      "\u001B[36m[18:43:48 TCNTrainer] DEBUG: Epoch 3 (  770/10000): Total=   0.03980, potential_attractive=   0.00181, potential_repulsive=   0.00207, background=   0.03592 (weighted)\u001B[0m\n",
      "\u001B[36m[18:43:50 TCNTrainer] DEBUG: Epoch 3 (  780/10000): Total=   0.04070, potential_attractive=   0.00241, potential_repulsive=   0.00225, background=   0.03604 (weighted)\u001B[0m\n",
      "\u001B[36m[18:43:51 TCNTrainer] DEBUG: Epoch 3 (  790/10000): Total=   0.04030, potential_attractive=   0.00156, potential_repulsive=   0.00112, background=   0.03762 (weighted)\u001B[0m\n",
      "\u001B[36m[18:43:52 TCNTrainer] DEBUG: Epoch 3 (  800/10000): Total=   0.04071, potential_attractive=   0.00146, potential_repulsive=   0.00292, background=   0.03633 (weighted)\u001B[0m\n",
      "\u001B[36m[18:43:53 TCNTrainer] DEBUG: Epoch 3 (  810/10000): Total=   0.04030, potential_attractive=   0.00144, potential_repulsive=   0.00254, background=   0.03632 (weighted)\u001B[0m\n",
      "\u001B[36m[18:43:54 TCNTrainer] DEBUG: Epoch 3 (  820/10000): Total=   0.04128, potential_attractive=   0.00229, potential_repulsive=   0.00263, background=   0.03636 (weighted)\u001B[0m\n",
      "\u001B[36m[18:43:55 TCNTrainer] DEBUG: Epoch 3 (  830/10000): Total=   0.03984, potential_attractive=   0.00188, potential_repulsive=   0.00200, background=   0.03596 (weighted)\u001B[0m\n",
      "\u001B[36m[18:43:57 TCNTrainer] DEBUG: Epoch 3 (  840/10000): Total=   0.03937, potential_attractive=   0.00118, potential_repulsive=   0.00235, background=   0.03584 (weighted)\u001B[0m\n",
      "\u001B[36m[18:43:58 TCNTrainer] DEBUG: Epoch 3 (  850/10000): Total=   0.03928, potential_attractive=   0.00197, potential_repulsive=   0.00166, background=   0.03565 (weighted)\u001B[0m\n",
      "\u001B[36m[18:43:59 TCNTrainer] DEBUG: Epoch 3 (  860/10000): Total=   0.03980, potential_attractive=   0.00175, potential_repulsive=   0.00258, background=   0.03546 (weighted)\u001B[0m\n",
      "\u001B[36m[18:44:00 TCNTrainer] DEBUG: Epoch 3 (  870/10000): Total=   0.04040, potential_attractive=   0.00204, potential_repulsive=   0.00211, background=   0.03625 (weighted)\u001B[0m\n",
      "\u001B[36m[18:44:01 TCNTrainer] DEBUG: Epoch 3 (  880/10000): Total=   0.04054, potential_attractive=   0.00199, potential_repulsive=   0.00349, background=   0.03506 (weighted)\u001B[0m\n",
      "\u001B[36m[18:44:02 TCNTrainer] DEBUG: Epoch 3 (  890/10000): Total=   0.03984, potential_attractive=   0.00202, potential_repulsive=   0.00198, background=   0.03585 (weighted)\u001B[0m\n",
      "\u001B[36m[18:44:04 TCNTrainer] DEBUG: Epoch 3 (  900/10000): Total=   0.03960, potential_attractive=   0.00146, potential_repulsive=   0.00251, background=   0.03563 (weighted)\u001B[0m\n",
      "\u001B[36m[18:44:05 TCNTrainer] DEBUG: Epoch 3 (  910/10000): Total=   0.03961, potential_attractive=   0.00196, potential_repulsive=   0.00238, background=   0.03527 (weighted)\u001B[0m\n",
      "\u001B[36m[18:44:06 TCNTrainer] DEBUG: Epoch 3 (  920/10000): Total=   0.04137, potential_attractive=   0.00161, potential_repulsive=   0.00140, background=   0.03836 (weighted)\u001B[0m\n",
      "\u001B[36m[18:44:07 TCNTrainer] DEBUG: Epoch 3 (  930/10000): Total=   0.04002, potential_attractive=   0.00137, potential_repulsive=   0.00167, background=   0.03698 (weighted)\u001B[0m\n",
      "\u001B[36m[18:44:09 TCNTrainer] DEBUG: Epoch 3 (  940/10000): Total=   0.04152, potential_attractive=   0.00324, potential_repulsive=   0.00271, background=   0.03557 (weighted)\u001B[0m\n",
      "\u001B[36m[18:44:10 TCNTrainer] DEBUG: Epoch 3 (  950/10000): Total=   0.03949, potential_attractive=   0.00170, potential_repulsive=   0.00200, background=   0.03578 (weighted)\u001B[0m\n",
      "\u001B[36m[18:44:11 TCNTrainer] DEBUG: Epoch 3 (  960/10000): Total=   0.03926, potential_attractive=   0.00125, potential_repulsive=   0.00267, background=   0.03535 (weighted)\u001B[0m\n",
      "\u001B[36m[18:44:12 TCNTrainer] DEBUG: Epoch 3 (  970/10000): Total=   0.03894, potential_attractive=   0.00168, potential_repulsive=   0.00204, background=   0.03523 (weighted)\u001B[0m\n",
      "\u001B[36m[18:44:14 TCNTrainer] DEBUG: Epoch 3 (  980/10000): Total=   0.04266, potential_attractive=   0.00367, potential_repulsive=   0.00213, background=   0.03687 (weighted)\u001B[0m\n",
      "\u001B[36m[18:44:15 TCNTrainer] DEBUG: Epoch 3 (  990/10000): Total=   0.04147, potential_attractive=   0.00175, potential_repulsive=   0.00128, background=   0.03844 (weighted)\u001B[0m\n",
      "\u001B[36m[18:44:16 TCNTrainer] DEBUG: Epoch 3 ( 1000/10000): Total=   0.04062, potential_attractive=   0.00148, potential_repulsive=   0.00242, background=   0.03672 (weighted)\u001B[0m\n",
      "\u001B[36m[18:44:17 TCNTrainer] DEBUG: Epoch 3 ( 1010/10000): Total=   0.04058, potential_attractive=   0.00185, potential_repulsive=   0.00245, background=   0.03629 (weighted)\u001B[0m\n",
      "\u001B[36m[18:44:19 TCNTrainer] DEBUG: Epoch 3 ( 1020/10000): Total=   0.03982, potential_attractive=   0.00169, potential_repulsive=   0.00231, background=   0.03581 (weighted)\u001B[0m\n",
      "\u001B[36m[18:44:20 TCNTrainer] DEBUG: Epoch 3 ( 1030/10000): Total=   0.03951, potential_attractive=   0.00153, potential_repulsive=   0.00260, background=   0.03537 (weighted)\u001B[0m\n",
      "\u001B[36m[18:44:21 TCNTrainer] DEBUG: Epoch 3 ( 1040/10000): Total=   0.04077, potential_attractive=   0.00361, potential_repulsive=   0.00275, background=   0.03441 (weighted)\u001B[0m\n",
      "\u001B[36m[18:44:22 TCNTrainer] DEBUG: Epoch 3 ( 1050/10000): Total=   0.03914, potential_attractive=   0.00170, potential_repulsive=   0.00200, background=   0.03544 (weighted)\u001B[0m\n",
      "\u001B[36m[18:44:23 TCNTrainer] DEBUG: Epoch 3 ( 1060/10000): Total=   0.03971, potential_attractive=   0.00222, potential_repulsive=   0.00292, background=   0.03456 (weighted)\u001B[0m\n",
      "\u001B[36m[18:44:24 TCNTrainer] DEBUG: Epoch 3 ( 1070/10000): Total=   0.04563, potential_attractive=   0.00391, potential_repulsive=   0.00090, background=   0.04082 (weighted)\u001B[0m\n",
      "\u001B[36m[18:44:26 TCNTrainer] DEBUG: Epoch 3 ( 1080/10000): Total=   0.04303, potential_attractive=   0.00133, potential_repulsive=   0.00126, background=   0.04044 (weighted)\u001B[0m\n",
      "\u001B[36m[18:44:27 TCNTrainer] DEBUG: Epoch 3 ( 1090/10000): Total=   0.04108, potential_attractive=   0.00108, potential_repulsive=   0.00205, background=   0.03795 (weighted)\u001B[0m\n",
      "\u001B[36m[18:44:28 TCNTrainer] DEBUG: Epoch 3 ( 1100/10000): Total=   0.03926, potential_attractive=   0.00116, potential_repulsive=   0.00147, background=   0.03663 (weighted)\u001B[0m\n",
      "\u001B[36m[18:44:29 TCNTrainer] DEBUG: Epoch 3 ( 1110/10000): Total=   0.03949, potential_attractive=   0.00107, potential_repulsive=   0.00247, background=   0.03595 (weighted)\u001B[0m\n",
      "\u001B[36m[18:44:30 TCNTrainer] DEBUG: Epoch 3 ( 1120/10000): Total=   0.04063, potential_attractive=   0.00203, potential_repulsive=   0.00289, background=   0.03571 (weighted)\u001B[0m\n",
      "\u001B[36m[18:44:31 TCNTrainer] DEBUG: Epoch 3 ( 1130/10000): Total=   0.03920, potential_attractive=   0.00124, potential_repulsive=   0.00221, background=   0.03575 (weighted)\u001B[0m\n",
      "\u001B[36m[18:44:33 TCNTrainer] DEBUG: Epoch 3 ( 1140/10000): Total=   0.04008, potential_attractive=   0.00170, potential_repulsive=   0.00255, background=   0.03583 (weighted)\u001B[0m\n",
      "\u001B[36m[18:44:34 TCNTrainer] DEBUG: Epoch 3 ( 1150/10000): Total=   0.03887, potential_attractive=   0.00169, potential_repulsive=   0.00226, background=   0.03492 (weighted)\u001B[0m\n",
      "\u001B[36m[18:44:35 TCNTrainer] DEBUG: Epoch 3 ( 1160/10000): Total=   0.03882, potential_attractive=   0.00115, potential_repulsive=   0.00246, background=   0.03520 (weighted)\u001B[0m\n",
      "\u001B[36m[18:44:36 TCNTrainer] DEBUG: Epoch 3 ( 1170/10000): Total=   0.03910, potential_attractive=   0.00195, potential_repulsive=   0.00235, background=   0.03480 (weighted)\u001B[0m\n",
      "\u001B[36m[18:44:37 TCNTrainer] DEBUG: Epoch 3 ( 1180/10000): Total=   0.03807, potential_attractive=   0.00162, potential_repulsive=   0.00180, background=   0.03464 (weighted)\u001B[0m\n",
      "\u001B[36m[18:44:38 TCNTrainer] DEBUG: Epoch 3 ( 1190/10000): Total=   0.03917, potential_attractive=   0.00217, potential_repulsive=   0.00241, background=   0.03459 (weighted)\u001B[0m\n",
      "\u001B[36m[18:44:39 TCNTrainer] DEBUG: Epoch 3 ( 1200/10000): Total=   0.03998, potential_attractive=   0.00231, potential_repulsive=   0.00161, background=   0.03607 (weighted)\u001B[0m\n",
      "\u001B[36m[18:44:40 TCNTrainer] DEBUG: Epoch 3 ( 1210/10000): Total=   0.03937, potential_attractive=   0.00197, potential_repulsive=   0.00211, background=   0.03529 (weighted)\u001B[0m\n",
      "\u001B[36m[18:44:42 TCNTrainer] DEBUG: Epoch 3 ( 1220/10000): Total=   0.03832, potential_attractive=   0.00137, potential_repulsive=   0.00250, background=   0.03445 (weighted)\u001B[0m\n",
      "\u001B[36m[18:44:43 TCNTrainer] DEBUG: Epoch 3 ( 1230/10000): Total=   0.03939, potential_attractive=   0.00193, potential_repulsive=   0.00186, background=   0.03559 (weighted)\u001B[0m\n",
      "\u001B[36m[18:44:44 TCNTrainer] DEBUG: Epoch 3 ( 1240/10000): Total=   0.03887, potential_attractive=   0.00182, potential_repulsive=   0.00196, background=   0.03509 (weighted)\u001B[0m\n",
      "\u001B[36m[18:44:45 TCNTrainer] DEBUG: Epoch 3 ( 1250/10000): Total=   0.03901, potential_attractive=   0.00202, potential_repulsive=   0.00200, background=   0.03499 (weighted)\u001B[0m\n",
      "\u001B[36m[18:44:46 TCNTrainer] DEBUG: Epoch 3 ( 1260/10000): Total=   0.04117, potential_attractive=   0.00296, potential_repulsive=   0.00152, background=   0.03669 (weighted)\u001B[0m\n",
      "\u001B[36m[18:44:47 TCNTrainer] DEBUG: Epoch 3 ( 1270/10000): Total=   0.04041, potential_attractive=   0.00180, potential_repulsive=   0.00233, background=   0.03629 (weighted)\u001B[0m\n",
      "\u001B[36m[18:44:48 TCNTrainer] DEBUG: Epoch 3 ( 1280/10000): Total=   0.03958, potential_attractive=   0.00194, potential_repulsive=   0.00215, background=   0.03549 (weighted)\u001B[0m\n",
      "\u001B[36m[18:44:50 TCNTrainer] DEBUG: Epoch 3 ( 1290/10000): Total=   0.03943, potential_attractive=   0.00146, potential_repulsive=   0.00283, background=   0.03514 (weighted)\u001B[0m\n",
      "\u001B[36m[18:44:51 TCNTrainer] DEBUG: Epoch 3 ( 1300/10000): Total=   0.03858, potential_attractive=   0.00143, potential_repulsive=   0.00242, background=   0.03473 (weighted)\u001B[0m\n",
      "\u001B[36m[18:44:52 TCNTrainer] DEBUG: Epoch 3 ( 1310/10000): Total=   0.03978, potential_attractive=   0.00283, potential_repulsive=   0.00272, background=   0.03423 (weighted)\u001B[0m\n",
      "\u001B[36m[18:44:53 TCNTrainer] DEBUG: Epoch 3 ( 1320/10000): Total=   0.03943, potential_attractive=   0.00212, potential_repulsive=   0.00232, background=   0.03499 (weighted)\u001B[0m\n",
      "\u001B[36m[18:44:54 TCNTrainer] DEBUG: Epoch 3 ( 1330/10000): Total=   0.03919, potential_attractive=   0.00224, potential_repulsive=   0.00226, background=   0.03470 (weighted)\u001B[0m\n",
      "\u001B[36m[18:44:55 TCNTrainer] DEBUG: Epoch 3 ( 1340/10000): Total=   0.03895, potential_attractive=   0.00203, potential_repulsive=   0.00228, background=   0.03463 (weighted)\u001B[0m\n",
      "\u001B[36m[18:44:56 TCNTrainer] DEBUG: Epoch 3 ( 1350/10000): Total=   0.03747, potential_attractive=   0.00190, potential_repulsive=   0.00185, background=   0.03372 (weighted)\u001B[0m\n",
      "\u001B[36m[18:44:57 TCNTrainer] DEBUG: Epoch 3 ( 1360/10000): Total=   0.04026, potential_attractive=   0.00280, potential_repulsive=   0.00153, background=   0.03593 (weighted)\u001B[0m\n",
      "\u001B[36m[18:44:59 TCNTrainer] DEBUG: Epoch 3 ( 1370/10000): Total=   0.04118, potential_attractive=   0.00246, potential_repulsive=   0.00173, background=   0.03700 (weighted)\u001B[0m\n",
      "\u001B[36m[18:45:00 TCNTrainer] DEBUG: Epoch 3 ( 1380/10000): Total=   0.04039, potential_attractive=   0.00165, potential_repulsive=   0.00227, background=   0.03647 (weighted)\u001B[0m\n",
      "\u001B[36m[18:45:01 TCNTrainer] DEBUG: Epoch 3 ( 1390/10000): Total=   0.04009, potential_attractive=   0.00158, potential_repulsive=   0.00253, background=   0.03598 (weighted)\u001B[0m\n",
      "\u001B[36m[18:45:02 TCNTrainer] DEBUG: Epoch 3 ( 1400/10000): Total=   0.03847, potential_attractive=   0.00163, potential_repulsive=   0.00214, background=   0.03470 (weighted)\u001B[0m\n",
      "\u001B[36m[18:45:03 TCNTrainer] DEBUG: Epoch 3 ( 1410/10000): Total=   0.03819, potential_attractive=   0.00156, potential_repulsive=   0.00227, background=   0.03436 (weighted)\u001B[0m\n",
      "\u001B[36m[18:45:04 TCNTrainer] DEBUG: Epoch 3 ( 1420/10000): Total=   0.03932, potential_attractive=   0.00228, potential_repulsive=   0.00251, background=   0.03453 (weighted)\u001B[0m\n",
      "\u001B[36m[18:45:06 TCNTrainer] DEBUG: Epoch 3 ( 1430/10000): Total=   0.04001, potential_attractive=   0.00222, potential_repulsive=   0.00224, background=   0.03554 (weighted)\u001B[0m\n",
      "\u001B[36m[18:45:07 TCNTrainer] DEBUG: Epoch 3 ( 1440/10000): Total=   0.03909, potential_attractive=   0.00163, potential_repulsive=   0.00261, background=   0.03485 (weighted)\u001B[0m\n",
      "\u001B[36m[18:45:08 TCNTrainer] DEBUG: Epoch 3 ( 1450/10000): Total=   0.03977, potential_attractive=   0.00300, potential_repulsive=   0.00214, background=   0.03463 (weighted)\u001B[0m\n",
      "\u001B[36m[18:45:09 TCNTrainer] DEBUG: Epoch 3 ( 1460/10000): Total=   0.04007, potential_attractive=   0.00253, potential_repulsive=   0.00239, background=   0.03516 (weighted)\u001B[0m\n",
      "\u001B[36m[18:45:10 TCNTrainer] DEBUG: Epoch 3 ( 1470/10000): Total=   0.03838, potential_attractive=   0.00127, potential_repulsive=   0.00229, background=   0.03482 (weighted)\u001B[0m\n",
      "\u001B[36m[18:45:11 TCNTrainer] DEBUG: Epoch 3 ( 1480/10000): Total=   0.03970, potential_attractive=   0.00222, potential_repulsive=   0.00286, background=   0.03462 (weighted)\u001B[0m\n",
      "\u001B[36m[18:45:12 TCNTrainer] DEBUG: Epoch 3 ( 1490/10000): Total=   0.03879, potential_attractive=   0.00227, potential_repulsive=   0.00209, background=   0.03443 (weighted)\u001B[0m\n",
      "\u001B[36m[18:45:14 TCNTrainer] DEBUG: Epoch 3 ( 1500/10000): Total=   0.03895, potential_attractive=   0.00198, potential_repulsive=   0.00203, background=   0.03494 (weighted)\u001B[0m\n",
      "\u001B[36m[18:45:15 TCNTrainer] DEBUG: Epoch 3 ( 1510/10000): Total=   0.03889, potential_attractive=   0.00194, potential_repulsive=   0.00228, background=   0.03467 (weighted)\u001B[0m\n",
      "\u001B[36m[18:45:16 TCNTrainer] DEBUG: Epoch 3 ( 1520/10000): Total=   0.03963, potential_attractive=   0.00266, potential_repulsive=   0.00248, background=   0.03449 (weighted)\u001B[0m\n",
      "\u001B[36m[18:45:17 TCNTrainer] DEBUG: Epoch 3 ( 1530/10000): Total=   0.03843, potential_attractive=   0.00263, potential_repulsive=   0.00211, background=   0.03370 (weighted)\u001B[0m\n",
      "\u001B[36m[18:45:18 TCNTrainer] DEBUG: Epoch 3 ( 1540/10000): Total=   0.04016, potential_attractive=   0.00230, potential_repulsive=   0.00216, background=   0.03570 (weighted)\u001B[0m\n",
      "\u001B[36m[18:45:19 TCNTrainer] DEBUG: Epoch 3 ( 1550/10000): Total=   0.03918, potential_attractive=   0.00150, potential_repulsive=   0.00209, background=   0.03558 (weighted)\u001B[0m\n",
      "\u001B[36m[18:45:21 TCNTrainer] DEBUG: Epoch 3 ( 1560/10000): Total=   0.03976, potential_attractive=   0.00328, potential_repulsive=   0.00211, background=   0.03436 (weighted)\u001B[0m\n",
      "\u001B[36m[18:45:22 TCNTrainer] DEBUG: Epoch 3 ( 1570/10000): Total=   0.03997, potential_attractive=   0.00298, potential_repulsive=   0.00248, background=   0.03451 (weighted)\u001B[0m\n",
      "\u001B[36m[18:45:23 TCNTrainer] DEBUG: Epoch 3 ( 1580/10000): Total=   0.03896, potential_attractive=   0.00197, potential_repulsive=   0.00217, background=   0.03482 (weighted)\u001B[0m\n",
      "\u001B[36m[18:45:24 TCNTrainer] DEBUG: Epoch 3 ( 1590/10000): Total=   0.03891, potential_attractive=   0.00187, potential_repulsive=   0.00228, background=   0.03476 (weighted)\u001B[0m\n",
      "\u001B[36m[18:45:26 TCNTrainer] DEBUG: Epoch 3 ( 1600/10000): Total=   0.03888, potential_attractive=   0.00247, potential_repulsive=   0.00219, background=   0.03422 (weighted)\u001B[0m\n",
      "\u001B[36m[18:45:27 TCNTrainer] DEBUG: Epoch 3 ( 1610/10000): Total=   0.03868, potential_attractive=   0.00214, potential_repulsive=   0.00210, background=   0.03444 (weighted)\u001B[0m\n",
      "\u001B[36m[18:45:29 TCNTrainer] DEBUG: Epoch 3 ( 1620/10000): Total=   0.03987, potential_attractive=   0.00273, potential_repulsive=   0.00292, background=   0.03422 (weighted)\u001B[0m\n",
      "\u001B[36m[18:45:30 TCNTrainer] DEBUG: Epoch 3 ( 1630/10000): Total=   0.03864, potential_attractive=   0.00244, potential_repulsive=   0.00171, background=   0.03449 (weighted)\u001B[0m\n",
      "\u001B[36m[18:45:31 TCNTrainer] DEBUG: Epoch 3 ( 1640/10000): Total=   0.03959, potential_attractive=   0.00246, potential_repulsive=   0.00299, background=   0.03414 (weighted)\u001B[0m\n",
      "\u001B[36m[18:45:32 TCNTrainer] DEBUG: Epoch 3 ( 1650/10000): Total=   0.04022, potential_attractive=   0.00405, potential_repulsive=   0.00178, background=   0.03439 (weighted)\u001B[0m\n",
      "\u001B[36m[18:45:33 TCNTrainer] DEBUG: Epoch 3 ( 1660/10000): Total=   0.03859, potential_attractive=   0.00159, potential_repulsive=   0.00267, background=   0.03433 (weighted)\u001B[0m\n",
      "\u001B[36m[18:45:34 TCNTrainer] DEBUG: Epoch 3 ( 1670/10000): Total=   0.03792, potential_attractive=   0.00157, potential_repulsive=   0.00182, background=   0.03452 (weighted)\u001B[0m\n",
      "\u001B[36m[18:45:35 TCNTrainer] DEBUG: Epoch 3 ( 1680/10000): Total=   0.03917, potential_attractive=   0.00178, potential_repulsive=   0.00256, background=   0.03483 (weighted)\u001B[0m\n",
      "\u001B[36m[18:45:37 TCNTrainer] DEBUG: Epoch 3 ( 1690/10000): Total=   0.03945, potential_attractive=   0.00216, potential_repulsive=   0.00230, background=   0.03498 (weighted)\u001B[0m\n",
      "\u001B[36m[18:45:38 TCNTrainer] DEBUG: Epoch 3 ( 1700/10000): Total=   0.03938, potential_attractive=   0.00348, potential_repulsive=   0.00180, background=   0.03411 (weighted)\u001B[0m\n",
      "\u001B[36m[18:45:39 TCNTrainer] DEBUG: Epoch 3 ( 1710/10000): Total=   0.03833, potential_attractive=   0.00197, potential_repulsive=   0.00156, background=   0.03480 (weighted)\u001B[0m\n",
      "\u001B[36m[18:45:40 TCNTrainer] DEBUG: Epoch 3 ( 1720/10000): Total=   0.03952, potential_attractive=   0.00233, potential_repulsive=   0.00239, background=   0.03480 (weighted)\u001B[0m\n",
      "\u001B[36m[18:45:41 TCNTrainer] DEBUG: Epoch 3 ( 1730/10000): Total=   0.03879, potential_attractive=   0.00197, potential_repulsive=   0.00243, background=   0.03439 (weighted)\u001B[0m\n",
      "\u001B[36m[18:45:42 TCNTrainer] DEBUG: Epoch 3 ( 1740/10000): Total=   0.03907, potential_attractive=   0.00226, potential_repulsive=   0.00252, background=   0.03429 (weighted)\u001B[0m\n",
      "\u001B[36m[18:45:43 TCNTrainer] DEBUG: Epoch 3 ( 1750/10000): Total=   0.03945, potential_attractive=   0.00221, potential_repulsive=   0.00276, background=   0.03447 (weighted)\u001B[0m\n",
      "\u001B[36m[18:45:45 TCNTrainer] DEBUG: Epoch 3 ( 1760/10000): Total=   0.03991, potential_attractive=   0.00270, potential_repulsive=   0.00239, background=   0.03482 (weighted)\u001B[0m\n",
      "\u001B[36m[18:45:46 TCNTrainer] DEBUG: Epoch 3 ( 1770/10000): Total=   0.03798, potential_attractive=   0.00187, potential_repulsive=   0.00252, background=   0.03359 (weighted)\u001B[0m\n",
      "\u001B[36m[18:45:47 TCNTrainer] DEBUG: Epoch 3 ( 1780/10000): Total=   0.03950, potential_attractive=   0.00251, potential_repulsive=   0.00271, background=   0.03429 (weighted)\u001B[0m\n",
      "\u001B[36m[18:45:48 TCNTrainer] DEBUG: Epoch 3 ( 1790/10000): Total=   0.03877, potential_attractive=   0.00163, potential_repulsive=   0.00291, background=   0.03423 (weighted)\u001B[0m\n",
      "\u001B[36m[18:45:49 TCNTrainer] DEBUG: Epoch 3 ( 1800/10000): Total=   0.04035, potential_attractive=   0.00340, potential_repulsive=   0.00233, background=   0.03462 (weighted)\u001B[0m\n",
      "\u001B[36m[18:45:50 TCNTrainer] DEBUG: Epoch 3 ( 1810/10000): Total=   0.04058, potential_attractive=   0.00297, potential_repulsive=   0.00221, background=   0.03540 (weighted)\u001B[0m\n",
      "\u001B[36m[18:45:52 TCNTrainer] DEBUG: Epoch 3 ( 1820/10000): Total=   0.03944, potential_attractive=   0.00219, potential_repulsive=   0.00204, background=   0.03522 (weighted)\u001B[0m\n",
      "\u001B[36m[18:45:53 TCNTrainer] DEBUG: Epoch 3 ( 1830/10000): Total=   0.03830, potential_attractive=   0.00163, potential_repulsive=   0.00215, background=   0.03452 (weighted)\u001B[0m\n",
      "\u001B[36m[18:45:54 TCNTrainer] DEBUG: Epoch 3 ( 1840/10000): Total=   0.03877, potential_attractive=   0.00191, potential_repulsive=   0.00291, background=   0.03395 (weighted)\u001B[0m\n",
      "\u001B[36m[18:45:55 TCNTrainer] DEBUG: Epoch 3 ( 1850/10000): Total=   0.04000, potential_attractive=   0.00300, potential_repulsive=   0.00208, background=   0.03492 (weighted)\u001B[0m\n",
      "\u001B[36m[18:45:56 TCNTrainer] DEBUG: Epoch 3 ( 1860/10000): Total=   0.03838, potential_attractive=   0.00178, potential_repulsive=   0.00268, background=   0.03392 (weighted)\u001B[0m\n",
      "\u001B[36m[18:45:57 TCNTrainer] DEBUG: Epoch 3 ( 1870/10000): Total=   0.03901, potential_attractive=   0.00218, potential_repulsive=   0.00279, background=   0.03404 (weighted)\u001B[0m\n",
      "\u001B[36m[18:45:58 TCNTrainer] DEBUG: Epoch 3 ( 1880/10000): Total=   0.03896, potential_attractive=   0.00170, potential_repulsive=   0.00320, background=   0.03406 (weighted)\u001B[0m\n",
      "\u001B[36m[18:46:00 TCNTrainer] DEBUG: Epoch 3 ( 1890/10000): Total=   0.03946, potential_attractive=   0.00236, potential_repulsive=   0.00188, background=   0.03522 (weighted)\u001B[0m\n",
      "\u001B[36m[18:46:01 TCNTrainer] DEBUG: Epoch 3 ( 1900/10000): Total=   0.03859, potential_attractive=   0.00153, potential_repulsive=   0.00211, background=   0.03494 (weighted)\u001B[0m\n",
      "\u001B[36m[18:46:02 TCNTrainer] DEBUG: Epoch 3 ( 1910/10000): Total=   0.03903, potential_attractive=   0.00207, potential_repulsive=   0.00282, background=   0.03414 (weighted)\u001B[0m\n",
      "\u001B[36m[18:46:03 TCNTrainer] DEBUG: Epoch 3 ( 1920/10000): Total=   0.03827, potential_attractive=   0.00159, potential_repulsive=   0.00244, background=   0.03424 (weighted)\u001B[0m\n",
      "\u001B[36m[18:46:04 TCNTrainer] DEBUG: Epoch 3 ( 1930/10000): Total=   0.04082, potential_attractive=   0.00402, potential_repulsive=   0.00317, background=   0.03364 (weighted)\u001B[0m\n",
      "\u001B[36m[18:46:05 TCNTrainer] DEBUG: Epoch 3 ( 1940/10000): Total=   0.03883, potential_attractive=   0.00165, potential_repulsive=   0.00208, background=   0.03510 (weighted)\u001B[0m\n",
      "\u001B[36m[18:46:07 TCNTrainer] DEBUG: Epoch 3 ( 1950/10000): Total=   0.03827, potential_attractive=   0.00150, potential_repulsive=   0.00193, background=   0.03484 (weighted)\u001B[0m\n",
      "\u001B[36m[18:46:08 TCNTrainer] DEBUG: Epoch 3 ( 1960/10000): Total=   0.03844, potential_attractive=   0.00178, potential_repulsive=   0.00224, background=   0.03442 (weighted)\u001B[0m\n",
      "\u001B[36m[18:46:09 TCNTrainer] DEBUG: Epoch 3 ( 1970/10000): Total=   0.03801, potential_attractive=   0.00212, potential_repulsive=   0.00240, background=   0.03349 (weighted)\u001B[0m\n",
      "\u001B[36m[18:46:10 TCNTrainer] DEBUG: Epoch 3 ( 1980/10000): Total=   0.03889, potential_attractive=   0.00176, potential_repulsive=   0.00265, background=   0.03447 (weighted)\u001B[0m\n",
      "\u001B[36m[18:46:11 TCNTrainer] DEBUG: Epoch 3 ( 1990/10000): Total=   0.03803, potential_attractive=   0.00176, potential_repulsive=   0.00236, background=   0.03391 (weighted)\u001B[0m\n",
      "\u001B[36m[18:46:12 TCNTrainer] DEBUG: Epoch 3 ( 2000/10000): Total=   0.03776, potential_attractive=   0.00197, potential_repulsive=   0.00226, background=   0.03353 (weighted)\u001B[0m\n",
      "\u001B[36m[18:46:13 TCNTrainer] DEBUG: Epoch 3 ( 2010/10000): Total=   0.04376, potential_attractive=   0.00787, potential_repulsive=   0.00268, background=   0.03321 (weighted)\u001B[0m\n",
      "\u001B[36m[18:46:15 TCNTrainer] DEBUG: Epoch 3 ( 2020/10000): Total=   0.04120, potential_attractive=   0.00316, potential_repulsive=   0.00220, background=   0.03584 (weighted)\u001B[0m\n",
      "\u001B[36m[18:46:16 TCNTrainer] DEBUG: Epoch 3 ( 2030/10000): Total=   0.03906, potential_attractive=   0.00190, potential_repulsive=   0.00223, background=   0.03492 (weighted)\u001B[0m\n",
      "\u001B[36m[18:46:17 TCNTrainer] DEBUG: Epoch 3 ( 2040/10000): Total=   0.03852, potential_attractive=   0.00108, potential_repulsive=   0.00257, background=   0.03487 (weighted)\u001B[0m\n",
      "\u001B[36m[18:46:18 TCNTrainer] DEBUG: Epoch 3 ( 2050/10000): Total=   0.03846, potential_attractive=   0.00128, potential_repulsive=   0.00232, background=   0.03487 (weighted)\u001B[0m\n",
      "\u001B[36m[18:46:19 TCNTrainer] DEBUG: Epoch 3 ( 2060/10000): Total=   0.04068, potential_attractive=   0.00135, potential_repulsive=   0.00125, background=   0.03808 (weighted)\u001B[0m\n",
      "\u001B[36m[18:46:20 TCNTrainer] DEBUG: Epoch 3 ( 2070/10000): Total=   0.04183, potential_attractive=   0.00127, potential_repulsive=   0.00134, background=   0.03922 (weighted)\u001B[0m\n",
      "\u001B[36m[18:46:22 TCNTrainer] DEBUG: Epoch 3 ( 2080/10000): Total=   0.04062, potential_attractive=   0.00206, potential_repulsive=   0.00245, background=   0.03610 (weighted)\u001B[0m\n",
      "\u001B[36m[18:46:23 TCNTrainer] DEBUG: Epoch 3 ( 2090/10000): Total=   0.03927, potential_attractive=   0.00264, potential_repulsive=   0.00226, background=   0.03437 (weighted)\u001B[0m\n",
      "\u001B[36m[18:46:24 TCNTrainer] DEBUG: Epoch 3 ( 2100/10000): Total=   0.03924, potential_attractive=   0.00163, potential_repulsive=   0.00284, background=   0.03478 (weighted)\u001B[0m\n",
      "\u001B[36m[18:46:25 TCNTrainer] DEBUG: Epoch 3 ( 2110/10000): Total=   0.03916, potential_attractive=   0.00139, potential_repulsive=   0.00303, background=   0.03474 (weighted)\u001B[0m\n",
      "\u001B[36m[18:46:26 TCNTrainer] DEBUG: Epoch 3 ( 2120/10000): Total=   0.03735, potential_attractive=   0.00170, potential_repulsive=   0.00230, background=   0.03335 (weighted)\u001B[0m\n",
      "\u001B[36m[18:46:27 TCNTrainer] DEBUG: Epoch 3 ( 2130/10000): Total=   0.03897, potential_attractive=   0.00248, potential_repulsive=   0.00231, background=   0.03418 (weighted)\u001B[0m\n",
      "\u001B[36m[18:46:29 TCNTrainer] DEBUG: Epoch 3 ( 2140/10000): Total=   0.03874, potential_attractive=   0.00129, potential_repulsive=   0.00213, background=   0.03532 (weighted)\u001B[0m\n",
      "\u001B[36m[18:46:30 TCNTrainer] DEBUG: Epoch 3 ( 2150/10000): Total=   0.03798, potential_attractive=   0.00152, potential_repulsive=   0.00289, background=   0.03357 (weighted)\u001B[0m\n",
      "\u001B[36m[18:46:31 TCNTrainer] DEBUG: Epoch 3 ( 2160/10000): Total=   0.03779, potential_attractive=   0.00184, potential_repulsive=   0.00235, background=   0.03360 (weighted)\u001B[0m\n",
      "\u001B[36m[18:46:32 TCNTrainer] DEBUG: Epoch 3 ( 2170/10000): Total=   0.03959, potential_attractive=   0.00197, potential_repulsive=   0.00276, background=   0.03487 (weighted)\u001B[0m\n",
      "\u001B[36m[18:46:33 TCNTrainer] DEBUG: Epoch 3 ( 2180/10000): Total=   0.03851, potential_attractive=   0.00181, potential_repulsive=   0.00220, background=   0.03450 (weighted)\u001B[0m\n",
      "\u001B[36m[18:46:34 TCNTrainer] DEBUG: Epoch 3 ( 2190/10000): Total=   0.03839, potential_attractive=   0.00199, potential_repulsive=   0.00193, background=   0.03447 (weighted)\u001B[0m\n",
      "\u001B[36m[18:46:35 TCNTrainer] DEBUG: Epoch 3 ( 2200/10000): Total=   0.03769, potential_attractive=   0.00158, potential_repulsive=   0.00221, background=   0.03390 (weighted)\u001B[0m\n",
      "\u001B[36m[18:46:36 TCNTrainer] DEBUG: Epoch 3 ( 2210/10000): Total=   0.03888, potential_attractive=   0.00216, potential_repulsive=   0.00222, background=   0.03450 (weighted)\u001B[0m\n",
      "\u001B[36m[18:46:38 TCNTrainer] DEBUG: Epoch 3 ( 2220/10000): Total=   0.03811, potential_attractive=   0.00173, potential_repulsive=   0.00211, background=   0.03427 (weighted)\u001B[0m\n",
      "\u001B[36m[18:46:39 TCNTrainer] DEBUG: Epoch 3 ( 2230/10000): Total=   0.03870, potential_attractive=   0.00195, potential_repulsive=   0.00284, background=   0.03392 (weighted)\u001B[0m\n",
      "\u001B[36m[18:46:40 TCNTrainer] DEBUG: Epoch 3 ( 2240/10000): Total=   0.03793, potential_attractive=   0.00141, potential_repulsive=   0.00206, background=   0.03446 (weighted)\u001B[0m\n",
      "\u001B[36m[18:46:41 TCNTrainer] DEBUG: Epoch 3 ( 2250/10000): Total=   0.03880, potential_attractive=   0.00214, potential_repulsive=   0.00237, background=   0.03429 (weighted)\u001B[0m\n",
      "\u001B[36m[18:46:42 TCNTrainer] DEBUG: Epoch 3 ( 2260/10000): Total=   0.03845, potential_attractive=   0.00166, potential_repulsive=   0.00217, background=   0.03462 (weighted)\u001B[0m\n",
      "\u001B[36m[18:46:43 TCNTrainer] DEBUG: Epoch 3 ( 2270/10000): Total=   0.03909, potential_attractive=   0.00241, potential_repulsive=   0.00281, background=   0.03387 (weighted)\u001B[0m\n",
      "\u001B[36m[18:46:44 TCNTrainer] DEBUG: Epoch 3 ( 2280/10000): Total=   0.03765, potential_attractive=   0.00153, potential_repulsive=   0.00207, background=   0.03406 (weighted)\u001B[0m\n",
      "\u001B[36m[18:46:46 TCNTrainer] DEBUG: Epoch 3 ( 2290/10000): Total=   0.03799, potential_attractive=   0.00209, potential_repulsive=   0.00220, background=   0.03369 (weighted)\u001B[0m\n",
      "\u001B[36m[18:46:47 TCNTrainer] DEBUG: Epoch 3 ( 2300/10000): Total=   0.03847, potential_attractive=   0.00219, potential_repulsive=   0.00204, background=   0.03423 (weighted)\u001B[0m\n",
      "\u001B[36m[18:46:48 TCNTrainer] DEBUG: Epoch 3 ( 2310/10000): Total=   0.03783, potential_attractive=   0.00192, potential_repulsive=   0.00158, background=   0.03432 (weighted)\u001B[0m\n",
      "\u001B[36m[18:46:49 TCNTrainer] DEBUG: Epoch 3 ( 2320/10000): Total=   0.03941, potential_attractive=   0.00223, potential_repulsive=   0.00234, background=   0.03484 (weighted)\u001B[0m\n",
      "\u001B[36m[18:46:50 TCNTrainer] DEBUG: Epoch 3 ( 2330/10000): Total=   0.03945, potential_attractive=   0.00246, potential_repulsive=   0.00315, background=   0.03385 (weighted)\u001B[0m\n",
      "\u001B[36m[18:46:51 TCNTrainer] DEBUG: Epoch 3 ( 2340/10000): Total=   0.03794, potential_attractive=   0.00156, potential_repulsive=   0.00228, background=   0.03410 (weighted)\u001B[0m\n",
      "\u001B[36m[18:46:52 TCNTrainer] DEBUG: Epoch 3 ( 2350/10000): Total=   0.03848, potential_attractive=   0.00159, potential_repulsive=   0.00287, background=   0.03402 (weighted)\u001B[0m\n",
      "\u001B[36m[18:46:54 TCNTrainer] DEBUG: Epoch 3 ( 2360/10000): Total=   0.03822, potential_attractive=   0.00190, potential_repulsive=   0.00260, background=   0.03373 (weighted)\u001B[0m\n",
      "\u001B[36m[18:46:55 TCNTrainer] DEBUG: Epoch 3 ( 2370/10000): Total=   0.03803, potential_attractive=   0.00141, potential_repulsive=   0.00150, background=   0.03511 (weighted)\u001B[0m\n",
      "\u001B[36m[18:46:56 TCNTrainer] DEBUG: Epoch 3 ( 2380/10000): Total=   0.03954, potential_attractive=   0.00259, potential_repulsive=   0.00256, background=   0.03438 (weighted)\u001B[0m\n",
      "\u001B[36m[18:46:57 TCNTrainer] DEBUG: Epoch 3 ( 2390/10000): Total=   0.03935, potential_attractive=   0.00277, potential_repulsive=   0.00235, background=   0.03422 (weighted)\u001B[0m\n",
      "\u001B[36m[18:46:59 TCNTrainer] DEBUG: Epoch 3 ( 2400/10000): Total=   0.03834, potential_attractive=   0.00134, potential_repulsive=   0.00255, background=   0.03445 (weighted)\u001B[0m\n",
      "\u001B[36m[18:47:00 TCNTrainer] DEBUG: Epoch 3 ( 2410/10000): Total=   0.03797, potential_attractive=   0.00148, potential_repulsive=   0.00208, background=   0.03441 (weighted)\u001B[0m\n",
      "\u001B[36m[18:47:01 TCNTrainer] DEBUG: Epoch 3 ( 2420/10000): Total=   0.03875, potential_attractive=   0.00216, potential_repulsive=   0.00280, background=   0.03379 (weighted)\u001B[0m\n",
      "\u001B[36m[18:47:02 TCNTrainer] DEBUG: Epoch 3 ( 2430/10000): Total=   0.03925, potential_attractive=   0.00256, potential_repulsive=   0.00183, background=   0.03486 (weighted)\u001B[0m\n",
      "\u001B[36m[18:47:03 TCNTrainer] DEBUG: Epoch 3 ( 2440/10000): Total=   0.03865, potential_attractive=   0.00181, potential_repulsive=   0.00212, background=   0.03472 (weighted)\u001B[0m\n",
      "\u001B[36m[18:47:04 TCNTrainer] DEBUG: Epoch 3 ( 2450/10000): Total=   0.03829, potential_attractive=   0.00163, potential_repulsive=   0.00218, background=   0.03448 (weighted)\u001B[0m\n",
      "\u001B[36m[18:47:05 TCNTrainer] DEBUG: Epoch 3 ( 2460/10000): Total=   0.03876, potential_attractive=   0.00224, potential_repulsive=   0.00243, background=   0.03409 (weighted)\u001B[0m\n",
      "\u001B[36m[18:47:07 TCNTrainer] DEBUG: Epoch 3 ( 2470/10000): Total=   0.03846, potential_attractive=   0.00146, potential_repulsive=   0.00262, background=   0.03439 (weighted)\u001B[0m\n",
      "\u001B[36m[18:47:08 TCNTrainer] DEBUG: Epoch 3 ( 2480/10000): Total=   0.03801, potential_attractive=   0.00142, potential_repulsive=   0.00238, background=   0.03421 (weighted)\u001B[0m\n",
      "\u001B[36m[18:47:09 TCNTrainer] DEBUG: Epoch 3 ( 2490/10000): Total=   0.03883, potential_attractive=   0.00261, potential_repulsive=   0.00212, background=   0.03410 (weighted)\u001B[0m\n",
      "\u001B[36m[18:47:10 TCNTrainer] DEBUG: Epoch 3 ( 2500/10000): Total=   0.03927, potential_attractive=   0.00240, potential_repulsive=   0.00271, background=   0.03416 (weighted)\u001B[0m\n",
      "\u001B[36m[18:47:11 TCNTrainer] DEBUG: Epoch 3 ( 2510/10000): Total=   0.03816, potential_attractive=   0.00231, potential_repulsive=   0.00237, background=   0.03348 (weighted)\u001B[0m\n",
      "\u001B[36m[18:47:12 TCNTrainer] DEBUG: Epoch 3 ( 2520/10000): Total=   0.03903, potential_attractive=   0.00231, potential_repulsive=   0.00267, background=   0.03404 (weighted)\u001B[0m\n",
      "\u001B[36m[18:47:13 TCNTrainer] DEBUG: Epoch 3 ( 2530/10000): Total=   0.03833, potential_attractive=   0.00152, potential_repulsive=   0.00251, background=   0.03429 (weighted)\u001B[0m\n",
      "\u001B[36m[18:47:15 TCNTrainer] DEBUG: Epoch 3 ( 2540/10000): Total=   0.03821, potential_attractive=   0.00199, potential_repulsive=   0.00189, background=   0.03434 (weighted)\u001B[0m\n",
      "\u001B[36m[18:47:16 TCNTrainer] DEBUG: Epoch 3 ( 2550/10000): Total=   0.03806, potential_attractive=   0.00164, potential_repulsive=   0.00250, background=   0.03392 (weighted)\u001B[0m\n",
      "\u001B[36m[18:47:17 TCNTrainer] DEBUG: Epoch 3 ( 2560/10000): Total=   0.03810, potential_attractive=   0.00259, potential_repulsive=   0.00183, background=   0.03368 (weighted)\u001B[0m\n",
      "\u001B[36m[18:47:18 TCNTrainer] DEBUG: Epoch 3 ( 2570/10000): Total=   0.03813, potential_attractive=   0.00147, potential_repulsive=   0.00306, background=   0.03360 (weighted)\u001B[0m\n",
      "\u001B[36m[18:47:19 TCNTrainer] DEBUG: Epoch 3 ( 2580/10000): Total=   0.03874, potential_attractive=   0.00181, potential_repulsive=   0.00215, background=   0.03477 (weighted)\u001B[0m\n",
      "\u001B[36m[18:47:21 TCNTrainer] DEBUG: Epoch 3 ( 2590/10000): Total=   0.03854, potential_attractive=   0.00181, potential_repulsive=   0.00253, background=   0.03420 (weighted)\u001B[0m\n",
      "\u001B[36m[18:47:22 TCNTrainer] DEBUG: Epoch 3 ( 2600/10000): Total=   0.03789, potential_attractive=   0.00190, potential_repulsive=   0.00212, background=   0.03388 (weighted)\u001B[0m\n"
     ]
    }
   ],
   "source": [
    "trainer.train()"
   ],
   "metadata": {
    "collapsed": false,
    "pycharm": {
     "is_executing": true
    }
   }
  },
  {
   "cell_type": "code",
   "execution_count": 7,
   "outputs": [],
   "source": [
    "data = trainer.val_loader.dataset[0]"
   ],
   "metadata": {
    "collapsed": false
   }
  },
  {
   "cell_type": "code",
   "execution_count": 8,
   "outputs": [],
   "source": [
    "mo = trainer.evaluate_model(data)"
   ],
   "metadata": {
    "collapsed": false
   }
  },
  {
   "cell_type": "code",
   "execution_count": 17,
   "outputs": [],
   "source": [
    "labels = dbscan(mo[\"x\"].detach().cpu().numpy())"
   ],
   "metadata": {
    "collapsed": false
   }
  },
  {
   "cell_type": "markdown",
   "source": [],
   "metadata": {
    "collapsed": false
   }
  },
  {
   "cell_type": "code",
   "execution_count": 18,
   "outputs": [],
   "source": [
    "from sklearn import metrics\n"
   ],
   "metadata": {
    "collapsed": false
   }
  },
  {
   "cell_type": "code",
   "execution_count": 23,
   "outputs": [
    {
     "data": {
      "text/plain": "0.0"
     },
     "execution_count": 23,
     "metadata": {},
     "output_type": "execute_result"
    }
   ],
   "source": [
    "metrics.adjusted_rand_score(data.particle_id.detach().cpu().numpy(), labels)"
   ],
   "metadata": {
    "collapsed": false
   }
  },
  {
   "cell_type": "code",
   "execution_count": 9,
   "outputs": [],
   "source": [
    "from torch_cluster import radius_graph"
   ],
   "metadata": {
    "collapsed": false
   }
  },
  {
   "cell_type": "code",
   "execution_count": 10,
   "outputs": [],
   "source": [
    "edge_index = radius_graph(mo[\"x\"], 1)"
   ],
   "metadata": {
    "collapsed": false
   }
  },
  {
   "cell_type": "code",
   "execution_count": 12,
   "outputs": [
    {
     "data": {
      "text/plain": "torch.Size([2, 1936826])"
     },
     "execution_count": 12,
     "metadata": {},
     "output_type": "execute_result"
    }
   ],
   "source": [
    "edge_index.shape"
   ],
   "metadata": {
    "collapsed": false
   }
  },
  {
   "cell_type": "code",
   "execution_count": 11,
   "outputs": [],
   "source": [
    "from torch_geometric.data import Data\n",
    "\n",
    "data = Data(x=mo[\"x\"], edge_index=edge_index)"
   ],
   "metadata": {
    "collapsed": false
   }
  },
  {
   "cell_type": "code",
   "execution_count": 12,
   "outputs": [],
   "source": [
    "data.y = mo[\"particle_id\"][edge_index[0,:]] == mo[\"particle_id\"][edge_index[1,:]]\n",
    "data.pt = mo[\"particle_id\"]\n",
    "data.particle_id = mo[\"particle_id\"]"
   ],
   "metadata": {
    "collapsed": false
   }
  },
  {
   "cell_type": "code",
   "execution_count": 13,
   "outputs": [
    {
     "data": {
      "text/plain": "device(type='cuda', index=0)"
     },
     "execution_count": 13,
     "metadata": {},
     "output_type": "execute_result"
    }
   ],
   "source": [
    "mo[\"x\"].device"
   ],
   "metadata": {
    "collapsed": false
   }
  },
  {
   "cell_type": "code",
   "execution_count": 14,
   "outputs": [
    {
     "data": {
      "text/plain": "(device(type='cuda', index=0), device(type='cuda', index=0))"
     },
     "execution_count": 14,
     "metadata": {},
     "output_type": "execute_result"
    }
   ],
   "source": [
    "data.pt.device, data.particle_id.device"
   ],
   "metadata": {
    "collapsed": false
   }
  },
  {
   "cell_type": "code",
   "execution_count": 16,
   "outputs": [
    {
     "ename": "ValueError",
     "evalue": "max() arg is an empty sequence",
     "output_type": "error",
     "traceback": [
      "\u001B[0;31m---------------------------------------------------------------------------\u001B[0m",
      "\u001B[0;31mValueError\u001B[0m                                Traceback (most recent call last)",
      "Cell \u001B[0;32mIn[16], line 4\u001B[0m\n\u001B[1;32m      1\u001B[0m get_ipython()\u001B[38;5;241m.\u001B[39mrun_line_magic(\u001B[38;5;124m'\u001B[39m\u001B[38;5;124maimport\u001B[39m\u001B[38;5;124m'\u001B[39m, \u001B[38;5;124m'\u001B[39m\u001B[38;5;124mgnn_tracking.analysis.graphs\u001B[39m\u001B[38;5;124m'\u001B[39m)\n\u001B[1;32m      2\u001B[0m \u001B[38;5;28;01mfrom\u001B[39;00m \u001B[38;5;21;01mgnn_tracking\u001B[39;00m\u001B[38;5;21;01m.\u001B[39;00m\u001B[38;5;21;01manalysis\u001B[39;00m\u001B[38;5;21;01m.\u001B[39;00m\u001B[38;5;21;01mgraphs\u001B[39;00m \u001B[38;5;28;01mimport\u001B[39;00m get_all_graph_construction_stats\n\u001B[0;32m----> 4\u001B[0m r \u001B[38;5;241m=\u001B[39m \u001B[43mget_all_graph_construction_stats\u001B[49m\u001B[43m(\u001B[49m\u001B[43mdata\u001B[49m\u001B[38;5;241;43m.\u001B[39;49m\u001B[43mto\u001B[49m\u001B[43m(\u001B[49m\u001B[38;5;124;43m\"\u001B[39;49m\u001B[38;5;124;43mcuda\u001B[39;49m\u001B[38;5;124;43m\"\u001B[39;49m\u001B[43m)\u001B[49m\u001B[43m)\u001B[49m\n",
      "File \u001B[0;32m~/Documents/23/git_sync/gnn_tracking/src/gnn_tracking/analysis/graphs.py:236\u001B[0m, in \u001B[0;36mget_all_graph_construction_stats\u001B[0;34m(data, pt_thld)\u001B[0m\n\u001B[1;32m    227\u001B[0m pt_edge_mask \u001B[38;5;241m=\u001B[39m get_edge_mask_from_node_mask(data\u001B[38;5;241m.\u001B[39mpt \u001B[38;5;241m>\u001B[39m pt_thld, data\u001B[38;5;241m.\u001B[39medge_index)\n\u001B[1;32m    228\u001B[0m bcs_thld \u001B[38;5;241m=\u001B[39m BinaryClassificationStats(\n\u001B[1;32m    229\u001B[0m     output\u001B[38;5;241m=\u001B[39mtorch\u001B[38;5;241m.\u001B[39mones_like(data\u001B[38;5;241m.\u001B[39my[pt_edge_mask])\u001B[38;5;241m.\u001B[39mlong(),\n\u001B[1;32m    230\u001B[0m     y\u001B[38;5;241m=\u001B[39mdata\u001B[38;5;241m.\u001B[39my[pt_edge_mask]\u001B[38;5;241m.\u001B[39mlong(),\n\u001B[1;32m    231\u001B[0m     thld\u001B[38;5;241m=\u001B[39m\u001B[38;5;241m0.0\u001B[39m,\n\u001B[1;32m    232\u001B[0m )\n\u001B[1;32m    233\u001B[0m \u001B[38;5;28;01mreturn\u001B[39;00m (\n\u001B[1;32m    234\u001B[0m     get_orphan_counts(data, pt_thld\u001B[38;5;241m=\u001B[39mpt_thld)\u001B[38;5;241m.\u001B[39m_asdict()\n\u001B[1;32m    235\u001B[0m     \u001B[38;5;241m|\u001B[39m summarize_track_graph_info(\n\u001B[0;32m--> 236\u001B[0m         \u001B[43mget_track_graph_info_from_data\u001B[49m\u001B[43m(\u001B[49m\u001B[43mdata\u001B[49m\u001B[43m,\u001B[49m\u001B[43m \u001B[49m\u001B[43mpt_thld\u001B[49m\u001B[38;5;241;43m=\u001B[39;49m\u001B[43mpt_thld\u001B[49m\u001B[43m)\u001B[49m\n\u001B[1;32m    237\u001B[0m     )\n\u001B[1;32m    238\u001B[0m     \u001B[38;5;241m|\u001B[39m bcs\u001B[38;5;241m.\u001B[39mget_all()\n\u001B[1;32m    239\u001B[0m     \u001B[38;5;241m|\u001B[39m add_key_suffix(bcs_thld\u001B[38;5;241m.\u001B[39mget_all(), \u001B[38;5;124m\"\u001B[39m\u001B[38;5;124m_thld\u001B[39m\u001B[38;5;124m\"\u001B[39m)\n\u001B[1;32m    240\u001B[0m )\n",
      "File \u001B[0;32m~/Documents/23/git_sync/gnn_tracking/src/gnn_tracking/analysis/graphs.py:168\u001B[0m, in \u001B[0;36mget_track_graph_info_from_data\u001B[0;34m(data, w, pt_thld, threshold)\u001B[0m\n\u001B[1;32m    166\u001B[0m results \u001B[38;5;241m=\u001B[39m []\n\u001B[1;32m    167\u001B[0m \u001B[38;5;28;01mfor\u001B[39;00m pid \u001B[38;5;129;01min\u001B[39;00m particle_ids:\n\u001B[0;32m--> 168\u001B[0m     results\u001B[38;5;241m.\u001B[39mappend(\u001B[43mget_track_graph_info\u001B[49m\u001B[43m(\u001B[49m\u001B[43mgx\u001B[49m\u001B[43m,\u001B[49m\u001B[43m \u001B[49m\u001B[43mdata\u001B[49m\u001B[38;5;241;43m.\u001B[39;49m\u001B[43mparticle_id\u001B[49m\u001B[43m,\u001B[49m\u001B[43m \u001B[49m\u001B[43mpid\u001B[49m\u001B[38;5;241;43m.\u001B[39;49m\u001B[43mitem\u001B[49m\u001B[43m(\u001B[49m\u001B[43m)\u001B[49m\u001B[43m)\u001B[49m\u001B[38;5;241m.\u001B[39m_asdict())\n\u001B[1;32m    169\u001B[0m \u001B[38;5;28;01mreturn\u001B[39;00m pd\u001B[38;5;241m.\u001B[39mDataFrame\u001B[38;5;241m.\u001B[39mfrom_records(results)\n",
      "File \u001B[0;32m~/Documents/23/git_sync/gnn_tracking/src/gnn_tracking/analysis/graphs.py:109\u001B[0m, in \u001B[0;36mget_track_graph_info\u001B[0;34m(graph, particle_ids, pid)\u001B[0m\n\u001B[1;32m    101\u001B[0m \u001B[38;5;28;01melse\u001B[39;00m:\n\u001B[1;32m    102\u001B[0m     \u001B[38;5;66;03m# We could also iterate over all PIDs, but that would be slower.\u001B[39;00m\n\u001B[1;32m    103\u001B[0m     \u001B[38;5;66;03m# we already know that the segments are connected, so it's enough to\u001B[39;00m\n\u001B[1;32m    104\u001B[0m     \u001B[38;5;66;03m# use one of the nodes from each one.\u001B[39;00m\n\u001B[1;32m    105\u001B[0m     component_sizes \u001B[38;5;241m=\u001B[39m [\n\u001B[1;32m    106\u001B[0m         \u001B[38;5;241m1\u001B[39m \u001B[38;5;241m+\u001B[39m get_n_reachable(graph, \u001B[38;5;28mnext\u001B[39m(\u001B[38;5;28miter\u001B[39m(segment)), hits_for_pid)\n\u001B[1;32m    107\u001B[0m         \u001B[38;5;28;01mfor\u001B[39;00m segment \u001B[38;5;129;01min\u001B[39;00m segments\n\u001B[1;32m    108\u001B[0m     ]\n\u001B[0;32m--> 109\u001B[0m     n_hits_largest_component \u001B[38;5;241m=\u001B[39m \u001B[38;5;28;43mmax\u001B[39;49m\u001B[43m(\u001B[49m\u001B[43mcomponent_sizes\u001B[49m\u001B[43m)\u001B[49m\n\u001B[1;32m    110\u001B[0m distance_largest_segments \u001B[38;5;241m=\u001B[39m \u001B[38;5;241m0\u001B[39m\n\u001B[1;32m    111\u001B[0m \u001B[38;5;28;01mif\u001B[39;00m \u001B[38;5;28mlen\u001B[39m(segments) \u001B[38;5;241m>\u001B[39m \u001B[38;5;241m1\u001B[39m:\n",
      "\u001B[0;31mValueError\u001B[0m: max() arg is an empty sequence"
     ]
    }
   ],
   "source": [
    "%aimport gnn_tracking.analysis.graphs\n",
    "from gnn_tracking.analysis.graphs import get_all_graph_construction_stats\n",
    "\n",
    "r = get_all_graph_construction_stats(data.to(\"cuda\"))"
   ],
   "metadata": {
    "collapsed": false
   }
  },
  {
   "cell_type": "code",
   "execution_count": null,
   "outputs": [],
   "source": [
    "r"
   ],
   "metadata": {
    "collapsed": false
   }
  },
  {
   "cell_type": "code",
   "execution_count": 17,
   "outputs": [],
   "source": [
    "from gnn_tracking.utils.graph_masks import get_edge_mask_from_node_mask\n",
    "from gnn_tracking.metrics.binary_classification import BinaryClassificationStats\n",
    "import torch\n",
    "\n",
    "bcs = BinaryClassificationStats(\n",
    "    output=torch.ones_like(data.y).long(), y=data.y.long(), thld=0.0\n",
    ")\n",
    "pt_edge_mask = get_edge_mask_from_node_mask(data.pt > 0.9, data.edge_index)\n",
    "bcs_thld = BinaryClassificationStats(\n",
    "    output=torch.ones_like(data.y[pt_edge_mask]).long(),\n",
    "    y=data.y[pt_edge_mask].long(),\n",
    "    thld=0.0,\n",
    ")"
   ],
   "metadata": {
    "collapsed": false
   }
  },
  {
   "cell_type": "code",
   "execution_count": 18,
   "outputs": [
    {
     "data": {
      "text/plain": "{'acc': 0.02932068620213888,\n 'TPR': 1.0,\n 'TNR': 0.0,\n 'FPR': 1.0,\n 'FNR': 0.0,\n 'balanced_acc': 0.5,\n 'F1': 0.05697094519750254,\n 'MCC': 0,\n 'n_true': 57038,\n 'n_false': 1888278,\n 'n_predicted_true': 1945316,\n 'n_predicted_false': 0}"
     },
     "execution_count": 18,
     "metadata": {},
     "output_type": "execute_result"
    }
   ],
   "source": [
    "bcs.get_all()"
   ],
   "metadata": {
    "collapsed": false
   }
  },
  {
   "cell_type": "code",
   "execution_count": 19,
   "outputs": [
    {
     "data": {
      "text/plain": "0.02932068620213888"
     },
     "execution_count": 19,
     "metadata": {},
     "output_type": "execute_result"
    }
   ],
   "source": [
    "57038 / (57038 + 1888278)"
   ],
   "metadata": {
    "collapsed": false
   }
  },
  {
   "cell_type": "code",
   "execution_count": null,
   "outputs": [],
   "source": [],
   "metadata": {
    "collapsed": false
   }
  }
 ],
 "metadata": {
  "kernelspec": {
   "display_name": "Python 3",
   "language": "python",
   "name": "python3"
  },
  "language_info": {
   "codemirror_mode": {
    "name": "ipython",
    "version": 2
   },
   "file_extension": ".py",
   "mimetype": "text/x-python",
   "name": "python",
   "nbconvert_exporter": "python",
   "pygments_lexer": "ipython2",
   "version": "2.7.6"
  }
 },
 "nbformat": 4,
 "nbformat_minor": 0
}
