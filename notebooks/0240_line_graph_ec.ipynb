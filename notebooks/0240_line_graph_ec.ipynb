{
 "cells": [
  {
   "cell_type": "code",
   "execution_count": 8,
   "metadata": {},
   "outputs": [],
   "source": [
    "from torch import nn\n",
    "from torch_geometric.data import Data\n",
    "from pathlib import Path\n",
    "import torch"
   ]
  },
  {
   "cell_type": "code",
   "execution_count": 111,
   "metadata": {},
   "outputs": [],
   "source": [
    "test_data_path = Path(\"/Users/fuchur/data/gnn_tracking/data_example\") "
   ]
  },
  {
   "cell_type": "code",
   "execution_count": 43,
   "metadata": {},
   "outputs": [],
   "source": [
    "from torch_geometric.transforms import LineGraph"
   ]
  },
  {
   "cell_type": "code",
   "execution_count": 88,
   "metadata": {},
   "outputs": [],
   "source": [
    "del d"
   ]
  },
  {
   "cell_type": "code",
   "execution_count": 118,
   "metadata": {},
   "outputs": [],
   "source": [
    "class LineGraphBuilder:\n",
    "    def __init__(self) -> None:\n",
    "        self._edge_dim_before_modification = None\n",
    "\n",
    "    @staticmethod\n",
    "    def append_node_features(data: Data) -> None:\n",
    "        data.edge_attr = torch.cat(\n",
    "            [data.edge_attr, data.x[data.edge_index[0]], data.x[data.edge_index[1]]],\n",
    "             axis=1\n",
    "        )\n",
    "\n",
    "    def hyperedge_features(self, line_data: Data) -> None:\n",
    "        assert line_data.edge_attr is None\n",
    "        line_data.edge_attr = torch.cat([\n",
    "            line_data.x[line_data.edge_index[0], :self._edge_dim_before_modification],\n",
    "            line_data.x[line_data.edge_index[1], :self._edge_dim_before_modification]\n",
    "        ], axis=1)\n",
    "\n",
    "    @staticmethod\n",
    "    def remove_meaningless_info(data: Data) -> None:\n",
    "        del data.particle_id\n",
    "        del data.reconstructable\n",
    "        del data.sector\n",
    "\n",
    "    def __call__(self, data: Data) -> Data:\n",
    "        \"\"\"Node: Modifies data in place\"\"\"\n",
    "        self._edge_dim_before_modification = data.edge_attr.shape[1]\n",
    "        self.append_node_features(data)\n",
    "        self.remove_meaningless_info(data)\n",
    "        LineGraph()(data)\n",
    "        self.hyperedge_features(data)\n",
    "\n",
    "    def get_output_dimensions(self, node_dim: int, edge_dim: int) -> tuple[int, int]:\n",
    "        \"\"\"\n",
    "        \n",
    "        Returns:\n",
    "            node dim, edge dim for resulting line graph\n",
    "        \"\"\"\n",
    "        return (2*no_dim+edge_dim, 2*edge_dim)"
   ]
  },
  {
   "cell_type": "code",
   "execution_count": 112,
   "metadata": {},
   "outputs": [],
   "source": [
    "_d = torch.load(test_data_path / \"data21873_s20.pt\")"
   ]
  },
  {
   "cell_type": "code",
   "execution_count": 113,
   "metadata": {},
   "outputs": [
    {
     "data": {
      "text/plain": [
       "Data(x=[1883, 6], edge_index=[2, 129806], edge_attr=[129806, 4], y=[129806], pt=[1883], particle_id=[1883], reconstructable=[1883], sector=[1883], evtid=[1], s=[1])"
      ]
     },
     "execution_count": 113,
     "metadata": {},
     "output_type": "execute_result"
    }
   ],
   "source": [
    "_d"
   ]
  },
  {
   "cell_type": "code",
   "execution_count": 114,
   "metadata": {},
   "outputs": [],
   "source": [
    "LineGraphBuilder()(_d)"
   ]
  },
  {
   "cell_type": "code",
   "execution_count": 115,
   "metadata": {},
   "outputs": [
    {
     "data": {
      "text/plain": [
       "Data(x=[129806, 16], edge_index=[2, 21398742], y=[129806], pt=[1883], evtid=[1], s=[1], num_nodes=129806, edge_attr=[21398742, 8])"
      ]
     },
     "execution_count": 115,
     "metadata": {},
     "output_type": "execute_result"
    }
   ],
   "source": [
    "_d"
   ]
  },
  {
   "cell_type": "code",
   "execution_count": null,
   "metadata": {},
   "outputs": [],
   "source": [
    "class KNNLineGraphBuilder(nn.Module):\n",
    "    def __init__(\n",
    "            self,\n",
    "            node_indim: int,\n",
    "            edge_indiem: int,\n",
    "            node_outdim: int,\n",
    "\n",
    "    ):\n",
    "        self.hnode_encoder = MLP(\n",
    "            2*node_indim + edge_indim,\n",
    "        )\n",
    "\n",
    "    def forward(self, data: Data) -> Data:\n",
    "        hnode_features = torch.cat([\n",
    "           data.edge_attr,\n",
    "           data.node_attr[data.edge_index[0]], \n",
    "           data.node_attr[data.edge_index[1]], \n",
    "        ], axis=1)\n",
    "        lg = Data(\n",
    "            x=hnode_features,\n",
    "            y=data.y,\n",
    "            evtid=data.evtid,\n",
    "            s=data.s,\n",
    "        )"
   ]
  },
  {
   "cell_type": "code",
   "execution_count": 109,
   "metadata": {},
   "outputs": [],
   "source": [
    "from gnn_tracking.models.interaction_network import InteractionNetwork as IN\n",
    "from gnn_tracking.models.mlp import MLP\n",
    "from gnn_tracking.models.resin import ResIN\n",
    "from torch import Tensor\n",
    "\n",
    "\n",
    "class LineGraphKNNEC(nn.Module):\n",
    "    def __init__(\n",
    "        self,\n",
    "        *,\n",
    "        node_indim: int,\n",
    "        edge_indim: int,\n",
    "        interaction_node_dim=5,\n",
    "        interaction_edge_dim=4,\n",
    "        hidden_dim=40,\n",
    "        L_ec=3,\n",
    "        alpha_ec_node: float = 0.5,\n",
    "        residual_type=\"skip1\",\n",
    "        residual_kwargs: dict = None,\n",
    "    ):\n",
    "        super().__init__()\n",
    "        if residual_kwargs is None:\n",
    "            residual_kwargs = {}\n",
    "\n",
    "        self.ec_hnode_encoder = MLP(\n",
    "            hnode_indim, interaction_node_dim, hidden_dim=hidden_dim, L=2, bias=False\n",
    "        )\n",
    "        self.ec_resin = ResIN(\n",
    "            node_dim=interaction_node_dim,\n",
    "            edge_dim=interaction_edge_dim,\n",
    "            object_hidden_dim=hidden_dim,\n",
    "            relational_hidden_dim=hidden_dim,\n",
    "            alpha_node=alpha_ec_node,\n",
    "            alpha_edge=0,\n",
    "            n_layers=L_ec,\n",
    "            residual_type=residual_type,\n",
    "            residual_kwargs=residual_kwargs,\n",
    "        )\n",
    "\n",
    "        self.W = MLP(input_size=interaction_node_dim, output_size=1, hidden_dim=hidden_dim, L=3)\n",
    "\n",
    "    def forward(\n",
    "        self,\n",
    "        data: Data,\n",
    "    ) -> Tensor:\n",
    "        # apply the edge classifier to generate edge weights\n",
    "        x, edge_index, edge_attr = data.x, data.edge_index, data.edge_attr\n",
    "        h_ec = self.relu(self.ec_node_encoder(x))\n",
    "        edge_attr_ec = self.relu(self.ec_edge_encoder(edge_attr))\n",
    "        h_ec, *_ = self.ec_resin(\n",
    "            h_ec, edge_index, edge_attr_ec\n",
    "        )\n",
    "        edge_weights = torch.sigmoid(self.W(w_input))\n",
    "        return edge_weights"
   ]
  },
  {
   "cell_type": "code",
   "execution_count": null,
   "metadata": {},
   "outputs": [],
   "source": []
  }
 ],
 "metadata": {
  "kernelspec": {
   "display_name": "gnn",
   "language": "python",
   "name": "python3"
  },
  "language_info": {
   "codemirror_mode": {
    "name": "ipython",
    "version": 3
   },
   "file_extension": ".py",
   "mimetype": "text/x-python",
   "name": "python",
   "nbconvert_exporter": "python",
   "pygments_lexer": "ipython3",
   "version": "3.9.0"
  },
  "orig_nbformat": 4
 },
 "nbformat": 4,
 "nbformat_minor": 2
}
