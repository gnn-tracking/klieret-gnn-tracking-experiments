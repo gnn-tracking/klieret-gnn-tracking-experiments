{
 "cells": [
  {
   "cell_type": "raw",
   "id": "1a72a8c6",
   "metadata": {
    "pycharm": {
     "name": "#%% raw\n"
    }
   },
   "source": []
  },
  {
   "cell_type": "code",
   "execution_count": null,
   "id": "b0531c62",
   "metadata": {
    "pycharm": {
     "name": "#%%\n"
    }
   },
   "outputs": [],
   "source": [
    "import numpy as np\n",
    "from sklearn import metrics\n",
    "\n",
    "import torch\n",
    "from numpy.random import uniform\n",
    "from torch_geometric.loader import DataLoader\n",
    "from gnn_tracking.preprocessing.point_cloud_builder import PointCloudBuilder\n",
    "from gnn_tracking.utils.plotting import GraphPlotter\n",
    "from gnn_tracking.utils.plotting import PointCloudPlotter\n",
    "from gnn_tracking.models.track_condensation_networks import GraphTCN\n",
    "from pathlib import Path\n",
    "from gnn_tracking.postprocessing.dbscanscanner import DBSCANHyperParamScanner\n",
    "\n",
    "%load_ext autoreload\n",
    "%autoreload 2"
   ]
  },
  {
   "cell_type": "code",
   "execution_count": null,
   "id": "8fb9c650",
   "metadata": {
    "pycharm": {
     "name": "#%%\n"
    }
   },
   "outputs": [],
   "source": [
    "from gnn_tracking.utils.plotting import EventPlotter\n",
    "\n",
    "# we'll use n_evts * n_sectors = 640 graphs\n",
    "n_evts, n_sectors = 10, 64\n",
    "indir = \"/tigress/jdezoort/codalab/train_1\"\n",
    "# indir='/home/kl5675/Documents/22/git_sync/gnn_tracking/src/gnn_tracking/test_data'\n",
    "# event_plotter = EventPlotter(indir=indir)\n",
    "# event_plotter.plot_ep_rv_uv(evtid=21289)"
   ]
  },
  {
   "cell_type": "code",
   "execution_count": null,
   "id": "cde54fd2",
   "metadata": {
    "pycharm": {
     "name": "#%%\n"
    }
   },
   "outputs": [],
   "source": [
    "# build point clouds for each sector in the pixel layers only\n",
    "# pc_builder = PointCloudBuilder(indir=indir, outdir=str(Path(\"~/data/gnn_tracking/point_clouds\").expanduser()),\n",
    "#                                n_sectors=n_sectors, pixel_only=True, redo=False, measurement_mode=False, thld=0.9)\n",
    "# pc_builder.process(n=10, verbose=False)"
   ]
  },
  {
   "cell_type": "code",
   "execution_count": null,
   "id": "b2020ca0",
   "metadata": {
    "pycharm": {
     "name": "#%%\n"
    }
   },
   "outputs": [],
   "source": [
    "# each point cloud is a PyG Data object\n",
    "# point_cloud = pc_builder.data_list[0]\n",
    "# good = ((point_cloud.sector>-1) & (point_cloud.particle_id>0) &\n",
    "#         (point_cloud.pt > 0.5))"
   ]
  },
  {
   "cell_type": "code",
   "execution_count": null,
   "id": "42d9808f",
   "metadata": {
    "pycharm": {
     "name": "#%%\n"
    }
   },
   "outputs": [],
   "source": [
    "# point_cloud"
   ]
  },
  {
   "cell_type": "code",
   "execution_count": null,
   "id": "11dc520f",
   "metadata": {
    "pycharm": {
     "name": "#%%\n"
    }
   },
   "outputs": [],
   "source": [
    "# visualize the secto\n",
    "# rs in each event and an overlapped ('extended') sector\n",
    "# pc_plotter = PointCloudPlotter(str(Path(\"~/data/gnn_tracking/point_clouds\").expanduser()),\n",
    "#                                n_sectors=pc_builder.n_sectors)\n",
    "# pc_plotter.plot_ep_rv_uv_all_sectors(21289)\n",
    "# pc_plotter.plot_ep_rv_uv_with_boundary(21289, 18,\n",
    "#                                        pc_builder.sector_di,\n",
    "#                                        pc_builder.sector_ds)"
   ]
  },
  {
   "cell_type": "code",
   "execution_count": null,
   "id": "43c1b78e",
   "metadata": {
    "pycharm": {
     "name": "#%%\n"
    }
   },
   "outputs": [],
   "source": [
    "! mkdir /home/kl5675/data/gnn_tracking/graphs"
   ]
  },
  {
   "cell_type": "code",
   "execution_count": null,
   "id": "91897cef",
   "metadata": {
    "pycharm": {
     "name": "#%%\n"
    }
   },
   "outputs": [],
   "source": [
    "# we can build graphs on the point clouds using geometric cuts\n",
    "\n",
    "from gnn_tracking.graph_construction.graph_builder import GraphBuilder\n",
    "\n",
    "graph_builder = GraphBuilder(\n",
    "    str(Path(\"~/data/gnn_tracking/point_clouds\").expanduser()),\n",
    "    str(Path(\"~/data/gnn_tracking/graphs\").expanduser()),\n",
    "    redo=False,\n",
    ")\n",
    "graph_builder.process(n=None)"
   ]
  },
  {
   "cell_type": "code",
   "execution_count": null,
   "id": "9fea3434",
   "metadata": {
    "pycharm": {
     "name": "#%%\n"
    }
   },
   "outputs": [],
   "source": [
    "! ls  /home/kl5675/data/gnn_tracking/"
   ]
  },
  {
   "cell_type": "code",
   "execution_count": null,
   "id": "50222cfb",
   "metadata": {
    "pycharm": {
     "name": "#%%\n"
    }
   },
   "outputs": [],
   "source": [
    "# the graph plotter shows the true and false edges constructed by the builder\n",
    "\n",
    "# graph_plotter = GraphPlotter()\n",
    "# graph = graph_builder.data_list[0]\n",
    "# print(graph)\n",
    "# evtid, s = graph.evtid.item(), graph.s.item()\n",
    "\n",
    "# takes a minute to run, but cool visual!\n",
    "# graph_plotter.plot_rz(graph_builder.data_list[0],\n",
    "#          f'event{evtid}_s{s}')"
   ]
  },
  {
   "cell_type": "code",
   "execution_count": null,
   "id": "7c987bd8",
   "metadata": {
    "pycharm": {
     "name": "#%%\n"
    }
   },
   "outputs": [],
   "source": [
    "from gnn_tracking.training.graph_tcn_trainer import GraphTCNTrainer\n",
    "\n",
    "# use cuda (gpu) if possible, otherwise fallback to cpu\n",
    "use_cuda = torch.cuda.is_available()\n",
    "device = torch.device(\"cuda\" if use_cuda else \"cpu\")\n",
    "print(f\"Utilizing {device}\")\n",
    "\n",
    "# use reference graph to get relevant dimensions\n",
    "g = graph_builder.data_list[0]\n",
    "node_indim = g.x.shape[1]\n",
    "edge_indim = g.edge_attr.shape[1]\n",
    "hc_outdim = 2  # output dim of latent space\n",
    "\n",
    "# partition graphs into train, test, val splits\n",
    "graphs = graph_builder.data_list\n",
    "n_graphs = len(graphs)\n",
    "rand_array = uniform(low=0, high=1, size=n_graphs)\n",
    "train_graphs = [g for i, g in enumerate(graphs) if (rand_array <= 0.7)[i]]\n",
    "test_graphs = [\n",
    "    g for i, g in enumerate(graphs) if ((rand_array > 0.7) & (rand_array <= 0.9))[i]\n",
    "]\n",
    "val_graphs = [g for i, g in enumerate(graphs) if (rand_array > 0.9)[i]]\n",
    "\n",
    "# build graph loaders\n",
    "params = {\"batch_size\": 1, \"shuffle\": True, \"num_workers\": 1}"
   ]
  },
  {
   "cell_type": "code",
   "execution_count": null,
   "id": "208522a8",
   "metadata": {
    "pycharm": {
     "name": "#%%\n"
    }
   },
   "outputs": [],
   "source": [
    "train_loader = DataLoader(list(train_graphs), **params)"
   ]
  },
  {
   "cell_type": "code",
   "execution_count": null,
   "id": "5fe2bff8",
   "metadata": {
    "pycharm": {
     "name": "#%%\n"
    }
   },
   "outputs": [],
   "source": [
    "params = {\"batch_size\": 2, \"shuffle\": False, \"num_workers\": 2}\n",
    "test_loader = DataLoader(list(test_graphs), **params)\n",
    "val_loader = DataLoader(list(val_graphs), **params)\n",
    "loaders = {\"train\": train_loader, \"test\": test_loader, \"val\": val_loader}\n",
    "print(\"Loader sizes:\", [(k, len(v)) for k, v in loaders.items()])\n",
    "\n",
    "# set up a model and trainer"
   ]
  },
  {
   "cell_type": "code",
   "execution_count": null,
   "id": "5efb2358",
   "metadata": {
    "pycharm": {
     "name": "#%%\n"
    }
   },
   "outputs": [],
   "source": [
    "torch.manual_seed(0)\n",
    "import numpy as np\n",
    "\n",
    "np.random.seed(0)\n",
    "import random\n",
    "\n",
    "random.seed(0)"
   ]
  },
  {
   "cell_type": "code",
   "execution_count": null,
   "id": "de0aa3a2",
   "metadata": {
    "pycharm": {
     "name": "#%%\n"
    }
   },
   "outputs": [],
   "source": [
    "extra_metrics = {\n",
    "    \"homogeneity\": metrics.homogeneity_score,\n",
    "    \"completeness\": metrics.completeness_score,\n",
    "}"
   ]
  },
  {
   "cell_type": "code",
   "execution_count": null,
   "id": "14acad7d",
   "metadata": {
    "pycharm": {
     "name": "#%%\n"
    }
   },
   "outputs": [],
   "source": [
    "def clustering(graphs, truth, sectors, epoch):\n",
    "    if epoch < 5:\n",
    "        return None\n",
    "    dbss = DBSCANHyperParamScanner(\n",
    "        graphs=graphs,\n",
    "        truth=truth,\n",
    "        sectors=sectors,\n",
    "        guiding_metric=metrics.v_measure_score,\n",
    "        extra_metrics=extra_metrics,\n",
    "    )\n",
    "    return dbss.scan(n_jobs=1, n_trials=100)"
   ]
  },
  {
   "cell_type": "code",
   "execution_count": null,
   "id": "a83c4278",
   "metadata": {
    "pycharm": {
     "name": "#%%\n"
    }
   },
   "outputs": [],
   "source": []
  },
  {
   "cell_type": "code",
   "execution_count": null,
   "id": "95e59860",
   "metadata": {
    "pycharm": {
     "name": "#%%\n"
    }
   },
   "outputs": [],
   "source": [
    "from gnn_tracking.training.tcn_trainer import TCNTrainer\n",
    "from gnn_tracking.utils.losses import EdgeWeightBCELoss, PotentialLoss, BackgroundLoss\n",
    "import optuna\n",
    "\n",
    "optuna.logging.set_verbosity(optuna.logging.WARNING)\n",
    "\n",
    "q_min, sb = 0.01, 0.1\n",
    "loss_functions = {\n",
    "    \"edge\": EdgeWeightBCELoss().to(device),\n",
    "    \"potential\": PotentialLoss(q_min=q_min, device=device),\n",
    "    \"background\": BackgroundLoss(device=device, sb=sb),\n",
    "    # \"object\": ObjectLoss(device=device, mode='efficiency')\n",
    "}\n",
    "\n",
    "loss_weights = {\n",
    "    # everything that's not mentioned here will be 1\n",
    "    \"edge\": 5,\n",
    "    \"potential_attractive\": 10,\n",
    "    \"potential_repulsive\": 1,\n",
    "    \"background\": 1,\n",
    "    # \"object\": 1/250000,\n",
    "}\n",
    "\n",
    "# set up a model and trainer\n",
    "model = GraphTCN(node_indim, edge_indim, hc_outdim, hidden_dim=64)\n",
    "model_parameters = filter(lambda p: p.requires_grad, model.parameters())\n",
    "n_params = sum([np.prod(p.size()) for p in model_parameters])\n",
    "print(\"number trainable params:\", n_params)"
   ]
  },
  {
   "cell_type": "code",
   "execution_count": null,
   "id": "68304825",
   "metadata": {
    "pycharm": {
     "name": "#%%\n"
    }
   },
   "outputs": [],
   "source": [
    "checkpoint = torch.load(Path(\"~/data/gnn_tracking/model.pt\").expanduser())\n",
    "model.load_state_dict(checkpoint[\"model_state_dict\"])"
   ]
  },
  {
   "cell_type": "code",
   "execution_count": null,
   "id": "e3505208",
   "metadata": {
    "pycharm": {
     "name": "#%%\n"
    }
   },
   "outputs": [],
   "source": [
    "test_fcts = {\"dbscan\": clustering}\n",
    "\n",
    "trainer = TCNTrainer(\n",
    "    model=model,\n",
    "    loaders=loaders,\n",
    "    loss_functions=loss_functions,\n",
    "    lr=0.0001,\n",
    "    loss_weights=loss_weights,\n",
    "    device=device,\n",
    "    cluster_functions=test_fcts,\n",
    ")\n",
    "print(trainer.loss_functions)"
   ]
  },
  {
   "cell_type": "code",
   "execution_count": null,
   "id": "311feb15",
   "metadata": {
    "pycharm": {
     "name": "#%%\n"
    }
   },
   "outputs": [],
   "source": [
    "trainer.optimizer.load_state_dict(checkpoint[\"optimizer_state_dict\"])\n",
    "trainer._epoch = checkpoint[\"epoch\"]"
   ]
  },
  {
   "cell_type": "code",
   "execution_count": null,
   "id": "77ceedd0",
   "metadata": {
    "pycharm": {
     "name": "#%%\n"
    }
   },
   "outputs": [],
   "source": [
    "ns = [4558, 4265, 4532, 4596, 4314, 4222, 4888, 4640, 4797, 4565, 4883]"
   ]
  },
  {
   "cell_type": "code",
   "execution_count": null,
   "id": "7b939024",
   "metadata": {
    "pycharm": {
     "name": "#%%\n"
    }
   },
   "outputs": [],
   "source": [
    "import warnings\n",
    "\n",
    "warnings.filterwarnings(\"ignore\")\n",
    "trainer.test_step()"
   ]
  },
  {
   "cell_type": "code",
   "execution_count": null,
   "id": "ff8d302e",
   "metadata": {
    "pycharm": {
     "name": "#%%\n"
    }
   },
   "outputs": [],
   "source": [
    "torch.save(\n",
    "    {\n",
    "        \"epoch\": 5,\n",
    "        \"model_state_dict\": model.state_dict(),\n",
    "        \"optimizer_state_dict\": trainer.optimizer.state_dict(),\n",
    "    },\n",
    "    Path(\"~/data/gnn_tracking/model.pt\").expanduser(),\n",
    ")"
   ]
  },
  {
   "cell_type": "code",
   "execution_count": null,
   "id": "e6cb095f",
   "metadata": {
    "pycharm": {
     "name": "#%%\n"
    }
   },
   "outputs": [],
   "source": [
    "with torch.no_grad():\n",
    "    loader = loaders[\"val\"]\n",
    "    for _batch_idx, data in enumerate(loader):\n",
    "        print(data.sector.unique())"
   ]
  },
  {
   "cell_type": "code",
   "execution_count": null,
   "id": "1798e0ae",
   "metadata": {
    "pycharm": {
     "name": "#%%\n"
    }
   },
   "outputs": [],
   "source": []
  },
  {
   "cell_type": "code",
   "execution_count": null,
   "id": "6312165d",
   "metadata": {
    "pycharm": {
     "name": "#%%\n"
    }
   },
   "outputs": [],
   "source": []
  }
 ],
 "metadata": {
  "kernelspec": {
   "display_name": "Python 3 (ipykernel)",
   "language": "python",
   "name": "python3"
  },
  "language_info": {
   "codemirror_mode": {
    "name": "ipython",
    "version": 3
   },
   "file_extension": ".py",
   "mimetype": "text/x-python",
   "name": "python",
   "nbconvert_exporter": "python",
   "pygments_lexer": "ipython3",
   "version": "3.9.12"
  }
 },
 "nbformat": 4,
 "nbformat_minor": 5
}
