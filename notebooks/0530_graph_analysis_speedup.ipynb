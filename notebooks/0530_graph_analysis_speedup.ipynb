{
 "cells": [
  {
   "cell_type": "code",
   "execution_count": 77,
   "outputs": [
    {
     "name": "stdout",
     "output_type": "stream",
     "text": [
      "The autoreload extension is already loaded. To reload it, use:\n",
      "  %reload_ext autoreload\n"
     ]
    }
   ],
   "source": [
    "from functools import cached_property\n",
    "\n",
    "import math\n",
    "%load_ext autoreload\n",
    "%autoreload 2\n",
    "\n",
    "from torch_geometric.transforms import LargestConnectedComponents\n",
    "from torch_geometric.utils import to_scipy_sparse_matrix\n",
    "from tqdm import tqdm\n",
    "\n",
    "from gnn_tracking.graph_construction.radius_scanner import RadiusScanner\n",
    "from gnn_tracking.training.ml import MLModule\n",
    "from pathlib import Path\n",
    "from torch_cluster import radius_graph\n",
    "import pandas as pd\n",
    "import torch\n",
    "from gnn_tracking.utils.timing import Timer\n",
    "from gnn_tracking.metrics.cluster_metrics import tracking_metric_df\n",
    "import matplotlib.pyplot as plt\n",
    "import numpy as np\n",
    "\n"
   ],
   "metadata": {
    "collapsed": false
   }
  },
  {
   "cell_type": "code",
   "execution_count": 2,
   "outputs": [],
   "source": [
    "model_exchange_path = Path(\n",
    "    \"/scratch/gpfs/IOJALVO/gnn-tracking/object_condensation/model_exchange\"\n",
    ")"
   ],
   "metadata": {
    "collapsed": false
   }
  },
  {
   "cell_type": "code",
   "execution_count": 3,
   "outputs": [],
   "source": [
    "from gnn_tracking.utils.loading import TrackingDataModule\n",
    "\n",
    "dm = TrackingDataModule(\n",
    "    train=dict(\n",
    "        dirs=[\n",
    "            \"/scratch/gpfs/IOJALVO/gnn-tracking/object_condensation/point_clouds_v5/part_1/\"\n",
    "        ],\n",
    "        # If you run into memory issues, reduce this\n",
    "    ),\n",
    "    val=dict(\n",
    "        dirs=[\n",
    "            \"/scratch/gpfs/IOJALVO/gnn-tracking/object_condensation/point_clouds_v5/part_9/\"\n",
    "        ],\n",
    "        stop=5\n",
    "    ),\n",
    ")"
   ],
   "metadata": {
    "collapsed": false
   }
  },
  {
   "cell_type": "code",
   "execution_count": 4,
   "outputs": [
    {
     "name": "stderr",
     "output_type": "stream",
     "text": [
      "\u001B[32m[15:14:53] INFO: DataLoader will load 900 graphs (out of 900 available).\u001B[0m\n",
      "\u001B[36m[15:14:53] DEBUG: First graph is /scratch/gpfs/IOJALVO/gnn-tracking/object_condensation/point_clouds_v5/part_1/data21000_s0.pt, last graph is /scratch/gpfs/IOJALVO/gnn-tracking/object_condensation/point_clouds_v5/part_1/data21999_s0.pt\u001B[0m\n",
      "\u001B[32m[15:14:53] INFO: DataLoader will load 5 graphs (out of 1000 available).\u001B[0m\n",
      "\u001B[36m[15:14:53] DEBUG: First graph is /scratch/gpfs/IOJALVO/gnn-tracking/object_condensation/point_clouds_v5/part_9/data29000_s0.pt, last graph is /scratch/gpfs/IOJALVO/gnn-tracking/object_condensation/point_clouds_v5/part_9/data29004_s0.pt\u001B[0m\n"
     ]
    }
   ],
   "source": [
    "dm.setup(stage=\"fit\")"
   ],
   "metadata": {
    "collapsed": false
   }
  },
  {
   "cell_type": "code",
   "execution_count": 5,
   "outputs": [
    {
     "name": "stderr",
     "output_type": "stream",
     "text": [
      "\u001B[36m[15:14:53] DEBUG: Getting class GraphConstructionFCNN from module gnn_tracking.models.graph_construction\u001B[0m\n",
      "\u001B[36m[15:14:54] DEBUG: Getting class GraphConstructionHingeEmbeddingLoss from module gnn_tracking.metrics.losses\u001B[0m\n"
     ]
    }
   ],
   "source": [
    "model = MLModule.load_from_checkpoint(model_exchange_path / \"gc\" / \"gc-7dce6aff.ckpt\")"
   ],
   "metadata": {
    "collapsed": false
   }
  },
  {
   "cell_type": "code",
   "execution_count": 6,
   "outputs": [
    {
     "data": {
      "text/plain": "64253"
     },
     "execution_count": 6,
     "metadata": {},
     "output_type": "execute_result"
    }
   ],
   "source": [
    "data = dm.datasets[\"train\"][1]\n",
    "out = model(data)\n",
    "len(data.x)"
   ],
   "metadata": {
    "collapsed": false
   }
  },
  {
   "cell_type": "code",
   "execution_count": 7,
   "outputs": [],
   "source": [
    "h = out[\"H\"].detach()"
   ],
   "metadata": {
    "collapsed": false
   }
  },
  {
   "cell_type": "code",
   "execution_count": 8,
   "outputs": [
    {
     "data": {
      "text/plain": "{'H': tensor([[ 2.9730, -0.0253, -1.6322,  ...,  1.1640,  0.7052,  2.4498],\n         [ 2.7304,  1.6124, -3.0960,  ...,  1.2405, -1.2601,  1.6289],\n         [ 1.8941,  0.6949, -1.9455,  ...,  1.5763, -1.4844,  1.5647],\n         ...,\n         [ 2.1145,  0.1970, -2.7218,  ...,  0.4740, -0.2702,  2.6909],\n         [ 1.5417,  0.0789, -2.1065,  ...,  0.4393, -0.3658,  2.9885],\n         [ 2.3434,  0.0805, -2.7779,  ...,  0.4480, -0.1124,  2.4935]],\n        grad_fn=<MulBackward0>)}"
     },
     "execution_count": 8,
     "metadata": {},
     "output_type": "execute_result"
    }
   ],
   "source": [
    "out"
   ],
   "metadata": {
    "collapsed": false
   }
  },
  {
   "cell_type": "code",
   "execution_count": 9,
   "outputs": [],
   "source": [
    "# rsc = RadiusScanner(model_output=[{\"x\": out[\"H\"], \"particle_id\": data.particle_id, \"reconstructable\": data.reconstructable}], radius_range=(0.001, 1), n_trials=10)\n",
    "# rsc()"
   ],
   "metadata": {
    "collapsed": false
   }
  },
  {
   "cell_type": "code",
   "execution_count": 10,
   "outputs": [
    {
     "data": {
      "text/plain": "0.2683020969852805"
     },
     "execution_count": 10,
     "metadata": {},
     "output_type": "execute_result"
    }
   ],
   "source": [
    "from gnn_tracking.graph_construction.radius_scanner import construct_graph\n",
    "\n",
    "t =Timer()\n",
    "graph = construct_graph({\"x\": out[\"H\"], \"particle_id\": data.particle_id, \"reconstructable\": data.reconstructable, \"pt\": data.pt}, radius=0.2)\n",
    "t()"
   ],
   "metadata": {
    "collapsed": false
   }
  },
  {
   "cell_type": "code",
   "execution_count": 11,
   "outputs": [
    {
     "data": {
      "text/plain": "9360"
     },
     "execution_count": 11,
     "metadata": {},
     "output_type": "execute_result"
    }
   ],
   "source": [
    "len(graph.particle_id.unique())"
   ],
   "metadata": {
    "collapsed": false
   }
  },
  {
   "cell_type": "code",
   "execution_count": 12,
   "outputs": [],
   "source": [
    "\n",
    "import scipy\n",
    "from torch_geometric.data import Data\n",
    "import networkx as nx\n",
    "\n",
    "def get_largest_segment_fracs_scipy(data: Data, pt_thld=0.9, partitions=500, n_particles_sampled=None) -> np.ndarray:\n",
    "    \"\"\"A fast way to get the fraction of hits in the largest segment for each track.\n",
    "\n",
    "    Args:\n",
    "        data:\n",
    "        pt_thld:\n",
    "        partitions: This value only affects performance. It is the number of partitions\n",
    "            to split the particle ids into. Setting this to ~500 can result in speedups\n",
    "            of up to a factor of 15 (depending on number of edges).\n",
    "        n_particles_sampled: If not None, only consider a subsample of the particles.\n",
    "            This speeds up calculation.\n",
    "\n",
    "    Returns:\n",
    "        Array of fractions.\n",
    "    \"\"\"\n",
    "    t = Timer()\n",
    "    basic_hit_mask = (\n",
    "        (data.pt > pt_thld) & (data.particle_id > 0) & (data.reconstructable > 0)\n",
    "    )\n",
    "    unique_pids = data.particle_id[basic_hit_mask].unique()\n",
    "    if n_particles_sampled is not None:\n",
    "        rand_perm = torch.randperm(len(unique_pids))\n",
    "        unique_pids = unique_pids[rand_perm][:n_particles_sampled]\n",
    "        basic_hit_mask &= torch.isin(data.particle_id, unique_pids)\n",
    "    rdata = Data(\n",
    "        edge_index=data.edge_index,\n",
    "        particle_id=data.particle_id,\n",
    "        num_nodes=len(data.particle_id),\n",
    "    ).subgraph(basic_hit_mask)\n",
    "    r = []\n",
    "    # The edge masks are the most performance intensive part of this function.\n",
    "    # Therefore, we first split pids in groups and calculate the edge masks for each\n",
    "    # group, thereafter refining this selection.\n",
    "    unique_pids_grouped = [\n",
    "        unique_pids[i : i + partitions] for i in range(0, len(unique_pids), partitions)\n",
    "    ]\n",
    "    print(t())\n",
    "    t_masking_0 = 0\n",
    "    t_masking_1 = 0\n",
    "    t_masking_2 = 0\n",
    "    t_component = 0\n",
    "    for pid_group in unique_pids_grouped:\n",
    "        t = Timer()\n",
    "        g_hit_mask = torch.isin(rdata.particle_id, pid_group)\n",
    "        gdata = rdata.subgraph(g_hit_mask)\n",
    "        t_masking_0 += t()\n",
    "        for pid in pid_group:\n",
    "            t = Timer()\n",
    "            hit_mask: Tensor = gdata.particle_id == pid  # type: ignore\n",
    "            hit_locations = hit_mask.nonzero().squeeze(dim=-1)\n",
    "            t_masking_1 += t()\n",
    "            n_hits = hit_mask.sum().item()\n",
    "            assert n_hits > 0\n",
    "            assert n_hits == len(hit_locations), (n_hits, len(hit_locations))\n",
    "            t = Timer()\n",
    "            edge_mask = (\n",
    "                hit_mask[gdata.edge_index[0, :]] & hit_mask[gdata.edge_index[1, :]]\n",
    "            )\n",
    "            edge_index = gdata.edge_index[:, edge_mask]\n",
    "            if edge_index.shape[1] == 0:\n",
    "                r.append(0)\n",
    "                continue\n",
    "            # print(\"---\")\n",
    "            # print(edge_index.shape, n_hits)\n",
    "            # print(edge_index)\n",
    "            # print(len(np.unique(edge_index)))\n",
    "            t_masking_2 += t()\n",
    "            adj = to_scipy_sparse_matrix(edge_index)\n",
    "            # print(edge_index)\n",
    "            # print(adj)\n",
    "            # break\n",
    "            t()\n",
    "            _, components = scipy.sparse.csgraph.connected_components(adj)\n",
    "            _, count = np.unique(components, return_counts=True)\n",
    "            r.append(max(count) / n_hits)\n",
    "            t_component += t()\n",
    "    # print(t_masking_0, t_masking_1, t_masking_2, t_masking_0 + t_masking_1 + t_masking_2, t_component)\n",
    "    return np.array(r)"
   ],
   "metadata": {
    "collapsed": false
   }
  },
  {
   "cell_type": "code",
   "execution_count": 13,
   "outputs": [],
   "source": [
    "def get_largest_segment_fracs_nx(data: Data, pt_thld=0.9, partitions=500, n_particles_sampled=None) -> np.ndarray:\n",
    "    \"\"\"A fast way to get the fraction of hits in the largest segment for each track.\n",
    "\n",
    "    Args:\n",
    "        data:\n",
    "        pt_thld:\n",
    "        partitions: This value only affects performance. It is the number of partitions\n",
    "            to split the particle ids into. Setting this to ~500 can result in speedups\n",
    "            of up to a factor of 15 (depending on number of edges).\n",
    "        n_particles_sampled: If not None, only consider a subsample of the particles.\n",
    "            This speeds up calculation.\n",
    "\n",
    "    Returns:\n",
    "        Array of fractions.\n",
    "    \"\"\"\n",
    "    t = Timer()\n",
    "    basic_hit_mask = (\n",
    "        (data.pt > pt_thld) & (data.particle_id > 0) & (data.reconstructable > 0)\n",
    "    )\n",
    "    unique_pids = data.particle_id[basic_hit_mask].unique()\n",
    "    if n_particles_sampled is not None:\n",
    "        rand_perm = torch.randperm(len(unique_pids))\n",
    "        unique_pids = unique_pids[rand_perm][:n_particles_sampled]\n",
    "        basic_hit_mask &= torch.isin(data.particle_id, unique_pids)\n",
    "    rdata = Data(\n",
    "        edge_index=data.edge_index,\n",
    "        particle_id=data.particle_id,\n",
    "        num_nodes=len(data.particle_id),\n",
    "    ).subgraph(basic_hit_mask)\n",
    "    r = []\n",
    "    # The edge masks are the most performance intensive part of this function.\n",
    "    # Therefore, we first split pids in groups and calculate the edge masks for each\n",
    "    # group, thereafter refining this selection.\n",
    "    unique_pids_grouped = [\n",
    "        unique_pids[i : i + partitions] for i in range(0, len(unique_pids), partitions)\n",
    "    ]\n",
    "    t_masking_0 = 0\n",
    "    t_masking_1 = 0\n",
    "    t_masking_2 = 0\n",
    "    t_masking_3 = 0\n",
    "    t_component = 0\n",
    "    for pid_group in unique_pids_grouped:\n",
    "        t = Timer()\n",
    "        g_hit_mask = torch.isin(rdata.particle_id, pid_group)\n",
    "        gdata = rdata.subgraph(g_hit_mask)\n",
    "        t_masking_0 += t()\n",
    "        for pid in pid_group:\n",
    "            t = Timer()\n",
    "            hit_mask: Tensor = gdata.particle_id == pid  # type: ignore\n",
    "            hit_locations = hit_mask.nonzero().squeeze(dim=-1)\n",
    "            n_hits = hit_mask.sum().item()\n",
    "            assert n_hits > 0\n",
    "            assert n_hits == len(hit_locations), (n_hits, len(hit_locations))\n",
    "            edge_mask = (\n",
    "                hit_mask[gdata.edge_index[0, :]] & hit_mask[gdata.edge_index[1, :]]\n",
    "            )\n",
    "            t_masking_1 += t()\n",
    "            edge_index = gdata.edge_index[:, edge_mask]\n",
    "            t_masking_3 += t()\n",
    "            segment_subgraph = nx.Graph()\n",
    "            segment_subgraph.add_nodes_from(\n",
    "                hit_locations.detach().cpu().numpy().tolist()\n",
    "            )\n",
    "            segment_subgraph.add_edges_from(\n",
    "                edge_index.T.detach().cpu().numpy()\n",
    "            )\n",
    "            assert segment_subgraph.number_of_nodes() == n_hits, (\n",
    "                segment_subgraph.number_of_nodes(),\n",
    "                n_hits,\n",
    "            )\n",
    "            t()\n",
    "            segments: list[Sequence[int]] = sorted(  # type: ignore\n",
    "                nx.connected_components(segment_subgraph), key=len, reverse=True\n",
    "            )\n",
    "            r.append(len(segments[0]) / n_hits)\n",
    "            t_component += t()\n",
    "    t_masking = t_masking_0 + t_masking_1 + t_masking_2+ t_masking_3\n",
    "    # print(t_masking_0, t_masking_1, t_masking_2, t_masking_3, t_masking, t_component, t_component+t_masking)\n",
    "    return np.array(r)"
   ],
   "metadata": {
    "collapsed": false
   }
  },
  {
   "cell_type": "code",
   "execution_count": 14,
   "outputs": [
    {
     "data": {
      "text/plain": "tensor([567456645425135616, 864691884369379328, 851180879328837632,\n         ...,  31526915378511872, 869200981554888704,\n        324274085297127424])"
     },
     "execution_count": 14,
     "metadata": {},
     "output_type": "execute_result"
    }
   ],
   "source": [
    "graph.particle_id[graph.pt > 0.9]"
   ],
   "metadata": {
    "collapsed": false
   }
  },
  {
   "cell_type": "code",
   "execution_count": 15,
   "outputs": [],
   "source": [
    "tmp_mask = (graph.particle_id == 864691884369379328) | (graph.particle_id == 869200981554888704)\n",
    "tdata = graph.subgraph(tmp_mask)"
   ],
   "metadata": {
    "collapsed": false
   }
  },
  {
   "cell_type": "code",
   "execution_count": 16,
   "outputs": [],
   "source": [
    "from collections import defaultdict\n",
    "from typing import Sequence, Set\n",
    "\n",
    "\n",
    "def get_largest_segment_fracs_nx2(data: Data, pt_thld=0.9, n_particles_sampled=None) -> np.ndarray:\n",
    "    \"\"\"A fast way to get the fraction of hits in the largest segment for each track.\n",
    "\n",
    "    Args:\n",
    "        data:\n",
    "        pt_thld:\n",
    "        n_particles_sampled: If not None, only consider a subsample of the particles.\n",
    "            This speeds up calculation.\n",
    "\n",
    "    Returns:\n",
    "        Array of fractions.\n",
    "    \"\"\"\n",
    "    basic_hit_mask = (\n",
    "        (data.pt > pt_thld) & (data.particle_id > 0) & (data.reconstructable > 0)\n",
    "    )\n",
    "    unique_pids, counts = torch.unique(data.particle_id[basic_hit_mask], return_counts=True)\n",
    "    pid2count = dict(zip(unique_pids.tolist(), counts.tolist()))\n",
    "    if n_particles_sampled is not None:\n",
    "        rand_perm = torch.randperm(len(unique_pids))\n",
    "        unique_pids = unique_pids[rand_perm][:n_particles_sampled]\n",
    "        basic_hit_mask &= torch.isin(data.particle_id, unique_pids)\n",
    "    rdata = Data(\n",
    "        edge_index=data.edge_index[:, data.y],\n",
    "        particle_id=data.particle_id,\n",
    "        num_nodes=len(data.particle_id),\n",
    "    ).subgraph(basic_hit_mask)\n",
    "    gx = nx.Graph()\n",
    "    gx.add_edges_from(\n",
    "        rdata.edge_index.T.detach().cpu().numpy()\n",
    "    )\n",
    "    segments: list[Set[int]] = nx.connected_components(gx)\n",
    "    pid_to_largest_segment = defaultdict(int)\n",
    "    for segment in segments:\n",
    "        pid = rdata.particle_id[list(segment)[0]].item()\n",
    "        pid_to_largest_segment[pid] = max(pid_to_largest_segment[pid], len(segment) / pid2count[pid])\n",
    "    missing_pids = set(unique_pids.tolist()) - set(pid_to_largest_segment)\n",
    "    for pid in missing_pids:\n",
    "        pid_to_largest_segment[pid] = 1 / pid2count[pid]\n",
    "    return np.array(list( pid_to_largest_segment.values()))"
   ],
   "metadata": {
    "collapsed": false
   }
  },
  {
   "cell_type": "code",
   "execution_count": 119,
   "outputs": [
    {
     "name": "stdout",
     "output_type": "stream",
     "text": [
      "0.07376493397168815\n"
     ]
    },
    {
     "data": {
      "text/plain": "0.07929447095375508"
     },
     "execution_count": 119,
     "metadata": {},
     "output_type": "execute_result"
    }
   ],
   "source": [
    "t()\n",
    "get_largest_segment_fracs_nx2(graph)\n",
    "t()"
   ],
   "metadata": {
    "collapsed": false
   }
  },
  {
   "cell_type": "code",
   "execution_count": 17,
   "outputs": [],
   "source": [
    "from torch_cluster import knn_graph\n",
    "\n",
    "\n",
    "def knn_with_max_radius(x, k: int, max_radius: float | None = None) :\n",
    "    \"\"\"A version of kNN that excludes edges with a distance larger than a given radius.\n",
    "\n",
    "    Args:\n",
    "        x:\n",
    "        k: Number of neighbors\n",
    "        max_radius:\n",
    "\n",
    "    Returns:\n",
    "        edge index\n",
    "    \"\"\"\n",
    "    edge_index = knn_graph(x, k=k)\n",
    "    if max_radius is not None:\n",
    "        dists = (x[edge_index[0]] - x[edge_index[1]]).norm(dim=-1)\n",
    "        edge_index = edge_index[:, dists < max_radius]\n",
    "    return edge_index"
   ],
   "metadata": {
    "collapsed": false
   }
  },
  {
   "cell_type": "code",
   "execution_count": 74,
   "outputs": [],
   "source": [
    "from gnn_tracking.utils.log import logger\n",
    "from pytorch_lightning.core.mixins import HyperparametersMixin\n",
    "\n",
    "\n",
    "class GraphConstructionKNNScanner(HyperparametersMixin):\n",
    "    def __init__(self, ks: list[float], max_radius=1.0, pt_thld=0.9, subsample_pids: int|None =None, max_edges=5_000_000):\n",
    "        super().__init__()\n",
    "        self.save_hyperparameters()\n",
    "        self._results = []\n",
    "\n",
    "    @property\n",
    "    def results(self) -> pd.DataFrame:\n",
    "        return pd.DataFrame.from_records(self._results)\n",
    "\n",
    "    @property\n",
    "    def results_mean(self) -> pd.DataFrame:\n",
    "        return self.results.groupby(\"k\").mean()\n",
    "\n",
    "    def reset(self):\n",
    "        self._results = []\n",
    "\n",
    "    def __call__(self, data, i_batch: int, progress=False):\n",
    "        if i_batch == 0:\n",
    "            self.reset()\n",
    "        iterator = self.hparams.ks\n",
    "        if progress:\n",
    "            iterator = tqdm(iterator)\n",
    "        for k in iterator:\n",
    "            data.edge_index = knn_with_max_radius(data.x, k=k, max_radius=self.hparams.max_radius)\n",
    "            n_edges =  data.edge_index.shape[1]\n",
    "            if n_edges > self.hparams.max_edges:\n",
    "                logger.warning(\"Not scanning k>=%d because max edges exceeded (%d > %d)\", k, n_edges, self.hparams.max_edges)\n",
    "                break\n",
    "            data.y = data.particle_id[data.edge_index[0]] == data.particle_id[data.edge_index[1]]\n",
    "            lsfs = get_largest_segment_fracs_nx2(data)\n",
    "            self._results.append({\n",
    "                \"k\": k,\n",
    "                \"frac50\": (lsfs > 0.5).mean().item(),\n",
    "                \"frac75\": (lsfs > 0.75).mean().item(),\n",
    "                \"frac100\": (lsfs == 1).mean().item(),\n",
    "                \"n_edges\": n_edges\n",
    "            })"
   ],
   "metadata": {
    "collapsed": false
   }
  },
  {
   "cell_type": "code",
   "execution_count": 87,
   "outputs": [
    {
     "name": "stderr",
     "output_type": "stream",
     "text": [
      "100%|███████████████████████████████████████████████████████████████████████████████████████████████████████████████████████████████████████████████████████████████████████████████████████████████████████████████| 10/10 [00:05<00:00,  1.88it/s]\n"
     ]
    }
   ],
   "source": [
    "gc = GraphConstructionKNNScanner(ks=np.arange(0, 40, 4).tolist())\n",
    "gc(graph, 0, progress=True)"
   ],
   "metadata": {
    "collapsed": false
   }
  },
  {
   "cell_type": "code",
   "execution_count": 92,
   "outputs": [],
   "source": [
    "ksr = KScanResults(gc.results_mean, targets=[0.5, 0.95])"
   ],
   "metadata": {
    "collapsed": false
   }
  },
  {
   "cell_type": "code",
   "execution_count": 94,
   "outputs": [
    {
     "data": {
      "text/plain": "<Axes: >"
     },
     "execution_count": 94,
     "metadata": {},
     "output_type": "execute_result"
    },
    {
     "data": {
      "text/plain": "<Figure size 640x480 with 2 Axes>",
      "image/png": "[encoded data removed]"
     },
     "metadata": {},
     "output_type": "display_data"
    }
   ],
   "source": [
    "ksr.plot()"
   ],
   "metadata": {
    "collapsed": false
   }
  },
  {
   "cell_type": "code",
   "execution_count": 91,
   "outputs": [],
   "source": [
    "\n",
    "from scipy.optimize import minimize\n",
    "from scipy.interpolate import CubicSpline\n",
    "from gnn_tracking.utils.dictionaries import pivot_record_list\n",
    "\n",
    "\n",
    "class KScanResults:\n",
    "    def __init__(\n",
    "        self,\n",
    "        results: pd.DataFrame,\n",
    "        targets: Sequence[float],\n",
    "    ):\n",
    "        \"\"\"This object holds the results of scanning over ks. It performs\n",
    "        interpolation to get the figures of merit (FOMs).\n",
    "\n",
    "        Args:\n",
    "            results: The results of the scan: (k, n_edges, frac50, ...)\n",
    "            targets: The targets 50%-segment fractions that we're interested in\n",
    "        \"\"\"\n",
    "        self.df = results.sort_values(\"k\")\n",
    "        self.df[\"k\"] = self.df.index\n",
    "        self.targets = targets\n",
    "\n",
    "    def get_foms(self) -> dict[str, float]:\n",
    "        foms = {}\n",
    "        for t in self.targets:\n",
    "            fat = self._get_foms_at_target(t)\n",
    "            foms[f\"n_edges_frac_segment50_{t*100:.0f}\"] = fat[\"n_edges\"]\n",
    "            foms[f\"n_edges_frac_segment50_{t*100:.0f}_k\"] = fat[\"k\"]\n",
    "            foms[f\"frac75_at_frac_segment50_{t*100:.0f}\"] = fat[\"frac75\"]\n",
    "            foms[f\"frac100_at_frac_segment50_{t*100:.0f}\"] = fat[\"frac100\"]\n",
    "        idx_max_frac50 = self.df[\"frac50\"].argmax()\n",
    "        fat = self.df.iloc[idx_max_frac50]\n",
    "        foms[\"max_frac_segment50\"] = fat[\"frac50\"]\n",
    "        foms[\"n_edges_max_frac_segment50\"] = fat[\"n_edges\"]\n",
    "        foms[\"max_frac_segment50_k\"] = fat[\"k\"]\n",
    "        foms[\"frac75_at_max_frac_segment50\"] = fat[\"frac75\"]\n",
    "        foms[\"frac100_at_max_frac_segment50\"] = fat[\"frac100\"]\n",
    "        return foms\n",
    "\n",
    "    def plot(self) -> plt.Axes:\n",
    "        \"\"\"Plot interpolation\"\"\"\n",
    "        bounds = (\n",
    "            self.df[\"k\"].min(),\n",
    "            self.df[\"k\"].max(),\n",
    "        )\n",
    "        xs = np.linspace(*bounds, 1000)\n",
    "        df = pd.DataFrame(pivot_record_list([self._eval_spline(x) for x in xs]))\n",
    "        fig, ax = plt.subplots()\n",
    "        ax2 = ax.twinx()\n",
    "        ax.plot(\"k\", \"frac50\", data=df, marker=\"none\", color=\"C0\", label=\"frac 50\")\n",
    "        ax.plot(\"k\", \"frac50\", data=self.df, marker=\"o\", color=\"C0\", ls=\"none\")\n",
    "        ax2.plot(\"k\", \"n_edges\", data=df, marker=\"none\", color=\"C1\", label=\"edges\")\n",
    "        ax2.plot(\"k\", \"n_edges\", data=self.df, marker=\"o\", color=\"C1\", ls=\"none\")\n",
    "        ax.plot(\"k\", \"frac75\", data=df, marker=\"none\", color=\"C2\", label=\"frac 75\")\n",
    "        ax.plot(\"k\", \"frac75\", data=self.df, marker=\"o\", color=\"C2\", ls=\"none\")\n",
    "        ax.plot(\n",
    "            \"k\", \"frac100\", data=df, marker=\"none\", color=\"C3\", label=\"frac 100\"\n",
    "        )\n",
    "        ax.plot(\"k\", \"frac100\", data=self.df, marker=\"o\", color=\"C3\", ls=\"none\")\n",
    "        for t in self.targets:\n",
    "            ax.axhline(t, linestyle=\"--\", lw=1, color=\"C0\")\n",
    "        for target in self.targets:\n",
    "            ax.axvline(\n",
    "                self._get_target_k(target), linestyle=\"--\", lw=1, color=\"C0\"\n",
    "            )\n",
    "        fig.legend(loc=\"lower right\")\n",
    "        return ax\n",
    "\n",
    "    @cached_property\n",
    "    def _spline(self):\n",
    "        return CubicSpline(self.df[\"k\"], self.df)\n",
    "\n",
    "    def _eval_spline(self, k: float) -> dict[str, float]:\n",
    "        # Unclear why sometimes the spline returns a 2D array\n",
    "        _r = self._spline(k).squeeze().tolist()\n",
    "        return dict(zip(self.df.columns, _r))\n",
    "\n",
    "    def _get_target_k(self, target: float) -> float:\n",
    "        \"\"\"K at which the 50%-segment fraction = target\"\"\"\n",
    "        if target > self.df[\"frac50\"].max():\n",
    "            return float(\"nan\")\n",
    "        bounds = (\n",
    "            self.df[\"k\"].min().item(),\n",
    "            self.df[\"k\"].max().item(),\n",
    "        )\n",
    "        initial_value = sum(bounds) / 2\n",
    "        return minimize(\n",
    "            lambda k: np.abs(self._eval_spline(k)[\"frac50\"] - target),\n",
    "            x0=initial_value,\n",
    "            bounds=(bounds,),\n",
    "        ).x.item()\n",
    "\n",
    "    def _get_foms_at_target(self, target: float) -> dict[str, float]:\n",
    "        _nan_results = {k: float(\"nan\") for k in self.df.columns}\n",
    "        if len(self.df) < 2:\n",
    "            return _nan_results\n",
    "        target_r = self._get_target_k(target)\n",
    "        if math.isnan(target_r):\n",
    "            return _nan_results\n",
    "        return self._eval_spline(target_r)\n"
   ],
   "metadata": {
    "collapsed": false
   }
  },
  {
   "cell_type": "code",
   "execution_count": 73,
   "outputs": [
    {
     "data": {
      "text/plain": "      frac50    frac75   frac100    n_edges\nk                                          \n0   0.000000  0.000000  0.000000        0.0\n2   0.539021  0.273148  0.163360   128434.0\n4   0.767857  0.548942  0.402778   256711.0\n6   0.842593  0.673942  0.535053   384811.0\n8   0.884259  0.757275  0.645503   512672.0\n10  0.910053  0.810185  0.717593   640307.0\n12  0.927910  0.845238  0.761905   767731.0\n14  0.938492  0.869048  0.800265   894924.0\n16  0.947751  0.885582  0.824074  1021890.0\n18  0.957011  0.901455  0.847884  1148664.0\n20  0.963624  0.913360  0.861111  1275202.0\n22  0.970899  0.927249  0.880291  1401534.0\n24  0.973545  0.935185  0.893519  1527707.0\n26  0.976852  0.941138  0.901455  1653734.0\n28  0.979497  0.947090  0.908730  1779611.0",
      "text/html": "<div>\n<style scoped>\n    .dataframe tbody tr th:only-of-type {\n        vertical-align: middle;\n    }\n\n    .dataframe tbody tr th {\n        vertical-align: top;\n    }\n\n    .dataframe thead th {\n        text-align: right;\n    }\n</style>\n<table border=\"1\" class=\"dataframe\">\n  <thead>\n    <tr style=\"text-align: right;\">\n      <th></th>\n      <th>frac50</th>\n      <th>frac75</th>\n      <th>frac100</th>\n      <th>n_edges</th>\n    </tr>\n    <tr>\n      <th>k</th>\n      <th></th>\n      <th></th>\n      <th></th>\n      <th></th>\n    </tr>\n  </thead>\n  <tbody>\n    <tr>\n      <th>0</th>\n      <td>0.000000</td>\n      <td>0.000000</td>\n      <td>0.000000</td>\n      <td>0.0</td>\n    </tr>\n    <tr>\n      <th>2</th>\n      <td>0.539021</td>\n      <td>0.273148</td>\n      <td>0.163360</td>\n      <td>128434.0</td>\n    </tr>\n    <tr>\n      <th>4</th>\n      <td>0.767857</td>\n      <td>0.548942</td>\n      <td>0.402778</td>\n      <td>256711.0</td>\n    </tr>\n    <tr>\n      <th>6</th>\n      <td>0.842593</td>\n      <td>0.673942</td>\n      <td>0.535053</td>\n      <td>384811.0</td>\n    </tr>\n    <tr>\n      <th>8</th>\n      <td>0.884259</td>\n      <td>0.757275</td>\n      <td>0.645503</td>\n      <td>512672.0</td>\n    </tr>\n    <tr>\n      <th>10</th>\n      <td>0.910053</td>\n      <td>0.810185</td>\n      <td>0.717593</td>\n      <td>640307.0</td>\n    </tr>\n    <tr>\n      <th>12</th>\n      <td>0.927910</td>\n      <td>0.845238</td>\n      <td>0.761905</td>\n      <td>767731.0</td>\n    </tr>\n    <tr>\n      <th>14</th>\n      <td>0.938492</td>\n      <td>0.869048</td>\n      <td>0.800265</td>\n      <td>894924.0</td>\n    </tr>\n    <tr>\n      <th>16</th>\n      <td>0.947751</td>\n      <td>0.885582</td>\n      <td>0.824074</td>\n      <td>1021890.0</td>\n    </tr>\n    <tr>\n      <th>18</th>\n      <td>0.957011</td>\n      <td>0.901455</td>\n      <td>0.847884</td>\n      <td>1148664.0</td>\n    </tr>\n    <tr>\n      <th>20</th>\n      <td>0.963624</td>\n      <td>0.913360</td>\n      <td>0.861111</td>\n      <td>1275202.0</td>\n    </tr>\n    <tr>\n      <th>22</th>\n      <td>0.970899</td>\n      <td>0.927249</td>\n      <td>0.880291</td>\n      <td>1401534.0</td>\n    </tr>\n    <tr>\n      <th>24</th>\n      <td>0.973545</td>\n      <td>0.935185</td>\n      <td>0.893519</td>\n      <td>1527707.0</td>\n    </tr>\n    <tr>\n      <th>26</th>\n      <td>0.976852</td>\n      <td>0.941138</td>\n      <td>0.901455</td>\n      <td>1653734.0</td>\n    </tr>\n    <tr>\n      <th>28</th>\n      <td>0.979497</td>\n      <td>0.947090</td>\n      <td>0.908730</td>\n      <td>1779611.0</td>\n    </tr>\n  </tbody>\n</table>\n</div>"
     },
     "execution_count": 73,
     "metadata": {},
     "output_type": "execute_result"
    }
   ],
   "source": [
    "gc.results_mean"
   ],
   "metadata": {
    "collapsed": false
   }
  },
  {
   "cell_type": "code",
   "execution_count": 67,
   "outputs": [
    {
     "data": {
      "text/plain": "      frac50    frac75   frac100   n_edges\nk                                         \n0   0.000000  0.000000  0.000000       0.0\n2   0.840608  0.640212  0.541005   20568.0\n4   0.954365  0.886243  0.813492   41121.0\n6   0.977513  0.937831  0.894180   61511.0\n8   0.982804  0.954365  0.929233   81664.0\n10  0.989418  0.967593  0.947751  101422.0\n12  0.992725  0.978175  0.963624  120478.0\n14  0.994048  0.982143  0.969577  138827.0\n16  0.995370  0.984788  0.974206  156189.0\n18  0.996693  0.987434  0.978836  172653.0\n20  0.997354  0.988757  0.981481  188200.0\n22  0.998016  0.989418  0.982804  202722.0\n24  0.998016  0.990741  0.984127  216183.0\n26  0.998016  0.992063  0.985450  228572.0\n28  0.998677  0.994048  0.986772  239778.0",
      "text/html": "<div>\n<style scoped>\n    .dataframe tbody tr th:only-of-type {\n        vertical-align: middle;\n    }\n\n    .dataframe tbody tr th {\n        vertical-align: top;\n    }\n\n    .dataframe thead th {\n        text-align: right;\n    }\n</style>\n<table border=\"1\" class=\"dataframe\">\n  <thead>\n    <tr style=\"text-align: right;\">\n      <th></th>\n      <th>frac50</th>\n      <th>frac75</th>\n      <th>frac100</th>\n      <th>n_edges</th>\n    </tr>\n    <tr>\n      <th>k</th>\n      <th></th>\n      <th></th>\n      <th></th>\n      <th></th>\n    </tr>\n  </thead>\n  <tbody>\n    <tr>\n      <th>0</th>\n      <td>0.000000</td>\n      <td>0.000000</td>\n      <td>0.000000</td>\n      <td>0.0</td>\n    </tr>\n    <tr>\n      <th>2</th>\n      <td>0.840608</td>\n      <td>0.640212</td>\n      <td>0.541005</td>\n      <td>20568.0</td>\n    </tr>\n    <tr>\n      <th>4</th>\n      <td>0.954365</td>\n      <td>0.886243</td>\n      <td>0.813492</td>\n      <td>41121.0</td>\n    </tr>\n    <tr>\n      <th>6</th>\n      <td>0.977513</td>\n      <td>0.937831</td>\n      <td>0.894180</td>\n      <td>61511.0</td>\n    </tr>\n    <tr>\n      <th>8</th>\n      <td>0.982804</td>\n      <td>0.954365</td>\n      <td>0.929233</td>\n      <td>81664.0</td>\n    </tr>\n    <tr>\n      <th>10</th>\n      <td>0.989418</td>\n      <td>0.967593</td>\n      <td>0.947751</td>\n      <td>101422.0</td>\n    </tr>\n    <tr>\n      <th>12</th>\n      <td>0.992725</td>\n      <td>0.978175</td>\n      <td>0.963624</td>\n      <td>120478.0</td>\n    </tr>\n    <tr>\n      <th>14</th>\n      <td>0.994048</td>\n      <td>0.982143</td>\n      <td>0.969577</td>\n      <td>138827.0</td>\n    </tr>\n    <tr>\n      <th>16</th>\n      <td>0.995370</td>\n      <td>0.984788</td>\n      <td>0.974206</td>\n      <td>156189.0</td>\n    </tr>\n    <tr>\n      <th>18</th>\n      <td>0.996693</td>\n      <td>0.987434</td>\n      <td>0.978836</td>\n      <td>172653.0</td>\n    </tr>\n    <tr>\n      <th>20</th>\n      <td>0.997354</td>\n      <td>0.988757</td>\n      <td>0.981481</td>\n      <td>188200.0</td>\n    </tr>\n    <tr>\n      <th>22</th>\n      <td>0.998016</td>\n      <td>0.989418</td>\n      <td>0.982804</td>\n      <td>202722.0</td>\n    </tr>\n    <tr>\n      <th>24</th>\n      <td>0.998016</td>\n      <td>0.990741</td>\n      <td>0.984127</td>\n      <td>216183.0</td>\n    </tr>\n    <tr>\n      <th>26</th>\n      <td>0.998016</td>\n      <td>0.992063</td>\n      <td>0.985450</td>\n      <td>228572.0</td>\n    </tr>\n    <tr>\n      <th>28</th>\n      <td>0.998677</td>\n      <td>0.994048</td>\n      <td>0.986772</td>\n      <td>239778.0</td>\n    </tr>\n  </tbody>\n</table>\n</div>"
     },
     "execution_count": 67,
     "metadata": {},
     "output_type": "execute_result"
    }
   ],
   "source": [
    "gc.results_mean"
   ],
   "metadata": {
    "collapsed": false
   }
  },
  {
   "cell_type": "code",
   "execution_count": 46,
   "outputs": [
    {
     "data": {
      "text/plain": "Empty DataFrame\nColumns: []\nIndex: [1]",
      "text/html": "<div>\n<style scoped>\n    .dataframe tbody tr th:only-of-type {\n        vertical-align: middle;\n    }\n\n    .dataframe tbody tr th {\n        vertical-align: top;\n    }\n\n    .dataframe thead th {\n        text-align: right;\n    }\n</style>\n<table border=\"1\" class=\"dataframe\">\n  <thead>\n    <tr style=\"text-align: right;\">\n      <th></th>\n    </tr>\n    <tr>\n      <th>a</th>\n    </tr>\n  </thead>\n  <tbody>\n    <tr>\n      <th>1</th>\n    </tr>\n  </tbody>\n</table>\n</div>"
     },
     "execution_count": 46,
     "metadata": {},
     "output_type": "execute_result"
    }
   ],
   "source": [
    "pd.DataFrame({\"a\": [1]}).groupby(\"a\").mean()"
   ],
   "metadata": {
    "collapsed": false
   }
  },
  {
   "cell_type": "code",
   "execution_count": 68,
   "outputs": [],
   "source": [
    "class KNNMaxRadiusFastRescan:\n",
    "    def __init__(self, x, k: int, max_radius = 1.):\n",
    "        self._max_radius = max_radius\n",
    "        self._edge_index = knn_graph(x, k=k)\n",
    "        self._dists = (x[self._edge_index[0]] - x[self._edge_index[1]]).norm(dim=-1)\n",
    "        self._filter_edge_index(r=max_radius)\n",
    "\n",
    "    def _filter_edge_index(self, r):\n",
    "        assert r <= self._max_radius\n",
    "        if np.isclose(r, self._max_radius):\n",
    "            return\n",
    "        mask = self._dists < r\n",
    "        self._edge_index = self._edge_index[:, mask]\n",
    "        self._dists = self._dists[mask]\n",
    "        self._max_radius = r\n",
    "\n",
    "    def scan(self, r):\n",
    "        self._filter_edge_index(r)\n",
    "        return self._edge_index"
   ],
   "metadata": {
    "collapsed": false
   }
  },
  {
   "cell_type": "code",
   "execution_count": 69,
   "outputs": [
    {
     "name": "stderr",
     "output_type": "stream",
     "text": [
      "100%|███████████████████████████████████████████████████████████████████████████████████████████████████████████████████████████████████████████████████████████████████████████████████████████████████████████████| 10/10 [00:00<00:00, 26.27it/s]\n",
      "100%|███████████████████████████████████████████████████████████████████████████████████████████████████████████████████████████████████████████████████████████████████████████████████████████████████████████████| 10/10 [00:00<00:00, 11.76it/s]\n",
      "100%|███████████████████████████████████████████████████████████████████████████████████████████████████████████████████████████████████████████████████████████████████████████████████████████████████████████████| 10/10 [00:00<00:00, 17.24it/s]\n",
      "100%|███████████████████████████████████████████████████████████████████████████████████████████████████████████████████████████████████████████████████████████████████████████████████████████████████████████████| 10/10 [00:00<00:00, 14.93it/s]\n",
      "100%|███████████████████████████████████████████████████████████████████████████████████████████████████████████████████████████████████████████████████████████████████████████████████████████████████████████████| 10/10 [00:00<00:00, 13.31it/s]\n",
      "100%|███████████████████████████████████████████████████████████████████████████████████████████████████████████████████████████████████████████████████████████████████████████████████████████████████████████████| 10/10 [00:01<00:00,  8.58it/s]\n",
      "100%|███████████████████████████████████████████████████████████████████████████████████████████████████████████████████████████████████████████████████████████████████████████████████████████████████████████████| 10/10 [00:00<00:00, 11.28it/s]\n",
      "100%|███████████████████████████████████████████████████████████████████████████████████████████████████████████████████████████████████████████████████████████████████████████████████████████████████████████████| 10/10 [00:00<00:00, 10.49it/s]\n",
      "100%|███████████████████████████████████████████████████████████████████████████████████████████████████████████████████████████████████████████████████████████████████████████████████████████████████████████████| 10/10 [00:01<00:00,  7.40it/s]\n",
      "100%|███████████████████████████████████████████████████████████████████████████████████████████████████████████████████████████████████████████████████████████████████████████████████████████████████████████████| 10/10 [00:01<00:00,  9.59it/s]\n",
      "100%|███████████████████████████████████████████████████████████████████████████████████████████████████████████████████████████████████████████████████████████████████████████████████████████████████████████████| 10/10 [00:01<00:00,  9.21it/s]\n",
      "100%|███████████████████████████████████████████████████████████████████████████████████████████████████████████████████████████████████████████████████████████████████████████████████████████████████████████████| 10/10 [00:01<00:00,  8.82it/s]\n",
      "100%|███████████████████████████████████████████████████████████████████████████████████████████████████████████████████████████████████████████████████████████████████████████████████████████████████████████████| 10/10 [00:01<00:00,  6.63it/s]\n",
      "100%|███████████████████████████████████████████████████████████████████████████████████████████████████████████████████████████████████████████████████████████████████████████████████████████████████████████████| 10/10 [00:01<00:00,  8.42it/s]\n",
      "100%|███████████████████████████████████████████████████████████████████████████████████████████████████████████████████████████████████████████████████████████████████████████████████████████████████████████████| 10/10 [00:01<00:00,  8.17it/s]\n",
      "100%|███████████████████████████████████████████████████████████████████████████████████████████████████████████████████████████████████████████████████████████████████████████████████████████████████████████████| 10/10 [00:01<00:00,  5.96it/s]\n",
      "100%|███████████████████████████████████████████████████████████████████████████████████████████████████████████████████████████████████████████████████████████████████████████████████████████████████████████████| 10/10 [00:01<00:00,  7.91it/s]\n",
      "100%|███████████████████████████████████████████████████████████████████████████████████████████████████████████████████████████████████████████████████████████████████████████████████████████████████████████████| 10/10 [00:01<00:00,  7.79it/s]\n",
      "100%|███████████████████████████████████████████████████████████████████████████████████████████████████████████████████████████████████████████████████████████████████████████████████████████████████████████████| 10/10 [00:01<00:00,  6.07it/s]\n",
      "100%|███████████████████████████████████████████████████████████████████████████████████████████████████████████████████████████████████████████████████████████████████████████████████████████████████████████████| 10/10 [00:01<00:00,  7.59it/s]\n",
      "100%|███████████████████████████████████████████████████████████████████████████████████████████████████████████████████████████████████████████████████████████████████████████████████████████████████████████████| 10/10 [00:01<00:00,  7.55it/s]\n",
      "100%|███████████████████████████████████████████████████████████████████████████████████████████████████████████████████████████████████████████████████████████████████████████████████████████████████████████████| 10/10 [00:01<00:00,  7.45it/s]\n",
      "100%|███████████████████████████████████████████████████████████████████████████████████████████████████████████████████████████████████████████████████████████████████████████████████████████████████████████████| 10/10 [00:01<00:00,  5.91it/s]\n",
      "100%|███████████████████████████████████████████████████████████████████████████████████████████████████████████████████████████████████████████████████████████████████████████████████████████████████████████████| 10/10 [00:01<00:00,  7.30it/s]\n",
      "100%|███████████████████████████████████████████████████████████████████████████████████████████████████████████████████████████████████████████████████████████████████████████████████████████████████████████████| 10/10 [00:01<00:00,  7.25it/s]\n",
      "100%|███████████████████████████████████████████████████████████████████████████████████████████████████████████████████████████████████████████████████████████████████████████████████████████████████████████████| 10/10 [00:01<00:00,  5.77it/s]\n",
      "100%|███████████████████████████████████████████████████████████████████████████████████████████████████████████████████████████████████████████████████████████████████████████████████████████████████████████████| 10/10 [00:01<00:00,  7.10it/s]\n",
      "100%|███████████████████████████████████████████████████████████████████████████████████████████████████████████████████████████████████████████████████████████████████████████████████████████████████████████████| 10/10 [00:01<00:00,  7.12it/s]\n",
      "100%|███████████████████████████████████████████████████████████████████████████████████████████████████████████████████████████████████████████████████████████████████████████████████████████████████████████████| 10/10 [00:01<00:00,  5.64it/s]\n",
      "100%|███████████████████████████████████████████████████████████████████████████████████████████████████████████████████████████████████████████████████████████████████████████████████████████████████████████████| 10/10 [00:01<00:00,  6.89it/s]\n"
     ]
    }
   ],
   "source": [
    "import copy\n",
    "\n",
    "results = []\n",
    "nss = []\n",
    "ks = list(range(1, 31))\n",
    "epss = np.linspace(0.01, 1, 10)[::-1]\n",
    "_data = copy.deepcopy(data)\n",
    "t()\n",
    "for k in ks:\n",
    "    scanner = KNNMaxRadiusFastRescan(graph.x, k=k, max_radius=1)\n",
    "    for eps in tqdm(epss):\n",
    "        _data.edge_index = scanner.scan(eps)\n",
    "        _data.y = _data.particle_id[_data.edge_index[0]] == _data.particle_id[_data.edge_index[1]]\n",
    "        _r = get_largest_segment_fracs_nx2(_data, n_particles_sampled=None)\n",
    "        r = {\n",
    "            \"eps\": eps,\n",
    "            \"k\": k,\n",
    "            \"dm\": (_r > 0.5).sum() / len(_r),\n",
    "            \"n\": _data.edge_index.shape[1],\n",
    "        }\n",
    "        results.append(r)\n",
    "t()\n",
    "rdf = pd.DataFrame.from_records(results)"
   ],
   "metadata": {
    "collapsed": false
   }
  },
  {
   "cell_type": "code",
   "execution_count": 70,
   "outputs": [
    {
     "name": "stderr",
     "output_type": "stream",
     "text": [
      "/tmp/ipykernel_1797076/301819916.py:2: RuntimeWarning: Second argument 'dm' is ambiguous: could be a format string but is in 'data'; using as data.  If it was intended as data, set the format string to an empty string to suppress this warning.  If it was intended as a format string, explicitly pass the x-values as well.  Alternatively, rename the entry in 'data'.\n",
      "  plt.plot(\"n\", \"dm\", label=k, data=rdf[rdf.k == k])\n"
     ]
    },
    {
     "data": {
      "text/plain": "<matplotlib.lines.Line2D at 0x151c227083a0>"
     },
     "execution_count": 70,
     "metadata": {},
     "output_type": "execute_result"
    },
    {
     "data": {
      "text/plain": "<Figure size 640x480 with 1 Axes>",
      "image/png": "[encoded data removed]"
     },
     "metadata": {},
     "output_type": "display_data"
    }
   ],
   "source": [
    "for k in rdf.k.unique():\n",
    "    plt.plot(\"n\", \"dm\", label=k, data=rdf[rdf.k == k])\n",
    "plt.axhline(0.95)\n",
    "# plt.legend()"
   ],
   "metadata": {
    "collapsed": false
   }
  },
  {
   "cell_type": "code",
   "execution_count": 70,
   "outputs": [],
   "source": [
    "# def get_latent_space_part(data, frac=0.5):\n",
    "#     projected = data.x.sum(axis=1)\n",
    "#     boundary = torch.quantile(projected, frac)\n",
    "#     mask = projected < boundary\n",
    "#     return data.subgraph(mask)"
   ],
   "metadata": {
    "collapsed": false
   }
  }
 ],
 "metadata": {
  "kernelspec": {
   "display_name": "Python 3",
   "language": "python",
   "name": "python3"
  },
  "language_info": {
   "codemirror_mode": {
    "name": "ipython",
    "version": 2
   },
   "file_extension": ".py",
   "mimetype": "text/x-python",
   "name": "python",
   "nbconvert_exporter": "python",
   "pygments_lexer": "ipython2",
   "version": "2.7.6"
  }
 },
 "nbformat": 4,
 "nbformat_minor": 0
}
