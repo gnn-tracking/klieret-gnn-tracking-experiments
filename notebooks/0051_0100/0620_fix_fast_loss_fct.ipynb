{
 "cells": [
  {
   "cell_type": "code",
   "execution_count": 46,
   "metadata": {
    "collapsed": true
   },
   "outputs": [],
   "source": [
    "import sys\n",
    "from gnn_tracking.metrics.losses import _first_occurrences, _square_distances\n",
    "import torch\n",
    "\n",
    "from torch import Tensor as T\n",
    "from torch_cluster import radius_graph\n",
    "\n",
    "from gnn_tracking.utils.log import logger\n",
    "\n",
    "\n",
    "sys.path.append(\"/home/fuchur/Documents/23/git_sync/gnn_tracking\")\n",
    "\n",
    "from tests.test_losses import generate_test_data\n",
    "\n",
    "td1 = generate_test_data()"
   ]
  },
  {
   "cell_type": "code",
   "execution_count": 47,
   "outputs": [],
   "source": [
    "\n",
    "beta=td1.beta\n",
    "x=td1.x\n",
    "particle_id=td1.particle_id\n",
    "q_min=0.01\n",
    "mask=torch.ones_like(td1.beta, dtype=bool)\n",
    "radius_threshold=1\n",
    "max_num_neighbors=500000\n"
   ],
   "metadata": {
    "collapsed": false
   }
  },
  {
   "cell_type": "code",
   "execution_count": 48,
   "outputs": [],
   "source": [
    "# -- 1. Determine indices of condensation points (CPs) and q --\n",
    "_sorted_indices = torch.argsort(beta, descending=True)\n",
    "_pids_sorted = particle_id[_sorted_indices]\n",
    "_alphas = _sorted_indices[_first_occurrences(_pids_sorted)]\n",
    "# Index of condensation points in node array\n",
    "alphas = _alphas[particle_id[_alphas] > 0]\n",
    "assert alphas.size()[0] > 0, \"No particles found, cannot evaluate loss\"\n",
    "q = torch.arctanh(beta) ** 2 + q_min\n",
    "assert not torch.isnan(q).any(), \"q contains NaNs\"\n",
    "\n",
    "# -- 2. Edges for repulsion loss --\n",
    "_radius_edges = radius_graph(\n",
    "    x=x, r=radius_threshold, max_num_neighbors=max_num_neighbors, loop=False\n",
    ")\n",
    "# Now filter out everything that doesn't include a CP or connects two hits of the\n",
    "# same particle\n",
    "_to_cp = torch.isin(_radius_edges[0], alphas)\n",
    "_is_repulsive = particle_id[_radius_edges[0]] != particle_id[_radius_edges[1]]"
   ],
   "metadata": {
    "collapsed": false
   }
  },
  {
   "cell_type": "code",
   "execution_count": 49,
   "outputs": [
    {
     "data": {
      "text/plain": "torch.Size([909002])"
     },
     "execution_count": 49,
     "metadata": {},
     "output_type": "execute_result"
    }
   ],
   "source": [
    "_is_repulsive.shape"
   ],
   "metadata": {
    "collapsed": false
   }
  },
  {
   "cell_type": "code",
   "execution_count": 50,
   "outputs": [
    {
     "data": {
      "text/plain": "torch.Size([909002])"
     },
     "execution_count": 50,
     "metadata": {},
     "output_type": "execute_result"
    }
   ],
   "source": [
    "_to_cp.shape"
   ],
   "metadata": {
    "collapsed": false
   }
  },
  {
   "cell_type": "code",
   "execution_count": 51,
   "outputs": [],
   "source": [
    "repulsion_edges = _radius_edges[:, _is_repulsive & _to_cp]"
   ],
   "metadata": {
    "collapsed": false
   }
  },
  {
   "cell_type": "code",
   "execution_count": 52,
   "outputs": [
    {
     "data": {
      "text/plain": "tensor(1393.8707, dtype=torch.float64)"
     },
     "execution_count": 52,
     "metadata": {},
     "output_type": "execute_result"
    }
   ],
   "source": [
    "\n",
    "# -- 3. Edges for attractive loss --\n",
    "# 1D array (n_nodes): 1 for CPs, 0 otherwise\n",
    "alpha_hits_filter = torch.zeros(\n",
    "    len(particle_id), dtype=bool, device=x.device\n",
    ").scatter_(0, alphas, 1)\n",
    "# indices of all non-CPs\n",
    "non_alpha_indices = torch.arange(len(particle_id), device=x.device)[\n",
    "    ~alpha_hits_filter\n",
    "]\n",
    "\n",
    "# for each non-CP hit, the index of the corresponding CP\n",
    "alpha_indices = _alphas[\n",
    "    torch.searchsorted(particle_id[_alphas], particle_id[non_alpha_indices])\n",
    "]\n",
    "\n",
    "# Insert alpha indices into their respective positions to form attraction edges\n",
    "unmasked_attraction_edges = (\n",
    "    torch.arange(len(particle_id), device=x.device).unsqueeze(0).repeat(2, 1)\n",
    ")\n",
    "unmasked_attraction_edges[1, ~alpha_hits_filter] = alpha_indices\n",
    "\n",
    "# Apply mask to attraction edges\n",
    "attraction_edges = unmasked_attraction_edges[:, mask]\n",
    "\n",
    "# -- 4. Calculate loss --\n",
    "repulsion_distances = radius_threshold - torch.sqrt(\n",
    "    _square_distances(repulsion_edges, x)\n",
    ")\n",
    "attraction_distances = _square_distances(attraction_edges, x)\n",
    "\n",
    "va = attraction_distances * q[attraction_edges[0]] * q[attraction_edges[1]]\n",
    "vr = repulsion_distances * q[repulsion_edges[0]] * q[repulsion_edges[1]]\n",
    "\n",
    "if torch.isnan(vr).any():\n",
    "    vr = torch.tensor([[0.0]])\n",
    "    logger.warning(\"Repulsive loss is NaN\")\n",
    "\n",
    "a = {\n",
    "    \"attractive\": (1 / mask.sum()) * torch.sum(va),\n",
    "    \"repulsive\": (1 / x.size()[0]) * torch.sum(vr),\n",
    "}\n",
    "a[\"attractive\"] + 10*a[\"repulsive\"]"
   ],
   "metadata": {
    "collapsed": false
   }
  },
  {
   "cell_type": "code",
   "execution_count": 53,
   "outputs": [
    {
     "data": {
      "text/plain": "tensor(1393.8616, dtype=torch.float64)"
     },
     "execution_count": 53,
     "metadata": {},
     "output_type": "execute_result"
    }
   ],
   "source": [
    "from tests.test_losses import get_condensation_loss\n",
    "\n",
    "get_condensation_loss(td1)"
   ],
   "metadata": {
    "collapsed": false
   }
  },
  {
   "cell_type": "code",
   "execution_count": null,
   "outputs": [],
   "source": [],
   "metadata": {
    "collapsed": false,
    "pycharm": {
     "is_executing": true
    }
   }
  },
  {
   "cell_type": "code",
   "execution_count": 53,
   "outputs": [],
   "source": [],
   "metadata": {
    "collapsed": false
   }
  }
 ],
 "metadata": {
  "kernelspec": {
   "display_name": "Python 3",
   "language": "python",
   "name": "python3"
  },
  "language_info": {
   "codemirror_mode": {
    "name": "ipython",
    "version": 2
   },
   "file_extension": ".py",
   "mimetype": "text/x-python",
   "name": "python",
   "nbconvert_exporter": "python",
   "pygments_lexer": "ipython2",
   "version": "2.7.6"
  }
 },
 "nbformat": 4,
 "nbformat_minor": 0
}
