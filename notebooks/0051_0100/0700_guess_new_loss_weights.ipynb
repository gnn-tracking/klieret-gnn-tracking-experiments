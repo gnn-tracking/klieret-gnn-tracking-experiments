{
 "cells": [
  {
   "cell_type": "markdown",
   "metadata": {},
   "source": [
    "# Guess new loss weights\n",
    "\n",
    "After changing the definitions of the loss functions, we need to find new weights to balance attractive vs repulsive.\n",
    "As a first starting point, let's evaluate the same data on a trained GC and get a rough ratio."
   ]
  },
  {
   "cell_type": "code",
   "execution_count": 1,
   "metadata": {},
   "outputs": [],
   "source": [
    "from pathlib import Path\n",
    "\n",
    "from gnn_tracking.models.graph_construction import MLGraphConstructionFromChkpt\n",
    "from gnn_tracking.metrics.losses.metric_learning import GraphConstructionHingeEmbeddingLoss\n",
    "from gnn_tracking.utils.loading import TrackingDataModule\n",
    "from gnn_tracking.training.ml import MLModule"
   ]
  },
  {
   "cell_type": "code",
   "execution_count": 15,
   "metadata": {},
   "outputs": [],
   "source": [
    "from pathlib import Path\n",
    "lightning_home = Path(\"/scratch/gpfs/IOJALVO/gnn-tracking/object_condensation/model_exchange/gc\")\n",
    "assert lightning_home.is_dir()\n",
    "chkpt_name = \"quiet-origami-prawn_compatible.ckpt\"\n",
    "ml_chkpt_path= lightning_home / chkpt_name\n",
    "assert ml_chkpt_path.is_file()"
   ]
  },
  {
   "cell_type": "code",
   "execution_count": 16,
   "metadata": {},
   "outputs": [
    {
     "name": "stderr",
     "output_type": "stream",
     "text": [
      "\u001b[36m[11:54:12] DEBUG: Getting class GraphConstructionFCNN from module gnn_tracking.models.graph_construction\u001b[0m\n",
      "\u001b[36m[11:54:12] DEBUG: Getting class GraphConstructionHingeEmbeddingLoss from module gnn_tracking.metrics.losses.metric_learning\u001b[0m\n",
      "\u001b[36m[11:54:12] DEBUG: Getting class GraphConstructionKNNScanner from module gnn_tracking.graph_construction.k_scanner\u001b[0m\n"
     ]
    }
   ],
   "source": [
    "ml_module =  MLModule.load_from_checkpoint(\n",
    "    ml_chkpt_path,\n",
    ")"
   ]
  },
  {
   "cell_type": "code",
   "execution_count": 19,
   "metadata": {},
   "outputs": [],
   "source": [
    "dm = TrackingDataModule(\n",
    "    identifier=\"point_clouds_v8\",\n",
    "    train=dict(\n",
    "        dirs=[\n",
    "            \"/scratch/gpfs/IOJALVO/gnn-tracking/object_condensation/point_clouds_v8/part_1/\"\n",
    "        ],\n",
    "        sample_size=1000,\n",
    "        # If you run into memory issues, reduce this\n",
    "    ),\n",
    "    val=dict(\n",
    "        dirs=[\n",
    "            \"/scratch/gpfs/IOJALVO/gnn-tracking/object_condensation/point_clouds_v8/part_9/\"\n",
    "        ],\n",
    "        stop=5\n",
    "    ),\n",
    ")"
   ]
  },
  {
   "cell_type": "code",
   "execution_count": 20,
   "metadata": {},
   "outputs": [
    {
     "name": "stderr",
     "output_type": "stream",
     "text": [
      "\u001b[32m[11:54:29] INFO: DataLoader will load 900 graphs (out of 900 available).\u001b[0m\n",
      "\u001b[36m[11:54:29] DEBUG: First graph is /scratch/gpfs/IOJALVO/gnn-tracking/object_condensation/point_clouds_v8/part_1/data21000_s0.pt, last graph is /scratch/gpfs/IOJALVO/gnn-tracking/object_condensation/point_clouds_v8/part_1/data21999_s0.pt\u001b[0m\n",
      "\u001b[32m[11:54:29] INFO: DataLoader will load 5 graphs (out of 1000 available).\u001b[0m\n",
      "\u001b[36m[11:54:29] DEBUG: First graph is /scratch/gpfs/IOJALVO/gnn-tracking/object_condensation/point_clouds_v8/part_9/data29000_s0.pt, last graph is /scratch/gpfs/IOJALVO/gnn-tracking/object_condensation/point_clouds_v8/part_9/data29004_s0.pt\u001b[0m\n"
     ]
    }
   ],
   "source": [
    "dm.setup(\"fit\")\n",
    "data = dm.datasets[\"train\"][0]"
   ]
  },
  {
   "cell_type": "code",
   "execution_count": 21,
   "metadata": {},
   "outputs": [
    {
     "name": "stderr",
     "output_type": "stream",
     "text": [
      "/scratch/gpfs/kl5675/micromamba/envs/gnn/lib/python3.10/site-packages/lightning_fabric/plugins/environments/slurm.py:191: The `srun` command is available on your system but is not used. HINT: If your intention is to run Lightning on SLURM, prepend your python command with `srun` like so: srun python /scratch/gpfs/kl5675/micromamba/envs/gnn/lib/python3 ...\n",
      "GPU available: True (cuda), used: True\n",
      "TPU available: False, using: 0 TPU cores\n",
      "IPU available: False, using: 0 IPUs\n",
      "HPU available: False, using: 0 HPUs\n",
      "\u001b[32m[11:54:30] INFO: DataLoader will load 5 graphs (out of 1000 available).\u001b[0m\n",
      "\u001b[36m[11:54:30] DEBUG: First graph is /scratch/gpfs/IOJALVO/gnn-tracking/object_condensation/point_clouds_v8/part_9/data29000_s0.pt, last graph is /scratch/gpfs/IOJALVO/gnn-tracking/object_condensation/point_clouds_v8/part_9/data29004_s0.pt\u001b[0m\n",
      "LOCAL_RANK: 0 - CUDA_VISIBLE_DEVICES: [0]\n",
      "/scratch/gpfs/kl5675/micromamba/envs/gnn/lib/python3.10/site-packages/pytorch_lightning/trainer/connectors/data_connector.py:441: The 'val_dataloader' does not have many workers which may be a bottleneck. Consider increasing the value of the `num_workers` argument` to `num_workers=2` in the `DataLoader` to improve performance.\n"
     ]
    },
    {
     "name": "stdout",
     "output_type": "stream",
     "text": [
      "Validation DataLoader 0: 100%|███████████| 5/5 [00:31<00:00,  0.16it/s]"
     ]
    },
    {
     "name": "stderr",
     "output_type": "stream",
     "text": [
      "NaN or Inf found in input tensor.\n",
      "NaN or Inf found in input tensor.\n",
      "NaN or Inf found in input tensor.\n",
      "NaN or Inf found in input tensor.\n",
      "NaN or Inf found in input tensor.\n",
      "NaN or Inf found in input tensor.\n"
     ]
    },
    {
     "name": "stdout",
     "output_type": "stream",
     "text": [
      "Validation DataLoader 0: 100%|███████████| 5/5 [00:31<00:00,  0.16it/s]\n"
     ]
    },
    {
     "data": {
      "text/html": [
       "<pre style=\"white-space:pre;overflow-x:auto;line-height:normal;font-family:Menlo,'DejaVu Sans Mono',consolas,'Courier New',monospace\">┏━━━━━━━━━━━━━━━━━━━━━━━━━━━━━━━━━━┳━━━━━━━━━━━━━━━━━━━━━━━━━━━━━━━━━━┓\n",
       "┃<span style=\"font-weight: bold\">         Validate metric          </span>┃<span style=\"font-weight: bold\">           DataLoader 0           </span>┃\n",
       "┡━━━━━━━━━━━━━━━━━━━━━━━━━━━━━━━━━━╇━━━━━━━━━━━━━━━━━━━━━━━━━━━━━━━━━━┩\n",
       "│<span style=\"color: #008080; text-decoration-color: #008080\">            attractive            </span>│<span style=\"color: #800080; text-decoration-color: #800080\">       0.27874574065208435        </span>│\n",
       "│<span style=\"color: #008080; text-decoration-color: #008080\">       attractive_weighted        </span>│<span style=\"color: #800080; text-decoration-color: #800080\">       0.27874574065208435        </span>│\n",
       "│<span style=\"color: #008080; text-decoration-color: #008080\"> efficiency_at_max_frac_segment50 </span>│<span style=\"color: #800080; text-decoration-color: #800080\">        0.7736990094184876        </span>│\n",
       "│<span style=\"color: #008080; text-decoration-color: #008080\">    efficiency_at_segment50_80    </span>│<span style=\"color: #800080; text-decoration-color: #800080\">        0.2204710990190506        </span>│\n",
       "│<span style=\"color: #008080; text-decoration-color: #008080\">    efficiency_at_segment50_85    </span>│<span style=\"color: #800080; text-decoration-color: #800080\">       0.24987787008285522        </span>│\n",
       "│<span style=\"color: #008080; text-decoration-color: #008080\">    efficiency_at_segment50_88    </span>│<span style=\"color: #800080; text-decoration-color: #800080\">        0.2742644250392914        </span>│\n",
       "│<span style=\"color: #008080; text-decoration-color: #008080\">    efficiency_at_segment50_90    </span>│<span style=\"color: #800080; text-decoration-color: #800080\">       0.29624083638191223        </span>│\n",
       "│<span style=\"color: #008080; text-decoration-color: #008080\">    efficiency_at_segment50_93    </span>│<span style=\"color: #800080; text-decoration-color: #800080\">        0.346221923828125         </span>│\n",
       "│<span style=\"color: #008080; text-decoration-color: #008080\">    efficiency_at_segment50_95    </span>│<span style=\"color: #800080; text-decoration-color: #800080\">        0.4031209647655487        </span>│\n",
       "│<span style=\"color: #008080; text-decoration-color: #008080\">    efficiency_at_segment50_97    </span>│<span style=\"color: #800080; text-decoration-color: #800080\">        0.5372351408004761        </span>│\n",
       "│<span style=\"color: #008080; text-decoration-color: #008080\">    efficiency_at_segment50_99    </span>│<span style=\"color: #800080; text-decoration-color: #800080\">               nan                </span>│\n",
       "│<span style=\"color: #008080; text-decoration-color: #008080\">  frac100_at_max_frac_segment50   </span>│<span style=\"color: #800080; text-decoration-color: #800080\">        0.9270802950570417        </span>│\n",
       "│<span style=\"color: #008080; text-decoration-color: #008080\">     frac100_at_segment50_80      </span>│<span style=\"color: #800080; text-decoration-color: #800080\">        0.4761907160282135        </span>│\n",
       "│<span style=\"color: #008080; text-decoration-color: #008080\">     frac100_at_segment50_85      </span>│<span style=\"color: #800080; text-decoration-color: #800080\">        0.5457428097724915        </span>│\n",
       "│<span style=\"color: #008080; text-decoration-color: #008080\">     frac100_at_segment50_88      </span>│<span style=\"color: #800080; text-decoration-color: #800080\">        0.597761332988739         </span>│\n",
       "│<span style=\"color: #008080; text-decoration-color: #008080\">     frac100_at_segment50_90      </span>│<span style=\"color: #800080; text-decoration-color: #800080\">        0.6403719186782837        </span>│\n",
       "│<span style=\"color: #008080; text-decoration-color: #008080\">     frac100_at_segment50_93      </span>│<span style=\"color: #800080; text-decoration-color: #800080\">        0.7226324081420898        </span>│\n",
       "│<span style=\"color: #008080; text-decoration-color: #008080\">     frac100_at_segment50_95      </span>│<span style=\"color: #800080; text-decoration-color: #800080\">        0.7913826704025269        </span>│\n",
       "│<span style=\"color: #008080; text-decoration-color: #008080\">     frac100_at_segment50_97      </span>│<span style=\"color: #800080; text-decoration-color: #800080\">        0.8728635907173157        </span>│\n",
       "│<span style=\"color: #008080; text-decoration-color: #008080\">     frac100_at_segment50_99      </span>│<span style=\"color: #800080; text-decoration-color: #800080\">               nan                </span>│\n",
       "│<span style=\"color: #008080; text-decoration-color: #008080\">   frac75_at_max_frac_segment50   </span>│<span style=\"color: #800080; text-decoration-color: #800080\">        0.9549566925647083        </span>│\n",
       "│<span style=\"color: #008080; text-decoration-color: #008080\">      frac75_at_segment50_80      </span>│<span style=\"color: #800080; text-decoration-color: #800080\">        0.5798446536064148        </span>│\n",
       "│<span style=\"color: #008080; text-decoration-color: #008080\">      frac75_at_segment50_85      </span>│<span style=\"color: #800080; text-decoration-color: #800080\">        0.6489571332931519        </span>│\n",
       "│<span style=\"color: #008080; text-decoration-color: #008080\">      frac75_at_segment50_88      </span>│<span style=\"color: #800080; text-decoration-color: #800080\">        0.6975961327552795        </span>│\n",
       "│<span style=\"color: #008080; text-decoration-color: #008080\">      frac75_at_segment50_90      </span>│<span style=\"color: #800080; text-decoration-color: #800080\">        0.7355496883392334        </span>│\n",
       "│<span style=\"color: #008080; text-decoration-color: #008080\">      frac75_at_segment50_93      </span>│<span style=\"color: #800080; text-decoration-color: #800080\">        0.8052479028701782        </span>│\n",
       "│<span style=\"color: #008080; text-decoration-color: #008080\">      frac75_at_segment50_95      </span>│<span style=\"color: #800080; text-decoration-color: #800080\">        0.8611730337142944        </span>│\n",
       "│<span style=\"color: #008080; text-decoration-color: #008080\">      frac75_at_segment50_97      </span>│<span style=\"color: #800080; text-decoration-color: #800080\">        0.9203096628189087        </span>│\n",
       "│<span style=\"color: #008080; text-decoration-color: #008080\">      frac75_at_segment50_99      </span>│<span style=\"color: #800080; text-decoration-color: #800080\">               nan                </span>│\n",
       "│<span style=\"color: #008080; text-decoration-color: #008080\">     k_at_max_frac_segment50      </span>│<span style=\"color: #800080; text-decoration-color: #800080\">               10.0               </span>│\n",
       "│<span style=\"color: #008080; text-decoration-color: #008080\">        k_at_segment50_80         </span>│<span style=\"color: #800080; text-decoration-color: #800080\">        1.9612022638320923        </span>│\n",
       "│<span style=\"color: #008080; text-decoration-color: #008080\">        k_at_segment50_85         </span>│<span style=\"color: #800080; text-decoration-color: #800080\">        2.244067668914795         </span>│\n",
       "│<span style=\"color: #008080; text-decoration-color: #008080\">        k_at_segment50_88         </span>│<span style=\"color: #800080; text-decoration-color: #800080\">        2.4836151599884033        </span>│\n",
       "│<span style=\"color: #008080; text-decoration-color: #008080\">        k_at_segment50_90         </span>│<span style=\"color: #800080; text-decoration-color: #800080\">        2.7041783332824707        </span>│\n",
       "│<span style=\"color: #008080; text-decoration-color: #008080\">        k_at_segment50_93         </span>│<span style=\"color: #800080; text-decoration-color: #800080\">        3.226991653442383         </span>│\n",
       "│<span style=\"color: #008080; text-decoration-color: #008080\">        k_at_segment50_95         </span>│<span style=\"color: #800080; text-decoration-color: #800080\">        3.865522623062134         </span>│\n",
       "│<span style=\"color: #008080; text-decoration-color: #008080\">        k_at_segment50_97         </span>│<span style=\"color: #800080; text-decoration-color: #800080\">        5.6093549728393555        </span>│\n",
       "│<span style=\"color: #008080; text-decoration-color: #008080\">        k_at_segment50_99         </span>│<span style=\"color: #800080; text-decoration-color: #800080\">               nan                </span>│\n",
       "│<span style=\"color: #008080; text-decoration-color: #008080\">        max_frac_segment50        </span>│<span style=\"color: #800080; text-decoration-color: #800080\">        0.9835216133216548        </span>│\n",
       "│<span style=\"color: #008080; text-decoration-color: #008080\">    n_edges_frac_segment50_80     </span>│<span style=\"color: #800080; text-decoration-color: #800080\">          106762.140625           </span>│\n",
       "│<span style=\"color: #008080; text-decoration-color: #008080\">    n_edges_frac_segment50_85     </span>│<span style=\"color: #800080; text-decoration-color: #800080\">          121764.2890625          </span>│\n",
       "│<span style=\"color: #008080; text-decoration-color: #008080\">    n_edges_frac_segment50_88     </span>│<span style=\"color: #800080; text-decoration-color: #800080\">          134387.296875           </span>│\n",
       "│<span style=\"color: #008080; text-decoration-color: #008080\">    n_edges_frac_segment50_90     </span>│<span style=\"color: #800080; text-decoration-color: #800080\">          145940.109375           </span>│\n",
       "│<span style=\"color: #008080; text-decoration-color: #008080\">    n_edges_frac_segment50_93     </span>│<span style=\"color: #800080; text-decoration-color: #800080\">           173039.1875            </span>│\n",
       "│<span style=\"color: #008080; text-decoration-color: #008080\">    n_edges_frac_segment50_95     </span>│<span style=\"color: #800080; text-decoration-color: #800080\">           205542.53125           </span>│\n",
       "│<span style=\"color: #008080; text-decoration-color: #008080\">    n_edges_frac_segment50_97     </span>│<span style=\"color: #800080; text-decoration-color: #800080\">            290211.25             </span>│\n",
       "│<span style=\"color: #008080; text-decoration-color: #008080\">    n_edges_frac_segment50_99     </span>│<span style=\"color: #800080; text-decoration-color: #800080\">               nan                </span>│\n",
       "│<span style=\"color: #008080; text-decoration-color: #008080\">    n_edges_max_frac_segment50    </span>│<span style=\"color: #800080; text-decoration-color: #800080\">             468336.8             </span>│\n",
       "│<span style=\"color: #008080; text-decoration-color: #008080\">   purity_at_max_frac_segment50   </span>│<span style=\"color: #800080; text-decoration-color: #800080\">       0.44050937294960024        </span>│\n",
       "│<span style=\"color: #008080; text-decoration-color: #008080\">      purity_at_segment50_80      </span>│<span style=\"color: #800080; text-decoration-color: #800080\">        0.6520455479621887        </span>│\n",
       "│<span style=\"color: #008080; text-decoration-color: #008080\">      purity_at_segment50_85      </span>│<span style=\"color: #800080; text-decoration-color: #800080\">        0.6401358246803284        </span>│\n",
       "│<span style=\"color: #008080; text-decoration-color: #008080\">      purity_at_segment50_88      </span>│<span style=\"color: #800080; text-decoration-color: #800080\">        0.6308606266975403        </span>│\n",
       "│<span style=\"color: #008080; text-decoration-color: #008080\">      purity_at_segment50_90      </span>│<span style=\"color: #800080; text-decoration-color: #800080\">        0.6227514743804932        </span>│\n",
       "│<span style=\"color: #008080; text-decoration-color: #008080\">      purity_at_segment50_93      </span>│<span style=\"color: #800080; text-decoration-color: #800080\">        0.6040794849395752        </span>│\n",
       "│<span style=\"color: #008080; text-decoration-color: #008080\">      purity_at_segment50_95      </span>│<span style=\"color: #800080; text-decoration-color: #800080\">        0.5815837383270264        </span>│\n",
       "│<span style=\"color: #008080; text-decoration-color: #008080\">      purity_at_segment50_97      </span>│<span style=\"color: #800080; text-decoration-color: #800080\">        0.5270809531211853        </span>│\n",
       "│<span style=\"color: #008080; text-decoration-color: #008080\">      purity_at_segment50_99      </span>│<span style=\"color: #800080; text-decoration-color: #800080\">               nan                </span>│\n",
       "│<span style=\"color: #008080; text-decoration-color: #008080\">            repulsive             </span>│<span style=\"color: #800080; text-decoration-color: #800080\">       0.42850080132484436        </span>│\n",
       "│<span style=\"color: #008080; text-decoration-color: #008080\">        repulsive_weighted        </span>│<span style=\"color: #800080; text-decoration-color: #800080\">       0.02571004629135132        </span>│\n",
       "│<span style=\"color: #008080; text-decoration-color: #008080\">              total               </span>│<span style=\"color: #800080; text-decoration-color: #800080\">       0.30445581674575806        </span>│\n",
       "└──────────────────────────────────┴──────────────────────────────────┘\n",
       "</pre>\n"
      ],
      "text/plain": [
       "┏━━━━━━━━━━━━━━━━━━━━━━━━━━━━━━━━━━┳━━━━━━━━━━━━━━━━━━━━━━━━━━━━━━━━━━┓\n",
       "┃\u001b[1m \u001b[0m\u001b[1m        Validate metric         \u001b[0m\u001b[1m \u001b[0m┃\u001b[1m \u001b[0m\u001b[1m          DataLoader 0          \u001b[0m\u001b[1m \u001b[0m┃\n",
       "┡━━━━━━━━━━━━━━━━━━━━━━━━━━━━━━━━━━╇━━━━━━━━━━━━━━━━━━━━━━━━━━━━━━━━━━┩\n",
       "│\u001b[36m \u001b[0m\u001b[36m           attractive           \u001b[0m\u001b[36m \u001b[0m│\u001b[35m \u001b[0m\u001b[35m      0.27874574065208435       \u001b[0m\u001b[35m \u001b[0m│\n",
       "│\u001b[36m \u001b[0m\u001b[36m      attractive_weighted       \u001b[0m\u001b[36m \u001b[0m│\u001b[35m \u001b[0m\u001b[35m      0.27874574065208435       \u001b[0m\u001b[35m \u001b[0m│\n",
       "│\u001b[36m \u001b[0m\u001b[36mefficiency_at_max_frac_segment50\u001b[0m\u001b[36m \u001b[0m│\u001b[35m \u001b[0m\u001b[35m       0.7736990094184876       \u001b[0m\u001b[35m \u001b[0m│\n",
       "│\u001b[36m \u001b[0m\u001b[36m   efficiency_at_segment50_80   \u001b[0m\u001b[36m \u001b[0m│\u001b[35m \u001b[0m\u001b[35m       0.2204710990190506       \u001b[0m\u001b[35m \u001b[0m│\n",
       "│\u001b[36m \u001b[0m\u001b[36m   efficiency_at_segment50_85   \u001b[0m\u001b[36m \u001b[0m│\u001b[35m \u001b[0m\u001b[35m      0.24987787008285522       \u001b[0m\u001b[35m \u001b[0m│\n",
       "│\u001b[36m \u001b[0m\u001b[36m   efficiency_at_segment50_88   \u001b[0m\u001b[36m \u001b[0m│\u001b[35m \u001b[0m\u001b[35m       0.2742644250392914       \u001b[0m\u001b[35m \u001b[0m│\n",
       "│\u001b[36m \u001b[0m\u001b[36m   efficiency_at_segment50_90   \u001b[0m\u001b[36m \u001b[0m│\u001b[35m \u001b[0m\u001b[35m      0.29624083638191223       \u001b[0m\u001b[35m \u001b[0m│\n",
       "│\u001b[36m \u001b[0m\u001b[36m   efficiency_at_segment50_93   \u001b[0m\u001b[36m \u001b[0m│\u001b[35m \u001b[0m\u001b[35m       0.346221923828125        \u001b[0m\u001b[35m \u001b[0m│\n",
       "│\u001b[36m \u001b[0m\u001b[36m   efficiency_at_segment50_95   \u001b[0m\u001b[36m \u001b[0m│\u001b[35m \u001b[0m\u001b[35m       0.4031209647655487       \u001b[0m\u001b[35m \u001b[0m│\n",
       "│\u001b[36m \u001b[0m\u001b[36m   efficiency_at_segment50_97   \u001b[0m\u001b[36m \u001b[0m│\u001b[35m \u001b[0m\u001b[35m       0.5372351408004761       \u001b[0m\u001b[35m \u001b[0m│\n",
       "│\u001b[36m \u001b[0m\u001b[36m   efficiency_at_segment50_99   \u001b[0m\u001b[36m \u001b[0m│\u001b[35m \u001b[0m\u001b[35m              nan               \u001b[0m\u001b[35m \u001b[0m│\n",
       "│\u001b[36m \u001b[0m\u001b[36m frac100_at_max_frac_segment50  \u001b[0m\u001b[36m \u001b[0m│\u001b[35m \u001b[0m\u001b[35m       0.9270802950570417       \u001b[0m\u001b[35m \u001b[0m│\n",
       "│\u001b[36m \u001b[0m\u001b[36m    frac100_at_segment50_80     \u001b[0m\u001b[36m \u001b[0m│\u001b[35m \u001b[0m\u001b[35m       0.4761907160282135       \u001b[0m\u001b[35m \u001b[0m│\n",
       "│\u001b[36m \u001b[0m\u001b[36m    frac100_at_segment50_85     \u001b[0m\u001b[36m \u001b[0m│\u001b[35m \u001b[0m\u001b[35m       0.5457428097724915       \u001b[0m\u001b[35m \u001b[0m│\n",
       "│\u001b[36m \u001b[0m\u001b[36m    frac100_at_segment50_88     \u001b[0m\u001b[36m \u001b[0m│\u001b[35m \u001b[0m\u001b[35m       0.597761332988739        \u001b[0m\u001b[35m \u001b[0m│\n",
       "│\u001b[36m \u001b[0m\u001b[36m    frac100_at_segment50_90     \u001b[0m\u001b[36m \u001b[0m│\u001b[35m \u001b[0m\u001b[35m       0.6403719186782837       \u001b[0m\u001b[35m \u001b[0m│\n",
       "│\u001b[36m \u001b[0m\u001b[36m    frac100_at_segment50_93     \u001b[0m\u001b[36m \u001b[0m│\u001b[35m \u001b[0m\u001b[35m       0.7226324081420898       \u001b[0m\u001b[35m \u001b[0m│\n",
       "│\u001b[36m \u001b[0m\u001b[36m    frac100_at_segment50_95     \u001b[0m\u001b[36m \u001b[0m│\u001b[35m \u001b[0m\u001b[35m       0.7913826704025269       \u001b[0m\u001b[35m \u001b[0m│\n",
       "│\u001b[36m \u001b[0m\u001b[36m    frac100_at_segment50_97     \u001b[0m\u001b[36m \u001b[0m│\u001b[35m \u001b[0m\u001b[35m       0.8728635907173157       \u001b[0m\u001b[35m \u001b[0m│\n",
       "│\u001b[36m \u001b[0m\u001b[36m    frac100_at_segment50_99     \u001b[0m\u001b[36m \u001b[0m│\u001b[35m \u001b[0m\u001b[35m              nan               \u001b[0m\u001b[35m \u001b[0m│\n",
       "│\u001b[36m \u001b[0m\u001b[36m  frac75_at_max_frac_segment50  \u001b[0m\u001b[36m \u001b[0m│\u001b[35m \u001b[0m\u001b[35m       0.9549566925647083       \u001b[0m\u001b[35m \u001b[0m│\n",
       "│\u001b[36m \u001b[0m\u001b[36m     frac75_at_segment50_80     \u001b[0m\u001b[36m \u001b[0m│\u001b[35m \u001b[0m\u001b[35m       0.5798446536064148       \u001b[0m\u001b[35m \u001b[0m│\n",
       "│\u001b[36m \u001b[0m\u001b[36m     frac75_at_segment50_85     \u001b[0m\u001b[36m \u001b[0m│\u001b[35m \u001b[0m\u001b[35m       0.6489571332931519       \u001b[0m\u001b[35m \u001b[0m│\n",
       "│\u001b[36m \u001b[0m\u001b[36m     frac75_at_segment50_88     \u001b[0m\u001b[36m \u001b[0m│\u001b[35m \u001b[0m\u001b[35m       0.6975961327552795       \u001b[0m\u001b[35m \u001b[0m│\n",
       "│\u001b[36m \u001b[0m\u001b[36m     frac75_at_segment50_90     \u001b[0m\u001b[36m \u001b[0m│\u001b[35m \u001b[0m\u001b[35m       0.7355496883392334       \u001b[0m\u001b[35m \u001b[0m│\n",
       "│\u001b[36m \u001b[0m\u001b[36m     frac75_at_segment50_93     \u001b[0m\u001b[36m \u001b[0m│\u001b[35m \u001b[0m\u001b[35m       0.8052479028701782       \u001b[0m\u001b[35m \u001b[0m│\n",
       "│\u001b[36m \u001b[0m\u001b[36m     frac75_at_segment50_95     \u001b[0m\u001b[36m \u001b[0m│\u001b[35m \u001b[0m\u001b[35m       0.8611730337142944       \u001b[0m\u001b[35m \u001b[0m│\n",
       "│\u001b[36m \u001b[0m\u001b[36m     frac75_at_segment50_97     \u001b[0m\u001b[36m \u001b[0m│\u001b[35m \u001b[0m\u001b[35m       0.9203096628189087       \u001b[0m\u001b[35m \u001b[0m│\n",
       "│\u001b[36m \u001b[0m\u001b[36m     frac75_at_segment50_99     \u001b[0m\u001b[36m \u001b[0m│\u001b[35m \u001b[0m\u001b[35m              nan               \u001b[0m\u001b[35m \u001b[0m│\n",
       "│\u001b[36m \u001b[0m\u001b[36m    k_at_max_frac_segment50     \u001b[0m\u001b[36m \u001b[0m│\u001b[35m \u001b[0m\u001b[35m              10.0              \u001b[0m\u001b[35m \u001b[0m│\n",
       "│\u001b[36m \u001b[0m\u001b[36m       k_at_segment50_80        \u001b[0m\u001b[36m \u001b[0m│\u001b[35m \u001b[0m\u001b[35m       1.9612022638320923       \u001b[0m\u001b[35m \u001b[0m│\n",
       "│\u001b[36m \u001b[0m\u001b[36m       k_at_segment50_85        \u001b[0m\u001b[36m \u001b[0m│\u001b[35m \u001b[0m\u001b[35m       2.244067668914795        \u001b[0m\u001b[35m \u001b[0m│\n",
       "│\u001b[36m \u001b[0m\u001b[36m       k_at_segment50_88        \u001b[0m\u001b[36m \u001b[0m│\u001b[35m \u001b[0m\u001b[35m       2.4836151599884033       \u001b[0m\u001b[35m \u001b[0m│\n",
       "│\u001b[36m \u001b[0m\u001b[36m       k_at_segment50_90        \u001b[0m\u001b[36m \u001b[0m│\u001b[35m \u001b[0m\u001b[35m       2.7041783332824707       \u001b[0m\u001b[35m \u001b[0m│\n",
       "│\u001b[36m \u001b[0m\u001b[36m       k_at_segment50_93        \u001b[0m\u001b[36m \u001b[0m│\u001b[35m \u001b[0m\u001b[35m       3.226991653442383        \u001b[0m\u001b[35m \u001b[0m│\n",
       "│\u001b[36m \u001b[0m\u001b[36m       k_at_segment50_95        \u001b[0m\u001b[36m \u001b[0m│\u001b[35m \u001b[0m\u001b[35m       3.865522623062134        \u001b[0m\u001b[35m \u001b[0m│\n",
       "│\u001b[36m \u001b[0m\u001b[36m       k_at_segment50_97        \u001b[0m\u001b[36m \u001b[0m│\u001b[35m \u001b[0m\u001b[35m       5.6093549728393555       \u001b[0m\u001b[35m \u001b[0m│\n",
       "│\u001b[36m \u001b[0m\u001b[36m       k_at_segment50_99        \u001b[0m\u001b[36m \u001b[0m│\u001b[35m \u001b[0m\u001b[35m              nan               \u001b[0m\u001b[35m \u001b[0m│\n",
       "│\u001b[36m \u001b[0m\u001b[36m       max_frac_segment50       \u001b[0m\u001b[36m \u001b[0m│\u001b[35m \u001b[0m\u001b[35m       0.9835216133216548       \u001b[0m\u001b[35m \u001b[0m│\n",
       "│\u001b[36m \u001b[0m\u001b[36m   n_edges_frac_segment50_80    \u001b[0m\u001b[36m \u001b[0m│\u001b[35m \u001b[0m\u001b[35m         106762.140625          \u001b[0m\u001b[35m \u001b[0m│\n",
       "│\u001b[36m \u001b[0m\u001b[36m   n_edges_frac_segment50_85    \u001b[0m\u001b[36m \u001b[0m│\u001b[35m \u001b[0m\u001b[35m         121764.2890625         \u001b[0m\u001b[35m \u001b[0m│\n",
       "│\u001b[36m \u001b[0m\u001b[36m   n_edges_frac_segment50_88    \u001b[0m\u001b[36m \u001b[0m│\u001b[35m \u001b[0m\u001b[35m         134387.296875          \u001b[0m\u001b[35m \u001b[0m│\n",
       "│\u001b[36m \u001b[0m\u001b[36m   n_edges_frac_segment50_90    \u001b[0m\u001b[36m \u001b[0m│\u001b[35m \u001b[0m\u001b[35m         145940.109375          \u001b[0m\u001b[35m \u001b[0m│\n",
       "│\u001b[36m \u001b[0m\u001b[36m   n_edges_frac_segment50_93    \u001b[0m\u001b[36m \u001b[0m│\u001b[35m \u001b[0m\u001b[35m          173039.1875           \u001b[0m\u001b[35m \u001b[0m│\n",
       "│\u001b[36m \u001b[0m\u001b[36m   n_edges_frac_segment50_95    \u001b[0m\u001b[36m \u001b[0m│\u001b[35m \u001b[0m\u001b[35m          205542.53125          \u001b[0m\u001b[35m \u001b[0m│\n",
       "│\u001b[36m \u001b[0m\u001b[36m   n_edges_frac_segment50_97    \u001b[0m\u001b[36m \u001b[0m│\u001b[35m \u001b[0m\u001b[35m           290211.25            \u001b[0m\u001b[35m \u001b[0m│\n",
       "│\u001b[36m \u001b[0m\u001b[36m   n_edges_frac_segment50_99    \u001b[0m\u001b[36m \u001b[0m│\u001b[35m \u001b[0m\u001b[35m              nan               \u001b[0m\u001b[35m \u001b[0m│\n",
       "│\u001b[36m \u001b[0m\u001b[36m   n_edges_max_frac_segment50   \u001b[0m\u001b[36m \u001b[0m│\u001b[35m \u001b[0m\u001b[35m            468336.8            \u001b[0m\u001b[35m \u001b[0m│\n",
       "│\u001b[36m \u001b[0m\u001b[36m  purity_at_max_frac_segment50  \u001b[0m\u001b[36m \u001b[0m│\u001b[35m \u001b[0m\u001b[35m      0.44050937294960024       \u001b[0m\u001b[35m \u001b[0m│\n",
       "│\u001b[36m \u001b[0m\u001b[36m     purity_at_segment50_80     \u001b[0m\u001b[36m \u001b[0m│\u001b[35m \u001b[0m\u001b[35m       0.6520455479621887       \u001b[0m\u001b[35m \u001b[0m│\n",
       "│\u001b[36m \u001b[0m\u001b[36m     purity_at_segment50_85     \u001b[0m\u001b[36m \u001b[0m│\u001b[35m \u001b[0m\u001b[35m       0.6401358246803284       \u001b[0m\u001b[35m \u001b[0m│\n",
       "│\u001b[36m \u001b[0m\u001b[36m     purity_at_segment50_88     \u001b[0m\u001b[36m \u001b[0m│\u001b[35m \u001b[0m\u001b[35m       0.6308606266975403       \u001b[0m\u001b[35m \u001b[0m│\n",
       "│\u001b[36m \u001b[0m\u001b[36m     purity_at_segment50_90     \u001b[0m\u001b[36m \u001b[0m│\u001b[35m \u001b[0m\u001b[35m       0.6227514743804932       \u001b[0m\u001b[35m \u001b[0m│\n",
       "│\u001b[36m \u001b[0m\u001b[36m     purity_at_segment50_93     \u001b[0m\u001b[36m \u001b[0m│\u001b[35m \u001b[0m\u001b[35m       0.6040794849395752       \u001b[0m\u001b[35m \u001b[0m│\n",
       "│\u001b[36m \u001b[0m\u001b[36m     purity_at_segment50_95     \u001b[0m\u001b[36m \u001b[0m│\u001b[35m \u001b[0m\u001b[35m       0.5815837383270264       \u001b[0m\u001b[35m \u001b[0m│\n",
       "│\u001b[36m \u001b[0m\u001b[36m     purity_at_segment50_97     \u001b[0m\u001b[36m \u001b[0m│\u001b[35m \u001b[0m\u001b[35m       0.5270809531211853       \u001b[0m\u001b[35m \u001b[0m│\n",
       "│\u001b[36m \u001b[0m\u001b[36m     purity_at_segment50_99     \u001b[0m\u001b[36m \u001b[0m│\u001b[35m \u001b[0m\u001b[35m              nan               \u001b[0m\u001b[35m \u001b[0m│\n",
       "│\u001b[36m \u001b[0m\u001b[36m           repulsive            \u001b[0m\u001b[36m \u001b[0m│\u001b[35m \u001b[0m\u001b[35m      0.42850080132484436       \u001b[0m\u001b[35m \u001b[0m│\n",
       "│\u001b[36m \u001b[0m\u001b[36m       repulsive_weighted       \u001b[0m\u001b[36m \u001b[0m│\u001b[35m \u001b[0m\u001b[35m      0.02571004629135132       \u001b[0m\u001b[35m \u001b[0m│\n",
       "│\u001b[36m \u001b[0m\u001b[36m             total              \u001b[0m\u001b[36m \u001b[0m│\u001b[35m \u001b[0m\u001b[35m      0.30445581674575806       \u001b[0m\u001b[35m \u001b[0m│\n",
       "└──────────────────────────────────┴──────────────────────────────────┘\n"
      ]
     },
     "metadata": {},
     "output_type": "display_data"
    },
    {
     "data": {
      "text/plain": [
       "[{'attractive': 0.27874574065208435,\n",
       "  'repulsive': 0.42850080132484436,\n",
       "  'attractive_weighted': 0.27874574065208435,\n",
       "  'repulsive_weighted': 0.02571004629135132,\n",
       "  'total': 0.30445581674575806,\n",
       "  'n_edges_frac_segment50_80': 106762.140625,\n",
       "  'k_at_segment50_80': 1.9612022638320923,\n",
       "  'frac75_at_segment50_80': 0.5798446536064148,\n",
       "  'frac100_at_segment50_80': 0.4761907160282135,\n",
       "  'efficiency_at_segment50_80': 0.2204710990190506,\n",
       "  'purity_at_segment50_80': 0.6520455479621887,\n",
       "  'n_edges_frac_segment50_85': 121764.2890625,\n",
       "  'k_at_segment50_85': 2.244067668914795,\n",
       "  'frac75_at_segment50_85': 0.6489571332931519,\n",
       "  'frac100_at_segment50_85': 0.5457428097724915,\n",
       "  'efficiency_at_segment50_85': 0.24987787008285522,\n",
       "  'purity_at_segment50_85': 0.6401358246803284,\n",
       "  'n_edges_frac_segment50_88': 134387.296875,\n",
       "  'k_at_segment50_88': 2.4836151599884033,\n",
       "  'frac75_at_segment50_88': 0.6975961327552795,\n",
       "  'frac100_at_segment50_88': 0.597761332988739,\n",
       "  'efficiency_at_segment50_88': 0.2742644250392914,\n",
       "  'purity_at_segment50_88': 0.6308606266975403,\n",
       "  'n_edges_frac_segment50_90': 145940.109375,\n",
       "  'k_at_segment50_90': 2.7041783332824707,\n",
       "  'frac75_at_segment50_90': 0.7355496883392334,\n",
       "  'frac100_at_segment50_90': 0.6403719186782837,\n",
       "  'efficiency_at_segment50_90': 0.29624083638191223,\n",
       "  'purity_at_segment50_90': 0.6227514743804932,\n",
       "  'n_edges_frac_segment50_93': 173039.1875,\n",
       "  'k_at_segment50_93': 3.226991653442383,\n",
       "  'frac75_at_segment50_93': 0.8052479028701782,\n",
       "  'frac100_at_segment50_93': 0.7226324081420898,\n",
       "  'efficiency_at_segment50_93': 0.346221923828125,\n",
       "  'purity_at_segment50_93': 0.6040794849395752,\n",
       "  'n_edges_frac_segment50_95': 205542.53125,\n",
       "  'k_at_segment50_95': 3.865522623062134,\n",
       "  'frac75_at_segment50_95': 0.8611730337142944,\n",
       "  'frac100_at_segment50_95': 0.7913826704025269,\n",
       "  'efficiency_at_segment50_95': 0.4031209647655487,\n",
       "  'purity_at_segment50_95': 0.5815837383270264,\n",
       "  'n_edges_frac_segment50_97': 290211.25,\n",
       "  'k_at_segment50_97': 5.6093549728393555,\n",
       "  'frac75_at_segment50_97': 0.9203096628189087,\n",
       "  'frac100_at_segment50_97': 0.8728635907173157,\n",
       "  'efficiency_at_segment50_97': 0.5372351408004761,\n",
       "  'purity_at_segment50_97': 0.5270809531211853,\n",
       "  'n_edges_frac_segment50_99': nan,\n",
       "  'k_at_segment50_99': nan,\n",
       "  'frac75_at_segment50_99': nan,\n",
       "  'frac100_at_segment50_99': nan,\n",
       "  'efficiency_at_segment50_99': nan,\n",
       "  'purity_at_segment50_99': nan,\n",
       "  'max_frac_segment50': 0.9835216133216548,\n",
       "  'n_edges_max_frac_segment50': 468336.8,\n",
       "  'k_at_max_frac_segment50': 10.0,\n",
       "  'frac75_at_max_frac_segment50': 0.9549566925647083,\n",
       "  'frac100_at_max_frac_segment50': 0.9270802950570417,\n",
       "  'efficiency_at_max_frac_segment50': 0.7736990094184876,\n",
       "  'purity_at_max_frac_segment50': 0.44050937294960024}]"
      ]
     },
     "execution_count": 21,
     "metadata": {},
     "output_type": "execute_result"
    }
   ],
   "source": [
    "import pytorch_lightning as pl\n",
    "\n",
    "trainer = pl.Trainer()\n",
    "trainer.validate(ml_module, dm)"
   ]
  },
  {
   "cell_type": "code",
   "execution_count": 24,
   "metadata": {},
   "outputs": [
    {
     "data": {
      "text/plain": [
       "0.40219739207919775"
      ]
     },
     "execution_count": 24,
     "metadata": {},
     "output_type": "execute_result"
    }
   ],
   "source": [
    "attractive = 0.16546812653541565\n",
    "repulsive = 0.41141024231910706\n",
    "attractive / repulsive"
   ]
  },
  {
   "cell_type": "markdown",
   "metadata": {},
   "source": [
    "## Now loading legacy "
   ]
  },
  {
   "cell_type": "code",
   "execution_count": 2,
   "metadata": {},
   "outputs": [],
   "source": [
    "from pathlib import Path\n",
    "\n",
    "from gnn_tracking.models.graph_construction import MLGraphConstructionFromChkpt\n",
    "from gnn_tracking.metrics.losses import GraphConstructionHingeEmbeddingLoss\n",
    "from gnn_tracking.utils.loading import TrackingDataModule\n",
    "from gnn_tracking.training.ml import MLModule"
   ]
  },
  {
   "cell_type": "code",
   "execution_count": 3,
   "metadata": {},
   "outputs": [],
   "source": [
    "# We already converted this checkpoint to the new version\n",
    "ml_chkpt_path = Path(\"/home/kl5675/Documents/23/git_sync/hyperparameter_optimization2/scripts/full_detector/lightning_logs/merciful-reindeer-of-coffee/checkpoints/epoch=79-step=72000.compat.ckpt\")\n",
    "assert ml_chkpt_path.is_file()"
   ]
  },
  {
   "cell_type": "code",
   "execution_count": 4,
   "metadata": {},
   "outputs": [
    {
     "name": "stderr",
     "output_type": "stream",
     "text": [
      "\u001b[36m[17:16:27] DEBUG: Getting class GraphConstructionFCNN from module gnn_tracking.models.graph_construction\u001b[0m\n",
      "\u001b[36m[17:16:27] DEBUG: Getting class GraphConstructionHingeEmbeddingLoss from module gnn_tracking.metrics.losses\u001b[0m\n",
      "\u001b[36m[17:16:27] DEBUG: Getting class GraphConstructionKNNScanner from module gnn_tracking.graph_construction.k_scanner\u001b[0m\n"
     ]
    }
   ],
   "source": [
    "ml_module =  MLModule.load_from_checkpoint(\n",
    "    ml_chkpt_path,\n",
    ")"
   ]
  },
  {
   "cell_type": "code",
   "execution_count": 5,
   "metadata": {},
   "outputs": [],
   "source": [
    "dm = TrackingDataModule(\n",
    "    identifier=\"point_clouds_v10\",\n",
    "    train=dict(\n",
    "        dirs=[\n",
    "            \"/scratch/gpfs/IOJALVO/gnn-tracking/object_condensation/point_clouds_v8/part_1/\"\n",
    "        ],\n",
    "        sample_size=1000,\n",
    "        # If you run into memory issues, reduce this\n",
    "    ),\n",
    "    val=dict(\n",
    "        dirs=[\n",
    "            \"/scratch/gpfs/IOJALVO/gnn-tracking/object_condensation/point_clouds_v8/part_9/\"\n",
    "        ],\n",
    "        stop=5\n",
    "    ),\n",
    ")"
   ]
  },
  {
   "cell_type": "code",
   "execution_count": 6,
   "metadata": {},
   "outputs": [
    {
     "name": "stderr",
     "output_type": "stream",
     "text": [
      "\u001b[32m[17:16:30] INFO: DataLoader will load 900 graphs (out of 900 available).\u001b[0m\n",
      "\u001b[36m[17:16:30] DEBUG: First graph is /scratch/gpfs/IOJALVO/gnn-tracking/object_condensation/point_clouds_v8/part_1/data21000_s0.pt, last graph is /scratch/gpfs/IOJALVO/gnn-tracking/object_condensation/point_clouds_v8/part_1/data21999_s0.pt\u001b[0m\n",
      "\u001b[32m[17:16:30] INFO: DataLoader will load 5 graphs (out of 1000 available).\u001b[0m\n",
      "\u001b[36m[17:16:30] DEBUG: First graph is /scratch/gpfs/IOJALVO/gnn-tracking/object_condensation/point_clouds_v8/part_9/data29000_s0.pt, last graph is /scratch/gpfs/IOJALVO/gnn-tracking/object_condensation/point_clouds_v8/part_9/data29004_s0.pt\u001b[0m\n"
     ]
    }
   ],
   "source": [
    "dm.setup(\"fit\")\n",
    "data = dm.datasets[\"train\"][0]"
   ]
  },
  {
   "cell_type": "code",
   "execution_count": 7,
   "metadata": {},
   "outputs": [
    {
     "name": "stderr",
     "output_type": "stream",
     "text": [
      "/scratch/gpfs/kl5675/micromamba/envs/gnn/lib/python3.10/site-packages/lightning_fabric/plugins/environments/slurm.py:191: The `srun` command is available on your system but is not used. HINT: If your intention is to run Lightning on SLURM, prepend your python command with `srun` like so: srun python /scratch/gpfs/kl5675/micromamba/envs/gnn/lib/python3 ...\n",
      "GPU available: True (cuda), used: True\n",
      "TPU available: False, using: 0 TPU cores\n",
      "IPU available: False, using: 0 IPUs\n",
      "HPU available: False, using: 0 HPUs\n",
      "/scratch/gpfs/kl5675/micromamba/envs/gnn/lib/python3.10/site-packages/lightning_fabric/plugins/environments/slurm.py:191: The `srun` command is available on your system but is not used. HINT: If your intention is to run Lightning on SLURM, prepend your python command with `srun` like so: srun python /scratch/gpfs/kl5675/micromamba/envs/gnn/lib/python3 ...\n",
      "You are using a CUDA device ('NVIDIA A100-SXM4-80GB') that has Tensor Cores. To properly utilize them, you should set `torch.set_float32_matmul_precision('medium' | 'high')` which will trade-off precision for performance. For more details, read https://pytorch.org/docs/stable/generated/torch.set_float32_matmul_precision.html#torch.set_float32_matmul_precision\n",
      "\u001b[32m[17:16:32] INFO: DataLoader will load 5 graphs (out of 1000 available).\u001b[0m\n",
      "\u001b[36m[17:16:32] DEBUG: First graph is /scratch/gpfs/IOJALVO/gnn-tracking/object_condensation/point_clouds_v8/part_9/data29000_s0.pt, last graph is /scratch/gpfs/IOJALVO/gnn-tracking/object_condensation/point_clouds_v8/part_9/data29004_s0.pt\u001b[0m\n",
      "LOCAL_RANK: 0 - CUDA_VISIBLE_DEVICES: [0]\n",
      "/scratch/gpfs/kl5675/micromamba/envs/gnn/lib/python3.10/site-packages/pytorch_lightning/trainer/connectors/data_connector.py:441: The 'val_dataloader' does not have many workers which may be a bottleneck. Consider increasing the value of the `num_workers` argument` to `num_workers=2` in the `DataLoader` to improve performance.\n"
     ]
    },
    {
     "name": "stdout",
     "output_type": "stream",
     "text": [
      "Validation DataLoader 0: 100%|█████████████████████████████████████████████████████████████████████████████████████████████████████████████████████████████████████████████████████████████████████████████████████████| 5/5 [00:44<00:00,  0.11it/s]"
     ]
    },
    {
     "name": "stderr",
     "output_type": "stream",
     "text": [
      "NaN or Inf found in input tensor.\n",
      "NaN or Inf found in input tensor.\n",
      "NaN or Inf found in input tensor.\n",
      "NaN or Inf found in input tensor.\n",
      "NaN or Inf found in input tensor.\n",
      "NaN or Inf found in input tensor.\n",
      "NaN or Inf found in input tensor.\n",
      "NaN or Inf found in input tensor.\n",
      "NaN or Inf found in input tensor.\n",
      "NaN or Inf found in input tensor.\n",
      "NaN or Inf found in input tensor.\n",
      "NaN or Inf found in input tensor.\n",
      "NaN or Inf found in input tensor.\n",
      "NaN or Inf found in input tensor.\n",
      "NaN or Inf found in input tensor.\n",
      "NaN or Inf found in input tensor.\n",
      "NaN or Inf found in input tensor.\n",
      "NaN or Inf found in input tensor.\n",
      "NaN or Inf found in input tensor.\n",
      "NaN or Inf found in input tensor.\n",
      "NaN or Inf found in input tensor.\n",
      "NaN or Inf found in input tensor.\n",
      "NaN or Inf found in input tensor.\n",
      "NaN or Inf found in input tensor.\n"
     ]
    },
    {
     "name": "stdout",
     "output_type": "stream",
     "text": [
      "Validation DataLoader 0: 100%|█████████████████████████████████████████████████████████████████████████████████████████████████████████████████████████████████████████████████████████████████████████████████████████| 5/5 [00:44<00:00,  0.11it/s]\n"
     ]
    },
    {
     "data": {
      "text/html": [
       "<pre style=\"white-space:pre;overflow-x:auto;line-height:normal;font-family:Menlo,'DejaVu Sans Mono',consolas,'Courier New',monospace\">┏━━━━━━━━━━━━━━━━━━━━━━━━━━━━━━━━━━┳━━━━━━━━━━━━━━━━━━━━━━━━━━━━━━━━━━┓\n",
       "┃<span style=\"font-weight: bold\">         Validate metric          </span>┃<span style=\"font-weight: bold\">           DataLoader 0           </span>┃\n",
       "┡━━━━━━━━━━━━━━━━━━━━━━━━━━━━━━━━━━╇━━━━━━━━━━━━━━━━━━━━━━━━━━━━━━━━━━┩\n",
       "│<span style=\"color: #008080; text-decoration-color: #008080\">            attractive            </span>│<span style=\"color: #800080; text-decoration-color: #800080\">       0.14644861221313477        </span>│\n",
       "│<span style=\"color: #008080; text-decoration-color: #008080\">       attractive_weighted        </span>│<span style=\"color: #800080; text-decoration-color: #800080\">       0.14644861221313477        </span>│\n",
       "│<span style=\"color: #008080; text-decoration-color: #008080\"> efficiency_at_max_frac_segment50 </span>│<span style=\"color: #800080; text-decoration-color: #800080\">        0.7478532314300537        </span>│\n",
       "│<span style=\"color: #008080; text-decoration-color: #008080\">    efficiency_at_segment50_80    </span>│<span style=\"color: #800080; text-decoration-color: #800080\">        0.4928075075149536        </span>│\n",
       "│<span style=\"color: #008080; text-decoration-color: #008080\">    efficiency_at_segment50_85    </span>│<span style=\"color: #800080; text-decoration-color: #800080\">        0.4998131990432739        </span>│\n",
       "│<span style=\"color: #008080; text-decoration-color: #008080\">    efficiency_at_segment50_88    </span>│<span style=\"color: #800080; text-decoration-color: #800080\">        0.6181542277336121        </span>│\n",
       "│<span style=\"color: #008080; text-decoration-color: #008080\">    efficiency_at_segment50_90    </span>│<span style=\"color: #800080; text-decoration-color: #800080\">        0.7106400728225708        </span>│\n",
       "│<span style=\"color: #008080; text-decoration-color: #008080\">    efficiency_at_segment50_93    </span>│<span style=\"color: #800080; text-decoration-color: #800080\">               nan                </span>│\n",
       "│<span style=\"color: #008080; text-decoration-color: #008080\">    efficiency_at_segment50_95    </span>│<span style=\"color: #800080; text-decoration-color: #800080\">               nan                </span>│\n",
       "│<span style=\"color: #008080; text-decoration-color: #008080\">    efficiency_at_segment50_97    </span>│<span style=\"color: #800080; text-decoration-color: #800080\">               nan                </span>│\n",
       "│<span style=\"color: #008080; text-decoration-color: #008080\">    efficiency_at_segment50_99    </span>│<span style=\"color: #800080; text-decoration-color: #800080\">               nan                </span>│\n",
       "│<span style=\"color: #008080; text-decoration-color: #008080\">  frac100_at_max_frac_segment50   </span>│<span style=\"color: #800080; text-decoration-color: #800080\">        0.6595401865574446        </span>│\n",
       "│<span style=\"color: #008080; text-decoration-color: #008080\">     frac100_at_segment50_80      </span>│<span style=\"color: #800080; text-decoration-color: #800080\">        0.5249454379081726        </span>│\n",
       "│<span style=\"color: #008080; text-decoration-color: #008080\">     frac100_at_segment50_85      </span>│<span style=\"color: #800080; text-decoration-color: #800080\">        0.5289484858512878        </span>│\n",
       "│<span style=\"color: #008080; text-decoration-color: #008080\">     frac100_at_segment50_88      </span>│<span style=\"color: #800080; text-decoration-color: #800080\">        0.5877106785774231        </span>│\n",
       "│<span style=\"color: #008080; text-decoration-color: #008080\">     frac100_at_segment50_90      </span>│<span style=\"color: #800080; text-decoration-color: #800080\">        0.6328863501548767        </span>│\n",
       "│<span style=\"color: #008080; text-decoration-color: #008080\">     frac100_at_segment50_93      </span>│<span style=\"color: #800080; text-decoration-color: #800080\">               nan                </span>│\n",
       "│<span style=\"color: #008080; text-decoration-color: #008080\">     frac100_at_segment50_95      </span>│<span style=\"color: #800080; text-decoration-color: #800080\">               nan                </span>│\n",
       "│<span style=\"color: #008080; text-decoration-color: #008080\">     frac100_at_segment50_97      </span>│<span style=\"color: #800080; text-decoration-color: #800080\">               nan                </span>│\n",
       "│<span style=\"color: #008080; text-decoration-color: #008080\">     frac100_at_segment50_99      </span>│<span style=\"color: #800080; text-decoration-color: #800080\">               nan                </span>│\n",
       "│<span style=\"color: #008080; text-decoration-color: #008080\">   frac75_at_max_frac_segment50   </span>│<span style=\"color: #800080; text-decoration-color: #800080\">        0.7489145026167171        </span>│\n",
       "│<span style=\"color: #008080; text-decoration-color: #008080\">      frac75_at_segment50_80      </span>│<span style=\"color: #800080; text-decoration-color: #800080\">        0.6447610259056091        </span>│\n",
       "│<span style=\"color: #008080; text-decoration-color: #008080\">      frac75_at_segment50_85      </span>│<span style=\"color: #800080; text-decoration-color: #800080\">        0.648024320602417         </span>│\n",
       "│<span style=\"color: #008080; text-decoration-color: #008080\">      frac75_at_segment50_88      </span>│<span style=\"color: #800080; text-decoration-color: #800080\">        0.6954953670501709        </span>│\n",
       "│<span style=\"color: #008080; text-decoration-color: #008080\">      frac75_at_segment50_90      </span>│<span style=\"color: #800080; text-decoration-color: #800080\">        0.7289703488349915        </span>│\n",
       "│<span style=\"color: #008080; text-decoration-color: #008080\">      frac75_at_segment50_93      </span>│<span style=\"color: #800080; text-decoration-color: #800080\">               nan                </span>│\n",
       "│<span style=\"color: #008080; text-decoration-color: #008080\">      frac75_at_segment50_95      </span>│<span style=\"color: #800080; text-decoration-color: #800080\">               nan                </span>│\n",
       "│<span style=\"color: #008080; text-decoration-color: #008080\">      frac75_at_segment50_97      </span>│<span style=\"color: #800080; text-decoration-color: #800080\">               nan                </span>│\n",
       "│<span style=\"color: #008080; text-decoration-color: #008080\">      frac75_at_segment50_99      </span>│<span style=\"color: #800080; text-decoration-color: #800080\">               nan                </span>│\n",
       "│<span style=\"color: #008080; text-decoration-color: #008080\">     k_at_max_frac_segment50      </span>│<span style=\"color: #800080; text-decoration-color: #800080\">               15.0               </span>│\n",
       "│<span style=\"color: #008080; text-decoration-color: #008080\">        k_at_segment50_80         </span>│<span style=\"color: #800080; text-decoration-color: #800080\">               7.0                </span>│\n",
       "│<span style=\"color: #008080; text-decoration-color: #008080\">        k_at_segment50_85         </span>│<span style=\"color: #800080; text-decoration-color: #800080\">        7.141140460968018         </span>│\n",
       "│<span style=\"color: #008080; text-decoration-color: #008080\">        k_at_segment50_88         </span>│<span style=\"color: #800080; text-decoration-color: #800080\">         9.80606460571289         </span>│\n",
       "│<span style=\"color: #008080; text-decoration-color: #008080\">        k_at_segment50_90         </span>│<span style=\"color: #800080; text-decoration-color: #800080\">        12.89967155456543         </span>│\n",
       "│<span style=\"color: #008080; text-decoration-color: #008080\">        k_at_segment50_93         </span>│<span style=\"color: #800080; text-decoration-color: #800080\">               nan                </span>│\n",
       "│<span style=\"color: #008080; text-decoration-color: #008080\">        k_at_segment50_95         </span>│<span style=\"color: #800080; text-decoration-color: #800080\">               nan                </span>│\n",
       "│<span style=\"color: #008080; text-decoration-color: #008080\">        k_at_segment50_97         </span>│<span style=\"color: #800080; text-decoration-color: #800080\">               nan                </span>│\n",
       "│<span style=\"color: #008080; text-decoration-color: #008080\">        k_at_segment50_99         </span>│<span style=\"color: #800080; text-decoration-color: #800080\">               nan                </span>│\n",
       "│<span style=\"color: #008080; text-decoration-color: #008080\">        max_frac_segment50        </span>│<span style=\"color: #800080; text-decoration-color: #800080\">        0.912997200933243         </span>│\n",
       "│<span style=\"color: #008080; text-decoration-color: #008080\">    n_edges_frac_segment50_80     </span>│<span style=\"color: #800080; text-decoration-color: #800080\">           396683.8125            </span>│\n",
       "│<span style=\"color: #008080; text-decoration-color: #008080\">    n_edges_frac_segment50_85     </span>│<span style=\"color: #800080; text-decoration-color: #800080\">           404595.9375            </span>│\n",
       "│<span style=\"color: #008080; text-decoration-color: #008080\">    n_edges_frac_segment50_88     </span>│<span style=\"color: #800080; text-decoration-color: #800080\">             553604.0             </span>│\n",
       "│<span style=\"color: #008080; text-decoration-color: #008080\">    n_edges_frac_segment50_90     </span>│<span style=\"color: #800080; text-decoration-color: #800080\">            725676.625            </span>│\n",
       "│<span style=\"color: #008080; text-decoration-color: #008080\">    n_edges_frac_segment50_93     </span>│<span style=\"color: #800080; text-decoration-color: #800080\">               nan                </span>│\n",
       "│<span style=\"color: #008080; text-decoration-color: #008080\">    n_edges_frac_segment50_95     </span>│<span style=\"color: #800080; text-decoration-color: #800080\">               nan                </span>│\n",
       "│<span style=\"color: #008080; text-decoration-color: #008080\">    n_edges_frac_segment50_97     </span>│<span style=\"color: #800080; text-decoration-color: #800080\">               nan                </span>│\n",
       "│<span style=\"color: #008080; text-decoration-color: #008080\">    n_edges_frac_segment50_99     </span>│<span style=\"color: #800080; text-decoration-color: #800080\">               nan                </span>│\n",
       "│<span style=\"color: #008080; text-decoration-color: #008080\">    n_edges_max_frac_segment50    </span>│<span style=\"color: #800080; text-decoration-color: #800080\">             841991.0             </span>│\n",
       "│<span style=\"color: #008080; text-decoration-color: #008080\">   purity_at_max_frac_segment50   </span>│<span style=\"color: #800080; text-decoration-color: #800080\">       0.23085524439811705        </span>│\n",
       "│<span style=\"color: #008080; text-decoration-color: #008080\">      purity_at_segment50_80      </span>│<span style=\"color: #800080; text-decoration-color: #800080\">        0.3488660752773285        </span>│\n",
       "│<span style=\"color: #008080; text-decoration-color: #008080\">      purity_at_segment50_85      </span>│<span style=\"color: #800080; text-decoration-color: #800080\">        0.3463244140148163        </span>│\n",
       "│<span style=\"color: #008080; text-decoration-color: #008080\">      purity_at_segment50_88      </span>│<span style=\"color: #800080; text-decoration-color: #800080\">       0.30408725142478943        </span>│\n",
       "│<span style=\"color: #008080; text-decoration-color: #008080\">      purity_at_segment50_90      </span>│<span style=\"color: #800080; text-decoration-color: #800080\">        0.2589900493621826        </span>│\n",
       "│<span style=\"color: #008080; text-decoration-color: #008080\">      purity_at_segment50_93      </span>│<span style=\"color: #800080; text-decoration-color: #800080\">               nan                </span>│\n",
       "│<span style=\"color: #008080; text-decoration-color: #008080\">      purity_at_segment50_95      </span>│<span style=\"color: #800080; text-decoration-color: #800080\">               nan                </span>│\n",
       "│<span style=\"color: #008080; text-decoration-color: #008080\">      purity_at_segment50_97      </span>│<span style=\"color: #800080; text-decoration-color: #800080\">               nan                </span>│\n",
       "│<span style=\"color: #008080; text-decoration-color: #008080\">      purity_at_segment50_99      </span>│<span style=\"color: #800080; text-decoration-color: #800080\">               nan                </span>│\n",
       "│<span style=\"color: #008080; text-decoration-color: #008080\">            repulsive             </span>│<span style=\"color: #800080; text-decoration-color: #800080\">        29.345333099365234        </span>│\n",
       "│<span style=\"color: #008080; text-decoration-color: #008080\">        repulsive_weighted        </span>│<span style=\"color: #800080; text-decoration-color: #800080\">       0.17607201635837555        </span>│\n",
       "│<span style=\"color: #008080; text-decoration-color: #008080\">              total               </span>│<span style=\"color: #800080; text-decoration-color: #800080\">        0.3225206434726715        </span>│\n",
       "└──────────────────────────────────┴──────────────────────────────────┘\n",
       "</pre>\n"
      ],
      "text/plain": [
       "┏━━━━━━━━━━━━━━━━━━━━━━━━━━━━━━━━━━┳━━━━━━━━━━━━━━━━━━━━━━━━━━━━━━━━━━┓\n",
       "┃\u001b[1m \u001b[0m\u001b[1m        Validate metric         \u001b[0m\u001b[1m \u001b[0m┃\u001b[1m \u001b[0m\u001b[1m          DataLoader 0          \u001b[0m\u001b[1m \u001b[0m┃\n",
       "┡━━━━━━━━━━━━━━━━━━━━━━━━━━━━━━━━━━╇━━━━━━━━━━━━━━━━━━━━━━━━━━━━━━━━━━┩\n",
       "│\u001b[36m \u001b[0m\u001b[36m           attractive           \u001b[0m\u001b[36m \u001b[0m│\u001b[35m \u001b[0m\u001b[35m      0.14644861221313477       \u001b[0m\u001b[35m \u001b[0m│\n",
       "│\u001b[36m \u001b[0m\u001b[36m      attractive_weighted       \u001b[0m\u001b[36m \u001b[0m│\u001b[35m \u001b[0m\u001b[35m      0.14644861221313477       \u001b[0m\u001b[35m \u001b[0m│\n",
       "│\u001b[36m \u001b[0m\u001b[36mefficiency_at_max_frac_segment50\u001b[0m\u001b[36m \u001b[0m│\u001b[35m \u001b[0m\u001b[35m       0.7478532314300537       \u001b[0m\u001b[35m \u001b[0m│\n",
       "│\u001b[36m \u001b[0m\u001b[36m   efficiency_at_segment50_80   \u001b[0m\u001b[36m \u001b[0m│\u001b[35m \u001b[0m\u001b[35m       0.4928075075149536       \u001b[0m\u001b[35m \u001b[0m│\n",
       "│\u001b[36m \u001b[0m\u001b[36m   efficiency_at_segment50_85   \u001b[0m\u001b[36m \u001b[0m│\u001b[35m \u001b[0m\u001b[35m       0.4998131990432739       \u001b[0m\u001b[35m \u001b[0m│\n",
       "│\u001b[36m \u001b[0m\u001b[36m   efficiency_at_segment50_88   \u001b[0m\u001b[36m \u001b[0m│\u001b[35m \u001b[0m\u001b[35m       0.6181542277336121       \u001b[0m\u001b[35m \u001b[0m│\n",
       "│\u001b[36m \u001b[0m\u001b[36m   efficiency_at_segment50_90   \u001b[0m\u001b[36m \u001b[0m│\u001b[35m \u001b[0m\u001b[35m       0.7106400728225708       \u001b[0m\u001b[35m \u001b[0m│\n",
       "│\u001b[36m \u001b[0m\u001b[36m   efficiency_at_segment50_93   \u001b[0m\u001b[36m \u001b[0m│\u001b[35m \u001b[0m\u001b[35m              nan               \u001b[0m\u001b[35m \u001b[0m│\n",
       "│\u001b[36m \u001b[0m\u001b[36m   efficiency_at_segment50_95   \u001b[0m\u001b[36m \u001b[0m│\u001b[35m \u001b[0m\u001b[35m              nan               \u001b[0m\u001b[35m \u001b[0m│\n",
       "│\u001b[36m \u001b[0m\u001b[36m   efficiency_at_segment50_97   \u001b[0m\u001b[36m \u001b[0m│\u001b[35m \u001b[0m\u001b[35m              nan               \u001b[0m\u001b[35m \u001b[0m│\n",
       "│\u001b[36m \u001b[0m\u001b[36m   efficiency_at_segment50_99   \u001b[0m\u001b[36m \u001b[0m│\u001b[35m \u001b[0m\u001b[35m              nan               \u001b[0m\u001b[35m \u001b[0m│\n",
       "│\u001b[36m \u001b[0m\u001b[36m frac100_at_max_frac_segment50  \u001b[0m\u001b[36m \u001b[0m│\u001b[35m \u001b[0m\u001b[35m       0.6595401865574446       \u001b[0m\u001b[35m \u001b[0m│\n",
       "│\u001b[36m \u001b[0m\u001b[36m    frac100_at_segment50_80     \u001b[0m\u001b[36m \u001b[0m│\u001b[35m \u001b[0m\u001b[35m       0.5249454379081726       \u001b[0m\u001b[35m \u001b[0m│\n",
       "│\u001b[36m \u001b[0m\u001b[36m    frac100_at_segment50_85     \u001b[0m\u001b[36m \u001b[0m│\u001b[35m \u001b[0m\u001b[35m       0.5289484858512878       \u001b[0m\u001b[35m \u001b[0m│\n",
       "│\u001b[36m \u001b[0m\u001b[36m    frac100_at_segment50_88     \u001b[0m\u001b[36m \u001b[0m│\u001b[35m \u001b[0m\u001b[35m       0.5877106785774231       \u001b[0m\u001b[35m \u001b[0m│\n",
       "│\u001b[36m \u001b[0m\u001b[36m    frac100_at_segment50_90     \u001b[0m\u001b[36m \u001b[0m│\u001b[35m \u001b[0m\u001b[35m       0.6328863501548767       \u001b[0m\u001b[35m \u001b[0m│\n",
       "│\u001b[36m \u001b[0m\u001b[36m    frac100_at_segment50_93     \u001b[0m\u001b[36m \u001b[0m│\u001b[35m \u001b[0m\u001b[35m              nan               \u001b[0m\u001b[35m \u001b[0m│\n",
       "│\u001b[36m \u001b[0m\u001b[36m    frac100_at_segment50_95     \u001b[0m\u001b[36m \u001b[0m│\u001b[35m \u001b[0m\u001b[35m              nan               \u001b[0m\u001b[35m \u001b[0m│\n",
       "│\u001b[36m \u001b[0m\u001b[36m    frac100_at_segment50_97     \u001b[0m\u001b[36m \u001b[0m│\u001b[35m \u001b[0m\u001b[35m              nan               \u001b[0m\u001b[35m \u001b[0m│\n",
       "│\u001b[36m \u001b[0m\u001b[36m    frac100_at_segment50_99     \u001b[0m\u001b[36m \u001b[0m│\u001b[35m \u001b[0m\u001b[35m              nan               \u001b[0m\u001b[35m \u001b[0m│\n",
       "│\u001b[36m \u001b[0m\u001b[36m  frac75_at_max_frac_segment50  \u001b[0m\u001b[36m \u001b[0m│\u001b[35m \u001b[0m\u001b[35m       0.7489145026167171       \u001b[0m\u001b[35m \u001b[0m│\n",
       "│\u001b[36m \u001b[0m\u001b[36m     frac75_at_segment50_80     \u001b[0m\u001b[36m \u001b[0m│\u001b[35m \u001b[0m\u001b[35m       0.6447610259056091       \u001b[0m\u001b[35m \u001b[0m│\n",
       "│\u001b[36m \u001b[0m\u001b[36m     frac75_at_segment50_85     \u001b[0m\u001b[36m \u001b[0m│\u001b[35m \u001b[0m\u001b[35m       0.648024320602417        \u001b[0m\u001b[35m \u001b[0m│\n",
       "│\u001b[36m \u001b[0m\u001b[36m     frac75_at_segment50_88     \u001b[0m\u001b[36m \u001b[0m│\u001b[35m \u001b[0m\u001b[35m       0.6954953670501709       \u001b[0m\u001b[35m \u001b[0m│\n",
       "│\u001b[36m \u001b[0m\u001b[36m     frac75_at_segment50_90     \u001b[0m\u001b[36m \u001b[0m│\u001b[35m \u001b[0m\u001b[35m       0.7289703488349915       \u001b[0m\u001b[35m \u001b[0m│\n",
       "│\u001b[36m \u001b[0m\u001b[36m     frac75_at_segment50_93     \u001b[0m\u001b[36m \u001b[0m│\u001b[35m \u001b[0m\u001b[35m              nan               \u001b[0m\u001b[35m \u001b[0m│\n",
       "│\u001b[36m \u001b[0m\u001b[36m     frac75_at_segment50_95     \u001b[0m\u001b[36m \u001b[0m│\u001b[35m \u001b[0m\u001b[35m              nan               \u001b[0m\u001b[35m \u001b[0m│\n",
       "│\u001b[36m \u001b[0m\u001b[36m     frac75_at_segment50_97     \u001b[0m\u001b[36m \u001b[0m│\u001b[35m \u001b[0m\u001b[35m              nan               \u001b[0m\u001b[35m \u001b[0m│\n",
       "│\u001b[36m \u001b[0m\u001b[36m     frac75_at_segment50_99     \u001b[0m\u001b[36m \u001b[0m│\u001b[35m \u001b[0m\u001b[35m              nan               \u001b[0m\u001b[35m \u001b[0m│\n",
       "│\u001b[36m \u001b[0m\u001b[36m    k_at_max_frac_segment50     \u001b[0m\u001b[36m \u001b[0m│\u001b[35m \u001b[0m\u001b[35m              15.0              \u001b[0m\u001b[35m \u001b[0m│\n",
       "│\u001b[36m \u001b[0m\u001b[36m       k_at_segment50_80        \u001b[0m\u001b[36m \u001b[0m│\u001b[35m \u001b[0m\u001b[35m              7.0               \u001b[0m\u001b[35m \u001b[0m│\n",
       "│\u001b[36m \u001b[0m\u001b[36m       k_at_segment50_85        \u001b[0m\u001b[36m \u001b[0m│\u001b[35m \u001b[0m\u001b[35m       7.141140460968018        \u001b[0m\u001b[35m \u001b[0m│\n",
       "│\u001b[36m \u001b[0m\u001b[36m       k_at_segment50_88        \u001b[0m\u001b[36m \u001b[0m│\u001b[35m \u001b[0m\u001b[35m        9.80606460571289        \u001b[0m\u001b[35m \u001b[0m│\n",
       "│\u001b[36m \u001b[0m\u001b[36m       k_at_segment50_90        \u001b[0m\u001b[36m \u001b[0m│\u001b[35m \u001b[0m\u001b[35m       12.89967155456543        \u001b[0m\u001b[35m \u001b[0m│\n",
       "│\u001b[36m \u001b[0m\u001b[36m       k_at_segment50_93        \u001b[0m\u001b[36m \u001b[0m│\u001b[35m \u001b[0m\u001b[35m              nan               \u001b[0m\u001b[35m \u001b[0m│\n",
       "│\u001b[36m \u001b[0m\u001b[36m       k_at_segment50_95        \u001b[0m\u001b[36m \u001b[0m│\u001b[35m \u001b[0m\u001b[35m              nan               \u001b[0m\u001b[35m \u001b[0m│\n",
       "│\u001b[36m \u001b[0m\u001b[36m       k_at_segment50_97        \u001b[0m\u001b[36m \u001b[0m│\u001b[35m \u001b[0m\u001b[35m              nan               \u001b[0m\u001b[35m \u001b[0m│\n",
       "│\u001b[36m \u001b[0m\u001b[36m       k_at_segment50_99        \u001b[0m\u001b[36m \u001b[0m│\u001b[35m \u001b[0m\u001b[35m              nan               \u001b[0m\u001b[35m \u001b[0m│\n",
       "│\u001b[36m \u001b[0m\u001b[36m       max_frac_segment50       \u001b[0m\u001b[36m \u001b[0m│\u001b[35m \u001b[0m\u001b[35m       0.912997200933243        \u001b[0m\u001b[35m \u001b[0m│\n",
       "│\u001b[36m \u001b[0m\u001b[36m   n_edges_frac_segment50_80    \u001b[0m\u001b[36m \u001b[0m│\u001b[35m \u001b[0m\u001b[35m          396683.8125           \u001b[0m\u001b[35m \u001b[0m│\n",
       "│\u001b[36m \u001b[0m\u001b[36m   n_edges_frac_segment50_85    \u001b[0m\u001b[36m \u001b[0m│\u001b[35m \u001b[0m\u001b[35m          404595.9375           \u001b[0m\u001b[35m \u001b[0m│\n",
       "│\u001b[36m \u001b[0m\u001b[36m   n_edges_frac_segment50_88    \u001b[0m\u001b[36m \u001b[0m│\u001b[35m \u001b[0m\u001b[35m            553604.0            \u001b[0m\u001b[35m \u001b[0m│\n",
       "│\u001b[36m \u001b[0m\u001b[36m   n_edges_frac_segment50_90    \u001b[0m\u001b[36m \u001b[0m│\u001b[35m \u001b[0m\u001b[35m           725676.625           \u001b[0m\u001b[35m \u001b[0m│\n",
       "│\u001b[36m \u001b[0m\u001b[36m   n_edges_frac_segment50_93    \u001b[0m\u001b[36m \u001b[0m│\u001b[35m \u001b[0m\u001b[35m              nan               \u001b[0m\u001b[35m \u001b[0m│\n",
       "│\u001b[36m \u001b[0m\u001b[36m   n_edges_frac_segment50_95    \u001b[0m\u001b[36m \u001b[0m│\u001b[35m \u001b[0m\u001b[35m              nan               \u001b[0m\u001b[35m \u001b[0m│\n",
       "│\u001b[36m \u001b[0m\u001b[36m   n_edges_frac_segment50_97    \u001b[0m\u001b[36m \u001b[0m│\u001b[35m \u001b[0m\u001b[35m              nan               \u001b[0m\u001b[35m \u001b[0m│\n",
       "│\u001b[36m \u001b[0m\u001b[36m   n_edges_frac_segment50_99    \u001b[0m\u001b[36m \u001b[0m│\u001b[35m \u001b[0m\u001b[35m              nan               \u001b[0m\u001b[35m \u001b[0m│\n",
       "│\u001b[36m \u001b[0m\u001b[36m   n_edges_max_frac_segment50   \u001b[0m\u001b[36m \u001b[0m│\u001b[35m \u001b[0m\u001b[35m            841991.0            \u001b[0m\u001b[35m \u001b[0m│\n",
       "│\u001b[36m \u001b[0m\u001b[36m  purity_at_max_frac_segment50  \u001b[0m\u001b[36m \u001b[0m│\u001b[35m \u001b[0m\u001b[35m      0.23085524439811705       \u001b[0m\u001b[35m \u001b[0m│\n",
       "│\u001b[36m \u001b[0m\u001b[36m     purity_at_segment50_80     \u001b[0m\u001b[36m \u001b[0m│\u001b[35m \u001b[0m\u001b[35m       0.3488660752773285       \u001b[0m\u001b[35m \u001b[0m│\n",
       "│\u001b[36m \u001b[0m\u001b[36m     purity_at_segment50_85     \u001b[0m\u001b[36m \u001b[0m│\u001b[35m \u001b[0m\u001b[35m       0.3463244140148163       \u001b[0m\u001b[35m \u001b[0m│\n",
       "│\u001b[36m \u001b[0m\u001b[36m     purity_at_segment50_88     \u001b[0m\u001b[36m \u001b[0m│\u001b[35m \u001b[0m\u001b[35m      0.30408725142478943       \u001b[0m\u001b[35m \u001b[0m│\n",
       "│\u001b[36m \u001b[0m\u001b[36m     purity_at_segment50_90     \u001b[0m\u001b[36m \u001b[0m│\u001b[35m \u001b[0m\u001b[35m       0.2589900493621826       \u001b[0m\u001b[35m \u001b[0m│\n",
       "│\u001b[36m \u001b[0m\u001b[36m     purity_at_segment50_93     \u001b[0m\u001b[36m \u001b[0m│\u001b[35m \u001b[0m\u001b[35m              nan               \u001b[0m\u001b[35m \u001b[0m│\n",
       "│\u001b[36m \u001b[0m\u001b[36m     purity_at_segment50_95     \u001b[0m\u001b[36m \u001b[0m│\u001b[35m \u001b[0m\u001b[35m              nan               \u001b[0m\u001b[35m \u001b[0m│\n",
       "│\u001b[36m \u001b[0m\u001b[36m     purity_at_segment50_97     \u001b[0m\u001b[36m \u001b[0m│\u001b[35m \u001b[0m\u001b[35m              nan               \u001b[0m\u001b[35m \u001b[0m│\n",
       "│\u001b[36m \u001b[0m\u001b[36m     purity_at_segment50_99     \u001b[0m\u001b[36m \u001b[0m│\u001b[35m \u001b[0m\u001b[35m              nan               \u001b[0m\u001b[35m \u001b[0m│\n",
       "│\u001b[36m \u001b[0m\u001b[36m           repulsive            \u001b[0m\u001b[36m \u001b[0m│\u001b[35m \u001b[0m\u001b[35m       29.345333099365234       \u001b[0m\u001b[35m \u001b[0m│\n",
       "│\u001b[36m \u001b[0m\u001b[36m       repulsive_weighted       \u001b[0m\u001b[36m \u001b[0m│\u001b[35m \u001b[0m\u001b[35m      0.17607201635837555       \u001b[0m\u001b[35m \u001b[0m│\n",
       "│\u001b[36m \u001b[0m\u001b[36m             total              \u001b[0m\u001b[36m \u001b[0m│\u001b[35m \u001b[0m\u001b[35m       0.3225206434726715       \u001b[0m\u001b[35m \u001b[0m│\n",
       "└──────────────────────────────────┴──────────────────────────────────┘\n"
      ]
     },
     "metadata": {},
     "output_type": "display_data"
    },
    {
     "data": {
      "text/plain": [
       "[{'attractive': 0.14644861221313477,\n",
       "  'repulsive': 29.345333099365234,\n",
       "  'attractive_weighted': 0.14644861221313477,\n",
       "  'repulsive_weighted': 0.17607201635837555,\n",
       "  'total': 0.3225206434726715,\n",
       "  'n_edges_frac_segment50_80': 396683.8125,\n",
       "  'k_at_segment50_80': 7.0,\n",
       "  'frac75_at_segment50_80': 0.6447610259056091,\n",
       "  'frac100_at_segment50_80': 0.5249454379081726,\n",
       "  'efficiency_at_segment50_80': 0.4928075075149536,\n",
       "  'purity_at_segment50_80': 0.3488660752773285,\n",
       "  'n_edges_frac_segment50_85': 404595.9375,\n",
       "  'k_at_segment50_85': 7.141140460968018,\n",
       "  'frac75_at_segment50_85': 0.648024320602417,\n",
       "  'frac100_at_segment50_85': 0.5289484858512878,\n",
       "  'efficiency_at_segment50_85': 0.4998131990432739,\n",
       "  'purity_at_segment50_85': 0.3463244140148163,\n",
       "  'n_edges_frac_segment50_88': 553604.0,\n",
       "  'k_at_segment50_88': 9.80606460571289,\n",
       "  'frac75_at_segment50_88': 0.6954953670501709,\n",
       "  'frac100_at_segment50_88': 0.5877106785774231,\n",
       "  'efficiency_at_segment50_88': 0.6181542277336121,\n",
       "  'purity_at_segment50_88': 0.30408725142478943,\n",
       "  'n_edges_frac_segment50_90': 725676.625,\n",
       "  'k_at_segment50_90': 12.89967155456543,\n",
       "  'frac75_at_segment50_90': 0.7289703488349915,\n",
       "  'frac100_at_segment50_90': 0.6328863501548767,\n",
       "  'efficiency_at_segment50_90': 0.7106400728225708,\n",
       "  'purity_at_segment50_90': 0.2589900493621826,\n",
       "  'n_edges_frac_segment50_93': nan,\n",
       "  'k_at_segment50_93': nan,\n",
       "  'frac75_at_segment50_93': nan,\n",
       "  'frac100_at_segment50_93': nan,\n",
       "  'efficiency_at_segment50_93': nan,\n",
       "  'purity_at_segment50_93': nan,\n",
       "  'n_edges_frac_segment50_95': nan,\n",
       "  'k_at_segment50_95': nan,\n",
       "  'frac75_at_segment50_95': nan,\n",
       "  'frac100_at_segment50_95': nan,\n",
       "  'efficiency_at_segment50_95': nan,\n",
       "  'purity_at_segment50_95': nan,\n",
       "  'n_edges_frac_segment50_97': nan,\n",
       "  'k_at_segment50_97': nan,\n",
       "  'frac75_at_segment50_97': nan,\n",
       "  'frac100_at_segment50_97': nan,\n",
       "  'efficiency_at_segment50_97': nan,\n",
       "  'purity_at_segment50_97': nan,\n",
       "  'n_edges_frac_segment50_99': nan,\n",
       "  'k_at_segment50_99': nan,\n",
       "  'frac75_at_segment50_99': nan,\n",
       "  'frac100_at_segment50_99': nan,\n",
       "  'efficiency_at_segment50_99': nan,\n",
       "  'purity_at_segment50_99': nan,\n",
       "  'max_frac_segment50': 0.912997200933243,\n",
       "  'n_edges_max_frac_segment50': 841991.0,\n",
       "  'k_at_max_frac_segment50': 15.0,\n",
       "  'frac75_at_max_frac_segment50': 0.7489145026167171,\n",
       "  'frac100_at_max_frac_segment50': 0.6595401865574446,\n",
       "  'efficiency_at_max_frac_segment50': 0.7478532314300537,\n",
       "  'purity_at_max_frac_segment50': 0.23085524439811705}]"
      ]
     },
     "execution_count": 7,
     "metadata": {},
     "output_type": "execute_result"
    }
   ],
   "source": [
    "import pytorch_lightning as pl\n",
    "\n",
    "trainer = pl.Trainer()\n",
    "trainer.validate(ml_module, dm)"
   ]
  },
  {
   "cell_type": "code",
   "execution_count": 9,
   "metadata": {},
   "outputs": [
    {
     "data": {
      "text/plain": [
       "0.8317540472476583"
      ]
     },
     "execution_count": 9,
     "metadata": {},
     "output_type": "execute_result"
    }
   ],
   "source": [
    "attractive = 0.14644861221313477\n",
    "repulsive = 29.345333099365234\n",
    "repulsive_weighted = 0.17607201635837555\n",
    "attractive/repulsive_weighted"
   ]
  },
  {
   "cell_type": "code",
   "execution_count": null,
   "metadata": {},
   "outputs": [],
   "source": []
  }
 ],
 "metadata": {
  "kernelspec": {
   "display_name": "Python 3 (ipykernel)",
   "language": "python",
   "name": "python3"
  }
 },
 "nbformat": 4,
 "nbformat_minor": 2
}
