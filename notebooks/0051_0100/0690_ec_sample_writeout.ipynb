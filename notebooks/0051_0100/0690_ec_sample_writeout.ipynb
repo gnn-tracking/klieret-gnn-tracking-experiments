{
 "cells": [
  {
   "cell_type": "markdown",
   "metadata": {},
   "source": [
    "# EC sample writeout \n",
    "\n",
    "* **Description**: Produce samples for principles EC study\n",
    "* **Status**: Active\n",
    "* **Preceeded by**: 0580\n",
    "* **Succeeded by**:\n",
    "* **See also**: "
   ]
  },
  {
   "cell_type": "code",
   "execution_count": 3,
   "metadata": {},
   "outputs": [],
   "source": [
    "from gnn_tracking.graph_construction.data_transformer import DataTransformer\n",
    "from gnn_tracking.models.graph_construction import MLGraphConstructionFromChkpt\n",
    "from pathlib import Path"
   ]
  },
  {
   "cell_type": "code",
   "execution_count": 4,
   "metadata": {},
   "outputs": [],
   "source": [
    "ml_chkpt_path =  Path(\"/home/dc3896/devdoot-gnn-tracking-experiments/experiments/lightning_logs/quiet-origami-prawn/checkpoints/epoch=136-n_edges_frac_segment50_95=197442.95.ckpt\")\n",
    "assert ml_chkpt_path.is_file()\n"
   ]
  },
  {
   "cell_type": "code",
   "execution_count": 5,
   "metadata": {},
   "outputs": [
    {
     "name": "stderr",
     "output_type": "stream",
     "text": [
      "\u001b[36m[13:22:45] DEBUG: Getting class MLModule from module gnn_tracking.training.ml\u001b[0m\n",
      "\u001b[36m[13:23:03] DEBUG: Loading checkpoint /home/dc3896/devdoot-gnn-tracking-experiments/experiments/lightning_logs/quiet-origami-prawn/checkpoints/epoch=136-n_edges_frac_segment50_95=197442.95.ckpt\u001b[0m\n",
      "\u001b[36m[13:23:04] DEBUG: Getting class GraphConstructionFCNN from module gnn_tracking.models.graph_construction\u001b[0m\n",
      "\u001b[36m[13:23:04] DEBUG: Getting class GraphConstructionHingeEmbeddingLoss from module gnn_tracking.metrics.losses\u001b[0m\n",
      "\u001b[36m[13:23:04] DEBUG: Getting class GraphConstructionKNNScanner from module gnn_tracking.graph_construction.k_scanner\u001b[0m\n",
      "\u001b[36m[13:23:04] DEBUG: Checkpoint loaded. Model ready to go.\u001b[0m\n"
     ]
    }
   ],
   "source": [
    "ml = MLGraphConstructionFromChkpt(\n",
    "    ml_chkpt_path=ml_chkpt_path\n",
    ")"
   ]
  },
  {
   "cell_type": "code",
   "execution_count": 6,
   "metadata": {},
   "outputs": [
    {
     "data": {
      "application/vnd.jupyter.widget-view+json": {
       "model_id": "f925be73265c4a5c841f0aca906bb99b",
       "version_major": 2,
       "version_minor": 0
      },
      "text/plain": [
       "  0%|          | 0/900 [00:00<?, ?it/s]"
      ]
     },
     "metadata": {},
     "output_type": "display_data"
    }
   ],
   "source": [
    "dt = DataTransformer(\n",
    "    transform=ml,\n",
    ")\n",
    "dt.process_directories(\n",
    "    input_dirs=[Path(f\"/scratch/gpfs/IOJALVO/gnn-tracking/object_condensation/point_clouds_v6/part_{i}\") for i in range(1, 10)],\n",
    "    output_dirs=[Path(f\"/scratch/gpfs/IOJALVO/gnn-tracking/object_condensation/graphs_v9/part_{i}\") for i in range(1, 10)]\n",
    ")"
   ]
  },
  {
   "cell_type": "code",
   "execution_count": null,
   "metadata": {},
   "outputs": [],
   "source": []
  }
 ],
 "metadata": {
  "kernelspec": {
   "display_name": "Python 3 (ipykernel)",
   "language": "python",
   "name": "python3"
  },
  "language_info": {
   "codemirror_mode": {
    "name": "ipython",
    "version": 3
   },
   "file_extension": ".py",
   "mimetype": "text/x-python",
   "name": "python",
   "nbconvert_exporter": "python",
   "pygments_lexer": "ipython3",
   "version": "3.10.11"
  }
 },
 "nbformat": 4,
 "nbformat_minor": 2
}
