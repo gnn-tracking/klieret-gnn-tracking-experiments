{
 "cells": [
  {
   "cell_type": "code",
   "execution_count": 2,
   "id": "b8fecbf32d702de2",
   "metadata": {
    "collapsed": true,
    "ExecuteTime": {
     "end_time": "2023-09-30T17:21:29.072663Z",
     "start_time": "2023-09-30T17:21:29.070354Z"
    }
   },
   "outputs": [],
   "source": [
    "from pathlib import Path\n",
    "from gnn_tracking.utils.lightning import find_latest_checkpoint\n",
    "from gnn_tracking.training.ml import MLModule"
   ]
  },
  {
   "cell_type": "code",
   "execution_count": null,
   "outputs": [],
   "source": [
    "ckpt_path = find_latest_checkpoint(Path(\"/home/kl5675/Documents/23/git_sync/hyperparameter_optimization2/scripts/full_detector/lightning_logs/naughty-sepia-buffalo/\"))\n",
    "gc = MLModule.load_from_checkpoint(ckpt_path)"
   ],
   "metadata": {
    "collapsed": false,
    "is_executing": true
   },
   "id": "initial_id"
  },
  {
   "cell_type": "code",
   "execution_count": 5,
   "outputs": [
    {
     "data": {
      "text/plain": "<All keys matched successfully>"
     },
     "execution_count": 5,
     "metadata": {},
     "output_type": "execute_result"
    }
   ],
   "source": [
    "import torch\n",
    "\n",
    "state_dict = torch.load(ckpt_path)\n",
    "gc.load_state_dict(state_dict[\"state_dict\"])"
   ],
   "metadata": {
    "collapsed": false,
    "ExecuteTime": {
     "end_time": "2023-09-30T17:23:48.259405Z",
     "start_time": "2023-09-30T17:23:48.213451Z"
    }
   },
   "id": "ddf2b0b46bc30176"
  },
  {
   "cell_type": "code",
   "execution_count": null,
   "outputs": [],
   "source": [],
   "metadata": {
    "collapsed": false
   },
   "id": "aae9d61f05c18c7c"
  }
 ],
 "metadata": {
  "kernelspec": {
   "display_name": "Python 3",
   "language": "python",
   "name": "python3"
  },
  "language_info": {
   "codemirror_mode": {
    "name": "ipython",
    "version": 2
   },
   "file_extension": ".py",
   "mimetype": "text/x-python",
   "name": "python",
   "nbconvert_exporter": "python",
   "pygments_lexer": "ipython2",
   "version": "2.7.6"
  }
 },
 "nbformat": 4,
 "nbformat_minor": 5
}
