{
 "cells": [
  {
   "cell_type": "code",
   "execution_count": 26,
   "id": "998d37ffe538280f",
   "metadata": {
    "collapsed": true,
    "ExecuteTime": {
     "end_time": "2023-10-03T00:41:22.838287Z",
     "start_time": "2023-10-03T00:41:22.832210Z"
    }
   },
   "outputs": [],
   "source": [
    "from gnn_tracking.metrics.losses import PotentialLoss\n",
    "from gnn_tracking.training.callbacks import PrintValidationMetrics\n",
    "from gnn_tracking.training.tc import TCModule\n",
    "from gnn_tracking.models.graph_construction import MLGraphConstructionFromChkpt\n",
    "from gnn_tracking.models.track_condensation_networks import PreTrainedECGraphTCN\n",
    "import torch"
   ]
  },
  {
   "cell_type": "code",
   "execution_count": 9,
   "outputs": [
    {
     "name": "stderr",
     "output_type": "stream",
     "text": [
      "/scratch/gpfs/kl5675/micromamba/envs/gnn/lib/python3.10/site-packages/pytorch_lightning/utilities/parsing.py:196: UserWarning: Attribute 'hc_in' is an instance of `nn.Module` and is already saved during checkpointing. It is recommended to ignore them using `self.save_hyperparameters(ignore=['hc_in'])`.\n",
      "  rank_zero_warn(\n",
      "\u001B[36m[20:40:33] DEBUG: Getting class MLModule from module gnn_tracking.training.ml\u001B[0m\n",
      "\u001B[36m[20:40:33] DEBUG: Loading checkpoint /home/kl5675/Documents/23/git_sync/hyperparameter_optimization2/scripts/full_detector/lightning_logs/merciful-reindeer-of-coffee/checkpoints/epoch=79-step=72000.compat.ckpt\u001B[0m\n",
      "\u001B[36m[20:40:33] DEBUG: Getting class GraphConstructionFCNN from module gnn_tracking.models.graph_construction\u001B[0m\n",
      "\u001B[36m[20:40:33] DEBUG: Getting class GraphConstructionHingeEmbeddingLoss from module gnn_tracking.metrics.losses\u001B[0m\n",
      "\u001B[36m[20:40:33] DEBUG: Getting class GraphConstructionKNNScanner from module gnn_tracking.graph_construction.k_scanner\u001B[0m\n",
      "\u001B[36m[20:40:33] DEBUG: Checkpoint loaded. Model ready to go.\u001B[0m\n"
     ]
    }
   ],
   "source": [
    "\n",
    "model = PreTrainedECGraphTCN(\n",
    "      ec=None,\n",
    "      node_indim= 38,\n",
    "      edge_indim= 76,\n",
    "      h_dim= 192,\n",
    "      e_dim= 192,\n",
    "      hidden_dim= 192,\n",
    "      h_outdim= 24,\n",
    "      L_hc= 5,\n",
    "      alpha_latent= 0.5,\n",
    "      n_embedding_coords= 24,\n",
    ")\n",
    "preproc = MLGraphConstructionFromChkpt(\n",
    "    ml_chkpt_path=\"/home/kl5675/Documents/23/git_sync/hyperparameter_optimization2/scripts/full_detector/lightning_logs/merciful-reindeer-of-coffee/checkpoints/epoch=79-step=72000.compat.ckpt\",\n",
    "    max_num_neighbors= 15,\n",
    "    max_radius= 1.,\n",
    "    use_embedding_features= True,\n",
    "    build_edge_features= True,\n",
    ")\n",
    "\n",
    "potential_loss = PotentialLoss(\n",
    "      q_min= 0.01,\n",
    "      radius_threshold= 1.0,\n",
    "      attr_pt_thld= 0.9,\n",
    "      max_neighbors= 128,\n",
    "    \n",
    ")\n",
    "\n",
    "oc = TCModule(\n",
    "    model=model,\n",
    "    preproc=preproc,\n",
    "    lw_repulsive=0.74,\n",
    "    lw_background=0,\n",
    "    background_loss=None,\n",
    "    potential_loss=potential_loss,\n",
    "    cluster_scanner=None,\n",
    ")"
   ],
   "metadata": {
    "collapsed": false,
    "ExecuteTime": {
     "end_time": "2023-10-03T00:40:33.164911Z",
     "start_time": "2023-10-03T00:40:32.831836Z"
    }
   },
   "id": "initial_id"
  },
  {
   "cell_type": "code",
   "execution_count": 10,
   "outputs": [],
   "source": [
    "# import torch\n",
    "# \n",
    "# state_dict = torch.load(\"/home/kl5675/Documents/23/git_sync/hyperparameter_optimization2/scripts/pixel/lightning_logs/wakeful-premium-partridge/checkpoints/epoch=196-step=177300.ckpt\")[\"state_dict\"]\n",
    "\n",
    "\n",
    "# oc.load_state_dict(\n",
    "#     ,\n",
    "#     strict=False,\n",
    "# )"
   ],
   "metadata": {
    "collapsed": false,
    "ExecuteTime": {
     "end_time": "2023-10-03T00:40:33.804295Z",
     "start_time": "2023-10-03T00:40:33.798181Z"
    }
   },
   "id": "dba557ce1695a3e5"
  },
  {
   "cell_type": "code",
   "execution_count": 65,
   "outputs": [],
   "source": [
    "from gnn_tracking.utils.loading import TrackingDataModule\n",
    "\n",
    "dm = TrackingDataModule(\n",
    "    identifier=\"point_clouds_v10\",\n",
    "    train=dict(\n",
    "        dirs=[\n",
    "            \"/scratch/gpfs/IOJALVO/gnn-tracking/object_condensation/point_clouds_v10/part_1/\"\n",
    "        ],\n",
    "        sample_size=5,\n",
    "        # If you run into memory issues, reduce this\n",
    "    ),\n",
    "    val=dict(\n",
    "        dirs=[\n",
    "            \"/scratch/gpfs/IOJALVO/gnn-tracking/object_condensation/point_clouds_v10/part_9/\"\n",
    "        ],\n",
    "        stop=5\n",
    "    ),\n",
    ")\n"
   ],
   "metadata": {
    "collapsed": false,
    "ExecuteTime": {
     "end_time": "2023-10-03T00:45:59.701004Z",
     "start_time": "2023-10-03T00:45:59.688253Z"
    }
   },
   "id": "f5a1e039b89dfb51"
  },
  {
   "cell_type": "code",
   "execution_count": 66,
   "outputs": [],
   "source": [
    "# from pytorch_lightning import Trainer\n",
    "# \n",
    "# trainer = Trainer(\n",
    "#     callbacks=[PrintValidationMetrics()],\n",
    "# )\n",
    "# trainer.fit(oc, dm)"
   ],
   "metadata": {
    "collapsed": false,
    "ExecuteTime": {
     "end_time": "2023-10-03T00:46:00.732544Z",
     "start_time": "2023-10-03T00:46:00.689890Z"
    }
   },
   "id": "5279247ad9373180"
  },
  {
   "cell_type": "code",
   "execution_count": 67,
   "outputs": [
    {
     "name": "stderr",
     "output_type": "stream",
     "text": [
      "\u001B[32m[20:46:01] INFO: DataLoader will load 900 graphs (out of 900 available).\u001B[0m\n",
      "\u001B[36m[20:46:01] DEBUG: First graph is /scratch/gpfs/IOJALVO/gnn-tracking/object_condensation/point_clouds_v10/part_1/data21000_s0.pt, last graph is /scratch/gpfs/IOJALVO/gnn-tracking/object_condensation/point_clouds_v10/part_1/data21999_s0.pt\u001B[0m\n",
      "\u001B[32m[20:46:01] INFO: DataLoader will load 5 graphs (out of 1000 available).\u001B[0m\n",
      "\u001B[36m[20:46:01] DEBUG: First graph is /scratch/gpfs/IOJALVO/gnn-tracking/object_condensation/point_clouds_v10/part_9/data29000_s0.pt, last graph is /scratch/gpfs/IOJALVO/gnn-tracking/object_condensation/point_clouds_v10/part_9/data29004_s0.pt\u001B[0m\n"
     ]
    }
   ],
   "source": [
    "dm.setup(\"fit\")\n",
    "data = dm.datasets[\"train\"][0]"
   ],
   "metadata": {
    "collapsed": false,
    "ExecuteTime": {
     "end_time": "2023-10-03T00:46:01.719040Z",
     "start_time": "2023-10-03T00:46:01.676124Z"
    }
   },
   "id": "89fc1c503e272922"
  },
  {
   "cell_type": "code",
   "execution_count": 68,
   "outputs": [],
   "source": [
    "data_preproc = preproc(data)"
   ],
   "metadata": {
    "collapsed": false,
    "ExecuteTime": {
     "end_time": "2023-10-03T00:46:20.971376Z",
     "start_time": "2023-10-03T00:46:04.577396Z"
    }
   },
   "id": "165288c13e153f15"
  },
  {
   "cell_type": "code",
   "execution_count": 15,
   "outputs": [],
   "source": [
    "# x = data_preproc.x"
   ],
   "metadata": {
    "collapsed": false,
    "ExecuteTime": {
     "end_time": "2023-10-03T00:40:45.005146Z",
     "start_time": "2023-10-03T00:40:44.981159Z"
    }
   },
   "id": "59015a88c5c4705a"
  },
  {
   "cell_type": "code",
   "execution_count": 16,
   "outputs": [],
   "source": [
    "# import torch\n",
    "# \n",
    "# torch.isnan(x).any()"
   ],
   "metadata": {
    "collapsed": false,
    "ExecuteTime": {
     "end_time": "2023-10-03T00:40:45.233666Z",
     "start_time": "2023-10-03T00:40:45.228252Z"
    }
   },
   "id": "d9ac88c71bab5fcf"
  },
  {
   "cell_type": "code",
   "execution_count": 17,
   "outputs": [],
   "source": [
    "# from torch.nn.functional import normalize\n",
    "# \n",
    "# x_normalized = normalize(x, p=2., dim=1, eps=1e-12, out=None)"
   ],
   "metadata": {
    "collapsed": false,
    "ExecuteTime": {
     "end_time": "2023-10-03T00:40:48.229397Z",
     "start_time": "2023-10-03T00:40:48.226277Z"
    }
   },
   "id": "63d2d542662953e2"
  },
  {
   "cell_type": "code",
   "execution_count": 18,
   "outputs": [],
   "source": [
    "# x_normalized"
   ],
   "metadata": {
    "collapsed": false,
    "ExecuteTime": {
     "end_time": "2023-10-03T00:40:49.297858Z",
     "start_time": "2023-10-03T00:40:49.277257Z"
    }
   },
   "id": "61c71aabe49f306a"
  },
  {
   "cell_type": "code",
   "execution_count": 19,
   "outputs": [],
   "source": [
    "# x_normalized.shape"
   ],
   "metadata": {
    "collapsed": false,
    "ExecuteTime": {
     "end_time": "2023-10-03T00:40:50.230675Z",
     "start_time": "2023-10-03T00:40:50.220999Z"
    }
   },
   "id": "64b53448571b0281"
  },
  {
   "cell_type": "code",
   "execution_count": 20,
   "outputs": [],
   "source": [
    "# x_enc = model._gtcn.hc_node_encoder(x_normalized[:100, :])"
   ],
   "metadata": {
    "collapsed": false,
    "ExecuteTime": {
     "end_time": "2023-10-03T00:40:56.757857Z",
     "start_time": "2023-10-03T00:40:56.733257Z"
    }
   },
   "id": "5d48a61b421cdd02"
  },
  {
   "cell_type": "code",
   "execution_count": 21,
   "outputs": [],
   "source": [
    "# torch.isnan(x_enc).sum() / x_enc.numel()"
   ],
   "metadata": {
    "collapsed": false,
    "ExecuteTime": {
     "end_time": "2023-10-03T00:40:57.589586Z",
     "start_time": "2023-10-03T00:40:57.582882Z"
    }
   },
   "id": "16507dcec64b68b7"
  },
  {
   "cell_type": "code",
   "execution_count": 22,
   "outputs": [],
   "source": [
    "# x_enc"
   ],
   "metadata": {
    "collapsed": false,
    "ExecuteTime": {
     "end_time": "2023-10-03T00:40:58.392785Z",
     "start_time": "2023-10-03T00:40:58.389927Z"
    }
   },
   "id": "3f11bff2d64be2d4"
  },
  {
   "cell_type": "code",
   "execution_count": null,
   "outputs": [],
   "source": [
    "model_out = model(data_preproc)"
   ],
   "metadata": {
    "collapsed": false,
    "is_executing": true,
    "ExecuteTime": {
     "start_time": "2023-10-03T00:46:20.971123Z"
    }
   },
   "id": "26eb37d70fc13b9b"
  },
  {
   "cell_type": "code",
   "execution_count": null,
   "outputs": [],
   "source": [
    "torch.isnan(model_out[\"H\"]).any(), torch.isnan(model_out[\"B\"]).any()"
   ],
   "metadata": {
    "collapsed": false,
    "is_executing": true
   },
   "id": "9836c86ad5991070"
  },
  {
   "cell_type": "code",
   "execution_count": 1,
   "outputs": [
    {
     "ename": "NameError",
     "evalue": "name 'model' is not defined",
     "output_type": "error",
     "traceback": [
      "\u001B[0;31m---------------------------------------------------------------------------\u001B[0m",
      "\u001B[0;31mNameError\u001B[0m                                 Traceback (most recent call last)",
      "Cell \u001B[0;32mIn[1], line 1\u001B[0m\n\u001B[0;32m----> 1\u001B[0m \u001B[38;5;28mlist\u001B[39m(\u001B[43mmodel\u001B[49m\u001B[38;5;241m.\u001B[39m_gtcn\u001B[38;5;241m.\u001B[39mhc_node_encoder\u001B[38;5;241m.\u001B[39mlayers\u001B[38;5;241m.\u001B[39mparameters())\n",
      "\u001B[0;31mNameError\u001B[0m: name 'model' is not defined"
     ]
    }
   ],
   "source": [
    "list(model._gtcn.hc_node_encoder.layers.parameters())"
   ],
   "metadata": {
    "collapsed": false,
    "ExecuteTime": {
     "end_time": "2023-10-03T00:57:29.414745Z",
     "start_time": "2023-10-03T00:57:29.247299Z"
    }
   },
   "id": "d0004e3fe00e2689"
  },
  {
   "cell_type": "code",
   "execution_count": 60,
   "outputs": [],
   "source": [
    "d = data_preproc\n",
    "o = model_out\n",
    "loss_dct = potential_loss(\n",
    "    beta=o[\"B\"],\n",
    "    x=o[\"H\"],\n",
    "    particle_id=d.particle_id,\n",
    "    reconstructable=d.reconstructable,\n",
    "    pt=d.pt,\n",
    ")"
   ],
   "metadata": {
    "collapsed": false,
    "ExecuteTime": {
     "end_time": "2023-10-03T00:45:47.460668Z",
     "start_time": "2023-10-03T00:45:47.023165Z"
    }
   },
   "id": "2c8cab5ce53c49ed"
  },
  {
   "cell_type": "code",
   "execution_count": 61,
   "outputs": [
    {
     "data": {
      "text/plain": "{'attractive': tensor(0.0664, grad_fn=<MulBackward0>),\n 'repulsive': tensor(0.5165, grad_fn=<MulBackward0>)}"
     },
     "execution_count": 61,
     "metadata": {},
     "output_type": "execute_result"
    }
   ],
   "source": [
    "loss_dct"
   ],
   "metadata": {
    "collapsed": false,
    "ExecuteTime": {
     "end_time": "2023-10-03T00:45:48.482292Z",
     "start_time": "2023-10-03T00:45:48.471528Z"
    }
   },
   "id": "e6f83095513dc7b0"
  },
  {
   "cell_type": "code",
   "execution_count": 62,
   "outputs": [],
   "source": [
    "loss = loss_dct[\"attractive\"] + loss_dct[\"repulsive\"]"
   ],
   "metadata": {
    "collapsed": false,
    "ExecuteTime": {
     "end_time": "2023-10-03T00:45:49.445460Z",
     "start_time": "2023-10-03T00:45:49.439044Z"
    }
   },
   "id": "7e687464da3423bf"
  },
  {
   "cell_type": "code",
   "execution_count": 63,
   "outputs": [],
   "source": [
    "loss.backward()"
   ],
   "metadata": {
    "collapsed": false,
    "ExecuteTime": {
     "end_time": "2023-10-03T00:45:51.030738Z",
     "start_time": "2023-10-03T00:45:50.061531Z"
    }
   },
   "id": "ada77ff30f3773a2"
  },
  {
   "cell_type": "code",
   "execution_count": 64,
   "outputs": [
    {
     "data": {
      "text/plain": "[Parameter containing:\n tensor([[-0.0913, -0.0627,  0.0372,  ...,  0.0461, -0.0669, -0.0834],\n         [ 0.0494, -0.1402,  0.0252,  ...,  0.0044,  0.0239,  0.0807],\n         [-0.0353, -0.1025, -0.1559,  ..., -0.1275,  0.0557,  0.0831],\n         ...,\n         [-0.1032, -0.0065, -0.1365,  ..., -0.1311, -0.0340,  0.0621],\n         [-0.1529,  0.0482, -0.1161,  ...,  0.1433, -0.0711,  0.0559],\n         [-0.0393,  0.0991,  0.0717,  ...,  0.0068, -0.0254,  0.0553]],\n        requires_grad=True),\n Parameter containing:\n tensor([[-0.0570,  0.0624, -0.0361,  ...,  0.0418, -0.0222,  0.0285],\n         [-0.0041,  0.0351,  0.0473,  ...,  0.0366, -0.0312,  0.0297],\n         [ 0.0488, -0.0041,  0.0441,  ...,  0.0455,  0.0378, -0.0271],\n         ...,\n         [ 0.0437, -0.0397, -0.0206,  ...,  0.0158,  0.0329,  0.0503],\n         [ 0.0226, -0.0669,  0.0128,  ...,  0.0150,  0.0669, -0.0117],\n         [-0.0394,  0.0419, -0.0376,  ...,  0.0264, -0.0515,  0.0502]],\n        requires_grad=True)]"
     },
     "execution_count": 64,
     "metadata": {},
     "output_type": "execute_result"
    }
   ],
   "source": [
    "list(model._gtcn.hc_node_encoder.parameters())"
   ],
   "metadata": {
    "collapsed": false,
    "ExecuteTime": {
     "end_time": "2023-10-03T00:45:51.584631Z",
     "start_time": "2023-10-03T00:45:51.572399Z"
    }
   },
   "id": "a5e710b3872d8fc"
  },
  {
   "cell_type": "code",
   "execution_count": 55,
   "outputs": [
    {
     "data": {
      "text/plain": "\"attr_pt_thld\":     0.9\n\"max_neighbors\":    128\n\"q_min\":            0.01\n\"radius_threshold\": 1.0"
     },
     "execution_count": 55,
     "metadata": {},
     "output_type": "execute_result"
    }
   ],
   "source": [
    "potential_loss.hparams"
   ],
   "metadata": {
    "collapsed": false,
    "ExecuteTime": {
     "end_time": "2023-10-03T00:45:26.235027Z",
     "start_time": "2023-10-03T00:45:26.228862Z"
    }
   },
   "id": "effcac02aee0220b"
  },
  {
   "cell_type": "code",
   "execution_count": null,
   "outputs": [],
   "source": [],
   "metadata": {
    "collapsed": false
   },
   "id": "1aa69e49de9639f3"
  }
 ],
 "metadata": {
  "kernelspec": {
   "display_name": "Python 3",
   "language": "python",
   "name": "python3"
  },
  "language_info": {
   "codemirror_mode": {
    "name": "ipython",
    "version": 2
   },
   "file_extension": ".py",
   "mimetype": "text/x-python",
   "name": "python",
   "nbconvert_exporter": "python",
   "pygments_lexer": "ipython2",
   "version": "2.7.6"
  }
 },
 "nbformat": 4,
 "nbformat_minor": 5
}
