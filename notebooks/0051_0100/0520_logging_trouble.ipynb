{
 "cells": [
  {
   "cell_type": "code",
   "execution_count": 143,
   "metadata": {},
   "outputs": [],
   "source": [
    "# This notebook was prepared by Devdoot\n",
    "\n",
    "from pytorch_lightning import Trainer\n",
    "from pytorch_lightning.demos.boring_classes import BoringModel, BoringDataModule\n",
    "from pytorch_lightning.callbacks import Callback"
   ]
  },
  {
   "cell_type": "code",
   "execution_count": 144,
   "metadata": {},
   "outputs": [],
   "source": [
    "import pandas as pd"
   ]
  },
  {
   "cell_type": "code",
   "execution_count": 145,
   "metadata": {},
   "outputs": [],
   "source": [
    "from pytorch_lightning.utilities.types import STEP_OUTPUT\n",
    "from torch import Tensor\n",
    "from typing import Optional, Any\n",
    "import collections"
   ]
  },
  {
   "cell_type": "code",
   "execution_count": 146,
   "metadata": {},
   "outputs": [],
   "source": [
    "class model(BoringModel):\n",
    "    def __init__(self) -> None:\n",
    "        super().__init__()\n",
    "        self.loss_history = []\n",
    "        self.curr_loss = collections.defaultdict(lambda: 0.0)\n",
    "\n",
    "    def on_train_epoch_start(self, *args):\n",
    "        print(\"----\")\n",
    "\n",
    "    def training_step(self, batch: Tensor, batch_idx: int) -> STEP_OUTPUT:\n",
    "        loss_dct = {\"loss\": self.step(batch)}\n",
    "        self.log_dict(loss_dct, on_epoch=True)\n",
    "        for k,v in loss_dct.items():\n",
    "            self.curr_loss[f\"{k}\"] += v\n",
    "        return loss_dct\n",
    "\n",
    "    def validation_step(self, batch: Tensor, batch_idx: int) -> Optional[STEP_OUTPUT]:\n",
    "        loss_dct = {\"loss_val\": self.step(batch)}\n",
    "        self.log_dict(loss_dct, on_epoch=True)\n",
    "        if not self.trainer.sanity_checking:\n",
    "            for k,v in loss_dct.items():\n",
    "                self.curr_loss[f\"{k}\"] += v\n",
    "        return loss_dct\n",
    "\n",
    "    def on_validation_epoch_end(self, *args) -> None:        \n",
    "        print(self.current_epoch, \"OVEE\", self.trainer.callback_metrics, self.trainer.num_training_batches)\n",
    "\n",
    "        if self.trainer.sanity_checking:\n",
    "            return\n",
    "        \n",
    "        loss_dict = {}\n",
    "        for k,v in self.curr_loss.items():\n",
    "            if k.startswith(\"loss\"):\n",
    "                loss_dict[k] = float(v/self.trainer.num_training_batches)\n",
    "            else:\n",
    "                loss_dict[k] = float(v/self.trainer.num_val_batches[0])\n",
    "            self.curr_loss[k] = 0.0\n",
    "        \n",
    "        self.loss_history.append(loss_dict)\n",
    "    \n",
    "    def get_loss_history(self):\n",
    "        return pd.DataFrame.from_records(self.loss_history)"
   ]
  },
  {
   "cell_type": "code",
   "execution_count": 147,
   "metadata": {},
   "outputs": [],
   "source": [
    "class CollectLossHistory(Callback):\n",
    "    def __init__(self):\n",
    "        self.data_list = []\n",
    "        self._trainer = None\n",
    "\n",
    "\n",
    "    def on_validation_epoch_end(self, trainer, *args):\n",
    "        self._trainer = trainer\n",
    "        if not trainer.sanity_checking:\n",
    "            print(\"CB logging\", trainer.callback_metrics)\n",
    "            self.data_list.append(trainer.callback_metrics.copy())\n",
    "        else:\n",
    "            print(\"Sanity checking. skip\")\n",
    "\n",
    "    def get_history(self):\n",
    "        print(\"Normalizing\", self._trainer.num_training_batches, self._trainer.num_val_batches)\n",
    "        df = pd.DataFrame.from_records(self.data_list)\n",
    "        df[\"loss\"] /= self._trainer.num_training_batches\n",
    "        return df"
   ]
  },
  {
   "cell_type": "code",
   "execution_count": 148,
   "metadata": {},
   "outputs": [],
   "source": [
    "lmodel = model()\n",
    "dm = BoringDataModule()\n",
    "dm.setup(stage=\"fit\")"
   ]
  },
  {
   "cell_type": "code",
   "execution_count": 149,
   "metadata": {},
   "outputs": [
    {
     "name": "stderr",
     "output_type": "stream",
     "text": [
      "GPU available: True (mps), used: True\n",
      "TPU available: False, using: 0 TPU cores\n",
      "IPU available: False, using: 0 IPUs\n",
      "HPU available: False, using: 0 HPUs\n",
      "`Trainer(limit_train_batches=1)` was configured so 1 batch per epoch will be used.\n",
      "`Trainer(limit_val_batches=1)` was configured so 1 batch will be used.\n",
      "\n",
      "  | Name  | Type   | Params\n",
      "---------------------------------\n",
      "0 | layer | Linear | 66    \n",
      "---------------------------------\n",
      "66        Trainable params\n",
      "0         Non-trainable params\n",
      "66        Total params\n",
      "0.000     Total estimated model params size (MB)\n",
      "`Trainer.fit` stopped: `max_epochs=5` reached.\n"
     ]
    },
    {
     "name": "stdout",
     "output_type": "stream",
     "text": [
      "----\n",
      "CB logging {'loss': tensor(1.2727, device='mps:0'), 'loss_step': tensor(1.2727, device='mps:0'), 'loss_val': tensor(0.4627, device='mps:0')}\n",
      "0 OVEE {'loss': tensor(1.2727, device='mps:0'), 'loss_step': tensor(1.2727, device='mps:0'), 'loss_val': tensor(0.4627, device='mps:0')} 1\n",
      "----\n",
      "CB logging {'loss': tensor(3.3194, device='mps:0'), 'loss_step': tensor(3.3194, device='mps:0'), 'loss_val': tensor(0.3913, device='mps:0'), 'loss_epoch': tensor(1.2727, device='mps:0')}\n",
      "1 OVEE {'loss': tensor(3.3194, device='mps:0'), 'loss_step': tensor(3.3194, device='mps:0'), 'loss_val': tensor(0.3913, device='mps:0'), 'loss_epoch': tensor(1.2727, device='mps:0')} 1\n",
      "----\n",
      "CB logging {'loss': tensor(1.8103, device='mps:0'), 'loss_step': tensor(1.8103, device='mps:0'), 'loss_val': tensor(0.3884, device='mps:0'), 'loss_epoch': tensor(3.3194, device='mps:0')}\n",
      "2 OVEE {'loss': tensor(1.8103, device='mps:0'), 'loss_step': tensor(1.8103, device='mps:0'), 'loss_val': tensor(0.3884, device='mps:0'), 'loss_epoch': tensor(3.3194, device='mps:0')} 1\n",
      "----\n",
      "CB logging {'loss': tensor(1.7169, device='mps:0'), 'loss_step': tensor(1.7169, device='mps:0'), 'loss_val': tensor(0.3881, device='mps:0'), 'loss_epoch': tensor(1.8103, device='mps:0')}\n",
      "3 OVEE {'loss': tensor(1.7169, device='mps:0'), 'loss_step': tensor(1.7169, device='mps:0'), 'loss_val': tensor(0.3881, device='mps:0'), 'loss_epoch': tensor(1.8103, device='mps:0')} 1\n",
      "----\n",
      "CB logging {'loss': tensor(1.7079, device='mps:0'), 'loss_step': tensor(1.7079, device='mps:0'), 'loss_val': tensor(0.3881, device='mps:0'), 'loss_epoch': tensor(1.7169, device='mps:0')}\n",
      "4 OVEE {'loss': tensor(1.7079, device='mps:0'), 'loss_step': tensor(1.7079, device='mps:0'), 'loss_val': tensor(0.3881, device='mps:0'), 'loss_epoch': tensor(1.7169, device='mps:0')} 1\n",
      "Normalizing 1 [1]\n"
     ]
    }
   ],
   "source": [
    "loss_history_cb = CollectLossHistory()\n",
    "trainer = Trainer(max_epochs=5,accelerator=\"gpu\",callbacks=[loss_history_cb], enable_progress_bar=False, num_sanity_val_steps=0, limit_train_batches=1, limit_val_batches=1)\n",
    "trainer.fit(lmodel, dm, )\n",
    "loss_history = loss_history_cb.get_history()\n",
    "loss_history_2 = lmodel.get_loss_history()"
   ]
  },
  {
   "cell_type": "code",
   "execution_count": 150,
   "metadata": {},
   "outputs": [
    {
     "data": {
      "text/html": [
       "<div>\n",
       "<style scoped>\n",
       "    .dataframe tbody tr th:only-of-type {\n",
       "        vertical-align: middle;\n",
       "    }\n",
       "\n",
       "    .dataframe tbody tr th {\n",
       "        vertical-align: top;\n",
       "    }\n",
       "\n",
       "    .dataframe thead th {\n",
       "        text-align: right;\n",
       "    }\n",
       "</style>\n",
       "<table border=\"1\" class=\"dataframe\">\n",
       "  <thead>\n",
       "    <tr style=\"text-align: right;\">\n",
       "      <th></th>\n",
       "      <th>loss</th>\n",
       "      <th>loss_step</th>\n",
       "      <th>loss_val</th>\n",
       "      <th>loss_epoch</th>\n",
       "    </tr>\n",
       "  </thead>\n",
       "  <tbody>\n",
       "    <tr>\n",
       "      <th>0</th>\n",
       "      <td>tensor(1.2727, device='mps:0')</td>\n",
       "      <td>tensor(1.2727, device='mps:0')</td>\n",
       "      <td>tensor(0.4627, device='mps:0')</td>\n",
       "      <td>NaN</td>\n",
       "    </tr>\n",
       "    <tr>\n",
       "      <th>1</th>\n",
       "      <td>tensor(3.3194, device='mps:0')</td>\n",
       "      <td>tensor(3.3194, device='mps:0')</td>\n",
       "      <td>tensor(0.3913, device='mps:0')</td>\n",
       "      <td>tensor(1.2727, device='mps:0')</td>\n",
       "    </tr>\n",
       "    <tr>\n",
       "      <th>2</th>\n",
       "      <td>tensor(1.8103, device='mps:0')</td>\n",
       "      <td>tensor(1.8103, device='mps:0')</td>\n",
       "      <td>tensor(0.3884, device='mps:0')</td>\n",
       "      <td>tensor(3.3194, device='mps:0')</td>\n",
       "    </tr>\n",
       "    <tr>\n",
       "      <th>3</th>\n",
       "      <td>tensor(1.7169, device='mps:0')</td>\n",
       "      <td>tensor(1.7169, device='mps:0')</td>\n",
       "      <td>tensor(0.3881, device='mps:0')</td>\n",
       "      <td>tensor(1.8103, device='mps:0')</td>\n",
       "    </tr>\n",
       "    <tr>\n",
       "      <th>4</th>\n",
       "      <td>tensor(1.7079, device='mps:0')</td>\n",
       "      <td>tensor(1.7079, device='mps:0')</td>\n",
       "      <td>tensor(0.3881, device='mps:0')</td>\n",
       "      <td>tensor(1.7169, device='mps:0')</td>\n",
       "    </tr>\n",
       "  </tbody>\n",
       "</table>\n",
       "</div>"
      ],
      "text/plain": [
       "                             loss                       loss_step  \\\n",
       "0  tensor(1.2727, device='mps:0')  tensor(1.2727, device='mps:0')   \n",
       "1  tensor(3.3194, device='mps:0')  tensor(3.3194, device='mps:0')   \n",
       "2  tensor(1.8103, device='mps:0')  tensor(1.8103, device='mps:0')   \n",
       "3  tensor(1.7169, device='mps:0')  tensor(1.7169, device='mps:0')   \n",
       "4  tensor(1.7079, device='mps:0')  tensor(1.7079, device='mps:0')   \n",
       "\n",
       "                         loss_val                      loss_epoch  \n",
       "0  tensor(0.4627, device='mps:0')                             NaN  \n",
       "1  tensor(0.3913, device='mps:0')  tensor(1.2727, device='mps:0')  \n",
       "2  tensor(0.3884, device='mps:0')  tensor(3.3194, device='mps:0')  \n",
       "3  tensor(0.3881, device='mps:0')  tensor(1.8103, device='mps:0')  \n",
       "4  tensor(0.3881, device='mps:0')  tensor(1.7169, device='mps:0')  "
      ]
     },
     "execution_count": 150,
     "metadata": {},
     "output_type": "execute_result"
    }
   ],
   "source": [
    "loss_history"
   ]
  },
  {
   "cell_type": "code",
   "execution_count": 151,
   "metadata": {},
   "outputs": [
    {
     "data": {
      "text/html": [
       "<div>\n",
       "<style scoped>\n",
       "    .dataframe tbody tr th:only-of-type {\n",
       "        vertical-align: middle;\n",
       "    }\n",
       "\n",
       "    .dataframe tbody tr th {\n",
       "        vertical-align: top;\n",
       "    }\n",
       "\n",
       "    .dataframe thead th {\n",
       "        text-align: right;\n",
       "    }\n",
       "</style>\n",
       "<table border=\"1\" class=\"dataframe\">\n",
       "  <thead>\n",
       "    <tr style=\"text-align: right;\">\n",
       "      <th></th>\n",
       "      <th>loss</th>\n",
       "      <th>loss_val</th>\n",
       "    </tr>\n",
       "  </thead>\n",
       "  <tbody>\n",
       "    <tr>\n",
       "      <th>0</th>\n",
       "      <td>1.272690</td>\n",
       "      <td>0.462687</td>\n",
       "    </tr>\n",
       "    <tr>\n",
       "      <th>1</th>\n",
       "      <td>3.319377</td>\n",
       "      <td>0.391279</td>\n",
       "    </tr>\n",
       "    <tr>\n",
       "      <th>2</th>\n",
       "      <td>1.810340</td>\n",
       "      <td>0.388408</td>\n",
       "    </tr>\n",
       "    <tr>\n",
       "      <th>3</th>\n",
       "      <td>1.716898</td>\n",
       "      <td>0.388146</td>\n",
       "    </tr>\n",
       "    <tr>\n",
       "      <th>4</th>\n",
       "      <td>1.707930</td>\n",
       "      <td>0.388120</td>\n",
       "    </tr>\n",
       "  </tbody>\n",
       "</table>\n",
       "</div>"
      ],
      "text/plain": [
       "       loss  loss_val\n",
       "0  1.272690  0.462687\n",
       "1  3.319377  0.391279\n",
       "2  1.810340  0.388408\n",
       "3  1.716898  0.388146\n",
       "4  1.707930  0.388120"
      ]
     },
     "execution_count": 151,
     "metadata": {},
     "output_type": "execute_result"
    }
   ],
   "source": [
    "loss_history_2"
   ]
  },
  {
   "cell_type": "code",
   "execution_count": null,
   "metadata": {},
   "outputs": [],
   "source": []
  },
  {
   "cell_type": "code",
   "execution_count": null,
   "metadata": {},
   "outputs": [],
   "source": []
  }
 ],
 "metadata": {
  "kernelspec": {
   "display_name": "gnn",
   "language": "python",
   "name": "python3"
  },
  "language_info": {
   "codemirror_mode": {
    "name": "ipython",
    "version": 3
   },
   "file_extension": ".py",
   "mimetype": "text/x-python",
   "name": "python",
   "nbconvert_exporter": "python",
   "pygments_lexer": "ipython3",
   "version": "3.11.3"
  },
  "orig_nbformat": 4
 },
 "nbformat": 4,
 "nbformat_minor": 2
}
