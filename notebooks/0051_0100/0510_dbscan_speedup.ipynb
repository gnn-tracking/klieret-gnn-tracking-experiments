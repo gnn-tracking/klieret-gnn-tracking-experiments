{
 "cells": [
  {
   "cell_type": "code",
   "execution_count": 12,
   "metadata": {
    "collapsed": true
   },
   "outputs": [],
   "source": [
    "import pydantic\n",
    "import cudf\n",
    "import cugraph\n",
    "from tqdm import tqdm\n",
    "\n",
    "from gnn_tracking.training.ml import MLModule\n",
    "from pathlib import Path\n",
    "from torch_cluster import radius_graph\n",
    "import pandas as pd\n",
    "import torch\n",
    "from gnn_tracking.utils.timing import Timer\n",
    "from gnn_tracking.metrics.cluster_metrics import tracking_metric_df\n",
    "import matplotlib.pyplot as plt\n",
    "import numpy as np\n",
    "\n"
   ]
  },
  {
   "cell_type": "code",
   "execution_count": 13,
   "outputs": [],
   "source": [
    "model_exchange_path = Path(\n",
    "    \"/scratch/gpfs/IOJALVO/gnn-tracking/object_condensation/model_exchange\"\n",
    ")"
   ],
   "metadata": {
    "collapsed": false
   }
  },
  {
   "cell_type": "code",
   "execution_count": null,
   "outputs": [],
   "source": [
    "from gnn_tracking.utils.loading import TrackingDataModule\n",
    "\n",
    "dm = TrackingDataModule(\n",
    "    train=dict(\n",
    "        dirs=[\n",
    "            \"/scratch/gpfs/IOJALVO/gnn-tracking/object_condensation/point_clouds_v5/part_1/\"\n",
    "        ],\n",
    "        # If you run into memory issues, reduce this\n",
    "    ),\n",
    "    val=dict(\n",
    "        dirs=[\n",
    "            \"/scratch/gpfs/IOJALVO/gnn-tracking/object_condensation/point_clouds_v5/part_9/\"\n",
    "        ],\n",
    "        stop=5\n",
    "    ),\n",
    ")"
   ],
   "metadata": {
    "collapsed": false
   }
  },
  {
   "cell_type": "code",
   "execution_count": null,
   "outputs": [],
   "source": [
    "dm.setup(stage=\"fit\")"
   ],
   "metadata": {
    "collapsed": false
   }
  },
  {
   "cell_type": "code",
   "execution_count": 16,
   "outputs": [
    {
     "name": "stderr",
     "output_type": "stream",
     "text": [
      "\u001B[36m[15:22:14] DEBUG: Getting class GraphConstructionFCNN from module gnn_tracking.models.graph_construction\u001B[0m\n",
      "\u001B[36m[15:22:14] DEBUG: Getting class GraphConstructionHingeEmbeddingLoss from module gnn_tracking.metrics.losses\u001B[0m\n"
     ]
    }
   ],
   "source": [
    "model = MLModule.load_from_checkpoint(model_exchange_path / \"gc\" / \"gc-7dce6aff.ckpt\")"
   ],
   "metadata": {
    "collapsed": false
   }
  },
  {
   "cell_type": "code",
   "execution_count": 17,
   "outputs": [
    {
     "data": {
      "text/plain": "64253"
     },
     "execution_count": 17,
     "metadata": {},
     "output_type": "execute_result"
    }
   ],
   "source": [
    "data = dm.datasets[\"train\"][1]\n",
    "out = model(data)\n",
    "len(data.x)"
   ],
   "metadata": {
    "collapsed": false
   }
  },
  {
   "cell_type": "code",
   "execution_count": 18,
   "outputs": [],
   "source": [
    "h = out[\"H\"].detach()"
   ],
   "metadata": {
    "collapsed": false
   }
  },
  {
   "cell_type": "markdown",
   "source": [
    "## Testing cluster scanning with jian's accelerated dbscan rescanner"
   ],
   "metadata": {
    "collapsed": false
   }
  },
  {
   "cell_type": "code",
   "execution_count": 19,
   "outputs": [],
   "source": [
    "import numpy as np\n",
    "from sklearn.neighbors import NearestNeighbors\n",
    "from sklearn.cluster._dbscan_inner import dbscan_inner\n",
    "from sklearn.cluster import DBSCAN\n",
    "\n",
    "class DBSCANFastRescan:\n",
    "\n",
    "    def __init__(self, X, max_eps=1, n_jobs=None):\n",
    "        \"\"\"Class to perform DBSCAN clustering with fast rescanning.\n",
    "        Args:\n",
    "            X: Data to cluster\n",
    "            max_eps: Maximum epsilon to use during rescanning. Set to as low\n",
    "                as possible to save time.\n",
    "            n_jobs : int, default=None\n",
    "                The number of parallel jobs to run.\n",
    "        \"\"\"\n",
    "        self.X = X\n",
    "        self.max_eps = max_eps\n",
    "        self.n_jobs=n_jobs\n",
    "        self._reset_graph(max_eps)\n",
    "\n",
    "    def _reset_graph(self, max_eps):\n",
    "        \"\"\"\n",
    "        Set and store the radius_neighbors graph to use for clustering.\n",
    "        \"\"\"\n",
    "        neighbors_model = NearestNeighbors(radius=max_eps)\n",
    "        neighbors_model.fit(self.X)\n",
    "        distances, indexes = neighbors_model.radius_neighbors(self.X, radius=max_eps, return_distance=True)\n",
    "\n",
    "        lengths = [len(arr) for arr in indexes]\n",
    "        source_indexes = np.repeat(np.arange(len(indexes)), lengths)\n",
    "        target_indexes = np.concatenate(indexes)\n",
    "\n",
    "        self.distances = np.concatenate(distances)\n",
    "        self.edges = np.column_stack((source_indexes, target_indexes))\n",
    "\n",
    "    def cluster(self, eps = 1, min_pts= 1):\n",
    "        \"\"\"Perform clustering on given data with DBSCAN\n",
    "        Args:\n",
    "            eps: Epsilon to use for clustering\n",
    "            min_pts: Minimum number of points to form a cluster\n",
    "        \"\"\"\n",
    "        if(eps > self.max_eps):\n",
    "            self._reset_graph(eps)\n",
    "\n",
    "        filtered_edges = self.edges[self.distances <= eps]\n",
    "\n",
    "        n_neighbors = np.bincount(filtered_edges[:,0])\n",
    "        core_samples = np.asarray(n_neighbors >= min_pts, dtype=np.uint8)\n",
    "\n",
    "        idx = np.where(np.diff(filtered_edges[:,0]) != 0)[0] + 1\n",
    "        neighborhoods = np.array(np.split(filtered_edges[:,1], idx), dtype=\"object\")\n",
    "\n",
    "        labels = np.full(len(self.X), -1, dtype=np.intp)\n",
    "\n",
    "        dbscan_inner(core_samples, neighborhoods, labels)\n",
    "\n",
    "        return labels"
   ],
   "metadata": {
    "collapsed": false
   }
  },
  {
   "cell_type": "code",
   "execution_count": 31,
   "outputs": [],
   "source": [
    "class ScanExecutor:\n",
    "    def __init__(self, epsilon_range=(0, 1), n_samples=100):\n",
    "        self._n_samples = n_samples\n",
    "        self._epsilon_range = epsilon_range\n",
    "        self._epsilons = np.linspace(*epsilon_range, n_samples)\n",
    "        self._results = []\n",
    "\n",
    "    def scan(self, data, out):\n",
    "        scanner = self.init_clusterer(data, out)\n",
    "        results = []\n",
    "        for eps in tqdm(self._epsilons):\n",
    "            labels =scanner.cluster(eps=eps)\n",
    "            tdf = pd.DataFrame({\"c\": labels, \"id\": data.particle_id.detach().numpy()})\n",
    "            tmdf = tracking_metric_df(tdf)\n",
    "            results.append(tmdf[\"double_majority\"].sum())\n",
    "        self._results.append(np.array(results))\n",
    "\n",
    "    def init_clusterer(self, data, out):\n",
    "        return DBSCANFastRescan(out[\"H\"].detach().numpy())\n",
    "\n",
    "    def get_best_result_and_reset(self):\n",
    "        average = np.array(self._results).mean(axis=0)\n",
    "        best_result = average.max()\n",
    "        best_epsilon = self._epsilons[average.argmax()]"
   ],
   "metadata": {
    "collapsed": false
   }
  },
  {
   "cell_type": "code",
   "execution_count": 32,
   "outputs": [
    {
     "name": "stderr",
     "output_type": "stream",
     "text": [
      "100%|████████████████████████████████████████████████████████████████████████████████████████████████████████████████████████████████████████████████████████████████████████████████████████████████████████████| 100/100 [00:18<00:00,  5.44it/s]\n",
      "100%|████████████████████████████████████████████████████████████████████████████████████████████████████████████████████████████████████████████████████████████████████████████████████████████████████████████| 100/100 [00:20<00:00,  4.87it/s]\n",
      "100%|████████████████████████████████████████████████████████████████████████████████████████████████████████████████████████████████████████████████████████████████████████████████████████████████████████████| 100/100 [00:27<00:00,  3.69it/s]\n",
      "100%|████████████████████████████████████████████████████████████████████████████████████████████████████████████████████████████████████████████████████████████████████████████████████████████████████████████| 100/100 [00:17<00:00,  5.79it/s]\n",
      "100%|████████████████████████████████████████████████████████████████████████████████████████████████████████████████████████████████████████████████████████████████████████████████████████████████████████████| 100/100 [00:18<00:00,  5.30it/s]\n",
      "100%|████████████████████████████████████████████████████████████████████████████████████████████████████████████████████████████████████████████████████████████████████████████████████████████████████████████| 100/100 [00:22<00:00,  4.40it/s]\n",
      " 38%|█████████████████████████████████████████████████████████████████████████████▉                                                                                                                               | 38/100 [00:05<00:08,  7.59it/s]\n"
     ]
    },
    {
     "ename": "KeyboardInterrupt",
     "evalue": "",
     "output_type": "error",
     "traceback": [
      "\u001B[0;31m---------------------------------------------------------------------------\u001B[0m",
      "\u001B[0;31mKeyboardInterrupt\u001B[0m                         Traceback (most recent call last)",
      "Cell \u001B[0;32mIn[32], line 4\u001B[0m\n\u001B[1;32m      2\u001B[0m \u001B[38;5;28;01mfor\u001B[39;00m data \u001B[38;5;129;01min\u001B[39;00m dm\u001B[38;5;241m.\u001B[39mtrain_dataloader():\n\u001B[1;32m      3\u001B[0m     out \u001B[38;5;241m=\u001B[39m model(data)\n\u001B[0;32m----> 4\u001B[0m     \u001B[43mse\u001B[49m\u001B[38;5;241;43m.\u001B[39;49m\u001B[43mscan\u001B[49m\u001B[43m(\u001B[49m\u001B[43mdata\u001B[49m\u001B[43m,\u001B[49m\u001B[43m \u001B[49m\u001B[43mout\u001B[49m\u001B[43m)\u001B[49m\n",
      "Cell \u001B[0;32mIn[31], line 10\u001B[0m, in \u001B[0;36mScanExecutor.scan\u001B[0;34m(self, data, out)\u001B[0m\n\u001B[1;32m      8\u001B[0m results \u001B[38;5;241m=\u001B[39m []\n\u001B[1;32m      9\u001B[0m \u001B[38;5;28;01mfor\u001B[39;00m eps \u001B[38;5;129;01min\u001B[39;00m tqdm(\u001B[38;5;28mself\u001B[39m\u001B[38;5;241m.\u001B[39m_epsilons):\n\u001B[0;32m---> 10\u001B[0m     labels \u001B[38;5;241m=\u001B[39m\u001B[43mscanner\u001B[49m\u001B[38;5;241;43m.\u001B[39;49m\u001B[43mcluster\u001B[49m\u001B[43m(\u001B[49m\u001B[43meps\u001B[49m\u001B[38;5;241;43m=\u001B[39;49m\u001B[43meps\u001B[49m\u001B[43m)\u001B[49m\n\u001B[1;32m     11\u001B[0m     tdf \u001B[38;5;241m=\u001B[39m pd\u001B[38;5;241m.\u001B[39mDataFrame({\u001B[38;5;124m\"\u001B[39m\u001B[38;5;124mc\u001B[39m\u001B[38;5;124m\"\u001B[39m: labels, \u001B[38;5;124m\"\u001B[39m\u001B[38;5;124mid\u001B[39m\u001B[38;5;124m\"\u001B[39m: data\u001B[38;5;241m.\u001B[39mparticle_id\u001B[38;5;241m.\u001B[39mdetach()\u001B[38;5;241m.\u001B[39mnumpy()})\n\u001B[1;32m     12\u001B[0m     tmdf \u001B[38;5;241m=\u001B[39m tracking_metric_df(tdf)\n",
      "Cell \u001B[0;32mIn[19], line 56\u001B[0m, in \u001B[0;36mDBSCANFastRescan.cluster\u001B[0;34m(self, eps, min_pts)\u001B[0m\n\u001B[1;32m     52\u001B[0m neighborhoods \u001B[38;5;241m=\u001B[39m np\u001B[38;5;241m.\u001B[39marray(np\u001B[38;5;241m.\u001B[39msplit(filtered_edges[:,\u001B[38;5;241m1\u001B[39m], idx), dtype\u001B[38;5;241m=\u001B[39m\u001B[38;5;124m\"\u001B[39m\u001B[38;5;124mobject\u001B[39m\u001B[38;5;124m\"\u001B[39m)\n\u001B[1;32m     54\u001B[0m labels \u001B[38;5;241m=\u001B[39m np\u001B[38;5;241m.\u001B[39mfull(\u001B[38;5;28mlen\u001B[39m(\u001B[38;5;28mself\u001B[39m\u001B[38;5;241m.\u001B[39mX), \u001B[38;5;241m-\u001B[39m\u001B[38;5;241m1\u001B[39m, dtype\u001B[38;5;241m=\u001B[39mnp\u001B[38;5;241m.\u001B[39mintp)\n\u001B[0;32m---> 56\u001B[0m \u001B[43mdbscan_inner\u001B[49m\u001B[43m(\u001B[49m\u001B[43mcore_samples\u001B[49m\u001B[43m,\u001B[49m\u001B[43m \u001B[49m\u001B[43mneighborhoods\u001B[49m\u001B[43m,\u001B[49m\u001B[43m \u001B[49m\u001B[43mlabels\u001B[49m\u001B[43m)\u001B[49m\n\u001B[1;32m     58\u001B[0m \u001B[38;5;28;01mreturn\u001B[39;00m labels\n",
      "\u001B[0;31mKeyboardInterrupt\u001B[0m: "
     ]
    }
   ],
   "source": [
    "se = ScanExecutor(np.linspace(0.01, 1., 100))\n",
    "for data in dm.val_dataloader():\n",
    "    out = model(data)\n",
    "    se.scan(data, out)"
   ],
   "metadata": {
    "collapsed": false
   }
  },
  {
   "cell_type": "code",
   "execution_count": 33,
   "outputs": [
    {
     "data": {
      "text/plain": "<Figure size 640x480 with 1 Axes>",
      "image/png": "[encoded data removed]"
     },
     "metadata": {},
     "output_type": "display_data"
    }
   ],
   "source": [
    "for rs in se._results:\n",
    "    plt.plot(rs)"
   ],
   "metadata": {
    "collapsed": false
   }
  },
  {
   "cell_type": "markdown",
   "source": [
    "## Testing radius graph instead of dbscan"
   ],
   "metadata": {
    "collapsed": false
   }
  },
  {
   "cell_type": "code",
   "execution_count": 79,
   "outputs": [],
   "source": [
    "def torch_to_cudf(tensor_dict):\n",
    "    return cudf.DataFrame(\n",
    "        {\n",
    "            k: cudf.from_dlpack(torch.utils.dlpack.to_dlpack(v))\n",
    "            for k, v in tensor_dict.items()\n",
    "        }\n",
    "    )"
   ],
   "metadata": {
    "collapsed": false
   }
  },
  {
   "cell_type": "code",
   "execution_count": 80,
   "outputs": [],
   "source": [
    "def collect_cluster_labels_gpu(h, radius=1):\n",
    "    \"\"\"Implementation with radius graph\"\"\"\n",
    "    t = Timer()\n",
    "    times = []\n",
    "    h = h.detach()\n",
    "    times.append(t())\n",
    "    edge_index = radius_graph(h, r=radius)\n",
    "    times.append(t())\n",
    "    edge_df = torch_to_cudf({\"source\": edge_index[0], \"destination\": edge_index[1]})\n",
    "    times.append(t())\n",
    "    cug = cugraph.Graph()\n",
    "    times.append(t())\n",
    "    cug.from_cudf_edgelist(edge_df)\n",
    "    times.append(t())\n",
    "    cc_df = cugraph.connected_components(cug)\n",
    "    times.append(t())\n",
    "    return cc_df[\"labels\"], times"
   ],
   "metadata": {
    "collapsed": false
   }
  },
  {
   "cell_type": "code",
   "execution_count": 81,
   "outputs": [
    {
     "data": {
      "text/plain": "[7.193395867943764e-05,\n 1.0180357589852065,\n 0.03350605897139758,\n 8.085044100880623e-06,\n 0.10735613503493369,\n 0.04444553900975734]"
     },
     "execution_count": 81,
     "metadata": {},
     "output_type": "execute_result"
    }
   ],
   "source": [
    "collect_cluster_labels_gpu(h, radius=1)[1]"
   ],
   "metadata": {
    "collapsed": false
   }
  },
  {
   "cell_type": "code",
   "execution_count": 82,
   "outputs": [],
   "source": [
    "from gnn_tracking.postprocessing.dbscanscanner import dbscan"
   ],
   "metadata": {
    "collapsed": false
   }
  },
  {
   "cell_type": "code",
   "execution_count": 83,
   "outputs": [
    {
     "data": {
      "text/plain": "0.8764291900442913"
     },
     "execution_count": 83,
     "metadata": {},
     "output_type": "execute_result"
    }
   ],
   "source": [
    "t = Timer()\n",
    "labels = torch.Tensor(dbscan(h, eps=0.3)).to(\"cuda\")\n",
    "t()"
   ],
   "metadata": {
    "collapsed": false
   }
  },
  {
   "cell_type": "code",
   "execution_count": 84,
   "outputs": [
    {
     "data": {
      "text/plain": "3913"
     },
     "execution_count": 84,
     "metadata": {},
     "output_type": "execute_result"
    }
   ],
   "source": [
    "len(labels.unique())"
   ],
   "metadata": {
    "collapsed": false
   }
  },
  {
   "cell_type": "code",
   "execution_count": 85,
   "outputs": [
    {
     "data": {
      "text/plain": "Data(x=[59357, 14], edge_index=[2, 203759], y=[0], layer=[59357], particle_id=[59357], pt=[59357], reconstructable=[59357], sector=[59357])"
     },
     "execution_count": 85,
     "metadata": {},
     "output_type": "execute_result"
    }
   ],
   "source": [
    "dm.datasets[\"val\"][0]"
   ],
   "metadata": {
    "collapsed": false
   }
  },
  {
   "cell_type": "code",
   "execution_count": 86,
   "outputs": [],
   "source": [
    "cdf = torch_to_cudf({\"c\": labels, \"id\": data.particle_id})\n",
    "df = pd.DataFrame({\"c\": labels.cpu().numpy(), \"id\": data.particle_id.cpu().numpy()})"
   ],
   "metadata": {
    "collapsed": false
   }
  },
  {
   "cell_type": "code",
   "execution_count": 87,
   "outputs": [
    {
     "data": {
      "text/plain": "64253"
     },
     "execution_count": 87,
     "metadata": {},
     "output_type": "execute_result"
    }
   ],
   "source": [
    "len(df)"
   ],
   "metadata": {
    "collapsed": false
   }
  },
  {
   "cell_type": "markdown",
   "source": [
    "## Testing track metrics on the GPU"
   ],
   "metadata": {
    "collapsed": false
   }
  },
  {
   "cell_type": "code",
   "execution_count": 88,
   "outputs": [],
   "source": [
    "from collections import Counter\n",
    "import pandas as pd\n",
    "import numpy as np\n",
    "\n",
    "\n",
    "def tracking_metric_df_cuda(h_df: pd.DataFrame, predicted_count_thld=3) -> pd.DataFrame:\n",
    "    \"\"\"Label clusters as double majority/perfect/LHC.\n",
    "\n",
    "    Args:\n",
    "        h_df: Hit information dataframe\n",
    "        predicted_count_thld: Number of hits a cluster must have to be considered a\n",
    "            valid cluster\n",
    "\n",
    "    Returns:\n",
    "        cluster dataframe with columns such as \"double_majority\" etc.\n",
    "    \"\"\"\n",
    "    # For each cluster, we determine the true PID that is associated with the most\n",
    "    # hits in that cluster.\n",
    "    # Here we make use of the fact that `df.value_counts` sorts by the count.\n",
    "    # That means that if we group by the cluster and take the first line\n",
    "    # for each of the counts, we have the most popular PID for each cluster.\n",
    "    # The resulting dataframe now has both the most popular PID (\"id\" column) and the\n",
    "    # number of times it appears (\"0\" column).\n",
    "    # This strategy is a significantly (!) faster version than doing\n",
    "    # c_id.groupby(\"c\").agg(lambda x: x.mode()[0]) etc.\n",
    "    pid_counts = h_df[[\"c\", \"id\"]].value_counts().reset_index()\n",
    "\n",
    "    # Compatibility issue with pandas 2.0 (2.0 uses 'count')\n",
    "    _count_key = 0 if 0 in pid_counts.columns else \"count\"\n",
    "\n",
    "    pid_counts_grouped = pid_counts.groupby(\"c\")\n",
    "    c_df = pid_counts_grouped.first().rename(\n",
    "        {\"id\": \"maj_pid\", _count_key: \"maj_hits\"}, axis=1\n",
    "    )\n",
    "    # Number of hits per cluster\n",
    "    c_df[\"cluster_size\"] = pid_counts_grouped[_count_key].sum()\n",
    "    # Assume that negative cluster labels mean that the cluster was labeled as\n",
    "    # invalid\n",
    "    predicted_counts = h_df[\"c\"].value_counts()\n",
    "    unique_predicted = predicted_counts.index\n",
    "    # Cluster mask: all clusters that are not labeled as noise and have minimum number\n",
    "    # of hits.\n",
    "    c_df[\"valid_cluster\"] = (unique_predicted >= 0) & (\n",
    "        predicted_counts >= predicted_count_thld\n",
    "    )\n",
    "\n",
    "    # Properties associated to PID. This is pretty trivial, but since everything is\n",
    "    # passed by hit, rather than by PID, we need to get rid of \"duplicates\"\n",
    "    particle_properties = list(\n",
    "        {\"pt\", \"reconstructable\", \"eta\"}.intersection(h_df.columns)\n",
    "    )\n",
    "    # Could to .first() for pt/reconstructable, but we want to average over eta\n",
    "    pid_to_props = (\n",
    "        h_df[[\"id\", *particle_properties]].groupby(\"id\")[particle_properties].mean()\n",
    "    )\n",
    "    c_df = c_df.merge(\n",
    "        pid_to_props, left_on=\"maj_pid\", right_index=True\n",
    "    ).rename(columns={key: f\"maj_{key}\" for key in particle_properties})\n",
    "\n",
    "    # For each PID: Number of hits (in any cluster)\n",
    "    pid_to_count = h_df[\"id\"].value_counts()\n",
    "    # For each cluster: Take most popular PID of that cluster and get number of hits of\n",
    "    # that PID (in any cluster)\n",
    "    c_df[\"maj_pid_hits\"] = c_df[\"maj_pid\"].map(pid_to_count)\n",
    "\n",
    "    # For each cluster: Fraction of hits that have the most popular PID\n",
    "    c_df[\"maj_frac\"] = (c_df[\"maj_hits\"] / c_df[\"cluster_size\"]).fillna(0)\n",
    "    # For each cluster: Take the most popular PID of that cluster. What fraction of\n",
    "    # the corresponding hits is in this cluster?\n",
    "    c_df[\"maj_pid_frac\"] = (c_df[\"maj_hits\"] / c_df[\"maj_pid_hits\"]).fillna(0)\n",
    "\n",
    "    c_df[\"perfect_match\"] = (\n",
    "        (c_df[\"maj_pid_hits\"] == c_df[\"maj_hits\"])\n",
    "        & (c_df[\"maj_frac\"] > 0.99)\n",
    "        & c_df[\"valid_cluster\"]\n",
    "    )\n",
    "    c_df[\"double_majority\"] = (\n",
    "        (c_df[\"maj_pid_frac\"] > 0.5) & (c_df[\"maj_frac\"] > 0.5) & c_df[\"valid_cluster\"]\n",
    "    )\n",
    "    c_df[\"lhc_match\"] = (c_df[\"maj_frac\"] > 0.75) & c_df[\"valid_cluster\"]\n",
    "    return c_df"
   ],
   "metadata": {
    "collapsed": false
   }
  },
  {
   "cell_type": "code",
   "execution_count": 91,
   "outputs": [
    {
     "data": {
      "text/plain": "(0.02284119196701795, 139)"
     },
     "execution_count": 91,
     "metadata": {},
     "output_type": "execute_result"
    }
   ],
   "source": [
    "t = Timer()\n",
    "tmdf = tracking_metric_df_cuda(cdf)\n",
    "t(), tmdf[\"double_majority\"].sum()"
   ],
   "metadata": {
    "collapsed": false
   }
  },
  {
   "cell_type": "code",
   "execution_count": 92,
   "outputs": [
    {
     "data": {
      "text/plain": "(0.026246000081300735, 225)"
     },
     "execution_count": 92,
     "metadata": {},
     "output_type": "execute_result"
    }
   ],
   "source": [
    "t = Timer()\n",
    "tmdf = tracking_metric_df(df)\n",
    "t(), tmdf[\"double_majority\"].sum()"
   ],
   "metadata": {
    "collapsed": false
   }
  },
  {
   "cell_type": "markdown",
   "source": [
    "## Testing clustering on GPU"
   ],
   "metadata": {
    "collapsed": false
   }
  },
  {
   "cell_type": "code",
   "execution_count": 67,
   "outputs": [],
   "source": [
    "def tensor_to_cudf(t):\n",
    "    return torch_to_cudf({\"i\": t[:, i].squeeze() for i in range(t.shape[1])})"
   ],
   "metadata": {
    "collapsed": false
   }
  },
  {
   "cell_type": "code",
   "execution_count": 68,
   "outputs": [],
   "source": [
    "cuh = cudf.from_dlpack(torch.utils.dlpack.to_dlpack(h.T)).T"
   ],
   "metadata": {
    "collapsed": false
   }
  },
  {
   "cell_type": "code",
   "execution_count": 69,
   "outputs": [],
   "source": [
    "import cuml\n",
    "from cuml.cluster import DBSCAN"
   ],
   "metadata": {
    "collapsed": false
   }
  },
  {
   "cell_type": "code",
   "execution_count": 70,
   "outputs": [],
   "source": [
    "cpid= cudf.from_dlpack(torch.utils.dlpack.to_dlpack(data.particle_id))"
   ],
   "metadata": {
    "collapsed": false
   }
  },
  {
   "cell_type": "code",
   "execution_count": 71,
   "outputs": [],
   "source": [
    "def get_dm(radius=1, ):\n",
    "    dbscan = DBSCAN(eps=radius, min_samples=1)\n",
    "    r = dbscan.fit(cuh, out_dtype='int64')\n",
    "    labels = r.labels_\n",
    "    tdf = cudf.DataFrame({\"c\": labels, \"id\": cpid})\n",
    "    tmdf = tracking_metric_df_cuda(tdf)\n",
    "    return tmdf[\"double_majority\"].sum()\n"
   ],
   "metadata": {
    "collapsed": false
   }
  },
  {
   "cell_type": "code",
   "execution_count": 72,
   "outputs": [
    {
     "data": {
      "text/plain": "8.731808774988167"
     },
     "execution_count": 72,
     "metadata": {},
     "output_type": "execute_result"
    }
   ],
   "source": [
    "t = Timer()\n",
    "results2 = []\n",
    "eps = np.linspace(0.01, 1., 100)\n",
    "for r in eps:\n",
    "    results2.append(get_dm(r))\n",
    "t()"
   ],
   "metadata": {
    "collapsed": false
   }
  },
  {
   "cell_type": "code",
   "execution_count": 73,
   "outputs": [
    {
     "data": {
      "text/plain": "[<matplotlib.lines.Line2D at 0x14dc01bf9090>]"
     },
     "execution_count": 73,
     "metadata": {},
     "output_type": "execute_result"
    },
    {
     "data": {
      "text/plain": "<Figure size 640x480 with 1 Axes>",
      "image/png": "[encoded data removed]"
     },
     "metadata": {},
     "output_type": "display_data"
    }
   ],
   "source": [
    "plt.plot(eps, results)\n",
    "plt.plot(eps, results2)"
   ],
   "metadata": {
    "collapsed": false
   }
  },
  {
   "cell_type": "code",
   "execution_count": null,
   "outputs": [],
   "source": [],
   "metadata": {
    "collapsed": false
   }
  }
 ],
 "metadata": {
  "kernelspec": {
   "display_name": "Python 3",
   "language": "python",
   "name": "python3"
  },
  "language_info": {
   "codemirror_mode": {
    "name": "ipython",
    "version": 2
   },
   "file_extension": ".py",
   "mimetype": "text/x-python",
   "name": "python",
   "nbconvert_exporter": "python",
   "pygments_lexer": "ipython2",
   "version": "2.7.6"
  }
 },
 "nbformat": 4,
 "nbformat_minor": 0
}
