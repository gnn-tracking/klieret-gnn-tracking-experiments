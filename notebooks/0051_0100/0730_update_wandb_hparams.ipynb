{
 "cells": [
  {
   "cell_type": "code",
   "execution_count": 1,
   "metadata": {},
   "outputs": [],
   "source": [
    "import wandb\n",
    "import yaml"
   ]
  },
  {
   "cell_type": "code",
   "execution_count": 2,
   "metadata": {},
   "outputs": [],
   "source": [
    "api = wandb.Api()"
   ]
  },
  {
   "cell_type": "code",
   "execution_count": 25,
   "metadata": {},
   "outputs": [],
   "source": [
    "run = api.run(\"gnn_tracking/gnn_tracking_gc/illegal-hasty-alligator\")"
   ]
  },
  {
   "cell_type": "code",
   "execution_count": 26,
   "metadata": {},
   "outputs": [],
   "source": [
    "config_str = \"\"\"\n",
    "model:\n",
    "  class_path: gnn_tracking.models.graph_construction.GraphConstructionFCNN\n",
    "  init_args:\n",
    "    in_dim: 14\n",
    "    hidden_dim: 512\n",
    "    out_dim: 12\n",
    "    depth: 5\n",
    "    alpha: 0.5\n",
    "preproc: null\n",
    "loss_fct:\n",
    "  class_path: gnn_tracking.metrics.losses.metric_learning.GraphConstructionHingeEmbeddingLoss\n",
    "  init_args:\n",
    "    lw_repulsive: 0.005\n",
    "    r_emb: 1.0\n",
    "    max_num_neighbors: 256\n",
    "    pt_thld: 0.9\n",
    "    max_eta: 4.0\n",
    "    p_attr: 2.0\n",
    "    p_rep: 2.0\n",
    "gc_scanner:\n",
    "  class_path: gnn_tracking.graph_construction.k_scanner.GraphConstructionKNNScanner\n",
    "  init_args:\n",
    "    ks:\n",
    "    - 1\n",
    "    - 2\n",
    "    - 3\n",
    "    - 4\n",
    "    - 5\n",
    "    - 6\n",
    "    - 7\n",
    "    - 8\n",
    "    - 9\n",
    "    - 10\n",
    "    targets:\n",
    "    - 0.8\n",
    "    - 0.85\n",
    "    - 0.88\n",
    "    - 0.9\n",
    "    - 0.93\n",
    "    - 0.95\n",
    "    - 0.97\n",
    "    - 0.99\n",
    "    max_radius: 1.0\n",
    "    pt_thld: 0.9\n",
    "    max_eta: 4.0\n",
    "    subsample_pids: null\n",
    "    max_edges: 5000000\n",
    "\n",
    "\"\"\""
   ]
  },
  {
   "cell_type": "code",
   "execution_count": 27,
   "metadata": {},
   "outputs": [],
   "source": [
    "config = yaml.safe_load(config_str)"
   ]
  },
  {
   "cell_type": "code",
   "execution_count": 28,
   "metadata": {},
   "outputs": [
    {
     "data": {
      "text/plain": [
       "{'model': {'class_path': 'gnn_tracking.models.graph_construction.GraphConstructionFCNN',\n",
       "  'init_args': {'in_dim': 14,\n",
       "   'hidden_dim': 512,\n",
       "   'out_dim': 12,\n",
       "   'depth': 5,\n",
       "   'alpha': 0.5}},\n",
       " 'preproc': None,\n",
       " 'loss_fct': {'class_path': 'gnn_tracking.metrics.losses.metric_learning.GraphConstructionHingeEmbeddingLoss',\n",
       "  'init_args': {'lw_repulsive': 0.005,\n",
       "   'r_emb': 1.0,\n",
       "   'max_num_neighbors': 256,\n",
       "   'pt_thld': 0.9,\n",
       "   'max_eta': 4.0,\n",
       "   'p_attr': 2.0,\n",
       "   'p_rep': 2.0}},\n",
       " 'gc_scanner': {'class_path': 'gnn_tracking.graph_construction.k_scanner.GraphConstructionKNNScanner',\n",
       "  'init_args': {'ks': [1, 2, 3, 4, 5, 6, 7, 8, 9, 10],\n",
       "   'targets': [0.8, 0.85, 0.88, 0.9, 0.93, 0.95, 0.97, 0.99],\n",
       "   'max_radius': 1.0,\n",
       "   'pt_thld': 0.9,\n",
       "   'max_eta': 4.0,\n",
       "   'subsample_pids': None,\n",
       "   'max_edges': 5000000}}}"
      ]
     },
     "execution_count": 28,
     "metadata": {},
     "output_type": "execute_result"
    }
   ],
   "source": [
    "config"
   ]
  },
  {
   "cell_type": "code",
   "execution_count": 29,
   "metadata": {},
   "outputs": [],
   "source": [
    "run.config = config"
   ]
  },
  {
   "cell_type": "code",
   "execution_count": 30,
   "metadata": {},
   "outputs": [
    {
     "data": {
      "text/plain": [
       "{'model': {'class_path': 'gnn_tracking.models.graph_construction.GraphConstructionFCNN',\n",
       "  'init_args': {'in_dim': 14,\n",
       "   'hidden_dim': 512,\n",
       "   'out_dim': 12,\n",
       "   'depth': 5,\n",
       "   'alpha': 0.5}},\n",
       " 'preproc': None,\n",
       " 'loss_fct': {'class_path': 'gnn_tracking.metrics.losses.metric_learning.GraphConstructionHingeEmbeddingLoss',\n",
       "  'init_args': {'lw_repulsive': 0.005,\n",
       "   'r_emb': 1.0,\n",
       "   'max_num_neighbors': 256,\n",
       "   'pt_thld': 0.9,\n",
       "   'max_eta': 4.0,\n",
       "   'p_attr': 2.0,\n",
       "   'p_rep': 2.0}},\n",
       " 'gc_scanner': {'class_path': 'gnn_tracking.graph_construction.k_scanner.GraphConstructionKNNScanner',\n",
       "  'init_args': {'ks': [1, 2, 3, 4, 5, 6, 7, 8, 9, 10],\n",
       "   'targets': [0.8, 0.85, 0.88, 0.9, 0.93, 0.95, 0.97, 0.99],\n",
       "   'max_radius': 1.0,\n",
       "   'pt_thld': 0.9,\n",
       "   'max_eta': 4.0,\n",
       "   'subsample_pids': None,\n",
       "   'max_edges': 5000000}}}"
      ]
     },
     "execution_count": 30,
     "metadata": {},
     "output_type": "execute_result"
    }
   ],
   "source": [
    "run.config"
   ]
  },
  {
   "cell_type": "code",
   "execution_count": 19,
   "metadata": {},
   "outputs": [],
   "source": [
    "run.update()"
   ]
  },
  {
   "cell_type": "code",
   "execution_count": null,
   "metadata": {},
   "outputs": [],
   "source": []
  }
 ],
 "metadata": {
  "kernelspec": {
   "display_name": "Python 3",
   "language": "python",
   "name": "python3"
  },
  "language_info": {
   "codemirror_mode": {
    "name": "ipython",
    "version": 3
   },
   "file_extension": ".py",
   "mimetype": "text/x-python",
   "name": "python",
   "nbconvert_exporter": "python",
   "pygments_lexer": "ipython3",
   "version": "3.11.3"
  }
 },
 "nbformat": 4,
 "nbformat_minor": 2
}
