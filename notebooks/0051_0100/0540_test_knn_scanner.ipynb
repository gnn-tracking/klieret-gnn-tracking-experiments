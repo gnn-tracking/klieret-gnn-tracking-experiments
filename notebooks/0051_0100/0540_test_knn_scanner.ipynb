{
 "cells": [
  {
   "cell_type": "code",
   "execution_count": 1,
   "outputs": [
    {
     "name": "stdout",
     "output_type": "stream",
     "text": [
      "hw\n"
     ]
    }
   ],
   "source": [
    "print(\"hw\")"
   ],
   "metadata": {
    "collapsed": false
   }
  },
  {
   "cell_type": "code",
   "execution_count": 3,
   "metadata": {
    "collapsed": true
   },
   "outputs": [
    {
     "name": "stdout",
     "output_type": "stream",
     "text": [
      "The autoreload extension is already loaded. To reload it, use:\n",
      "  %reload_ext autoreload\n"
     ]
    }
   ],
   "source": [
    "%load_ext autoreload\n",
    "%autoreload 2\n",
    "\n",
    "from gnn_tracking.training.ml import MLModule\n",
    "from pathlib import Path\n",
    "from gnn_tracking.graph_construction.k_scanner import GraphConstructionKNNScanner\n",
    "\n"
   ]
  },
  {
   "cell_type": "code",
   "execution_count": 4,
   "outputs": [
    {
     "name": "stderr",
     "output_type": "stream",
     "text": [
      "\u001B[32m[15:53:18] INFO: DataLoader will load 900 graphs (out of 900 available).\u001B[0m\n",
      "\u001B[36m[15:53:18] DEBUG: First graph is /scratch/gpfs/IOJALVO/gnn-tracking/object_condensation/point_clouds_v6/part_1/data21000_s0.pt, last graph is /scratch/gpfs/IOJALVO/gnn-tracking/object_condensation/point_clouds_v6/part_1/data21999_s0.pt\u001B[0m\n",
      "\u001B[32m[15:53:18] INFO: DataLoader will load 5 graphs (out of 1000 available).\u001B[0m\n",
      "\u001B[36m[15:53:18] DEBUG: First graph is /scratch/gpfs/IOJALVO/gnn-tracking/object_condensation/point_clouds_v6/part_9/data29000_s0.pt, last graph is /scratch/gpfs/IOJALVO/gnn-tracking/object_condensation/point_clouds_v6/part_9/data29004_s0.pt\u001B[0m\n",
      "\u001B[36m[15:53:18] DEBUG: Getting class GraphConstructionFCNN from module gnn_tracking.models.graph_construction\u001B[0m\n",
      "\u001B[36m[15:53:18] DEBUG: Getting class GraphConstructionHingeEmbeddingLoss from module gnn_tracking.metrics.losses\u001B[0m\n",
      "\u001B[36m[15:53:18] DEBUG: Getting class GraphConstructionKNNScanner from module gnn_tracking.graph_construction.k_scanner\u001B[0m\n"
     ]
    }
   ],
   "source": [
    "model_exchange_path = Path(\n",
    "    \"/scratch/gpfs/IOJALVO/gnn-tracking/object_condensation/model_exchange\"\n",
    ")\n",
    "from gnn_tracking.utils.loading import TrackingDataModule\n",
    "\n",
    "dm = TrackingDataModule(\n",
    "    train=dict(\n",
    "        dirs=[\n",
    "            \"/scratch/gpfs/IOJALVO/gnn-tracking/object_condensation/point_clouds_v6/part_1/\"\n",
    "        ],\n",
    "        # If you run into memory issues, reduce this\n",
    "    ),\n",
    "    val=dict(\n",
    "        dirs=[\n",
    "            \"/scratch/gpfs/IOJALVO/gnn-tracking/object_condensation/point_clouds_v6/part_9/\"\n",
    "        ],\n",
    "        stop=5\n",
    "    ),\n",
    ")\n",
    "dm.setup(stage=\"fit\")\n",
    "lmodel = MLModule.load_from_checkpoint(model_exchange_path / \"gc\" / \"eggplant-quail-of-tempest.ckpt\")"
   ],
   "metadata": {
    "collapsed": false
   }
  },
  {
   "cell_type": "code",
   "execution_count": 9,
   "outputs": [],
   "source": [
    "import math\n",
    "\n",
    "lmodel.gc_scanner = GraphConstructionKNNScanner(max_eta=0.3)"
   ],
   "metadata": {
    "collapsed": false
   }
  },
  {
   "cell_type": "code",
   "execution_count": 10,
   "outputs": [
    {
     "name": "stderr",
     "output_type": "stream",
     "text": [
      "/scratch/gpfs/kl5675/micromamba/envs/gnn/lib/python3.10/site-packages/lightning_fabric/plugins/environments/slurm.py:165: PossibleUserWarning: The `srun` command is available on your system but is not used. HINT: If your intention is to run Lightning on SLURM, prepend your python command with `srun` like so: srun python /scratch/gpfs/kl5675/micromamba/envs/gnn/lib/python3 ...\n",
      "  rank_zero_warn(\n",
      "GPU available: True (cuda), used: True\n",
      "TPU available: False, using: 0 TPU cores\n",
      "IPU available: False, using: 0 IPUs\n",
      "HPU available: False, using: 0 HPUs\n",
      "You are using a CUDA device ('NVIDIA A100-SXM4-80GB') that has Tensor Cores. To properly utilize them, you should set `torch.set_float32_matmul_precision('medium' | 'high')` which will trade-off precision for performance. For more details, read https://pytorch.org/docs/stable/generated/torch.set_float32_matmul_precision.html#torch.set_float32_matmul_precision\n",
      "\u001B[32m[15:55:15] INFO: DataLoader will load 5 graphs (out of 1000 available).\u001B[0m\n",
      "\u001B[36m[15:55:15] DEBUG: First graph is /scratch/gpfs/IOJALVO/gnn-tracking/object_condensation/point_clouds_v6/part_9/data29000_s0.pt, last graph is /scratch/gpfs/IOJALVO/gnn-tracking/object_condensation/point_clouds_v6/part_9/data29004_s0.pt\u001B[0m\n",
      "LOCAL_RANK: 0 - CUDA_VISIBLE_DEVICES: [0]\n",
      "/scratch/gpfs/kl5675/micromamba/envs/gnn/lib/python3.10/site-packages/pytorch_lightning/trainer/connectors/data_connector.py:432: PossibleUserWarning: The dataloader, val_dataloader, does not have many workers which may be a bottleneck. Consider increasing the value of the `num_workers` argument` (try 48 which is the number of cpus on this machine) in the `DataLoader` init to improve performance.\n",
      "  rank_zero_warn(\n"
     ]
    },
    {
     "data": {
      "text/plain": "Validation: 0it [00:00, ?it/s]",
      "application/vnd.jupyter.widget-view+json": {
       "version_major": 2,
       "version_minor": 0,
       "model_id": "ff812e0088924ac58c6be9bcdba9a6e7"
      }
     },
     "metadata": {},
     "output_type": "display_data"
    },
    {
     "name": "stderr",
     "output_type": "stream",
     "text": [
      "NaN or Inf found in input tensor.\n",
      "NaN or Inf found in input tensor.\n",
      "NaN or Inf found in input tensor.\n",
      "NaN or Inf found in input tensor.\n",
      "NaN or Inf found in input tensor.\n",
      "NaN or Inf found in input tensor.\n"
     ]
    },
    {
     "data": {
      "text/plain": "[{'attractive': 0.08885906636714935,\n  'repulsive': 12.756551742553711,\n  'attractive_weighted': 0.08885906636714935,\n  'repulsive_weighted': 0.0765393078327179,\n  'total': 0.16539837419986725,\n  'n_edges_frac_segment50_80': 151643.71875,\n  'k_at_segment50_80': 2.7171266078948975,\n  'frac75_at_segment50_80': 0.5988675951957703,\n  'frac100_at_segment50_80': 0.4701453447341919,\n  'efficiency_at_segment50_80': 0.35198989510536194,\n  'purity_at_segment50_80': 0.3349156379699707,\n  'n_edges_frac_segment50_85': 191266.6875,\n  'k_at_segment50_85': 3.436352491378784,\n  'frac75_at_segment50_85': 0.6881154179573059,\n  'frac100_at_segment50_85': 0.5715509653091431,\n  'efficiency_at_segment50_85': 0.4198283851146698,\n  'purity_at_segment50_85': 0.31197303533554077,\n  'n_edges_frac_segment50_88': 228641.28125,\n  'k_at_segment50_88': 4.116531848907471,\n  'frac75_at_segment50_88': 0.7482569217681885,\n  'frac100_at_segment50_88': 0.6470001935958862,\n  'efficiency_at_segment50_88': 0.4739142656326294,\n  'purity_at_segment50_88': 0.29036399722099304,\n  'n_edges_frac_segment50_90': 270128.78125,\n  'k_at_segment50_90': 4.873438835144043,\n  'frac75_at_segment50_90': 0.7864760160446167,\n  'frac100_at_segment50_90': 0.7088853716850281,\n  'efficiency_at_segment50_90': 0.5283380150794983,\n  'purity_at_segment50_90': 0.2702338695526123,\n  'n_edges_frac_segment50_93': 327003.03125,\n  'k_at_segment50_93': 5.914182186126709,\n  'frac75_at_segment50_93': 0.8341804146766663,\n  'frac100_at_segment50_93': 0.7676278948783875,\n  'efficiency_at_segment50_93': 0.5880157351493835,\n  'purity_at_segment50_93': 0.24486638605594635,\n  'n_edges_frac_segment50_95': 364656.46875,\n  'k_at_segment50_95': 6.605036735534668,\n  'frac75_at_segment50_95': 0.8561485409736633,\n  'frac100_at_segment50_95': 0.7895234823226929,\n  'efficiency_at_segment50_95': 0.6217458248138428,\n  'purity_at_segment50_95': 0.23042339086532593,\n  'n_edges_frac_segment50_97': 462295.1875,\n  'k_at_segment50_97': 8.404598236083984,\n  'frac75_at_segment50_97': 0.8907574415206909,\n  'frac100_at_segment50_97': 0.8455734848976135,\n  'efficiency_at_segment50_97': 0.6952105164527893,\n  'purity_at_segment50_97': 0.19972503185272217,\n  'n_edges_frac_segment50_99': nan,\n  'k_at_segment50_99': nan,\n  'frac75_at_segment50_99': nan,\n  'frac100_at_segment50_99': nan,\n  'efficiency_at_segment50_99': nan,\n  'purity_at_segment50_99': nan,\n  'max_frac_segment50': 0.9758542728714066,\n  'n_edges_max_frac_segment50': 494430.4,\n  'k_at_max_frac_segment50': 9.0,\n  'frac75_at_max_frac_segment50': 0.9052097491852636,\n  'frac100_at_max_frac_segment50': 0.8602652745247104,\n  'efficiency_at_max_frac_segment50': 0.7142290472984314,\n  'purity_at_max_frac_segment50': 0.19099096059799195}]"
     },
     "execution_count": 10,
     "metadata": {},
     "output_type": "execute_result"
    }
   ],
   "source": [
    "from pytorch_lightning import Trainer\n",
    "\n",
    "trainer = Trainer(\n",
    "    accelerator=\"cuda\",\n",
    ")\n",
    "trainer.validate(model=lmodel, datamodule=dm, verbose=False)"
   ],
   "metadata": {
    "collapsed": false
   }
  },
  {
   "cell_type": "code",
   "execution_count": 4,
   "outputs": [],
   "source": [],
   "metadata": {
    "collapsed": false
   }
  }
 ],
 "metadata": {
  "kernelspec": {
   "display_name": "Python 3",
   "language": "python",
   "name": "python3"
  },
  "language_info": {
   "codemirror_mode": {
    "name": "ipython",
    "version": 2
   },
   "file_extension": ".py",
   "mimetype": "text/x-python",
   "name": "python",
   "nbconvert_exporter": "python",
   "pygments_lexer": "ipython2",
   "version": "2.7.6"
  }
 },
 "nbformat": 4,
 "nbformat_minor": 0
}
