{
 "cells": [
  {
   "cell_type": "markdown",
   "source": [
    "# EC thld writeout\n",
    "\n",
    "Apply EC cut to geometric graphs and write out the resulting graphs."
   ],
   "metadata": {
    "collapsed": false
   }
  },
  {
   "cell_type": "code",
   "execution_count": 1,
   "outputs": [
    {
     "name": "stderr",
     "output_type": "stream",
     "text": [
      "/scratch/gpfs/kl5675/micromamba/envs/gnn/lib/python3.10/site-packages/torch/cuda/__init__.py:546: UserWarning: Can't initialize NVML\n",
      "  warnings.warn(\"Can't initialize NVML\")\n"
     ]
    }
   ],
   "source": [
    "from gnn_tracking.graph_construction.data_transformer import DataTransformer, ECCut\n",
    "from gnn_tracking.models.edge_classifier import ECFromChkpt"
   ],
   "metadata": {
    "collapsed": false
   }
  },
  {
   "cell_type": "code",
   "execution_count": 2,
   "outputs": [
    {
     "name": "stderr",
     "output_type": "stream",
     "text": [
      "\u001B[36m[11:54:44] DEBUG: Getting class ECModule from module gnn_tracking.training.ec\u001B[0m\n",
      "\u001B[36m[11:54:44] DEBUG: Loading checkpoint /home/kl5675/Documents/23/git_sync/hyperparameter_optimization2/scripts/legacy/lightning_logs/adorable-dalmatian-of-rain/checkpoints/epoch=19-step=144000.ckpt\u001B[0m\n",
      "\u001B[36m[11:54:44] DEBUG: Getting class EFMLP from module gnn_tracking.models.edge_filter\u001B[0m\n",
      "\u001B[36m[11:54:44] DEBUG: Getting class HaughtyFocalLoss from module gnn_tracking.metrics.losses\u001B[0m\n",
      "\u001B[36m[11:54:44] DEBUG: Checkpoint loaded. Model ready to go.\u001B[0m\n"
     ]
    }
   ],
   "source": [
    "ec = ECFromChkpt(\n",
    "    chkpt_path=\"/home/kl5675/Documents/23/git_sync/hyperparameter_optimization2/scripts/legacy/lightning_logs/adorable-dalmatian-of-rain/checkpoints/epoch=19-step=144000.ckpt\",\n",
    "    device=\"cpu\"\n",
    ")"
   ],
   "metadata": {
    "collapsed": false
   }
  },
  {
   "cell_type": "code",
   "execution_count": 3,
   "outputs": [],
   "source": [
    "ecc = ECCut(\n",
    "    ec,\n",
    "    thld=0.35,\n",
    ")"
   ],
   "metadata": {
    "collapsed": false
   }
  },
  {
   "cell_type": "code",
   "execution_count": 6,
   "outputs": [],
   "source": [
    "gcc = DataTransformer(\n",
    "    transform=ecc,\n",
    ")"
   ],
   "metadata": {
    "collapsed": false
   }
  },
  {
   "cell_type": "code",
   "execution_count": 7,
   "outputs": [
    {
     "name": "stderr",
     "output_type": "stream",
     "text": [
      "\u001B[32m[12:06:29] INFO: Skipping 0 existing files\u001B[0m\n"
     ]
    },
    {
     "data": {
      "text/plain": "0it [00:00, ?it/s]",
      "application/vnd.jupyter.widget-view+json": {
       "version_major": 2,
       "version_minor": 0,
       "model_id": "91f65991fe7c4989b3b86bc9624b9c09"
      }
     },
     "metadata": {},
     "output_type": "display_data"
    },
    {
     "name": "stderr",
     "output_type": "stream",
     "text": [
      "\u001B[32m[12:06:29] INFO: Skipping 900 existing files\u001B[0m\n"
     ]
    },
    {
     "data": {
      "text/plain": "0it [00:00, ?it/s]",
      "application/vnd.jupyter.widget-view+json": {
       "version_major": 2,
       "version_minor": 0,
       "model_id": "b646f7c06bd84720a1467be69f0f4559"
      }
     },
     "metadata": {},
     "output_type": "display_data"
    },
    {
     "name": "stderr",
     "output_type": "stream",
     "text": [
      "\u001B[32m[12:06:29] INFO: Skipping 949 existing files\u001B[0m\n"
     ]
    },
    {
     "data": {
      "text/plain": "0it [00:00, ?it/s]",
      "application/vnd.jupyter.widget-view+json": {
       "version_major": 2,
       "version_minor": 0,
       "model_id": "7765bb61424f428db150531e0cd5e2ab"
      }
     },
     "metadata": {},
     "output_type": "display_data"
    },
    {
     "name": "stderr",
     "output_type": "stream",
     "text": [
      "\u001B[32m[12:06:29] INFO: Skipping 894 existing files\u001B[0m\n"
     ]
    },
    {
     "data": {
      "text/plain": "0it [00:00, ?it/s]",
      "application/vnd.jupyter.widget-view+json": {
       "version_major": 2,
       "version_minor": 0,
       "model_id": "a0f7b966d06f4b6394ab5dcfdd683656"
      }
     },
     "metadata": {},
     "output_type": "display_data"
    },
    {
     "name": "stderr",
     "output_type": "stream",
     "text": [
      "\u001B[32m[12:06:29] INFO: Skipping 1000 existing files\u001B[0m\n"
     ]
    },
    {
     "data": {
      "text/plain": "0it [00:00, ?it/s]",
      "application/vnd.jupyter.widget-view+json": {
       "version_major": 2,
       "version_minor": 0,
       "model_id": "2bb5f4b068c449298c23fcd42a60e21b"
      }
     },
     "metadata": {},
     "output_type": "display_data"
    },
    {
     "name": "stderr",
     "output_type": "stream",
     "text": [
      "\u001B[32m[12:06:29] INFO: Skipping 1000 existing files\u001B[0m\n"
     ]
    },
    {
     "data": {
      "text/plain": "0it [00:00, ?it/s]",
      "application/vnd.jupyter.widget-view+json": {
       "version_major": 2,
       "version_minor": 0,
       "model_id": "e30ab120cb85425186d3e3ccb710d624"
      }
     },
     "metadata": {},
     "output_type": "display_data"
    },
    {
     "name": "stderr",
     "output_type": "stream",
     "text": [
      "\u001B[32m[12:06:29] INFO: Skipping 1000 existing files\u001B[0m\n"
     ]
    },
    {
     "data": {
      "text/plain": "0it [00:00, ?it/s]",
      "application/vnd.jupyter.widget-view+json": {
       "version_major": 2,
       "version_minor": 0,
       "model_id": "949c85ec179944db879bf48345871731"
      }
     },
     "metadata": {},
     "output_type": "display_data"
    },
    {
     "name": "stderr",
     "output_type": "stream",
     "text": [
      "\u001B[32m[12:06:29] INFO: Skipping 1000 existing files\u001B[0m\n"
     ]
    },
    {
     "data": {
      "text/plain": "0it [00:00, ?it/s]",
      "application/vnd.jupyter.widget-view+json": {
       "version_major": 2,
       "version_minor": 0,
       "model_id": "edd2c5072a5e4751a46f9b4775828214"
      }
     },
     "metadata": {},
     "output_type": "display_data"
    },
    {
     "name": "stderr",
     "output_type": "stream",
     "text": [
      "\u001B[32m[12:06:29] INFO: Skipping 1000 existing files\u001B[0m\n"
     ]
    },
    {
     "data": {
      "text/plain": "0it [00:00, ?it/s]",
      "application/vnd.jupyter.widget-view+json": {
       "version_major": 2,
       "version_minor": 0,
       "model_id": "043d2f31349742078eed6645b3347d28"
      }
     },
     "metadata": {},
     "output_type": "display_data"
    }
   ],
   "source": [
    "gcc.process_directories(\n",
    "    input_dirs=[\n",
    "        f\"/scratch/gpfs/IOJALVO/gnn-tracking/object_condensation/graphs_v6_cut/part_{i}/\"\n",
    "        for i in range(9)\n",
    "    ],\n",
    "    output_dirs=[\n",
    "        f\"/scratch/gpfs/IOJALVO/gnn-tracking/object_condensation/graphs_v5_cut2/part_{i}/\"\n",
    "        for i in range(9)\n",
    "    ],\n",
    "    max_processes=6,\n",
    "    chunk_size=30,\n",
    "    redo=False,\n",
    "    seed=1,\n",
    ")"
   ],
   "metadata": {
    "collapsed": false
   }
  },
  {
   "cell_type": "markdown",
   "source": [
    "## Test on full graphs"
   ],
   "metadata": {
    "collapsed": false
   }
  },
  {
   "cell_type": "code",
   "execution_count": 4,
   "outputs": [],
   "source": [
    "from pathlib import Path\n",
    "\n",
    "test_graph = Path(f\"/scratch/gpfs/IOJALVO/gnn-tracking/object_condensation/graphs_v5/part_1/data21000_s0.pt\")\n",
    "assert test_graph.is_file()"
   ],
   "metadata": {
    "collapsed": false
   }
  },
  {
   "cell_type": "code",
   "execution_count": 6,
   "outputs": [],
   "source": [
    "import torch\n",
    "\n",
    "data = torch.load(test_graph)"
   ],
   "metadata": {
    "collapsed": false
   }
  },
  {
   "cell_type": "code",
   "execution_count": 11,
   "outputs": [
    {
     "data": {
      "text/plain": "Data(x=[2796, 14], edge_index=[2, 112518], edge_attr=[112518, 4], y=[112518], pt=[2796], particle_id=[2796], reconstructable=[2796], sector=[2796], evtid=[1], s=[1], eta=[2796], ec_score=[112518])"
     },
     "execution_count": 11,
     "metadata": {},
     "output_type": "execute_result"
    }
   ],
   "source": [
    "data"
   ],
   "metadata": {
    "collapsed": false
   }
  },
  {
   "cell_type": "code",
   "execution_count": 9,
   "outputs": [],
   "source": [
    "rd = ecc(data)"
   ],
   "metadata": {
    "collapsed": false
   }
  },
  {
   "cell_type": "code",
   "execution_count": 10,
   "outputs": [
    {
     "data": {
      "text/plain": "Data(x=[2796, 14], edge_index=[2, 4751], edge_attr=[4751, 4], y=[4751], pt=[2796], particle_id=[2796], reconstructable=[2796], sector=[2796], evtid=[1], s=[1], eta=[2796], ec_score=[4751])"
     },
     "execution_count": 10,
     "metadata": {},
     "output_type": "execute_result"
    }
   ],
   "source": [
    "rd"
   ],
   "metadata": {
    "collapsed": false
   }
  }
 ],
 "metadata": {
  "kernelspec": {
   "display_name": "Python 3",
   "language": "python",
   "name": "python3"
  },
  "language_info": {
   "codemirror_mode": {
    "name": "ipython",
    "version": 2
   },
   "file_extension": ".py",
   "mimetype": "text/x-python",
   "name": "python",
   "nbconvert_exporter": "python",
   "pygments_lexer": "ipython2",
   "version": "2.7.6"
  }
 },
 "nbformat": 4,
 "nbformat_minor": 0
}
