{
 "cells": [
  {
   "cell_type": "code",
   "execution_count": 1,
   "metadata": {
    "collapsed": true
   },
   "outputs": [],
   "source": [
    "%load_ext autoreload\n",
    "%autoreload 2\n",
    "\n",
    "from gnn_tracking.training.ml import MLModule\n",
    "from pathlib import Path\n",
    "from gnn_tracking.graph_construction.k_scanner import GraphConstructionKNNScanner\n",
    "\n"
   ]
  },
  {
   "cell_type": "code",
   "execution_count": 2,
   "outputs": [
    {
     "name": "stderr",
     "output_type": "stream",
     "text": [
      "\u001B[32m[17:10:06] INFO: DataLoader will load 900 graphs (out of 900 available).\u001B[0m\n",
      "\u001B[36m[17:10:06] DEBUG: First graph is /scratch/gpfs/IOJALVO/gnn-tracking/object_condensation/point_clouds_v5/part_1/data21000_s0.pt, last graph is /scratch/gpfs/IOJALVO/gnn-tracking/object_condensation/point_clouds_v5/part_1/data21999_s0.pt\u001B[0m\n",
      "\u001B[32m[17:10:06] INFO: DataLoader will load 5 graphs (out of 1000 available).\u001B[0m\n",
      "\u001B[36m[17:10:06] DEBUG: First graph is /scratch/gpfs/IOJALVO/gnn-tracking/object_condensation/point_clouds_v5/part_9/data29000_s0.pt, last graph is /scratch/gpfs/IOJALVO/gnn-tracking/object_condensation/point_clouds_v5/part_9/data29004_s0.pt\u001B[0m\n",
      "\u001B[36m[17:10:06] DEBUG: Getting class GraphConstructionFCNN from module gnn_tracking.models.graph_construction\u001B[0m\n",
      "\u001B[36m[17:10:06] DEBUG: Getting class GraphConstructionHingeEmbeddingLoss from module gnn_tracking.metrics.losses\u001B[0m\n"
     ]
    }
   ],
   "source": [
    "model_exchange_path = Path(\n",
    "    \"/scratch/gpfs/IOJALVO/gnn-tracking/object_condensation/model_exchange\"\n",
    ")\n",
    "from gnn_tracking.utils.loading import TrackingDataModule\n",
    "\n",
    "dm = TrackingDataModule(\n",
    "    train=dict(\n",
    "        dirs=[\n",
    "            \"/scratch/gpfs/IOJALVO/gnn-tracking/object_condensation/point_clouds_v5/part_1/\"\n",
    "        ],\n",
    "        # If you run into memory issues, reduce this\n",
    "    ),\n",
    "    val=dict(\n",
    "        dirs=[\n",
    "            \"/scratch/gpfs/IOJALVO/gnn-tracking/object_condensation/point_clouds_v5/part_9/\"\n",
    "        ],\n",
    "        stop=5\n",
    "    ),\n",
    ")\n",
    "dm.setup(stage=\"fit\")\n",
    "lmodel = MLModule.load_from_checkpoint(model_exchange_path / \"gc\" / \"gc-7dce6aff.ckpt\")"
   ],
   "metadata": {
    "collapsed": false
   }
  },
  {
   "cell_type": "code",
   "execution_count": 3,
   "outputs": [],
   "source": [
    "\n",
    "lmodel.gc_scanner = GraphConstructionKNNScanner()"
   ],
   "metadata": {
    "collapsed": false
   }
  },
  {
   "cell_type": "code",
   "execution_count": 4,
   "outputs": [
    {
     "name": "stderr",
     "output_type": "stream",
     "text": [
      "/scratch/gpfs/kl5675/micromamba/envs/gnn/lib/python3.10/site-packages/lightning_fabric/plugins/environments/slurm.py:165: PossibleUserWarning: The `srun` command is available on your system but is not used. HINT: If your intention is to run Lightning on SLURM, prepend your python command with `srun` like so: srun python /scratch/gpfs/kl5675/micromamba/envs/gnn/lib/python3 ...\n",
      "  rank_zero_warn(\n",
      "GPU available: True (cuda), used: True\n",
      "TPU available: False, using: 0 TPU cores\n",
      "IPU available: False, using: 0 IPUs\n",
      "HPU available: False, using: 0 HPUs\n",
      "/scratch/gpfs/kl5675/micromamba/envs/gnn/lib/python3.10/site-packages/lightning_fabric/plugins/environments/slurm.py:165: PossibleUserWarning: The `srun` command is available on your system but is not used. HINT: If your intention is to run Lightning on SLURM, prepend your python command with `srun` like so: srun python /scratch/gpfs/kl5675/micromamba/envs/gnn/lib/python3 ...\n",
      "  rank_zero_warn(\n",
      "You are using a CUDA device ('NVIDIA A100-SXM4-80GB') that has Tensor Cores. To properly utilize them, you should set `torch.set_float32_matmul_precision('medium' | 'high')` which will trade-off precision for performance. For more details, read https://pytorch.org/docs/stable/generated/torch.set_float32_matmul_precision.html#torch.set_float32_matmul_precision\n",
      "\u001B[32m[17:10:06] INFO: DataLoader will load 5 graphs (out of 1000 available).\u001B[0m\n",
      "\u001B[36m[17:10:06] DEBUG: First graph is /scratch/gpfs/IOJALVO/gnn-tracking/object_condensation/point_clouds_v5/part_9/data29000_s0.pt, last graph is /scratch/gpfs/IOJALVO/gnn-tracking/object_condensation/point_clouds_v5/part_9/data29004_s0.pt\u001B[0m\n",
      "LOCAL_RANK: 0 - CUDA_VISIBLE_DEVICES: [0]\n",
      "/scratch/gpfs/kl5675/micromamba/envs/gnn/lib/python3.10/site-packages/pytorch_lightning/trainer/connectors/data_connector.py:432: PossibleUserWarning: The dataloader, val_dataloader, does not have many workers which may be a bottleneck. Consider increasing the value of the `num_workers` argument` (try 48 which is the number of cpus on this machine) in the `DataLoader` init to improve performance.\n",
      "  rank_zero_warn(\n"
     ]
    },
    {
     "data": {
      "text/plain": "Validation: 0it [00:00, ?it/s]",
      "application/vnd.jupyter.widget-view+json": {
       "version_major": 2,
       "version_minor": 0,
       "model_id": "2d2fdffaca0d4f8a8165838440915089"
      }
     },
     "metadata": {},
     "output_type": "display_data"
    },
    {
     "name": "stderr",
     "output_type": "stream",
     "text": [
      "NaN or Inf found in input tensor.\n",
      "NaN or Inf found in input tensor.\n",
      "NaN or Inf found in input tensor.\n",
      "NaN or Inf found in input tensor.\n"
     ]
    },
    {
     "data": {
      "text/plain": "┏━━━━━━━━━━━━━━━━━━━━━━━━━━━━━━━┳━━━━━━━━━━━━━━━━━━━━━━━━━━━━━━━┓\n┃\u001B[1m \u001B[0m\u001B[1m       Validate metric       \u001B[0m\u001B[1m \u001B[0m┃\u001B[1m \u001B[0m\u001B[1m        DataLoader 0         \u001B[0m\u001B[1m \u001B[0m┃\n┡━━━━━━━━━━━━━━━━━━━━━━━━━━━━━━━╇━━━━━━━━━━━━━━━━━━━━━━━━━━━━━━━┩\n│\u001B[36m \u001B[0m\u001B[36m         attractive          \u001B[0m\u001B[36m \u001B[0m│\u001B[35m \u001B[0m\u001B[35m     0.2547031342983246      \u001B[0m\u001B[35m \u001B[0m│\n│\u001B[36m \u001B[0m\u001B[36m     attractive_weighted     \u001B[0m\u001B[36m \u001B[0m│\u001B[35m \u001B[0m\u001B[35m     0.2547031342983246      \u001B[0m\u001B[35m \u001B[0m│\n│\u001B[36m \u001B[0m\u001B[36mfrac100_at_frac_segment50_80 \u001B[0m\u001B[36m \u001B[0m│\u001B[35m \u001B[0m\u001B[35m      0.42658531665802       \u001B[0m\u001B[35m \u001B[0m│\n│\u001B[36m \u001B[0m\u001B[36mfrac100_at_frac_segment50_85 \u001B[0m\u001B[36m \u001B[0m│\u001B[35m \u001B[0m\u001B[35m     0.4970194101333618      \u001B[0m\u001B[35m \u001B[0m│\n│\u001B[36m \u001B[0m\u001B[36mfrac100_at_frac_segment50_88 \u001B[0m\u001B[36m \u001B[0m│\u001B[35m \u001B[0m\u001B[35m     0.5731492638587952      \u001B[0m\u001B[35m \u001B[0m│\n│\u001B[36m \u001B[0m\u001B[36mfrac100_at_frac_segment50_90 \u001B[0m\u001B[36m \u001B[0m│\u001B[35m \u001B[0m\u001B[35m     0.6687265038490295      \u001B[0m\u001B[35m \u001B[0m│\n│\u001B[36m \u001B[0m\u001B[36mfrac100_at_frac_segment50_93 \u001B[0m\u001B[36m \u001B[0m│\u001B[35m \u001B[0m\u001B[35m     0.7440078258514404      \u001B[0m\u001B[35m \u001B[0m│\n│\u001B[36m \u001B[0m\u001B[36mfrac100_at_frac_segment50_95 \u001B[0m\u001B[36m \u001B[0m│\u001B[35m \u001B[0m\u001B[35m     0.8021523356437683      \u001B[0m\u001B[35m \u001B[0m│\n│\u001B[36m \u001B[0m\u001B[36mfrac100_at_frac_segment50_97 \u001B[0m\u001B[36m \u001B[0m│\u001B[35m \u001B[0m\u001B[35m      0.865666389465332      \u001B[0m\u001B[35m \u001B[0m│\n│\u001B[36m \u001B[0m\u001B[36mfrac100_at_frac_segment50_99 \u001B[0m\u001B[36m \u001B[0m│\u001B[35m \u001B[0m\u001B[35m             nan             \u001B[0m\u001B[35m \u001B[0m│\n│\u001B[36m \u001B[0m\u001B[36mfrac100_at_max_frac_segment50\u001B[0m\u001B[36m \u001B[0m│\u001B[35m \u001B[0m\u001B[35m     0.9305943973265351      \u001B[0m\u001B[35m \u001B[0m│\n│\u001B[36m \u001B[0m\u001B[36m frac75_at_frac_segment50_80 \u001B[0m\u001B[36m \u001B[0m│\u001B[35m \u001B[0m\u001B[35m     0.5809249877929688      \u001B[0m\u001B[35m \u001B[0m│\n│\u001B[36m \u001B[0m\u001B[36m frac75_at_frac_segment50_85 \u001B[0m\u001B[36m \u001B[0m│\u001B[35m \u001B[0m\u001B[35m      0.646190881729126      \u001B[0m\u001B[35m \u001B[0m│\n│\u001B[36m \u001B[0m\u001B[36m frac75_at_frac_segment50_88 \u001B[0m\u001B[36m \u001B[0m│\u001B[35m \u001B[0m\u001B[35m     0.7076241374015808      \u001B[0m\u001B[35m \u001B[0m│\n│\u001B[36m \u001B[0m\u001B[36m frac75_at_frac_segment50_90 \u001B[0m\u001B[36m \u001B[0m│\u001B[35m \u001B[0m\u001B[35m     0.7775388360023499      \u001B[0m\u001B[35m \u001B[0m│\n│\u001B[36m \u001B[0m\u001B[36m frac75_at_frac_segment50_93 \u001B[0m\u001B[36m \u001B[0m│\u001B[35m \u001B[0m\u001B[35m     0.8355352282524109      \u001B[0m\u001B[35m \u001B[0m│\n│\u001B[36m \u001B[0m\u001B[36m frac75_at_frac_segment50_95 \u001B[0m\u001B[36m \u001B[0m│\u001B[35m \u001B[0m\u001B[35m     0.8739341497421265      \u001B[0m\u001B[35m \u001B[0m│\n│\u001B[36m \u001B[0m\u001B[36m frac75_at_frac_segment50_97 \u001B[0m\u001B[36m \u001B[0m│\u001B[35m \u001B[0m\u001B[35m     0.9132501482963562      \u001B[0m\u001B[35m \u001B[0m│\n│\u001B[36m \u001B[0m\u001B[36m frac75_at_frac_segment50_99 \u001B[0m\u001B[36m \u001B[0m│\u001B[35m \u001B[0m\u001B[35m             nan             \u001B[0m\u001B[35m \u001B[0m│\n│\u001B[36m \u001B[0m\u001B[36mfrac75_at_max_frac_segment50 \u001B[0m\u001B[36m \u001B[0m│\u001B[35m \u001B[0m\u001B[35m     0.9553103818251257      \u001B[0m\u001B[35m \u001B[0m│\n│\u001B[36m \u001B[0m\u001B[36m     max_frac_segment50      \u001B[0m\u001B[36m \u001B[0m│\u001B[35m \u001B[0m\u001B[35m     0.9886094778540778      \u001B[0m\u001B[35m \u001B[0m│\n│\u001B[36m \u001B[0m\u001B[36m    max_frac_segment50_k     \u001B[0m\u001B[36m \u001B[0m│\u001B[35m \u001B[0m\u001B[35m            36.0             \u001B[0m\u001B[35m \u001B[0m│\n│\u001B[36m \u001B[0m\u001B[36m  n_edges_frac_segment50_80  \u001B[0m\u001B[36m \u001B[0m│\u001B[35m \u001B[0m\u001B[35m         258007.375          \u001B[0m\u001B[35m \u001B[0m│\n│\u001B[36m \u001B[0m\u001B[36m n_edges_frac_segment50_80_k \u001B[0m\u001B[36m \u001B[0m│\u001B[35m \u001B[0m\u001B[35m      4.42731237411499       \u001B[0m\u001B[35m \u001B[0m│\n│\u001B[36m \u001B[0m\u001B[36m  n_edges_frac_segment50_85  \u001B[0m\u001B[36m \u001B[0m│\u001B[35m \u001B[0m\u001B[35m          315103.25          \u001B[0m\u001B[35m \u001B[0m│\n│\u001B[36m \u001B[0m\u001B[36m n_edges_frac_segment50_85_k \u001B[0m\u001B[36m \u001B[0m│\u001B[35m \u001B[0m\u001B[35m      5.409213066101074      \u001B[0m\u001B[35m \u001B[0m│\n│\u001B[36m \u001B[0m\u001B[36m  n_edges_frac_segment50_88  \u001B[0m\u001B[36m \u001B[0m│\u001B[35m \u001B[0m\u001B[35m        387169.21875         \u001B[0m\u001B[35m \u001B[0m│\n│\u001B[36m \u001B[0m\u001B[36m n_edges_frac_segment50_88_k \u001B[0m\u001B[36m \u001B[0m│\u001B[35m \u001B[0m\u001B[35m      6.649742126464844      \u001B[0m\u001B[35m \u001B[0m│\n│\u001B[36m \u001B[0m\u001B[36m  n_edges_frac_segment50_90  \u001B[0m\u001B[36m \u001B[0m│\u001B[35m \u001B[0m\u001B[35m         508628.0625         \u001B[0m\u001B[35m \u001B[0m│\n│\u001B[36m \u001B[0m\u001B[36m n_edges_frac_segment50_90_k \u001B[0m\u001B[36m \u001B[0m│\u001B[35m \u001B[0m\u001B[35m      8.743598937988281      \u001B[0m\u001B[35m \u001B[0m│\n│\u001B[36m \u001B[0m\u001B[36m  n_edges_frac_segment50_93  \u001B[0m\u001B[36m \u001B[0m│\u001B[35m \u001B[0m\u001B[35m         667329.4375         \u001B[0m\u001B[35m \u001B[0m│\n│\u001B[36m \u001B[0m\u001B[36m n_edges_frac_segment50_93_k \u001B[0m\u001B[36m \u001B[0m│\u001B[35m \u001B[0m\u001B[35m     11.485496520996094      \u001B[0m\u001B[35m \u001B[0m│\n│\u001B[36m \u001B[0m\u001B[36m  n_edges_frac_segment50_95  \u001B[0m\u001B[36m \u001B[0m│\u001B[35m \u001B[0m\u001B[35m         852041.8125         \u001B[0m\u001B[35m \u001B[0m│\n│\u001B[36m \u001B[0m\u001B[36m n_edges_frac_segment50_95_k \u001B[0m\u001B[36m \u001B[0m│\u001B[35m \u001B[0m\u001B[35m     14.685369491577148      \u001B[0m\u001B[35m \u001B[0m│\n│\u001B[36m \u001B[0m\u001B[36m  n_edges_frac_segment50_97  \u001B[0m\u001B[36m \u001B[0m│\u001B[35m \u001B[0m\u001B[35m         1216797.25          \u001B[0m\u001B[35m \u001B[0m│\n│\u001B[36m \u001B[0m\u001B[36m n_edges_frac_segment50_97_k \u001B[0m\u001B[36m \u001B[0m│\u001B[35m \u001B[0m\u001B[35m     21.029390335083008      \u001B[0m\u001B[35m \u001B[0m│\n│\u001B[36m \u001B[0m\u001B[36m  n_edges_frac_segment50_99  \u001B[0m\u001B[36m \u001B[0m│\u001B[35m \u001B[0m\u001B[35m             nan             \u001B[0m\u001B[35m \u001B[0m│\n│\u001B[36m \u001B[0m\u001B[36m n_edges_frac_segment50_99_k \u001B[0m\u001B[36m \u001B[0m│\u001B[35m \u001B[0m\u001B[35m             nan             \u001B[0m\u001B[35m \u001B[0m│\n│\u001B[36m \u001B[0m\u001B[36m n_edges_max_frac_segment50  \u001B[0m\u001B[36m \u001B[0m│\u001B[35m \u001B[0m\u001B[35m          2070691.0          \u001B[0m\u001B[35m \u001B[0m│\n│\u001B[36m \u001B[0m\u001B[36m          repulsive          \u001B[0m\u001B[36m \u001B[0m│\u001B[35m \u001B[0m\u001B[35m      32.18389129638672      \u001B[0m\u001B[35m \u001B[0m│\n│\u001B[36m \u001B[0m\u001B[36m     repulsive_weighted      \u001B[0m\u001B[36m \u001B[0m│\u001B[35m \u001B[0m\u001B[35m     0.06285610795021057     \u001B[0m\u001B[35m \u001B[0m│\n│\u001B[36m \u001B[0m\u001B[36m            total            \u001B[0m\u001B[36m \u001B[0m│\u001B[35m \u001B[0m\u001B[35m     0.31755924224853516     \u001B[0m\u001B[35m \u001B[0m│\n└───────────────────────────────┴───────────────────────────────┘\n",
      "text/html": "<pre style=\"white-space:pre;overflow-x:auto;line-height:normal;font-family:Menlo,'DejaVu Sans Mono',consolas,'Courier New',monospace\">┏━━━━━━━━━━━━━━━━━━━━━━━━━━━━━━━┳━━━━━━━━━━━━━━━━━━━━━━━━━━━━━━━┓\n┃<span style=\"font-weight: bold\">        Validate metric        </span>┃<span style=\"font-weight: bold\">         DataLoader 0          </span>┃\n┡━━━━━━━━━━━━━━━━━━━━━━━━━━━━━━━╇━━━━━━━━━━━━━━━━━━━━━━━━━━━━━━━┩\n│<span style=\"color: #008080; text-decoration-color: #008080\">          attractive           </span>│<span style=\"color: #800080; text-decoration-color: #800080\">      0.2547031342983246       </span>│\n│<span style=\"color: #008080; text-decoration-color: #008080\">      attractive_weighted      </span>│<span style=\"color: #800080; text-decoration-color: #800080\">      0.2547031342983246       </span>│\n│<span style=\"color: #008080; text-decoration-color: #008080\"> frac100_at_frac_segment50_80  </span>│<span style=\"color: #800080; text-decoration-color: #800080\">       0.42658531665802        </span>│\n│<span style=\"color: #008080; text-decoration-color: #008080\"> frac100_at_frac_segment50_85  </span>│<span style=\"color: #800080; text-decoration-color: #800080\">      0.4970194101333618       </span>│\n│<span style=\"color: #008080; text-decoration-color: #008080\"> frac100_at_frac_segment50_88  </span>│<span style=\"color: #800080; text-decoration-color: #800080\">      0.5731492638587952       </span>│\n│<span style=\"color: #008080; text-decoration-color: #008080\"> frac100_at_frac_segment50_90  </span>│<span style=\"color: #800080; text-decoration-color: #800080\">      0.6687265038490295       </span>│\n│<span style=\"color: #008080; text-decoration-color: #008080\"> frac100_at_frac_segment50_93  </span>│<span style=\"color: #800080; text-decoration-color: #800080\">      0.7440078258514404       </span>│\n│<span style=\"color: #008080; text-decoration-color: #008080\"> frac100_at_frac_segment50_95  </span>│<span style=\"color: #800080; text-decoration-color: #800080\">      0.8021523356437683       </span>│\n│<span style=\"color: #008080; text-decoration-color: #008080\"> frac100_at_frac_segment50_97  </span>│<span style=\"color: #800080; text-decoration-color: #800080\">       0.865666389465332       </span>│\n│<span style=\"color: #008080; text-decoration-color: #008080\"> frac100_at_frac_segment50_99  </span>│<span style=\"color: #800080; text-decoration-color: #800080\">              nan              </span>│\n│<span style=\"color: #008080; text-decoration-color: #008080\"> frac100_at_max_frac_segment50 </span>│<span style=\"color: #800080; text-decoration-color: #800080\">      0.9305943973265351       </span>│\n│<span style=\"color: #008080; text-decoration-color: #008080\">  frac75_at_frac_segment50_80  </span>│<span style=\"color: #800080; text-decoration-color: #800080\">      0.5809249877929688       </span>│\n│<span style=\"color: #008080; text-decoration-color: #008080\">  frac75_at_frac_segment50_85  </span>│<span style=\"color: #800080; text-decoration-color: #800080\">       0.646190881729126       </span>│\n│<span style=\"color: #008080; text-decoration-color: #008080\">  frac75_at_frac_segment50_88  </span>│<span style=\"color: #800080; text-decoration-color: #800080\">      0.7076241374015808       </span>│\n│<span style=\"color: #008080; text-decoration-color: #008080\">  frac75_at_frac_segment50_90  </span>│<span style=\"color: #800080; text-decoration-color: #800080\">      0.7775388360023499       </span>│\n│<span style=\"color: #008080; text-decoration-color: #008080\">  frac75_at_frac_segment50_93  </span>│<span style=\"color: #800080; text-decoration-color: #800080\">      0.8355352282524109       </span>│\n│<span style=\"color: #008080; text-decoration-color: #008080\">  frac75_at_frac_segment50_95  </span>│<span style=\"color: #800080; text-decoration-color: #800080\">      0.8739341497421265       </span>│\n│<span style=\"color: #008080; text-decoration-color: #008080\">  frac75_at_frac_segment50_97  </span>│<span style=\"color: #800080; text-decoration-color: #800080\">      0.9132501482963562       </span>│\n│<span style=\"color: #008080; text-decoration-color: #008080\">  frac75_at_frac_segment50_99  </span>│<span style=\"color: #800080; text-decoration-color: #800080\">              nan              </span>│\n│<span style=\"color: #008080; text-decoration-color: #008080\"> frac75_at_max_frac_segment50  </span>│<span style=\"color: #800080; text-decoration-color: #800080\">      0.9553103818251257       </span>│\n│<span style=\"color: #008080; text-decoration-color: #008080\">      max_frac_segment50       </span>│<span style=\"color: #800080; text-decoration-color: #800080\">      0.9886094778540778       </span>│\n│<span style=\"color: #008080; text-decoration-color: #008080\">     max_frac_segment50_k      </span>│<span style=\"color: #800080; text-decoration-color: #800080\">             36.0              </span>│\n│<span style=\"color: #008080; text-decoration-color: #008080\">   n_edges_frac_segment50_80   </span>│<span style=\"color: #800080; text-decoration-color: #800080\">          258007.375           </span>│\n│<span style=\"color: #008080; text-decoration-color: #008080\">  n_edges_frac_segment50_80_k  </span>│<span style=\"color: #800080; text-decoration-color: #800080\">       4.42731237411499        </span>│\n│<span style=\"color: #008080; text-decoration-color: #008080\">   n_edges_frac_segment50_85   </span>│<span style=\"color: #800080; text-decoration-color: #800080\">           315103.25           </span>│\n│<span style=\"color: #008080; text-decoration-color: #008080\">  n_edges_frac_segment50_85_k  </span>│<span style=\"color: #800080; text-decoration-color: #800080\">       5.409213066101074       </span>│\n│<span style=\"color: #008080; text-decoration-color: #008080\">   n_edges_frac_segment50_88   </span>│<span style=\"color: #800080; text-decoration-color: #800080\">         387169.21875          </span>│\n│<span style=\"color: #008080; text-decoration-color: #008080\">  n_edges_frac_segment50_88_k  </span>│<span style=\"color: #800080; text-decoration-color: #800080\">       6.649742126464844       </span>│\n│<span style=\"color: #008080; text-decoration-color: #008080\">   n_edges_frac_segment50_90   </span>│<span style=\"color: #800080; text-decoration-color: #800080\">          508628.0625          </span>│\n│<span style=\"color: #008080; text-decoration-color: #008080\">  n_edges_frac_segment50_90_k  </span>│<span style=\"color: #800080; text-decoration-color: #800080\">       8.743598937988281       </span>│\n│<span style=\"color: #008080; text-decoration-color: #008080\">   n_edges_frac_segment50_93   </span>│<span style=\"color: #800080; text-decoration-color: #800080\">          667329.4375          </span>│\n│<span style=\"color: #008080; text-decoration-color: #008080\">  n_edges_frac_segment50_93_k  </span>│<span style=\"color: #800080; text-decoration-color: #800080\">      11.485496520996094       </span>│\n│<span style=\"color: #008080; text-decoration-color: #008080\">   n_edges_frac_segment50_95   </span>│<span style=\"color: #800080; text-decoration-color: #800080\">          852041.8125          </span>│\n│<span style=\"color: #008080; text-decoration-color: #008080\">  n_edges_frac_segment50_95_k  </span>│<span style=\"color: #800080; text-decoration-color: #800080\">      14.685369491577148       </span>│\n│<span style=\"color: #008080; text-decoration-color: #008080\">   n_edges_frac_segment50_97   </span>│<span style=\"color: #800080; text-decoration-color: #800080\">          1216797.25           </span>│\n│<span style=\"color: #008080; text-decoration-color: #008080\">  n_edges_frac_segment50_97_k  </span>│<span style=\"color: #800080; text-decoration-color: #800080\">      21.029390335083008       </span>│\n│<span style=\"color: #008080; text-decoration-color: #008080\">   n_edges_frac_segment50_99   </span>│<span style=\"color: #800080; text-decoration-color: #800080\">              nan              </span>│\n│<span style=\"color: #008080; text-decoration-color: #008080\">  n_edges_frac_segment50_99_k  </span>│<span style=\"color: #800080; text-decoration-color: #800080\">              nan              </span>│\n│<span style=\"color: #008080; text-decoration-color: #008080\">  n_edges_max_frac_segment50   </span>│<span style=\"color: #800080; text-decoration-color: #800080\">           2070691.0           </span>│\n│<span style=\"color: #008080; text-decoration-color: #008080\">           repulsive           </span>│<span style=\"color: #800080; text-decoration-color: #800080\">       32.18389129638672       </span>│\n│<span style=\"color: #008080; text-decoration-color: #008080\">      repulsive_weighted       </span>│<span style=\"color: #800080; text-decoration-color: #800080\">      0.06285610795021057      </span>│\n│<span style=\"color: #008080; text-decoration-color: #008080\">             total             </span>│<span style=\"color: #800080; text-decoration-color: #800080\">      0.31755924224853516      </span>│\n└───────────────────────────────┴───────────────────────────────┘\n</pre>\n"
     },
     "metadata": {},
     "output_type": "display_data"
    },
    {
     "data": {
      "text/plain": "[{'attractive': 0.2547031342983246,\n  'repulsive': 32.18389129638672,\n  'attractive_weighted': 0.2547031342983246,\n  'repulsive_weighted': 0.06285610795021057,\n  'total': 0.31755924224853516,\n  'n_edges_frac_segment50_80': 258007.375,\n  'n_edges_frac_segment50_80_k': 4.42731237411499,\n  'frac75_at_frac_segment50_80': 0.5809249877929688,\n  'frac100_at_frac_segment50_80': 0.42658531665802,\n  'n_edges_frac_segment50_85': 315103.25,\n  'n_edges_frac_segment50_85_k': 5.409213066101074,\n  'frac75_at_frac_segment50_85': 0.646190881729126,\n  'frac100_at_frac_segment50_85': 0.4970194101333618,\n  'n_edges_frac_segment50_88': 387169.21875,\n  'n_edges_frac_segment50_88_k': 6.649742126464844,\n  'frac75_at_frac_segment50_88': 0.7076241374015808,\n  'frac100_at_frac_segment50_88': 0.5731492638587952,\n  'n_edges_frac_segment50_90': 508628.0625,\n  'n_edges_frac_segment50_90_k': 8.743598937988281,\n  'frac75_at_frac_segment50_90': 0.7775388360023499,\n  'frac100_at_frac_segment50_90': 0.6687265038490295,\n  'n_edges_frac_segment50_93': 667329.4375,\n  'n_edges_frac_segment50_93_k': 11.485496520996094,\n  'frac75_at_frac_segment50_93': 0.8355352282524109,\n  'frac100_at_frac_segment50_93': 0.7440078258514404,\n  'n_edges_frac_segment50_95': 852041.8125,\n  'n_edges_frac_segment50_95_k': 14.685369491577148,\n  'frac75_at_frac_segment50_95': 0.8739341497421265,\n  'frac100_at_frac_segment50_95': 0.8021523356437683,\n  'n_edges_frac_segment50_97': 1216797.25,\n  'n_edges_frac_segment50_97_k': 21.029390335083008,\n  'frac75_at_frac_segment50_97': 0.9132501482963562,\n  'frac100_at_frac_segment50_97': 0.865666389465332,\n  'n_edges_frac_segment50_99': nan,\n  'n_edges_frac_segment50_99_k': nan,\n  'frac75_at_frac_segment50_99': nan,\n  'frac100_at_frac_segment50_99': nan,\n  'max_frac_segment50': 0.9886094778540778,\n  'n_edges_max_frac_segment50': 2070691.0,\n  'max_frac_segment50_k': 36.0,\n  'frac75_at_max_frac_segment50': 0.9553103818251257,\n  'frac100_at_max_frac_segment50': 0.9305943973265351}]"
     },
     "execution_count": 4,
     "metadata": {},
     "output_type": "execute_result"
    }
   ],
   "source": [
    "from pytorch_lightning import Trainer\n",
    "\n",
    "trainer = Trainer(\n",
    "    accelerator=\"cuda\",\n",
    ")\n",
    "trainer.validate(model=lmodel, datamodule=dm)"
   ],
   "metadata": {
    "collapsed": false
   }
  },
  {
   "cell_type": "code",
   "execution_count": 4,
   "outputs": [],
   "source": [],
   "metadata": {
    "collapsed": false
   }
  }
 ],
 "metadata": {
  "kernelspec": {
   "display_name": "Python 3",
   "language": "python",
   "name": "python3"
  },
  "language_info": {
   "codemirror_mode": {
    "name": "ipython",
    "version": 2
   },
   "file_extension": ".py",
   "mimetype": "text/x-python",
   "name": "python",
   "nbconvert_exporter": "python",
   "pygments_lexer": "ipython2",
   "version": "2.7.6"
  }
 },
 "nbformat": 4,
 "nbformat_minor": 0
}
