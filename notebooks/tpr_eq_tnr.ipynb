{
 "cells": [
  {
   "cell_type": "markdown",
   "source": [
    "**Description**: Investigate ROC curves and similar to find good cutoff points."
   ],
   "metadata": {
    "collapsed": false
   }
  },
  {
   "cell_type": "code",
   "execution_count": 4,
   "metadata": {
    "collapsed": true
   },
   "outputs": [],
   "source": [
    "import numpy as np\n",
    "from gnn_tracking_hpo.util.paths import find_checkpoints, add_scripts_path\n",
    "\n",
    "add_scripts_path()"
   ]
  },
  {
   "cell_type": "code",
   "execution_count": 5,
   "outputs": [],
   "source": [
    "from gnn_tracking_hpo.util.paths import get_config\n",
    "\n",
    "checkpoint_path = find_checkpoints(\"ec-s9\", \"009d\")[-1]\n",
    "config = get_config(\"ec-s9\", \"009d\")"
   ],
   "metadata": {
    "collapsed": false
   }
  },
  {
   "cell_type": "code",
   "execution_count": 6,
   "outputs": [],
   "source": [
    "config.update({\"n_graphs_train\": 1, \"n_graphs_val\": 100, \"n_graphs_test\": 1})"
   ],
   "metadata": {
    "collapsed": false
   }
  },
  {
   "cell_type": "code",
   "execution_count": 7,
   "outputs": [],
   "source": [
    "from tune_ec_sectorized import ECTrainable"
   ],
   "metadata": {
    "collapsed": false
   }
  },
  {
   "cell_type": "code",
   "execution_count": 8,
   "outputs": [
    {
     "name": "stderr",
     "output_type": "stream",
     "text": [
      "\u001B[36mDEBUG: Got config\n",
      "{'batch_size': 1,\n",
      " 'focal_alpha': 0.7397820322968228,\n",
      " 'focal_gamma': 4,\n",
      " 'gnn_tracking_experiments_hash': '1c4385064cb8472d7070c92d38d2958ab96e7485',\n",
      " 'gnn_tracking_hash': 'd1903e7319ef1dc27f2632d27212ce802d1273e2',\n",
      " 'lr': 0.00010008424753725798,\n",
      " 'lw_edge': 1.0,\n",
      " 'm_L_ec': 7,\n",
      " 'm_alpha_ec': 0.5082980468439962,\n",
      " 'm_e_dim': 4,\n",
      " 'm_h_dim': 5,\n",
      " 'm_hidden_dim': 118,\n",
      " 'm_interaction_edge_hidden_dim': 85,\n",
      " 'm_interaction_node_hidden_dim': 94,\n",
      " 'n_graphs_test': 1,\n",
      " 'n_graphs_train': 1,\n",
      " 'n_graphs_val': 100,\n",
      " 'optimizer': 'adam',\n",
      " 'scheduler': None,\n",
      " 'sector': 9,\n",
      " 'test': False,\n",
      " 'training_pt_thld': 0.0,\n",
      " 'training_without_noise': False,\n",
      " 'training_without_non_reconstructable': False}\u001B[0m\n",
      "\u001B[32mINFO: Loading data to cpu memory\u001B[0m\n",
      "\u001B[32mINFO: Loading 102 graphs (out of 371 available).\u001B[0m\n",
      "\u001B[36mDEBUG: Parameters for data loaders: {'batch_size': 1, 'num_workers': 12}\u001B[0m\n",
      "\u001B[32mINFO: Using device cpu\u001B[0m\n"
     ]
    }
   ],
   "source": [
    "trainable = ECTrainable(config)"
   ],
   "metadata": {
    "collapsed": false
   }
  },
  {
   "cell_type": "code",
   "execution_count": 9,
   "outputs": [],
   "source": [
    "trainable.load_checkpoint(checkpoint_path, device=\"cpu\")"
   ],
   "metadata": {
    "collapsed": false
   }
  },
  {
   "cell_type": "code",
   "execution_count": 10,
   "outputs": [],
   "source": [
    "\n",
    "\n",
    "# output = np.array([\n",
    "#     0.3,\n",
    "#     0.5,\n",
    "#     0.8,\n",
    "#     0.,\n",
    "#     1.\n",
    "# ])\n",
    "# true = np.array([\n",
    "#     1,\n",
    "#     1,\n",
    "#     1,\n",
    "#     0,\n",
    "#     0\n",
    "# ])"
   ],
   "metadata": {
    "collapsed": false
   }
  },
  {
   "cell_type": "code",
   "execution_count": 11,
   "outputs": [],
   "source": [
    "def find_tpr_eq_tnr(predicted, true):\n",
    "    t = true.sum()\n",
    "    n = len(true) - t\n",
    "\n",
    "    thresholds = np.linspace(0., 1., 1000)\n",
    "    vals = []\n",
    "    for thld in thresholds:\n",
    "        tp = (predicted[true == 1.] >= thld).sum()\n",
    "        tn = (predicted[true == 0.] < thld).sum()\n",
    "        tpr = tp/t\n",
    "        tnr = tn/n\n",
    "        vals.append(np.abs(tpr - tnr))\n",
    "    idx = np.argmin(vals)\n",
    "    return thresholds[idx]"
   ],
   "metadata": {
    "collapsed": false
   }
  },
  {
   "cell_type": "code",
   "execution_count": 43,
   "outputs": [
    {
     "name": "stdout",
     "output_type": "stream",
     "text": [
      "torch.Size([141708])\n",
      "torch.Size([141708])\n",
      "0.36736736736736736\n"
     ]
    }
   ],
   "source": [
    "from gnn_tracking.training.tcn_trainer import TCNTrainer\n",
    "import torch\n",
    "\n",
    "trainer: TCNTrainer = trainable.trainer\n",
    "vals = []\n",
    "with torch.no_grad():\n",
    "    loader = trainer.val_loader\n",
    "    for idx, data in enumerate(loader):\n",
    "        print(data.y.shape)\n",
    "        mo = trainer.evaluate_model(data)\n",
    "        pred = mo[\"w\"]\n",
    "        true = mo[\"y\"]\n",
    "        print(true.shape)\n",
    "        pts = mo[\"pt\"]\n",
    "        pids = mo[\"particle_id\"]\n",
    "        vals.append(find_tpr_eq_tnr(pred, true))\n",
    "        if idx == 0:\n",
    "            break\n",
    "print(np.mean(vals))"
   ],
   "metadata": {
    "collapsed": false
   }
  },
  {
   "cell_type": "code",
   "execution_count": 44,
   "outputs": [],
   "source": [
    "def tpr_vs_tnr(predicted, true):\n",
    "    t = true.sum()\n",
    "    n = len(true) - t\n",
    "\n",
    "    thresholds = np.linspace(0., 1., 1000)\n",
    "    tprs = []\n",
    "    tnrs = []\n",
    "    for thld in thresholds:\n",
    "        tp = (predicted[true == 1.] >= thld).sum()\n",
    "        tn = (predicted[true == 0.] < thld).sum()\n",
    "        tprs.append(tp/t)\n",
    "        tnrs.append(tn/n)\n",
    "    return thresholds, np.array(tprs), np.array(tnrs)"
   ],
   "metadata": {
    "collapsed": false
   }
  },
  {
   "cell_type": "code",
   "execution_count": 15,
   "outputs": [],
   "source": [
    "import matplotlib.pyplot as plt"
   ],
   "metadata": {
    "collapsed": false
   }
  },
  {
   "cell_type": "code",
   "execution_count": 47,
   "outputs": [
    {
     "ename": "AttributeError",
     "evalue": "Line2D.set() got an unexpected keyword argument 's'",
     "output_type": "error",
     "traceback": [
      "\u001B[0;31m---------------------------------------------------------------------------\u001B[0m",
      "\u001B[0;31mAttributeError\u001B[0m                            Traceback (most recent call last)",
      "Cell \u001B[0;32mIn [47], line 5\u001B[0m\n\u001B[1;32m      3\u001B[0m     mask \u001B[38;5;241m=\u001B[39m trainable\u001B[38;5;241m.\u001B[39mtrainer\u001B[38;5;241m.\u001B[39m_edge_pt_mask(data\u001B[38;5;241m.\u001B[39medge_index, pts, pt_thld)\n\u001B[1;32m      4\u001B[0m     thlds, tprs, tnrs \u001B[38;5;241m=\u001B[39m tpr_vs_tnr(pred[mask], true[mask])\n\u001B[0;32m----> 5\u001B[0m     \u001B[43max\u001B[49m\u001B[38;5;241;43m.\u001B[39;49m\u001B[43mplot\u001B[49m\u001B[43m(\u001B[49m\u001B[43mtprs\u001B[49m\u001B[43m,\u001B[49m\u001B[43m \u001B[49m\u001B[43mtnrs\u001B[49m\u001B[43m,\u001B[49m\u001B[43m \u001B[49m\u001B[43ms\u001B[49m\u001B[38;5;241;43m=\u001B[39;49m\u001B[38;5;241;43m1\u001B[39;49m\u001B[43m,\u001B[49m\u001B[43m \u001B[49m\u001B[43mlabel\u001B[49m\u001B[38;5;241;43m=\u001B[39;49m\u001B[38;5;124;43mf\u001B[39;49m\u001B[38;5;124;43m\"\u001B[39;49m\u001B[38;5;124;43mpt > \u001B[39;49m\u001B[38;5;132;43;01m{\u001B[39;49;00m\u001B[43mpt_thld\u001B[49m\u001B[38;5;132;43;01m}\u001B[39;49;00m\u001B[38;5;124;43m\"\u001B[39;49m\u001B[43m)\u001B[49m\n\u001B[1;32m      6\u001B[0m ax\u001B[38;5;241m.\u001B[39mplot([\u001B[38;5;241m0.\u001B[39m, \u001B[38;5;241m1.\u001B[39m], [\u001B[38;5;241m0.\u001B[39m, \u001B[38;5;241m1.\u001B[39m], ls\u001B[38;5;241m=\u001B[39m\u001B[38;5;124m\"\u001B[39m\u001B[38;5;124m--\u001B[39m\u001B[38;5;124m\"\u001B[39m, color\u001B[38;5;241m=\u001B[39m\u001B[38;5;124m\"\u001B[39m\u001B[38;5;124mred\u001B[39m\u001B[38;5;124m\"\u001B[39m, label\u001B[38;5;241m=\u001B[39m\u001B[38;5;124m\"\u001B[39m\u001B[38;5;124mTPR = TNR\u001B[39m\u001B[38;5;124m\"\u001B[39m)\n\u001B[1;32m      7\u001B[0m ax\u001B[38;5;241m.\u001B[39mlegend()\n",
      "File \u001B[0;32m/scratch/gpfs/kl5675/miniconda3/envs/gnn/lib/python3.10/site-packages/matplotlib/axes/_axes.py:1662\u001B[0m, in \u001B[0;36mAxes.plot\u001B[0;34m(self, scalex, scaley, data, *args, **kwargs)\u001B[0m\n\u001B[1;32m   1419\u001B[0m \u001B[38;5;124;03m\"\"\"\u001B[39;00m\n\u001B[1;32m   1420\u001B[0m \u001B[38;5;124;03mPlot y versus x as lines and/or markers.\u001B[39;00m\n\u001B[1;32m   1421\u001B[0m \n\u001B[0;32m   (...)\u001B[0m\n\u001B[1;32m   1659\u001B[0m \u001B[38;5;124;03m(``'green'``) or hex strings (``'#008000'``).\u001B[39;00m\n\u001B[1;32m   1660\u001B[0m \u001B[38;5;124;03m\"\"\"\u001B[39;00m\n\u001B[1;32m   1661\u001B[0m kwargs \u001B[38;5;241m=\u001B[39m cbook\u001B[38;5;241m.\u001B[39mnormalize_kwargs(kwargs, mlines\u001B[38;5;241m.\u001B[39mLine2D)\n\u001B[0;32m-> 1662\u001B[0m lines \u001B[38;5;241m=\u001B[39m [\u001B[38;5;241m*\u001B[39m\u001B[38;5;28mself\u001B[39m\u001B[38;5;241m.\u001B[39m_get_lines(\u001B[38;5;241m*\u001B[39margs, data\u001B[38;5;241m=\u001B[39mdata, \u001B[38;5;241m*\u001B[39m\u001B[38;5;241m*\u001B[39mkwargs)]\n\u001B[1;32m   1663\u001B[0m \u001B[38;5;28;01mfor\u001B[39;00m line \u001B[38;5;129;01min\u001B[39;00m lines:\n\u001B[1;32m   1664\u001B[0m     \u001B[38;5;28mself\u001B[39m\u001B[38;5;241m.\u001B[39madd_line(line)\n",
      "File \u001B[0;32m/scratch/gpfs/kl5675/miniconda3/envs/gnn/lib/python3.10/site-packages/matplotlib/axes/_base.py:311\u001B[0m, in \u001B[0;36m_process_plot_var_args.__call__\u001B[0;34m(self, data, *args, **kwargs)\u001B[0m\n\u001B[1;32m    309\u001B[0m     this \u001B[38;5;241m+\u001B[39m\u001B[38;5;241m=\u001B[39m args[\u001B[38;5;241m0\u001B[39m],\n\u001B[1;32m    310\u001B[0m     args \u001B[38;5;241m=\u001B[39m args[\u001B[38;5;241m1\u001B[39m:]\n\u001B[0;32m--> 311\u001B[0m \u001B[38;5;28;01myield from\u001B[39;00m \u001B[38;5;28;43mself\u001B[39;49m\u001B[38;5;241;43m.\u001B[39;49m\u001B[43m_plot_args\u001B[49m\u001B[43m(\u001B[49m\n\u001B[1;32m    312\u001B[0m \u001B[43m    \u001B[49m\u001B[43mthis\u001B[49m\u001B[43m,\u001B[49m\u001B[43m \u001B[49m\u001B[43mkwargs\u001B[49m\u001B[43m,\u001B[49m\u001B[43m \u001B[49m\u001B[43mambiguous_fmt_datakey\u001B[49m\u001B[38;5;241;43m=\u001B[39;49m\u001B[43mambiguous_fmt_datakey\u001B[49m\u001B[43m)\u001B[49m\n",
      "File \u001B[0;32m/scratch/gpfs/kl5675/miniconda3/envs/gnn/lib/python3.10/site-packages/matplotlib/axes/_base.py:544\u001B[0m, in \u001B[0;36m_process_plot_var_args._plot_args\u001B[0;34m(self, tup, kwargs, return_kwargs, ambiguous_fmt_datakey)\u001B[0m\n\u001B[1;32m    542\u001B[0m     \u001B[38;5;28;01mreturn\u001B[39;00m \u001B[38;5;28mlist\u001B[39m(result)\n\u001B[1;32m    543\u001B[0m \u001B[38;5;28;01melse\u001B[39;00m:\n\u001B[0;32m--> 544\u001B[0m     \u001B[38;5;28;01mreturn\u001B[39;00m [l[\u001B[38;5;241m0\u001B[39m] \u001B[38;5;28;01mfor\u001B[39;00m l \u001B[38;5;129;01min\u001B[39;00m result]\n",
      "File \u001B[0;32m/scratch/gpfs/kl5675/miniconda3/envs/gnn/lib/python3.10/site-packages/matplotlib/axes/_base.py:544\u001B[0m, in \u001B[0;36m<listcomp>\u001B[0;34m(.0)\u001B[0m\n\u001B[1;32m    542\u001B[0m     \u001B[38;5;28;01mreturn\u001B[39;00m \u001B[38;5;28mlist\u001B[39m(result)\n\u001B[1;32m    543\u001B[0m \u001B[38;5;28;01melse\u001B[39;00m:\n\u001B[0;32m--> 544\u001B[0m     \u001B[38;5;28;01mreturn\u001B[39;00m [l[\u001B[38;5;241m0\u001B[39m] \u001B[38;5;28;01mfor\u001B[39;00m l \u001B[38;5;129;01min\u001B[39;00m result]\n",
      "File \u001B[0;32m/scratch/gpfs/kl5675/miniconda3/envs/gnn/lib/python3.10/site-packages/matplotlib/axes/_base.py:537\u001B[0m, in \u001B[0;36m<genexpr>\u001B[0;34m(.0)\u001B[0m\n\u001B[1;32m    534\u001B[0m \u001B[38;5;28;01melse\u001B[39;00m:\n\u001B[1;32m    535\u001B[0m     labels \u001B[38;5;241m=\u001B[39m [label] \u001B[38;5;241m*\u001B[39m n_datasets\n\u001B[0;32m--> 537\u001B[0m result \u001B[38;5;241m=\u001B[39m (\u001B[43mmake_artist\u001B[49m\u001B[43m(\u001B[49m\u001B[43mx\u001B[49m\u001B[43m[\u001B[49m\u001B[43m:\u001B[49m\u001B[43m,\u001B[49m\u001B[43m \u001B[49m\u001B[43mj\u001B[49m\u001B[43m \u001B[49m\u001B[38;5;241;43m%\u001B[39;49m\u001B[43m \u001B[49m\u001B[43mncx\u001B[49m\u001B[43m]\u001B[49m\u001B[43m,\u001B[49m\u001B[43m \u001B[49m\u001B[43my\u001B[49m\u001B[43m[\u001B[49m\u001B[43m:\u001B[49m\u001B[43m,\u001B[49m\u001B[43m \u001B[49m\u001B[43mj\u001B[49m\u001B[43m \u001B[49m\u001B[38;5;241;43m%\u001B[39;49m\u001B[43m \u001B[49m\u001B[43mncy\u001B[49m\u001B[43m]\u001B[49m\u001B[43m,\u001B[49m\u001B[43m \u001B[49m\u001B[43mkw\u001B[49m\u001B[43m,\u001B[49m\n\u001B[1;32m    538\u001B[0m \u001B[43m                      \u001B[49m\u001B[43m{\u001B[49m\u001B[38;5;241;43m*\u001B[39;49m\u001B[38;5;241;43m*\u001B[39;49m\u001B[43mkwargs\u001B[49m\u001B[43m,\u001B[49m\u001B[43m \u001B[49m\u001B[38;5;124;43m'\u001B[39;49m\u001B[38;5;124;43mlabel\u001B[39;49m\u001B[38;5;124;43m'\u001B[39;49m\u001B[43m:\u001B[49m\u001B[43m \u001B[49m\u001B[43mlabel\u001B[49m\u001B[43m}\u001B[49m\u001B[43m)\u001B[49m\n\u001B[1;32m    539\u001B[0m           \u001B[38;5;28;01mfor\u001B[39;00m j, label \u001B[38;5;129;01min\u001B[39;00m \u001B[38;5;28menumerate\u001B[39m(labels))\n\u001B[1;32m    541\u001B[0m \u001B[38;5;28;01mif\u001B[39;00m return_kwargs:\n\u001B[1;32m    542\u001B[0m     \u001B[38;5;28;01mreturn\u001B[39;00m \u001B[38;5;28mlist\u001B[39m(result)\n",
      "File \u001B[0;32m/scratch/gpfs/kl5675/miniconda3/envs/gnn/lib/python3.10/site-packages/matplotlib/axes/_base.py:351\u001B[0m, in \u001B[0;36m_process_plot_var_args._makeline\u001B[0;34m(self, x, y, kw, kwargs)\u001B[0m\n\u001B[1;32m    349\u001B[0m default_dict \u001B[38;5;241m=\u001B[39m \u001B[38;5;28mself\u001B[39m\u001B[38;5;241m.\u001B[39m_getdefaults(\u001B[38;5;28mset\u001B[39m(), kw)\n\u001B[1;32m    350\u001B[0m \u001B[38;5;28mself\u001B[39m\u001B[38;5;241m.\u001B[39m_setdefaults(default_dict, kw)\n\u001B[0;32m--> 351\u001B[0m seg \u001B[38;5;241m=\u001B[39m \u001B[43mmlines\u001B[49m\u001B[38;5;241;43m.\u001B[39;49m\u001B[43mLine2D\u001B[49m\u001B[43m(\u001B[49m\u001B[43mx\u001B[49m\u001B[43m,\u001B[49m\u001B[43m \u001B[49m\u001B[43my\u001B[49m\u001B[43m,\u001B[49m\u001B[43m \u001B[49m\u001B[38;5;241;43m*\u001B[39;49m\u001B[38;5;241;43m*\u001B[39;49m\u001B[43mkw\u001B[49m\u001B[43m)\u001B[49m\n\u001B[1;32m    352\u001B[0m \u001B[38;5;28;01mreturn\u001B[39;00m seg, kw\n",
      "File \u001B[0;32m/scratch/gpfs/kl5675/miniconda3/envs/gnn/lib/python3.10/site-packages/matplotlib/_api/deprecation.py:454\u001B[0m, in \u001B[0;36mmake_keyword_only.<locals>.wrapper\u001B[0;34m(*args, **kwargs)\u001B[0m\n\u001B[1;32m    448\u001B[0m \u001B[38;5;28;01mif\u001B[39;00m \u001B[38;5;28mlen\u001B[39m(args) \u001B[38;5;241m>\u001B[39m name_idx:\n\u001B[1;32m    449\u001B[0m     warn_deprecated(\n\u001B[1;32m    450\u001B[0m         since, message\u001B[38;5;241m=\u001B[39m\u001B[38;5;124m\"\u001B[39m\u001B[38;5;124mPassing the \u001B[39m\u001B[38;5;132;01m%(name)s\u001B[39;00m\u001B[38;5;124m \u001B[39m\u001B[38;5;132;01m%(obj_type)s\u001B[39;00m\u001B[38;5;124m \u001B[39m\u001B[38;5;124m\"\u001B[39m\n\u001B[1;32m    451\u001B[0m         \u001B[38;5;124m\"\u001B[39m\u001B[38;5;124mpositionally is deprecated since Matplotlib \u001B[39m\u001B[38;5;132;01m%(since)s\u001B[39;00m\u001B[38;5;124m; the \u001B[39m\u001B[38;5;124m\"\u001B[39m\n\u001B[1;32m    452\u001B[0m         \u001B[38;5;124m\"\u001B[39m\u001B[38;5;124mparameter will become keyword-only \u001B[39m\u001B[38;5;132;01m%(removal)s\u001B[39;00m\u001B[38;5;124m.\u001B[39m\u001B[38;5;124m\"\u001B[39m,\n\u001B[1;32m    453\u001B[0m         name\u001B[38;5;241m=\u001B[39mname, obj_type\u001B[38;5;241m=\u001B[39m\u001B[38;5;124mf\u001B[39m\u001B[38;5;124m\"\u001B[39m\u001B[38;5;124mparameter of \u001B[39m\u001B[38;5;132;01m{\u001B[39;00mfunc\u001B[38;5;241m.\u001B[39m\u001B[38;5;18m__name__\u001B[39m\u001B[38;5;132;01m}\u001B[39;00m\u001B[38;5;124m()\u001B[39m\u001B[38;5;124m\"\u001B[39m)\n\u001B[0;32m--> 454\u001B[0m \u001B[38;5;28;01mreturn\u001B[39;00m \u001B[43mfunc\u001B[49m\u001B[43m(\u001B[49m\u001B[38;5;241;43m*\u001B[39;49m\u001B[43margs\u001B[49m\u001B[43m,\u001B[49m\u001B[43m \u001B[49m\u001B[38;5;241;43m*\u001B[39;49m\u001B[38;5;241;43m*\u001B[39;49m\u001B[43mkwargs\u001B[49m\u001B[43m)\u001B[49m\n",
      "File \u001B[0;32m/scratch/gpfs/kl5675/miniconda3/envs/gnn/lib/python3.10/site-packages/matplotlib/lines.py:393\u001B[0m, in \u001B[0;36mLine2D.__init__\u001B[0;34m(self, xdata, ydata, linewidth, linestyle, color, gapcolor, marker, markersize, markeredgewidth, markeredgecolor, markerfacecolor, markerfacecoloralt, fillstyle, antialiased, dash_capstyle, solid_capstyle, dash_joinstyle, solid_joinstyle, pickradius, drawstyle, markevery, **kwargs)\u001B[0m\n\u001B[1;32m    389\u001B[0m \u001B[38;5;28mself\u001B[39m\u001B[38;5;241m.\u001B[39mset_markeredgewidth(markeredgewidth)\n\u001B[1;32m    391\u001B[0m \u001B[38;5;66;03m# update kwargs before updating data to give the caller a\u001B[39;00m\n\u001B[1;32m    392\u001B[0m \u001B[38;5;66;03m# chance to init axes (and hence unit support)\u001B[39;00m\n\u001B[0;32m--> 393\u001B[0m \u001B[38;5;28;43mself\u001B[39;49m\u001B[38;5;241;43m.\u001B[39;49m\u001B[43m_internal_update\u001B[49m\u001B[43m(\u001B[49m\u001B[43mkwargs\u001B[49m\u001B[43m)\u001B[49m\n\u001B[1;32m    394\u001B[0m \u001B[38;5;28mself\u001B[39m\u001B[38;5;241m.\u001B[39m_pickradius \u001B[38;5;241m=\u001B[39m pickradius\n\u001B[1;32m    395\u001B[0m \u001B[38;5;28mself\u001B[39m\u001B[38;5;241m.\u001B[39mind_offset \u001B[38;5;241m=\u001B[39m \u001B[38;5;241m0\u001B[39m\n",
      "File \u001B[0;32m/scratch/gpfs/kl5675/miniconda3/envs/gnn/lib/python3.10/site-packages/matplotlib/artist.py:1186\u001B[0m, in \u001B[0;36mArtist._internal_update\u001B[0;34m(self, kwargs)\u001B[0m\n\u001B[1;32m   1179\u001B[0m \u001B[38;5;28;01mdef\u001B[39;00m \u001B[38;5;21m_internal_update\u001B[39m(\u001B[38;5;28mself\u001B[39m, kwargs):\n\u001B[1;32m   1180\u001B[0m     \u001B[38;5;124;03m\"\"\"\u001B[39;00m\n\u001B[1;32m   1181\u001B[0m \u001B[38;5;124;03m    Update artist properties without prenormalizing them, but generating\u001B[39;00m\n\u001B[1;32m   1182\u001B[0m \u001B[38;5;124;03m    errors as if calling `set`.\u001B[39;00m\n\u001B[1;32m   1183\u001B[0m \n\u001B[1;32m   1184\u001B[0m \u001B[38;5;124;03m    The lack of prenormalization is to maintain backcompatibility.\u001B[39;00m\n\u001B[1;32m   1185\u001B[0m \u001B[38;5;124;03m    \"\"\"\u001B[39;00m\n\u001B[0;32m-> 1186\u001B[0m     \u001B[38;5;28;01mreturn\u001B[39;00m \u001B[38;5;28;43mself\u001B[39;49m\u001B[38;5;241;43m.\u001B[39;49m\u001B[43m_update_props\u001B[49m\u001B[43m(\u001B[49m\n\u001B[1;32m   1187\u001B[0m \u001B[43m        \u001B[49m\u001B[43mkwargs\u001B[49m\u001B[43m,\u001B[49m\u001B[43m \u001B[49m\u001B[38;5;124;43m\"\u001B[39;49m\u001B[38;5;132;43;01m{cls.__name__}\u001B[39;49;00m\u001B[38;5;124;43m.set() got an unexpected keyword argument \u001B[39;49m\u001B[38;5;124;43m\"\u001B[39;49m\n\u001B[1;32m   1188\u001B[0m \u001B[43m        \u001B[49m\u001B[38;5;124;43m\"\u001B[39;49m\u001B[38;5;132;43;01m{prop_name!r}\u001B[39;49;00m\u001B[38;5;124;43m\"\u001B[39;49m\u001B[43m)\u001B[49m\n",
      "File \u001B[0;32m/scratch/gpfs/kl5675/miniconda3/envs/gnn/lib/python3.10/site-packages/matplotlib/artist.py:1160\u001B[0m, in \u001B[0;36mArtist._update_props\u001B[0;34m(self, props, errfmt)\u001B[0m\n\u001B[1;32m   1158\u001B[0m             func \u001B[38;5;241m=\u001B[39m \u001B[38;5;28mgetattr\u001B[39m(\u001B[38;5;28mself\u001B[39m, \u001B[38;5;124mf\u001B[39m\u001B[38;5;124m\"\u001B[39m\u001B[38;5;124mset_\u001B[39m\u001B[38;5;132;01m{\u001B[39;00mk\u001B[38;5;132;01m}\u001B[39;00m\u001B[38;5;124m\"\u001B[39m, \u001B[38;5;28;01mNone\u001B[39;00m)\n\u001B[1;32m   1159\u001B[0m             \u001B[38;5;28;01mif\u001B[39;00m \u001B[38;5;129;01mnot\u001B[39;00m callable(func):\n\u001B[0;32m-> 1160\u001B[0m                 \u001B[38;5;28;01mraise\u001B[39;00m \u001B[38;5;167;01mAttributeError\u001B[39;00m(\n\u001B[1;32m   1161\u001B[0m                     errfmt\u001B[38;5;241m.\u001B[39mformat(\u001B[38;5;28mcls\u001B[39m\u001B[38;5;241m=\u001B[39m\u001B[38;5;28mtype\u001B[39m(\u001B[38;5;28mself\u001B[39m), prop_name\u001B[38;5;241m=\u001B[39mk))\n\u001B[1;32m   1162\u001B[0m             ret\u001B[38;5;241m.\u001B[39mappend(func(v))\n\u001B[1;32m   1163\u001B[0m \u001B[38;5;28;01mif\u001B[39;00m ret:\n",
      "\u001B[0;31mAttributeError\u001B[0m: Line2D.set() got an unexpected keyword argument 's'"
     ]
    },
    {
     "data": {
      "text/plain": "<Figure size 640x480 with 1 Axes>",
      "image/png": "[encoded data removed]"
     },
     "metadata": {},
     "output_type": "display_data"
    }
   ],
   "source": [
    "fig, ax = plt.subplots()\n",
    "for pt_thld in [0., 0.5, 0.9, 1.5]:\n",
    "    mask = trainable.trainer._edge_pt_mask(data.edge_index, pts, pt_thld)\n",
    "    thlds, tprs, tnrs = tpr_vs_tnr(pred[mask], true[mask])\n",
    "    ax.plot(tprs, tnrs, label=f\"pt > {pt_thld}\")\n",
    "ax.plot([0., 1.], [0., 1.], ls=\"--\", color=\"red\", label=\"TPR = TNR\")\n",
    "ax.legend()"
   ],
   "metadata": {
    "collapsed": false
   }
  },
  {
   "cell_type": "code",
   "execution_count": 33,
   "outputs": [
    {
     "data": {
      "text/plain": "[<matplotlib.lines.Line2D at 0x145c5b23d1e0>]"
     },
     "execution_count": 33,
     "metadata": {},
     "output_type": "execute_result"
    },
    {
     "data": {
      "text/plain": "<Figure size 640x480 with 1 Axes>",
      "image/png": "[encoded data removed]"
     },
     "metadata": {},
     "output_type": "display_data"
    }
   ],
   "source": [
    "plt.plot(thlds, tprs)\n",
    "plt.plot(thlds, tnrs)"
   ],
   "metadata": {
    "collapsed": false
   }
  }
 ],
 "metadata": {
  "kernelspec": {
   "display_name": "Python 3",
   "language": "python",
   "name": "python3"
  },
  "language_info": {
   "codemirror_mode": {
    "name": "ipython",
    "version": 2
   },
   "file_extension": ".py",
   "mimetype": "text/x-python",
   "name": "python",
   "nbconvert_exporter": "python",
   "pygments_lexer": "ipython2",
   "version": "2.7.6"
  }
 },
 "nbformat": 4,
 "nbformat_minor": 0
}
