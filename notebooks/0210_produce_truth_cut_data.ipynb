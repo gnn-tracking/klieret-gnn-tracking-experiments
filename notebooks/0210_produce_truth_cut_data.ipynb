{
 "cells": [
  {
   "cell_type": "markdown",
   "source": [
    "# Produce truth cut data (for GSoC)"
   ],
   "metadata": {
    "collapsed": false
   }
  },
  {
   "cell_type": "code",
   "execution_count": 5,
   "outputs": [],
   "source": [
    "from pathlib import Path\n",
    "import torch\n",
    "from torch_geometric.data import Data\n",
    "from tqdm import tqdm"
   ],
   "metadata": {
    "collapsed": false
   }
  },
  {
   "cell_type": "code",
   "execution_count": 6,
   "outputs": [],
   "source": [
    "input_dir = Path(\"/tigress/jdezoort/object_condensation/graphs\")\n",
    "assert input_dir.is_dir()\n",
    "\n",
    "output_dir = Path(\"/tigress/jdezoort/object_condensation/graphs_pt0.4\")\n",
    "output_dir.mkdir(parents=True, exist_ok=True)"
   ],
   "metadata": {
    "collapsed": false
   }
  },
  {
   "cell_type": "code",
   "execution_count": 7,
   "outputs": [],
   "source": [
    "def pt_thld_and_strip(data: Data, pt_thld=0.4) -> Data:\n",
    "    pt_mask = data.pt > pt_thld\n",
    "    data = data.subgraph(pt_mask)\n",
    "    return Data(x=data.x, y=data.y, edge_index=data.edge_index, edge_attr=data.edge_attr)"
   ],
   "metadata": {
    "collapsed": false
   }
  },
  {
   "cell_type": "code",
   "execution_count": 8,
   "outputs": [
    {
     "name": "stderr",
     "output_type": "stream",
     "text": [
      "100%|███████████████████████████████████████████████████████████████████████████████████████████████████████████████████████████████████████████| 12480/12480 [26:07<00:00,  7.96it/s]\n"
     ]
    }
   ],
   "source": [
    "for infile in tqdm(list(input_dir.glob(\"*.pt\"))):\n",
    "    try:\n",
    "        data = torch.load(infile)\n",
    "    except:\n",
    "        continue\n",
    "    data = pt_thld_and_strip(data)\n",
    "    output_dir.mkdir(exist_ok=True)\n",
    "    with open(output_dir / infile.name, \"wb\") as f:\n",
    "        torch.save(data, f)"
   ],
   "metadata": {
    "collapsed": false
   }
  },
  {
   "cell_type": "code",
   "execution_count": 4,
   "outputs": [],
   "source": [
    "# # in batches\n",
    "# for i in range(10):\n",
    "#     for infile in tqdm(list(input_dir.glob(\"*.pt\"))[1000*i:1000*(i+1)]):\n",
    "#         try:\n",
    "#             data = torch.load(infile)\n",
    "#         except:\n",
    "#             continue\n",
    "#         data = pt_thld_and_strip(data)\n",
    "#         batch_out_dir = output_dir / f\"batch_1_{i}\"\n",
    "#         batch_out_dir.mkdir(exist_ok=True)\n",
    "#         with open(batch_out_dir / infile.name, \"wb\") as f:\n",
    "#             torch.save(data, f)"
   ],
   "metadata": {
    "collapsed": false
   }
  }
 ],
 "metadata": {
  "kernelspec": {
   "display_name": "Python 3",
   "language": "python",
   "name": "python3"
  },
  "language_info": {
   "codemirror_mode": {
    "name": "ipython",
    "version": 2
   },
   "file_extension": ".py",
   "mimetype": "text/x-python",
   "name": "python",
   "nbconvert_exporter": "python",
   "pygments_lexer": "ipython2",
   "version": "2.7.6"
  }
 },
 "nbformat": 4,
 "nbformat_minor": 0
}
