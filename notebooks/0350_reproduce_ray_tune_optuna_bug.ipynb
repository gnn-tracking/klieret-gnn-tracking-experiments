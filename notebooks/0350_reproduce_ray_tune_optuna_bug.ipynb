{
 "cells": [
  {
   "cell_type": "code",
   "execution_count": 55,
   "metadata": {},
   "outputs": [],
   "source": [
    "from ray.tune import TuneConfig\n",
    "from ray.tune.search.optuna import OptunaSearch\n",
    "import optuna\n",
    "from ray.air import session\n",
    "from ray.tune import Tuner\n"
   ]
  },
  {
   "cell_type": "code",
   "execution_count": 65,
   "outputs": [],
   "source": [
    "def suggest_config(trial: optuna.Trial,):\n",
    "    return {\"a\": 4}"
   ],
   "metadata": {
    "collapsed": false
   }
  },
  {
   "cell_type": "code",
   "execution_count": 66,
   "metadata": {},
   "outputs": [],
   "source": [
    "\n",
    "points_to_evaluate = [{\"a\": 1}, {\"a\": 2}]\n",
    "\n",
    "optuna_search = OptunaSearch(\n",
    "    # space={\"_\": optuna.distributions.CategoricalDistribution([0])},\n",
    "    metric=\"score\",\n",
    "    mode=\"max\",\n",
    "    points_to_evaluate=points_to_evaluate,\n",
    ")"
   ]
  },
  {
   "cell_type": "code",
   "execution_count": 67,
   "metadata": {},
   "outputs": [],
   "source": [
    "tune_config = TuneConfig(\n",
    "    search_alg=optuna_search,\n",
    "    num_samples=5,\n",
    ")"
   ]
  },
  {
   "cell_type": "code",
   "execution_count": 68,
   "outputs": [],
   "source": [
    "def trainable(config: dict):\n",
    "    session.report({\"score\": config[\"a\"]})"
   ],
   "metadata": {
    "collapsed": false
   }
  },
  {
   "cell_type": "code",
   "execution_count": 69,
   "outputs": [],
   "source": [
    "from ray import tune\n",
    "\n",
    "tuner = Tuner(\n",
    "    trainable,\n",
    "    tune_config = tune_config,\n",
    "    param_space={\"a\": tune.uniform(0, 1)}\n",
    ")"
   ],
   "metadata": {
    "collapsed": false
   }
  },
  {
   "cell_type": "code",
   "execution_count": 70,
   "outputs": [
    {
     "name": "stderr",
     "output_type": "stream",
     "text": [
      "/Users/fuchur/.miniconda3/envs/gnn/lib/python3.9/site-packages/ray/tune/search/optuna/optuna_search.py:682: FutureWarning: UniformDistribution has been deprecated in v3.0.0. This feature will be removed in v6.0.0. See https://github.com/optuna/optuna/releases/tag/v3.0.0. Use :class:`~optuna.distributions.FloatDistribution` instead.\n",
      "  return ot.distributions.UniformDistribution(\n",
      "\u001B[32m[I 2023-05-13 17:05:14,221]\u001B[0m A new study created in memory with name: optuna\u001B[0m\n"
     ]
    },
    {
     "data": {
      "text/plain": "<IPython.core.display.HTML object>",
      "text/html": ""
     },
     "metadata": {},
     "output_type": "display_data"
    },
    {
     "name": "stderr",
     "output_type": "stream",
     "text": [
      "/Users/fuchur/.miniconda3/envs/gnn/lib/python3.9/site-packages/optuna/distributions.py:766: FutureWarning: UniformDistribution(high=1.0, low=0.0) is deprecated and internally converted to FloatDistribution(high=1.0, log=False, low=0.0, step=None). See https://github.com/optuna/optuna/issues/2941.\n",
      "  warnings.warn(message, FutureWarning)\n",
      "/Users/fuchur/.miniconda3/envs/gnn/lib/python3.9/site-packages/optuna/trial/_trial.py:618: UserWarning: Fixed parameter 'a' with value 2 is out of range for distribution FloatDistribution(high=1.0, log=False, low=0.0, step=None).\n",
      "  warnings.warn(\n"
     ]
    },
    {
     "data": {
      "text/plain": "<IPython.core.display.HTML object>",
      "text/html": "<div class=\"trialProgress\">\n  <h3>Trial Progress</h3>\n  <table>\n<thead>\n<tr><th>Trial name        </th><th>date               </th><th>done  </th><th>episodes_total  </th><th>experiment_id                   </th><th>hostname  </th><th style=\"text-align: right;\">  iterations_since_restore</th><th>node_ip  </th><th style=\"text-align: right;\">  pid</th><th style=\"text-align: right;\">  score</th><th style=\"text-align: right;\">  time_since_restore</th><th style=\"text-align: right;\">  time_this_iter_s</th><th style=\"text-align: right;\">  time_total_s</th><th style=\"text-align: right;\">  timestamp</th><th style=\"text-align: right;\">  timesteps_since_restore</th><th>timesteps_total  </th><th style=\"text-align: right;\">  training_iteration</th><th>trial_id  </th><th style=\"text-align: right;\">  warmup_time</th></tr>\n</thead>\n<tbody>\n<tr><td>trainable_8112179d</td><td>2023-05-13_17-05-15</td><td>False </td><td>                </td><td>dc63db6fedc2433da34ef1ad77b3e76d</td><td>fbook     </td><td style=\"text-align: right;\">                         1</td><td>127.0.0.1</td><td style=\"text-align: right;\">38115</td><td style=\"text-align: right;\">      1</td><td style=\"text-align: right;\">         8.70228e-05</td><td style=\"text-align: right;\">       8.70228e-05</td><td style=\"text-align: right;\">   8.70228e-05</td><td style=\"text-align: right;\"> 1684011915</td><td style=\"text-align: right;\">                        0</td><td>                 </td><td style=\"text-align: right;\">                   1</td><td>8112179d  </td><td style=\"text-align: right;\">   0.00421906</td></tr>\n</tbody>\n</table>\n</div>\n<style>\n.trialProgress {\n  display: flex;\n  flex-direction: column;\n  color: var(--jp-ui-font-color1);\n}\n.trialProgress h3 {\n  font-weight: bold;\n}\n.trialProgress td {\n  white-space: nowrap;\n}\n</style>\n"
     },
     "metadata": {},
     "output_type": "display_data"
    },
    {
     "name": "stderr",
     "output_type": "stream",
     "text": [
      "2023-05-13 17:05:17,269\tINFO tune.py:762 -- Total run time: 3.05 seconds (2.82 seconds for the tuning loop).\n"
     ]
    }
   ],
   "source": [
    "result = tuner.fit()"
   ],
   "metadata": {
    "collapsed": false
   }
  },
  {
   "cell_type": "code",
   "execution_count": 71,
   "outputs": [
    {
     "data": {
      "text/plain": "      score  time_this_iter_s   done  timesteps_total  episodes_total  \\\n0  1.000000          0.000087  False              NaN             NaN   \n1  2.000000          0.000077  False              NaN             NaN   \n2  0.675120          0.000068  False              NaN             NaN   \n3  0.963991          0.000093  False              NaN             NaN   \n4  0.659058          0.000126  False              NaN             NaN   \n\n   training_iteration  trial_id                     experiment_id  \\\n0                   1  8112179d  dc63db6fedc2433da34ef1ad77b3e76d   \n1                   1  fc97a8a4  925473a4dfde4414b3d5abe81191eaef   \n2                   1  1c90e4f8  dc63db6fedc2433da34ef1ad77b3e76d   \n3                   1  a51b34db  a5c47a6df0b84f2c8947a0ad816cdc5b   \n4                   1  23324a99  dc63db6fedc2433da34ef1ad77b3e76d   \n\n                  date   timestamp  time_total_s    pid hostname    node_ip  \\\n0  2023-05-13_17-05-15  1684011915      0.000087  38115    fbook  127.0.0.1   \n1  2023-05-13_17-05-17  1684011917      0.000077  38119    fbook  127.0.0.1   \n2  2023-05-13_17-05-15  1684011915      0.000068  38115    fbook  127.0.0.1   \n3  2023-05-13_17-05-17  1684011917      0.000093  38120    fbook  127.0.0.1   \n4  2023-05-13_17-05-15  1684011915      0.000126  38115    fbook  127.0.0.1   \n\n   time_since_restore  timesteps_since_restore  iterations_since_restore  \\\n0            0.000087                        0                         1   \n1            0.000077                        0                         1   \n2            0.000068                        0                         1   \n3            0.000093                        0                         1   \n4            0.000126                        0                         1   \n\n   warmup_time  config/a                                             logdir  \n0     0.004219  1.000000  /Users/fuchur/ray_results/trainable_2023-05-13...  \n1     0.002104  2.000000  /Users/fuchur/ray_results/trainable_2023-05-13...  \n2     0.004219  0.675120  /Users/fuchur/ray_results/trainable_2023-05-13...  \n3     0.002297  0.963991  /Users/fuchur/ray_results/trainable_2023-05-13...  \n4     0.004219  0.659058  /Users/fuchur/ray_results/trainable_2023-05-13...  ",
      "text/html": "<div>\n<style scoped>\n    .dataframe tbody tr th:only-of-type {\n        vertical-align: middle;\n    }\n\n    .dataframe tbody tr th {\n        vertical-align: top;\n    }\n\n    .dataframe thead th {\n        text-align: right;\n    }\n</style>\n<table border=\"1\" class=\"dataframe\">\n  <thead>\n    <tr style=\"text-align: right;\">\n      <th></th>\n      <th>score</th>\n      <th>time_this_iter_s</th>\n      <th>done</th>\n      <th>timesteps_total</th>\n      <th>episodes_total</th>\n      <th>training_iteration</th>\n      <th>trial_id</th>\n      <th>experiment_id</th>\n      <th>date</th>\n      <th>timestamp</th>\n      <th>time_total_s</th>\n      <th>pid</th>\n      <th>hostname</th>\n      <th>node_ip</th>\n      <th>time_since_restore</th>\n      <th>timesteps_since_restore</th>\n      <th>iterations_since_restore</th>\n      <th>warmup_time</th>\n      <th>config/a</th>\n      <th>logdir</th>\n    </tr>\n  </thead>\n  <tbody>\n    <tr>\n      <th>0</th>\n      <td>1.000000</td>\n      <td>0.000087</td>\n      <td>False</td>\n      <td>NaN</td>\n      <td>NaN</td>\n      <td>1</td>\n      <td>8112179d</td>\n      <td>dc63db6fedc2433da34ef1ad77b3e76d</td>\n      <td>2023-05-13_17-05-15</td>\n      <td>1684011915</td>\n      <td>0.000087</td>\n      <td>38115</td>\n      <td>fbook</td>\n      <td>127.0.0.1</td>\n      <td>0.000087</td>\n      <td>0</td>\n      <td>1</td>\n      <td>0.004219</td>\n      <td>1.000000</td>\n      <td>/Users/fuchur/ray_results/trainable_2023-05-13...</td>\n    </tr>\n    <tr>\n      <th>1</th>\n      <td>2.000000</td>\n      <td>0.000077</td>\n      <td>False</td>\n      <td>NaN</td>\n      <td>NaN</td>\n      <td>1</td>\n      <td>fc97a8a4</td>\n      <td>925473a4dfde4414b3d5abe81191eaef</td>\n      <td>2023-05-13_17-05-17</td>\n      <td>1684011917</td>\n      <td>0.000077</td>\n      <td>38119</td>\n      <td>fbook</td>\n      <td>127.0.0.1</td>\n      <td>0.000077</td>\n      <td>0</td>\n      <td>1</td>\n      <td>0.002104</td>\n      <td>2.000000</td>\n      <td>/Users/fuchur/ray_results/trainable_2023-05-13...</td>\n    </tr>\n    <tr>\n      <th>2</th>\n      <td>0.675120</td>\n      <td>0.000068</td>\n      <td>False</td>\n      <td>NaN</td>\n      <td>NaN</td>\n      <td>1</td>\n      <td>1c90e4f8</td>\n      <td>dc63db6fedc2433da34ef1ad77b3e76d</td>\n      <td>2023-05-13_17-05-15</td>\n      <td>1684011915</td>\n      <td>0.000068</td>\n      <td>38115</td>\n      <td>fbook</td>\n      <td>127.0.0.1</td>\n      <td>0.000068</td>\n      <td>0</td>\n      <td>1</td>\n      <td>0.004219</td>\n      <td>0.675120</td>\n      <td>/Users/fuchur/ray_results/trainable_2023-05-13...</td>\n    </tr>\n    <tr>\n      <th>3</th>\n      <td>0.963991</td>\n      <td>0.000093</td>\n      <td>False</td>\n      <td>NaN</td>\n      <td>NaN</td>\n      <td>1</td>\n      <td>a51b34db</td>\n      <td>a5c47a6df0b84f2c8947a0ad816cdc5b</td>\n      <td>2023-05-13_17-05-17</td>\n      <td>1684011917</td>\n      <td>0.000093</td>\n      <td>38120</td>\n      <td>fbook</td>\n      <td>127.0.0.1</td>\n      <td>0.000093</td>\n      <td>0</td>\n      <td>1</td>\n      <td>0.002297</td>\n      <td>0.963991</td>\n      <td>/Users/fuchur/ray_results/trainable_2023-05-13...</td>\n    </tr>\n    <tr>\n      <th>4</th>\n      <td>0.659058</td>\n      <td>0.000126</td>\n      <td>False</td>\n      <td>NaN</td>\n      <td>NaN</td>\n      <td>1</td>\n      <td>23324a99</td>\n      <td>dc63db6fedc2433da34ef1ad77b3e76d</td>\n      <td>2023-05-13_17-05-15</td>\n      <td>1684011915</td>\n      <td>0.000126</td>\n      <td>38115</td>\n      <td>fbook</td>\n      <td>127.0.0.1</td>\n      <td>0.000126</td>\n      <td>0</td>\n      <td>1</td>\n      <td>0.004219</td>\n      <td>0.659058</td>\n      <td>/Users/fuchur/ray_results/trainable_2023-05-13...</td>\n    </tr>\n  </tbody>\n</table>\n</div>"
     },
     "execution_count": 71,
     "metadata": {},
     "output_type": "execute_result"
    }
   ],
   "source": [
    "result.get_dataframe()"
   ],
   "metadata": {
    "collapsed": false
   }
  },
  {
   "cell_type": "code",
   "execution_count": null,
   "outputs": [],
   "source": [],
   "metadata": {
    "collapsed": false
   }
  }
 ],
 "metadata": {
  "language_info": {
   "name": "python"
  },
  "orig_nbformat": 4
 },
 "nbformat": 4,
 "nbformat_minor": 2
}
