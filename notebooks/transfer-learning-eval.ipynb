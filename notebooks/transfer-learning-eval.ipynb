{
 "cells": [
  {
   "cell_type": "code",
   "execution_count": 4,
   "metadata": {
    "collapsed": true
   },
   "outputs": [],
   "source": [
    "import gnn_tracking_hpo\n",
    "from gnn_tracking_hpo.util.paths import find_checkpoints\n"
   ]
  },
  {
   "cell_type": "code",
   "execution_count": 5,
   "outputs": [],
   "source": [
    "from pathlib import Path\n",
    "\n",
    "scripts_path = Path(gnn_tracking_hpo.__path__[0]).parent.parent / \"scripts\"\n",
    "assert scripts_path.is_dir()"
   ],
   "metadata": {
    "collapsed": false
   }
  },
  {
   "cell_type": "code",
   "execution_count": 6,
   "outputs": [
    {
     "name": "stdout",
     "output_type": "stream",
     "text": [
      "/home/kl5675/Documents/22/git_sync/hpo/scripts\n"
     ]
    }
   ],
   "source": [
    "print(scripts_path)"
   ],
   "metadata": {
    "collapsed": false
   }
  },
  {
   "cell_type": "code",
   "execution_count": 7,
   "outputs": [],
   "source": [
    "import sys\n",
    "sys.path.append(str(scripts_path))"
   ],
   "metadata": {
    "collapsed": false
   }
  },
  {
   "cell_type": "code",
   "execution_count": 8,
   "outputs": [],
   "source": [
    "checkpoints = find_checkpoints(\"tcn-perfect-s9-tc\", \"474d348c\")"
   ],
   "metadata": {
    "collapsed": false
   }
  },
  {
   "cell_type": "code",
   "execution_count": null,
   "outputs": [],
   "source": [],
   "metadata": {
    "collapsed": false
   }
  },
  {
   "cell_type": "code",
   "execution_count": 9,
   "outputs": [],
   "source": [
    "checkpoint = checkpoints[-1]"
   ],
   "metadata": {
    "collapsed": false
   }
  },
  {
   "cell_type": "code",
   "execution_count": 10,
   "outputs": [
    {
     "data": {
      "text/plain": "PosixPath('/home/kl5675/ray_results/tcn-perfect-s9-tc/DynamicTCNTrainable_474d348c_35_attr_pt_thld=0.6120,batch_size=1,gnn_tracking_experiments_hash=52969e3f99d05b686693d886410194a9b41_2022-12-10_16-49-10/checkpoint_000040/checkpoint.pt')"
     },
     "execution_count": 10,
     "metadata": {},
     "output_type": "execute_result"
    }
   ],
   "source": [
    "checkpoint"
   ],
   "metadata": {
    "collapsed": false
   }
  },
  {
   "cell_type": "code",
   "execution_count": 11,
   "outputs": [],
   "source": [
    "params_file = checkpoint.parent.parent / \"params.json\"\n",
    "assert params_file.is_file()"
   ],
   "metadata": {
    "collapsed": false
   }
  },
  {
   "cell_type": "code",
   "execution_count": 12,
   "outputs": [],
   "source": [
    "import json"
   ],
   "metadata": {
    "collapsed": false
   }
  },
  {
   "cell_type": "code",
   "execution_count": 13,
   "outputs": [],
   "source": [
    "config = json.loads(params_file.read_text())"
   ],
   "metadata": {
    "collapsed": false
   }
  },
  {
   "cell_type": "code",
   "execution_count": 14,
   "outputs": [],
   "source": [
    "config.update({\"n_graphs_train\": 1, \"n_graphs_val\": 100, \"n_graphs_test\": 1})"
   ],
   "metadata": {
    "collapsed": false
   }
  },
  {
   "cell_type": "code",
   "execution_count": 15,
   "outputs": [
    {
     "name": "stderr",
     "output_type": "stream",
     "text": [
      "\u001B[36mDEBUG: Got config\n",
      "{'attr_pt_thld': 0.6120378482822557,\n",
      " 'batch_size': 1,\n",
      " 'gnn_tracking_experiments_hash': '52969e3f99d05b686693d886410194a9b41b99b8',\n",
      " 'gnn_tracking_hash': '7c7efa8c6a890d175807df185637032bfaf0e83e',\n",
      " 'lr': 0.000352944777010661,\n",
      " 'lw_background': 2.3636993448316492e-06,\n",
      " 'lw_potential_attractive': 1.0,\n",
      " 'lw_potential_repulsive': 0.5218690347548827,\n",
      " 'm_L_hc': 3,\n",
      " 'm_alpha_hc': 0.7946792381015035,\n",
      " 'm_e_dim': 5,\n",
      " 'm_ec_tnr': 1.0,\n",
      " 'm_ec_tpr': 1.0,\n",
      " 'm_h_dim': 5,\n",
      " 'm_h_outdim': 2,\n",
      " 'm_hidden_dim': 116,\n",
      " 'm_interaction_edge_hidden_dim': 124,\n",
      " 'm_interaction_node_hidden_dim': 120,\n",
      " 'n_graphs_test': 1,\n",
      " 'n_graphs_train': 1,\n",
      " 'n_graphs_val': 100,\n",
      " 'optimizer': 'adam',\n",
      " 'q_min': 0.4007277405721034,\n",
      " 'repulsive_radius_threshold': 3.0908135564502364,\n",
      " 'sb': 0.10112383165612691,\n",
      " 'scheduler': None,\n",
      " 'sector': 9,\n",
      " 'test': False,\n",
      " 'training_pt_thld': 0.9,\n",
      " 'training_without_noise': True,\n",
      " 'training_without_non_reconstructable': True}\u001B[0m\n",
      "\u001B[32mINFO: Loading data to cpu memory\u001B[0m\n",
      "\u001B[32mINFO: Loading 102 graphs (out of 371 available).\u001B[0m\n",
      "\u001B[36mDEBUG: Parameters for data loaders: {'batch_size': 1, 'num_workers': 12}\u001B[0m\n",
      "\u001B[32mINFO: Using device cpu\u001B[0m\n"
     ]
    }
   ],
   "source": [
    "from tune_02_perfect_ec_sectorized_truth_cut import DynamicTCNTrainable\n",
    "\n",
    "trainable = DynamicTCNTrainable(config)"
   ],
   "metadata": {
    "collapsed": false
   }
  },
  {
   "cell_type": "code",
   "execution_count": 16,
   "outputs": [],
   "source": [
    "trainable.load_checkpoint(checkpoint, device=\"cpu\")"
   ],
   "metadata": {
    "collapsed": false
   }
  },
  {
   "cell_type": "code",
   "execution_count": 17,
   "outputs": [],
   "source": [
    "from gnn_tracking.training.tcn_trainer import TCNTrainer\n"
   ],
   "metadata": {
    "collapsed": false
   }
  },
  {
   "cell_type": "code",
   "execution_count": 3,
   "outputs": [],
   "source": [
    "import numpy as np\n",
    "\n",
    "all_results = []\n",
    "tprs = np.linspace(1., 0.8, 5)"
   ],
   "metadata": {
    "collapsed": false
   }
  },
  {
   "cell_type": "code",
   "execution_count": 24,
   "outputs": [],
   "source": [
    "from gnn_tracking.models.edge_classifier import PerfectEdgeClassification\n",
    "\n"
   ],
   "metadata": {
    "collapsed": false
   }
  },
  {
   "cell_type": "code",
   "execution_count": 25,
   "outputs": [
    {
     "name": "stderr",
     "output_type": "stream",
     "text": [
      "\u001B[32mINFO: Starting hyperparameter scan for clustering\u001B[0m\n",
      "\u001B[32mINFO: Completed 12 trials, pruned 0 trials\u001B[0m\n",
      "\u001B[36mDEBUG: Evaluating all metrics for best clustering\u001B[0m\n",
      "\u001B[32mINFO: Evaluating all metrics took 14.59 seconds\u001B[0m\n",
      "\u001B[32mINFO: Clustering hyperparameter scan & metric evaluation took 46.29 seconds\u001B[0m\n",
      "\u001B[36mDEBUG: Starting from params: {'eps': 0.96076051228748, 'min_samples': 1}\u001B[0m\n",
      "\u001B[32mINFO: Starting hyperparameter scan for clustering\u001B[0m\n",
      "\u001B[32mINFO: Completed 12 trials, pruned 0 trials\u001B[0m\n",
      "\u001B[36mDEBUG: Evaluating all metrics for best clustering\u001B[0m\n",
      "\u001B[32mINFO: Evaluating all metrics took 3.17 seconds\u001B[0m\n",
      "\u001B[32mINFO: Clustering hyperparameter scan & metric evaluation took 30.42 seconds\u001B[0m\n",
      "\u001B[36mDEBUG: Starting from params: {'eps': 0.9599247213554087, 'min_samples': 1}\u001B[0m\n",
      "\u001B[32mINFO: Starting hyperparameter scan for clustering\u001B[0m\n",
      "\u001B[32mINFO: Completed 5 trials, pruned 7 trials\u001B[0m\n",
      "\u001B[36mDEBUG: Evaluating all metrics for best clustering\u001B[0m\n",
      "\u001B[32mINFO: Evaluating all metrics took 16.15 seconds\u001B[0m\n",
      "\u001B[32mINFO: Clustering hyperparameter scan & metric evaluation took 47.31 seconds\u001B[0m\n",
      "\u001B[36mDEBUG: Starting from params: {'eps': 0.9599247213554087, 'min_samples': 1}\u001B[0m\n",
      "\u001B[32mINFO: Starting hyperparameter scan for clustering\u001B[0m\n",
      "\u001B[32mINFO: Completed 6 trials, pruned 6 trials\u001B[0m\n",
      "\u001B[36mDEBUG: Evaluating all metrics for best clustering\u001B[0m\n",
      "\u001B[32mINFO: Evaluating all metrics took 3.32 seconds\u001B[0m\n",
      "\u001B[32mINFO: Clustering hyperparameter scan & metric evaluation took 29.97 seconds\u001B[0m\n",
      "\u001B[36mDEBUG: Starting from params: {'eps': 0.957503270402245, 'min_samples': 1}\u001B[0m\n",
      "\u001B[32mINFO: Starting hyperparameter scan for clustering\u001B[0m\n",
      "\u001B[32mINFO: Completed 12 trials, pruned 0 trials\u001B[0m\n",
      "\u001B[36mDEBUG: Evaluating all metrics for best clustering\u001B[0m\n",
      "\u001B[32mINFO: Evaluating all metrics took 17.23 seconds\u001B[0m\n",
      "\u001B[32mINFO: Clustering hyperparameter scan & metric evaluation took 49.11 seconds\u001B[0m\n",
      "\u001B[36mDEBUG: Starting from params: {'eps': 0.9508116687379163, 'min_samples': 1}\u001B[0m\n",
      "\u001B[32mINFO: Starting hyperparameter scan for clustering\u001B[0m\n",
      "\u001B[32mINFO: Completed 12 trials, pruned 0 trials\u001B[0m\n",
      "\u001B[36mDEBUG: Evaluating all metrics for best clustering\u001B[0m\n",
      "\u001B[32mINFO: Evaluating all metrics took 3.38 seconds\u001B[0m\n",
      "\u001B[32mINFO: Clustering hyperparameter scan & metric evaluation took 30.67 seconds\u001B[0m\n",
      "\u001B[36mDEBUG: Starting from params: {'eps': 0.955946552892901, 'min_samples': 1}\u001B[0m\n",
      "\u001B[32mINFO: Starting hyperparameter scan for clustering\u001B[0m\n",
      "\u001B[32mINFO: Completed 12 trials, pruned 0 trials\u001B[0m\n",
      "\u001B[36mDEBUG: Evaluating all metrics for best clustering\u001B[0m\n",
      "\u001B[32mINFO: Evaluating all metrics took 17.38 seconds\u001B[0m\n",
      "\u001B[32mINFO: Clustering hyperparameter scan & metric evaluation took 48.96 seconds\u001B[0m\n",
      "\u001B[36mDEBUG: Starting from params: {'eps': 0.955946552892901, 'min_samples': 1}\u001B[0m\n",
      "\u001B[32mINFO: Starting hyperparameter scan for clustering\u001B[0m\n",
      "\u001B[32mINFO: Completed 12 trials, pruned 0 trials\u001B[0m\n",
      "\u001B[36mDEBUG: Evaluating all metrics for best clustering\u001B[0m\n",
      "\u001B[32mINFO: Evaluating all metrics took 3.43 seconds\u001B[0m\n",
      "\u001B[32mINFO: Clustering hyperparameter scan & metric evaluation took 30.80 seconds\u001B[0m\n",
      "\u001B[36mDEBUG: Starting from params: {'eps': 0.9771335703747591, 'min_samples': 1}\u001B[0m\n",
      "\u001B[32mINFO: Starting hyperparameter scan for clustering\u001B[0m\n",
      "\u001B[32mINFO: Completed 12 trials, pruned 0 trials\u001B[0m\n",
      "\u001B[36mDEBUG: Evaluating all metrics for best clustering\u001B[0m\n",
      "\u001B[32mINFO: Evaluating all metrics took 17.34 seconds\u001B[0m\n",
      "\u001B[32mINFO: Clustering hyperparameter scan & metric evaluation took 49.27 seconds\u001B[0m\n",
      "\u001B[36mDEBUG: Starting from params: {'eps': 0.9524603640162759, 'min_samples': 1}\u001B[0m\n",
      "\u001B[32mINFO: Starting hyperparameter scan for clustering\u001B[0m\n",
      "\u001B[32mINFO: Completed 12 trials, pruned 0 trials\u001B[0m\n",
      "\u001B[36mDEBUG: Evaluating all metrics for best clustering\u001B[0m\n",
      "\u001B[32mINFO: Evaluating all metrics took 3.49 seconds\u001B[0m\n",
      "\u001B[32mINFO: Clustering hyperparameter scan & metric evaluation took 30.82 seconds\u001B[0m\n"
     ]
    }
   ],
   "source": [
    "for tpr in tprs:\n",
    "    trainable.trainer.model._gtcn.ec = PerfectEdgeClassification(tpr=tpr, tnr=1)\n",
    "    result = TCNTrainer.test_step(trainable.trainer)\n",
    "    all_results.append(result)"
   ],
   "metadata": {
    "collapsed": false
   }
  },
  {
   "cell_type": "code",
   "execution_count": 33,
   "outputs": [],
   "source": [
    "all_tc_dm = [c[\"tc_trk.double_majority\"] for c in all_results]\n",
    "all_pt09_dm = [c[\"trk.double_majority_pt0.9\"] for c in all_results]\n",
    "all_pt15_dm = [c[\"trk.double_majority_pt1.5\"] for c in all_results]"
   ],
   "metadata": {
    "collapsed": false
   }
  },
  {
   "cell_type": "code",
   "execution_count": 37,
   "outputs": [
    {
     "data": {
      "text/plain": "<matplotlib.legend.Legend at 0x14803ab57d30>"
     },
     "execution_count": 37,
     "metadata": {},
     "output_type": "execute_result"
    },
    {
     "data": {
      "text/plain": "<Figure size 640x480 with 1 Axes>",
      "image/png": "[encoded data removed]"
     },
     "metadata": {},
     "output_type": "display_data"
    }
   ],
   "source": [
    "from matplotlib import pyplot as plt\n",
    "\n",
    "plt.plot(tprs, all_tc_dm, label=\"Truth cut\")\n",
    "plt.plot(tprs, all_pt09_dm, label=\"No truth cuts, pt > 0.9\")\n",
    "plt.plot(tprs, all_pt15_dm, label=\"No truth cuts, pt > 1.5\")\n",
    "plt.xlabel(\"TPR\")\n",
    "plt.ylabel(\"Double majority\")\n",
    "plt.legend()"
   ],
   "metadata": {
    "collapsed": false
   }
  },
  {
   "cell_type": "code",
   "execution_count": 31,
   "outputs": [
    {
     "data": {
      "text/plain": "{'acc_pt1.5': 1.0,\n 'TPR_pt1.5': 1.0,\n 'TNR_pt1.5': 1.0,\n 'FPR_pt1.5': 0.0,\n 'FNR_pt1.5': 0.0,\n 'total': 0.6013830289244652,\n 'potential_attractive': 0.07452583936974407,\n 'potential_attractive_weighted': 0.07452583936974407,\n 'potential_repulsive': 1.0095536339282989,\n 'potential_repulsive_weighted': 0.5268547804714456,\n 'background': 1.0,\n 'background_weighted': 2.3636993448316496e-06,\n 'v_measure': 0.9270779764854101,\n 'homogeneity': 0.8821345383513877,\n 'completeness': 0.97732738633534,\n 'trk.n_particles': 227.59,\n 'trk.n_cleaned_clusters': 152.64,\n 'trk.perfect': 0.44236301142373724,\n 'trk.double_majority': 0.5716244350956515,\n 'trk.lhc': 0.7883573742155922,\n 'trk.fake_perfect': 0.23130284385995442,\n 'trk.fake_double_majority': 0.10204142018804017,\n 'trk.fake_lhc': 0.21164262578440787,\n 'trk.n_particles_pt0.5': 103.93,\n 'trk.n_cleaned_clusters_pt0.5': 76.7,\n 'trk.perfect_pt0.5': 0.5442722704275547,\n 'trk.double_majority_pt0.5': 0.6519702543476885,\n 'trk.lhc_pt0.5': 0.793542116913783,\n 'trk.fake_perfect_pt0.5': 0.19765508000982862,\n 'trk.fake_double_majority_pt0.5': 0.08995709608969492,\n 'trk.fake_lhc_pt0.5': 0.20645788308621696,\n 'trk.n_particles_pt0.9': 43.96,\n 'trk.n_cleaned_clusters_pt0.9': 32.98,\n 'trk.perfect_pt0.9': 0.5748663851796681,\n 'trk.double_majority_pt0.9': 0.6711853871380434,\n 'trk.lhc_pt0.9': 0.8070886302510316,\n 'trk.fake_perfect_pt0.9': 0.18021036775762161,\n 'trk.fake_double_majority_pt0.9': 0.08389136579924637,\n 'trk.fake_lhc_pt0.9': 0.19291136974896822,\n 'trk.n_particles_pt1.5': 15.67,\n 'trk.n_cleaned_clusters_pt1.5': 11.52,\n 'trk.perfect_pt1.5': 0.5698223939148235,\n 'trk.double_majority_pt1.5': 0.6603879071386254,\n 'trk.lhc_pt1.5': 0.8086269956393797,\n 'trk.fake_perfect_pt1.5': 0.1713041983454932,\n 'trk.fake_double_majority_pt1.5': 0.08073868512169113,\n 'trk.fake_lhc_pt1.5': 0.1913730043606205,\n 'adjusted_rand': 0.48876838031700826,\n 'fowlkes_mallows': 0.558572259227956,\n 'adjusted_mutual_info': 0.8337320396676021,\n 'best_dbscan_eps': 0.96076051228748,\n 'best_dbscan_min_samples': 1,\n 'tc_acc_pt1.5': 1.0,\n 'tc_TPR_pt1.5': 1.0,\n 'tc_TNR_pt1.5': 1.0,\n 'tc_FPR_pt1.5': 0.0,\n 'tc_FNR_pt1.5': 0.0,\n 'tc_total': 0.10931751891970634,\n 'tc_potential_attractive': 0.05639300862327218,\n 'tc_potential_attractive_weighted': 0.05639300862327218,\n 'tc_potential_repulsive': 0.10140885787084698,\n 'tc_potential_repulsive_weighted': 0.052922142772653995,\n 'tc_background': 1.0,\n 'tc_background_weighted': 2.3636993448316496e-06,\n 'tc_v_measure': 0.9858210158154587,\n 'tc_homogeneity': 0.9799056292076509,\n 'tc_completeness': 0.9921940893369006,\n 'tc_trk.n_particles': 41.6,\n 'tc_trk.n_cleaned_clusters': 39.3,\n 'tc_trk.perfect': 0.863575235762416,\n 'tc_trk.double_majority': 0.927755956596153,\n 'tc_trk.lhc': 0.9569585054800102,\n 'tc_trk.fake_perfect': 0.0860584847156531,\n 'tc_trk.fake_double_majority': 0.02187776388191616,\n 'tc_trk.fake_lhc': 0.04304149451998982,\n 'tc_trk.n_particles_pt0.5': 41.6,\n 'tc_trk.n_cleaned_clusters_pt0.5': 39.3,\n 'tc_trk.perfect_pt0.5': 0.863575235762416,\n 'tc_trk.double_majority_pt0.5': 0.927755956596153,\n 'tc_trk.lhc_pt0.5': 0.9569585054800102,\n 'tc_trk.fake_perfect_pt0.5': 0.0860584847156531,\n 'tc_trk.fake_double_majority_pt0.5': 0.02187776388191616,\n 'tc_trk.fake_lhc_pt0.5': 0.04304149451998982,\n 'tc_trk.n_particles_pt0.9': 41.6,\n 'tc_trk.n_cleaned_clusters_pt0.9': 39.3,\n 'tc_trk.perfect_pt0.9': 0.863575235762416,\n 'tc_trk.double_majority_pt0.9': 0.927755956596153,\n 'tc_trk.lhc_pt0.9': 0.9569585054800102,\n 'tc_trk.fake_perfect_pt0.9': 0.0860584847156531,\n 'tc_trk.fake_double_majority_pt0.9': 0.02187776388191616,\n 'tc_trk.fake_lhc_pt0.9': 0.04304149451998982,\n 'tc_trk.n_particles_pt1.5': 14.73,\n 'tc_trk.n_cleaned_clusters_pt1.5': 13.68,\n 'tc_trk.perfect_pt1.5': 0.8552163746462778,\n 'tc_trk.double_majority_pt1.5': 0.9122129212563658,\n 'tc_trk.lhc_pt1.5': 0.954724436325678,\n 'tc_trk.fake_perfect_pt1.5': 0.08185845810349444,\n 'tc_trk.fake_double_majority_pt1.5': 0.024861911493406313,\n 'tc_trk.fake_lhc_pt1.5': 0.04527556367432192,\n 'tc_adjusted_rand': 0.9323332754587801,\n 'tc_fowlkes_mallows': 0.9374395781984097,\n 'tc_adjusted_mutual_info': 0.9731642296587515,\n 'tc_best_dbscan_eps': 0.9599247213554087,\n 'tc_best_dbscan_min_samples': 1}"
     },
     "execution_count": 31,
     "metadata": {},
     "output_type": "execute_result"
    }
   ],
   "source": [
    "all_results[0]"
   ],
   "metadata": {
    "collapsed": false
   }
  },
  {
   "cell_type": "code",
   "execution_count": null,
   "outputs": [],
   "source": [],
   "metadata": {
    "collapsed": false
   }
  }
 ],
 "metadata": {
  "kernelspec": {
   "display_name": "Python 3",
   "language": "python",
   "name": "python3"
  },
  "language_info": {
   "codemirror_mode": {
    "name": "ipython",
    "version": 2
   },
   "file_extension": ".py",
   "mimetype": "text/x-python",
   "name": "python",
   "nbconvert_exporter": "python",
   "pygments_lexer": "ipython2",
   "version": "2.7.6"
  }
 },
 "nbformat": 4,
 "nbformat_minor": 0
}
