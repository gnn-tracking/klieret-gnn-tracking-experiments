{
 "cells": [
  {
   "cell_type": "code",
   "execution_count": 2,
   "metadata": {
    "collapsed": true
   },
   "outputs": [],
   "source": [
    "import gnn_tracking_hpo\n",
    "from gnn_tracking_hpo.util.paths import find_checkpoints, get_config, add_scripts_path\n"
   ]
  },
  {
   "cell_type": "code",
   "execution_count": 6,
   "outputs": [],
   "source": [
    "add_scripts_path()"
   ],
   "metadata": {
    "collapsed": false
   }
  },
  {
   "cell_type": "code",
   "execution_count": 3,
   "outputs": [],
   "source": [
    "checkpoint = find_checkpoints(\"tcn-perfect-s9-tc\", \"474d348c\")[-1]\n",
    "config = get_config(\"tcn-perfect-s9-tc\", \"474d348c\")"
   ],
   "metadata": {
    "collapsed": false
   }
  },
  {
   "cell_type": "code",
   "execution_count": 4,
   "outputs": [],
   "source": [
    "config.update({\"n_graphs_train\": 1, \"n_graphs_val\": 100, \"n_graphs_test\": 1})"
   ],
   "metadata": {
    "collapsed": false
   }
  },
  {
   "cell_type": "code",
   "execution_count": 7,
   "outputs": [
    {
     "name": "stderr",
     "output_type": "stream",
     "text": [
      "\u001B[36mDEBUG: Got config\n",
      "{'attr_pt_thld': 0.6120378482822557,\n",
      " 'batch_size': 1,\n",
      " 'gnn_tracking_experiments_hash': '52969e3f99d05b686693d886410194a9b41b99b8',\n",
      " 'gnn_tracking_hash': '7c7efa8c6a890d175807df185637032bfaf0e83e',\n",
      " 'lr': 0.000352944777010661,\n",
      " 'lw_background': 2.3636993448316492e-06,\n",
      " 'lw_potential_attractive': 1.0,\n",
      " 'lw_potential_repulsive': 0.5218690347548827,\n",
      " 'm_L_hc': 3,\n",
      " 'm_alpha_hc': 0.7946792381015035,\n",
      " 'm_e_dim': 5,\n",
      " 'm_ec_tnr': 1.0,\n",
      " 'm_ec_tpr': 1.0,\n",
      " 'm_h_dim': 5,\n",
      " 'm_h_outdim': 2,\n",
      " 'm_hidden_dim': 116,\n",
      " 'm_interaction_edge_hidden_dim': 124,\n",
      " 'm_interaction_node_hidden_dim': 120,\n",
      " 'n_graphs_test': 1,\n",
      " 'n_graphs_train': 1,\n",
      " 'n_graphs_val': 100,\n",
      " 'optimizer': 'adam',\n",
      " 'q_min': 0.4007277405721034,\n",
      " 'repulsive_radius_threshold': 3.0908135564502364,\n",
      " 'sb': 0.10112383165612691,\n",
      " 'scheduler': None,\n",
      " 'sector': 9,\n",
      " 'test': False,\n",
      " 'training_pt_thld': 0.9,\n",
      " 'training_without_noise': True,\n",
      " 'training_without_non_reconstructable': True}\u001B[0m\n",
      "\u001B[32mINFO: Loading data to cpu memory\u001B[0m\n",
      "\u001B[32mINFO: Loading 102 graphs (out of 371 available).\u001B[0m\n",
      "\u001B[36mDEBUG: Parameters for data loaders: {'batch_size': 1, 'num_workers': 12}\u001B[0m\n",
      "\u001B[32mINFO: Using device cpu\u001B[0m\n"
     ]
    }
   ],
   "source": [
    "from tune_02_perfect_ec_sectorized_truth_cut import DynamicTCNTrainable\n",
    "\n",
    "trainable = DynamicTCNTrainable(config)"
   ],
   "metadata": {
    "collapsed": false
   }
  },
  {
   "cell_type": "code",
   "execution_count": 8,
   "outputs": [],
   "source": [
    "trainable.load_checkpoint(checkpoint, device=\"cpu\")"
   ],
   "metadata": {
    "collapsed": false
   }
  },
  {
   "cell_type": "code",
   "execution_count": 9,
   "outputs": [],
   "source": [
    "from gnn_tracking.training.tcn_trainer import TCNTrainer\n"
   ],
   "metadata": {
    "collapsed": false
   }
  },
  {
   "cell_type": "markdown",
   "source": [
    "## Using perfect EC with varying TPR"
   ],
   "metadata": {
    "collapsed": false
   }
  },
  {
   "cell_type": "code",
   "execution_count": 3,
   "outputs": [],
   "source": [
    "import numpy as np\n",
    "\n",
    "all_results = []\n",
    "tprs = np.linspace(1., 0.8, 5)"
   ],
   "metadata": {
    "collapsed": false
   }
  },
  {
   "cell_type": "code",
   "execution_count": 24,
   "outputs": [],
   "source": [
    "from gnn_tracking.models.edge_classifier import PerfectEdgeClassification"
   ],
   "metadata": {
    "collapsed": false
   }
  },
  {
   "cell_type": "code",
   "execution_count": 25,
   "outputs": [
    {
     "name": "stderr",
     "output_type": "stream",
     "text": [
      "\u001B[32mINFO: Starting hyperparameter scan for clustering\u001B[0m\n",
      "\u001B[32mINFO: Completed 12 trials, pruned 0 trials\u001B[0m\n",
      "\u001B[36mDEBUG: Evaluating all metrics for best clustering\u001B[0m\n",
      "\u001B[32mINFO: Evaluating all metrics took 14.59 seconds\u001B[0m\n",
      "\u001B[32mINFO: Clustering hyperparameter scan & metric evaluation took 46.29 seconds\u001B[0m\n",
      "\u001B[36mDEBUG: Starting from params: {'eps': 0.96076051228748, 'min_samples': 1}\u001B[0m\n",
      "\u001B[32mINFO: Starting hyperparameter scan for clustering\u001B[0m\n",
      "\u001B[32mINFO: Completed 12 trials, pruned 0 trials\u001B[0m\n",
      "\u001B[36mDEBUG: Evaluating all metrics for best clustering\u001B[0m\n",
      "\u001B[32mINFO: Evaluating all metrics took 3.17 seconds\u001B[0m\n",
      "\u001B[32mINFO: Clustering hyperparameter scan & metric evaluation took 30.42 seconds\u001B[0m\n",
      "\u001B[36mDEBUG: Starting from params: {'eps': 0.9599247213554087, 'min_samples': 1}\u001B[0m\n",
      "\u001B[32mINFO: Starting hyperparameter scan for clustering\u001B[0m\n",
      "\u001B[32mINFO: Completed 5 trials, pruned 7 trials\u001B[0m\n",
      "\u001B[36mDEBUG: Evaluating all metrics for best clustering\u001B[0m\n",
      "\u001B[32mINFO: Evaluating all metrics took 16.15 seconds\u001B[0m\n",
      "\u001B[32mINFO: Clustering hyperparameter scan & metric evaluation took 47.31 seconds\u001B[0m\n",
      "\u001B[36mDEBUG: Starting from params: {'eps': 0.9599247213554087, 'min_samples': 1}\u001B[0m\n",
      "\u001B[32mINFO: Starting hyperparameter scan for clustering\u001B[0m\n",
      "\u001B[32mINFO: Completed 6 trials, pruned 6 trials\u001B[0m\n",
      "\u001B[36mDEBUG: Evaluating all metrics for best clustering\u001B[0m\n",
      "\u001B[32mINFO: Evaluating all metrics took 3.32 seconds\u001B[0m\n",
      "\u001B[32mINFO: Clustering hyperparameter scan & metric evaluation took 29.97 seconds\u001B[0m\n",
      "\u001B[36mDEBUG: Starting from params: {'eps': 0.957503270402245, 'min_samples': 1}\u001B[0m\n",
      "\u001B[32mINFO: Starting hyperparameter scan for clustering\u001B[0m\n",
      "\u001B[32mINFO: Completed 12 trials, pruned 0 trials\u001B[0m\n",
      "\u001B[36mDEBUG: Evaluating all metrics for best clustering\u001B[0m\n",
      "\u001B[32mINFO: Evaluating all metrics took 17.23 seconds\u001B[0m\n",
      "\u001B[32mINFO: Clustering hyperparameter scan & metric evaluation took 49.11 seconds\u001B[0m\n",
      "\u001B[36mDEBUG: Starting from params: {'eps': 0.9508116687379163, 'min_samples': 1}\u001B[0m\n",
      "\u001B[32mINFO: Starting hyperparameter scan for clustering\u001B[0m\n",
      "\u001B[32mINFO: Completed 12 trials, pruned 0 trials\u001B[0m\n",
      "\u001B[36mDEBUG: Evaluating all metrics for best clustering\u001B[0m\n",
      "\u001B[32mINFO: Evaluating all metrics took 3.38 seconds\u001B[0m\n",
      "\u001B[32mINFO: Clustering hyperparameter scan & metric evaluation took 30.67 seconds\u001B[0m\n",
      "\u001B[36mDEBUG: Starting from params: {'eps': 0.955946552892901, 'min_samples': 1}\u001B[0m\n",
      "\u001B[32mINFO: Starting hyperparameter scan for clustering\u001B[0m\n",
      "\u001B[32mINFO: Completed 12 trials, pruned 0 trials\u001B[0m\n",
      "\u001B[36mDEBUG: Evaluating all metrics for best clustering\u001B[0m\n",
      "\u001B[32mINFO: Evaluating all metrics took 17.38 seconds\u001B[0m\n",
      "\u001B[32mINFO: Clustering hyperparameter scan & metric evaluation took 48.96 seconds\u001B[0m\n",
      "\u001B[36mDEBUG: Starting from params: {'eps': 0.955946552892901, 'min_samples': 1}\u001B[0m\n",
      "\u001B[32mINFO: Starting hyperparameter scan for clustering\u001B[0m\n",
      "\u001B[32mINFO: Completed 12 trials, pruned 0 trials\u001B[0m\n",
      "\u001B[36mDEBUG: Evaluating all metrics for best clustering\u001B[0m\n",
      "\u001B[32mINFO: Evaluating all metrics took 3.43 seconds\u001B[0m\n",
      "\u001B[32mINFO: Clustering hyperparameter scan & metric evaluation took 30.80 seconds\u001B[0m\n",
      "\u001B[36mDEBUG: Starting from params: {'eps': 0.9771335703747591, 'min_samples': 1}\u001B[0m\n",
      "\u001B[32mINFO: Starting hyperparameter scan for clustering\u001B[0m\n",
      "\u001B[32mINFO: Completed 12 trials, pruned 0 trials\u001B[0m\n",
      "\u001B[36mDEBUG: Evaluating all metrics for best clustering\u001B[0m\n",
      "\u001B[32mINFO: Evaluating all metrics took 17.34 seconds\u001B[0m\n",
      "\u001B[32mINFO: Clustering hyperparameter scan & metric evaluation took 49.27 seconds\u001B[0m\n",
      "\u001B[36mDEBUG: Starting from params: {'eps': 0.9524603640162759, 'min_samples': 1}\u001B[0m\n",
      "\u001B[32mINFO: Starting hyperparameter scan for clustering\u001B[0m\n",
      "\u001B[32mINFO: Completed 12 trials, pruned 0 trials\u001B[0m\n",
      "\u001B[36mDEBUG: Evaluating all metrics for best clustering\u001B[0m\n",
      "\u001B[32mINFO: Evaluating all metrics took 3.49 seconds\u001B[0m\n",
      "\u001B[32mINFO: Clustering hyperparameter scan & metric evaluation took 30.82 seconds\u001B[0m\n"
     ]
    }
   ],
   "source": [
    "for tpr in tprs:\n",
    "    trainable.trainer.model._gtcn.ec = PerfectEdgeClassification(tpr=tpr, tnr=1)\n",
    "    result = TCNTrainer.test_step(trainable.trainer)\n",
    "    all_results.append(result)"
   ],
   "metadata": {
    "collapsed": false
   }
  },
  {
   "cell_type": "code",
   "execution_count": 33,
   "outputs": [],
   "source": [
    "all_tc_dm = [c[\"tc_trk.double_majority\"] for c in all_results]\n",
    "all_pt09_dm = [c[\"trk.double_majority_pt0.9\"] for c in all_results]\n",
    "all_pt15_dm = [c[\"trk.double_majority_pt1.5\"] for c in all_results]"
   ],
   "metadata": {
    "collapsed": false
   }
  },
  {
   "cell_type": "code",
   "execution_count": 37,
   "outputs": [
    {
     "data": {
      "text/plain": "<matplotlib.legend.Legend at 0x14803ab57d30>"
     },
     "execution_count": 37,
     "metadata": {},
     "output_type": "execute_result"
    },
    {
     "data": {
      "text/plain": "<Figure size 640x480 with 1 Axes>",
      "image/png": "[encoded data removed]"
     },
     "metadata": {},
     "output_type": "display_data"
    }
   ],
   "source": [
    "from matplotlib import pyplot as plt\n",
    "\n",
    "plt.plot(tprs, all_tc_dm, label=\"Truth cut\")\n",
    "plt.plot(tprs, all_pt09_dm, label=\"No truth cuts, pt > 0.9\")\n",
    "plt.plot(tprs, all_pt15_dm, label=\"No truth cuts, pt > 1.5\")\n",
    "plt.xlabel(\"TPR\")\n",
    "plt.ylabel(\"Double majority\")\n",
    "plt.legend()"
   ],
   "metadata": {
    "collapsed": false
   }
  },
  {
   "cell_type": "code",
   "execution_count": 31,
   "outputs": [
    {
     "data": {
      "text/plain": "{'acc_pt1.5': 1.0,\n 'TPR_pt1.5': 1.0,\n 'TNR_pt1.5': 1.0,\n 'FPR_pt1.5': 0.0,\n 'FNR_pt1.5': 0.0,\n 'total': 0.6013830289244652,\n 'potential_attractive': 0.07452583936974407,\n 'potential_attractive_weighted': 0.07452583936974407,\n 'potential_repulsive': 1.0095536339282989,\n 'potential_repulsive_weighted': 0.5268547804714456,\n 'background': 1.0,\n 'background_weighted': 2.3636993448316496e-06,\n 'v_measure': 0.9270779764854101,\n 'homogeneity': 0.8821345383513877,\n 'completeness': 0.97732738633534,\n 'trk.n_particles': 227.59,\n 'trk.n_cleaned_clusters': 152.64,\n 'trk.perfect': 0.44236301142373724,\n 'trk.double_majority': 0.5716244350956515,\n 'trk.lhc': 0.7883573742155922,\n 'trk.fake_perfect': 0.23130284385995442,\n 'trk.fake_double_majority': 0.10204142018804017,\n 'trk.fake_lhc': 0.21164262578440787,\n 'trk.n_particles_pt0.5': 103.93,\n 'trk.n_cleaned_clusters_pt0.5': 76.7,\n 'trk.perfect_pt0.5': 0.5442722704275547,\n 'trk.double_majority_pt0.5': 0.6519702543476885,\n 'trk.lhc_pt0.5': 0.793542116913783,\n 'trk.fake_perfect_pt0.5': 0.19765508000982862,\n 'trk.fake_double_majority_pt0.5': 0.08995709608969492,\n 'trk.fake_lhc_pt0.5': 0.20645788308621696,\n 'trk.n_particles_pt0.9': 43.96,\n 'trk.n_cleaned_clusters_pt0.9': 32.98,\n 'trk.perfect_pt0.9': 0.5748663851796681,\n 'trk.double_majority_pt0.9': 0.6711853871380434,\n 'trk.lhc_pt0.9': 0.8070886302510316,\n 'trk.fake_perfect_pt0.9': 0.18021036775762161,\n 'trk.fake_double_majority_pt0.9': 0.08389136579924637,\n 'trk.fake_lhc_pt0.9': 0.19291136974896822,\n 'trk.n_particles_pt1.5': 15.67,\n 'trk.n_cleaned_clusters_pt1.5': 11.52,\n 'trk.perfect_pt1.5': 0.5698223939148235,\n 'trk.double_majority_pt1.5': 0.6603879071386254,\n 'trk.lhc_pt1.5': 0.8086269956393797,\n 'trk.fake_perfect_pt1.5': 0.1713041983454932,\n 'trk.fake_double_majority_pt1.5': 0.08073868512169113,\n 'trk.fake_lhc_pt1.5': 0.1913730043606205,\n 'adjusted_rand': 0.48876838031700826,\n 'fowlkes_mallows': 0.558572259227956,\n 'adjusted_mutual_info': 0.8337320396676021,\n 'best_dbscan_eps': 0.96076051228748,\n 'best_dbscan_min_samples': 1,\n 'tc_acc_pt1.5': 1.0,\n 'tc_TPR_pt1.5': 1.0,\n 'tc_TNR_pt1.5': 1.0,\n 'tc_FPR_pt1.5': 0.0,\n 'tc_FNR_pt1.5': 0.0,\n 'tc_total': 0.10931751891970634,\n 'tc_potential_attractive': 0.05639300862327218,\n 'tc_potential_attractive_weighted': 0.05639300862327218,\n 'tc_potential_repulsive': 0.10140885787084698,\n 'tc_potential_repulsive_weighted': 0.052922142772653995,\n 'tc_background': 1.0,\n 'tc_background_weighted': 2.3636993448316496e-06,\n 'tc_v_measure': 0.9858210158154587,\n 'tc_homogeneity': 0.9799056292076509,\n 'tc_completeness': 0.9921940893369006,\n 'tc_trk.n_particles': 41.6,\n 'tc_trk.n_cleaned_clusters': 39.3,\n 'tc_trk.perfect': 0.863575235762416,\n 'tc_trk.double_majority': 0.927755956596153,\n 'tc_trk.lhc': 0.9569585054800102,\n 'tc_trk.fake_perfect': 0.0860584847156531,\n 'tc_trk.fake_double_majority': 0.02187776388191616,\n 'tc_trk.fake_lhc': 0.04304149451998982,\n 'tc_trk.n_particles_pt0.5': 41.6,\n 'tc_trk.n_cleaned_clusters_pt0.5': 39.3,\n 'tc_trk.perfect_pt0.5': 0.863575235762416,\n 'tc_trk.double_majority_pt0.5': 0.927755956596153,\n 'tc_trk.lhc_pt0.5': 0.9569585054800102,\n 'tc_trk.fake_perfect_pt0.5': 0.0860584847156531,\n 'tc_trk.fake_double_majority_pt0.5': 0.02187776388191616,\n 'tc_trk.fake_lhc_pt0.5': 0.04304149451998982,\n 'tc_trk.n_particles_pt0.9': 41.6,\n 'tc_trk.n_cleaned_clusters_pt0.9': 39.3,\n 'tc_trk.perfect_pt0.9': 0.863575235762416,\n 'tc_trk.double_majority_pt0.9': 0.927755956596153,\n 'tc_trk.lhc_pt0.9': 0.9569585054800102,\n 'tc_trk.fake_perfect_pt0.9': 0.0860584847156531,\n 'tc_trk.fake_double_majority_pt0.9': 0.02187776388191616,\n 'tc_trk.fake_lhc_pt0.9': 0.04304149451998982,\n 'tc_trk.n_particles_pt1.5': 14.73,\n 'tc_trk.n_cleaned_clusters_pt1.5': 13.68,\n 'tc_trk.perfect_pt1.5': 0.8552163746462778,\n 'tc_trk.double_majority_pt1.5': 0.9122129212563658,\n 'tc_trk.lhc_pt1.5': 0.954724436325678,\n 'tc_trk.fake_perfect_pt1.5': 0.08185845810349444,\n 'tc_trk.fake_double_majority_pt1.5': 0.024861911493406313,\n 'tc_trk.fake_lhc_pt1.5': 0.04527556367432192,\n 'tc_adjusted_rand': 0.9323332754587801,\n 'tc_fowlkes_mallows': 0.9374395781984097,\n 'tc_adjusted_mutual_info': 0.9731642296587515,\n 'tc_best_dbscan_eps': 0.9599247213554087,\n 'tc_best_dbscan_min_samples': 1}"
     },
     "execution_count": 31,
     "metadata": {},
     "output_type": "execute_result"
    }
   ],
   "source": [
    "all_results[0]"
   ],
   "metadata": {
    "collapsed": false
   }
  },
  {
   "cell_type": "markdown",
   "source": [
    "## Plugging in pre-trained EC"
   ],
   "metadata": {
    "collapsed": false
   }
  },
  {
   "cell_type": "code",
   "execution_count": 10,
   "outputs": [],
   "source": [
    "from tune_fixed_ec_sectorized import load_ec"
   ],
   "metadata": {
    "collapsed": false
   }
  },
  {
   "cell_type": "code",
   "execution_count": 11,
   "outputs": [
    {
     "name": "stderr",
     "output_type": "stream",
     "text": [
      "\u001B[36mDEBUG: Got config\n",
      "{'batch_size': 1,\n",
      " 'focal_alpha': 0.7397820322968228,\n",
      " 'focal_gamma': 4,\n",
      " 'gnn_tracking_experiments_hash': '1c4385064cb8472d7070c92d38d2958ab96e7485',\n",
      " 'gnn_tracking_hash': 'd1903e7319ef1dc27f2632d27212ce802d1273e2',\n",
      " 'lr': 0.00010008424753725798,\n",
      " 'lw_edge': 1.0,\n",
      " 'm_L_ec': 7,\n",
      " 'm_alpha_ec': 0.5082980468439962,\n",
      " 'm_e_dim': 4,\n",
      " 'm_h_dim': 5,\n",
      " 'm_hidden_dim': 118,\n",
      " 'm_interaction_edge_hidden_dim': 85,\n",
      " 'm_interaction_node_hidden_dim': 94,\n",
      " 'n_graphs_test': 1,\n",
      " 'n_graphs_train': 1,\n",
      " 'n_graphs_val': 1,\n",
      " 'optimizer': 'adam',\n",
      " 'scheduler': None,\n",
      " 'sector': 9,\n",
      " 'test': False,\n",
      " 'training_pt_thld': 0.0,\n",
      " 'training_without_noise': False,\n",
      " 'training_without_non_reconstructable': False}\u001B[0m\n",
      "\u001B[32mINFO: Loading data to cpu memory\u001B[0m\n",
      "\u001B[32mINFO: Loading 3 graphs (out of 371 available).\u001B[0m\n",
      "\u001B[36mDEBUG: Parameters for data loaders: {'batch_size': 1, 'num_workers': 12}\u001B[0m\n",
      "\u001B[32mINFO: Using device cpu\u001B[0m\n"
     ]
    }
   ],
   "source": [
    "ec = load_ec(\"ec-s9\", \"009d\", config_update={\"n_graphs_train\": 1, \"n_graphs_val\": 1, \"n_graphs_test\": 1})"
   ],
   "metadata": {
    "collapsed": false
   }
  },
  {
   "cell_type": "code",
   "execution_count": 15,
   "outputs": [],
   "source": [
    "results = {}"
   ],
   "metadata": {
    "collapsed": false
   }
  },
  {
   "cell_type": "code",
   "execution_count": 27,
   "outputs": [],
   "source": [
    "import numpy as np\n",
    "\n",
    "thlds = np.linspace(0.3, 0.6, 6)\n"
   ],
   "metadata": {
    "collapsed": false
   }
  },
  {
   "cell_type": "code",
   "execution_count": 28,
   "outputs": [],
   "source": [
    "# cfs = trainable.trainer.clustering_functions"
   ],
   "metadata": {
    "collapsed": false
   }
  },
  {
   "cell_type": "code",
   "execution_count": 29,
   "outputs": [],
   "source": [
    "# trainable.trainer.clustering_functions = cfs"
   ],
   "metadata": {
    "collapsed": false
   }
  },
  {
   "cell_type": "code",
   "execution_count": 30,
   "outputs": [],
   "source": [
    "trainer = trainable.trainer"
   ],
   "metadata": {
    "collapsed": false
   }
  },
  {
   "cell_type": "code",
   "execution_count": 31,
   "outputs": [
    {
     "name": "stderr",
     "output_type": "stream",
     "text": [
      "\u001B[36mDEBUG: Starting from params: {'eps': 0.9540332764265923, 'min_samples': 1}\u001B[0m\n",
      "\u001B[32mINFO: Starting hyperparameter scan for clustering\u001B[0m\n",
      "\u001B[32mINFO: Completed 12 trials, pruned 0 trials\u001B[0m\n",
      "\u001B[36mDEBUG: Evaluating all metrics for best clustering\u001B[0m\n",
      "\u001B[32mINFO: Evaluating all metrics took 29.57 seconds\u001B[0m\n",
      "\u001B[32mINFO: Clustering hyperparameter scan & metric evaluation took 59.64 seconds\u001B[0m\n",
      "\u001B[36mDEBUG: Starting from params: {'eps': 0.9509683884557767, 'min_samples': 1}\u001B[0m\n",
      "\u001B[32mINFO: Starting hyperparameter scan for clustering\u001B[0m\n",
      "\u001B[32mINFO: Completed 12 trials, pruned 0 trials\u001B[0m\n",
      "\u001B[36mDEBUG: Evaluating all metrics for best clustering\u001B[0m\n",
      "\u001B[32mINFO: Evaluating all metrics took 27.58 seconds\u001B[0m\n",
      "\u001B[32mINFO: Clustering hyperparameter scan & metric evaluation took 56.95 seconds\u001B[0m\n",
      "\u001B[36mDEBUG: Starting from params: {'eps': 0.9556914820242861, 'min_samples': 1}\u001B[0m\n",
      "\u001B[32mINFO: Starting hyperparameter scan for clustering\u001B[0m\n",
      "\u001B[32mINFO: Completed 12 trials, pruned 0 trials\u001B[0m\n",
      "\u001B[36mDEBUG: Evaluating all metrics for best clustering\u001B[0m\n",
      "\u001B[32mINFO: Evaluating all metrics took 21.83 seconds\u001B[0m\n",
      "\u001B[32mINFO: Clustering hyperparameter scan & metric evaluation took 48.88 seconds\u001B[0m\n",
      "\u001B[36mDEBUG: Starting from params: {'eps': 0.9556914820242861, 'min_samples': 1}\u001B[0m\n",
      "\u001B[32mINFO: Starting hyperparameter scan for clustering\u001B[0m\n",
      "\u001B[32mINFO: Completed 12 trials, pruned 0 trials\u001B[0m\n",
      "\u001B[36mDEBUG: Evaluating all metrics for best clustering\u001B[0m\n",
      "\u001B[32mINFO: Evaluating all metrics took 8.79 seconds\u001B[0m\n",
      "\u001B[32mINFO: Clustering hyperparameter scan & metric evaluation took 35.51 seconds\u001B[0m\n",
      "\u001B[36mDEBUG: Starting from params: {'eps': 0.9556914820242861, 'min_samples': 1}\u001B[0m\n",
      "\u001B[32mINFO: Starting hyperparameter scan for clustering\u001B[0m\n",
      "\u001B[32mINFO: Completed 12 trials, pruned 0 trials\u001B[0m\n",
      "\u001B[36mDEBUG: Evaluating all metrics for best clustering\u001B[0m\n",
      "\u001B[32mINFO: Evaluating all metrics took 8.18 seconds\u001B[0m\n",
      "\u001B[32mINFO: Clustering hyperparameter scan & metric evaluation took 34.40 seconds\u001B[0m\n",
      "\u001B[36mDEBUG: Starting from params: {'eps': 0.9547464369807251, 'min_samples': 1}\u001B[0m\n",
      "\u001B[32mINFO: Starting hyperparameter scan for clustering\u001B[0m\n",
      "\u001B[32mINFO: Completed 12 trials, pruned 0 trials\u001B[0m\n",
      "\u001B[36mDEBUG: Evaluating all metrics for best clustering\u001B[0m\n",
      "\u001B[32mINFO: Evaluating all metrics took 8.31 seconds\u001B[0m\n",
      "\u001B[32mINFO: Clustering hyperparameter scan & metric evaluation took 35.74 seconds\u001B[0m\n"
     ]
    }
   ],
   "source": [
    "for thld in thlds:\n",
    "    trainer.model._gtcn.threshold = thld\n",
    "    trainer.ec_threshold = thld\n",
    "    results[thld] = trainer.single_test_step(thld=thld, val=True)"
   ],
   "metadata": {
    "collapsed": false
   }
  },
  {
   "cell_type": "code",
   "execution_count": 32,
   "outputs": [],
   "source": [
    "all_thlds = sorted(results)\n",
    "tprs = [results[k][\"TPR_pt0.9\"] for k in all_thlds]\n",
    "tnrs = [results[k][\"TNR_pt0.9\"] for k in all_thlds]\n",
    "dm09 = [results[k][\"trk.double_majority_pt0.9\"] for k in all_thlds]"
   ],
   "metadata": {
    "collapsed": false
   }
  },
  {
   "cell_type": "code",
   "execution_count": 33,
   "outputs": [
    {
     "data": {
      "text/plain": "{'acc_pt0.9': 0.5084339631823195,\n 'TPR_pt0.9': 0.9995997252373828,\n 'TNR_pt0.9': 0.498238233170067,\n 'FPR_pt0.9': 0.501761766829933,\n 'FNR_pt0.9': 0.00040027476261724946,\n 'roc_auc_pt0.9': 0.9790373789870327,\n 'roc_auc_5FPR_pt0.9': 0.8858868295728267,\n 'roc_auc_10FPR_pt0.9': 0.9157297872423211,\n 'roc_auc_20FPR_pt0.9': 0.945992505966774,\n 'acc_pt1.5': 0.5155822904854326,\n 'TPR_pt1.5': 0.9998629941487084,\n 'TNR_pt1.5': 0.505504695536507,\n 'FPR_pt1.5': 0.494495304463493,\n 'FNR_pt1.5': 0.00013700585129156555,\n 'roc_auc_pt1.5': 0.9792129423071821,\n 'roc_auc_5FPR_pt1.5': 0.881750682227837,\n 'roc_auc_10FPR_pt1.5': 0.9136655868892266,\n 'roc_auc_20FPR_pt1.5': 0.9457065613628327,\n 'total': 168368561.88,\n 'potential_attractive': 168368561.88,\n 'potential_attractive_weighted': 168368561.88,\n 'potential_repulsive': 0.33569890543818476,\n 'potential_repulsive_weighted': 0.1751908637492961,\n 'background': 1.0,\n 'background_weighted': 2.3636993448316496e-06,\n 'v_measure': 0.8702581614265028,\n 'homogeneity': 0.9060327931188035,\n 'completeness': 0.8374666445897234,\n 'trk.n_particles': 227.59,\n 'trk.n_cleaned_clusters': 53.61,\n 'trk.perfect': 0.04961326019324803,\n 'trk.double_majority': 0.11654813456451071,\n 'trk.lhc': 0.49878129098537355,\n 'trk.fake_perfect': 0.1873955566720741,\n 'trk.fake_double_majority': 0.12046068230081147,\n 'trk.fake_lhc': 0.5012187090146264,\n 'trk.n_particles_pt0.5': 103.93,\n 'trk.n_cleaned_clusters_pt0.5': 24.04,\n 'trk.perfect_pt0.5': 0.055214414666617945,\n 'trk.double_majority_pt0.5': 0.1226781924879723,\n 'trk.lhc_pt0.5': 0.49852023771614445,\n 'trk.fake_perfect_pt0.5': 0.1773550807872504,\n 'trk.fake_double_majority_pt0.5': 0.10989130296589603,\n 'trk.fake_lhc_pt0.5': 0.5014797622838555,\n 'trk.n_particles_pt0.9': 43.96,\n 'trk.n_cleaned_clusters_pt0.9': 9.47,\n 'trk.perfect_pt0.9': 0.052760446438621454,\n 'trk.double_majority_pt0.9': 0.11575957588329029,\n 'trk.lhc_pt0.9': 0.49550809377241267,\n 'trk.fake_perfect_pt0.9': 0.1641983570785567,\n 'trk.fake_double_majority_pt0.9': 0.10119922763388789,\n 'trk.fake_lhc_pt0.9': 0.5044919062275873,\n 'trk.n_particles_pt1.5': 15.67,\n 'trk.n_cleaned_clusters_pt1.5': 3.42,\n 'trk.perfect_pt1.5': 0.051395969714320755,\n 'trk.double_majority_pt1.5': 0.11561890403261511,\n 'trk.lhc_pt1.5': 0.4850041771094402,\n 'trk.fake_perfect_pt1.5': 0.17791936713459594,\n 'trk.fake_double_majority_pt1.5': 0.11369643281630154,\n 'trk.fake_lhc_pt1.5': 0.5149958228905598,\n 'adjusted_rand': 0.3903012758670521,\n 'fowlkes_mallows': 0.4164705536521555,\n 'adjusted_mutual_info': 0.5902558941999567,\n 'best_dbscan_eps': 0.9610243680459722,\n 'best_dbscan_min_samples': 1}"
     },
     "execution_count": 33,
     "metadata": {},
     "output_type": "execute_result"
    }
   ],
   "source": [
    "results[all_thlds[0]]"
   ],
   "metadata": {
    "collapsed": false
   }
  },
  {
   "cell_type": "code",
   "execution_count": 34,
   "outputs": [
    {
     "data": {
      "text/plain": "<matplotlib.legend.Legend at 0x149a0f6bba90>"
     },
     "execution_count": 34,
     "metadata": {},
     "output_type": "execute_result"
    },
    {
     "data": {
      "text/plain": "<Figure size 640x480 with 1 Axes>",
      "image/png": "[encoded data removed]"
     },
     "metadata": {},
     "output_type": "display_data"
    }
   ],
   "source": [
    "from matplotlib import pyplot as plt\n",
    "\n",
    "fig, ax = plt.subplots()\n",
    "ax.plot(all_thlds, tprs, label=\"TPR 09\", marker=\"o\")\n",
    "ax.plot(all_thlds, tnrs, label=\"TNR 09\", marker=\"o\")\n",
    "ax.plot(all_thlds, dm09, label=\"DM 09\", marker=\"o\")\n",
    "ax.legend()"
   ],
   "metadata": {
    "collapsed": false
   }
  },
  {
   "cell_type": "code",
   "execution_count": null,
   "outputs": [],
   "source": [],
   "metadata": {
    "collapsed": false
   }
  }
 ],
 "metadata": {
  "kernelspec": {
   "display_name": "Python 3",
   "language": "python",
   "name": "python3"
  },
  "language_info": {
   "codemirror_mode": {
    "name": "ipython",
    "version": 2
   },
   "file_extension": ".py",
   "mimetype": "text/x-python",
   "name": "python",
   "nbconvert_exporter": "python",
   "pygments_lexer": "ipython2",
   "version": "2.7.6"
  }
 },
 "nbformat": 4,
 "nbformat_minor": 0
}
