{
 "cells": [
  {
   "cell_type": "code",
   "execution_count": 1,
   "outputs": [],
   "source": [
    "from importlib import reload\n",
    "import gnn_tracking_hpo\n",
    "reload(gnn_tracking_hpo)\n",
    "\n",
    "from gnn_tracking_hpo.util.paths import add_scripts_path\n",
    "\n",
    "add_scripts_path()"
   ],
   "metadata": {
    "collapsed": false
   }
  },
  {
   "cell_type": "code",
   "execution_count": 2,
   "outputs": [],
   "source": [
    "from tune_fixed_ec_sectorized import load_ec, PretrainedECTrainable"
   ],
   "metadata": {
    "collapsed": false
   }
  },
  {
   "cell_type": "code",
   "execution_count": 3,
   "outputs": [
    {
     "name": "stderr",
     "output_type": "stream",
     "text": [
      "\u001B[36mDEBUG: Got config\n",
      "{'batch_size': 1,\n",
      " 'ec_pt_thld': 0.9,\n",
      " 'focal_alpha': 0.4113666449910418,\n",
      " 'focal_gamma': 1,\n",
      " 'gnn_tracking_experiments_hash': 'fa26f12ec8c2ca29540c0f4ab8f4061b563eceb2',\n",
      " 'gnn_tracking_hash': 'c322cac8b366756afd84432c0cd7e64ef49ff239',\n",
      " 'lr': 0.0005929964890981143,\n",
      " 'lw_edge': 1.0,\n",
      " 'm_L_ec': 3,\n",
      " 'm_alpha_ec': 0.8626651724747356,\n",
      " 'm_e_dim': 4,\n",
      " 'm_h_dim': 5,\n",
      " 'm_hidden_dim': 208,\n",
      " 'm_interaction_edge_hidden_dim': 82,\n",
      " 'm_interaction_node_hidden_dim': 35,\n",
      " 'n_graphs_test': 1,\n",
      " 'n_graphs_train': 1,\n",
      " 'n_graphs_val': 100,\n",
      " 'optimizer': 'adam',\n",
      " 'scheduler': None,\n",
      " 'sector': 9,\n",
      " 'test': False,\n",
      " 'training_pt_thld': 0.0,\n",
      " 'training_without_noise': False,\n",
      " 'training_without_non_reconstructable': False}\u001B[0m\n",
      "\u001B[32mINFO: Loading data to cpu memory\u001B[0m\n",
      "\u001B[32mINFO: Loading 102 graphs (out of 371 available).\u001B[0m\n",
      "\u001B[36mDEBUG: Parameters for data loaders: {'batch_size': 1, 'num_workers': 12}\u001B[0m\n",
      "\u001B[32mINFO: Using device cpu\u001B[0m\n"
     ]
    }
   ],
   "source": [
    "from tune_ec_sectorized import ECTrainable\n",
    "from gnn_tracking_hpo.util.paths import find_checkpoints, get_config\n",
    "\n",
    "d = \"ec-s9-pthld9\"\n",
    "hash = \"ce8de\"\n",
    "checkpoint_path = find_checkpoints(d, hash)[-1]\n",
    "config = get_config(d, hash)\n",
    "config.update({\"n_graphs_train\": 1, \"n_graphs_val\": 100, \"n_graphs_test\": 1})\n",
    "trainable = ECTrainable(config)\n",
    "trainable.load_checkpoint(checkpoint_path, device=\"cpu\")"
   ],
   "metadata": {
    "collapsed": false
   }
  },
  {
   "cell_type": "code",
   "execution_count": 4,
   "outputs": [],
   "source": [
    "from gnn_tracking.training.tcn_trainer import TCNTrainer\n",
    "\n",
    "trainer: TCNTrainer = trainable.trainer"
   ],
   "metadata": {
    "collapsed": false
   }
  },
  {
   "cell_type": "code",
   "execution_count": 110,
   "outputs": [],
   "source": [
    "import torch\n",
    "\n",
    "trainer.model.eval()\n",
    "\n",
    "sel = 3\n",
    "with torch.no_grad():\n",
    "    loader = trainer.val_loader\n",
    "    for idx, data in enumerate(loader):\n",
    "        if idx < sel:\n",
    "            continue\n",
    "        model_output = trainer.evaluate_model(data, mask_pids_reco=False)\n",
    "        if idx == sel:\n",
    "            break"
   ],
   "metadata": {
    "collapsed": false
   }
  },
  {
   "cell_type": "code",
   "execution_count": 111,
   "outputs": [],
   "source": [
    "import numpy as np\n"
   ],
   "metadata": {
    "collapsed": false
   }
  },
  {
   "cell_type": "code",
   "execution_count": 112,
   "outputs": [],
   "source": [
    "w = model_output[\"w\"]"
   ],
   "metadata": {
    "collapsed": false
   }
  },
  {
   "cell_type": "code",
   "execution_count": 113,
   "outputs": [],
   "source": [
    "edge_index = model_output[\"edge_index\"]"
   ],
   "metadata": {
    "collapsed": false
   }
  },
  {
   "cell_type": "code",
   "execution_count": 114,
   "outputs": [],
   "source": [
    "from gnn_tracking.metrics.losses import falsify_low_pt_edges\n",
    "\n",
    "fixed_y = falsify_low_pt_edges(y=model_output[\"y\"], edge_index=edge_index, pt=model_output[\"pt\"], pt_thld=0.9)"
   ],
   "metadata": {
    "collapsed": false
   }
  },
  {
   "cell_type": "code",
   "execution_count": 115,
   "outputs": [],
   "source": [
    "thld = 0.5"
   ],
   "metadata": {
    "collapsed": false
   }
  },
  {
   "cell_type": "code",
   "execution_count": 116,
   "outputs": [],
   "source": [
    "from gnn_tracking.metrics.binary_classification import BinaryClassificationStats"
   ],
   "metadata": {
    "collapsed": false
   }
  },
  {
   "cell_type": "code",
   "execution_count": null,
   "outputs": [],
   "source": [],
   "metadata": {
    "collapsed": false
   }
  },
  {
   "cell_type": "code",
   "execution_count": 4,
   "outputs": [],
   "source": [
    "import torch"
   ],
   "metadata": {
    "collapsed": false
   }
  },
  {
   "cell_type": "code",
   "execution_count": 31,
   "outputs": [],
   "source": [
    "def get_unconnected_node_mask(*, n_nodes, edge_index, min_connections=3):\n",
    "    \"\"\"Returns a mask where all nodes that do not have at least\n",
    "    `min_connections edges are masked.\n",
    "\n",
    "    Args:\n",
    "        n_nodes: Total number of hits\n",
    "        edge_index: Already masked\n",
    "        min_connection: Minimal number of edges that a node should have\n",
    "\n",
    "    Returns:\n",
    "        Mask for hits\n",
    "    \"\"\"\n",
    "    if min_connections <= 0:\n",
    "        raise ValueError(\n",
    "            \"This function does not work for min_connections <= 0.\"\n",
    "        )\n",
    "    node_count_indices, node_counts = torch.unique(edge_index.flatten(), return_counts=True)\n",
    "    node_mask = node_counts >= min_connections\n",
    "    allowed_node_indices = node_count_indices[node_mask]\n",
    "    node_indices = torch.arange(n_nodes, device=edge_index.device)\n",
    "    assert len(node_indices) == n_nodes > len(node_count_indices)\n",
    "    assert n_nodes > node_count_indices.max()\n",
    "    return torch.isin(node_indices, allowed_node_indices)"
   ],
   "metadata": {
    "collapsed": false
   }
  },
  {
   "cell_type": "code",
   "execution_count": 32,
   "outputs": [],
   "source": [
    "assert (get_unconnected_node_mask(n_nodes=5, edge_index=torch.Tensor([\n",
    "    [1, 2],\n",
    "    [2, 3]\n",
    "],)) == torch.Tensor([False, False, False, False, False])).all()\n",
    "\n",
    "assert (get_unconnected_node_mask(n_nodes=5, edge_index=torch.Tensor([\n",
    "    [1, 2],\n",
    "    [2, 3]\n",
    "]), min_connections=1) == torch.Tensor([False, True, True, True, False])).all()\n"
   ],
   "metadata": {
    "collapsed": false
   }
  },
  {
   "cell_type": "code",
   "execution_count": 125,
   "outputs": [],
   "source": [
    "def get_frac_removed_nodes(edge_index, w, thld):\n",
    "    edge_mask = w > thld\n",
    "    masked_edge_indices = edge_index[:, edge_mask]\n",
    "    ei_indices, ei_counts = np.unique(masked_edge_indices.flatten(), return_counts=True)\n",
    "    unique_ei_counts, ei_count_counts = np.unique(ei_counts, return_counts=True)\n",
    "    assert ei_count_counts.sum() == len(ei_indices)\n",
    "    return ei_count_counts[unique_ei_counts <= 2].sum() / ei_count_counts.sum()"
   ],
   "metadata": {
    "collapsed": false
   }
  },
  {
   "cell_type": "code",
   "execution_count": 126,
   "outputs": [],
   "source": [
    "thlds = np.linspace(0, 0.2, 500)\n",
    "f = [get_frac_removed_nodes(edge_index, w, thld) for thld in thlds]\n",
    "\n",
    "def getter(bcs):\n",
    "    return (bcs.TP + bcs.FP)/len(bcs._y), bcs.TPR, bcs.TNR\n",
    "\n",
    "items = np.array([getter(BinaryClassificationStats(output=w, y=fixed_y.long(), thld=thld)) for thld in thlds]).T"
   ],
   "metadata": {
    "collapsed": false
   }
  },
  {
   "cell_type": "code",
   "execution_count": 127,
   "outputs": [
    {
     "data": {
      "text/plain": "<matplotlib.legend.Legend at 0x14aa0510e770>"
     },
     "execution_count": 127,
     "metadata": {},
     "output_type": "execute_result"
    },
    {
     "data": {
      "text/plain": "<Figure size 640x480 with 1 Axes>",
      "image/png": "[encoded data removed]"
     },
     "metadata": {},
     "output_type": "display_data"
    }
   ],
   "source": [
    "from matplotlib import pyplot as plt\n",
    "fig, ax = plt.subplots()\n",
    "ax.plot(thlds, f, label=\"Frac removed\")\n",
    "ax.plot(thlds, items[1], label=\"TPR\")\n",
    "ax.plot(thlds, items[2], label=\"TNR\")\n",
    "ax.plot(thlds, items[0], label=\"Frac edges true\")\n",
    "ax.legend()"
   ],
   "metadata": {
    "collapsed": false
   }
  },
  {
   "cell_type": "code",
   "execution_count": 120,
   "outputs": [
    {
     "data": {
      "text/plain": "0.04379185986604843"
     },
     "execution_count": 120,
     "metadata": {},
     "output_type": "execute_result"
    }
   ],
   "source": [
    "get_frac_removed_nodes(edge_index, w, 0.01)"
   ],
   "metadata": {
    "collapsed": false
   }
  }
 ],
 "metadata": {
  "kernelspec": {
   "display_name": "Python 3",
   "language": "python",
   "name": "python3"
  },
  "language_info": {
   "codemirror_mode": {
    "name": "ipython",
    "version": 2
   },
   "file_extension": ".py",
   "mimetype": "text/x-python",
   "name": "python",
   "nbconvert_exporter": "python",
   "pygments_lexer": "ipython2",
   "version": "2.7.6"
  }
 },
 "nbformat": 4,
 "nbformat_minor": 0
}
