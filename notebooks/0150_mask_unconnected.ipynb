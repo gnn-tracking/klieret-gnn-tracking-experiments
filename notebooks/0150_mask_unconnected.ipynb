{
 "cells": [
  {
   "cell_type": "code",
   "execution_count": 3,
   "outputs": [],
   "source": [
    "from importlib import reload\n",
    "import gnn_tracking_hpo\n",
    "reload(gnn_tracking_hpo)\n",
    "\n",
    "from gnn_tracking_hpo.util.paths import add_scripts_path\n",
    "\n",
    "add_scripts_path()\n",
    "\n",
    "from tune_ec import ECTrainable\n",
    "from gnn_tracking_hpo.util.paths import find_checkpoints, get_config"
   ],
   "metadata": {
    "collapsed": false
   }
  },
  {
   "cell_type": "code",
   "execution_count": 4,
   "outputs": [
    {
     "name": "stderr",
     "output_type": "stream",
     "text": [
      "\u001B[36mDEBUG: Loading config from /home/kl5675/ray_results/ec/ECTrainable_b7b3f0d4_38_batch_size=5,ec_pt_thld=0.7711,focal_alpha=0.3824,focal_gamma=2.5581,gnn_tracking_experiments_hash=50f90c1_2023-01-24_03-06-50/params.json\u001B[0m\n",
      "\u001B[36mDEBUG: Got config\n",
      "{'batch_size': 5,\n",
      " 'ec_pt_thld': 0.7710612479097784,\n",
      " 'focal_alpha': 0.3824243521658318,\n",
      " 'focal_gamma': 2.5581270116033084,\n",
      " 'gnn_tracking_experiments_hash': '50f90c1b6d806c3bce012abda77e6310b3423f41',\n",
      " 'gnn_tracking_hash': '525e92fe1359fbff371f73c405c37b6d6ec22b32',\n",
      " 'lr': 0.0004929040972127238,\n",
      " 'lw_edge': 1.0,\n",
      " 'm_L_ec': 6,\n",
      " 'm_alpha_ec': 0.7244467015688769,\n",
      " 'm_e_dim': 4,\n",
      " 'm_h_dim': 5,\n",
      " 'm_hidden_dim': 176,\n",
      " 'm_interaction_edge_hidden_dim': 96,\n",
      " 'm_interaction_node_hidden_dim': 46,\n",
      " 'n_graphs_test': 1,\n",
      " 'n_graphs_train': 1,\n",
      " 'n_graphs_val': 100,\n",
      " 'optimizer': 'adam',\n",
      " 'scheduler': None,\n",
      " 'sector': None,\n",
      " 'test': False,\n",
      " 'training_pt_thld': 0.09467829745642475,\n",
      " 'training_without_noise': False,\n",
      " 'training_without_non_reconstructable': False}\u001B[0m\n",
      "\u001B[36mDEBUG: Getting loaders\u001B[0m\n",
      "\u001B[36mDEBUG: Loading graphs from /tigress/jdezoort/object_condensation/graphs\u001B[0m\n",
      "\u001B[32mINFO: Loading data to cpu memory\u001B[0m\n",
      "\u001B[32mINFO: Loading 102 graphs (out of 12480 available).\u001B[0m\n",
      "\u001B[36mDEBUG: Parameters for data loaders: {'batch_size': 5, 'num_workers': 12}\u001B[0m\n",
      "/scratch/gpfs/kl5675/miniconda3/envs/gnn/lib/python3.10/site-packages/torch/utils/data/dataloader.py:557: UserWarning: This DataLoader will create 12 worker processes in total. Our suggested max number of worker in current system is 4, which is smaller than what this DataLoader is going to create. Please be aware that excessive worker creation might get DataLoader running slow or even freeze, lower the worker number to avoid potential slowness/freeze if necessary.\n",
      "  warnings.warn(_create_warning_msg(\n",
      "\u001B[32mINFO: Using device cpu\u001B[0m\n",
      "\u001B[36mDEBUG: Loading checkpoint from /home/kl5675/ray_results/ec/ECTrainable_b7b3f0d4_38_batch_size=5,ec_pt_thld=0.7711,focal_alpha=0.3824,focal_gamma=2.5581,gnn_tracking_experiments_hash=50f90c1_2023-01-24_03-06-50/checkpoint_000012/checkpoint.pt\u001B[0m\n"
     ]
    }
   ],
   "source": [
    "d = \"ec\"\n",
    "hash = \"b7b3f0d4\"\n",
    "checkpoint_path = find_checkpoints(d, hash)[-1]\n",
    "config = get_config(d, hash)\n",
    "config.update({\"n_graphs_train\": 1, \"n_graphs_val\": 100, \"n_graphs_test\": 1})\n",
    "trainable = ECTrainable(config)\n",
    "trainable.load_checkpoint(checkpoint_path, device=\"cpu\")"
   ],
   "metadata": {
    "collapsed": false
   }
  },
  {
   "cell_type": "code",
   "execution_count": 5,
   "outputs": [],
   "source": [
    "from gnn_tracking.training.tcn_trainer import TCNTrainer\n",
    "\n",
    "trainer: TCNTrainer = trainable.trainer"
   ],
   "metadata": {
    "collapsed": false
   }
  },
  {
   "cell_type": "code",
   "execution_count": 6,
   "outputs": [],
   "source": [
    "import torch\n",
    "\n",
    "trainer.model.eval()\n",
    "\n",
    "sel = 3\n",
    "with torch.no_grad():\n",
    "    loader = trainer.val_loader\n",
    "    for idx, data in enumerate(loader):\n",
    "        if idx < sel:\n",
    "            continue\n",
    "        model_output = trainer.evaluate_model(data, mask_pids_reco=False)\n",
    "        if idx == sel:\n",
    "            break"
   ],
   "metadata": {
    "collapsed": false
   }
  },
  {
   "cell_type": "code",
   "execution_count": 7,
   "outputs": [
    {
     "data": {
      "text/plain": "torch.Size([12510, 6])"
     },
     "execution_count": 7,
     "metadata": {},
     "output_type": "execute_result"
    }
   ],
   "source": [
    "data.x.shape"
   ],
   "metadata": {
    "collapsed": false
   }
  },
  {
   "cell_type": "code",
   "execution_count": 8,
   "outputs": [
    {
     "data": {
      "text/plain": "12510"
     },
     "execution_count": 8,
     "metadata": {},
     "output_type": "execute_result"
    }
   ],
   "source": [
    "len(data.x)"
   ],
   "metadata": {
    "collapsed": false
   }
  },
  {
   "cell_type": "code",
   "execution_count": 3,
   "outputs": [],
   "source": [
    "def has_breakpoint():\n",
    "    breakpoint()\n",
    "    pass"
   ],
   "metadata": {
    "collapsed": false
   }
  },
  {
   "cell_type": "code",
   "execution_count": 5,
   "outputs": [
    {
     "name": "stdout",
     "output_type": "stream",
     "text": [
      "> \u001B[0;32m/tmp/ipykernel_2283602/4292873340.py\u001B[0m(3)\u001B[0;36m<module>\u001B[0;34m()\u001B[0m\n",
      "\u001B[0;32m      1 \u001B[0;31m\u001B[0;31m# pydev_util_command\u001B[0m\u001B[0;34m\u001B[0m\u001B[0;34m\u001B[0m\u001B[0m\n",
      "\u001B[0m\u001B[0;32m      2 \u001B[0;31m\u001B[0;34m\u001B[0m\u001B[0m\n",
      "\u001B[0m\u001B[0;32m----> 3 \u001B[0;31m\u001B[0;32mimport\u001B[0m \u001B[0mpydev_jupyter_vars\u001B[0m\u001B[0;34m\u001B[0m\u001B[0;34m\u001B[0m\u001B[0m\n",
      "\u001B[0m\u001B[0;32m      4 \u001B[0;31m\u001B[0mpydev_jupyter_vars\u001B[0m\u001B[0;34m.\u001B[0m\u001B[0mget_frame\u001B[0m\u001B[0;34m(\u001B[0m\u001B[0;36m0\u001B[0m\u001B[0;34m)\u001B[0m\u001B[0;34m\u001B[0m\u001B[0;34m\u001B[0m\u001B[0m\n",
      "\u001B[0m\n"
     ]
    }
   ],
   "source": [
    "%debug\n",
    "has_breakpoint()"
   ],
   "metadata": {
    "collapsed": false
   }
  },
  {
   "cell_type": "code",
   "execution_count": 9,
   "outputs": [],
   "source": [
    "import numpy as np\n"
   ],
   "metadata": {
    "collapsed": false
   }
  },
  {
   "cell_type": "code",
   "execution_count": 10,
   "outputs": [],
   "source": [
    "w = model_output[\"w\"]"
   ],
   "metadata": {
    "collapsed": false
   }
  },
  {
   "cell_type": "code",
   "execution_count": 11,
   "outputs": [],
   "source": [
    "edge_index = model_output[\"edge_index\"]"
   ],
   "metadata": {
    "collapsed": false
   }
  },
  {
   "cell_type": "code",
   "execution_count": 12,
   "outputs": [],
   "source": [
    "from gnn_tracking.metrics.losses import falsify_low_pt_edges\n",
    "\n",
    "fixed_y = falsify_low_pt_edges(y=model_output[\"y\"], edge_index=edge_index, pt=model_output[\"pt\"], pt_thld=0.9)"
   ],
   "metadata": {
    "collapsed": false
   }
  },
  {
   "cell_type": "code",
   "execution_count": 14,
   "outputs": [],
   "source": [
    "from gnn_tracking.metrics.binary_classification import BinaryClassificationStats"
   ],
   "metadata": {
    "collapsed": false
   }
  },
  {
   "cell_type": "code",
   "execution_count": 79,
   "outputs": [],
   "source": [
    "from torch import Tensor as T\n",
    "\n",
    "def get_edge_mask_from_node_mask(node_mask: T, edge_index: T) -> T:\n",
    "    return node_mask[edge_index[0].long()] & node_mask[edge_index[1].long()]\n"
   ],
   "metadata": {
    "collapsed": false
   }
  },
  {
   "cell_type": "code",
   "execution_count": 84,
   "outputs": [],
   "source": [
    "# from gnn_tracking.utils.graph_masks import get_edge_mask_from_node_mask\n",
    "\n",
    "\n",
    "def get_n_unconnected(\n",
    "    pts: torch.Tensor, edge_index: torch.Tensor, pt_thld=0.\n",
    ") -> int:\n",
    "    mask = pts > pt_thld\n",
    "    n_nodes = mask.sum()\n",
    "    node_count_indices = torch.unique(\n",
    "        edge_index[:, get_edge_mask_from_node_mask(mask, edge_index)].flatten()\n",
    "    )\n",
    "    return n_nodes - len(node_count_indices)"
   ],
   "metadata": {
    "collapsed": false
   }
  },
  {
   "cell_type": "code",
   "execution_count": 86,
   "outputs": [
    {
     "data": {
      "text/plain": "tensor(0.3418)"
     },
     "execution_count": 86,
     "metadata": {},
     "output_type": "execute_result"
    }
   ],
   "source": [
    "get_n_unconnected(data.pt, data.edge_index[:, w > 0.5], 0.9) / (data.pt > 0.9).sum()"
   ],
   "metadata": {
    "collapsed": false
   }
  },
  {
   "cell_type": "code",
   "execution_count": 89,
   "outputs": [],
   "source": [
    "thlds = np.linspace(0, 0.4, 20)\n",
    "f = [get_n_unconnected(data.pt, edge_index[:, w>thld]) / len(data.x) for thld in thlds]\n",
    "f5 = [get_n_unconnected(data.pt, edge_index[:, w>thld], 0.5) / (data.pt > 0.5).sum() for thld in thlds]\n",
    "f9 = [get_n_unconnected(data.pt, edge_index[:, w>thld], 0.9) / (data.pt > 0.9).sum() for thld in thlds]\n",
    "f15 = [get_n_unconnected(data.pt, edge_index[:, w>thld], 1.5) / (data.pt > 1.5).sum() for thld in thlds]\n",
    "\n",
    "\n",
    "def getter(bcs):\n",
    "    # return (bcs.TP + bcs.FP)/len(bcs._y), bcs.TPR, bcs.TNR\n",
    "    return bcs.TPR, bcs.FPR\n",
    "\n",
    "items = np.array([getter(BinaryClassificationStats(output=w, y=fixed_y.long(), thld=thld)) for thld in thlds]).T"
   ],
   "metadata": {
    "collapsed": false
   }
  },
  {
   "cell_type": "code",
   "execution_count": 94,
   "outputs": [
    {
     "data": {
      "text/plain": "<matplotlib.legend.Legend at 0x1489d2a62260>"
     },
     "execution_count": 94,
     "metadata": {},
     "output_type": "execute_result"
    },
    {
     "data": {
      "text/plain": "<Figure size 640x480 with 1 Axes>",
      "image/png": "[encoded data removed]"
     },
     "metadata": {},
     "output_type": "display_data"
    }
   ],
   "source": [
    "from matplotlib import pyplot as plt\n",
    "fig, ax = plt.subplots()\n",
    "ax.plot(thlds, f, label=\"unconnected\")\n",
    "ax.plot(thlds, f5, label=\"unconnected (pt > 0.5)\")\n",
    "ax.plot(thlds, f9, label=\"unconnected (pt > 0.9)\")\n",
    "ax.plot(thlds, f15, label=\"unconnected (pt > 1.5)\")\n",
    "ax.plot(thlds, items[0], label=\"TPR\")\n",
    "ax.plot(thlds, items[1], label=\"FPR\")\n",
    "ax.set_xlabel(\"Threshold for classifier\")\n",
    "ax.axvline(0.266, color=\"k\", ls=\":\")\n",
    "ax.legend()"
   ],
   "metadata": {
    "collapsed": false
   }
  },
  {
   "cell_type": "code",
   "execution_count": 69,
   "outputs": [
    {
     "data": {
      "text/plain": "0.6319744204636291"
     },
     "execution_count": 69,
     "metadata": {},
     "output_type": "execute_result"
    }
   ],
   "source": [
    "get_n_unconnected(len(data.x), edge_index[:, w>0.266]) / len(data.x)"
   ],
   "metadata": {
    "collapsed": false
   }
  }
 ],
 "metadata": {
  "kernelspec": {
   "display_name": "Python 3",
   "language": "python",
   "name": "python3"
  },
  "language_info": {
   "codemirror_mode": {
    "name": "ipython",
    "version": 2
   },
   "file_extension": ".py",
   "mimetype": "text/x-python",
   "name": "python",
   "nbconvert_exporter": "python",
   "pygments_lexer": "ipython2",
   "version": "2.7.6"
  }
 },
 "nbformat": 4,
 "nbformat_minor": 0
}
