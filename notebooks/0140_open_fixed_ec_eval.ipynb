{
 "cells": [
  {
   "cell_type": "markdown",
   "source": [
    "**Description**: Temporarily open pretrained EC and check why its TPR/TNR isn't what I expected. Probably because threshold wasn't taken properly."
   ],
   "metadata": {
    "collapsed": false
   }
  },
  {
   "cell_type": "code",
   "execution_count": 1,
   "metadata": {
    "collapsed": true
   },
   "outputs": [],
   "source": [
    "from importlib import reload\n",
    "import gnn_tracking_hpo\n",
    "reload(gnn_tracking_hpo)\n",
    "\n",
    "from gnn_tracking_hpo.util.paths import add_scripts_path\n",
    "\n",
    "add_scripts_path()"
   ]
  },
  {
   "cell_type": "code",
   "execution_count": 10,
   "outputs": [],
   "source": [
    "from tune_fixed_ec_sectorized import load_ec, PretrainedECTrainable"
   ],
   "metadata": {
    "collapsed": false
   }
  },
  {
   "cell_type": "code",
   "execution_count": 5,
   "outputs": [
    {
     "name": "stderr",
     "output_type": "stream",
     "text": [
      "\u001B[36mDEBUG: Got config\n",
      "{'batch_size': 1,\n",
      " 'focal_alpha': 0.7397820322968228,\n",
      " 'focal_gamma': 4,\n",
      " 'gnn_tracking_experiments_hash': '1c4385064cb8472d7070c92d38d2958ab96e7485',\n",
      " 'gnn_tracking_hash': 'd1903e7319ef1dc27f2632d27212ce802d1273e2',\n",
      " 'lr': 0.00010008424753725798,\n",
      " 'lw_edge': 1.0,\n",
      " 'm_L_ec': 7,\n",
      " 'm_alpha_ec': 0.5082980468439962,\n",
      " 'm_e_dim': 4,\n",
      " 'm_h_dim': 5,\n",
      " 'm_hidden_dim': 118,\n",
      " 'm_interaction_edge_hidden_dim': 85,\n",
      " 'm_interaction_node_hidden_dim': 94,\n",
      " 'n_graphs_test': 1,\n",
      " 'n_graphs_train': 1,\n",
      " 'n_graphs_val': 1,\n",
      " 'optimizer': 'adam',\n",
      " 'scheduler': None,\n",
      " 'sector': 9,\n",
      " 'test': False,\n",
      " 'training_pt_thld': 0.0,\n",
      " 'training_without_noise': False,\n",
      " 'training_without_non_reconstructable': False}\u001B[0m\n",
      "\u001B[32mINFO: Loading data to cpu memory\u001B[0m\n",
      "\u001B[32mINFO: Loading 3 graphs (out of 371 available).\u001B[0m\n",
      "\u001B[36mDEBUG: Parameters for data loaders: {'batch_size': 1, 'num_workers': 12}\u001B[0m\n",
      "\u001B[32mINFO: Using device cpu\u001B[0m\n"
     ]
    }
   ],
   "source": [
    "ec = load_ec(\"ec-s9\", \"009d\", config_update={\"n_graphs_train\": 1, \"n_graphs_val\": 100, \"n_graphs_test\": 1})"
   ],
   "metadata": {
    "collapsed": false
   }
  },
  {
   "cell_type": "code",
   "execution_count": 14,
   "outputs": [],
   "source": [
    "from gnn_tracking_hpo.trainable import suggest_default_values\n",
    "from typing import Any\n",
    "import optuna\n",
    "from gnn_tracking_hpo.config import auto_suggest_if_not_fixed, get_metadata\n",
    "\n",
    "\n",
    "def suggest_config(\n",
    "    trial: optuna.Trial,\n",
    "    *,\n",
    "    sector: int,\n",
    "    test=False,\n",
    "    fixed= None,\n",
    ") -> dict[str, Any]:\n",
    "    config = get_metadata(test=test)\n",
    "    config.update(fixed or {})\n",
    "\n",
    "    def d(key, *args, **kwargs):\n",
    "        auto_suggest_if_not_fixed(key, config, trial, *args, **kwargs)\n",
    "\n",
    "    d(\"sector\", sector)\n",
    "    d(\"n_graphs_train\", 300)\n",
    "    d(\"n_graphs_val\", 69)\n",
    "    d(\"n_graphs_test\", 1)\n",
    "\n",
    "    d(\"ec_project\", \"ec-s9\")\n",
    "    d(\"ec_hash\", \"009d\")\n",
    "    d(\"m_ec_threshold\", 0.3746)\n",
    "\n",
    "    suggest_default_values(config, trial, ec=\"fixed\")\n",
    "    return config"
   ],
   "metadata": {
    "collapsed": false
   }
  },
  {
   "cell_type": "code",
   "execution_count": 15,
   "outputs": [],
   "source": [
    "config =suggest_config(None, sector=9)"
   ],
   "metadata": {
    "collapsed": false
   }
  },
  {
   "cell_type": "code",
   "execution_count": 16,
   "outputs": [
    {
     "data": {
      "text/plain": "{'test': False,\n 'gnn_tracking_hash': 'c3886f63ced02fd529f64ab7a0b357b8f5a59b06',\n 'gnn_tracking_experiments_hash': '9f2524d3edff18c30632f4de1334782ecfadbd38',\n 'sector': 9,\n 'n_graphs_train': 300,\n 'n_graphs_val': 69,\n 'n_graphs_test': 1,\n 'ec_project': 'ec-s9',\n 'ec_hash': '009d',\n 'm_ec_threshold': 0.3746,\n 'training_pt_thld': 0.0,\n 'training_without_noise': False,\n 'training_without_non_reconstructable': False,\n 'batch_size': 1,\n 'm_interaction_node_hidden_dim': 5,\n 'm_interaction_edge_hidden_dim': 4,\n 'repulsive_radius_threshold': 10.0,\n 'q_min': 0.01,\n 'attr_pt_thld': 0.9,\n 'sb': 0.1,\n 'lr': 0.0005,\n 'optimizer': 'adam',\n 'scheduler': None,\n 'm_h_dim': 5,\n 'm_e_dim': 4,\n 'm_h_outdim': 2,\n 'm_hidden_dim': 40,\n 'm_L_hc': 3,\n 'm_alpha_hc': 0.5}"
     },
     "execution_count": 16,
     "metadata": {},
     "output_type": "execute_result"
    }
   ],
   "source": [
    "config"
   ],
   "metadata": {
    "collapsed": false
   }
  },
  {
   "cell_type": "code",
   "execution_count": 17,
   "outputs": [
    {
     "name": "stderr",
     "output_type": "stream",
     "text": [
      "\u001B[36mDEBUG: Got config\n",
      "{'batch_size': 1,\n",
      " 'focal_alpha': 0.7397820322968228,\n",
      " 'focal_gamma': 4,\n",
      " 'gnn_tracking_experiments_hash': '1c4385064cb8472d7070c92d38d2958ab96e7485',\n",
      " 'gnn_tracking_hash': 'd1903e7319ef1dc27f2632d27212ce802d1273e2',\n",
      " 'lr': 0.00010008424753725798,\n",
      " 'lw_edge': 1.0,\n",
      " 'm_L_ec': 7,\n",
      " 'm_alpha_ec': 0.5082980468439962,\n",
      " 'm_e_dim': 4,\n",
      " 'm_h_dim': 5,\n",
      " 'm_hidden_dim': 118,\n",
      " 'm_interaction_edge_hidden_dim': 85,\n",
      " 'm_interaction_node_hidden_dim': 94,\n",
      " 'n_graphs_test': 1,\n",
      " 'n_graphs_train': 1,\n",
      " 'n_graphs_val': 1,\n",
      " 'optimizer': 'adam',\n",
      " 'scheduler': None,\n",
      " 'sector': 9,\n",
      " 'test': False,\n",
      " 'training_pt_thld': 0.0,\n",
      " 'training_without_noise': False,\n",
      " 'training_without_non_reconstructable': False}\u001B[0m\n",
      "\u001B[32mINFO: Loading data to cpu memory\u001B[0m\n",
      "\u001B[32mINFO: Loading 3 graphs (out of 371 available).\u001B[0m\n",
      "\u001B[36mDEBUG: Parameters for data loaders: {'batch_size': 1, 'num_workers': 12}\u001B[0m\n",
      "\u001B[32mINFO: Using device cpu\u001B[0m\n",
      "\u001B[36mDEBUG: Got config\n",
      "{'attr_pt_thld': 0.9,\n",
      " 'batch_size': 1,\n",
      " 'ec_hash': '009d',\n",
      " 'ec_project': 'ec-s9',\n",
      " 'gnn_tracking_experiments_hash': '9f2524d3edff18c30632f4de1334782ecfadbd38',\n",
      " 'gnn_tracking_hash': 'c3886f63ced02fd529f64ab7a0b357b8f5a59b06',\n",
      " 'lr': 0.0005,\n",
      " 'm_L_hc': 3,\n",
      " 'm_alpha_hc': 0.5,\n",
      " 'm_e_dim': 4,\n",
      " 'm_ec_threshold': 0.3746,\n",
      " 'm_h_dim': 5,\n",
      " 'm_h_outdim': 2,\n",
      " 'm_hidden_dim': 40,\n",
      " 'm_interaction_edge_hidden_dim': 4,\n",
      " 'm_interaction_node_hidden_dim': 5,\n",
      " 'n_graphs_test': 1,\n",
      " 'n_graphs_train': 300,\n",
      " 'n_graphs_val': 69,\n",
      " 'optimizer': 'adam',\n",
      " 'q_min': 0.01,\n",
      " 'repulsive_radius_threshold': 10.0,\n",
      " 'sb': 0.1,\n",
      " 'scheduler': None,\n",
      " 'sector': 9,\n",
      " 'test': False,\n",
      " 'training_pt_thld': 0.0,\n",
      " 'training_without_noise': False,\n",
      " 'training_without_non_reconstructable': False}\u001B[0m\n",
      "\u001B[32mINFO: Loading data to cpu memory\u001B[0m\n",
      "\u001B[32mINFO: Loading 370 graphs (out of 371 available).\u001B[0m\n",
      "\u001B[36mDEBUG: Parameters for data loaders: {'batch_size': 1, 'num_workers': 12}\u001B[0m\n",
      "\u001B[32mINFO: Using device cpu\u001B[0m\n"
     ]
    }
   ],
   "source": [
    "trainable = PretrainedECTrainable(config)"
   ],
   "metadata": {
    "collapsed": false
   }
  },
  {
   "cell_type": "code",
   "execution_count": 19,
   "outputs": [
    {
     "name": "stderr",
     "output_type": "stream",
     "text": [
      "\u001B[32mINFO: Starting hyperparameter scan for clustering\u001B[0m\n",
      "\u001B[32mINFO: Completed 12 trials, pruned 0 trials\u001B[0m\n",
      "\u001B[36mDEBUG: Evaluating all metrics for best clustering\u001B[0m\n",
      "\u001B[32mINFO: Evaluating all metrics took 2.61 seconds\u001B[0m\n",
      "\u001B[32mINFO: Clustering hyperparameter scan & metric evaluation took 29.15 seconds\u001B[0m\n"
     ]
    },
    {
     "data": {
      "text/plain": "{'acc_pt0.9': 0.9912747145993022,\n 'TPR_pt0.9': 0.6723429497390527,\n 'TNR_pt0.9': 0.997777171669292,\n 'FPR_pt0.9': 0.0022228283307081514,\n 'FNR_pt0.9': 0.3276570502609471,\n 'roc_auc_pt0.9': 0.9792254648404642,\n 'roc_auc_5FPR_pt0.9': 0.889410940659797,\n 'roc_auc_10FPR_pt0.9': 0.9173466632236574,\n 'roc_auc_20FPR_pt0.9': 0.9463588983528485,\n 'acc_pt1.5': 0.991479963683378,\n 'TPR_pt1.5': 0.6536869187724439,\n 'TNR_pt1.5': 0.9976241054943649,\n 'FPR_pt1.5': 0.0023758945056351058,\n 'FNR_pt1.5': 0.34631308122755605,\n 'roc_auc_pt1.5': 0.9778350160981233,\n 'roc_auc_5FPR_pt1.5': 0.8837895622360141,\n 'roc_auc_10FPR_pt1.5': 0.9122333444573301,\n 'roc_auc_20FPR_pt1.5': 0.9425449656334431,\n 'total': 726.3389242421026,\n 'potential_attractive': 1.0681779634108787e-05,\n 'potential_attractive_weighted': 1.0681779634108787e-05,\n 'potential_repulsive': 725.8389910269475,\n 'potential_repulsive_weighted': 725.8389910269475,\n 'background': 0.49993171078571375,\n 'background_weighted': 0.49993171078571375,\n 'v_measure': 0.0,\n 'homogeneity': 0.0,\n 'completeness': 1.0,\n 'trk.n_particles': 235.69565217391303,\n 'trk.n_cleaned_clusters': 1.0,\n 'trk.perfect': 0.0,\n 'trk.double_majority': 0.0,\n 'trk.lhc': 0.0,\n 'trk.fake_perfect': 0.004344916749045774,\n 'trk.fake_double_majority': 0.004344916749045774,\n 'trk.fake_lhc': 1.0,\n 'trk.n_particles_pt0.5': 107.79710144927536,\n 'trk.n_cleaned_clusters_pt0.5': 0.2318840579710145,\n 'trk.perfect_pt0.5': 0.0,\n 'trk.double_majority_pt0.5': 0.0,\n 'trk.lhc_pt0.5': 0.0,\n 'trk.fake_perfect_pt0.5': 0.002266372366961876,\n 'trk.fake_double_majority_pt0.5': 0.002266372366961876,\n 'trk.fake_lhc_pt0.5': 1.0,\n 'trk.n_particles_pt0.9': 44.68115942028985,\n 'trk.n_cleaned_clusters_pt0.9': 0.07246376811594203,\n 'trk.perfect_pt0.9': 0.0,\n 'trk.double_majority_pt0.9': 0.0,\n 'trk.lhc_pt0.9': 0.0,\n 'trk.fake_perfect_pt0.9': 0.0014413418321836454,\n 'trk.fake_double_majority_pt0.9': 0.0014413418321836454,\n 'trk.fake_lhc_pt0.9': 1.0,\n 'trk.n_particles_pt1.5': 16.3768115942029,\n 'trk.n_cleaned_clusters_pt1.5': 0.043478260869565216,\n 'trk.perfect_pt1.5': 0.0,\n 'trk.double_majority_pt1.5': 0.0,\n 'trk.lhc_pt1.5': 0.0,\n 'trk.fake_perfect_pt1.5': 0.0023004370830457784,\n 'trk.fake_double_majority_pt1.5': 0.0023004370830457784,\n 'trk.fake_lhc_pt1.5': 1.0,\n 'adjusted_rand': 0.0,\n 'fowlkes_mallows': 0.07140347620629348,\n 'adjusted_mutual_info': 0.0,\n 'best_dbscan_eps': 0.9639344516703638,\n 'best_dbscan_min_samples': 1}"
     },
     "execution_count": 19,
     "metadata": {},
     "output_type": "execute_result"
    }
   ],
   "source": [
    "from gnn_tracking.training.tcn_trainer import TCNTrainer\n",
    "\n",
    "TCNTrainer.test_step(trainable.trainer)"
   ],
   "metadata": {
    "collapsed": false
   }
  },
  {
   "cell_type": "code",
   "execution_count": 28,
   "outputs": [
    {
     "data": {
      "text/plain": "ModularGraphTCN(\n  (relu): ReLU()\n  (ec): UnPackDictionaryForward(\n    (ec): SignatureAdaptedECForGraphTCN(\n      (relu): ReLU()\n      (ec_node_encoder): MLP(\n        (layers): ModuleList(\n          (0): Linear(in_features=6, out_features=118, bias=False)\n          (1): ReLU()\n          (2): Linear(in_features=118, out_features=5, bias=False)\n        )\n      )\n      (ec_edge_encoder): MLP(\n        (layers): ModuleList(\n          (0): Linear(in_features=4, out_features=118, bias=False)\n          (1): ReLU()\n          (2): Linear(in_features=118, out_features=4, bias=False)\n        )\n      )\n      (ec_resin): ResIN(\n        (layers): ModuleList(\n          (0): InteractionNetwork()\n          (1): InteractionNetwork()\n          (2): InteractionNetwork()\n          (3): InteractionNetwork()\n          (4): InteractionNetwork()\n          (5): InteractionNetwork()\n          (6): InteractionNetwork()\n        )\n        (residue_encoders): ModuleList(\n          (0): MLP(\n            (layers): ModuleList(\n              (0): Linear(in_features=5, out_features=94, bias=True)\n              (1): ReLU()\n              (2): Linear(in_features=94, out_features=94, bias=True)\n              (3): ReLU()\n            )\n          )\n          (1): Identity()\n          (2): Identity()\n          (3): Identity()\n          (4): Identity()\n          (5): Identity()\n          (6): MLP(\n            (layers): ModuleList(\n              (0): Linear(in_features=94, out_features=5, bias=True)\n              (1): ReLU()\n              (2): Linear(in_features=5, out_features=5, bias=True)\n              (3): ReLU()\n            )\n          )\n        )\n      )\n      (W): MLP(\n        (layers): ModuleList(\n          (0): Linear(in_features=518, out_features=118, bias=True)\n          (1): ReLU()\n          (2): Linear(in_features=118, out_features=118, bias=True)\n          (3): ReLU()\n          (4): Linear(in_features=118, out_features=1, bias=True)\n        )\n      )\n    )\n  )\n  (hc_in): ResIN(\n    (layers): ModuleList(\n      (0): InteractionNetwork()\n      (1): InteractionNetwork()\n      (2): InteractionNetwork()\n    )\n    (residue_encoders): ModuleList(\n      (0): None\n      (1): Identity()\n      (2): None\n    )\n  )\n  (hc_node_encoder): MLP(\n    (layers): ModuleList(\n      (0): Linear(in_features=6, out_features=40, bias=False)\n      (1): ReLU()\n      (2): Linear(in_features=40, out_features=5, bias=False)\n    )\n  )\n  (hc_edge_encoder): MLP(\n    (layers): ModuleList(\n      (0): Linear(in_features=4, out_features=40, bias=False)\n      (1): ReLU()\n      (2): Linear(in_features=40, out_features=4, bias=False)\n    )\n  )\n  (p_beta): MLP(\n    (layers): ModuleList(\n      (0): Linear(in_features=5, out_features=40, bias=True)\n      (1): ReLU()\n      (2): Linear(in_features=40, out_features=40, bias=True)\n      (3): ReLU()\n      (4): Linear(in_features=40, out_features=1, bias=True)\n    )\n  )\n  (p_cluster): MLP(\n    (layers): ModuleList(\n      (0): Linear(in_features=5, out_features=40, bias=True)\n      (1): ReLU()\n      (2): Linear(in_features=40, out_features=40, bias=True)\n      (3): ReLU()\n      (4): Linear(in_features=40, out_features=2, bias=True)\n    )\n  )\n  (p_track_param): InteractionNetwork()\n)"
     },
     "execution_count": 28,
     "metadata": {},
     "output_type": "execute_result"
    }
   ],
   "source": [
    "trainable.trainer.model._gtcn.threshold"
   ],
   "metadata": {
    "collapsed": false
   }
  },
  {
   "cell_type": "code",
   "execution_count": null,
   "outputs": [],
   "source": [],
   "metadata": {
    "collapsed": false
   }
  }
 ],
 "metadata": {
  "kernelspec": {
   "display_name": "Python 3",
   "language": "python",
   "name": "python3"
  },
  "language_info": {
   "codemirror_mode": {
    "name": "ipython",
    "version": 2
   },
   "file_extension": ".py",
   "mimetype": "text/x-python",
   "name": "python",
   "nbconvert_exporter": "python",
   "pygments_lexer": "ipython2",
   "version": "2.7.6"
  }
 },
 "nbformat": 4,
 "nbformat_minor": 0
}
