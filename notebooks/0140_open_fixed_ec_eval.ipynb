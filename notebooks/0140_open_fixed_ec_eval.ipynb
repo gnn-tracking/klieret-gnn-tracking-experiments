{
 "cells": [
  {
   "cell_type": "markdown",
   "source": [
    "**Description**: Temporarily open pretrained EC and check why its TPR/TNR isn't what I expected. Probably because threshold wasn't taken properly."
   ],
   "metadata": {
    "collapsed": false
   }
  },
  {
   "cell_type": "code",
   "execution_count": 1,
   "metadata": {
    "collapsed": true
   },
   "outputs": [],
   "source": [
    "from importlib import reload\n",
    "import gnn_tracking_hpo\n",
    "reload(gnn_tracking_hpo)\n",
    "\n",
    "from gnn_tracking_hpo.util.paths import add_scripts_path\n",
    "\n",
    "add_scripts_path()"
   ]
  },
  {
   "cell_type": "code",
   "execution_count": 2,
   "outputs": [],
   "source": [
    "from tune_fixed_ec_sectorized import load_ec, PretrainedECTrainable"
   ],
   "metadata": {
    "collapsed": false
   }
  },
  {
   "cell_type": "code",
   "execution_count": 3,
   "outputs": [
    {
     "name": "stderr",
     "output_type": "stream",
     "text": [
      "\u001B[36mDEBUG: Got config\n",
      "{'batch_size': 1,\n",
      " 'focal_alpha': 0.7397820322968228,\n",
      " 'focal_gamma': 4,\n",
      " 'gnn_tracking_experiments_hash': '1c4385064cb8472d7070c92d38d2958ab96e7485',\n",
      " 'gnn_tracking_hash': 'd1903e7319ef1dc27f2632d27212ce802d1273e2',\n",
      " 'lr': 0.00010008424753725798,\n",
      " 'lw_edge': 1.0,\n",
      " 'm_L_ec': 7,\n",
      " 'm_alpha_ec': 0.5082980468439962,\n",
      " 'm_e_dim': 4,\n",
      " 'm_h_dim': 5,\n",
      " 'm_hidden_dim': 118,\n",
      " 'm_interaction_edge_hidden_dim': 85,\n",
      " 'm_interaction_node_hidden_dim': 94,\n",
      " 'n_graphs_test': 1,\n",
      " 'n_graphs_train': 1,\n",
      " 'n_graphs_val': 1,\n",
      " 'optimizer': 'adam',\n",
      " 'scheduler': None,\n",
      " 'sector': 9,\n",
      " 'test': False,\n",
      " 'training_pt_thld': 0.0,\n",
      " 'training_without_noise': False,\n",
      " 'training_without_non_reconstructable': False}\u001B[0m\n",
      "\u001B[32mINFO: Loading data to cpu memory\u001B[0m\n",
      "\u001B[32mINFO: Loading 3 graphs (out of 371 available).\u001B[0m\n",
      "\u001B[36mDEBUG: Parameters for data loaders: {'batch_size': 1, 'num_workers': 12}\u001B[0m\n",
      "\u001B[32mINFO: Using device cpu\u001B[0m\n"
     ]
    }
   ],
   "source": [
    "ec = load_ec(\"ec-s9\", \"009d\", config_update={\"n_graphs_train\": 1, \"n_graphs_val\": 100, \"n_graphs_test\": 1})"
   ],
   "metadata": {
    "collapsed": false
   }
  },
  {
   "cell_type": "code",
   "execution_count": 4,
   "outputs": [],
   "source": [
    "from gnn_tracking_hpo.trainable import suggest_default_values\n",
    "from typing import Any\n",
    "import optuna\n",
    "from gnn_tracking_hpo.config import auto_suggest_if_not_fixed, get_metadata\n",
    "\n",
    "\n",
    "def suggest_config(\n",
    "    trial: optuna.Trial,\n",
    "    *,\n",
    "    sector: int,\n",
    "    test=False,\n",
    "    fixed= None,\n",
    ") -> dict[str, Any]:\n",
    "    config = get_metadata(test=test)\n",
    "    config.update(fixed or {})\n",
    "\n",
    "    def d(key, *args, **kwargs):\n",
    "        auto_suggest_if_not_fixed(key, config, trial, *args, **kwargs)\n",
    "\n",
    "    d(\"sector\", sector)\n",
    "    d(\"n_graphs_train\", 300)\n",
    "    d(\"n_graphs_val\", 69)\n",
    "    d(\"n_graphs_test\", 1)\n",
    "\n",
    "    d(\"ec_project\", \"ec-s9\")\n",
    "    d(\"ec_hash\", \"009d\")\n",
    "    d(\"m_ec_threshold\", 0.3746)\n",
    "\n",
    "    suggest_default_values(config, trial, ec=\"fixed\")\n",
    "    return config"
   ],
   "metadata": {
    "collapsed": false
   }
  },
  {
   "cell_type": "code",
   "execution_count": 5,
   "outputs": [
    {
     "name": "stderr",
     "output_type": "stream",
     "text": [
      "\u001B[33mWARNING: Repository is dirty, commit hash may not be accurate.\u001B[0m\n"
     ]
    }
   ],
   "source": [
    "config =suggest_config(None, sector=9)"
   ],
   "metadata": {
    "collapsed": false
   }
  },
  {
   "cell_type": "code",
   "execution_count": 6,
   "outputs": [
    {
     "data": {
      "text/plain": "{'test': False,\n 'gnn_tracking_hash': '729509a769155655723997d7c04776f4309f482e',\n 'gnn_tracking_experiments_hash': '757071fe393dba610ce14dad57b3fc2c42dd4176',\n 'sector': 9,\n 'n_graphs_train': 300,\n 'n_graphs_val': 69,\n 'n_graphs_test': 1,\n 'ec_project': 'ec-s9',\n 'ec_hash': '009d',\n 'm_ec_threshold': 0.3746,\n 'training_pt_thld': 0.0,\n 'training_without_noise': False,\n 'training_without_non_reconstructable': False,\n 'batch_size': 1,\n 'm_interaction_node_hidden_dim': 5,\n 'm_interaction_edge_hidden_dim': 4,\n 'repulsive_radius_threshold': 10.0,\n 'q_min': 0.01,\n 'attr_pt_thld': 0.9,\n 'sb': 0.1,\n 'lr': 0.0005,\n 'optimizer': 'adam',\n 'scheduler': None,\n 'm_h_dim': 5,\n 'm_e_dim': 4,\n 'm_h_outdim': 2,\n 'm_hidden_dim': 40,\n 'm_L_hc': 3,\n 'm_alpha_hc': 0.5}"
     },
     "execution_count": 6,
     "metadata": {},
     "output_type": "execute_result"
    }
   ],
   "source": [
    "config"
   ],
   "metadata": {
    "collapsed": false
   }
  },
  {
   "cell_type": "code",
   "execution_count": 7,
   "outputs": [
    {
     "name": "stderr",
     "output_type": "stream",
     "text": [
      "\u001B[36mDEBUG: Got config\n",
      "{'batch_size': 1,\n",
      " 'focal_alpha': 0.7397820322968228,\n",
      " 'focal_gamma': 4,\n",
      " 'gnn_tracking_experiments_hash': '1c4385064cb8472d7070c92d38d2958ab96e7485',\n",
      " 'gnn_tracking_hash': 'd1903e7319ef1dc27f2632d27212ce802d1273e2',\n",
      " 'lr': 0.00010008424753725798,\n",
      " 'lw_edge': 1.0,\n",
      " 'm_L_ec': 7,\n",
      " 'm_alpha_ec': 0.5082980468439962,\n",
      " 'm_e_dim': 4,\n",
      " 'm_h_dim': 5,\n",
      " 'm_hidden_dim': 118,\n",
      " 'm_interaction_edge_hidden_dim': 85,\n",
      " 'm_interaction_node_hidden_dim': 94,\n",
      " 'n_graphs_test': 1,\n",
      " 'n_graphs_train': 1,\n",
      " 'n_graphs_val': 1,\n",
      " 'optimizer': 'adam',\n",
      " 'scheduler': None,\n",
      " 'sector': 9,\n",
      " 'test': False,\n",
      " 'training_pt_thld': 0.0,\n",
      " 'training_without_noise': False,\n",
      " 'training_without_non_reconstructable': False}\u001B[0m\n",
      "\u001B[32mINFO: Loading data to cpu memory\u001B[0m\n",
      "\u001B[32mINFO: Loading 3 graphs (out of 371 available).\u001B[0m\n",
      "\u001B[36mDEBUG: Parameters for data loaders: {'batch_size': 1, 'num_workers': 12}\u001B[0m\n",
      "\u001B[32mINFO: Using device cpu\u001B[0m\n",
      "\u001B[36mDEBUG: Got config\n",
      "{'attr_pt_thld': 0.9,\n",
      " 'batch_size': 1,\n",
      " 'ec_hash': '009d',\n",
      " 'ec_project': 'ec-s9',\n",
      " 'gnn_tracking_experiments_hash': '757071fe393dba610ce14dad57b3fc2c42dd4176',\n",
      " 'gnn_tracking_hash': '729509a769155655723997d7c04776f4309f482e',\n",
      " 'lr': 0.0005,\n",
      " 'm_L_hc': 3,\n",
      " 'm_alpha_hc': 0.5,\n",
      " 'm_e_dim': 4,\n",
      " 'm_ec_threshold': 0.3746,\n",
      " 'm_h_dim': 5,\n",
      " 'm_h_outdim': 2,\n",
      " 'm_hidden_dim': 40,\n",
      " 'm_interaction_edge_hidden_dim': 4,\n",
      " 'm_interaction_node_hidden_dim': 5,\n",
      " 'n_graphs_test': 1,\n",
      " 'n_graphs_train': 300,\n",
      " 'n_graphs_val': 69,\n",
      " 'optimizer': 'adam',\n",
      " 'q_min': 0.01,\n",
      " 'repulsive_radius_threshold': 10.0,\n",
      " 'sb': 0.1,\n",
      " 'scheduler': None,\n",
      " 'sector': 9,\n",
      " 'test': False,\n",
      " 'training_pt_thld': 0.0,\n",
      " 'training_without_noise': False,\n",
      " 'training_without_non_reconstructable': False}\u001B[0m\n",
      "\u001B[32mINFO: Loading data to cpu memory\u001B[0m\n",
      "\u001B[32mINFO: Loading 370 graphs (out of 371 available).\u001B[0m\n",
      "\u001B[36mDEBUG: Parameters for data loaders: {'batch_size': 1, 'num_workers': 12}\u001B[0m\n",
      "\u001B[32mINFO: Using device cpu\u001B[0m\n"
     ]
    }
   ],
   "source": [
    "trainable = PretrainedECTrainable(config)"
   ],
   "metadata": {
    "collapsed": false
   }
  },
  {
   "cell_type": "code",
   "execution_count": 17,
   "outputs": [],
   "source": [],
   "metadata": {
    "collapsed": false
   }
  }
 ],
 "metadata": {
  "kernelspec": {
   "display_name": "Python 3",
   "language": "python",
   "name": "python3"
  },
  "language_info": {
   "codemirror_mode": {
    "name": "ipython",
    "version": 2
   },
   "file_extension": ".py",
   "mimetype": "text/x-python",
   "name": "python",
   "nbconvert_exporter": "python",
   "pygments_lexer": "ipython2",
   "version": "2.7.6"
  }
 },
 "nbformat": 4,
 "nbformat_minor": 0
}
