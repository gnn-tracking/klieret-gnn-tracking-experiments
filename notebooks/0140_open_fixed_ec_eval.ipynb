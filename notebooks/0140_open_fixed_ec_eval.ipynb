{
 "cells": [
  {
   "cell_type": "markdown",
   "source": [
    "**Description**: Temporarily open pretrained EC and check why its TPR/TNR isn't what I expected. Probably because threshold wasn't taken properly."
   ],
   "metadata": {
    "collapsed": false
   }
  },
  {
   "cell_type": "code",
   "execution_count": 1,
   "metadata": {
    "collapsed": true
   },
   "outputs": [],
   "source": [
    "from importlib import reload\n",
    "import gnn_tracking_hpo\n",
    "reload(gnn_tracking_hpo)\n",
    "\n",
    "from gnn_tracking_hpo.util.paths import add_scripts_path, find_checkpoint\n",
    "\n",
    "add_scripts_path()"
   ]
  },
  {
   "cell_type": "code",
   "execution_count": 2,
   "outputs": [],
   "source": [
    "from tune_fixed_ec import PretrainedECTrainable"
   ],
   "metadata": {
    "collapsed": false
   }
  },
  {
   "cell_type": "code",
   "execution_count": 3,
   "outputs": [],
   "source": [
    "PretrainedECTrainable._device = \"cpu\""
   ],
   "metadata": {
    "collapsed": false
   }
  },
  {
   "cell_type": "code",
   "execution_count": 4,
   "outputs": [],
   "source": [
    "project = \"fixed-ec-b7b3f0d4\"\n",
    "hash = \"1503094f\""
   ],
   "metadata": {
    "collapsed": false
   }
  },
  {
   "cell_type": "code",
   "execution_count": 5,
   "outputs": [
    {
     "name": "stderr",
     "output_type": "stream",
     "text": [
      "\u001B[36m[18:34:38 gnnt_hpo] DEBUG: Loading config from /home/kl5675/ray_results/fixed-ec-b7b3f0d4/PretrainedECTrainable_1503094f_6_attr_pt_thld=0.7040,batch_size=5,ec_hash=b7b3f0d4,ec_project=ec,ec_pt_thld=0.0000,gnn_tracking_ex_2023-01-26_12-57-40/params.json\u001B[0m\n"
     ]
    }
   ],
   "source": [
    "from gnn_tracking_hpo.util.paths import get_config\n",
    "\n",
    "config = get_config(project, hash)\n",
    "config[\"n_graphs_train\"] = 1\n",
    "config[\"n_graphs_val\"] = 100\n",
    "config[\"n_graphs_test\"] = 1\n",
    "config[\"m_mask_orphan_nodes\"] = True\n",
    "config[\"ec_epoch\"] = -1\n",
    "# config[\"m_ec_threshold\"] = 0.0"
   ],
   "metadata": {
    "collapsed": false
   }
  },
  {
   "cell_type": "code",
   "execution_count": 6,
   "outputs": [
    {
     "name": "stderr",
     "output_type": "stream",
     "text": [
      "\u001B[32m[18:34:38 gnnt_hpo] INFO: Initializing pre-trained EC\u001B[0m\n",
      "\u001B[36m[18:34:38 gnnt_hpo] DEBUG: Loading config from /home/kl5675/ray_results/ec/ECTrainable_b7b3f0d4_38_batch_size=5,ec_pt_thld=0.7711,focal_alpha=0.3824,focal_gamma=2.5581,gnn_tracking_experiments_hash=50f90c1_2023-01-24_03-06-50/params.json\u001B[0m\n",
      "\u001B[32m[18:34:38 gnnt_hpo] INFO: I'm running on a node with job ID=45499833\u001B[0m\n",
      "\u001B[33m[18:34:38 gnnt_hpo] WARNING: Dispatcher ID was not set. This should be set by the dispatcher as a class attribute to the trainable.\u001B[0m\n",
      "\u001B[32m[18:34:38 gnnt_hpo] INFO: The ID of my dispatcher is 0\u001B[0m\n",
      "\u001B[36m[18:34:38 SlurmControl] DEBUG: Refreshing control config from /home/kl5675/ray_slurm_control.yaml\u001B[0m\n",
      "\u001B[36m[18:34:38 gnnt_hpo] DEBUG: Got config\n",
      "{'batch_size': 5,\n",
      " 'ec_loss': 'focal',\n",
      " 'ec_pt_thld': 0.7710612479097784,\n",
      " 'focal_alpha': 0.3824243521658318,\n",
      " 'focal_gamma': 2.5581270116033084,\n",
      " 'gnn_tracking_experiments_hash': '50f90c1b6d806c3bce012abda77e6310b3423f41',\n",
      " 'gnn_tracking_hash': '525e92fe1359fbff371f73c405c37b6d6ec22b32',\n",
      " 'lr': 0.0004929040972127238,\n",
      " 'lw_edge': 1.0,\n",
      " 'm_L_ec': 6,\n",
      " 'm_alpha_ec': 0.7244467015688769,\n",
      " 'm_e_dim': 4,\n",
      " 'm_h_dim': 5,\n",
      " 'm_hidden_dim': 176,\n",
      " 'm_interaction_edge_hidden_dim': 96,\n",
      " 'm_interaction_node_hidden_dim': 46,\n",
      " 'n_graphs_test': 1,\n",
      " 'n_graphs_train': 1,\n",
      " 'n_graphs_val': 1,\n",
      " 'optimizer': 'adam',\n",
      " 'scheduler': None,\n",
      " 'sector': None,\n",
      " 'test': False,\n",
      " 'training_pt_thld': 0.09467829745642475,\n",
      " 'training_without_noise': False,\n",
      " 'training_without_non_reconstructable': False}\u001B[0m\n",
      "\u001B[36m[18:34:38 gnnt_hpo] DEBUG: Getting loaders\u001B[0m\n",
      "\u001B[36m[18:34:38 gnnt_hpo] DEBUG: Loading graphs from /tigress/jdezoort/object_condensation/graphs\u001B[0m\n",
      "\u001B[32m[18:34:38 gnnt_hpo] INFO: Loading data to cpu memory\u001B[0m\n",
      "\u001B[33m[18:34:38] WARNING: Only using one process to load graphs to CPU memory. This might be slow.\u001B[0m\n",
      "\u001B[32m[18:34:38] INFO: Loading 3 graphs (out of 12480 available).\u001B[0m\n",
      "\u001B[36m[18:34:38 gnnt_hpo] DEBUG: Parameters for data loader 'train': {'batch_size': 5, 'num_workers': 12, 'shuffle': True, 'pin_memory': True}\u001B[0m\n",
      "\u001B[36m[18:34:38 gnnt_hpo] DEBUG: Parameters for data loader 'val': {'batch_size': 5, 'num_workers': 12, 'shuffle': False, 'pin_memory': True}\u001B[0m\n",
      "\u001B[36m[18:34:38 gnnt_hpo] DEBUG: Parameters for data loader 'test': {'batch_size': 5, 'num_workers': 12, 'shuffle': False, 'pin_memory': True}\u001B[0m\n",
      "\u001B[32m[18:34:38 TCNTrainer] INFO: Using device cuda\u001B[0m\n",
      "\u001B[36m[18:34:45 gnnt_hpo] DEBUG: Loading checkpoint from /home/kl5675/ray_results/ec/ECTrainable_b7b3f0d4_38_batch_size=5,ec_pt_thld=0.7711,focal_alpha=0.3824,focal_gamma=2.5581,gnn_tracking_experiments_hash=50f90c1_2023-01-24_03-06-50/checkpoint_000012/checkpoint.pt\u001B[0m\n",
      "\u001B[32m[18:34:45 gnnt_hpo] INFO: Pre-trained EC initialized\u001B[0m\n",
      "\u001B[32m[18:34:45 gnnt_hpo] INFO: I'm running on a node with job ID=45499833\u001B[0m\n",
      "\u001B[33m[18:34:45 gnnt_hpo] WARNING: Dispatcher ID was not set. This should be set by the dispatcher as a class attribute to the trainable.\u001B[0m\n",
      "\u001B[32m[18:34:45 gnnt_hpo] INFO: The ID of my dispatcher is 0\u001B[0m\n",
      "\u001B[36m[18:34:45 SlurmControl] DEBUG: Refreshing control config from /home/kl5675/ray_slurm_control.yaml\u001B[0m\n",
      "\u001B[36m[18:34:45 gnnt_hpo] DEBUG: Got config\n",
      "{'attr_pt_thld': 0.7039950060745073,\n",
      " 'batch_size': 5,\n",
      " 'ec_epoch': -1,\n",
      " 'ec_hash': 'b7b3f0d4',\n",
      " 'ec_project': 'ec',\n",
      " 'ec_pt_thld': 0.0,\n",
      " 'gnn_tracking_experiments_hash': 'f48fba40bd04f3db991bc6d7a26543e5be7ed84d',\n",
      " 'gnn_tracking_hash': '525e92fe1359fbff371f73c405c37b6d6ec22b32',\n",
      " 'lr': 0.00023489979236462617,\n",
      " 'lw_background': 8.700753563072803e-05,\n",
      " 'lw_potential_attractive': 1.0,\n",
      " 'lw_potential_repulsive': 0.339019904288489,\n",
      " 'm_L_hc': 6,\n",
      " 'm_alpha_hc': 0.6958785597622171,\n",
      " 'm_e_dim': 5,\n",
      " 'm_ec_threshold': 0.2664718420942647,\n",
      " 'm_h_dim': 5,\n",
      " 'm_h_outdim': 6,\n",
      " 'm_hidden_dim': 187,\n",
      " 'm_interaction_edge_hidden_dim': 97,\n",
      " 'm_interaction_node_hidden_dim': 87,\n",
      " 'm_mask_orphan_nodes': True,\n",
      " 'n_graphs_test': 1,\n",
      " 'n_graphs_train': 1,\n",
      " 'n_graphs_val': 100,\n",
      " 'optimizer': 'adam',\n",
      " 'q_min': 0.46110991522147776,\n",
      " 'repulsive_radius_threshold': 8.603506930477367,\n",
      " 'sb': 0.07509285531163733,\n",
      " 'scheduler': None,\n",
      " 'sector': None,\n",
      " 'test': False,\n",
      " 'training_pt_thld': 0.0,\n",
      " 'training_without_noise': False,\n",
      " 'training_without_non_reconstructable': False}\u001B[0m\n",
      "\u001B[36m[18:34:45 gnnt_hpo] DEBUG: Getting loaders\u001B[0m\n",
      "\u001B[36m[18:34:45 gnnt_hpo] DEBUG: Loading graphs from /tigress/jdezoort/object_condensation/graphs\u001B[0m\n",
      "\u001B[32m[18:34:45 gnnt_hpo] INFO: Loading data to cpu memory\u001B[0m\n",
      "\u001B[33m[18:34:45] WARNING: Only using one process to load graphs to CPU memory. This might be slow.\u001B[0m\n",
      "\u001B[32m[18:34:45] INFO: Loading 102 graphs (out of 12480 available).\u001B[0m\n",
      "\u001B[36m[18:34:49 gnnt_hpo] DEBUG: Parameters for data loader 'train': {'batch_size': 5, 'num_workers': 12, 'shuffle': True, 'pin_memory': True}\u001B[0m\n",
      "\u001B[36m[18:34:49 gnnt_hpo] DEBUG: Parameters for data loader 'val': {'batch_size': 5, 'num_workers': 12, 'shuffle': False, 'pin_memory': True}\u001B[0m\n",
      "\u001B[36m[18:34:49 gnnt_hpo] DEBUG: Parameters for data loader 'test': {'batch_size': 5, 'num_workers': 12, 'shuffle': False, 'pin_memory': True}\u001B[0m\n",
      "\u001B[32m[18:34:49 TCNTrainer] INFO: Using device cuda\u001B[0m\n",
      "\u001B[36m[18:34:49 gnnt_hpo] DEBUG: Loading checkpoint from /home/kl5675/ray_results/fixed-ec-b7b3f0d4/PretrainedECTrainable_1503094f_6_attr_pt_thld=0.7040,batch_size=5,ec_hash=b7b3f0d4,ec_project=ec,ec_pt_thld=0.0000,gnn_tracking_ex_2023-01-26_12-57-40/checkpoint_000033/checkpoint.pt\u001B[0m\n"
     ]
    }
   ],
   "source": [
    "trainable = PretrainedECTrainable(config)\n",
    "\n",
    "trainable.load_checkpoint(find_checkpoint(project, hash, -1), device=\"cpu\")"
   ],
   "metadata": {
    "collapsed": false
   }
  },
  {
   "cell_type": "code",
   "execution_count": 7,
   "outputs": [
    {
     "name": "stderr",
     "output_type": "stream",
     "text": [
      "\u001B[33m[18:35:11 gnnt_hpo] WARNING: Running on a gnn_tracking version with post-EC node pruning.\u001B[0m\n",
      "\u001B[32m[18:35:11 ClusterHP] INFO: Starting hyperparameter scan for clustering\u001B[0m\n",
      "\u001B[32m[18:35:12 ClusterHP] INFO: Completed 1 trials, pruned 0 trials\u001B[0m\n",
      "\u001B[36m[18:35:12 ClusterHP] DEBUG: Evaluating all metrics for best clustering\u001B[0m\n",
      "\u001B[36m[18:35:14 ClusterHP] DEBUG: Clustering time: 0.217438, total metric eval: 1.631165, individual: v_measure: 0.11191219184547663, homogeneity: 0.10641915994347073, completeness: 0.10513155203079805, trk: 1.1660949428915046, adjusted_rand: 0.07546936490689404, fowlkes_mallows: 0.06613790889969096\u001B[0m\n",
      "\u001B[32m[18:35:14 ClusterHP] INFO: Evaluating all metrics took 1.86 seconds\u001B[0m\n",
      "/scratch/gpfs/kl5675/miniconda3/envs/gnn/lib/python3.10/site-packages/numpy/core/_methods.py:269: RuntimeWarning: Degrees of freedom <= 0 for slice\n",
      "  ret = _var(a, axis=axis, dtype=dtype, out=out, ddof=ddof,\n",
      "/scratch/gpfs/kl5675/miniconda3/envs/gnn/lib/python3.10/site-packages/numpy/core/_methods.py:261: RuntimeWarning: invalid value encountered in scalar divide\n",
      "  ret = ret.dtype.type(ret / rcount)\n",
      "\u001B[36m[18:35:14 ClusterHP] DEBUG: Variance among 1 trials is nan. Min/max: 0.688523/0.688523\u001B[0m\n",
      "\u001B[32m[18:35:14 ClusterHP] INFO: Clustering hyperparameter scan & metric evaluation took 2.20 seconds\u001B[0m\n"
     ]
    }
   ],
   "source": [
    "results = trainable.trainer.test_step()"
   ],
   "metadata": {
    "collapsed": false
   }
  },
  {
   "cell_type": "code",
   "execution_count": 8,
   "outputs": [
    {
     "name": "stderr",
     "output_type": "stream",
     "text": [
      "\u001B[32m[18:35:14 TCNTrainer] INFO: \n",
      "+-----+--------------------------------+-----------+------------------------+\n",
      "|     | Metric                         |     Value | Error                  |\n",
      "+=====+================================+===========+========================+\n",
      "|     | F1_pt0.9                       |   0.86024 | 0.01361075903838009    |\n",
      "|     | F1_pt1.5                       |   0.82187 | 0.034155116378419746   |\n",
      "|     | FNR_pt0.9                      |   0.08745 | 0.01242530594426536    |\n",
      "|     | FNR_pt1.5                      |   0.13116 | 0.03248621869989019    |\n",
      "|     | FPR_pt0.9                      |   0.00353 | 0.0002561898038496652  |\n",
      "|     | FPR_pt1.5                      |   0.00364 | 0.0004296238036445013  |\n",
      "|     | MCC_pt0.9                      |   0.85923 | 0.01353776606333065    |\n",
      "|     | MCC_pt1.5                      |   0.82040 | 0.03402695462321902    |\n",
      "|     | TNR_pt0.9                      |   0.99647 | 0.000256189803849664   |\n",
      "|     | TNR_pt1.5                      |   0.99636 | 0.0004296238036444912  |\n",
      "|     | TPR_pt0.9                      |   0.91255 | 0.012425305944265354   |\n",
      "|     | TPR_pt1.5                      |   0.86884 | 0.0324862186998902     |\n",
      "|     | acc_pt0.9                      |   0.99509 | 0.00030844117575048823 |\n",
      "|     | acc_pt1.5                      |   0.99452 | 0.0005974072892811031  |\n",
      "|     | adjusted_rand                  |   0.01065 | 0.0024791254123507273  |\n",
      "|     | background                     |   1.00000 | 1.332800374925011e-08  |\n",
      "|     | background_weighted            |   0.00009 | 1.15963676255251e-12   |\n",
      "|     | balanced_acc_pt0.9             |   0.95451 | 0.006203599185032619   |\n",
      "|     | balanced_acc_pt1.5             |   0.93260 | 0.016227462340133867   |\n",
      "|     | best_dbscan_eps                |   0.98394 |                        |\n",
      "|     | best_dbscan_min_samples        |   1.00000 |                        |\n",
      "|     | completeness                   |   0.86836 | 0.012716698803827375   |\n",
      "|     | fowlkes_mallows                |   0.09073 | 0.008259416676585987   |\n",
      "|     | homogeneity                    |   0.40436 | 0.03141756018928602    |\n",
      "|     | max_ba_loc_pt0.9               |   0.14221 | 0.01188043743686255    |\n",
      "|     | max_ba_loc_pt1.5               |   0.13040 | 0.016423458558063205   |\n",
      "|     | max_ba_pt0.9                   |   0.97809 | 0.002994300600182478   |\n",
      "|     | max_ba_pt1.5                   |   0.97505 | 0.004860862947395728   |\n",
      "|     | max_f1_loc_pt0.9               |   0.37085 | 0.02197065853426844    |\n",
      "|     | max_f1_loc_pt1.5               |   0.39623 | 0.025324528817965937   |\n",
      "|     | max_f1_pt0.9                   |   0.89336 | 0.0126304606198579     |\n",
      "|     | max_f1_pt1.5                   |   0.87046 | 0.026646887260868026   |\n",
      "|     | max_mcc_loc_pt0.9              |   0.37688 | 0.027475419153602628   |\n",
      "|     | max_mcc_loc_pt1.5              |   0.41633 | 0.03569254408495022    |\n",
      "|     | max_mcc_pt0.9                  |   0.89233 | 0.01262637420713549    |\n",
      "|     | max_mcc_pt1.5                  |   0.87122 | 0.025771139590896493   |\n",
      "|     | potential_attractive           |   2.54516 | 0.7411290483499876     |\n",
      "|     | potential_attractive_weighted  |   2.54516 | 0.7411290483499876     |\n",
      "|     | potential_repulsive            |  18.61375 | 3.6967387904810938     |\n",
      "|     | potential_repulsive_weighted   |   6.31043 | 1.253268030928445      |\n",
      "|     | roc_auc_0.001FPR_pt0.9         |   0.87936 | 0.0103940942221694     |\n",
      "|     | roc_auc_0.001FPR_pt1.5         |   0.88437 | 0.020668496554430548   |\n",
      "|     | roc_auc_0.01FPR_pt0.9          |   0.95313 | 0.006044231766322544   |\n",
      "|     | roc_auc_0.01FPR_pt1.5          |   0.93626 | 0.015355550662637024   |\n",
      "|     | roc_auc_0.1FPR_pt0.9           |   0.98988 | 0.0021221150571497913  |\n",
      "|     | roc_auc_0.1FPR_pt1.5           |   0.98581 | 0.004666431110442192   |\n",
      "| --> | roc_auc_pt0.9                  |   0.99793 | 0.0005003362015770779  |\n",
      "| --> | roc_auc_pt1.5                  |   0.99713 | 0.0010098284515596282  |\n",
      "|     | total                          |   8.85568 | 1.241509889689774      |\n",
      "|     | tpr_eq_tnr_loc_pt0.9           |   0.14548 | 0.008065784320655968   |\n",
      "|     | tpr_eq_tnr_loc_pt1.5           |   0.13945 | 0.010675476712330932   |\n",
      "| --> | tpr_eq_tnr_pt0.9               |   0.97770 | 0.0029796554015858873  |\n",
      "| --> | tpr_eq_tnr_pt1.5               |   0.97353 | 0.0049630413206168756  |\n",
      "|     | trk.double_majority            |   0.17778 | 0.023500342372361666   |\n",
      "|     | trk.double_majority_pt0.5      |   0.39725 | 0.04439168479967127    |\n",
      "| --> | trk.double_majority_pt0.9      |   0.68586 | 0.07598306326474798    |\n",
      "| --> | trk.double_majority_pt1.5      |   0.62930 | 0.12183000600318523    |\n",
      "|     | trk.fake_double_majority       |   0.07092 | 0.01947909953214423    |\n",
      "|     | trk.fake_double_majority_pt0.5 |   0.10018 | 0.03636673257350464    |\n",
      "| --> | trk.fake_double_majority_pt0.9 |   0.10358 | 0.06013392443170221    |\n",
      "| --> | trk.fake_double_majority_pt1.5 |   0.10938 | 0.0995712093577895     |\n",
      "|     | trk.fake_lhc                   |   0.30048 | 0.07388457128829781    |\n",
      "|     | trk.fake_lhc_pt0.5             |   0.22381 | 0.06554777794954075    |\n",
      "|     | trk.fake_lhc_pt0.9             |   0.17933 | 0.07876405941449842    |\n",
      "|     | trk.fake_lhc_pt1.5             |   0.20516 | 0.12967499276574523    |\n",
      "|     | trk.fake_perfect               |   0.15507 | 0.025392971974615333   |\n",
      "|     | trk.fake_perfect_pt0.5         |   0.28675 | 0.04919270644528575    |\n",
      "|     | trk.fake_perfect_pt0.9         |   0.42090 | 0.08473842219484715    |\n",
      "|     | trk.fake_perfect_pt1.5         |   0.39784 | 0.14517572663051032    |\n",
      "|     | trk.lhc                        |   0.69952 | 0.07388457128829783    |\n",
      "|     | trk.lhc_pt0.5                  |   0.77619 | 0.06554777794954075    |\n",
      "|     | trk.lhc_pt0.9                  |   0.82067 | 0.07876405941449842    |\n",
      "|     | trk.lhc_pt1.5                  |   0.79484 | 0.12967499276574523    |\n",
      "|     | trk.n_cleaned_clusters         |  65.63918 | 12.302765243881074     |\n",
      "|     | trk.n_cleaned_clusters_pt0.5   |  57.90722 | 10.859982422318115     |\n",
      "|     | trk.n_cleaned_clusters_pt0.9   |  37.93814 | 7.840618641872925      |\n",
      "|     | trk.n_cleaned_clusters_pt1.5   |  12.37113 | 3.8899431969633405     |\n",
      "|     | trk.n_particles                | 264.68041 | 48.31246957561624      |\n",
      "|     | trk.n_particles_pt0.5          | 116.75258 | 21.652574388816454     |\n",
      "|     | trk.n_particles_pt0.9          |  48.26804 | 10.16275416237884      |\n",
      "|     | trk.n_particles_pt1.5          |  16.84536 | 4.946253224633704      |\n",
      "|     | trk.perfect                    |   0.09363 | 0.017634966629716756   |\n",
      "|     | trk.perfect_pt0.5              |   0.21067 | 0.0362032900430326     |\n",
      "|     | trk.perfect_pt0.9              |   0.36854 | 0.07991022820745768    |\n",
      "|     | trk.perfect_pt1.5              |   0.34084 | 0.1316726589302401     |\n",
      "|     | v_measure                      |   0.55108 | 0.029565755993125067   |\n",
      "+-----+--------------------------------+-----------+------------------------+\u001B[0m\n"
     ]
    }
   ],
   "source": [
    "trainable.trainer._log_losses(results)"
   ],
   "metadata": {
    "collapsed": false
   }
  },
  {
   "cell_type": "code",
   "execution_count": 39,
   "outputs": [],
   "source": [
    "import torch\n",
    "\n",
    "trainer = trainable.trainer\n",
    "trainer.model.eval()\n",
    "\n",
    "stop = 20\n",
    "\n",
    "cluster_input = []\n",
    "with torch.no_grad():\n",
    "    loader = trainer.val_loader\n",
    "    for idx, data in enumerate(loader):\n",
    "        model_output = trainer.evaluate_model(data, mask_pids_reco=False)\n",
    "        mo = model_output\n",
    "        cluster_input.append(\n",
    "            dict(\n",
    "                x=mo[\"x\"].cpu().numpy(), truth=mo[\"particle_id\"][mo[\"ec_hit_mask\"]].cpu().numpy(), pts=mo[\"pt\"][mo[\"ec_hit_mask\"]].cpu().numpy(), reconstructable=mo[\"reconstructable\"][mo[\"ec_hit_mask\"]].cpu().numpy()\n",
    "            )\n",
    "        )\n",
    "        if idx == stop:\n",
    "            break"
   ],
   "metadata": {
    "collapsed": false
   }
  },
  {
   "cell_type": "code",
   "execution_count": 43,
   "outputs": [],
   "source": [
    "import numpy as np\n",
    "eps = np.linspace(0.5, 1.1, 100)"
   ],
   "metadata": {
    "collapsed": false
   }
  },
  {
   "cell_type": "code",
   "execution_count": 58,
   "outputs": [],
   "source": [
    "from gnn_tracking.metrics.cluster_metrics import tracking_metrics\n",
    "from gnn_tracking.postprocessing.dbscanscanner import dbscan\n",
    "from tqdm import tqdm\n",
    "\n",
    "\n",
    "def get(min_samples=1):\n",
    "    dms = []\n",
    "    dmstds = []\n",
    "    for e in tqdm(eps):\n",
    "        _dms = []\n",
    "        for inpt in cluster_input:\n",
    "            labels = dbscan(inpt[\"x\"], eps=e, min_samples=min_samples)\n",
    "            dm = tracking_metrics(truth=inpt[\"truth\"], pts=inpt[\"pts\"], reconstructable=inpt[\"reconstructable\"], predicted=labels, pt_thlds=[0.9])\n",
    "            _dms.append(dm[0.9][\"double_majority\"])\n",
    "        dms.append(np.mean(_dms))\n",
    "        dmstds.append(np.std(_dms) / np.sqrt(len(cluster_input)))\n",
    "    return np.array(dms), np.array(dmstds)"
   ],
   "metadata": {
    "collapsed": false
   }
  },
  {
   "cell_type": "code",
   "execution_count": 53,
   "outputs": [
    {
     "name": "stderr",
     "output_type": "stream",
     "text": [
      "100%|███████████████████████████████████████████████████████████████████████████████████████████████████████████████████████████████████████████████| 100/100 [00:59<00:00,  1.67it/s]\n"
     ]
    }
   ],
   "source": [
    "dms2, dmstds2 = get(2)"
   ],
   "metadata": {
    "collapsed": false
   }
  },
  {
   "cell_type": "code",
   "execution_count": 73,
   "outputs": [
    {
     "name": "stderr",
     "output_type": "stream",
     "text": [
      "100%|███████████████████████████████████████████████████████████████████████████████████████████████████████████████████████████████████████████████| 100/100 [00:59<00:00,  1.69it/s]\n"
     ]
    }
   ],
   "source": [
    "dms4, dmstds4 = get(4)"
   ],
   "metadata": {
    "collapsed": false
   }
  },
  {
   "cell_type": "code",
   "execution_count": 74,
   "outputs": [],
   "source": [
    "dms = np.array(dms)\n",
    "dmstds = np.array(dmstds)"
   ],
   "metadata": {
    "collapsed": false
   }
  },
  {
   "cell_type": "code",
   "execution_count": 75,
   "outputs": [],
   "source": [
    "import matplotlib.pyplot as plt"
   ],
   "metadata": {
    "collapsed": false
   }
  },
  {
   "cell_type": "code",
   "execution_count": 77,
   "outputs": [
    {
     "data": {
      "text/plain": "[<matplotlib.lines.Line2D at 0x14cd958c3c40>]"
     },
     "execution_count": 77,
     "metadata": {},
     "output_type": "execute_result"
    },
    {
     "data": {
      "text/plain": "<Figure size 640x480 with 1 Axes>",
      "image/png": "[encoded data removed]"
     },
     "metadata": {},
     "output_type": "display_data"
    }
   ],
   "source": [
    "fig, ax = plt.subplots()\n",
    "ax.set_ylabel(\"DM@0.9\")\n",
    "ax.set_xlabel(r\"$\\epsilon$\")\n",
    "ax.fill_between(eps, dms-dmstds, dms+dmstds, color=\"r\", alpha=0.2)\n",
    "ax.plot(eps, dms, c=\"r\")\n",
    "# ax.fill_between(eps, dms2-dmstds2, dms2+dmstds2, color=\"k\", alpha=0.2)\n",
    "# ax.plot(eps, dms2, c=\"k\")\n",
    "# ax.plot(eps, dms4, c=\"b\")\n",
    "# ax.plot(eps, dms5, c=\"k\")\n"
   ],
   "metadata": {
    "collapsed": false
   }
  },
  {
   "cell_type": "code",
   "execution_count": null,
   "outputs": [],
   "source": [],
   "metadata": {
    "collapsed": false
   }
  }
 ],
 "metadata": {
  "kernelspec": {
   "display_name": "Python 3",
   "language": "python",
   "name": "python3"
  },
  "language_info": {
   "codemirror_mode": {
    "name": "ipython",
    "version": 2
   },
   "file_extension": ".py",
   "mimetype": "text/x-python",
   "name": "python",
   "nbconvert_exporter": "python",
   "pygments_lexer": "ipython2",
   "version": "2.7.6"
  }
 },
 "nbformat": 4,
 "nbformat_minor": 0
}
