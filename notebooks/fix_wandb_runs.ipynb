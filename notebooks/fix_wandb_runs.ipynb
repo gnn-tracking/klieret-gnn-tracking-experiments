{
 "cells": [
  {
   "cell_type": "code",
   "execution_count": 1,
   "outputs": [],
   "source": [
    "import wandb"
   ],
   "metadata": {
    "collapsed": false
   }
  },
  {
   "cell_type": "code",
   "execution_count": 2,
   "outputs": [
    {
     "name": "stderr",
     "output_type": "stream",
     "text": [
      "\u001B[34m\u001B[1mwandb\u001B[0m: Logging into wandb.ai. (Learn how to deploy a W&B server locally: https://wandb.me/wandb-server)\n",
      "\u001B[34m\u001B[1mwandb\u001B[0m: You can find your API key in your browser here: https://wandb.ai/authorize\n",
      "\u001B[34m\u001B[1mwandb\u001B[0m: Paste an API key from your profile and hit enter, or press ctrl+c to quit:\u001B[34m\u001B[1mwandb\u001B[0m: Appending key for api.wandb.ai to your netrc file: /Users/fuchur/.netrc\n"
     ]
    }
   ],
   "source": [
    "api = wandb.Api()"
   ],
   "metadata": {
    "collapsed": false
   }
  },
  {
   "cell_type": "code",
   "execution_count": 5,
   "outputs": [],
   "source": [
    "run = api.run(\"gnn_tracking/gnn_tracking/f0d27770\")"
   ],
   "metadata": {
    "collapsed": false
   }
  },
  {
   "cell_type": "code",
   "execution_count": 24,
   "outputs": [],
   "source": [
    "def update_summary_metrics(run):\n",
    "    history = run.history()\n",
    "    keys = list(run.summary.keys())\n",
    "    interesting_metric_parts_max = [\n",
    "        \"double_majority\"\n",
    "    ]\n",
    "    for part in interesting_metric_parts_max:\n",
    "        metrics = [key for key in keys if part in key]\n",
    "        for metric in metrics:\n",
    "            new = history[metric].max()\n",
    "            run.summary[metric] = new"
   ],
   "metadata": {
    "collapsed": false
   }
  },
  {
   "cell_type": "code",
   "execution_count": 32,
   "outputs": [
    {
     "data": {
      "text/plain": "['trk.double_majority',\n 'trk.double_majority_pt1.5',\n 'trk.fake_double_majority_pt0.5',\n 'trk.fake_double_majority',\n 'trk.double_majority_pt0.5',\n 'tc_trk.fake_double_majority',\n 'tc_trk.fake_double_majority_pt0.9',\n 'tc_trk.double_majority_pt1.5',\n 'tc_trk.double_majority',\n 'tc_trk.fake_double_majority_pt0.5',\n 'trk.double_majority_pt0.9',\n 'tc_trk.fake_double_majority_pt1.5',\n 'trk.fake_double_majority_pt0.9',\n 'trk.fake_double_majority_pt1.5',\n 'tc_trk.double_majority_pt0.5',\n 'tc_trk.double_majority_pt0.9']"
     },
     "execution_count": 32,
     "metadata": {},
     "output_type": "execute_result"
    }
   ],
   "source": [
    "metrics"
   ],
   "metadata": {
    "collapsed": false
   }
  },
  {
   "cell_type": "code",
   "execution_count": 28,
   "outputs": [],
   "source": [
    "runs = api.runs('gnn_tracking/gnn_tracking', {\n",
    "    \"$and\": [{\n",
    "    'created_at': {\n",
    "        \"$gt\": '2022-12-09'\n",
    "        }\n",
    "    }]\n",
    "})"
   ],
   "metadata": {
    "collapsed": false
   }
  },
  {
   "cell_type": "code",
   "execution_count": 31,
   "outputs": [
    {
     "name": "stderr",
     "output_type": "stream",
     "text": [
      "100%|██████████| 103/103 [00:13<00:00,  7.42it/s]\n"
     ]
    }
   ],
   "source": [
    "from tqdm import tqdm\n",
    "\n",
    "for run in tqdm(runs):\n",
    "    update_summary_metrics(run)"
   ],
   "metadata": {
    "collapsed": false
   }
  },
  {
   "cell_type": "code",
   "execution_count": null,
   "outputs": [],
   "source": [],
   "metadata": {
    "collapsed": false
   }
  }
 ],
 "metadata": {
  "kernelspec": {
   "display_name": "Python 3",
   "language": "python",
   "name": "python3"
  },
  "language_info": {
   "codemirror_mode": {
    "name": "ipython",
    "version": 2
   },
   "file_extension": ".py",
   "mimetype": "text/x-python",
   "name": "python",
   "nbconvert_exporter": "python",
   "pygments_lexer": "ipython2",
   "version": "2.7.6"
  }
 },
 "nbformat": 4,
 "nbformat_minor": 0
}
