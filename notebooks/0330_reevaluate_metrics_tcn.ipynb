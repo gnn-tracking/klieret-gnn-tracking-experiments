{
 "cells": [
  {
   "cell_type": "markdown",
   "source": [
    "# Studying location of condensation points"
   ],
   "metadata": {
    "collapsed": false
   }
  },
  {
   "cell_type": "code",
   "execution_count": 61,
   "outputs": [],
   "source": [
    "import numpy as np\n",
    "import torch\n",
    "\n",
    "from gnn_tracking.metrics.cluster_metrics import tracking_metric_dfs\n",
    "from gnn_tracking.postprocessing.clusterscanner import sort_according_to_mask\n",
    "from gnn_tracking_hpo.trainable import PretrainedECTCNTrainable\n",
    "plt.style.use('sss1.mplstyle')"
   ],
   "metadata": {
    "collapsed": false
   }
  },
  {
   "cell_type": "markdown",
   "source": [
    "## Load model"
   ],
   "metadata": {
    "collapsed": false
   }
  },
  {
   "cell_type": "code",
   "execution_count": 2,
   "outputs": [
    {
     "name": "stderr",
     "output_type": "stream",
     "text": [
      "\u001B[36m[12:53:55 HPO] DEBUG: Loading config from /home/kl5675/ray_results/fixed-ec-50029d0b/PretrainedECTrainable_ba8a937f_10_val_batch_size=1,adam_amsgrad=False,adam_beta1=0.9000,adam_beta2=0.9990,adam_eps=0.0000,adam_wei_2023-05-04_18-10-52/params.json\u001B[0m\n",
      "\u001B[32m[12:53:55 HPO] INFO: I'm running on a node with job ID=48042336\u001B[0m\n",
      "\u001B[33m[12:53:55 HPO] WARNING: Dispatcher ID was not set. This should be set by the dispatcher as a class attribute to the trainable.\u001B[0m\n",
      "\u001B[32m[12:53:55 HPO] INFO: The ID of my dispatcher is 0\u001B[0m\n",
      "\u001B[36m[12:53:55 SlurmControl] DEBUG: Refreshing control config from /home/kl5675/ray_slurm_control.yaml\u001B[0m\n",
      "\u001B[36m[12:53:55 HPO] DEBUG: Got config\n",
      "┌───────────────────────────────┬──────────────────────────────────────────┐\n",
      "│ _val_batch_size               │ 1                                        │\n",
      "│ adam_amsgrad                  │ False                                    │\n",
      "│ adam_beta1                    │ 0.9                                      │\n",
      "│ adam_beta2                    │ 0.999                                    │\n",
      "│ adam_eps                      │ 1e-08                                    │\n",
      "│ adam_weight_decay             │ 0.0                                      │\n",
      "│ attr_pt_thld                  │ 0.6                                      │\n",
      "│ batch_size                    │ 5                                        │\n",
      "│ ec_epoch                      │ -1                                       │\n",
      "│ ec_freeze                     │ True                                     │\n",
      "│ ec_hash                       │ 50029d0b                                 │\n",
      "│ ec_loss                       │ focal                                    │\n",
      "│ ec_project                    │ ec                                       │\n",
      "│ ec_pt_thld                    │ 0.0                                      │\n",
      "│ edge_indim                    │ 4                                        │\n",
      "│ exponentiallr_gamma           │ 0.9                                      │\n",
      "│ focal_alpha                   │ 0.25                                     │\n",
      "│ focal_gamma                   │ 2.0                                      │\n",
      "│ gnn_tracking_experiments_hash │ bf45cb7557f04e8010b05f1fc9b9f8ae05e314fc │\n",
      "│ gnn_tracking_hash             │ d4747cc97355085922836b303a881286bb82cc15 │\n",
      "│ lr                            │ 0.002                                    │\n",
      "│ lw_background                 │ 0.0041                                   │\n",
      "│ lw_edge                       │ 1.0                                      │\n",
      "│ lw_potential_attractive       │ 1.0                                      │\n",
      "│ lw_potential_repulsive        │ 0.12270253420748574                      │\n",
      "│ m_L_hc                        │ 4                                        │\n",
      "│ m_alpha_hc                    │ 0.63                                     │\n",
      "│ m_e_dim                       │ 120                                      │\n",
      "│ m_ec_threshold                │ 0.37486362659682915                      │\n",
      "│ m_feed_edge_weights           │ True                                     │\n",
      "│ m_h_dim                       │ 120                                      │\n",
      "│ m_h_outdim                    │ 12                                       │\n",
      "│ m_hidden_dim                  │ 120                                      │\n",
      "│ m_mask_orphan_nodes           │ True                                     │\n",
      "│ m_use_ec_embeddings_for_hc    │ True                                     │\n",
      "│ n_graphs_test                 │ 1                                        │\n",
      "│ n_graphs_train                │ 1                                        │\n",
      "│ n_graphs_val                  │ 300                                      │\n",
      "│ node_indim                    │ 7                                        │\n",
      "│ optimizer                     │ adam                                     │\n",
      "│ q_min                         │ 0.34                                     │\n",
      "│ repulsive_radius_threshold    │ 3.7                                      │\n",
      "│ sb                            │ 0.09                                     │\n",
      "│ scheduler                     │ exponentiallr                            │\n",
      "│ sector                        │ None                                     │\n",
      "│ test                          │ False                                    │\n",
      "│ train_data_dir                │ ['/scratch/gpfs/IOJALVO/gnn-tracking/obj │\n",
      "│ val_data_dir                  │ /scratch/gpfs/IOJALVO/gnn-tracking/objec │\n",
      "└───────────────────────────────┴──────────────────────────────────────────┘\u001B[0m\n",
      "\u001B[32m[12:53:55 HPO] INFO: Initializing pre-trained model\u001B[0m\n",
      "\u001B[36m[12:53:55 HPO] DEBUG: Loading config from /home/kl5675/ray_results/ec/ContinuedECTrainable_50029d0b_22_val_batch_size=5,adam_amsgrad=False,adam_beta1=0.9000,adam_beta2=0.9990,adam_eps=0.0000,adam_weig_2023-05-03_20-53-07/params.json\u001B[0m\n",
      "\u001B[32m[12:53:55 HPO] INFO: I'm running on a node with job ID=48042336\u001B[0m\n",
      "\u001B[33m[12:53:55 HPO] WARNING: Dispatcher ID was not set. This should be set by the dispatcher as a class attribute to the trainable.\u001B[0m\n",
      "\u001B[32m[12:53:55 HPO] INFO: The ID of my dispatcher is 0\u001B[0m\n",
      "\u001B[36m[12:53:55 SlurmControl] DEBUG: Refreshing control config from /home/kl5675/ray_slurm_control.yaml\u001B[0m\n",
      "\u001B[36m[12:53:55 HPO] DEBUG: Got config\n",
      "┌────────────────────────────────────┬──────────────────────────────────────────┐\n",
      "│ _no_data                           │ True                                     │\n",
      "│ _val_batch_size                    │ 5                                        │\n",
      "│ adam_amsgrad                       │ False                                    │\n",
      "│ adam_beta1                         │ 0.9                                      │\n",
      "│ adam_beta2                         │ 0.999                                    │\n",
      "│ adam_eps                           │ 1e-08                                    │\n",
      "│ adam_weight_decay                  │ 0.0                                      │\n",
      "│ batch_size                         │ 5                                        │\n",
      "│ ec_epoch                           │ -1                                       │\n",
      "│ ec_hash                            │ 759be1c8                                 │\n",
      "│ ec_loss                            │ haughty_focal                            │\n",
      "│ ec_project                         │ ec_230502                                │\n",
      "│ ec_pt_thld                         │ 0.8696476682340163                       │\n",
      "│ edge_indim                         │ 4                                        │\n",
      "│ focal_alpha                        │ 0.3966639332867394                       │\n",
      "│ focal_gamma                        │ 3.9912747796867887                       │\n",
      "│ gnn_tracking_experiments_hash      │ ce8610a6745e138c63f3dbd8ab3cbb71b2f37e3e │\n",
      "│ gnn_tracking_hash                  │ d4747cc97355085922836b303a881286bb82cc15 │\n",
      "│ lr                                 │ 5e-05                                    │\n",
      "│ lw_edge                            │ 1.0                                      │\n",
      "│ m_L_ec                             │ 6                                        │\n",
      "│ m_alpha                            │ 0.5                                      │\n",
      "│ m_hidden_dim                       │ 120                                      │\n",
      "│ m_interaction_edge_dim             │ 120                                      │\n",
      "│ m_interaction_node_dim             │ 120                                      │\n",
      "│ m_residual_type                    │ skip1                                    │\n",
      "│ m_use_intermediate_edge_embeddings │ True                                     │\n",
      "│ m_use_node_embedding               │ True                                     │\n",
      "│ n_graphs_train                     │ 247776                                   │\n",
      "│ n_graphs_val                       │ 320                                      │\n",
      "│ node_indim                         │ 7                                        │\n",
      "│ optimizer                          │ adam                                     │\n",
      "│ scheduler                          │ None                                     │\n",
      "│ sector                             │ None                                     │\n",
      "│ test                               │ False                                    │\n",
      "│ train_data_dir                     │ ['/scratch/gpfs/IOJALVO/gnn-tracking/obj │\n",
      "│ val_data_dir                       │ /scratch/gpfs/IOJALVO/gnn-tracking/objec │\n",
      "└────────────────────────────────────┴──────────────────────────────────────────┘\u001B[0m\n",
      "\u001B[32m[12:53:55 HPO] INFO: Initializing pre-trained model\u001B[0m\n",
      "\u001B[36m[12:53:55 HPO] DEBUG: Loading config from /home/kl5675/ray_results/ec_230502/ECTrainable_759be1c8_11_val_batch_size=5,adam_amsgrad=False,adam_beta1=0.9067,adam_beta2=0.9815,adam_eps=0.0000,adam_epsilon=0.000_2023-05-02_22-10-26/params.json\u001B[0m\n",
      "\u001B[33m[12:53:55 HPO] WARNING: Removing key adam_epsilon\u001B[0m\n",
      "\u001B[32m[12:53:55 HPO] INFO: I'm running on a node with job ID=48042336\u001B[0m\n",
      "\u001B[33m[12:53:55 HPO] WARNING: Dispatcher ID was not set. This should be set by the dispatcher as a class attribute to the trainable.\u001B[0m\n",
      "\u001B[32m[12:53:55 HPO] INFO: The ID of my dispatcher is 0\u001B[0m\n",
      "\u001B[36m[12:53:55 SlurmControl] DEBUG: Refreshing control config from /home/kl5675/ray_slurm_control.yaml\u001B[0m\n",
      "\u001B[36m[12:53:55 HPO] DEBUG: Got config\n",
      "┌────────────────────────────────────┬──────────────────────────────────────────┐\n",
      "│ _no_data                           │ True                                     │\n",
      "│ _val_batch_size                    │ 5                                        │\n",
      "│ adam_amsgrad                       │ False                                    │\n",
      "│ adam_beta1                         │ 0.9066819878345389                       │\n",
      "│ adam_beta2                         │ 0.9815208854722784                       │\n",
      "│ adam_eps                           │ 1e-08                                    │\n",
      "│ adam_weight_decay                  │ 0                                        │\n",
      "│ batch_size                         │ 5                                        │\n",
      "│ ec_loss                            │ haughty_focal                            │\n",
      "│ ec_pt_thld                         │ 0.8292467946621858                       │\n",
      "│ edge_indim                         │ 4                                        │\n",
      "│ focal_alpha                        │ 0.430815829482855                        │\n",
      "│ focal_gamma                        │ 3.781611232231564                        │\n",
      "│ gnn_tracking_experiments_hash      │ 0bda3f290fe901728bdd1e8d2de15844105a2df8 │\n",
      "│ gnn_tracking_hash                  │ d4747cc97355085922836b303a881286bb82cc15 │\n",
      "│ lr                                 │ 0.0007318390296487062                    │\n",
      "│ lw_edge                            │ 1.0                                      │\n",
      "│ m_L_ec                             │ 6                                        │\n",
      "│ m_alpha                            │ 0.5                                      │\n",
      "│ m_hidden_dim                       │ 120                                      │\n",
      "│ m_interaction_edge_dim             │ 120                                      │\n",
      "│ m_interaction_node_dim             │ 120                                      │\n",
      "│ m_residual_type                    │ skip1                                    │\n",
      "│ m_use_intermediate_edge_embeddings │ True                                     │\n",
      "│ m_use_node_embedding               │ True                                     │\n",
      "│ n_graphs_train                     │ 247776                                   │\n",
      "│ n_graphs_val                       │ 320                                      │\n",
      "│ node_indim                         │ 7                                        │\n",
      "│ optimizer                          │ adam                                     │\n",
      "│ scheduler                          │ None                                     │\n",
      "│ sector                             │ None                                     │\n",
      "│ test                               │ False                                    │\n",
      "│ train_data_dir                     │ ['/scratch/gpfs/IOJALVO/gnn-tracking/obj │\n",
      "│ val_data_dir                       │ /scratch/gpfs/IOJALVO/gnn-tracking/objec │\n",
      "└────────────────────────────────────┴──────────────────────────────────────────┘\u001B[0m\n",
      "\u001B[36m[12:53:56 HPO] DEBUG: Getting loaders\u001B[0m\n",
      "\u001B[36m[12:53:56 HPO] DEBUG: Not adding loaders to trainer\u001B[0m\n",
      "\u001B[32m[12:53:56 TCNTrainer] INFO: Using device cpu\u001B[0m\n",
      "\u001B[36m[12:53:56 HPO] DEBUG: Loading checkpoint from /home/kl5675/ray_results/ec_230502/ECTrainable_759be1c8_11_val_batch_size=5,adam_amsgrad=False,adam_beta1=0.9067,adam_beta2=0.9815,adam_eps=0.0000,adam_epsilon=0.000_2023-05-02_22-10-26/checkpoint_000043/checkpoint.pt\u001B[0m\n",
      "\u001B[32m[12:53:56 HPO] INFO: Pre-trained model initialized\u001B[0m\n",
      "\u001B[36m[12:53:56 HPO] DEBUG: Getting loaders\u001B[0m\n",
      "\u001B[36m[12:53:56 HPO] DEBUG: Not adding loaders to trainer\u001B[0m\n",
      "\u001B[32m[12:53:56 TCNTrainer] INFO: Using device cpu\u001B[0m\n",
      "\u001B[36m[12:53:56 HPO] DEBUG: Loading checkpoint from /home/kl5675/ray_results/ec/ContinuedECTrainable_50029d0b_22_val_batch_size=5,adam_amsgrad=False,adam_beta1=0.9000,adam_beta2=0.9990,adam_eps=0.0000,adam_weig_2023-05-03_20-53-07/checkpoint_000013/checkpoint.pt\u001B[0m\n",
      "\u001B[32m[12:53:56 HPO] INFO: Pre-trained model initialized\u001B[0m\n",
      "\u001B[36m[12:53:56 HPO] DEBUG: Getting loaders\u001B[0m\n",
      "\u001B[32m[12:53:59] INFO: DataLoader will load 1 graphs (out of 247776 available).\u001B[0m\n",
      "\u001B[36m[12:53:59] DEBUG: First graph is /scratch/gpfs/IOJALVO/gnn-tracking/object_condensation/graphs_v1/part_1/data21000_s0.pt, last graph is /scratch/gpfs/IOJALVO/gnn-tracking/object_condensation/graphs_v1/part_1/data21000_s0.pt\u001B[0m\n",
      "\u001B[32m[12:53:59] INFO: DataLoader will load 300 graphs (out of 32000 available).\u001B[0m\n",
      "\u001B[36m[12:53:59] DEBUG: First graph is /scratch/gpfs/IOJALVO/gnn-tracking/object_condensation/graphs_v1/part_9/data29000_s0.pt, last graph is /scratch/gpfs/IOJALVO/gnn-tracking/object_condensation/graphs_v1/part_9/data29009_s19.pt\u001B[0m\n",
      "\u001B[36m[12:53:59] DEBUG: Parameters for data loader 'train': {'batch_size': 5, 'num_workers': 1, 'sampler': <torch.utils.data.sampler.RandomSampler object at 0x14bf72c17910>, 'pin_memory': True, 'shuffle': None}\u001B[0m\n",
      "\u001B[36m[12:53:59] DEBUG: Parameters for data loader 'val': {'batch_size': 1, 'num_workers': 6, 'sampler': None, 'pin_memory': True, 'shuffle': False}\u001B[0m\n",
      "\u001B[36m[12:53:59] DEBUG: Parameters for data loader 'test': {'batch_size': 1, 'num_workers': 1, 'sampler': None, 'pin_memory': True, 'shuffle': False}\u001B[0m\n",
      "\u001B[32m[12:53:59 TCNTrainer] INFO: Using device cpu\u001B[0m\n",
      "\u001B[32m[12:53:59 HPO] INFO: Final loss weights {'potential': (PotentialLoss(), {'attractive': 1.0, 'repulsive': 0.12270253420748574}), 'background': (BackgroundLoss(), 0.0041)}\u001B[0m\n",
      "\u001B[36m[12:53:59 HPO] DEBUG: Loading checkpoint from /home/kl5675/ray_results/fixed-ec-50029d0b/PretrainedECTrainable_ba8a937f_10_val_batch_size=1,adam_amsgrad=False,adam_beta1=0.9000,adam_beta2=0.9990,adam_eps=0.0000,adam_wei_2023-05-04_18-10-52/checkpoint_000014/checkpoint.pt\u001B[0m\n"
     ]
    }
   ],
   "source": [
    "trainable = PretrainedECTCNTrainable.reinstate(\n",
    "    \"fixed-ec-50029d0b\",\n",
    "    \"ba8a937f\",\n",
    "    epoch=-1,\n",
    "    config_override=dict(n_graphs_train=1, n_graphs_val=300, n_graphs_test=1)\n",
    ")"
   ],
   "metadata": {
    "collapsed": false
   }
  },
  {
   "cell_type": "markdown",
   "source": [
    "## Default Evaluate"
   ],
   "metadata": {
    "collapsed": false
   }
  },
  {
   "cell_type": "code",
   "execution_count": 13,
   "outputs": [
    {
     "name": "stderr",
     "output_type": "stream",
     "text": [
      "/scratch/gpfs/kl5675/micromamba/envs/gnn/lib/python3.10/site-packages/torch_geometric/data/collate.py:145: UserWarning: TypedStorage is deprecated. It will be removed in the future and UntypedStorage will be the only storage class. This should only matter to you if you are using storages directly.  To access UntypedStorage directly, use tensor.untyped_storage() instead of tensor.storage()\n",
      "  storage = elem.storage()._new_shared(numel)\n",
      "/scratch/gpfs/kl5675/micromamba/envs/gnn/lib/python3.10/site-packages/torch_geometric/data/collate.py:145: UserWarning: TypedStorage is deprecated. It will be removed in the future and UntypedStorage will be the only storage class. This should only matter to you if you are using storages directly.  To access UntypedStorage directly, use tensor.untyped_storage() instead of tensor.storage()\n",
      "  storage = elem.storage()._new_shared(numel)\n",
      "/scratch/gpfs/kl5675/micromamba/envs/gnn/lib/python3.10/site-packages/torch_geometric/data/collate.py:145: UserWarning: TypedStorage is deprecated. It will be removed in the future and UntypedStorage will be the only storage class. This should only matter to you if you are using storages directly.  To access UntypedStorage directly, use tensor.untyped_storage() instead of tensor.storage()\n",
      "  storage = elem.storage()._new_shared(numel)\n",
      "/scratch/gpfs/kl5675/micromamba/envs/gnn/lib/python3.10/site-packages/torch_geometric/data/collate.py:145: UserWarning: TypedStorage is deprecated. It will be removed in the future and UntypedStorage will be the only storage class. This should only matter to you if you are using storages directly.  To access UntypedStorage directly, use tensor.untyped_storage() instead of tensor.storage()\n",
      "  storage = elem.storage()._new_shared(numel)\n",
      "/scratch/gpfs/kl5675/micromamba/envs/gnn/lib/python3.10/site-packages/torch_geometric/data/collate.py:145: UserWarning: TypedStorage is deprecated. It will be removed in the future and UntypedStorage will be the only storage class. This should only matter to you if you are using storages directly.  To access UntypedStorage directly, use tensor.untyped_storage() instead of tensor.storage()\n",
      "  storage = elem.storage()._new_shared(numel)\n",
      "/scratch/gpfs/kl5675/micromamba/envs/gnn/lib/python3.10/site-packages/torch_geometric/data/collate.py:145: UserWarning: TypedStorage is deprecated. It will be removed in the future and UntypedStorage will be the only storage class. This should only matter to you if you are using storages directly.  To access UntypedStorage directly, use tensor.untyped_storage() instead of tensor.storage()\n",
      "  storage = elem.storage()._new_shared(numel)\n",
      "\u001B[33m[15:38:14 HPO] WARNING: Running on a gnn_tracking version with post-EC node pruning.\u001B[0m\n",
      "\u001B[36m[15:38:14 ClusterHP] DEBUG: Starting from params: {'eps': 0.9738473645622885, 'min_samples': 1}\u001B[0m\n",
      "\u001B[32m[15:38:14 ClusterHP] INFO: Starting hyperparameter scan for clustering\u001B[0m\n",
      "\u001B[36m[15:38:14 ClusterHP] DEBUG: Skipping optuna, because start_params are given and only one trial to run\u001B[0m\n",
      "\u001B[36m[15:38:14 ClusterHP] DEBUG: Evaluating all metrics for best clustering\u001B[0m\n",
      "\u001B[36m[15:38:26 ClusterHP] DEBUG: Evaluating metrics took 11.878700 seconds: Clustering time: 2.615742, total metric eval: 9.220142, individual: v_measure: 0.66210842365399, homogeneity: 0.5830987254157662, completeness: 0.5803931714035571, trk: 6.57037778198719, adjusted_rand: 0.45742605347186327, fowlkes_mallows: 0.3667379766702652\u001B[0m\n",
      "\u001B[32m[15:38:26 ClusterHP] INFO: Clustering hyperparameter scan & metric evaluation took 11.89 seconds\u001B[0m\n"
     ]
    }
   ],
   "source": [
    "from gnn_tracking.training.tcn_trainer import TCNTrainer\n",
    "trainer: TCNTrainer = trainable.trainer\n",
    "trainer.max_batches_for_clustering = 10000\n",
    "results = trainer.test_step()"
   ],
   "metadata": {
    "collapsed": false
   }
  },
  {
   "cell_type": "code",
   "execution_count": 18,
   "outputs": [
    {
     "data": {
      "text/plain": "{'total': 0.05048439947888255,\n 'potential_attractive': 0.03251016446544478,\n 'potential_attractive_weighted': 0.03251016446544478,\n 'potential_repulsive': 0.1132416441415747,\n 'potential_repulsive_weighted': 0.013895036713993498,\n 'background': 0.9949264578024546,\n 'background_weighted': 0.004079198476990064,\n 'acc_pt0.9': 0.9988147970009843,\n 'TPR_pt0.9': 0.9570946334817023,\n 'TNR_pt0.9': 0.9995457198353802,\n 'FPR_pt0.9': 0.00045428016461989686,\n 'FNR_pt0.9': 0.04290536651829772,\n 'balanced_acc_pt0.9': 0.9783201766585413,\n 'F1_pt0.9': 0.9651805465801124,\n 'MCC_pt0.9': 0.9646624775857666,\n 'max_ba_pt0.9': 0.9920155101026724,\n 'max_ba_loc_pt0.9': 0.2241541013121605,\n 'max_f1_pt0.9': 0.9685963992886109,\n 'max_f1_loc_pt0.9': 0.41504187206427257,\n 'max_mcc_pt0.9': 0.9682505191424646,\n 'max_mcc_loc_pt0.9': 0.41603014677762984,\n 'tpr_eq_tnr_pt0.9': 0.9907822074002737,\n 'tpr_eq_tnr_loc_pt0.9': 0.20405359894037248,\n 'roc_auc_pt0.9': 0.9995687172810237,\n 'roc_auc_0.001FPR_pt0.9': 0.9746861402193705,\n 'roc_auc_0.01FPR_pt0.9': 0.9900747702519099,\n 'roc_auc_0.1FPR_pt0.9': 0.9979188430309296,\n 'acc_pt1.5': 0.9987919817954105,\n 'TPR_pt1.5': 0.9496941735426735,\n 'TNR_pt1.5': 0.9995184183759146,\n 'FPR_pt1.5': 0.00048158162408544215,\n 'FNR_pt1.5': 0.05030582645732644,\n 'balanced_acc_pt1.5': 0.974606295959294,\n 'F1_pt1.5': 0.9578892012699023,\n 'MCC_pt1.5': 0.9574783360523448,\n 'max_ba_pt1.5': 0.9929733477762217,\n 'max_ba_loc_pt1.5': 0.2370184234281381,\n 'max_f1_pt1.5': 0.9640961396719727,\n 'max_f1_loc_pt1.5': 0.4129815716544787,\n 'max_mcc_pt1.5': 0.9639368257768177,\n 'max_mcc_loc_pt1.5': 0.4137018396457036,\n 'tpr_eq_tnr_pt1.5': 0.9906347654782083,\n 'tpr_eq_tnr_loc_pt1.5': 0.21989949534336725,\n 'roc_auc_pt1.5': 0.9995138688882192,\n 'roc_auc_0.001FPR_pt1.5': 0.9688658626874288,\n 'roc_auc_0.01FPR_pt1.5': 0.9878318794568379,\n 'roc_auc_0.1FPR_pt1.5': 0.9976679354906082,\n 'total_std': 0.01729008013050404,\n 'potential_attractive_std': 0.01609646164117672,\n 'potential_attractive_weighted_std': 0.01609646164117672,\n 'potential_repulsive_std': 0.03082299714788743,\n 'potential_repulsive_weighted_std': 0.0037820598619158928,\n 'background_std': 0.00027802456384741947,\n 'background_weighted_std': 1.1399007117744331e-06,\n 'acc_pt0.9_std': 0.0003724234841355086,\n 'TPR_pt0.9_std': 0.020526197263807423,\n 'TNR_pt0.9_std': 0.00019325651542693737,\n 'FPR_pt0.9_std': 0.00019325651542694035,\n 'FNR_pt0.9_std': 0.02052619726380742,\n 'balanced_acc_pt0.9_std': 0.010277491653776711,\n 'F1_pt0.9_std': 0.014507453477321908,\n 'MCC_pt0.9_std': 0.014573370966472087,\n 'max_ba_pt0.9_std': 0.004305627205629205,\n 'max_ba_loc_pt0.9_std': 0.04003637008617326,\n 'max_f1_pt0.9_std': 0.013689746846479089,\n 'max_f1_loc_pt0.9_std': 0.04078124810124767,\n 'max_mcc_pt0.9_std': 0.01365858172261034,\n 'max_mcc_loc_pt0.9_std': 0.04132372336641344,\n 'tpr_eq_tnr_pt0.9_std': 0.0047185608546516725,\n 'tpr_eq_tnr_loc_pt0.9_std': 0.027642525134343034,\n 'roc_auc_pt0.9_std': 0.00045680110828761803,\n 'roc_auc_0.001FPR_pt0.9_std': 0.011878049151222904,\n 'roc_auc_0.01FPR_pt0.9_std': 0.00644320449830495,\n 'roc_auc_0.1FPR_pt0.9_std': 0.0019439325432621386,\n 'acc_pt1.5_std': 0.0006694302970954857,\n 'TPR_pt1.5_std': 0.03803944752199444,\n 'TNR_pt1.5_std': 0.0003478094236918819,\n 'FPR_pt1.5_std': 0.000347809423691882,\n 'FNR_pt1.5_std': 0.038039447521994445,\n 'balanced_acc_pt1.5_std': 0.01906979305281686,\n 'F1_pt1.5_std': 0.028903394369083745,\n 'MCC_pt1.5_std': 0.028943753547324425,\n 'max_ba_pt1.5_std': 0.005949440895855886,\n 'max_ba_loc_pt1.5_std': 0.06306025051292596,\n 'max_f1_pt1.5_std': 0.02638288485353239,\n 'max_f1_loc_pt1.5_std': 0.05250079628462607,\n 'max_mcc_pt1.5_std': 0.0261706469474776,\n 'max_mcc_loc_pt1.5_std': 0.05234700282943719,\n 'tpr_eq_tnr_pt1.5_std': 0.007321841552590389,\n 'tpr_eq_tnr_loc_pt1.5_std': 0.054627604543844584,\n 'roc_auc_pt1.5_std': 0.0008604211179706868,\n 'roc_auc_0.001FPR_pt1.5_std': 0.024803876496821087,\n 'roc_auc_0.01FPR_pt1.5_std': 0.01219495395794299,\n 'roc_auc_0.1FPR_pt1.5_std': 0.003209101122200194,\n 'v_measure': 0.6265702470927149,\n 'homogeneity': 0.47888256841511745,\n 'completeness': 0.9106497824274875,\n 'trk.n_particles': 252.37,\n 'trk.n_cleaned_clusters': 94.56,\n 'trk.perfect': 0.2088595307956962,\n 'trk.double_majority': 0.30535550052173704,\n 'trk.lhc': 0.9611956848652113,\n 'trk.fake_perfect': 0.16620611624058593,\n 'trk.fake_double_majority': 0.06971014651454513,\n 'trk.fake_lhc': 0.03880431513478863,\n 'trk.n_particles_pt0.5': 111.81,\n 'trk.n_cleaned_clusters_pt0.5': 73.15333333333334,\n 'trk.perfect_pt0.5': 0.4324355930142834,\n 'trk.double_majority_pt0.5': 0.599925228442039,\n 'trk.lhc_pt0.5': 0.9690448834868437,\n 'trk.fake_perfect_pt0.5': 0.22246609379841728,\n 'trk.fake_double_majority_pt0.5': 0.05497645837066179,\n 'trk.fake_lhc_pt0.5': 0.030955116513156362,\n 'trk.n_particles_pt0.9': 44.74333333333333,\n 'trk.n_cleaned_clusters_pt0.9': 42.446666666666665,\n 'trk.perfect_pt0.9': 0.7155337707692274,\n 'trk.double_majority_pt0.9': 0.9158235409894253,\n 'trk.lhc_pt0.9': 0.9725341040154258,\n 'trk.fake_perfect_pt0.9': 0.2344109044225665,\n 'trk.fake_double_majority_pt0.9': 0.03412113420236872,\n 'trk.fake_lhc_pt0.9': 0.027465895984574225,\n 'trk.n_particles_pt1.5': 15.716666666666667,\n 'trk.n_cleaned_clusters_pt1.5': 14.693333333333333,\n 'trk.perfect_pt1.5': 0.69919534378765,\n 'trk.double_majority_pt1.5': 0.9070813862441779,\n 'trk.lhc_pt1.5': 0.9713515320727193,\n 'trk.fake_perfect_pt1.5': 0.24204595514554106,\n 'trk.fake_double_majority_pt1.5': 0.03415991268901322,\n 'trk.fake_lhc_pt1.5': 0.028648467927280687,\n 'adjusted_rand': 0.014987223017495808,\n 'fowlkes_mallows': 0.0970395926813651,\n 'v_measure_std': 0.03815424129143769,\n 'homogeneity_std': 0.04368388544786496,\n 'completeness_std': 0.011929596097537529,\n 'trk.n_particles_std': 27.33123527037668,\n 'trk.n_cleaned_clusters_std': 13.263211372806076,\n 'trk.perfect_std': 0.029683435546997455,\n 'trk.double_majority_std': 0.03449360415668412,\n 'trk.lhc_std': 0.024082566441562585,\n 'trk.fake_perfect_std': 0.026857602741178658,\n 'trk.fake_double_majority_std': 0.01860639365948225,\n 'trk.fake_lhc_std': 0.02408256644156258,\n 'trk.n_particles_pt0.5_std': 14.717651450351948,\n 'trk.n_cleaned_clusters_pt0.5_std': 10.49302151705664,\n 'trk.perfect_pt0.5_std': 0.05144896903584641,\n 'trk.double_majority_pt0.5_std': 0.04877156414594271,\n 'trk.lhc_pt0.5_std': 0.021680650464516085,\n 'trk.fake_perfect_pt0.5_std': 0.043811262010110985,\n 'trk.fake_double_majority_pt0.5_std': 0.026436341386943615,\n 'trk.fake_lhc_pt0.5_std': 0.02168065046451608,\n 'trk.n_particles_pt0.9_std': 7.861943530438784,\n 'trk.n_cleaned_clusters_pt0.9_std': 7.406077831870793,\n 'trk.perfect_pt0.9_std': 0.07264624953610622,\n 'trk.double_majority_pt0.9_std': 0.04306945266359052,\n 'trk.lhc_pt0.9_std': 0.024711893754479578,\n 'trk.fake_perfect_pt0.9_std': 0.06898946591990515,\n 'trk.fake_double_majority_pt0.9_std': 0.03141025253172861,\n 'trk.fake_lhc_pt0.9_std': 0.024711893754479578,\n 'trk.n_particles_pt1.5_std': 4.44923677896256,\n 'trk.n_cleaned_clusters_pt1.5_std': 3.967167370476505,\n 'trk.perfect_pt1.5_std': 0.1247420347175338,\n 'trk.double_majority_pt1.5_std': 0.07733402000119131,\n 'trk.lhc_pt1.5_std': 0.046069460968358206,\n 'trk.fake_perfect_pt1.5_std': 0.12051061713800466,\n 'trk.fake_double_majority_pt1.5_std': 0.05526840935461757,\n 'trk.fake_lhc_pt1.5_std': 0.046069460968358206,\n 'adjusted_rand_std': 0.0043050262451097415,\n 'fowlkes_mallows_std': 0.010141613031244718,\n 'best_dbscan_eps': 0.9738473645622885,\n 'best_dbscan_min_samples': 1}"
     },
     "execution_count": 18,
     "metadata": {},
     "output_type": "execute_result"
    }
   ],
   "source": [
    "results"
   ],
   "metadata": {
    "collapsed": false
   }
  },
  {
   "cell_type": "code",
   "execution_count": 16,
   "outputs": [
    {
     "name": "stdout",
     "output_type": "stream",
     "text": [
      "F1_pt0.9 0.9651805465801124\n",
      "F1_pt0.9_std 0.014507453477321908\n",
      "F1_pt1.5 0.9578892012699023\n",
      "F1_pt1.5_std 0.028903394369083745\n",
      "FNR_pt0.9 0.04290536651829772\n",
      "FNR_pt0.9_std 0.02052619726380742\n",
      "FNR_pt1.5 0.05030582645732644\n",
      "FNR_pt1.5_std 0.038039447521994445\n",
      "FPR_pt0.9 0.00045428016461989686\n",
      "FPR_pt0.9_std 0.00019325651542694035\n",
      "FPR_pt1.5 0.00048158162408544215\n",
      "FPR_pt1.5_std 0.000347809423691882\n",
      "MCC_pt0.9 0.9646624775857666\n",
      "MCC_pt0.9_std 0.014573370966472087\n",
      "MCC_pt1.5 0.9574783360523448\n",
      "MCC_pt1.5_std 0.028943753547324425\n",
      "TNR_pt0.9 0.9995457198353802\n",
      "TNR_pt0.9_std 0.00019325651542693737\n",
      "TNR_pt1.5 0.9995184183759146\n",
      "TNR_pt1.5_std 0.0003478094236918819\n",
      "TPR_pt0.9 0.9570946334817023\n",
      "TPR_pt0.9_std 0.020526197263807423\n",
      "TPR_pt1.5 0.9496941735426735\n",
      "TPR_pt1.5_std 0.03803944752199444\n",
      "acc_pt0.9 0.9988147970009843\n",
      "acc_pt0.9_std 0.0003724234841355086\n",
      "acc_pt1.5 0.9987919817954105\n",
      "acc_pt1.5_std 0.0006694302970954857\n",
      "adjusted_rand 0.014987223017495808\n",
      "adjusted_rand_std 0.0043050262451097415\n",
      "background 0.9949264578024546\n",
      "background_std 0.00027802456384741947\n",
      "background_weighted 0.004079198476990064\n",
      "background_weighted_std 1.1399007117744331e-06\n",
      "balanced_acc_pt0.9 0.9783201766585413\n",
      "balanced_acc_pt0.9_std 0.010277491653776711\n",
      "balanced_acc_pt1.5 0.974606295959294\n",
      "balanced_acc_pt1.5_std 0.01906979305281686\n",
      "best_dbscan_eps 0.9738473645622885\n",
      "best_dbscan_min_samples 1\n",
      "completeness 0.9106497824274875\n",
      "completeness_std 0.011929596097537529\n",
      "fowlkes_mallows 0.0970395926813651\n",
      "fowlkes_mallows_std 0.010141613031244718\n",
      "homogeneity 0.47888256841511745\n",
      "homogeneity_std 0.04368388544786496\n",
      "max_ba_loc_pt0.9 0.2241541013121605\n",
      "max_ba_loc_pt0.9_std 0.04003637008617326\n",
      "max_ba_loc_pt1.5 0.2370184234281381\n",
      "max_ba_loc_pt1.5_std 0.06306025051292596\n",
      "max_ba_pt0.9 0.9920155101026724\n",
      "max_ba_pt0.9_std 0.004305627205629205\n",
      "max_ba_pt1.5 0.9929733477762217\n",
      "max_ba_pt1.5_std 0.005949440895855886\n",
      "max_f1_loc_pt0.9 0.41504187206427257\n",
      "max_f1_loc_pt0.9_std 0.04078124810124767\n",
      "max_f1_loc_pt1.5 0.4129815716544787\n",
      "max_f1_loc_pt1.5_std 0.05250079628462607\n",
      "max_f1_pt0.9 0.9685963992886109\n",
      "max_f1_pt0.9_std 0.013689746846479089\n",
      "max_f1_pt1.5 0.9640961396719727\n",
      "max_f1_pt1.5_std 0.02638288485353239\n",
      "max_mcc_loc_pt0.9 0.41603014677762984\n",
      "max_mcc_loc_pt0.9_std 0.04132372336641344\n",
      "max_mcc_loc_pt1.5 0.4137018396457036\n",
      "max_mcc_loc_pt1.5_std 0.05234700282943719\n",
      "max_mcc_pt0.9 0.9682505191424646\n",
      "max_mcc_pt0.9_std 0.01365858172261034\n",
      "max_mcc_pt1.5 0.9639368257768177\n",
      "max_mcc_pt1.5_std 0.0261706469474776\n",
      "potential_attractive 0.03251016446544478\n",
      "potential_attractive_std 0.01609646164117672\n",
      "potential_attractive_weighted 0.03251016446544478\n",
      "potential_attractive_weighted_std 0.01609646164117672\n",
      "potential_repulsive 0.1132416441415747\n",
      "potential_repulsive_std 0.03082299714788743\n",
      "potential_repulsive_weighted 0.013895036713993498\n",
      "potential_repulsive_weighted_std 0.0037820598619158928\n",
      "roc_auc_0.001FPR_pt0.9 0.9746861402193705\n",
      "roc_auc_0.001FPR_pt0.9_std 0.011878049151222904\n",
      "roc_auc_0.001FPR_pt1.5 0.9688658626874288\n",
      "roc_auc_0.001FPR_pt1.5_std 0.024803876496821087\n",
      "roc_auc_0.01FPR_pt0.9 0.9900747702519099\n",
      "roc_auc_0.01FPR_pt0.9_std 0.00644320449830495\n",
      "roc_auc_0.01FPR_pt1.5 0.9878318794568379\n",
      "roc_auc_0.01FPR_pt1.5_std 0.01219495395794299\n",
      "roc_auc_0.1FPR_pt0.9 0.9979188430309296\n",
      "roc_auc_0.1FPR_pt0.9_std 0.0019439325432621386\n",
      "roc_auc_0.1FPR_pt1.5 0.9976679354906082\n",
      "roc_auc_0.1FPR_pt1.5_std 0.003209101122200194\n",
      "roc_auc_pt0.9 0.9995687172810237\n",
      "roc_auc_pt0.9_std 0.00045680110828761803\n",
      "roc_auc_pt1.5 0.9995138688882192\n",
      "roc_auc_pt1.5_std 0.0008604211179706868\n",
      "total 0.05048439947888255\n",
      "total_std 0.01729008013050404\n",
      "tpr_eq_tnr_loc_pt0.9 0.20405359894037248\n",
      "tpr_eq_tnr_loc_pt0.9_std 0.027642525134343034\n",
      "tpr_eq_tnr_loc_pt1.5 0.21989949534336725\n",
      "tpr_eq_tnr_loc_pt1.5_std 0.054627604543844584\n",
      "tpr_eq_tnr_pt0.9 0.9907822074002737\n",
      "tpr_eq_tnr_pt0.9_std 0.0047185608546516725\n",
      "tpr_eq_tnr_pt1.5 0.9906347654782083\n",
      "tpr_eq_tnr_pt1.5_std 0.007321841552590389\n",
      "trk.double_majority 0.30535550052173704\n",
      "trk.double_majority_pt0.5 0.599925228442039\n",
      "trk.double_majority_pt0.5_std 0.04877156414594271\n",
      "trk.double_majority_pt0.9 0.9158235409894253\n",
      "trk.double_majority_pt0.9_std 0.04306945266359052\n",
      "trk.double_majority_pt1.5 0.9070813862441779\n",
      "trk.double_majority_pt1.5_std 0.07733402000119131\n",
      "trk.double_majority_std 0.03449360415668412\n",
      "trk.fake_double_majority 0.06971014651454513\n",
      "trk.fake_double_majority_pt0.5 0.05497645837066179\n",
      "trk.fake_double_majority_pt0.5_std 0.026436341386943615\n",
      "trk.fake_double_majority_pt0.9 0.03412113420236872\n",
      "trk.fake_double_majority_pt0.9_std 0.03141025253172861\n",
      "trk.fake_double_majority_pt1.5 0.03415991268901322\n",
      "trk.fake_double_majority_pt1.5_std 0.05526840935461757\n",
      "trk.fake_double_majority_std 0.01860639365948225\n",
      "trk.fake_lhc 0.03880431513478863\n",
      "trk.fake_lhc_pt0.5 0.030955116513156362\n",
      "trk.fake_lhc_pt0.5_std 0.02168065046451608\n",
      "trk.fake_lhc_pt0.9 0.027465895984574225\n",
      "trk.fake_lhc_pt0.9_std 0.024711893754479578\n",
      "trk.fake_lhc_pt1.5 0.028648467927280687\n",
      "trk.fake_lhc_pt1.5_std 0.046069460968358206\n",
      "trk.fake_lhc_std 0.02408256644156258\n",
      "trk.fake_perfect 0.16620611624058593\n",
      "trk.fake_perfect_pt0.5 0.22246609379841728\n",
      "trk.fake_perfect_pt0.5_std 0.043811262010110985\n",
      "trk.fake_perfect_pt0.9 0.2344109044225665\n",
      "trk.fake_perfect_pt0.9_std 0.06898946591990515\n",
      "trk.fake_perfect_pt1.5 0.24204595514554106\n",
      "trk.fake_perfect_pt1.5_std 0.12051061713800466\n",
      "trk.fake_perfect_std 0.026857602741178658\n",
      "trk.lhc 0.9611956848652113\n",
      "trk.lhc_pt0.5 0.9690448834868437\n",
      "trk.lhc_pt0.5_std 0.021680650464516085\n",
      "trk.lhc_pt0.9 0.9725341040154258\n",
      "trk.lhc_pt0.9_std 0.024711893754479578\n",
      "trk.lhc_pt1.5 0.9713515320727193\n",
      "trk.lhc_pt1.5_std 0.046069460968358206\n",
      "trk.lhc_std 0.024082566441562585\n",
      "trk.n_cleaned_clusters 94.56\n",
      "trk.n_cleaned_clusters_pt0.5 73.15333333333334\n",
      "trk.n_cleaned_clusters_pt0.5_std 10.49302151705664\n",
      "trk.n_cleaned_clusters_pt0.9 42.446666666666665\n",
      "trk.n_cleaned_clusters_pt0.9_std 7.406077831870793\n",
      "trk.n_cleaned_clusters_pt1.5 14.693333333333333\n",
      "trk.n_cleaned_clusters_pt1.5_std 3.967167370476505\n",
      "trk.n_cleaned_clusters_std 13.263211372806076\n",
      "trk.n_particles 252.37\n",
      "trk.n_particles_pt0.5 111.81\n",
      "trk.n_particles_pt0.5_std 14.717651450351948\n",
      "trk.n_particles_pt0.9 44.74333333333333\n",
      "trk.n_particles_pt0.9_std 7.861943530438784\n",
      "trk.n_particles_pt1.5 15.716666666666667\n",
      "trk.n_particles_pt1.5_std 4.44923677896256\n",
      "trk.n_particles_std 27.33123527037668\n",
      "trk.perfect 0.2088595307956962\n",
      "trk.perfect_pt0.5 0.4324355930142834\n",
      "trk.perfect_pt0.5_std 0.05144896903584641\n",
      "trk.perfect_pt0.9 0.7155337707692274\n",
      "trk.perfect_pt0.9_std 0.07264624953610622\n",
      "trk.perfect_pt1.5 0.69919534378765\n",
      "trk.perfect_pt1.5_std 0.1247420347175338\n",
      "trk.perfect_std 0.029683435546997455\n",
      "v_measure 0.6265702470927149\n",
      "v_measure_std 0.03815424129143769\n"
     ]
    }
   ],
   "source": [
    "for k in sorted(results):\n",
    "    print(k, results[k])"
   ],
   "metadata": {
    "collapsed": false
   }
  },
  {
   "cell_type": "code",
   "execution_count": 9,
   "outputs": [
    {
     "data": {
      "text/plain": "1.0963855421686748"
     },
     "execution_count": 9,
     "metadata": {},
     "output_type": "execute_result"
    }
   ],
   "source": [
    "0.91/0.83"
   ],
   "metadata": {
    "collapsed": false
   }
  },
  {
   "cell_type": "code",
   "execution_count": 17,
   "outputs": [
    {
     "data": {
      "text/plain": "0.0023094010767585028"
     },
     "execution_count": 17,
     "metadata": {},
     "output_type": "execute_result"
    }
   ],
   "source": [
    "0.04/np.sqrt(300)"
   ],
   "metadata": {
    "collapsed": false
   }
  },
  {
   "cell_type": "markdown",
   "source": [
    "## Evaluate in detail"
   ],
   "metadata": {
    "collapsed": false
   }
  },
  {
   "cell_type": "code",
   "execution_count": 4,
   "outputs": [],
   "source": [
    "from gnn_tracking.metrics.cluster_metrics import count_tracking_metrics\n",
    "import itertools\n",
    "\n",
    "\n",
    "def get_h_df(data, model_output):\n",
    "    m = model_output[\"ec_hit_mask\"].cpu().numpy()\n",
    "\n",
    "    def prep(x):\n",
    "        return sort_according_to_mask([x.cpu().numpy()], [m])[0]\n",
    "\n",
    "    return pd.DataFrame({\n",
    "        \"c\": np.concatenate([clusters, np.full(data.x.shape[0] - clusters.shape[0], -1)]),\n",
    "        \"id\": prep(data.particle_id),\n",
    "        \"reconstructable\": prep(data.reconstructable),\n",
    "        \"pt\": prep(data.pt),\n",
    "        \"eta\": prep(data.x[:, 3]),\n",
    "        # \"phi\": prep(data.x[:, 2]),\n",
    "    })\n",
    "\n",
    "\n"
   ],
   "metadata": {
    "collapsed": false
   }
  },
  {
   "cell_type": "code",
   "execution_count": 50,
   "outputs": [
    {
     "name": "stderr",
     "output_type": "stream",
     "text": [
      "  0%|                                                                                                          | 0/300 [00:00<?, ?it/s]/scratch/gpfs/kl5675/micromamba/envs/gnn/lib/python3.10/site-packages/torch_geometric/data/collate.py:145: UserWarning: TypedStorage is deprecated. It will be removed in the future and UntypedStorage will be the only storage class. This should only matter to you if you are using storages directly.  To access UntypedStorage directly, use tensor.untyped_storage() instead of tensor.storage()\n",
      "  storage = elem.storage()._new_shared(numel)\n",
      "/scratch/gpfs/kl5675/micromamba/envs/gnn/lib/python3.10/site-packages/torch_geometric/data/collate.py:145: UserWarning: TypedStorage is deprecated. It will be removed in the future and UntypedStorage will be the only storage class. This should only matter to you if you are using storages directly.  To access UntypedStorage directly, use tensor.untyped_storage() instead of tensor.storage()\n",
      "  storage = elem.storage()._new_shared(numel)\n",
      "/scratch/gpfs/kl5675/micromamba/envs/gnn/lib/python3.10/site-packages/torch_geometric/data/collate.py:145: UserWarning: TypedStorage is deprecated. It will be removed in the future and UntypedStorage will be the only storage class. This should only matter to you if you are using storages directly.  To access UntypedStorage directly, use tensor.untyped_storage() instead of tensor.storage()\n",
      "  storage = elem.storage()._new_shared(numel)\n",
      "/scratch/gpfs/kl5675/micromamba/envs/gnn/lib/python3.10/site-packages/torch_geometric/data/collate.py:145: UserWarning: TypedStorage is deprecated. It will be removed in the future and UntypedStorage will be the only storage class. This should only matter to you if you are using storages directly.  To access UntypedStorage directly, use tensor.untyped_storage() instead of tensor.storage()\n",
      "  storage = elem.storage()._new_shared(numel)\n",
      "/scratch/gpfs/kl5675/micromamba/envs/gnn/lib/python3.10/site-packages/torch_geometric/data/collate.py:145: UserWarning: TypedStorage is deprecated. It will be removed in the future and UntypedStorage will be the only storage class. This should only matter to you if you are using storages directly.  To access UntypedStorage directly, use tensor.untyped_storage() instead of tensor.storage()\n",
      "  storage = elem.storage()._new_shared(numel)\n",
      "/scratch/gpfs/kl5675/micromamba/envs/gnn/lib/python3.10/site-packages/torch_geometric/data/collate.py:145: UserWarning: TypedStorage is deprecated. It will be removed in the future and UntypedStorage will be the only storage class. This should only matter to you if you are using storages directly.  To access UntypedStorage directly, use tensor.untyped_storage() instead of tensor.storage()\n",
      "  storage = elem.storage()._new_shared(numel)\n",
      " 34%|████████████████████████████████▎                                                               | 101/300 [02:04<04:05,  1.24s/it]\n"
     ]
    }
   ],
   "source": [
    "from tqdm import tqdm\n",
    "from gnn_tracking.postprocessing.dbscanscanner import dbscan\n",
    "import torch\n",
    "import pandas as pd\n",
    "\n",
    "trainer = trainable.trainer\n",
    "model = trainer.model\n",
    "model.eval()\n",
    "max_batches = 100\n",
    "m_data = []\n",
    "with torch.no_grad():\n",
    "    for _batch_idx, data in enumerate(tqdm(trainer.val_loader)):\n",
    "        if _batch_idx > max_batches:\n",
    "            break\n",
    "        model_output = trainer.evaluate_model(\n",
    "            data,\n",
    "            mask_pids_reco=False,\n",
    "        )\n",
    "        clusters = dbscan(model_output[\"x\"], eps=0.99)\n",
    "        h_df = get_h_df(data, model_output)\n",
    "        c_df = tracking_metric_dfs(h_df)\n",
    "        m_data.append((h_df, c_df))"
   ],
   "metadata": {
    "collapsed": false
   }
  },
  {
   "cell_type": "code",
   "execution_count": 51,
   "outputs": [],
   "source": [
    "c_df = tracking_metric_dfs(h_df)"
   ],
   "metadata": {
    "collapsed": false
   }
  },
  {
   "cell_type": "code",
   "execution_count": 86,
   "outputs": [],
   "source": [
    "def tracking_metrics_vs_pt(h_df, c_df, pts):\n",
    "    for pt_min, pt_max in itertools.pairwise(pts):\n",
    "        c_mask = (\n",
    "            (c_df[\"maj_pt\"] < pt_max) & (c_df[\"maj_pt\"] >= pt_min) & c_df[\"maj_reconstructable\"] & c_df[\"valid_cluster\"]\n",
    "        )\n",
    "        h_mask = (h_df[\"pt\"] < pt_max) & (h_df[\"pt\"] >= pt_min) & h_df[\"reconstructable\"].astype(bool)\n",
    "        yield count_tracking_metrics(c_df, h_df, c_mask, h_mask)\n",
    "\n",
    "def tracking_metrics_vs_var(h_df, c_df, vars, var=\"eta\", pt_min=0.9):\n",
    "    for var_min, var_max in itertools.pairwise(vars):\n",
    "        c_mask = (\n",
    "            (c_df[\"maj_pt\"] >= pt_min) & (c_df[f\"maj_{var}\"] < var_max) & (c_df[f\"maj_{var}\"] >= var_min) & c_df[\"maj_reconstructable\"] & c_df[\"valid_cluster\"]\n",
    "        )\n",
    "        h_mask = (h_df[\"pt\"] >= pt_min) & (h_df[var] < var_max) & (h_df[var] >= var_min) & h_df[\"reconstructable\"].astype(bool)\n",
    "        yield count_tracking_metrics(c_df, h_df, c_mask, h_mask)"
   ],
   "metadata": {
    "collapsed": false
   }
  },
  {
   "cell_type": "code",
   "execution_count": 111,
   "outputs": [
    {
     "name": "stderr",
     "output_type": "stream",
     "text": [
      "/home/kl5675/Documents/23/git_sync/gnn_tracking/src/gnn_tracking/utils/math.py:7: RuntimeWarning: invalid value encountered in scalar divide\n",
      "  return a / b\n"
     ]
    }
   ],
   "source": [
    "\n",
    "pts = np.linspace(0, 2, 20)\n",
    "etas = np.linspace(-4.2, 4.2, 20)\n",
    "rs_pt = []\n",
    "rs_eta = []\n",
    "for h_df, c_df in m_data:\n",
    "    rs_pt.extend(list(tracking_metrics_vs_pt(h_df, c_df, pts)))\n",
    "    rs_eta.extend(list(tracking_metrics_vs_var(h_df, c_df, etas, \"eta\")))"
   ],
   "metadata": {
    "collapsed": false
   }
  },
  {
   "cell_type": "code",
   "execution_count": 112,
   "outputs": [],
   "source": [
    "def aggregate(results, key, n_batches):\n",
    "    assert len(results) % n_batches == 0\n",
    "    n_bins = len(results) // n_batches\n",
    "    return (\n",
    "        [np.mean([r[key] for r in results[i::n_bins]]) for i in range(n_bins)],\n",
    "        [np.std([r[key] for r in results[i::n_bins]]) / np.sqrt(n_batches) for i in range(n_bins)],\n",
    "    )\n"
   ],
   "metadata": {
    "collapsed": false
   }
  },
  {
   "cell_type": "code",
   "execution_count": 113,
   "outputs": [],
   "source": [
    "from matplotlib import pyplot as plt\n",
    "\n",
    "def plot_metrics(results, xs):\n",
    "    n_batches = len(results) // (len(xs)-1)\n",
    "    print(n_batches)\n",
    "    y, ey = aggregate(results, \"double_majority\", n_batches)\n",
    "    plt.stairs(y, edges=xs)\n",
    "    plt.errorbar((xs[:-1] + xs[1:])/2, y, yerr=ey, ls=\"none\", c=\"C0\")\n",
    "    y, ey = aggregate(results, \"lhc\", n_batches)\n",
    "    plt.stairs(y, edges=xs)\n",
    "    plt.errorbar((xs[:-1] + xs[1:])/2, y, yerr=ey, ls=\"none\", c=\"C1\")\n",
    "    y, ey = aggregate(results, \"perfect\", n_batches)\n",
    "    plt.stairs(y, edges=xs)\n",
    "    plt.errorbar((xs[:-1] + xs[1:])/2, y, yerr=ey, ls=\"none\", c=\"C2\")"
   ],
   "metadata": {
    "collapsed": false
   }
  },
  {
   "cell_type": "code",
   "execution_count": 114,
   "outputs": [
    {
     "name": "stdout",
     "output_type": "stream",
     "text": [
      "101\n"
     ]
    },
    {
     "data": {
      "text/plain": "<Figure size 640x480 with 1 Axes>",
      "image/png": "[encoded data removed]"
     },
     "metadata": {},
     "output_type": "display_data"
    }
   ],
   "source": [
    "plot_metrics(list(rs_pt), pts)"
   ],
   "metadata": {
    "collapsed": false
   }
  },
  {
   "cell_type": "code",
   "execution_count": 115,
   "outputs": [
    {
     "name": "stdout",
     "output_type": "stream",
     "text": [
      "101\n"
     ]
    },
    {
     "ename": "StopIteration",
     "evalue": "",
     "output_type": "error",
     "traceback": [
      "\u001B[0;31m---------------------------------------------------------------------------\u001B[0m",
      "\u001B[0;31mStopIteration\u001B[0m                             Traceback (most recent call last)",
      "Cell \u001B[0;32mIn[115], line 1\u001B[0m\n\u001B[0;32m----> 1\u001B[0m \u001B[43mplot_metrics\u001B[49m\u001B[43m(\u001B[49m\u001B[43mrs_eta\u001B[49m\u001B[43m,\u001B[49m\u001B[43m \u001B[49m\u001B[43metas\u001B[49m\u001B[43m)\u001B[49m\n",
      "Cell \u001B[0;32mIn[113], line 11\u001B[0m, in \u001B[0;36mplot_metrics\u001B[0;34m(results, xs)\u001B[0m\n\u001B[1;32m      9\u001B[0m y, ey \u001B[38;5;241m=\u001B[39m aggregate(results, \u001B[38;5;124m\"\u001B[39m\u001B[38;5;124mlhc\u001B[39m\u001B[38;5;124m\"\u001B[39m, n_batches)\n\u001B[1;32m     10\u001B[0m plt\u001B[38;5;241m.\u001B[39mstairs(y, edges\u001B[38;5;241m=\u001B[39mxs)\n\u001B[0;32m---> 11\u001B[0m \u001B[43mplt\u001B[49m\u001B[38;5;241;43m.\u001B[39;49m\u001B[43merrorbar\u001B[49m\u001B[43m(\u001B[49m\u001B[43m(\u001B[49m\u001B[43mxs\u001B[49m\u001B[43m[\u001B[49m\u001B[43m:\u001B[49m\u001B[38;5;241;43m-\u001B[39;49m\u001B[38;5;241;43m1\u001B[39;49m\u001B[43m]\u001B[49m\u001B[43m \u001B[49m\u001B[38;5;241;43m+\u001B[39;49m\u001B[43m \u001B[49m\u001B[43mxs\u001B[49m\u001B[43m[\u001B[49m\u001B[38;5;241;43m1\u001B[39;49m\u001B[43m:\u001B[49m\u001B[43m]\u001B[49m\u001B[43m)\u001B[49m\u001B[38;5;241;43m/\u001B[39;49m\u001B[38;5;241;43m2\u001B[39;49m\u001B[43m,\u001B[49m\u001B[43m \u001B[49m\u001B[43my\u001B[49m\u001B[43m,\u001B[49m\u001B[43m \u001B[49m\u001B[43myerr\u001B[49m\u001B[38;5;241;43m=\u001B[39;49m\u001B[43mey\u001B[49m\u001B[43m,\u001B[49m\u001B[43m \u001B[49m\u001B[43mls\u001B[49m\u001B[38;5;241;43m=\u001B[39;49m\u001B[38;5;124;43m\"\u001B[39;49m\u001B[38;5;124;43mnone\u001B[39;49m\u001B[38;5;124;43m\"\u001B[39;49m\u001B[43m,\u001B[49m\u001B[43m \u001B[49m\u001B[43mc\u001B[49m\u001B[38;5;241;43m=\u001B[39;49m\u001B[38;5;124;43m\"\u001B[39;49m\u001B[38;5;124;43mC1\u001B[39;49m\u001B[38;5;124;43m\"\u001B[39;49m\u001B[43m)\u001B[49m\n\u001B[1;32m     12\u001B[0m y, ey \u001B[38;5;241m=\u001B[39m aggregate(results, \u001B[38;5;124m\"\u001B[39m\u001B[38;5;124mperfect\u001B[39m\u001B[38;5;124m\"\u001B[39m, n_batches)\n\u001B[1;32m     13\u001B[0m plt\u001B[38;5;241m.\u001B[39mstairs(y, edges\u001B[38;5;241m=\u001B[39mxs)\n",
      "File \u001B[0;32m/scratch/gpfs/kl5675/micromamba/envs/gnn/lib/python3.10/site-packages/matplotlib/pyplot.py:2564\u001B[0m, in \u001B[0;36merrorbar\u001B[0;34m(x, y, yerr, xerr, fmt, ecolor, elinewidth, capsize, barsabove, lolims, uplims, xlolims, xuplims, errorevery, capthick, data, **kwargs)\u001B[0m\n\u001B[1;32m   2558\u001B[0m \u001B[38;5;129m@_copy_docstring_and_deprecators\u001B[39m(Axes\u001B[38;5;241m.\u001B[39merrorbar)\n\u001B[1;32m   2559\u001B[0m \u001B[38;5;28;01mdef\u001B[39;00m \u001B[38;5;21merrorbar\u001B[39m(\n\u001B[1;32m   2560\u001B[0m         x, y, yerr\u001B[38;5;241m=\u001B[39m\u001B[38;5;28;01mNone\u001B[39;00m, xerr\u001B[38;5;241m=\u001B[39m\u001B[38;5;28;01mNone\u001B[39;00m, fmt\u001B[38;5;241m=\u001B[39m\u001B[38;5;124m'\u001B[39m\u001B[38;5;124m'\u001B[39m, ecolor\u001B[38;5;241m=\u001B[39m\u001B[38;5;28;01mNone\u001B[39;00m,\n\u001B[1;32m   2561\u001B[0m         elinewidth\u001B[38;5;241m=\u001B[39m\u001B[38;5;28;01mNone\u001B[39;00m, capsize\u001B[38;5;241m=\u001B[39m\u001B[38;5;28;01mNone\u001B[39;00m, barsabove\u001B[38;5;241m=\u001B[39m\u001B[38;5;28;01mFalse\u001B[39;00m, lolims\u001B[38;5;241m=\u001B[39m\u001B[38;5;28;01mFalse\u001B[39;00m,\n\u001B[1;32m   2562\u001B[0m         uplims\u001B[38;5;241m=\u001B[39m\u001B[38;5;28;01mFalse\u001B[39;00m, xlolims\u001B[38;5;241m=\u001B[39m\u001B[38;5;28;01mFalse\u001B[39;00m, xuplims\u001B[38;5;241m=\u001B[39m\u001B[38;5;28;01mFalse\u001B[39;00m, errorevery\u001B[38;5;241m=\u001B[39m\u001B[38;5;241m1\u001B[39m,\n\u001B[1;32m   2563\u001B[0m         capthick\u001B[38;5;241m=\u001B[39m\u001B[38;5;28;01mNone\u001B[39;00m, \u001B[38;5;241m*\u001B[39m, data\u001B[38;5;241m=\u001B[39m\u001B[38;5;28;01mNone\u001B[39;00m, \u001B[38;5;241m*\u001B[39m\u001B[38;5;241m*\u001B[39mkwargs):\n\u001B[0;32m-> 2564\u001B[0m     \u001B[38;5;28;01mreturn\u001B[39;00m \u001B[43mgca\u001B[49m\u001B[43m(\u001B[49m\u001B[43m)\u001B[49m\u001B[38;5;241;43m.\u001B[39;49m\u001B[43merrorbar\u001B[49m\u001B[43m(\u001B[49m\n\u001B[1;32m   2565\u001B[0m \u001B[43m        \u001B[49m\u001B[43mx\u001B[49m\u001B[43m,\u001B[49m\u001B[43m \u001B[49m\u001B[43my\u001B[49m\u001B[43m,\u001B[49m\u001B[43m \u001B[49m\u001B[43myerr\u001B[49m\u001B[38;5;241;43m=\u001B[39;49m\u001B[43myerr\u001B[49m\u001B[43m,\u001B[49m\u001B[43m \u001B[49m\u001B[43mxerr\u001B[49m\u001B[38;5;241;43m=\u001B[39;49m\u001B[43mxerr\u001B[49m\u001B[43m,\u001B[49m\u001B[43m \u001B[49m\u001B[43mfmt\u001B[49m\u001B[38;5;241;43m=\u001B[39;49m\u001B[43mfmt\u001B[49m\u001B[43m,\u001B[49m\u001B[43m \u001B[49m\u001B[43mecolor\u001B[49m\u001B[38;5;241;43m=\u001B[39;49m\u001B[43mecolor\u001B[49m\u001B[43m,\u001B[49m\n\u001B[1;32m   2566\u001B[0m \u001B[43m        \u001B[49m\u001B[43melinewidth\u001B[49m\u001B[38;5;241;43m=\u001B[39;49m\u001B[43melinewidth\u001B[49m\u001B[43m,\u001B[49m\u001B[43m \u001B[49m\u001B[43mcapsize\u001B[49m\u001B[38;5;241;43m=\u001B[39;49m\u001B[43mcapsize\u001B[49m\u001B[43m,\u001B[49m\u001B[43m \u001B[49m\u001B[43mbarsabove\u001B[49m\u001B[38;5;241;43m=\u001B[39;49m\u001B[43mbarsabove\u001B[49m\u001B[43m,\u001B[49m\n\u001B[1;32m   2567\u001B[0m \u001B[43m        \u001B[49m\u001B[43mlolims\u001B[49m\u001B[38;5;241;43m=\u001B[39;49m\u001B[43mlolims\u001B[49m\u001B[43m,\u001B[49m\u001B[43m \u001B[49m\u001B[43muplims\u001B[49m\u001B[38;5;241;43m=\u001B[39;49m\u001B[43muplims\u001B[49m\u001B[43m,\u001B[49m\u001B[43m \u001B[49m\u001B[43mxlolims\u001B[49m\u001B[38;5;241;43m=\u001B[39;49m\u001B[43mxlolims\u001B[49m\u001B[43m,\u001B[49m\n\u001B[1;32m   2568\u001B[0m \u001B[43m        \u001B[49m\u001B[43mxuplims\u001B[49m\u001B[38;5;241;43m=\u001B[39;49m\u001B[43mxuplims\u001B[49m\u001B[43m,\u001B[49m\u001B[43m \u001B[49m\u001B[43merrorevery\u001B[49m\u001B[38;5;241;43m=\u001B[39;49m\u001B[43merrorevery\u001B[49m\u001B[43m,\u001B[49m\u001B[43m \u001B[49m\u001B[43mcapthick\u001B[49m\u001B[38;5;241;43m=\u001B[39;49m\u001B[43mcapthick\u001B[49m\u001B[43m,\u001B[49m\n\u001B[1;32m   2569\u001B[0m \u001B[43m        \u001B[49m\u001B[38;5;241;43m*\u001B[39;49m\u001B[38;5;241;43m*\u001B[39;49m\u001B[43m(\u001B[49m\u001B[43m{\u001B[49m\u001B[38;5;124;43m\"\u001B[39;49m\u001B[38;5;124;43mdata\u001B[39;49m\u001B[38;5;124;43m\"\u001B[39;49m\u001B[43m:\u001B[49m\u001B[43m \u001B[49m\u001B[43mdata\u001B[49m\u001B[43m}\u001B[49m\u001B[43m \u001B[49m\u001B[38;5;28;43;01mif\u001B[39;49;00m\u001B[43m \u001B[49m\u001B[43mdata\u001B[49m\u001B[43m \u001B[49m\u001B[38;5;129;43;01mis\u001B[39;49;00m\u001B[43m \u001B[49m\u001B[38;5;129;43;01mnot\u001B[39;49;00m\u001B[43m \u001B[49m\u001B[38;5;28;43;01mNone\u001B[39;49;00m\u001B[43m \u001B[49m\u001B[38;5;28;43;01melse\u001B[39;49;00m\u001B[43m \u001B[49m\u001B[43m{\u001B[49m\u001B[43m}\u001B[49m\u001B[43m)\u001B[49m\u001B[43m,\u001B[49m\u001B[43m \u001B[49m\u001B[38;5;241;43m*\u001B[39;49m\u001B[38;5;241;43m*\u001B[39;49m\u001B[43mkwargs\u001B[49m\u001B[43m)\u001B[49m\n",
      "File \u001B[0;32m/scratch/gpfs/kl5675/micromamba/envs/gnn/lib/python3.10/site-packages/matplotlib/__init__.py:1442\u001B[0m, in \u001B[0;36m_preprocess_data.<locals>.inner\u001B[0;34m(ax, data, *args, **kwargs)\u001B[0m\n\u001B[1;32m   1439\u001B[0m \u001B[38;5;129m@functools\u001B[39m\u001B[38;5;241m.\u001B[39mwraps(func)\n\u001B[1;32m   1440\u001B[0m \u001B[38;5;28;01mdef\u001B[39;00m \u001B[38;5;21minner\u001B[39m(ax, \u001B[38;5;241m*\u001B[39margs, data\u001B[38;5;241m=\u001B[39m\u001B[38;5;28;01mNone\u001B[39;00m, \u001B[38;5;241m*\u001B[39m\u001B[38;5;241m*\u001B[39mkwargs):\n\u001B[1;32m   1441\u001B[0m     \u001B[38;5;28;01mif\u001B[39;00m data \u001B[38;5;129;01mis\u001B[39;00m \u001B[38;5;28;01mNone\u001B[39;00m:\n\u001B[0;32m-> 1442\u001B[0m         \u001B[38;5;28;01mreturn\u001B[39;00m \u001B[43mfunc\u001B[49m\u001B[43m(\u001B[49m\u001B[43max\u001B[49m\u001B[43m,\u001B[49m\u001B[43m \u001B[49m\u001B[38;5;241;43m*\u001B[39;49m\u001B[38;5;28;43mmap\u001B[39;49m\u001B[43m(\u001B[49m\u001B[43msanitize_sequence\u001B[49m\u001B[43m,\u001B[49m\u001B[43m \u001B[49m\u001B[43margs\u001B[49m\u001B[43m)\u001B[49m\u001B[43m,\u001B[49m\u001B[43m \u001B[49m\u001B[38;5;241;43m*\u001B[39;49m\u001B[38;5;241;43m*\u001B[39;49m\u001B[43mkwargs\u001B[49m\u001B[43m)\u001B[49m\n\u001B[1;32m   1444\u001B[0m     bound \u001B[38;5;241m=\u001B[39m new_sig\u001B[38;5;241m.\u001B[39mbind(ax, \u001B[38;5;241m*\u001B[39margs, \u001B[38;5;241m*\u001B[39m\u001B[38;5;241m*\u001B[39mkwargs)\n\u001B[1;32m   1445\u001B[0m     auto_label \u001B[38;5;241m=\u001B[39m (bound\u001B[38;5;241m.\u001B[39marguments\u001B[38;5;241m.\u001B[39mget(label_namer)\n\u001B[1;32m   1446\u001B[0m                   \u001B[38;5;129;01mor\u001B[39;00m bound\u001B[38;5;241m.\u001B[39mkwargs\u001B[38;5;241m.\u001B[39mget(label_namer))\n",
      "File \u001B[0;32m/scratch/gpfs/kl5675/micromamba/envs/gnn/lib/python3.10/site-packages/matplotlib/axes/_axes.py:3534\u001B[0m, in \u001B[0;36mAxes.errorbar\u001B[0;34m(self, x, y, yerr, xerr, fmt, ecolor, elinewidth, capsize, barsabove, lolims, uplims, xlolims, xuplims, errorevery, capthick, **kwargs)\u001B[0m\n\u001B[1;32m   3532\u001B[0m     xerr \u001B[38;5;241m=\u001B[39m _upcast_err(xerr)\n\u001B[1;32m   3533\u001B[0m \u001B[38;5;28;01mif\u001B[39;00m yerr \u001B[38;5;129;01mis\u001B[39;00m \u001B[38;5;129;01mnot\u001B[39;00m \u001B[38;5;28;01mNone\u001B[39;00m \u001B[38;5;129;01mand\u001B[39;00m \u001B[38;5;129;01mnot\u001B[39;00m \u001B[38;5;28misinstance\u001B[39m(yerr, np\u001B[38;5;241m.\u001B[39mndarray):\n\u001B[0;32m-> 3534\u001B[0m     yerr \u001B[38;5;241m=\u001B[39m \u001B[43m_upcast_err\u001B[49m\u001B[43m(\u001B[49m\u001B[43myerr\u001B[49m\u001B[43m)\u001B[49m\n\u001B[1;32m   3535\u001B[0m x, y \u001B[38;5;241m=\u001B[39m np\u001B[38;5;241m.\u001B[39matleast_1d(x, y)  \u001B[38;5;66;03m# Make sure all the args are iterable.\u001B[39;00m\n\u001B[1;32m   3536\u001B[0m \u001B[38;5;28;01mif\u001B[39;00m \u001B[38;5;28mlen\u001B[39m(x) \u001B[38;5;241m!=\u001B[39m \u001B[38;5;28mlen\u001B[39m(y):\n",
      "File \u001B[0;32m/scratch/gpfs/kl5675/micromamba/envs/gnn/lib/python3.10/site-packages/matplotlib/axes/_axes.py:3516\u001B[0m, in \u001B[0;36mAxes.errorbar.<locals>._upcast_err\u001B[0;34m(err)\u001B[0m\n\u001B[1;32m   3492\u001B[0m \u001B[38;5;28;01mdef\u001B[39;00m \u001B[38;5;21m_upcast_err\u001B[39m(err):\n\u001B[1;32m   3493\u001B[0m \u001B[38;5;250m    \u001B[39m\u001B[38;5;124;03m\"\"\"\u001B[39;00m\n\u001B[1;32m   3494\u001B[0m \u001B[38;5;124;03m    Safely handle tuple of containers that carry units.\u001B[39;00m\n\u001B[1;32m   3495\u001B[0m \n\u001B[0;32m   (...)\u001B[0m\n\u001B[1;32m   3504\u001B[0m \u001B[38;5;124;03m    Otherwise, fallback to casting to an object array.\u001B[39;00m\n\u001B[1;32m   3505\u001B[0m \u001B[38;5;124;03m    \"\"\"\u001B[39;00m\n\u001B[1;32m   3507\u001B[0m     \u001B[38;5;28;01mif\u001B[39;00m (\n\u001B[1;32m   3508\u001B[0m             \u001B[38;5;66;03m# make sure it is not a scalar\u001B[39;00m\n\u001B[1;32m   3509\u001B[0m             np\u001B[38;5;241m.\u001B[39miterable(err) \u001B[38;5;129;01mand\u001B[39;00m\n\u001B[1;32m   3510\u001B[0m             \u001B[38;5;66;03m# and it is not empty\u001B[39;00m\n\u001B[1;32m   3511\u001B[0m             \u001B[38;5;28mlen\u001B[39m(err) \u001B[38;5;241m>\u001B[39m \u001B[38;5;241m0\u001B[39m \u001B[38;5;129;01mand\u001B[39;00m\n\u001B[1;32m   3512\u001B[0m             \u001B[38;5;66;03m# and the first element is an array sub-class use\u001B[39;00m\n\u001B[1;32m   3513\u001B[0m             \u001B[38;5;66;03m# safe_first_element because getitem is index-first not\u001B[39;00m\n\u001B[1;32m   3514\u001B[0m             \u001B[38;5;66;03m# location first on pandas objects so err[0] almost always\u001B[39;00m\n\u001B[1;32m   3515\u001B[0m             \u001B[38;5;66;03m# fails.\u001B[39;00m\n\u001B[0;32m-> 3516\u001B[0m             \u001B[38;5;28misinstance\u001B[39m(\u001B[43mcbook\u001B[49m\u001B[38;5;241;43m.\u001B[39;49m\u001B[43m_safe_first_finite\u001B[49m\u001B[43m(\u001B[49m\u001B[43merr\u001B[49m\u001B[43m)\u001B[49m, np\u001B[38;5;241m.\u001B[39mndarray)\n\u001B[1;32m   3517\u001B[0m     ):\n\u001B[1;32m   3518\u001B[0m         \u001B[38;5;66;03m# Get the type of the first element\u001B[39;00m\n\u001B[1;32m   3519\u001B[0m         atype \u001B[38;5;241m=\u001B[39m \u001B[38;5;28mtype\u001B[39m(cbook\u001B[38;5;241m.\u001B[39m_safe_first_finite(err))\n\u001B[1;32m   3520\u001B[0m         \u001B[38;5;66;03m# Promote the outer container to match the inner container\u001B[39;00m\n",
      "File \u001B[0;32m/scratch/gpfs/kl5675/micromamba/envs/gnn/lib/python3.10/site-packages/matplotlib/cbook/__init__.py:1715\u001B[0m, in \u001B[0;36m_safe_first_finite\u001B[0;34m(obj, skip_nonfinite)\u001B[0m\n\u001B[1;32m   1712\u001B[0m     \u001B[38;5;28;01mraise\u001B[39;00m \u001B[38;5;167;01mRuntimeError\u001B[39;00m(\u001B[38;5;124m\"\u001B[39m\u001B[38;5;124mmatplotlib does not \u001B[39m\u001B[38;5;124m\"\u001B[39m\n\u001B[1;32m   1713\u001B[0m                        \u001B[38;5;124m\"\u001B[39m\u001B[38;5;124msupport generators as input\u001B[39m\u001B[38;5;124m\"\u001B[39m)\n\u001B[1;32m   1714\u001B[0m \u001B[38;5;28;01melse\u001B[39;00m:\n\u001B[0;32m-> 1715\u001B[0m     \u001B[38;5;28;01mreturn\u001B[39;00m \u001B[38;5;28;43mnext\u001B[39;49m\u001B[43m(\u001B[49m\u001B[43mval\u001B[49m\u001B[43m \u001B[49m\u001B[38;5;28;43;01mfor\u001B[39;49;00m\u001B[43m \u001B[49m\u001B[43mval\u001B[49m\u001B[43m \u001B[49m\u001B[38;5;129;43;01min\u001B[39;49;00m\u001B[43m \u001B[49m\u001B[43mobj\u001B[49m\u001B[43m \u001B[49m\u001B[38;5;28;43;01mif\u001B[39;49;00m\u001B[43m \u001B[49m\u001B[43msafe_isfinite\u001B[49m\u001B[43m(\u001B[49m\u001B[43mval\u001B[49m\u001B[43m)\u001B[49m\u001B[43m)\u001B[49m\n",
      "\u001B[0;31mStopIteration\u001B[0m: "
     ]
    },
    {
     "data": {
      "text/plain": "<Figure size 640x480 with 1 Axes>",
      "image/png": "[encoded data removed]"
     },
     "metadata": {},
     "output_type": "display_data"
    }
   ],
   "source": [
    "plot_metrics(rs_eta, etas)"
   ],
   "metadata": {
    "collapsed": false
   }
  },
  {
   "cell_type": "code",
   "execution_count": null,
   "outputs": [],
   "source": [],
   "metadata": {
    "collapsed": false
   }
  }
 ],
 "metadata": {
  "kernelspec": {
   "display_name": "Python 3",
   "language": "python",
   "name": "python3"
  },
  "language_info": {
   "codemirror_mode": {
    "name": "ipython",
    "version": 2
   },
   "file_extension": ".py",
   "mimetype": "text/x-python",
   "name": "python",
   "nbconvert_exporter": "python",
   "pygments_lexer": "ipython2",
   "version": "2.7.6"
  }
 },
 "nbformat": 4,
 "nbformat_minor": 0
}
