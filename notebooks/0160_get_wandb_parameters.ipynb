{
 "cells": [
  {
   "cell_type": "markdown",
   "source": [
    "# Get wandb parameters\n",
    "\n",
    "**Description**: Create a convenience function `get_parameters(project, hash)` that should return the `json` that I can pass in to ray tune/optuna to dedicatedly run a certain HP config for a long time\n",
    "**Status**: Simpler solution found and implemented in `hyperparameter_optimization` project"
   ],
   "metadata": {
    "collapsed": false
   }
  },
  {
   "cell_type": "code",
   "execution_count": 1,
   "metadata": {
    "collapsed": true
   },
   "outputs": [],
   "source": [
    "import wandb"
   ]
  },
  {
   "cell_type": "code",
   "execution_count": 2,
   "outputs": [],
   "source": [
    "api = wandb.Api()"
   ],
   "metadata": {
    "collapsed": false
   }
  },
  {
   "cell_type": "code",
   "execution_count": 3,
   "outputs": [],
   "source": [
    "runs = api.runs('gnn_tracking/gnn_tracking')"
   ],
   "metadata": {
    "collapsed": false
   }
  },
  {
   "cell_type": "code",
   "execution_count": 4,
   "outputs": [],
   "source": [
    "search_hash = \"da51ff45\""
   ],
   "metadata": {
    "collapsed": false
   }
  },
  {
   "cell_type": "code",
   "execution_count": 12,
   "outputs": [],
   "source": [
    "results = []\n",
    "for run in runs:\n",
    "    hash = run.url.split(\"/\")[-1]\n",
    "    if search_hash in hash:\n",
    "        results.append(run)\n",
    "if len(results) == 0:\n",
    "    raise ValueError(f\"Couldn't find hash {search_hash}\")\n",
    "elif len(results) > 1:\n",
    "    raise ValueError(f\"Found multiple runs that include {search_hash}\")"
   ],
   "metadata": {
    "collapsed": false
   }
  },
  {
   "cell_type": "code",
   "execution_count": 14,
   "outputs": [],
   "source": [
    "result = results[0]"
   ],
   "metadata": {
    "collapsed": false
   }
  },
  {
   "cell_type": "code",
   "execution_count": 18,
   "outputs": [
    {
     "data": {
      "text/plain": "dict_items([('lr', 4.634489125875428e-05), ('sb', 0.8136655143801141), ('pid', 25544), ('date', '2022-09-22_19-35-01'), ('test', False), ('q_min', 0.23807075561182617), ('m_L_ec', 7), ('m_L_hc', 1), ('lw_edge', 500), ('node_ip', '10.36.22.20'), ('hostname', 'tiger-i20g4'), ('trial_id', '380d2706'), ('m_hidden_dim', 64), ('experiment_id', '76eb0002319e47149257840c003960b9'), ('lw_background', 0.05), ('lw_potential_repulsive', 5), ('lw_potential_attractive', 500)])"
     },
     "execution_count": 18,
     "metadata": {},
     "output_type": "execute_result"
    }
   ],
   "source": [
    "run.config.items()"
   ],
   "metadata": {
    "collapsed": false
   }
  },
  {
   "cell_type": "code",
   "execution_count": 19,
   "outputs": [],
   "source": [
    "ignored_keys = [\n",
    "   \"pid\",\n",
    "   \"test\",\n",
    "   \"node_ip\",\n",
    "   \"trial_id\",\n",
    "   \"experiment_id\",\n",
    "   \"gnn_tracking_experiments_hash\",\n",
    "   \"gnn_tracking_hash\",\n",
    "   \"hostname\",\n",
    "   \"date\",\n",
    "]\n",
    "\n",
    "new_config = {\n",
    "        k: v for k, v in run.config.items()\n",
    "        if not k.startswith(\"_\") and not k in ignored_keys\n",
    "}\n"
   ],
   "metadata": {
    "collapsed": false
   }
  },
  {
   "cell_type": "code",
   "execution_count": 20,
   "outputs": [
    {
     "data": {
      "text/plain": "{'lr': 4.634489125875428e-05,\n 'sb': 0.8136655143801141,\n 'q_min': 0.23807075561182617,\n 'm_L_ec': 7,\n 'm_L_hc': 1,\n 'lw_edge': 500,\n 'm_hidden_dim': 64,\n 'lw_background': 0.05,\n 'lw_potential_repulsive': 5,\n 'lw_potential_attractive': 500}"
     },
     "execution_count": 20,
     "metadata": {},
     "output_type": "execute_result"
    }
   ],
   "source": [
    "new_config"
   ],
   "metadata": {
    "collapsed": false
   }
  },
  {
   "cell_type": "code",
   "execution_count": null,
   "outputs": [],
   "source": [],
   "metadata": {
    "collapsed": false
   }
  }
 ],
 "metadata": {
  "kernelspec": {
   "display_name": "Python 3",
   "language": "python",
   "name": "python3"
  },
  "language_info": {
   "codemirror_mode": {
    "name": "ipython",
    "version": 2
   },
   "file_extension": ".py",
   "mimetype": "text/x-python",
   "name": "python",
   "nbconvert_exporter": "python",
   "pygments_lexer": "ipython2",
   "version": "2.7.6"
  }
 },
 "nbformat": 4,
 "nbformat_minor": 0
}
