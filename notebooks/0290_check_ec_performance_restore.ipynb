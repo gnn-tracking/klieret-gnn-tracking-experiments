{
 "cells": [
  {
   "cell_type": "markdown",
   "source": [
    "# Check performance of EC after restore\n"
   ],
   "metadata": {
    "collapsed": false
   }
  },
  {
   "cell_type": "markdown",
   "source": [],
   "metadata": {
    "collapsed": false
   }
  },
  {
   "cell_type": "code",
   "execution_count": 6,
   "outputs": [],
   "source": [
    "from gnn_tracking_hpo.util.paths import add_scripts_path\n",
    "\n",
    "add_scripts_path()\n",
    "from gnn_tracking_hpo.util.paths import get_config, find_checkpoint\n",
    "from gnn_tracking_hpo.trainable import legacy_config_compatibility\n",
    "import os\n"
   ],
   "metadata": {
    "collapsed": false
   }
  },
  {
   "cell_type": "code",
   "execution_count": 7,
   "outputs": [],
   "source": [
    "from tune_ec import ECTrainable\n",
    "\n",
    "os.environ[\"GNN_TRACKING_DEVICE\"] = \"cpu\""
   ],
   "metadata": {
    "collapsed": false
   }
  },
  {
   "cell_type": "markdown",
   "source": [
    "## Load model (explicitly)"
   ],
   "metadata": {
    "collapsed": false
   }
  },
  {
   "cell_type": "code",
   "execution_count": 9,
   "outputs": [
    {
     "name": "stderr",
     "output_type": "stream",
     "text": [
      "\u001B[36m[18:09:14 gnnt_hpo] DEBUG: Loading config from /home/kl5675/ray_results/ec/ECTrainable_a94b24d1_1_val_batch_size=5,adam_amsgrad=False,adam_beta1=0.9000,adam_beta2=0.9990,adam_eps=0.0000,adam_weight_decay=0_2023-04-12_22-10-45/params.json\u001B[0m\n",
      "\u001B[32m[18:09:14 gnnt_hpo] INFO: I'm running on a node with job ID=47084643\u001B[0m\n",
      "\u001B[33m[18:09:14 gnnt_hpo] WARNING: Dispatcher ID was not set. This should be set by the dispatcher as a class attribute to the trainable.\u001B[0m\n",
      "\u001B[32m[18:09:14 gnnt_hpo] INFO: The ID of my dispatcher is 0\u001B[0m\n",
      "\u001B[36m[18:09:14 SlurmControl] DEBUG: Refreshing control config from /home/kl5675/ray_slurm_control.yaml\u001B[0m\n",
      "\u001B[36m[18:09:14 gnnt_hpo] DEBUG: Got config\n",
      "┌──────────────────────────────────────┬──────────────────────────────────────────┐\n",
      "│ _val_batch_size                      │ 5                                        │\n",
      "│ adam_amsgrad                         │ False                                    │\n",
      "│ adam_beta1                           │ 0.9                                      │\n",
      "│ adam_beta2                           │ 0.999                                    │\n",
      "│ adam_eps                             │ 1e-08                                    │\n",
      "│ adam_weight_decay                    │ 0.0                                      │\n",
      "│ batch_size                           │ 5                                        │\n",
      "│ ec_loss                              │ haughty_focal                            │\n",
      "│ ec_pt_thld                           │ 0.8145532232268194                       │\n",
      "│ focal_alpha                          │ 0.45                                     │\n",
      "│ focal_gamma                          │ 3.5                                      │\n",
      "│ gnn_tracking_experiments_hash        │ a63c12f7995466673e948f3338fc9bbbc9dc7b49 │\n",
      "│ gnn_tracking_hash                    │ c3b6b479b2f54f00b581c82bfd40fa6380ad17d6 │\n",
      "│ lr                                   │ 0.0006402252927288013                    │\n",
      "│ lw_edge                              │ 1.0                                      │\n",
      "│ m_L_ec                               │ 6                                        │\n",
      "│ m_alpha                              │ 0.7588635192855735                       │\n",
      "│ m_hidden_dim                         │ 120                                      │\n",
      "│ m_interaction_edge_dim               │ 120                                      │\n",
      "│ m_interaction_node_dim               │ 120                                      │\n",
      "│ m_residual_type                      │ skip1                                    │\n",
      "│ m_use_intermediate_edge_embeddings   │ True                                     │\n",
      "│ m_use_node_embedding                 │ True                                     │\n",
      "│ n_graphs_train                       │ 247776                                   │\n",
      "│ n_graphs_val                         │ 100                                      │\n",
      "│ optimizer                            │ adam                                     │\n",
      "│ scheduler                            │ None                                     │\n",
      "│ sector                               │ None                                     │\n",
      "│ test                                 │ False                                    │\n",
      "│ train_data_dir                       │ ['/scratch/gpfs/IOJALVO/gnn-tracking/obj │\n",
      "│ training_pt_thld                     │ 0.0                                      │\n",
      "│ training_without_noise               │ False                                    │\n",
      "│ training_without_non_reconstructable │ False                                    │\n",
      "│ val_data_dir                         │ /scratch/gpfs/IOJALVO/gnn-tracking/objec │\n",
      "└──────────────────────────────────────┴──────────────────────────────────────────┘\u001B[0m\n",
      "\u001B[36m[18:09:14 gnnt_hpo] DEBUG: Getting loaders\u001B[0m\n",
      "\u001B[32m[18:09:16] INFO: DataLoader will load 247776 graphs (out of 247776 available).\u001B[0m\n",
      "\u001B[36m[18:09:16] DEBUG: First graph is /scratch/gpfs/IOJALVO/gnn-tracking/object_condensation/graphs_v1/part_1/data21000_s0.pt, last graph is /scratch/gpfs/IOJALVO/gnn-tracking/object_condensation/graphs_v1/part_8/data28999_s9.pt\u001B[0m\n",
      "\u001B[32m[18:09:18] INFO: DataLoader will load 100 graphs (out of 32000 available).\u001B[0m\n",
      "\u001B[36m[18:09:18] DEBUG: First graph is /scratch/gpfs/IOJALVO/gnn-tracking/object_condensation/graphs_v1/part_9/data29000_s0.pt, last graph is /scratch/gpfs/IOJALVO/gnn-tracking/object_condensation/graphs_v1/part_9/data29003_s11.pt\u001B[0m\n",
      "\u001B[36m[18:09:18] DEBUG: Parameters for data loader 'train': {'batch_size': 5, 'num_workers': 12, 'sampler': <torch.utils.data.sampler.RandomSampler object at 0x14a54c810700>, 'pin_memory': True}\u001B[0m\n",
      "/scratch/gpfs/kl5675/micromamba/envs/gnn/lib/python3.10/site-packages/torch/utils/data/dataloader.py:561: UserWarning: This DataLoader will create 12 worker processes in total. Our suggested max number of worker in current system is 3, which is smaller than what this DataLoader is going to create. Please be aware that excessive worker creation might get DataLoader running slow or even freeze, lower the worker number to avoid potential slowness/freeze if necessary.\n",
      "  warnings.warn(_create_warning_msg(\n",
      "\u001B[36m[18:09:18] DEBUG: Parameters for data loader 'val': {'batch_size': 5, 'num_workers': 12, 'sampler': None, 'pin_memory': True}\u001B[0m\n",
      "\u001B[36m[18:09:18] DEBUG: Parameters for data loader 'test': {'batch_size': 5, 'num_workers': 1, 'sampler': None, 'pin_memory': True}\u001B[0m\n",
      "\u001B[32m[18:09:18 TCNTrainer] INFO: Using device cpu\u001B[0m\n",
      "\u001B[36m[18:09:18 gnnt_hpo] DEBUG: Loading checkpoint from /home/kl5675/ray_results/ec/ECTrainable_a94b24d1_1_val_batch_size=5,adam_amsgrad=False,adam_beta1=0.9000,adam_beta2=0.9990,adam_eps=0.0000,adam_weight_decay=0_2023-04-12_22-10-45/checkpoint_000048/checkpoint.pt\u001B[0m\n"
     ]
    }
   ],
   "source": [
    "project = \"ec\"\n",
    "hash = \"a94b24d1\"\n",
    "epoch=-1\n",
    "config = legacy_config_compatibility(get_config(project, hash))\n",
    "trainable = ECTrainable(config)\n",
    "trainable.load_checkpoint(str(find_checkpoint(project, hash, epoch)))"
   ],
   "metadata": {
    "collapsed": false
   }
  },
  {
   "cell_type": "code",
   "execution_count": 10,
   "outputs": [
    {
     "name": "stderr",
     "output_type": "stream",
     "text": [
      "/scratch/gpfs/kl5675/micromamba/envs/gnn/lib/python3.10/site-packages/torch_geometric/data/collate.py:145: UserWarning: TypedStorage is deprecated. It will be removed in the future and UntypedStorage will be the only storage class. This should only matter to you if you are using storages directly.  To access UntypedStorage directly, use tensor.untyped_storage() instead of tensor.storage()\n",
      "  storage = elem.storage()._new_shared(numel)\n",
      "/scratch/gpfs/kl5675/micromamba/envs/gnn/lib/python3.10/site-packages/torch_geometric/data/collate.py:145: UserWarning: TypedStorage is deprecated. It will be removed in the future and UntypedStorage will be the only storage class. This should only matter to you if you are using storages directly.  To access UntypedStorage directly, use tensor.untyped_storage() instead of tensor.storage()\n",
      "  storage = elem.storage()._new_shared(numel)\n",
      "/scratch/gpfs/kl5675/micromamba/envs/gnn/lib/python3.10/site-packages/torch_geometric/data/collate.py:145: UserWarning: TypedStorage is deprecated. It will be removed in the future and UntypedStorage will be the only storage class. This should only matter to you if you are using storages directly.  To access UntypedStorage directly, use tensor.untyped_storage() instead of tensor.storage()\n",
      "  storage = elem.storage()._new_shared(numel)\n",
      "/scratch/gpfs/kl5675/micromamba/envs/gnn/lib/python3.10/site-packages/torch_geometric/data/collate.py:145: UserWarning: TypedStorage is deprecated. It will be removed in the future and UntypedStorage will be the only storage class. This should only matter to you if you are using storages directly.  To access UntypedStorage directly, use tensor.untyped_storage() instead of tensor.storage()\n",
      "  storage = elem.storage()._new_shared(numel)\n",
      "/scratch/gpfs/kl5675/micromamba/envs/gnn/lib/python3.10/site-packages/torch_geometric/data/collate.py:145: UserWarning: TypedStorage is deprecated. It will be removed in the future and UntypedStorage will be the only storage class. This should only matter to you if you are using storages directly.  To access UntypedStorage directly, use tensor.untyped_storage() instead of tensor.storage()\n",
      "  storage = elem.storage()._new_shared(numel)\n",
      "/scratch/gpfs/kl5675/micromamba/envs/gnn/lib/python3.10/site-packages/torch_geometric/data/collate.py:145: UserWarning: TypedStorage is deprecated. It will be removed in the future and UntypedStorage will be the only storage class. This should only matter to you if you are using storages directly.  To access UntypedStorage directly, use tensor.untyped_storage() instead of tensor.storage()\n",
      "  storage = elem.storage()._new_shared(numel)\n",
      "/scratch/gpfs/kl5675/micromamba/envs/gnn/lib/python3.10/site-packages/torch_geometric/data/collate.py:145: UserWarning: TypedStorage is deprecated. It will be removed in the future and UntypedStorage will be the only storage class. This should only matter to you if you are using storages directly.  To access UntypedStorage directly, use tensor.untyped_storage() instead of tensor.storage()\n",
      "  storage = elem.storage()._new_shared(numel)\n",
      "/scratch/gpfs/kl5675/micromamba/envs/gnn/lib/python3.10/site-packages/torch_geometric/data/collate.py:145: UserWarning: TypedStorage is deprecated. It will be removed in the future and UntypedStorage will be the only storage class. This should only matter to you if you are using storages directly.  To access UntypedStorage directly, use tensor.untyped_storage() instead of tensor.storage()\n",
      "  storage = elem.storage()._new_shared(numel)\n",
      "/scratch/gpfs/kl5675/micromamba/envs/gnn/lib/python3.10/site-packages/torch_geometric/data/collate.py:145: UserWarning: TypedStorage is deprecated. It will be removed in the future and UntypedStorage will be the only storage class. This should only matter to you if you are using storages directly.  To access UntypedStorage directly, use tensor.untyped_storage() instead of tensor.storage()\n",
      "  storage = elem.storage()._new_shared(numel)\n",
      "/scratch/gpfs/kl5675/micromamba/envs/gnn/lib/python3.10/site-packages/torch_geometric/data/collate.py:145: UserWarning: TypedStorage is deprecated. It will be removed in the future and UntypedStorage will be the only storage class. This should only matter to you if you are using storages directly.  To access UntypedStorage directly, use tensor.untyped_storage() instead of tensor.storage()\n",
      "  storage = elem.storage()._new_shared(numel)\n",
      "/scratch/gpfs/kl5675/micromamba/envs/gnn/lib/python3.10/site-packages/torch_geometric/data/collate.py:145: UserWarning: TypedStorage is deprecated. It will be removed in the future and UntypedStorage will be the only storage class. This should only matter to you if you are using storages directly.  To access UntypedStorage directly, use tensor.untyped_storage() instead of tensor.storage()\n",
      "  storage = elem.storage()._new_shared(numel)\n",
      "/scratch/gpfs/kl5675/micromamba/envs/gnn/lib/python3.10/site-packages/torch_geometric/data/collate.py:145: UserWarning: TypedStorage is deprecated. It will be removed in the future and UntypedStorage will be the only storage class. This should only matter to you if you are using storages directly.  To access UntypedStorage directly, use tensor.untyped_storage() instead of tensor.storage()\n",
      "  storage = elem.storage()._new_shared(numel)\n"
     ]
    },
    {
     "data": {
      "text/plain": "{'total': 0.00018549069500295445,\n 'edge': 0.00018549069500295445,\n 'edge_weighted': 0.00018549069500295445,\n 'acc': 0.9826355220956625,\n 'TPR': 0.4387497634552955,\n 'TNR': 0.9998474008733638,\n 'FPR': 0.000152599126636247,\n 'FNR': 0.5612502365447045,\n 'balanced_acc': 0.7192985821643295,\n 'F1': 0.6068499245826444,\n 'MCC': 0.6521337922768612,\n 'max_ba': 0.8458415386713686,\n 'max_ba_loc': 0.09045226126909256,\n 'max_f1': 0.6653347491992896,\n 'max_f1_loc': 0.3158291429281235,\n 'max_mcc': 0.685993328705955,\n 'max_mcc_loc': 0.3512562781572342,\n 'tpr_eq_tnr': 0.8450469562521299,\n 'tpr_eq_tnr_loc': 0.0957286436110735,\n 'roc_auc': 0.9311763733625412,\n 'roc_auc_0.001FPR': 0.7365458279848098,\n 'roc_auc_0.01FPR': 0.7765171647071838,\n 'roc_auc_0.1FPR': 0.8281906396150589,\n 'acc_pt0.5': 0.9942693893449522,\n 'TPR_pt0.5': 0.7385029944767698,\n 'TNR_pt0.5': 0.9998370634044292,\n 'FPR_pt0.5': 0.0001629365955706718,\n 'FNR_pt0.5': 0.2614970055232302,\n 'balanced_acc_pt0.5': 0.8691700289405997,\n 'F1_pt0.5': 0.8456352297229316,\n 'MCC_pt0.5': 0.8522972351893301,\n 'max_ba_pt0.5': 0.9319664323353741,\n 'max_ba_loc_pt0.5': 0.12889447137713433,\n 'max_f1_pt0.5': 0.8649521752713817,\n 'max_f1_loc_pt0.5': 0.37110552191734314,\n 'max_mcc_pt0.5': 0.8669415317413639,\n 'max_mcc_loc_pt0.5': 0.38417084962129594,\n 'tpr_eq_tnr_pt0.5': 0.9315156301775399,\n 'tpr_eq_tnr_loc_pt0.5': 0.13165829032659532,\n 'roc_auc_pt0.5': 0.9865379422903061,\n 'roc_auc_0.001FPR_pt0.5': 0.8817458003759384,\n 'roc_auc_0.01FPR_pt0.5': 0.9098288178443908,\n 'roc_auc_0.1FPR_pt0.5': 0.9467083483934402,\n 'acc_pt0.9': 0.9981695402975836,\n 'TPR_pt0.9': 0.9058399810345742,\n 'TNR_pt0.9': 0.9998056829693255,\n 'FPR_pt0.9': 0.00019431703067468987,\n 'FNR_pt0.9': 0.09416001896542565,\n 'balanced_acc_pt0.9': 0.9528228320019497,\n 'F1_pt0.9': 0.9450475998492454,\n 'MCC_pt0.9': 0.9450513748906175,\n 'max_ba_pt0.9': 0.9875405323118219,\n 'max_ba_loc_pt0.9': 0.20301507338881492,\n 'max_f1_pt0.9': 0.9523691486553197,\n 'max_f1_loc_pt0.9': 0.4170854210853577,\n 'max_mcc_pt0.9': 0.9518035641386845,\n 'max_mcc_loc_pt0.9': 0.4195979833602905,\n 'tpr_eq_tnr_pt0.9': 0.9870588855187175,\n 'tpr_eq_tnr_loc_pt0.9': 0.19547738432884215,\n 'roc_auc_pt0.9': 0.9993247807025909,\n 'roc_auc_0.001FPR_pt0.9': 0.9600611984729767,\n 'roc_auc_0.01FPR_pt0.9': 0.9840574860572815,\n 'roc_auc_0.1FPR_pt0.9': 0.9966130286455155,\n 'acc_pt1.2': 0.9982106829562005,\n 'TPR_pt1.2': 0.9003954290808064,\n 'TNR_pt1.2': 0.9998069388509535,\n 'FPR_pt1.2': 0.00019306114904637343,\n 'FNR_pt1.2': 0.09960457091919347,\n 'balanced_acc_pt1.2': 0.9501011839658802,\n 'F1_pt1.2': 0.9415176096999696,\n 'MCC_pt1.2': 0.9416841658628586,\n 'max_ba_pt1.2': 0.9876852587348287,\n 'max_ba_loc_pt1.2': 0.20452261120080947,\n 'max_f1_pt1.2': 0.9493800419380236,\n 'max_f1_loc_pt1.2': 0.42562813460826876,\n 'max_mcc_pt1.2': 0.9488857447202106,\n 'max_mcc_loc_pt1.2': 0.42562813460826876,\n 'tpr_eq_tnr_pt1.2': 0.9871642851132174,\n 'tpr_eq_tnr_loc_pt1.2': 0.19673366472125053,\n 'roc_auc_pt1.2': 0.9993542701005935,\n 'roc_auc_0.001FPR_pt1.2': 0.957802128791809,\n 'roc_auc_0.01FPR_pt1.2': 0.9828633189201355,\n 'roc_auc_0.1FPR_pt1.2': 0.9966814756393433,\n 'acc_pt1.5': 0.9981300474162437,\n 'TPR_pt1.5': 0.8849002028897445,\n 'TNR_pt1.5': 0.9997905497961435,\n 'FPR_pt1.5': 0.00020945020385657224,\n 'FNR_pt1.5': 0.11509979711025539,\n 'balanced_acc_pt1.5': 0.9423453763429439,\n 'F1_pt1.5': 0.931303400493357,\n 'MCC_pt1.5': 0.9318561589764904,\n 'max_ba_pt1.5': 0.9867328026025568,\n 'max_ba_loc_pt1.5': 0.20376884266734124,\n 'max_f1_pt1.5': 0.9404004391948855,\n 'max_f1_loc_pt1.5': 0.4296482354402542,\n 'max_mcc_pt1.5': 0.9399860229749144,\n 'max_mcc_loc_pt1.5': 0.4304020032286644,\n 'tpr_eq_tnr_pt1.5': 0.9858204280439024,\n 'tpr_eq_tnr_loc_pt1.5': 0.19396984726190566,\n 'roc_auc_pt1.5': 0.9991863578557968,\n 'roc_auc_0.001FPR_pt1.5': 0.9494291961193084,\n 'roc_auc_0.01FPR_pt1.5': 0.9790504217147827,\n 'roc_auc_0.1FPR_pt1.5': 0.9958462685346603,\n 'total_std': 2.8023096137542157e-05,\n 'edge_std': 2.8023096137542157e-05,\n 'edge_weighted_std': 2.8023096137542157e-05,\n 'acc_std': 0.0019919695224385244,\n 'TPR_std': 0.03964452396245786,\n 'TNR_std': 2.6376903431161166e-05,\n 'FPR_std': 2.637690343115697e-05,\n 'FNR_std': 0.039644523962457844,\n 'balanced_acc_std': 0.01982378463901565,\n 'F1_std': 0.038268690660313125,\n 'MCC_std': 0.03031537465593586,\n 'max_ba_std': 0.008279350185282829,\n 'max_ba_loc_std': 0.0028238770502740187,\n 'max_f1_std': 0.03280413620729459,\n 'max_f1_loc_std': 0.016886295678244116,\n 'max_mcc_std': 0.029308383294229315,\n 'max_mcc_loc_std': 0.011631721786503854,\n 'tpr_eq_tnr_std': 0.008270889308075098,\n 'tpr_eq_tnr_loc_std': 0.003039222956768633,\n 'roc_auc_std': 0.008308535702222633,\n 'roc_auc_0.001FPR_std': 0.020316523478658838,\n 'roc_auc_0.01FPR_std': 0.018522947429321444,\n 'roc_auc_0.1FPR_std': 0.015131882171739216,\n 'acc_pt0.5_std': 0.0005739101363347408,\n 'TPR_pt0.5_std': 0.027214396112997537,\n 'TNR_pt0.5_std': 3.315660558644002e-05,\n 'FPR_pt0.5_std': 3.315660558644835e-05,\n 'FNR_pt0.5_std': 0.027214396112997526,\n 'balanced_acc_pt0.5_std': 0.01361301514275792,\n 'F1_pt0.5_std': 0.018758983085943703,\n 'MCC_pt0.5_std': 0.016769001776221513,\n 'max_ba_pt0.5_std': 0.0033210095461092075,\n 'max_ba_loc_pt0.5_std': 0.0059402192326092835,\n 'max_f1_pt0.5_std': 0.014054302768837365,\n 'max_f1_loc_pt0.5_std': 0.015231055939166106,\n 'max_mcc_pt0.5_std': 0.013525996860351996,\n 'max_mcc_loc_pt0.5_std': 0.014069877627606149,\n 'tpr_eq_tnr_pt0.5_std': 0.0034654955022312044,\n 'tpr_eq_tnr_loc_pt0.5_std': 0.003093403848941229,\n 'roc_auc_pt0.5_std': 0.0014191935630147414,\n 'roc_auc_0.001FPR_pt0.5_std': 0.01208859510175258,\n 'roc_auc_0.01FPR_pt0.5_std': 0.007842911171734416,\n 'roc_auc_0.1FPR_pt0.5_std': 0.005235824936644931,\n 'acc_pt0.9_std': 0.00025485499340333273,\n 'TPR_pt0.9_std': 0.011254651275382962,\n 'TNR_pt0.9_std': 5.865049718991916e-05,\n 'FPR_pt0.9_std': 5.865049718991935e-05,\n 'FNR_pt0.9_std': 0.011254651275382964,\n 'balanced_acc_pt0.9_std': 0.005633267036514425,\n 'F1_pt0.9_std': 0.0070339580434876404,\n 'MCC_pt0.9_std': 0.006892676654499977,\n 'max_ba_pt0.9_std': 0.0023486420147150926,\n 'max_ba_loc_pt0.9_std': 0.01938696554655747,\n 'max_f1_pt0.9_std': 0.006126854219953174,\n 'max_f1_loc_pt0.9_std': 0.027907374045182554,\n 'max_mcc_pt0.9_std': 0.0061168775951042035,\n 'max_mcc_loc_pt0.9_std': 0.028168085318887932,\n 'tpr_eq_tnr_pt0.9_std': 0.00234025416168767,\n 'tpr_eq_tnr_loc_pt0.9_std': 0.008764640581468558,\n 'roc_auc_pt0.9_std': 0.00021604150859024754,\n 'roc_auc_0.001FPR_pt0.9_std': 0.0060724475328734736,\n 'roc_auc_0.01FPR_pt0.9_std': 0.0036852655329884755,\n 'roc_auc_0.1FPR_pt0.9_std': 0.0009818985801497697,\n 'acc_pt1.2_std': 0.00036632930255708093,\n 'TPR_pt1.2_std': 0.02166978977188843,\n 'TNR_pt1.2_std': 6.058313605906116e-05,\n 'FPR_pt1.2_std': 6.058313605906891e-05,\n 'FNR_pt1.2_std': 0.021669789771888416,\n 'balanced_acc_pt1.2_std': 0.010845228481947768,\n 'F1_pt1.2_std': 0.013216985186308036,\n 'MCC_pt1.2_std': 0.012881879608276045,\n 'max_ba_pt1.2_std': 0.0030245669084007555,\n 'max_ba_loc_pt1.2_std': 0.020369791966105423,\n 'max_f1_pt1.2_std': 0.011447659295803636,\n 'max_f1_loc_pt1.2_std': 0.029123832953779398,\n 'max_mcc_pt1.2_std': 0.011454739369961518,\n 'max_mcc_loc_pt1.2_std': 0.029123832953779398,\n 'tpr_eq_tnr_pt1.2_std': 0.0032412285293938366,\n 'tpr_eq_tnr_loc_pt1.2_std': 0.008821318845442084,\n 'roc_auc_pt1.2_std': 0.0002669554848661739,\n 'roc_auc_0.001FPR_pt1.2_std': 0.01111142739849915,\n 'roc_auc_0.01FPR_pt1.2_std': 0.006552496742930572,\n 'roc_auc_0.1FPR_pt1.2_std': 0.001366171173539619,\n 'acc_pt1.5_std': 0.0004457504814037556,\n 'TPR_pt1.5_std': 0.03882551526939593,\n 'TNR_pt1.5_std': 8.407520417321853e-05,\n 'FPR_pt1.5_std': 8.407520417322067e-05,\n 'FNR_pt1.5_std': 0.03882551526939592,\n 'balanced_acc_pt1.5_std': 0.0194372606661086,\n 'F1_pt1.5_std': 0.024855388916070302,\n 'MCC_pt1.5_std': 0.02402063566851443,\n 'max_ba_pt1.5_std': 0.0038101864397108677,\n 'max_ba_loc_pt1.5_std': 0.021780799785720572,\n 'max_f1_pt1.5_std': 0.02053663079390896,\n 'max_f1_loc_pt1.5_std': 0.03270906188562058,\n 'max_mcc_pt1.5_std': 0.020463078990664536,\n 'max_mcc_loc_pt1.5_std': 0.03318405850975278,\n 'tpr_eq_tnr_pt1.5_std': 0.0044116975255021566,\n 'tpr_eq_tnr_loc_pt1.5_std': 0.009836391821973633,\n 'roc_auc_pt1.5_std': 0.0004531043811096758,\n 'roc_auc_0.001FPR_pt1.5_std': 0.019978098620623424,\n 'roc_auc_0.01FPR_pt1.5_std': 0.01092321551220445,\n 'roc_auc_0.1FPR_pt1.5_std': 0.002328987574466505}"
     },
     "execution_count": 10,
     "metadata": {},
     "output_type": "execute_result"
    }
   ],
   "source": [],
   "metadata": {
    "collapsed": false
   }
  },
  {
   "cell_type": "markdown",
   "source": [
    "## Load model like in tune_fixed_ec"
   ],
   "metadata": {
    "collapsed": false
   }
  },
  {
   "cell_type": "code",
   "execution_count": null,
   "outputs": [],
   "source": [],
   "metadata": {
    "collapsed": false
   }
  }
 ],
 "metadata": {
  "kernelspec": {
   "display_name": "Python 3",
   "language": "python",
   "name": "python3"
  },
  "language_info": {
   "codemirror_mode": {
    "name": "ipython",
    "version": 2
   },
   "file_extension": ".py",
   "mimetype": "text/x-python",
   "name": "python",
   "nbconvert_exporter": "python",
   "pygments_lexer": "ipython2",
   "version": "2.7.6"
  }
 },
 "nbformat": 4,
 "nbformat_minor": 0
}
