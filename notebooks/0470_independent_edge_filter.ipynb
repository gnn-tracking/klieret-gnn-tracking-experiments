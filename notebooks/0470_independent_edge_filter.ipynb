{
 "cells": [
  {
   "cell_type": "code",
   "execution_count": 1,
   "metadata": {
    "collapsed": true
   },
   "outputs": [],
   "source": [
    "\n",
    "from torch_geometric.data import Data\n",
    "import numpy as np\n",
    "from torch.nn.functional import normalize, relu, sigmoid\n",
    "from torch.nn import Linear, init\n",
    "import torch\n",
    "from torch import Tensor as T\n",
    "from torch.nn import ModuleList\n",
    "%load_ext autoreload\n",
    "%autoreload 2"
   ]
  },
  {
   "cell_type": "code",
   "execution_count": 2,
   "outputs": [],
   "source": [
    "\n",
    "from gnn_tracking.graph_construction.radius_scanner import construct_graph\n",
    "from gnn_tracking.models.mlp import MLP"
   ],
   "metadata": {
    "collapsed": false
   }
  },
  {
   "cell_type": "code",
   "execution_count": 3,
   "outputs": [],
   "source": [
    "# class GCWithGeometricEF:\n",
    "#     def __init__(self, ef, radius: float = 1,\n",
    "#             max_num_neighbors: int = 256,):\n",
    "#         self._ef = ef\n",
    "#         self._radius = radius\n",
    "#         self._max_num_neighbors = max_num_neighbors\n",
    "#\n",
    "#     def __call__(self, data: Data):\n",
    "#         edge_index = radius_graph(data.x, self._radius, max_num_neighbors=self._max_num_neighbors)\n",
    "#         data.edge_index = edge_index\n",
    "#         mask = self._ef(data)\n",
    "#         data.edge_index = data.edge_index[mask]\n"
   ],
   "metadata": {
    "collapsed": false
   }
  },
  {
   "cell_type": "code",
   "execution_count": 3,
   "outputs": [],
   "source": [],
   "metadata": {
    "collapsed": false
   }
  },
  {
   "cell_type": "code",
   "execution_count": 4,
   "outputs": [],
   "source": [
    "from gnn_tracking.utils.log import logger\n",
    "from torch_cluster import radius_graph\n",
    "\n",
    "\n"
   ],
   "metadata": {
    "collapsed": false
   }
  },
  {
   "cell_type": "code",
   "execution_count": 5,
   "outputs": [
    {
     "name": "stderr",
     "output_type": "stream",
     "text": [
      "\u001B[32m[19:34:35] INFO: DataLoader will load 7743 graphs (out of 7743 available).\u001B[0m\n",
      "\u001B[36m[19:34:35] DEBUG: First graph is /scratch/gpfs/IOJALVO/gnn-tracking/object_condensation/point_clouds_v5/part_1/data21000_s0.pt, last graph is /scratch/gpfs/IOJALVO/gnn-tracking/object_condensation/point_clouds_v5/part_8/data28999_s0.pt\u001B[0m\n",
      "\u001B[32m[19:34:35] INFO: DataLoader will load 10 graphs (out of 1000 available).\u001B[0m\n",
      "\u001B[36m[19:34:35] DEBUG: First graph is /scratch/gpfs/IOJALVO/gnn-tracking/object_condensation/point_clouds_v5/part_9/data29000_s0.pt, last graph is /scratch/gpfs/IOJALVO/gnn-tracking/object_condensation/point_clouds_v5/part_9/data29009_s0.pt\u001B[0m\n",
      "\u001B[36m[19:34:35] DEBUG: Parameters for data loader 'train': {'batch_size': 1, 'num_workers': 1, 'sampler': <torch.utils.data.sampler.RandomSampler object at 0x147f2a27dfc0>, 'pin_memory': True, 'shuffle': None}\u001B[0m\n",
      "\u001B[36m[19:34:35] DEBUG: Parameters for data loader 'val': {'batch_size': 1, 'num_workers': 1, 'sampler': None, 'pin_memory': True, 'shuffle': False}\u001B[0m\n"
     ]
    }
   ],
   "source": [
    "from gnn_tracking.utils.loading import TrackingDataset, get_loaders\n",
    "from pathlib import Path\n",
    "graph_dir = Path(\"\")\n",
    "\n",
    "datasets = {\n",
    "    \"train\": TrackingDataset([Path(f\"/scratch/gpfs/IOJALVO/gnn-tracking/object_condensation/point_clouds_v5/part_{i}\") for i in range(1,9)]),\n",
    "    \"val\": TrackingDataset(Path(\"/scratch/gpfs/IOJALVO/gnn-tracking/object_condensation/point_clouds_v5/part_9\"), stop=10),\n",
    "}\n",
    "loaders = get_loaders(datasets, max_sample_size=1000)"
   ],
   "metadata": {
    "collapsed": false
   }
  },
  {
   "cell_type": "code",
   "execution_count": 6,
   "outputs": [
    {
     "data": {
      "text/plain": "Data(x=[59357, 14], edge_index=[2, 203759], y=[0], layer=[59357], particle_id=[59357], pt=[59357], reconstructable=[59357], sector=[59357])"
     },
     "execution_count": 6,
     "metadata": {},
     "output_type": "execute_result"
    }
   ],
   "source": [
    "datasets[\"val\"][0]"
   ],
   "metadata": {
    "collapsed": false
   }
  },
  {
   "cell_type": "code",
   "execution_count": 7,
   "outputs": [
    {
     "name": "stderr",
     "output_type": "stream",
     "text": [
      "\u001B[32m[19:34:37 HPO] INFO: Initializing pre-trained model\u001B[0m\n",
      "\u001B[36m[19:34:37 HPO] DEBUG: Loading config from /home/kl5675/ray_results/gc-hinge-sq-sq-cells/GCTrainable_7dce6aff_24_val_batch_size=1,adam_amsgrad=False,adam_beta1=0.9000,adam_beta2=0.9990,adam_eps=0.0000,adam_weight_decay=_2023-06-08_13-32-02/params.json\u001B[0m\n",
      "\u001B[32m[19:34:37 HPO] INFO: I'm running on a node with job ID=48386227\u001B[0m\n",
      "\u001B[33m[19:34:37 HPO] WARNING: Dispatcher ID was not set. This should be set by the dispatcher as a class attribute to the trainable.\u001B[0m\n",
      "\u001B[32m[19:34:37 HPO] INFO: The ID of my dispatcher is 0\u001B[0m\n",
      "\u001B[36m[19:34:37 SlurmControl] DEBUG: Refreshing control config from /home/kl5675/ray_slurm_control.yaml\u001B[0m\n",
      "\u001B[36m[19:34:37 HPO] DEBUG: Got config\n",
      "┌───────────────────────────────┬──────────────────────────────────────────┐\n",
      "│ _no_data                      │ True                                     │\n",
      "│ _val_batch_size               │ 1                                        │\n",
      "│ adam_amsgrad                  │ False                                    │\n",
      "│ adam_beta1                    │ 0.9                                      │\n",
      "│ adam_beta2                    │ 0.999                                    │\n",
      "│ adam_eps                      │ 1e-08                                    │\n",
      "│ adam_weight_decay             │ 0.0                                      │\n",
      "│ attr_pt_thld                  │ 0.9                                      │\n",
      "│ batch_size                    │ 1                                        │\n",
      "│ ec_loss                       │ focal                                    │\n",
      "│ edge_indim                    │ 4                                        │\n",
      "│ gnn_tracking_experiments_hash │ 3af0c0a889ef312e9d44cec304c91f0642567e4d │\n",
      "│ gnn_tracking_hash             │ c446ebf53a0f05359d09b825d535ab1e30c0388f │\n",
      "│ lr                            │ 0.001                                    │\n",
      "│ lw_potential_attractive       │ 1.0                                      │\n",
      "│ lw_potential_repulsive        │ 0.001953029788887701                     │\n",
      "│ m_beta                        │ 0.4                                      │\n",
      "│ m_depth                       │ 6                                        │\n",
      "│ m_hidden_dim                  │ 512                                      │\n",
      "│ m_out_dim                     │ 8                                        │\n",
      "│ max_edges_per_node            │ 256                                      │\n",
      "│ max_num_neighbors             │ 256                                      │\n",
      "│ max_sample_size               │ 800                                      │\n",
      "│ n_graphs_train                │ 7463                                     │\n",
      "│ n_graphs_val                  │ 5                                        │\n",
      "│ node_indim                    │ 7                                        │\n",
      "│ optimizer                     │ adam                                     │\n",
      "│ p_attr                        │ 2                                        │\n",
      "│ p_rep                         │ 2                                        │\n",
      "│ r_emb                         │ 1.0                                      │\n",
      "│ rs_max_edges                  │ 10000000                                 │\n",
      "│ scheduler                     │ None                                     │\n",
      "│ sector                        │ None                                     │\n",
      "│ test                          │ False                                    │\n",
      "│ train_data_dir                │ ['/scratch/gpfs/IOJALVO/gnn-tracking/obj │\n",
      "│ val_data_dir                  │ /scratch/gpfs/IOJALVO/gnn-tracking/objec │\n",
      "└───────────────────────────────┴──────────────────────────────────────────┘\u001B[0m\n",
      "\u001B[36m[19:34:37 HPO] DEBUG: Getting loaders\u001B[0m\n",
      "\u001B[36m[19:34:37 HPO] DEBUG: Not adding loaders to trainer\u001B[0m\n",
      "\u001B[32m[19:34:37 TCNTrainer] INFO: Using device cuda\u001B[0m\n",
      "\u001B[36m[19:34:38 HPO] DEBUG: Loading checkpoint from /home/kl5675/ray_results/gc-hinge-sq-sq-cells/GCTrainable_7dce6aff_24_val_batch_size=1,adam_amsgrad=False,adam_beta1=0.9000,adam_beta2=0.9990,adam_eps=0.0000,adam_weight_decay=_2023-06-08_13-32-02/checkpoint_000009/checkpoint.pt\u001B[0m\n",
      "\u001B[32m[19:34:38 HPO] INFO: Pre-trained model initialized\u001B[0m\n"
     ]
    }
   ],
   "source": [
    "from gnn_tracking_hpo.restore import restore_model\n",
    "from gnn_tracking_hpo.trainable import GCTrainable\n",
    "\n",
    "gc_model = restore_model(GCTrainable, run_hash=\"7dce6aff\", tune_dir=\"gc-hinge-sq-sq-cells\", freeze=True)"
   ],
   "metadata": {
    "collapsed": false
   }
  },
  {
   "cell_type": "code",
   "execution_count": 8,
   "outputs": [],
   "source": [
    "def build_random_graph(data):\n",
    "    device = data.edge_index.device\n",
    "    true_edge = data.edge_index\n",
    "    random_edges = torch.randint(\n",
    "        0, data.num_nodes, (2, data.num_edges), device=device\n",
    "    )\n",
    "    data.y = torch.cat((\n",
    "        torch.full((true_edge.shape[1],), 1, dtype=torch.float, device=device),\n",
    "        torch.full((random_edges.shape[1],), 0, dtype=torch.float, device=device),\n",
    "    ))\n",
    "    data.edge_index = torch.cat([true_edge, random_edges], dim=1)"
   ],
   "metadata": {
    "collapsed": false
   }
  },
  {
   "cell_type": "code",
   "execution_count": 9,
   "outputs": [],
   "source": [
    "from gnn_tracking.models.edge_classifier import ECForGraphTCN\n",
    "\n",
    "ec = ECForGraphTCN(node_indim=14+8, edge_indim=(14+8)*2, interaction_edge_dim=64, interaction_node_dim=64, hidden_dim=64, L_ec=4, use_intermediate_edge_embeddings=False, use_node_embedding=True,)"
   ],
   "metadata": {
    "collapsed": false
   }
  },
  {
   "cell_type": "code",
   "execution_count": 10,
   "outputs": [
    {
     "ename": "NameError",
     "evalue": "name 'GCWithEF' is not defined",
     "output_type": "error",
     "traceback": [
      "\u001B[0;31m---------------------------------------------------------------------------\u001B[0m",
      "\u001B[0;31mNameError\u001B[0m                                 Traceback (most recent call last)",
      "Cell \u001B[0;32mIn[10], line 6\u001B[0m\n\u001B[1;32m      1\u001B[0m \u001B[38;5;28;01mfrom\u001B[39;00m \u001B[38;5;21;01mgnn_tracking\u001B[39;00m\u001B[38;5;21;01m.\u001B[39;00m\u001B[38;5;21;01mmetrics\u001B[39;00m\u001B[38;5;21;01m.\u001B[39;00m\u001B[38;5;21;01mlosses\u001B[39;00m \u001B[38;5;28;01mimport\u001B[39;00m EdgeWeightBCELoss, EdgeWeightFocalLoss, \\\n\u001B[1;32m      2\u001B[0m     HaughtyFocalLoss\n\u001B[1;32m      3\u001B[0m \u001B[38;5;28;01mfrom\u001B[39;00m \u001B[38;5;21;01mgnn_tracking\u001B[39;00m\u001B[38;5;21;01m.\u001B[39;00m\u001B[38;5;21;01mtraining\u001B[39;00m\u001B[38;5;21;01m.\u001B[39;00m\u001B[38;5;21;01mtcn_trainer\u001B[39;00m \u001B[38;5;28;01mimport\u001B[39;00m TCNTrainer\n\u001B[1;32m      5\u001B[0m trainer \u001B[38;5;241m=\u001B[39m TCNTrainer(\n\u001B[0;32m----> 6\u001B[0m     model\u001B[38;5;241m=\u001B[39m\u001B[43mGCWithEF\u001B[49m(\n\u001B[1;32m      7\u001B[0m         ml\u001B[38;5;241m=\u001B[39mgc_model,\n\u001B[1;32m      8\u001B[0m         ef\u001B[38;5;241m=\u001B[39mec,\u001B[38;5;66;03m#EFMLP(in_dim=14+8, hidden_dim=128, depth=6),\u001B[39;00m\n\u001B[1;32m      9\u001B[0m         radius\u001B[38;5;241m=\u001B[39m\u001B[38;5;241m0.7\u001B[39m,\n\u001B[1;32m     10\u001B[0m         max_num_neighbors\u001B[38;5;241m=\u001B[39m\u001B[38;5;241m64\u001B[39m,\n\u001B[1;32m     11\u001B[0m         use_embedding_features\u001B[38;5;241m=\u001B[39m\u001B[38;5;28;01mTrue\u001B[39;00m,\n\u001B[1;32m     12\u001B[0m         ratio_of_false\u001B[38;5;241m=\u001B[39m\u001B[38;5;28;01mNone\u001B[39;00m,\n\u001B[1;32m     13\u001B[0m         build_edge_features\u001B[38;5;241m=\u001B[39m\u001B[38;5;28;01mTrue\u001B[39;00m,\n\u001B[1;32m     14\u001B[0m     ),\n\u001B[1;32m     15\u001B[0m     loaders\u001B[38;5;241m=\u001B[39mloaders,\n\u001B[1;32m     16\u001B[0m     loss_functions\u001B[38;5;241m=\u001B[39m{\u001B[38;5;124m\"\u001B[39m\u001B[38;5;124medge\u001B[39m\u001B[38;5;124m\"\u001B[39m: (HaughtyFocalLoss(alpha\u001B[38;5;241m=\u001B[39m\u001B[38;5;241m0.5\u001B[39m, gamma\u001B[38;5;241m=\u001B[39m\u001B[38;5;241m0\u001B[39m, pt_thld\u001B[38;5;241m=\u001B[39m\u001B[38;5;241m0.9\u001B[39m), \u001B[38;5;241m1.\u001B[39m)},\n\u001B[1;32m     17\u001B[0m     lr\u001B[38;5;241m=\u001B[39m\u001B[38;5;241m1e-3\u001B[39m,\n\u001B[1;32m     18\u001B[0m )\n",
      "\u001B[0;31mNameError\u001B[0m: name 'GCWithEF' is not defined"
     ]
    }
   ],
   "source": [
    "from gnn_tracking.metrics.losses import EdgeWeightBCELoss, EdgeWeightFocalLoss, \\\n",
    "    HaughtyFocalLoss\n",
    "from gnn_tracking.training.tcn_trainer import TCNTrainer\n",
    "\n",
    "trainer = TCNTrainer(\n",
    "    model=GCWithEF(\n",
    "        ml=gc_model,\n",
    "        ef=ec,#EFMLP(in_dim=14+8, hidden_dim=128, depth=6),\n",
    "        radius=0.7,\n",
    "        max_num_neighbors=64,\n",
    "        use_embedding_features=True,\n",
    "        ratio_of_false=None,\n",
    "        build_edge_features=True,\n",
    "    ),\n",
    "    loaders=loaders,\n",
    "    loss_functions={\"edge\": (HaughtyFocalLoss(alpha=0.5, gamma=0, pt_thld=0.9), 1.)},\n",
    "    lr=1e-3,\n",
    ")"
   ],
   "metadata": {
    "collapsed": false
   }
  },
  {
   "cell_type": "code",
   "execution_count": null,
   "outputs": [],
   "source": [
    "trainer.train(epochs=10)"
   ],
   "metadata": {
    "collapsed": false
   }
  },
  {
   "cell_type": "code",
   "execution_count": 13,
   "outputs": [
    {
     "name": "stderr",
     "output_type": "stream",
     "text": [
      "/scratch/gpfs/kl5675/micromamba/envs/gnn/lib/python3.10/site-packages/torch_geometric/data/collate.py:145: UserWarning: TypedStorage is deprecated. It will be removed in the future and UntypedStorage will be the only storage class. This should only matter to you if you are using storages directly.  To access UntypedStorage directly, use tensor.untyped_storage() instead of tensor.storage()\n",
      "  storage = elem.storage()._new_shared(numel)\n"
     ]
    },
    {
     "name": "stdout",
     "output_type": "stream",
     "text": [
      "n edges: 7837250, true: 413704, false: 7423546\n",
      "{'acc': 0.05321815687900731, 'TPR': 0.9997824531549127, 'TNR': 0.00046743160209420135, 'FPR': 0.9995325683979058, 'FNR': 0.0002175468450873088, 'balanced_acc': 0.5001249423785035, 'F1': 0.10030174379931406, 'MCC': 0.002622298564743843, 'n_true': 413704, 'n_false': 7423546, 'n_predicted_true': 7833690, 'n_predicted_false': 3560}\n"
     ]
    }
   ],
   "source": [
    "\n",
    "\n",
    "from gnn_tracking.metrics.binary_classification import BinaryClassificationStats\n",
    "\n",
    "for i, data in enumerate(loaders[\"val\"]):\n",
    "    if i > 5:\n",
    "        break\n",
    "    latent = gc_model(data.to(\"cuda\"))[\"H\"]\n",
    "    edge_index = radius_graph(latent, r=1, max_num_neighbors=256)\n",
    "    y = (data.particle_id[edge_index[0]] == data.particle_id[edge_index[1]])\n",
    "    print(f\"n edges: {edge_index.shape[1]}, true: {y.sum()}, false: {(~y).sum()}\")\n",
    "    data.edge_index = edge_index\n",
    "    mask = GeometricEF(z0_max=1e6, dR_max=1e6, phi_slope_max=1e6)(data)\n",
    "    s = BinaryClassificationStats(mask.float(), y.long(), thld=0.5)\n",
    "    print(s.get_all())\n",
    "    break"
   ],
   "metadata": {
    "collapsed": false
   }
  },
  {
   "cell_type": "code",
   "execution_count": 14,
   "outputs": [],
   "source": [
    "r = data.x[:, 0]\n",
    "phi = data.x[:, 1]\n",
    "z = data.x[:, 2]\n",
    "eta = data.x[:, 3]\n",
    "i = data.edge_index[0]\n",
    "j = data.edge_index[1]\n",
    "dz = z[i] - z[j]\n",
    "dr = r[i] - r[j]\n",
    "dphi = phi[i] - phi[j]\n",
    "deta = eta[i] - eta[j]\n",
    "dR = torch.sqrt(deta**2 + dphi **2)\n",
    "phi_slope = dphi / dR\n",
    "z0 = z[i] - r[i] * dz / dr"
   ],
   "metadata": {
    "collapsed": false
   }
  },
  {
   "cell_type": "code",
   "execution_count": 40,
   "outputs": [],
   "source": [
    "random = torch.rand(len(y), device=\"cuda\")"
   ],
   "metadata": {
    "collapsed": false
   }
  },
  {
   "cell_type": "code",
   "execution_count": 41,
   "outputs": [],
   "source": [
    "random_mask = random < 0.05"
   ],
   "metadata": {
    "collapsed": false
   }
  },
  {
   "cell_type": "code",
   "execution_count": 42,
   "outputs": [
    {
     "data": {
      "text/plain": "(tensor(413704, device='cuda:0'), tensor(7423546, device='cuda:0'))"
     },
     "execution_count": 42,
     "metadata": {},
     "output_type": "execute_result"
    }
   ],
   "source": [
    "y.sum(), (~y).sum()"
   ],
   "metadata": {
    "collapsed": false
   }
  },
  {
   "cell_type": "code",
   "execution_count": 43,
   "outputs": [
    {
     "data": {
      "text/plain": "(array([1.59141645, 0.94012081, 0.67743994, 0.5656541 , 0.51441439,\n        0.50179932, 0.54564253, 0.66380282, 0.93242848, 3.06728063]),\n array([0.        , 0.1       , 0.2       , 0.30000001, 0.40000001,\n        0.5       , 0.60000002, 0.69999999, 0.80000001, 0.89999998,\n        1.        ]),\n <BarContainer object of 10 artists>)"
     },
     "execution_count": 43,
     "metadata": {},
     "output_type": "execute_result"
    },
    {
     "data": {
      "text/plain": "<Figure size 640x480 with 1 Axes>",
      "image/png": "[encoded data removed]"
     },
     "metadata": {},
     "output_type": "display_data"
    }
   ],
   "source": [
    "import seaborn as sns\n",
    "import matplotlib.pyplot as plt\n",
    "fig, ax = plt.subplots()\n",
    "ax.hist(phi_slope[random_mask & y].abs().detach().cpu(), density=True, bins=10, alpha=0.5)\n",
    "ax.hist(phi_slope[random_mask & ~y].abs().detach().cpu(), density=True, bins=10, alpha=0.5)"
   ],
   "metadata": {
    "collapsed": false
   }
  },
  {
   "cell_type": "code",
   "execution_count": 54,
   "outputs": [
    {
     "data": {
      "text/plain": "(array([3.14513508, 0.73896294, 0.2509966 , 0.14163345, 0.09227744,\n        0.06053118, 0.03419579, 0.02155821, 0.01470931]),\n array([0.        , 0.22222222, 0.44444444, 0.66666667, 0.88888889,\n        1.11111111, 1.33333333, 1.55555556, 1.77777778, 2.        ]),\n <BarContainer object of 9 artists>)"
     },
     "execution_count": 54,
     "metadata": {},
     "output_type": "execute_result"
    },
    {
     "data": {
      "text/plain": "<Figure size 640x480 with 1 Axes>",
      "image/png": "[encoded data removed]"
     },
     "metadata": {},
     "output_type": "display_data"
    }
   ],
   "source": [
    "fig, ax = plt.subplots()\n",
    "bins=np.linspace(0, 2, 10)\n",
    "ax.hist(dR[random_mask & y].detach().cpu(), density=True, bins=bins, alpha=0.5)\n",
    "ax.hist(dR[random_mask & ~y].detach().cpu(), density=True, bins=bins, alpha=0.5)"
   ],
   "metadata": {
    "collapsed": false
   }
  },
  {
   "cell_type": "code",
   "execution_count": 47,
   "outputs": [
    {
     "ename": "AttributeError",
     "evalue": "'Tensor' object has no attribute 'nanmin'",
     "output_type": "error",
     "traceback": [
      "\u001B[0;31m---------------------------------------------------------------------------\u001B[0m",
      "\u001B[0;31mAttributeError\u001B[0m                            Traceback (most recent call last)",
      "Cell \u001B[0;32mIn[47], line 1\u001B[0m\n\u001B[0;32m----> 1\u001B[0m \u001B[43mz0\u001B[49m\u001B[43m[\u001B[49m\u001B[43mrandom_mask\u001B[49m\u001B[43m]\u001B[49m\u001B[38;5;241;43m.\u001B[39;49m\u001B[43mnanmin\u001B[49m(), z0[random_mask]\u001B[38;5;241m.\u001B[39mmax()\n",
      "\u001B[0;31mAttributeError\u001B[0m: 'Tensor' object has no attribute 'nanmin'"
     ]
    }
   ],
   "source": [
    "z0[random_mask].nanmin(), z0[random_mask].max()"
   ],
   "metadata": {
    "collapsed": false
   }
  },
  {
   "cell_type": "code",
   "execution_count": 50,
   "outputs": [
    {
     "data": {
      "text/plain": "tensor(-8.0192e+08, device='cuda:0')"
     },
     "execution_count": 50,
     "metadata": {},
     "output_type": "execute_result"
    }
   ],
   "source": [
    "z0[torch.isfinite(z0)].min()"
   ],
   "metadata": {
    "collapsed": false
   }
  },
  {
   "cell_type": "code",
   "execution_count": 53,
   "outputs": [
    {
     "data": {
      "text/plain": "<matplotlib.legend.Legend at 0x1472d15731f0>"
     },
     "execution_count": 53,
     "metadata": {},
     "output_type": "execute_result"
    },
    {
     "data": {
      "text/plain": "<Figure size 640x480 with 1 Axes>",
      "image/png": "[encoded data removed]"
     },
     "metadata": {},
     "output_type": "display_data"
    }
   ],
   "source": [
    "fig, ax = plt.subplots()\n",
    "bins=np.linspace(-200, 200, 10)\n",
    "ax.hist(z0[random_mask & y].detach().cpu(), density=True, bins=bins, alpha=0.5, label=\"True\")\n",
    "ax.hist(z0[random_mask & ~y].detach().cpu(), density=True, bins=bins, alpha=0.5, label=\"False\")\n",
    "ax.legend()"
   ],
   "metadata": {
    "collapsed": false
   }
  },
  {
   "cell_type": "code",
   "execution_count": null,
   "outputs": [],
   "source": [
    "\n",
    "mo = gc_trainable.trainer.evaluate_model(datasets[\"val\"][0])"
   ],
   "metadata": {
    "collapsed": false
   }
  },
  {
   "cell_type": "code",
   "execution_count": 88,
   "outputs": [],
   "source": [
    "data_for_ef = construct_graph(mo, radius=0.8, max_num_neighbors=256)\n",
    "data_for_ef.x = datasets[\"val\"][0].x\n",
    "data_for_ef.reconstructable = datasets[\"val\"][0].reconstructable\n",
    "data_for_ef.sector = datasets[\"val\"][0].sector"
   ],
   "metadata": {
    "collapsed": false
   }
  },
  {
   "cell_type": "code",
   "execution_count": 89,
   "outputs": [],
   "source": [
    "ef_mo = trainer.evaluate_model(data_for_ef)"
   ],
   "metadata": {
    "collapsed": false
   }
  },
  {
   "cell_type": "code",
   "execution_count": 97,
   "outputs": [
    {
     "data": {
      "text/plain": "(array([  22324.,   14266.,   14592.,   17648.,   24314.,   39156.,\n         112678.,  535270., 1224306., 2859920.]),\n array([5.85373833e-11, 9.99962837e-02, 1.99992567e-01, 2.99988836e-01,\n        3.99985135e-01, 4.99981403e-01, 5.99977672e-01, 6.99973941e-01,\n        7.99970269e-01, 8.99966538e-01, 9.99962807e-01]),\n <BarContainer object of 10 artists>)"
     },
     "execution_count": 97,
     "metadata": {},
     "output_type": "execute_result"
    },
    {
     "data": {
      "text/plain": "<Figure size 640x480 with 1 Axes>",
      "image/png": "[encoded data removed]"
     },
     "metadata": {},
     "output_type": "display_data"
    }
   ],
   "source": [
    "from matplotlib import pyplot as plt\n",
    "\n",
    "plt.hist(ef_mo[\"w\"].detach().cpu().numpy())"
   ],
   "metadata": {
    "collapsed": false
   }
  },
  {
   "cell_type": "code",
   "execution_count": 93,
   "outputs": [
    {
     "data": {
      "text/plain": "{'acc_pt0.9': 0.0965054044763815,\n 'TPR_pt0.9': 0.9975925336727118,\n 'TNR_pt0.9': 0.02026915776151404,\n 'FPR_pt0.9': 0.9797308422384859,\n 'FNR_pt0.9': 0.0024074663272881536,\n 'balanced_acc_pt0.9': 0.5089308457171129,\n 'F1_pt0.9': 0.14694588514653503,\n 'MCC_pt0.9': 0.03519922938978789,\n 'n_true_pt0.9': 377160,\n 'n_false_pt0.9': 4457906,\n 'n_predicted_true_pt0.9': 4743800,\n 'n_predicted_false_pt0.9': 91266,\n 'max_ba_pt0.9': 0.6116210337271276,\n 'max_ba_loc_pt0.9': 0.9346733689308167,\n 'max_f1_pt0.9': 0.19848486336811752,\n 'max_f1_loc_pt0.9': 0.9497487545013428,\n 'max_mcc_pt0.9': 0.12080150631042134,\n 'max_mcc_loc_pt0.9': 0.9396985173225403,\n 'tpr_eq_tnr_pt0.9': 0.6102698850438107,\n 'tpr_eq_tnr_loc_pt0.9': 0.9396985173225403,\n 'roc_auc_pt0.9': 0.6472032070159912,\n 'roc_auc_0.001FPR_pt0.9': 0.5004794597625732,\n 'roc_auc_0.01FPR_pt0.9': 0.5051791667938232,\n 'roc_auc_0.1FPR_pt0.9': 0.530479371547699}"
     },
     "execution_count": 93,
     "metadata": {},
     "output_type": "execute_result"
    }
   ],
   "source": [
    "trainer.evaluate_ec_metrics_with_pt_thld(ef_mo, 0.9, 0.5)"
   ],
   "metadata": {
    "collapsed": false
   }
  },
  {
   "cell_type": "code",
   "execution_count": null,
   "outputs": [],
   "source": [],
   "metadata": {
    "collapsed": false
   }
  }
 ],
 "metadata": {
  "kernelspec": {
   "display_name": "Python 3",
   "language": "python",
   "name": "python3"
  },
  "language_info": {
   "codemirror_mode": {
    "name": "ipython",
    "version": 2
   },
   "file_extension": ".py",
   "mimetype": "text/x-python",
   "name": "python",
   "nbconvert_exporter": "python",
   "pygments_lexer": "ipython2",
   "version": "2.7.6"
  }
 },
 "nbformat": 4,
 "nbformat_minor": 0
}
